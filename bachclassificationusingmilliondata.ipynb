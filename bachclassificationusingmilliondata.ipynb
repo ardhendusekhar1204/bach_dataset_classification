{
 "cells": [
  {
   "cell_type": "code",
   "execution_count": 1,
   "id": "dd2c5a0a",
   "metadata": {},
   "outputs": [
    {
     "name": "stderr",
     "output_type": "stream",
     "text": [
      "2023-04-14 21:00:09.730614: I tensorflow/core/platform/cpu_feature_guard.cc:193] This TensorFlow binary is optimized with oneAPI Deep Neural Network Library (oneDNN) to use the following CPU instructions in performance-critical operations:  AVX2 FMA\n",
      "To enable them in other operations, rebuild TensorFlow with the appropriate compiler flags.\n",
      "2023-04-14 21:00:11.667597: W tensorflow/compiler/xla/stream_executor/platform/default/dso_loader.cc:64] Could not load dynamic library 'libnvinfer.so.7'; dlerror: libnvinfer.so.7: cannot open shared object file: No such file or directory\n",
      "2023-04-14 21:00:11.668235: W tensorflow/compiler/xla/stream_executor/platform/default/dso_loader.cc:64] Could not load dynamic library 'libnvinfer_plugin.so.7'; dlerror: libnvinfer_plugin.so.7: cannot open shared object file: No such file or directory\n",
      "2023-04-14 21:00:11.668243: W tensorflow/compiler/tf2tensorrt/utils/py_utils.cc:38] TF-TRT Warning: Cannot dlopen some TensorRT libraries. If you would like to use Nvidia GPU with TensorRT, please make sure the missing libraries mentioned above are installed properly.\n"
     ]
    }
   ],
   "source": [
    "import os\n",
    "import torch\n",
    "import torch.nn as nn\n",
    "import pytorch_lightning as pl\n",
    "import torchvision\n",
    "import torchvision.transforms as transforms\n",
    "from torch.utils.data import DataLoader\n",
    "from bachfile import BachDataset\n",
    "import torch.optim as optim\n",
    "import time\n",
    "from tqdm import tqdm\n",
    "import torch.nn as nn\n",
    "import torch.nn.functional as F\n",
    "from torch.utils.tensorboard import SummaryWriter\n",
    "writer = SummaryWriter()\n",
    "import copy"
   ]
  },
  {
   "cell_type": "code",
   "execution_count": 2,
   "id": "9b70dfd4",
   "metadata": {},
   "outputs": [],
   "source": [
    "transform = transforms.Compose([transforms.ToTensor(),transforms.Resize([512, 384])])\n",
    "\n",
    "batch_size = 32\n",
    "\n",
    "train_dataset = BachDataset(path='/home/ardhendu/Desktop/bach_dataset_classification/data-train.csv',transforms=transform )\n",
    "val_dataset = BachDataset(path='/home/ardhendu/Desktop/bach_dataset_classification/data-test.csv' ,transforms=transform)\n",
    "\n",
    "trainloader = DataLoader(train_dataset, batch_size=batch_size, shuffle=True, num_workers=4, pin_memory=False)\n",
    "testloader = DataLoader(val_dataset, batch_size=batch_size, shuffle=False, num_workers=4, pin_memory=False)\n",
    "\n",
    "\n",
    "device = torch.device(\"cuda:1\" if torch.cuda.is_available() else \"cpu\")"
   ]
  },
  {
   "cell_type": "code",
   "execution_count": 3,
   "id": "48a0ea0c",
   "metadata": {},
   "outputs": [],
   "source": [
    "# load the model in a new file for inference\n",
    "resnet18_new = torchvision.models.resnet18()\n",
    "# note that we need to create exactly the same backbone in order to load the weights\n",
    "backbone_new = nn.Sequential(*list(resnet18_new.children())[:-1])\n",
    "ckpt = torch.load('/home/ardhendu/Desktop/model.pth')\n",
    "backbone_new.load_state_dict(ckpt['resnet18_parameters'])\n",
    "for param in backbone_new.parameters():\n",
    "    param.requires_grad = False\n",
    "#last_conv_channels = list(resnet18_new.children())[-1].in_features\n",
    "#print(last_conv_channels)"
   ]
  },
  {
   "cell_type": "code",
   "execution_count": 4,
   "id": "90e75c26",
   "metadata": {},
   "outputs": [],
   "source": [
    "#num_ftrs =resnet18_new.avgpool.in_features\n",
    "#backbone_new.fc1 = nn.Linear(1,16384)\n",
    "#backbone_new.fc2 = nn.Linear(16384,num_ftrs)\n",
    "#backbone_new.conv = nn.Conv2d(last_conv_channels, 512, 1)\n",
    "#backbone_new.avgpool1 = nn.AdaptiveAvgPool2d(1)\n",
    "backbone_new.fl = nn.Flatten()\n",
    "backbone_new.fc = nn.Linear(512,4)\n",
    "backbone_new = backbone_new.to(device)\n",
    "scaler = torch.cuda.amp.GradScaler()\n",
    "criterion = nn.CrossEntropyLoss()"
   ]
  },
  {
   "cell_type": "code",
   "execution_count": 5,
   "id": "4ee1cc9b",
   "metadata": {},
   "outputs": [],
   "source": [
    "optimizer = optim.AdamW(backbone_new.parameters(), lr=3e-4, betas=(0.9, 0.999), eps=1e-08, weight_decay=0.01, amsgrad=False)"
   ]
  },
  {
   "cell_type": "code",
   "execution_count": 6,
   "id": "305f0ef2",
   "metadata": {},
   "outputs": [
    {
     "name": "stderr",
     "output_type": "stream",
     "text": [
      "  0%|                                                     | 0/9 [00:00<?, ?it/s]/tmp/ipykernel_98917/1319659284.py:18: UserWarning: Implicit dimension choice for softmax has been deprecated. Change the call to include dim=X as an argument.\n",
      "  s_out= F.softmax(outputs)\n",
      "100%|█████████████████████████████████████████████| 9/9 [02:28<00:00, 16.51s/it]\n",
      "  0%|                                                     | 0/4 [00:00<?, ?it/s]/tmp/ipykernel_98917/1319659284.py:41: UserWarning: Implicit dimension choice for softmax has been deprecated. Change the call to include dim=X as an argument.\n",
      "  s_out= F.softmax(outputs)\n",
      "100%|█████████████████████████████████████████████| 4/4 [00:59<00:00, 14.91s/it]\n"
     ]
    },
    {
     "name": "stdout",
     "output_type": "stream",
     "text": [
      "Epoch : 1 - Train_loss : 1.3880 - Train_Acc: 0.2000 - Val_loss : 0.2735 - Val_Acc: 0.2667  - Time: 208.23814868927002\n",
      "\n"
     ]
    },
    {
     "name": "stderr",
     "output_type": "stream",
     "text": [
      "100%|█████████████████████████████████████████████| 9/9 [00:09<00:00,  1.06s/it]\n",
      "100%|█████████████████████████████████████████████| 4/4 [00:03<00:00,  1.05it/s]\n"
     ]
    },
    {
     "name": "stdout",
     "output_type": "stream",
     "text": [
      "Epoch : 2 - Train_loss : 1.3792 - Train_Acc: 0.3179 - Val_loss : 0.2717 - Val_Acc: 0.3000  - Time: 13.320768594741821\n",
      "\n"
     ]
    },
    {
     "name": "stderr",
     "output_type": "stream",
     "text": [
      "100%|█████████████████████████████████████████████| 9/9 [00:08<00:00,  1.11it/s]\n",
      "100%|█████████████████████████████████████████████| 4/4 [00:03<00:00,  1.19it/s]\n"
     ]
    },
    {
     "name": "stdout",
     "output_type": "stream",
     "text": [
      "Epoch : 3 - Train_loss : 1.3714 - Train_Acc: 0.3643 - Val_loss : 0.2699 - Val_Acc: 0.3583  - Time: 11.445244312286377\n",
      "\n"
     ]
    },
    {
     "name": "stderr",
     "output_type": "stream",
     "text": [
      "100%|█████████████████████████████████████████████| 9/9 [00:07<00:00,  1.17it/s]\n",
      "100%|█████████████████████████████████████████████| 4/4 [00:03<00:00,  1.20it/s]\n"
     ]
    },
    {
     "name": "stdout",
     "output_type": "stream",
     "text": [
      "Epoch : 4 - Train_loss : 1.3638 - Train_Acc: 0.4286 - Val_loss : 0.2679 - Val_Acc: 0.3667  - Time: 11.05362606048584\n",
      "\n"
     ]
    },
    {
     "name": "stderr",
     "output_type": "stream",
     "text": [
      "100%|█████████████████████████████████████████████| 9/9 [00:07<00:00,  1.18it/s]\n",
      "100%|█████████████████████████████████████████████| 4/4 [00:03<00:00,  1.09it/s]\n"
     ]
    },
    {
     "name": "stdout",
     "output_type": "stream",
     "text": [
      "Epoch : 5 - Train_loss : 1.3570 - Train_Acc: 0.4643 - Val_loss : 0.2661 - Val_Acc: 0.4167  - Time: 11.307958126068115\n",
      "\n"
     ]
    },
    {
     "name": "stderr",
     "output_type": "stream",
     "text": [
      "100%|█████████████████████████████████████████████| 9/9 [00:07<00:00,  1.24it/s]\n",
      "100%|█████████████████████████████████████████████| 4/4 [00:03<00:00,  1.05it/s]\n"
     ]
    },
    {
     "name": "stdout",
     "output_type": "stream",
     "text": [
      "Epoch : 6 - Train_loss : 1.3500 - Train_Acc: 0.4893 - Val_loss : 0.2648 - Val_Acc: 0.3917  - Time: 11.060571193695068\n",
      "\n"
     ]
    },
    {
     "name": "stderr",
     "output_type": "stream",
     "text": [
      "100%|█████████████████████████████████████████████| 9/9 [00:07<00:00,  1.15it/s]\n",
      "100%|█████████████████████████████████████████████| 4/4 [00:03<00:00,  1.05it/s]\n"
     ]
    },
    {
     "name": "stdout",
     "output_type": "stream",
     "text": [
      "Epoch : 7 - Train_loss : 1.3427 - Train_Acc: 0.5036 - Val_loss : 0.2632 - Val_Acc: 0.4250  - Time: 11.656954050064087\n",
      "\n"
     ]
    },
    {
     "name": "stderr",
     "output_type": "stream",
     "text": [
      "100%|█████████████████████████████████████████████| 9/9 [00:07<00:00,  1.15it/s]\n",
      "100%|█████████████████████████████████████████████| 4/4 [00:03<00:00,  1.15it/s]\n"
     ]
    },
    {
     "name": "stdout",
     "output_type": "stream",
     "text": [
      "Epoch : 8 - Train_loss : 1.3366 - Train_Acc: 0.5071 - Val_loss : 0.2614 - Val_Acc: 0.4250  - Time: 11.342333555221558\n",
      "\n"
     ]
    },
    {
     "name": "stderr",
     "output_type": "stream",
     "text": [
      "100%|█████████████████████████████████████████████| 9/9 [00:07<00:00,  1.17it/s]\n",
      "100%|█████████████████████████████████████████████| 4/4 [00:03<00:00,  1.15it/s]\n"
     ]
    },
    {
     "name": "stdout",
     "output_type": "stream",
     "text": [
      "Epoch : 9 - Train_loss : 1.3301 - Train_Acc: 0.5143 - Val_loss : 0.2600 - Val_Acc: 0.4083  - Time: 11.167037725448608\n",
      "\n"
     ]
    },
    {
     "name": "stderr",
     "output_type": "stream",
     "text": [
      "100%|█████████████████████████████████████████████| 9/9 [00:07<00:00,  1.13it/s]\n",
      "100%|█████████████████████████████████████████████| 4/4 [00:03<00:00,  1.13it/s]\n"
     ]
    },
    {
     "name": "stdout",
     "output_type": "stream",
     "text": [
      "Epoch : 10 - Train_loss : 1.3230 - Train_Acc: 0.5500 - Val_loss : 0.2584 - Val_Acc: 0.4083  - Time: 11.533363103866577\n",
      "\n"
     ]
    },
    {
     "name": "stderr",
     "output_type": "stream",
     "text": [
      "100%|█████████████████████████████████████████████| 9/9 [00:07<00:00,  1.16it/s]\n",
      "100%|█████████████████████████████████████████████| 4/4 [00:03<00:00,  1.14it/s]\n"
     ]
    },
    {
     "name": "stdout",
     "output_type": "stream",
     "text": [
      "Epoch : 11 - Train_loss : 1.3163 - Train_Acc: 0.5250 - Val_loss : 0.2569 - Val_Acc: 0.4333  - Time: 11.247343063354492\n",
      "\n"
     ]
    },
    {
     "name": "stderr",
     "output_type": "stream",
     "text": [
      "100%|█████████████████████████████████████████████| 9/9 [00:07<00:00,  1.20it/s]\n",
      "100%|█████████████████████████████████████████████| 4/4 [00:03<00:00,  1.04it/s]\n"
     ]
    },
    {
     "name": "stdout",
     "output_type": "stream",
     "text": [
      "Epoch : 12 - Train_loss : 1.3118 - Train_Acc: 0.5214 - Val_loss : 0.2555 - Val_Acc: 0.4333  - Time: 11.389342069625854\n",
      "\n"
     ]
    },
    {
     "name": "stderr",
     "output_type": "stream",
     "text": [
      "100%|█████████████████████████████████████████████| 9/9 [00:07<00:00,  1.27it/s]\n",
      "100%|█████████████████████████████████████████████| 4/4 [00:03<00:00,  1.05it/s]\n"
     ]
    },
    {
     "name": "stdout",
     "output_type": "stream",
     "text": [
      "Epoch : 13 - Train_loss : 1.3060 - Train_Acc: 0.5464 - Val_loss : 0.2542 - Val_Acc: 0.4250  - Time: 10.902251720428467\n",
      "\n"
     ]
    },
    {
     "name": "stderr",
     "output_type": "stream",
     "text": [
      "100%|█████████████████████████████████████████████| 9/9 [00:07<00:00,  1.14it/s]\n",
      "100%|█████████████████████████████████████████████| 4/4 [00:03<00:00,  1.00it/s]\n"
     ]
    },
    {
     "name": "stdout",
     "output_type": "stream",
     "text": [
      "Epoch : 14 - Train_loss : 1.3007 - Train_Acc: 0.5321 - Val_loss : 0.2527 - Val_Acc: 0.4417  - Time: 11.901476621627808\n",
      "\n"
     ]
    },
    {
     "name": "stderr",
     "output_type": "stream",
     "text": [
      "100%|█████████████████████████████████████████████| 9/9 [00:07<00:00,  1.15it/s]\n",
      "100%|█████████████████████████████████████████████| 4/4 [00:03<00:00,  1.20it/s]\n"
     ]
    },
    {
     "name": "stdout",
     "output_type": "stream",
     "text": [
      "Epoch : 15 - Train_loss : 1.2966 - Train_Acc: 0.5250 - Val_loss : 0.2514 - Val_Acc: 0.4083  - Time: 11.174543380737305\n",
      "\n"
     ]
    },
    {
     "name": "stderr",
     "output_type": "stream",
     "text": [
      "100%|█████████████████████████████████████████████| 9/9 [00:07<00:00,  1.15it/s]\n",
      "100%|█████████████████████████████████████████████| 4/4 [00:03<00:00,  1.15it/s]\n"
     ]
    },
    {
     "name": "stdout",
     "output_type": "stream",
     "text": [
      "Epoch : 16 - Train_loss : 1.2920 - Train_Acc: 0.5357 - Val_loss : 0.2502 - Val_Acc: 0.4250  - Time: 11.335426807403564\n",
      "\n"
     ]
    },
    {
     "name": "stderr",
     "output_type": "stream",
     "text": [
      "100%|█████████████████████████████████████████████| 9/9 [00:08<00:00,  1.11it/s]\n",
      "100%|█████████████████████████████████████████████| 4/4 [00:03<00:00,  1.18it/s]\n"
     ]
    },
    {
     "name": "stdout",
     "output_type": "stream",
     "text": [
      "Epoch : 17 - Train_loss : 1.2840 - Train_Acc: 0.5536 - Val_loss : 0.2491 - Val_Acc: 0.4083  - Time: 11.501712560653687\n",
      "\n"
     ]
    },
    {
     "name": "stderr",
     "output_type": "stream",
     "text": [
      "100%|█████████████████████████████████████████████| 9/9 [00:07<00:00,  1.21it/s]\n",
      "100%|█████████████████████████████████████████████| 4/4 [00:03<00:00,  1.16it/s]\n"
     ]
    },
    {
     "name": "stdout",
     "output_type": "stream",
     "text": [
      "Epoch : 18 - Train_loss : 1.2821 - Train_Acc: 0.5429 - Val_loss : 0.2480 - Val_Acc: 0.4000  - Time: 10.908556699752808\n",
      "\n"
     ]
    },
    {
     "name": "stderr",
     "output_type": "stream",
     "text": [
      "100%|█████████████████████████████████████████████| 9/9 [00:07<00:00,  1.16it/s]\n",
      "100%|█████████████████████████████████████████████| 4/4 [00:03<00:00,  1.09it/s]\n"
     ]
    },
    {
     "name": "stdout",
     "output_type": "stream",
     "text": [
      "Epoch : 19 - Train_loss : 1.2710 - Train_Acc: 0.5357 - Val_loss : 0.2467 - Val_Acc: 0.4167  - Time: 11.427788019180298\n",
      "\n"
     ]
    },
    {
     "name": "stderr",
     "output_type": "stream",
     "text": [
      "100%|█████████████████████████████████████████████| 9/9 [00:07<00:00,  1.17it/s]\n",
      "100%|█████████████████████████████████████████████| 4/4 [00:03<00:00,  1.03it/s]\n"
     ]
    },
    {
     "name": "stdout",
     "output_type": "stream",
     "text": [
      "Epoch : 20 - Train_loss : 1.2753 - Train_Acc: 0.5321 - Val_loss : 0.2456 - Val_Acc: 0.4167  - Time: 11.625751972198486\n",
      "\n"
     ]
    },
    {
     "name": "stderr",
     "output_type": "stream",
     "text": [
      "100%|█████████████████████████████████████████████| 9/9 [00:07<00:00,  1.16it/s]\n",
      "100%|█████████████████████████████████████████████| 4/4 [00:04<00:00,  1.01s/it]\n"
     ]
    },
    {
     "name": "stdout",
     "output_type": "stream",
     "text": [
      "Epoch : 21 - Train_loss : 1.2679 - Train_Acc: 0.5286 - Val_loss : 0.2444 - Val_Acc: 0.4083  - Time: 11.784087657928467\n",
      "\n"
     ]
    },
    {
     "name": "stderr",
     "output_type": "stream",
     "text": [
      "100%|█████████████████████████████████████████████| 9/9 [00:07<00:00,  1.17it/s]\n",
      "100%|█████████████████████████████████████████████| 4/4 [00:03<00:00,  1.17it/s]\n"
     ]
    },
    {
     "name": "stdout",
     "output_type": "stream",
     "text": [
      "Epoch : 22 - Train_loss : 1.2616 - Train_Acc: 0.5357 - Val_loss : 0.2436 - Val_Acc: 0.4250  - Time: 11.098946571350098\n",
      "\n"
     ]
    },
    {
     "name": "stderr",
     "output_type": "stream",
     "text": [
      "100%|█████████████████████████████████████████████| 9/9 [00:07<00:00,  1.14it/s]\n",
      "100%|█████████████████████████████████████████████| 4/4 [00:03<00:00,  1.12it/s]\n"
     ]
    },
    {
     "name": "stdout",
     "output_type": "stream",
     "text": [
      "Epoch : 23 - Train_loss : 1.2521 - Train_Acc: 0.5607 - Val_loss : 0.2427 - Val_Acc: 0.4083  - Time: 11.441231966018677\n",
      "\n"
     ]
    },
    {
     "name": "stderr",
     "output_type": "stream",
     "text": [
      "100%|█████████████████████████████████████████████| 9/9 [00:08<00:00,  1.05it/s]\n",
      "100%|█████████████████████████████████████████████| 4/4 [00:03<00:00,  1.14it/s]\n"
     ]
    },
    {
     "name": "stdout",
     "output_type": "stream",
     "text": [
      "Epoch : 24 - Train_loss : 1.2530 - Train_Acc: 0.5393 - Val_loss : 0.2417 - Val_Acc: 0.4083  - Time: 12.072819471359253\n",
      "\n"
     ]
    },
    {
     "name": "stderr",
     "output_type": "stream",
     "text": [
      "100%|█████████████████████████████████████████████| 9/9 [00:08<00:00,  1.10it/s]\n",
      "100%|█████████████████████████████████████████████| 4/4 [00:03<00:00,  1.13it/s]\n"
     ]
    },
    {
     "name": "stdout",
     "output_type": "stream",
     "text": [
      "Epoch : 25 - Train_loss : 1.2503 - Train_Acc: 0.5429 - Val_loss : 0.2407 - Val_Acc: 0.4167  - Time: 11.728245258331299\n",
      "\n"
     ]
    },
    {
     "name": "stderr",
     "output_type": "stream",
     "text": [
      "100%|█████████████████████████████████████████████| 9/9 [00:07<00:00,  1.14it/s]\n",
      "100%|█████████████████████████████████████████████| 4/4 [00:03<00:00,  1.05it/s]\n"
     ]
    },
    {
     "name": "stdout",
     "output_type": "stream",
     "text": [
      "Epoch : 26 - Train_loss : 1.2463 - Train_Acc: 0.5536 - Val_loss : 0.2397 - Val_Acc: 0.4083  - Time: 11.720293045043945\n",
      "\n"
     ]
    },
    {
     "name": "stderr",
     "output_type": "stream",
     "text": [
      "100%|█████████████████████████████████████████████| 9/9 [00:07<00:00,  1.16it/s]\n",
      "100%|█████████████████████████████████████████████| 4/4 [00:03<00:00,  1.03it/s]\n"
     ]
    },
    {
     "name": "stdout",
     "output_type": "stream",
     "text": [
      "Epoch : 27 - Train_loss : 1.2403 - Train_Acc: 0.5357 - Val_loss : 0.2388 - Val_Acc: 0.4083  - Time: 11.617459535598755\n",
      "\n"
     ]
    },
    {
     "name": "stderr",
     "output_type": "stream",
     "text": [
      "100%|█████████████████████████████████████████████| 9/9 [00:08<00:00,  1.12it/s]\n",
      "100%|█████████████████████████████████████████████| 4/4 [00:04<00:00,  1.05s/it]\n"
     ]
    },
    {
     "name": "stdout",
     "output_type": "stream",
     "text": [
      "Epoch : 28 - Train_loss : 1.2378 - Train_Acc: 0.5286 - Val_loss : 0.2378 - Val_Acc: 0.4083  - Time: 12.225766658782959\n",
      "\n"
     ]
    },
    {
     "name": "stderr",
     "output_type": "stream",
     "text": [
      "100%|█████████████████████████████████████████████| 9/9 [00:08<00:00,  1.11it/s]\n",
      "100%|█████████████████████████████████████████████| 4/4 [00:03<00:00,  1.16it/s]\n"
     ]
    },
    {
     "name": "stdout",
     "output_type": "stream",
     "text": [
      "Epoch : 29 - Train_loss : 1.2353 - Train_Acc: 0.5357 - Val_loss : 0.2370 - Val_Acc: 0.4083  - Time: 11.544484853744507\n",
      "\n"
     ]
    },
    {
     "name": "stderr",
     "output_type": "stream",
     "text": [
      "100%|█████████████████████████████████████████████| 9/9 [00:07<00:00,  1.17it/s]\n",
      "100%|█████████████████████████████████████████████| 4/4 [00:03<00:00,  1.15it/s]\n"
     ]
    },
    {
     "name": "stdout",
     "output_type": "stream",
     "text": [
      "Epoch : 30 - Train_loss : 1.2363 - Train_Acc: 0.5250 - Val_loss : 0.2363 - Val_Acc: 0.4000  - Time: 11.196352243423462\n",
      "\n"
     ]
    },
    {
     "name": "stderr",
     "output_type": "stream",
     "text": [
      "100%|█████████████████████████████████████████████| 9/9 [00:08<00:00,  1.11it/s]\n",
      "100%|█████████████████████████████████████████████| 4/4 [00:03<00:00,  1.18it/s]\n"
     ]
    },
    {
     "name": "stdout",
     "output_type": "stream",
     "text": [
      "Epoch : 31 - Train_loss : 1.2269 - Train_Acc: 0.5714 - Val_loss : 0.2357 - Val_Acc: 0.4000  - Time: 11.51194143295288\n",
      "\n"
     ]
    },
    {
     "name": "stderr",
     "output_type": "stream",
     "text": [
      "100%|█████████████████████████████████████████████| 9/9 [00:07<00:00,  1.13it/s]\n",
      "100%|█████████████████████████████████████████████| 4/4 [00:03<00:00,  1.13it/s]\n"
     ]
    },
    {
     "name": "stdout",
     "output_type": "stream",
     "text": [
      "Epoch : 32 - Train_loss : 1.2216 - Train_Acc: 0.5393 - Val_loss : 0.2350 - Val_Acc: 0.4000  - Time: 11.525274515151978\n",
      "\n"
     ]
    },
    {
     "name": "stderr",
     "output_type": "stream",
     "text": [
      "100%|█████████████████████████████████████████████| 9/9 [00:07<00:00,  1.16it/s]\n",
      "100%|█████████████████████████████████████████████| 4/4 [00:03<00:00,  1.11it/s]\n"
     ]
    },
    {
     "name": "stdout",
     "output_type": "stream",
     "text": [
      "Epoch : 33 - Train_loss : 1.2189 - Train_Acc: 0.5714 - Val_loss : 0.2342 - Val_Acc: 0.4000  - Time: 11.354172945022583\n",
      "\n"
     ]
    },
    {
     "name": "stderr",
     "output_type": "stream",
     "text": [
      "100%|█████████████████████████████████████████████| 9/9 [00:07<00:00,  1.27it/s]\n",
      "100%|█████████████████████████████████████████████| 4/4 [00:03<00:00,  1.07it/s]\n"
     ]
    },
    {
     "name": "stdout",
     "output_type": "stream",
     "text": [
      "Epoch : 34 - Train_loss : 1.2130 - Train_Acc: 0.5464 - Val_loss : 0.2334 - Val_Acc: 0.4000  - Time: 10.850866794586182\n",
      "\n"
     ]
    },
    {
     "name": "stderr",
     "output_type": "stream",
     "text": [
      "100%|█████████████████████████████████████████████| 9/9 [00:07<00:00,  1.18it/s]\n",
      "100%|█████████████████████████████████████████████| 4/4 [00:04<00:00,  1.02s/it]\n"
     ]
    },
    {
     "name": "stdout",
     "output_type": "stream",
     "text": [
      "Epoch : 35 - Train_loss : 1.2144 - Train_Acc: 0.5179 - Val_loss : 0.2326 - Val_Acc: 0.4000  - Time: 11.685378313064575\n",
      "\n"
     ]
    },
    {
     "name": "stderr",
     "output_type": "stream",
     "text": [
      "100%|█████████████████████████████████████████████| 9/9 [00:07<00:00,  1.14it/s]\n",
      "100%|█████████████████████████████████████████████| 4/4 [00:03<00:00,  1.22it/s]\n"
     ]
    },
    {
     "name": "stdout",
     "output_type": "stream",
     "text": [
      "Epoch : 36 - Train_loss : 1.2080 - Train_Acc: 0.5607 - Val_loss : 0.2319 - Val_Acc: 0.4083  - Time: 11.181577444076538\n",
      "\n"
     ]
    },
    {
     "name": "stderr",
     "output_type": "stream",
     "text": [
      "100%|█████████████████████████████████████████████| 9/9 [00:07<00:00,  1.18it/s]\n",
      "100%|█████████████████████████████████████████████| 4/4 [00:03<00:00,  1.15it/s]\n"
     ]
    },
    {
     "name": "stdout",
     "output_type": "stream",
     "text": [
      "Epoch : 37 - Train_loss : 1.2139 - Train_Acc: 0.5250 - Val_loss : 0.2312 - Val_Acc: 0.4167  - Time: 11.139508485794067\n",
      "\n"
     ]
    },
    {
     "name": "stderr",
     "output_type": "stream",
     "text": [
      "100%|█████████████████████████████████████████████| 9/9 [00:08<00:00,  1.10it/s]\n",
      "100%|█████████████████████████████████████████████| 4/4 [00:03<00:00,  1.16it/s]\n"
     ]
    },
    {
     "name": "stdout",
     "output_type": "stream",
     "text": [
      "Epoch : 38 - Train_loss : 1.2022 - Train_Acc: 0.5357 - Val_loss : 0.2306 - Val_Acc: 0.4083  - Time: 11.652299404144287\n",
      "\n"
     ]
    },
    {
     "name": "stderr",
     "output_type": "stream",
     "text": [
      "100%|█████████████████████████████████████████████| 9/9 [00:07<00:00,  1.15it/s]\n",
      "100%|█████████████████████████████████████████████| 4/4 [00:03<00:00,  1.19it/s]\n"
     ]
    },
    {
     "name": "stdout",
     "output_type": "stream",
     "text": [
      "Epoch : 39 - Train_loss : 1.2026 - Train_Acc: 0.5464 - Val_loss : 0.2300 - Val_Acc: 0.4083  - Time: 11.194225549697876\n",
      "\n"
     ]
    },
    {
     "name": "stderr",
     "output_type": "stream",
     "text": [
      "100%|█████████████████████████████████████████████| 9/9 [00:07<00:00,  1.15it/s]\n",
      "100%|█████████████████████████████████████████████| 4/4 [00:03<00:00,  1.09it/s]\n"
     ]
    },
    {
     "name": "stdout",
     "output_type": "stream",
     "text": [
      "Epoch : 40 - Train_loss : 1.2020 - Train_Acc: 0.5607 - Val_loss : 0.2294 - Val_Acc: 0.4083  - Time: 11.483591318130493\n",
      "\n"
     ]
    },
    {
     "name": "stderr",
     "output_type": "stream",
     "text": [
      "100%|█████████████████████████████████████████████| 9/9 [00:07<00:00,  1.23it/s]\n",
      "100%|█████████████████████████████████████████████| 4/4 [00:03<00:00,  1.06it/s]\n"
     ]
    },
    {
     "name": "stdout",
     "output_type": "stream",
     "text": [
      "Epoch : 41 - Train_loss : 1.2000 - Train_Acc: 0.5429 - Val_loss : 0.2289 - Val_Acc: 0.4083  - Time: 11.09412932395935\n",
      "\n"
     ]
    },
    {
     "name": "stderr",
     "output_type": "stream",
     "text": [
      "100%|█████████████████████████████████████████████| 9/9 [00:07<00:00,  1.16it/s]\n",
      "100%|█████████████████████████████████████████████| 4/4 [00:03<00:00,  1.03it/s]\n"
     ]
    },
    {
     "name": "stdout",
     "output_type": "stream",
     "text": [
      "Epoch : 42 - Train_loss : 1.1958 - Train_Acc: 0.5357 - Val_loss : 0.2283 - Val_Acc: 0.4083  - Time: 11.657656908035278\n",
      "\n"
     ]
    },
    {
     "name": "stderr",
     "output_type": "stream",
     "text": [
      "100%|█████████████████████████████████████████████| 9/9 [00:08<00:00,  1.12it/s]\n",
      "100%|█████████████████████████████████████████████| 4/4 [00:03<00:00,  1.18it/s]\n"
     ]
    },
    {
     "name": "stdout",
     "output_type": "stream",
     "text": [
      "Epoch : 43 - Train_loss : 1.1965 - Train_Acc: 0.5286 - Val_loss : 0.2276 - Val_Acc: 0.4167  - Time: 11.434936285018921\n",
      "\n"
     ]
    },
    {
     "name": "stderr",
     "output_type": "stream",
     "text": [
      "100%|█████████████████████████████████████████████| 9/9 [00:07<00:00,  1.17it/s]\n",
      "100%|█████████████████████████████████████████████| 4/4 [00:03<00:00,  1.18it/s]\n"
     ]
    },
    {
     "name": "stdout",
     "output_type": "stream",
     "text": [
      "Epoch : 44 - Train_loss : 1.1884 - Train_Acc: 0.5464 - Val_loss : 0.2270 - Val_Acc: 0.4083  - Time: 11.06588888168335\n",
      "\n"
     ]
    },
    {
     "name": "stderr",
     "output_type": "stream",
     "text": [
      "100%|█████████████████████████████████████████████| 9/9 [00:08<00:00,  1.10it/s]\n",
      "100%|█████████████████████████████████████████████| 4/4 [00:03<00:00,  1.19it/s]\n"
     ]
    },
    {
     "name": "stdout",
     "output_type": "stream",
     "text": [
      "Epoch : 45 - Train_loss : 1.1966 - Train_Acc: 0.5607 - Val_loss : 0.2264 - Val_Acc: 0.4083  - Time: 11.546858549118042\n",
      "\n"
     ]
    },
    {
     "name": "stderr",
     "output_type": "stream",
     "text": [
      "100%|█████████████████████████████████████████████| 9/9 [00:07<00:00,  1.17it/s]\n",
      "100%|█████████████████████████████████████████████| 4/4 [00:03<00:00,  1.08it/s]\n"
     ]
    },
    {
     "name": "stdout",
     "output_type": "stream",
     "text": [
      "Epoch : 46 - Train_loss : 1.1867 - Train_Acc: 0.5643 - Val_loss : 0.2260 - Val_Acc: 0.4000  - Time: 11.388176918029785\n",
      "\n"
     ]
    },
    {
     "name": "stderr",
     "output_type": "stream",
     "text": [
      "100%|█████████████████████████████████████████████| 9/9 [00:07<00:00,  1.22it/s]\n",
      "100%|█████████████████████████████████████████████| 4/4 [00:03<00:00,  1.05it/s]\n"
     ]
    },
    {
     "name": "stdout",
     "output_type": "stream",
     "text": [
      "Epoch : 47 - Train_loss : 1.1861 - Train_Acc: 0.5500 - Val_loss : 0.2256 - Val_Acc: 0.4083  - Time: 11.162766456604004\n",
      "\n"
     ]
    },
    {
     "name": "stderr",
     "output_type": "stream",
     "text": [
      "100%|█████████████████████████████████████████████| 9/9 [00:07<00:00,  1.20it/s]\n",
      "100%|█████████████████████████████████████████████| 4/4 [00:03<00:00,  1.06it/s]\n"
     ]
    },
    {
     "name": "stdout",
     "output_type": "stream",
     "text": [
      "Epoch : 48 - Train_loss : 1.1788 - Train_Acc: 0.5357 - Val_loss : 0.2250 - Val_Acc: 0.4083  - Time: 11.273479461669922\n",
      "\n"
     ]
    },
    {
     "name": "stderr",
     "output_type": "stream",
     "text": [
      "100%|█████████████████████████████████████████████| 9/9 [00:07<00:00,  1.15it/s]\n",
      "100%|█████████████████████████████████████████████| 4/4 [00:03<00:00,  1.03it/s]\n"
     ]
    },
    {
     "name": "stdout",
     "output_type": "stream",
     "text": [
      "Epoch : 49 - Train_loss : 1.1770 - Train_Acc: 0.5536 - Val_loss : 0.2246 - Val_Acc: 0.4083  - Time: 11.723745107650757\n",
      "\n"
     ]
    },
    {
     "name": "stderr",
     "output_type": "stream",
     "text": [
      "100%|█████████████████████████████████████████████| 9/9 [00:08<00:00,  1.12it/s]\n",
      "100%|█████████████████████████████████████████████| 4/4 [00:03<00:00,  1.12it/s]\n"
     ]
    },
    {
     "name": "stdout",
     "output_type": "stream",
     "text": [
      "Epoch : 50 - Train_loss : 1.1832 - Train_Acc: 0.5286 - Val_loss : 0.2243 - Val_Acc: 0.4083  - Time: 11.636233806610107\n",
      "\n"
     ]
    },
    {
     "name": "stderr",
     "output_type": "stream",
     "text": [
      "100%|█████████████████████████████████████████████| 9/9 [00:08<00:00,  1.12it/s]\n",
      "100%|█████████████████████████████████████████████| 4/4 [00:03<00:00,  1.10it/s]\n"
     ]
    },
    {
     "name": "stdout",
     "output_type": "stream",
     "text": [
      "Epoch : 51 - Train_loss : 1.1748 - Train_Acc: 0.5393 - Val_loss : 0.2237 - Val_Acc: 0.4083  - Time: 11.653700351715088\n",
      "\n"
     ]
    },
    {
     "name": "stderr",
     "output_type": "stream",
     "text": [
      "100%|█████████████████████████████████████████████| 9/9 [00:08<00:00,  1.12it/s]\n",
      "100%|█████████████████████████████████████████████| 4/4 [00:03<00:00,  1.08it/s]\n"
     ]
    },
    {
     "name": "stdout",
     "output_type": "stream",
     "text": [
      "Epoch : 52 - Train_loss : 1.1743 - Train_Acc: 0.5321 - Val_loss : 0.2233 - Val_Acc: 0.4083  - Time: 11.70874810218811\n",
      "\n"
     ]
    },
    {
     "name": "stderr",
     "output_type": "stream",
     "text": [
      "100%|█████████████████████████████████████████████| 9/9 [00:07<00:00,  1.17it/s]\n",
      "100%|█████████████████████████████████████████████| 4/4 [00:03<00:00,  1.05it/s]\n"
     ]
    },
    {
     "name": "stdout",
     "output_type": "stream",
     "text": [
      "Epoch : 53 - Train_loss : 1.1720 - Train_Acc: 0.5429 - Val_loss : 0.2228 - Val_Acc: 0.4167  - Time: 11.49944019317627\n",
      "\n"
     ]
    },
    {
     "name": "stderr",
     "output_type": "stream",
     "text": [
      "100%|█████████████████████████████████████████████| 9/9 [00:07<00:00,  1.23it/s]\n",
      "100%|█████████████████████████████████████████████| 4/4 [00:03<00:00,  1.06it/s]\n"
     ]
    },
    {
     "name": "stdout",
     "output_type": "stream",
     "text": [
      "Epoch : 54 - Train_loss : 1.1603 - Train_Acc: 0.5679 - Val_loss : 0.2226 - Val_Acc: 0.4167  - Time: 11.0869722366333\n",
      "\n"
     ]
    },
    {
     "name": "stderr",
     "output_type": "stream",
     "text": [
      "100%|█████████████████████████████████████████████| 9/9 [00:07<00:00,  1.20it/s]\n",
      "100%|█████████████████████████████████████████████| 4/4 [00:03<00:00,  1.13it/s]\n"
     ]
    },
    {
     "name": "stdout",
     "output_type": "stream",
     "text": [
      "Epoch : 55 - Train_loss : 1.1704 - Train_Acc: 0.5214 - Val_loss : 0.2221 - Val_Acc: 0.4083  - Time: 11.022073745727539\n",
      "\n"
     ]
    },
    {
     "name": "stderr",
     "output_type": "stream",
     "text": [
      "100%|█████████████████████████████████████████████| 9/9 [00:08<00:00,  1.10it/s]\n",
      "100%|█████████████████████████████████████████████| 4/4 [00:03<00:00,  1.06it/s]\n"
     ]
    },
    {
     "name": "stdout",
     "output_type": "stream",
     "text": [
      "Epoch : 56 - Train_loss : 1.1563 - Train_Acc: 0.5536 - Val_loss : 0.2217 - Val_Acc: 0.4083  - Time: 11.964042663574219\n",
      "\n"
     ]
    },
    {
     "name": "stderr",
     "output_type": "stream",
     "text": [
      "100%|█████████████████████████████████████████████| 9/9 [00:07<00:00,  1.14it/s]\n",
      "100%|█████████████████████████████████████████████| 4/4 [00:03<00:00,  1.16it/s]\n"
     ]
    },
    {
     "name": "stdout",
     "output_type": "stream",
     "text": [
      "Epoch : 57 - Train_loss : 1.1616 - Train_Acc: 0.5357 - Val_loss : 0.2214 - Val_Acc: 0.4000  - Time: 11.383905172348022\n",
      "\n"
     ]
    },
    {
     "name": "stderr",
     "output_type": "stream",
     "text": [
      "100%|█████████████████████████████████████████████| 9/9 [00:08<00:00,  1.12it/s]\n",
      "100%|█████████████████████████████████████████████| 4/4 [00:03<00:00,  1.15it/s]\n"
     ]
    },
    {
     "name": "stdout",
     "output_type": "stream",
     "text": [
      "Epoch : 58 - Train_loss : 1.1601 - Train_Acc: 0.5643 - Val_loss : 0.2211 - Val_Acc: 0.4000  - Time: 11.536364555358887\n",
      "\n"
     ]
    },
    {
     "name": "stderr",
     "output_type": "stream",
     "text": [
      "100%|█████████████████████████████████████████████| 9/9 [00:07<00:00,  1.13it/s]\n",
      "100%|█████████████████████████████████████████████| 4/4 [00:03<00:00,  1.09it/s]\n"
     ]
    },
    {
     "name": "stdout",
     "output_type": "stream",
     "text": [
      "Epoch : 59 - Train_loss : 1.1602 - Train_Acc: 0.5143 - Val_loss : 0.2206 - Val_Acc: 0.4083  - Time: 11.604158163070679\n",
      "\n"
     ]
    },
    {
     "name": "stderr",
     "output_type": "stream",
     "text": [
      "100%|█████████████████████████████████████████████| 9/9 [00:07<00:00,  1.18it/s]\n",
      "100%|█████████████████████████████████████████████| 4/4 [00:03<00:00,  1.04it/s]\n"
     ]
    },
    {
     "name": "stdout",
     "output_type": "stream",
     "text": [
      "Epoch : 60 - Train_loss : 1.1534 - Train_Acc: 0.5679 - Val_loss : 0.2203 - Val_Acc: 0.4083  - Time: 11.50147557258606\n",
      "\n"
     ]
    },
    {
     "name": "stderr",
     "output_type": "stream",
     "text": [
      "100%|█████████████████████████████████████████████| 9/9 [00:07<00:00,  1.21it/s]\n",
      "100%|█████████████████████████████████████████████| 4/4 [00:03<00:00,  1.07it/s]\n"
     ]
    },
    {
     "name": "stdout",
     "output_type": "stream",
     "text": [
      "Epoch : 61 - Train_loss : 1.1508 - Train_Acc: 0.5500 - Val_loss : 0.2198 - Val_Acc: 0.4083  - Time: 11.176124572753906\n",
      "\n"
     ]
    },
    {
     "name": "stderr",
     "output_type": "stream",
     "text": [
      "100%|█████████████████████████████████████████████| 9/9 [00:07<00:00,  1.17it/s]\n",
      "100%|█████████████████████████████████████████████| 4/4 [00:03<00:00,  1.13it/s]\n"
     ]
    },
    {
     "name": "stdout",
     "output_type": "stream",
     "text": [
      "Epoch : 62 - Train_loss : 1.1468 - Train_Acc: 0.5429 - Val_loss : 0.2194 - Val_Acc: 0.4083  - Time: 11.224846124649048\n",
      "\n"
     ]
    },
    {
     "name": "stderr",
     "output_type": "stream",
     "text": [
      "100%|█████████████████████████████████████████████| 9/9 [00:08<00:00,  1.09it/s]\n",
      "100%|█████████████████████████████████████████████| 4/4 [00:03<00:00,  1.06it/s]\n"
     ]
    },
    {
     "name": "stdout",
     "output_type": "stream",
     "text": [
      "Epoch : 63 - Train_loss : 1.1541 - Train_Acc: 0.5571 - Val_loss : 0.2193 - Val_Acc: 0.4000  - Time: 12.076353549957275\n",
      "\n"
     ]
    },
    {
     "name": "stderr",
     "output_type": "stream",
     "text": [
      "100%|█████████████████████████████████████████████| 9/9 [00:08<00:00,  1.10it/s]\n",
      "100%|█████████████████████████████████████████████| 4/4 [00:03<00:00,  1.13it/s]\n"
     ]
    },
    {
     "name": "stdout",
     "output_type": "stream",
     "text": [
      "Epoch : 64 - Train_loss : 1.1528 - Train_Acc: 0.5536 - Val_loss : 0.2189 - Val_Acc: 0.4000  - Time: 11.71575927734375\n",
      "\n"
     ]
    },
    {
     "name": "stderr",
     "output_type": "stream",
     "text": [
      "100%|█████████████████████████████████████████████| 9/9 [00:07<00:00,  1.14it/s]\n",
      "100%|█████████████████████████████████████████████| 4/4 [00:03<00:00,  1.12it/s]\n"
     ]
    },
    {
     "name": "stdout",
     "output_type": "stream",
     "text": [
      "Epoch : 65 - Train_loss : 1.1523 - Train_Acc: 0.5643 - Val_loss : 0.2187 - Val_Acc: 0.4000  - Time: 11.48637342453003\n",
      "\n"
     ]
    },
    {
     "name": "stderr",
     "output_type": "stream",
     "text": [
      "100%|█████████████████████████████████████████████| 9/9 [00:08<00:00,  1.12it/s]\n",
      "100%|█████████████████████████████████████████████| 4/4 [00:03<00:00,  1.03it/s]\n"
     ]
    },
    {
     "name": "stdout",
     "output_type": "stream",
     "text": [
      "Epoch : 66 - Train_loss : 1.1441 - Train_Acc: 0.5714 - Val_loss : 0.2185 - Val_Acc: 0.4083  - Time: 11.960568904876709\n",
      "\n"
     ]
    },
    {
     "name": "stderr",
     "output_type": "stream",
     "text": [
      "100%|█████████████████████████████████████████████| 9/9 [00:07<00:00,  1.19it/s]\n",
      "100%|█████████████████████████████████████████████| 4/4 [00:03<00:00,  1.04it/s]\n"
     ]
    },
    {
     "name": "stdout",
     "output_type": "stream",
     "text": [
      "Epoch : 67 - Train_loss : 1.1502 - Train_Acc: 0.5464 - Val_loss : 0.2182 - Val_Acc: 0.4083  - Time: 11.434361696243286\n",
      "\n"
     ]
    },
    {
     "name": "stderr",
     "output_type": "stream",
     "text": [
      "100%|█████████████████████████████████████████████| 9/9 [00:07<00:00,  1.17it/s]\n",
      "100%|█████████████████████████████████████████████| 4/4 [00:03<00:00,  1.19it/s]\n"
     ]
    },
    {
     "name": "stdout",
     "output_type": "stream",
     "text": [
      "Epoch : 68 - Train_loss : 1.1444 - Train_Acc: 0.5536 - Val_loss : 0.2180 - Val_Acc: 0.4083  - Time: 11.040564775466919\n",
      "\n"
     ]
    },
    {
     "name": "stderr",
     "output_type": "stream",
     "text": [
      "100%|█████████████████████████████████████████████| 9/9 [00:07<00:00,  1.15it/s]\n",
      "100%|█████████████████████████████████████████████| 4/4 [00:03<00:00,  1.16it/s]\n"
     ]
    },
    {
     "name": "stdout",
     "output_type": "stream",
     "text": [
      "Epoch : 69 - Train_loss : 1.1528 - Train_Acc: 0.5464 - Val_loss : 0.2177 - Val_Acc: 0.4000  - Time: 11.267892837524414\n",
      "\n"
     ]
    },
    {
     "name": "stderr",
     "output_type": "stream",
     "text": [
      "100%|█████████████████████████████████████████████| 9/9 [00:08<00:00,  1.12it/s]\n",
      "100%|█████████████████████████████████████████████| 4/4 [00:03<00:00,  1.04it/s]\n"
     ]
    },
    {
     "name": "stdout",
     "output_type": "stream",
     "text": [
      "Epoch : 70 - Train_loss : 1.1406 - Train_Acc: 0.5679 - Val_loss : 0.2172 - Val_Acc: 0.4000  - Time: 11.93951153755188\n",
      "\n"
     ]
    },
    {
     "name": "stderr",
     "output_type": "stream",
     "text": [
      "100%|█████████████████████████████████████████████| 9/9 [00:08<00:00,  1.11it/s]\n",
      "100%|█████████████████████████████████████████████| 4/4 [00:03<00:00,  1.17it/s]\n"
     ]
    },
    {
     "name": "stdout",
     "output_type": "stream",
     "text": [
      "Epoch : 71 - Train_loss : 1.1373 - Train_Acc: 0.5643 - Val_loss : 0.2171 - Val_Acc: 0.4000  - Time: 11.53475832939148\n",
      "\n"
     ]
    },
    {
     "name": "stderr",
     "output_type": "stream",
     "text": [
      "100%|█████████████████████████████████████████████| 9/9 [00:07<00:00,  1.16it/s]\n",
      "100%|█████████████████████████████████████████████| 4/4 [00:03<00:00,  1.07it/s]\n"
     ]
    },
    {
     "name": "stdout",
     "output_type": "stream",
     "text": [
      "Epoch : 72 - Train_loss : 1.1394 - Train_Acc: 0.5643 - Val_loss : 0.2170 - Val_Acc: 0.4083  - Time: 11.464019536972046\n",
      "\n"
     ]
    },
    {
     "name": "stderr",
     "output_type": "stream",
     "text": [
      "100%|█████████████████████████████████████████████| 9/9 [00:07<00:00,  1.13it/s]\n",
      "100%|█████████████████████████████████████████████| 4/4 [00:03<00:00,  1.05it/s]\n"
     ]
    },
    {
     "name": "stdout",
     "output_type": "stream",
     "text": [
      "Epoch : 73 - Train_loss : 1.1383 - Train_Acc: 0.5571 - Val_loss : 0.2168 - Val_Acc: 0.4083  - Time: 11.749358415603638\n",
      "\n"
     ]
    },
    {
     "name": "stderr",
     "output_type": "stream",
     "text": [
      "100%|█████████████████████████████████████████████| 9/9 [00:07<00:00,  1.21it/s]\n",
      "100%|█████████████████████████████████████████████| 4/4 [00:03<00:00,  1.05it/s]\n"
     ]
    },
    {
     "name": "stdout",
     "output_type": "stream",
     "text": [
      "Epoch : 74 - Train_loss : 1.1331 - Train_Acc: 0.5571 - Val_loss : 0.2165 - Val_Acc: 0.4000  - Time: 11.244053602218628\n",
      "\n"
     ]
    },
    {
     "name": "stderr",
     "output_type": "stream",
     "text": [
      "100%|█████████████████████████████████████████████| 9/9 [00:07<00:00,  1.20it/s]\n",
      "100%|█████████████████████████████████████████████| 4/4 [00:03<00:00,  1.12it/s]\n"
     ]
    },
    {
     "name": "stdout",
     "output_type": "stream",
     "text": [
      "Epoch : 75 - Train_loss : 1.1351 - Train_Acc: 0.5571 - Val_loss : 0.2163 - Val_Acc: 0.4000  - Time: 11.06926941871643\n",
      "\n"
     ]
    },
    {
     "name": "stderr",
     "output_type": "stream",
     "text": [
      "100%|█████████████████████████████████████████████| 9/9 [00:07<00:00,  1.14it/s]\n",
      "100%|█████████████████████████████████████████████| 4/4 [00:03<00:00,  1.17it/s]\n"
     ]
    },
    {
     "name": "stdout",
     "output_type": "stream",
     "text": [
      "Epoch : 76 - Train_loss : 1.1264 - Train_Acc: 0.5500 - Val_loss : 0.2159 - Val_Acc: 0.4083  - Time: 11.3620924949646\n",
      "\n"
     ]
    },
    {
     "name": "stderr",
     "output_type": "stream",
     "text": [
      "100%|█████████████████████████████████████████████| 9/9 [00:07<00:00,  1.14it/s]\n",
      "100%|█████████████████████████████████████████████| 4/4 [00:03<00:00,  1.03it/s]\n"
     ]
    },
    {
     "name": "stdout",
     "output_type": "stream",
     "text": [
      "Epoch : 77 - Train_loss : 1.1360 - Train_Acc: 0.5464 - Val_loss : 0.2157 - Val_Acc: 0.4083  - Time: 11.821397304534912\n",
      "\n"
     ]
    },
    {
     "name": "stderr",
     "output_type": "stream",
     "text": [
      "100%|█████████████████████████████████████████████| 9/9 [00:07<00:00,  1.13it/s]\n",
      "100%|█████████████████████████████████████████████| 4/4 [00:03<00:00,  1.17it/s]\n"
     ]
    },
    {
     "name": "stdout",
     "output_type": "stream",
     "text": [
      "Epoch : 78 - Train_loss : 1.1221 - Train_Acc: 0.5643 - Val_loss : 0.2155 - Val_Acc: 0.4083  - Time: 11.362273216247559\n",
      "\n"
     ]
    },
    {
     "name": "stderr",
     "output_type": "stream",
     "text": [
      "100%|█████████████████████████████████████████████| 9/9 [00:07<00:00,  1.19it/s]\n",
      "100%|█████████████████████████████████████████████| 4/4 [00:03<00:00,  1.13it/s]\n"
     ]
    },
    {
     "name": "stdout",
     "output_type": "stream",
     "text": [
      "Epoch : 79 - Train_loss : 1.1317 - Train_Acc: 0.5643 - Val_loss : 0.2154 - Val_Acc: 0.4083  - Time: 11.129576444625854\n",
      "\n"
     ]
    },
    {
     "name": "stderr",
     "output_type": "stream",
     "text": [
      "100%|█████████████████████████████████████████████| 9/9 [00:08<00:00,  1.12it/s]\n",
      "100%|█████████████████████████████████████████████| 4/4 [00:03<00:00,  1.05it/s]\n"
     ]
    },
    {
     "name": "stdout",
     "output_type": "stream",
     "text": [
      "Epoch : 80 - Train_loss : 1.1244 - Train_Acc: 0.5643 - Val_loss : 0.2152 - Val_Acc: 0.4083  - Time: 11.819164752960205\n",
      "\n"
     ]
    },
    {
     "name": "stderr",
     "output_type": "stream",
     "text": [
      "100%|█████████████████████████████████████████████| 9/9 [00:07<00:00,  1.23it/s]\n",
      "100%|█████████████████████████████████████████████| 4/4 [00:03<00:00,  1.04it/s]\n"
     ]
    },
    {
     "name": "stdout",
     "output_type": "stream",
     "text": [
      "Epoch : 81 - Train_loss : 1.1147 - Train_Acc: 0.5857 - Val_loss : 0.2148 - Val_Acc: 0.4083  - Time: 11.159271478652954\n",
      "\n"
     ]
    },
    {
     "name": "stderr",
     "output_type": "stream",
     "text": [
      "100%|█████████████████████████████████████████████| 9/9 [00:07<00:00,  1.19it/s]\n",
      "100%|█████████████████████████████████████████████| 4/4 [00:03<00:00,  1.09it/s]\n"
     ]
    },
    {
     "name": "stdout",
     "output_type": "stream",
     "text": [
      "Epoch : 82 - Train_loss : 1.1223 - Train_Acc: 0.5679 - Val_loss : 0.2144 - Val_Acc: 0.4250  - Time: 11.212085247039795\n",
      "\n"
     ]
    },
    {
     "name": "stderr",
     "output_type": "stream",
     "text": [
      "100%|█████████████████████████████████████████████| 9/9 [00:07<00:00,  1.18it/s]\n",
      "100%|█████████████████████████████████████████████| 4/4 [00:03<00:00,  1.16it/s]\n"
     ]
    },
    {
     "name": "stdout",
     "output_type": "stream",
     "text": [
      "Epoch : 83 - Train_loss : 1.1216 - Train_Acc: 0.5643 - Val_loss : 0.2141 - Val_Acc: 0.4250  - Time: 11.065019607543945\n",
      "\n"
     ]
    },
    {
     "name": "stderr",
     "output_type": "stream",
     "text": [
      "100%|█████████████████████████████████████████████| 9/9 [00:07<00:00,  1.13it/s]\n",
      "100%|█████████████████████████████████████████████| 4/4 [00:03<00:00,  1.05it/s]\n"
     ]
    },
    {
     "name": "stdout",
     "output_type": "stream",
     "text": [
      "Epoch : 84 - Train_loss : 1.1201 - Train_Acc: 0.5714 - Val_loss : 0.2138 - Val_Acc: 0.4250  - Time: 11.811606884002686\n",
      "\n"
     ]
    },
    {
     "name": "stderr",
     "output_type": "stream",
     "text": [
      "100%|█████████████████████████████████████████████| 9/9 [00:07<00:00,  1.15it/s]\n",
      "100%|█████████████████████████████████████████████| 4/4 [00:03<00:00,  1.17it/s]\n"
     ]
    },
    {
     "name": "stdout",
     "output_type": "stream",
     "text": [
      "Epoch : 85 - Train_loss : 1.1221 - Train_Acc: 0.5679 - Val_loss : 0.2138 - Val_Acc: 0.4167  - Time: 11.241082668304443\n",
      "\n"
     ]
    },
    {
     "name": "stderr",
     "output_type": "stream",
     "text": [
      "100%|█████████████████████████████████████████████| 9/9 [00:07<00:00,  1.13it/s]\n",
      "100%|█████████████████████████████████████████████| 4/4 [00:03<00:00,  1.18it/s]\n"
     ]
    },
    {
     "name": "stdout",
     "output_type": "stream",
     "text": [
      "Epoch : 86 - Train_loss : 1.1133 - Train_Acc: 0.5714 - Val_loss : 0.2136 - Val_Acc: 0.4250  - Time: 11.344554662704468\n",
      "\n"
     ]
    },
    {
     "name": "stderr",
     "output_type": "stream",
     "text": [
      "100%|█████████████████████████████████████████████| 9/9 [00:08<00:00,  1.10it/s]\n",
      "100%|█████████████████████████████████████████████| 4/4 [00:03<00:00,  1.12it/s]\n"
     ]
    },
    {
     "name": "stdout",
     "output_type": "stream",
     "text": [
      "Epoch : 87 - Train_loss : 1.1160 - Train_Acc: 0.5429 - Val_loss : 0.2136 - Val_Acc: 0.4167  - Time: 11.735942125320435\n",
      "\n"
     ]
    },
    {
     "name": "stderr",
     "output_type": "stream",
     "text": [
      "100%|█████████████████████████████████████████████| 9/9 [00:07<00:00,  1.23it/s]\n",
      "100%|█████████████████████████████████████████████| 4/4 [00:03<00:00,  1.05it/s]\n"
     ]
    },
    {
     "name": "stdout",
     "output_type": "stream",
     "text": [
      "Epoch : 88 - Train_loss : 1.1266 - Train_Acc: 0.5750 - Val_loss : 0.2131 - Val_Acc: 0.4250  - Time: 11.142947435379028\n",
      "\n"
     ]
    },
    {
     "name": "stderr",
     "output_type": "stream",
     "text": [
      "100%|█████████████████████████████████████████████| 9/9 [00:07<00:00,  1.18it/s]\n",
      "100%|█████████████████████████████████████████████| 4/4 [00:03<00:00,  1.05it/s]\n"
     ]
    },
    {
     "name": "stdout",
     "output_type": "stream",
     "text": [
      "Epoch : 89 - Train_loss : 1.1208 - Train_Acc: 0.5607 - Val_loss : 0.2129 - Val_Acc: 0.4250  - Time: 11.432763576507568\n",
      "\n"
     ]
    },
    {
     "name": "stderr",
     "output_type": "stream",
     "text": [
      "100%|█████████████████████████████████████████████| 9/9 [00:07<00:00,  1.20it/s]\n",
      "100%|█████████████████████████████████████████████| 4/4 [00:03<00:00,  1.16it/s]\n"
     ]
    },
    {
     "name": "stdout",
     "output_type": "stream",
     "text": [
      "Epoch : 90 - Train_loss : 1.1144 - Train_Acc: 0.5536 - Val_loss : 0.2128 - Val_Acc: 0.4333  - Time: 10.990240335464478\n",
      "\n"
     ]
    },
    {
     "name": "stderr",
     "output_type": "stream",
     "text": [
      "100%|█████████████████████████████████████████████| 9/9 [00:08<00:00,  1.08it/s]\n",
      "100%|█████████████████████████████████████████████| 4/4 [00:03<00:00,  1.04it/s]\n"
     ]
    },
    {
     "name": "stdout",
     "output_type": "stream",
     "text": [
      "Epoch : 91 - Train_loss : 1.1175 - Train_Acc: 0.5607 - Val_loss : 0.2126 - Val_Acc: 0.4333  - Time: 12.228490829467773\n",
      "\n"
     ]
    },
    {
     "name": "stderr",
     "output_type": "stream",
     "text": [
      "100%|█████████████████████████████████████████████| 9/9 [00:07<00:00,  1.13it/s]\n",
      "100%|█████████████████████████████████████████████| 4/4 [00:03<00:00,  1.16it/s]\n"
     ]
    },
    {
     "name": "stdout",
     "output_type": "stream",
     "text": [
      "Epoch : 92 - Train_loss : 1.1123 - Train_Acc: 0.5750 - Val_loss : 0.2125 - Val_Acc: 0.4167  - Time: 11.426534414291382\n",
      "\n"
     ]
    },
    {
     "name": "stderr",
     "output_type": "stream",
     "text": [
      "100%|█████████████████████████████████████████████| 9/9 [00:07<00:00,  1.14it/s]\n",
      "100%|█████████████████████████████████████████████| 4/4 [00:03<00:00,  1.15it/s]\n"
     ]
    },
    {
     "name": "stdout",
     "output_type": "stream",
     "text": [
      "Epoch : 93 - Train_loss : 1.1069 - Train_Acc: 0.5643 - Val_loss : 0.2125 - Val_Acc: 0.4250  - Time: 11.377942323684692\n",
      "\n"
     ]
    },
    {
     "name": "stderr",
     "output_type": "stream",
     "text": [
      "100%|█████████████████████████████████████████████| 9/9 [00:08<00:00,  1.12it/s]\n",
      "100%|█████████████████████████████████████████████| 4/4 [00:03<00:00,  1.11it/s]\n"
     ]
    },
    {
     "name": "stdout",
     "output_type": "stream",
     "text": [
      "Epoch : 94 - Train_loss : 1.1131 - Train_Acc: 0.5607 - Val_loss : 0.2123 - Val_Acc: 0.4250  - Time: 11.657907009124756\n",
      "\n"
     ]
    },
    {
     "name": "stderr",
     "output_type": "stream",
     "text": [
      "100%|█████████████████████████████████████████████| 9/9 [00:07<00:00,  1.22it/s]\n",
      "100%|█████████████████████████████████████████████| 4/4 [00:03<00:00,  1.06it/s]\n"
     ]
    },
    {
     "name": "stdout",
     "output_type": "stream",
     "text": [
      "Epoch : 95 - Train_loss : 1.1206 - Train_Acc: 0.5679 - Val_loss : 0.2122 - Val_Acc: 0.4250  - Time: 11.186662435531616\n",
      "\n"
     ]
    },
    {
     "name": "stderr",
     "output_type": "stream",
     "text": [
      "100%|█████████████████████████████████████████████| 9/9 [00:07<00:00,  1.20it/s]\n",
      "100%|█████████████████████████████████████████████| 4/4 [00:03<00:00,  1.06it/s]\n"
     ]
    },
    {
     "name": "stdout",
     "output_type": "stream",
     "text": [
      "Epoch : 96 - Train_loss : 1.1120 - Train_Acc: 0.5536 - Val_loss : 0.2121 - Val_Acc: 0.4250  - Time: 11.306453943252563\n",
      "\n"
     ]
    },
    {
     "name": "stderr",
     "output_type": "stream",
     "text": [
      "100%|█████████████████████████████████████████████| 9/9 [00:07<00:00,  1.21it/s]\n",
      "100%|█████████████████████████████████████████████| 4/4 [00:03<00:00,  1.10it/s]\n"
     ]
    },
    {
     "name": "stdout",
     "output_type": "stream",
     "text": [
      "Epoch : 97 - Train_loss : 1.1174 - Train_Acc: 0.5500 - Val_loss : 0.2116 - Val_Acc: 0.4250  - Time: 11.068241119384766\n",
      "\n"
     ]
    },
    {
     "name": "stderr",
     "output_type": "stream",
     "text": [
      "100%|█████████████████████████████████████████████| 9/9 [00:08<00:00,  1.11it/s]\n",
      "100%|█████████████████████████████████████████████| 4/4 [00:03<00:00,  1.03it/s]\n"
     ]
    },
    {
     "name": "stdout",
     "output_type": "stream",
     "text": [
      "Epoch : 98 - Train_loss : 1.1078 - Train_Acc: 0.5607 - Val_loss : 0.2115 - Val_Acc: 0.4083  - Time: 11.9818696975708\n",
      "\n"
     ]
    },
    {
     "name": "stderr",
     "output_type": "stream",
     "text": [
      "100%|█████████████████████████████████████████████| 9/9 [00:07<00:00,  1.13it/s]\n",
      "100%|█████████████████████████████████████████████| 4/4 [00:03<00:00,  1.13it/s]\n"
     ]
    },
    {
     "name": "stdout",
     "output_type": "stream",
     "text": [
      "Epoch : 99 - Train_loss : 1.1012 - Train_Acc: 0.5500 - Val_loss : 0.2113 - Val_Acc: 0.4250  - Time: 11.462968826293945\n",
      "\n"
     ]
    },
    {
     "name": "stderr",
     "output_type": "stream",
     "text": [
      "100%|█████████████████████████████████████████████| 9/9 [00:07<00:00,  1.16it/s]\n",
      "100%|█████████████████████████████████████████████| 4/4 [00:03<00:00,  1.07it/s]\n"
     ]
    },
    {
     "name": "stdout",
     "output_type": "stream",
     "text": [
      "Epoch : 100 - Train_loss : 1.1072 - Train_Acc: 0.5643 - Val_loss : 0.2113 - Val_Acc: 0.4083  - Time: 11.476000547409058\n",
      "\n"
     ]
    },
    {
     "name": "stderr",
     "output_type": "stream",
     "text": [
      "100%|█████████████████████████████████████████████| 9/9 [00:07<00:00,  1.16it/s]\n",
      "100%|█████████████████████████████████████████████| 4/4 [00:03<00:00,  1.19it/s]\n"
     ]
    },
    {
     "name": "stdout",
     "output_type": "stream",
     "text": [
      "Epoch : 101 - Train_loss : 1.1028 - Train_Acc: 0.5643 - Val_loss : 0.2114 - Val_Acc: 0.4083  - Time: 11.118563652038574\n",
      "\n"
     ]
    },
    {
     "name": "stderr",
     "output_type": "stream",
     "text": [
      "100%|█████████████████████████████████████████████| 9/9 [00:07<00:00,  1.15it/s]\n",
      "100%|█████████████████████████████████████████████| 4/4 [00:03<00:00,  1.08it/s]\n"
     ]
    },
    {
     "name": "stdout",
     "output_type": "stream",
     "text": [
      "Epoch : 102 - Train_loss : 1.0874 - Train_Acc: 0.5964 - Val_loss : 0.2113 - Val_Acc: 0.4083  - Time: 11.541256666183472\n",
      "\n"
     ]
    },
    {
     "name": "stderr",
     "output_type": "stream",
     "text": [
      "100%|█████████████████████████████████████████████| 9/9 [00:07<00:00,  1.17it/s]\n",
      "100%|█████████████████████████████████████████████| 4/4 [00:03<00:00,  1.03it/s]\n"
     ]
    },
    {
     "name": "stdout",
     "output_type": "stream",
     "text": [
      "Epoch : 103 - Train_loss : 1.1193 - Train_Acc: 0.5357 - Val_loss : 0.2114 - Val_Acc: 0.4083  - Time: 11.55971908569336\n",
      "\n"
     ]
    },
    {
     "name": "stderr",
     "output_type": "stream",
     "text": [
      "100%|█████████████████████████████████████████████| 9/9 [00:07<00:00,  1.22it/s]\n",
      "100%|█████████████████████████████████████████████| 4/4 [00:03<00:00,  1.06it/s]\n"
     ]
    },
    {
     "name": "stdout",
     "output_type": "stream",
     "text": [
      "Epoch : 104 - Train_loss : 1.0931 - Train_Acc: 0.5607 - Val_loss : 0.2112 - Val_Acc: 0.4167  - Time: 11.167291402816772\n",
      "\n"
     ]
    },
    {
     "name": "stderr",
     "output_type": "stream",
     "text": [
      "100%|█████████████████████████████████████████████| 9/9 [00:08<00:00,  1.12it/s]\n",
      "100%|█████████████████████████████████████████████| 4/4 [00:03<00:00,  1.07it/s]\n"
     ]
    },
    {
     "name": "stdout",
     "output_type": "stream",
     "text": [
      "Epoch : 105 - Train_loss : 1.1090 - Train_Acc: 0.5429 - Val_loss : 0.2109 - Val_Acc: 0.4083  - Time: 11.742868661880493\n",
      "\n"
     ]
    },
    {
     "name": "stderr",
     "output_type": "stream",
     "text": [
      "100%|█████████████████████████████████████████████| 9/9 [00:07<00:00,  1.16it/s]\n",
      "100%|█████████████████████████████████████████████| 4/4 [00:03<00:00,  1.13it/s]\n"
     ]
    },
    {
     "name": "stdout",
     "output_type": "stream",
     "text": [
      "Epoch : 106 - Train_loss : 1.0960 - Train_Acc: 0.5714 - Val_loss : 0.2109 - Val_Acc: 0.4167  - Time: 11.291177749633789\n",
      "\n"
     ]
    },
    {
     "name": "stderr",
     "output_type": "stream",
     "text": [
      "100%|█████████████████████████████████████████████| 9/9 [00:07<00:00,  1.16it/s]\n",
      "100%|█████████████████████████████████████████████| 4/4 [00:03<00:00,  1.15it/s]\n"
     ]
    },
    {
     "name": "stdout",
     "output_type": "stream",
     "text": [
      "Epoch : 107 - Train_loss : 1.1214 - Train_Acc: 0.5464 - Val_loss : 0.2107 - Val_Acc: 0.4000  - Time: 11.261110782623291\n",
      "\n"
     ]
    },
    {
     "name": "stderr",
     "output_type": "stream",
     "text": [
      "100%|█████████████████████████████████████████████| 9/9 [00:08<00:00,  1.11it/s]\n",
      "100%|█████████████████████████████████████████████| 4/4 [00:03<00:00,  1.17it/s]\n"
     ]
    },
    {
     "name": "stdout",
     "output_type": "stream",
     "text": [
      "Epoch : 108 - Train_loss : 1.0981 - Train_Acc: 0.5679 - Val_loss : 0.2106 - Val_Acc: 0.4083  - Time: 11.522372484207153\n",
      "\n"
     ]
    },
    {
     "name": "stderr",
     "output_type": "stream",
     "text": [
      "100%|█████████████████████████████████████████████| 9/9 [00:07<00:00,  1.18it/s]\n",
      "100%|█████████████████████████████████████████████| 4/4 [00:03<00:00,  1.10it/s]\n"
     ]
    },
    {
     "name": "stdout",
     "output_type": "stream",
     "text": [
      "Epoch : 109 - Train_loss : 1.0878 - Train_Acc: 0.5679 - Val_loss : 0.2107 - Val_Acc: 0.4167  - Time: 11.249659776687622\n",
      "\n"
     ]
    },
    {
     "name": "stderr",
     "output_type": "stream",
     "text": [
      "100%|█████████████████████████████████████████████| 9/9 [00:07<00:00,  1.19it/s]\n",
      "100%|█████████████████████████████████████████████| 4/4 [00:03<00:00,  1.05it/s]\n"
     ]
    },
    {
     "name": "stdout",
     "output_type": "stream",
     "text": [
      "Epoch : 110 - Train_loss : 1.0936 - Train_Acc: 0.5571 - Val_loss : 0.2106 - Val_Acc: 0.4167  - Time: 11.411643981933594\n",
      "\n"
     ]
    },
    {
     "name": "stderr",
     "output_type": "stream",
     "text": [
      "100%|█████████████████████████████████████████████| 9/9 [00:07<00:00,  1.21it/s]\n",
      "100%|█████████████████████████████████████████████| 4/4 [00:03<00:00,  1.04it/s]\n"
     ]
    },
    {
     "name": "stdout",
     "output_type": "stream",
     "text": [
      "Epoch : 111 - Train_loss : 1.0975 - Train_Acc: 0.5821 - Val_loss : 0.2103 - Val_Acc: 0.4083  - Time: 11.255997896194458\n",
      "\n"
     ]
    },
    {
     "name": "stderr",
     "output_type": "stream",
     "text": [
      "100%|█████████████████████████████████████████████| 9/9 [00:07<00:00,  1.16it/s]\n",
      "100%|█████████████████████████████████████████████| 4/4 [00:03<00:00,  1.07it/s]\n"
     ]
    },
    {
     "name": "stdout",
     "output_type": "stream",
     "text": [
      "Epoch : 112 - Train_loss : 1.0916 - Train_Acc: 0.5536 - Val_loss : 0.2103 - Val_Acc: 0.4000  - Time: 11.50443983078003\n",
      "\n"
     ]
    },
    {
     "name": "stderr",
     "output_type": "stream",
     "text": [
      "100%|█████████████████████████████████████████████| 9/9 [00:07<00:00,  1.14it/s]\n",
      "100%|█████████████████████████████████████████████| 4/4 [00:03<00:00,  1.14it/s]\n"
     ]
    },
    {
     "name": "stdout",
     "output_type": "stream",
     "text": [
      "Epoch : 113 - Train_loss : 1.0995 - Train_Acc: 0.5714 - Val_loss : 0.2103 - Val_Acc: 0.4250  - Time: 11.414706707000732\n",
      "\n"
     ]
    },
    {
     "name": "stderr",
     "output_type": "stream",
     "text": [
      "100%|█████████████████████████████████████████████| 9/9 [00:07<00:00,  1.19it/s]\n",
      "100%|█████████████████████████████████████████████| 4/4 [00:03<00:00,  1.14it/s]\n"
     ]
    },
    {
     "name": "stdout",
     "output_type": "stream",
     "text": [
      "Epoch : 114 - Train_loss : 1.0822 - Train_Acc: 0.5857 - Val_loss : 0.2101 - Val_Acc: 0.4083  - Time: 11.098555326461792\n",
      "\n"
     ]
    },
    {
     "name": "stderr",
     "output_type": "stream",
     "text": [
      "100%|█████████████████████████████████████████████| 9/9 [00:08<00:00,  1.09it/s]\n",
      "100%|█████████████████████████████████████████████| 4/4 [00:03<00:00,  1.18it/s]\n"
     ]
    },
    {
     "name": "stdout",
     "output_type": "stream",
     "text": [
      "Epoch : 115 - Train_loss : 1.1034 - Train_Acc: 0.5571 - Val_loss : 0.2097 - Val_Acc: 0.4083  - Time: 11.63044548034668\n",
      "\n"
     ]
    },
    {
     "name": "stderr",
     "output_type": "stream",
     "text": [
      "100%|█████████████████████████████████████████████| 9/9 [00:07<00:00,  1.14it/s]\n",
      "100%|█████████████████████████████████████████████| 4/4 [00:03<00:00,  1.08it/s]\n"
     ]
    },
    {
     "name": "stdout",
     "output_type": "stream",
     "text": [
      "Epoch : 116 - Train_loss : 1.0904 - Train_Acc: 0.5786 - Val_loss : 0.2096 - Val_Acc: 0.4083  - Time: 11.583775520324707\n",
      "\n"
     ]
    },
    {
     "name": "stderr",
     "output_type": "stream",
     "text": [
      "100%|█████████████████████████████████████████████| 9/9 [00:07<00:00,  1.22it/s]\n",
      "100%|█████████████████████████████████████████████| 4/4 [00:03<00:00,  1.06it/s]\n"
     ]
    },
    {
     "name": "stdout",
     "output_type": "stream",
     "text": [
      "Epoch : 117 - Train_loss : 1.0914 - Train_Acc: 0.5643 - Val_loss : 0.2096 - Val_Acc: 0.4083  - Time: 11.128947734832764\n",
      "\n"
     ]
    },
    {
     "name": "stderr",
     "output_type": "stream",
     "text": [
      "100%|█████████████████████████████████████████████| 9/9 [00:07<00:00,  1.23it/s]\n",
      "100%|█████████████████████████████████████████████| 4/4 [00:03<00:00,  1.04it/s]\n"
     ]
    },
    {
     "name": "stdout",
     "output_type": "stream",
     "text": [
      "Epoch : 118 - Train_loss : 1.1062 - Train_Acc: 0.5679 - Val_loss : 0.2097 - Val_Acc: 0.4167  - Time: 11.15222430229187\n",
      "\n"
     ]
    },
    {
     "name": "stderr",
     "output_type": "stream",
     "text": [
      "100%|█████████████████████████████████████████████| 9/9 [00:07<00:00,  1.16it/s]\n",
      "100%|█████████████████████████████████████████████| 4/4 [00:03<00:00,  1.01it/s]\n"
     ]
    },
    {
     "name": "stdout",
     "output_type": "stream",
     "text": [
      "Epoch : 119 - Train_loss : 1.0873 - Train_Acc: 0.5571 - Val_loss : 0.2097 - Val_Acc: 0.4167  - Time: 11.716099977493286\n",
      "\n"
     ]
    },
    {
     "name": "stderr",
     "output_type": "stream",
     "text": [
      "100%|█████████████████████████████████████████████| 9/9 [00:07<00:00,  1.15it/s]\n",
      "100%|█████████████████████████████████████████████| 4/4 [00:03<00:00,  1.16it/s]\n"
     ]
    },
    {
     "name": "stdout",
     "output_type": "stream",
     "text": [
      "Epoch : 120 - Train_loss : 1.0859 - Train_Acc: 0.5536 - Val_loss : 0.2093 - Val_Acc: 0.4167  - Time: 11.292966365814209\n",
      "\n"
     ]
    },
    {
     "name": "stderr",
     "output_type": "stream",
     "text": [
      "100%|█████████████████████████████████████████████| 9/9 [00:07<00:00,  1.15it/s]\n",
      "100%|█████████████████████████████████████████████| 4/4 [00:03<00:00,  1.16it/s]\n"
     ]
    },
    {
     "name": "stdout",
     "output_type": "stream",
     "text": [
      "Epoch : 121 - Train_loss : 1.0865 - Train_Acc: 0.5679 - Val_loss : 0.2093 - Val_Acc: 0.4250  - Time: 11.261596918106079\n",
      "\n"
     ]
    },
    {
     "name": "stderr",
     "output_type": "stream",
     "text": [
      "100%|█████████████████████████████████████████████| 9/9 [00:08<00:00,  1.10it/s]\n",
      "100%|█████████████████████████████████████████████| 4/4 [00:03<00:00,  1.19it/s]\n"
     ]
    },
    {
     "name": "stdout",
     "output_type": "stream",
     "text": [
      "Epoch : 122 - Train_loss : 1.0867 - Train_Acc: 0.5643 - Val_loss : 0.2096 - Val_Acc: 0.4083  - Time: 11.598230600357056\n",
      "\n"
     ]
    },
    {
     "name": "stderr",
     "output_type": "stream",
     "text": [
      "100%|█████████████████████████████████████████████| 9/9 [00:07<00:00,  1.17it/s]\n",
      "100%|█████████████████████████████████████████████| 4/4 [00:03<00:00,  1.07it/s]\n"
     ]
    },
    {
     "name": "stdout",
     "output_type": "stream",
     "text": [
      "Epoch : 123 - Train_loss : 1.0784 - Train_Acc: 0.5893 - Val_loss : 0.2093 - Val_Acc: 0.4167  - Time: 11.47512674331665\n",
      "\n"
     ]
    },
    {
     "name": "stderr",
     "output_type": "stream",
     "text": [
      "100%|█████████████████████████████████████████████| 9/9 [00:07<00:00,  1.18it/s]\n",
      "100%|█████████████████████████████████████████████| 4/4 [00:03<00:00,  1.06it/s]\n"
     ]
    },
    {
     "name": "stdout",
     "output_type": "stream",
     "text": [
      "Epoch : 124 - Train_loss : 1.0837 - Train_Acc: 0.5571 - Val_loss : 0.2094 - Val_Acc: 0.3917  - Time: 11.384395360946655\n",
      "\n"
     ]
    },
    {
     "name": "stderr",
     "output_type": "stream",
     "text": [
      "100%|█████████████████████████████████████████████| 9/9 [00:07<00:00,  1.23it/s]\n",
      "100%|█████████████████████████████████████████████| 4/4 [00:03<00:00,  1.13it/s]\n"
     ]
    },
    {
     "name": "stdout",
     "output_type": "stream",
     "text": [
      "Epoch : 125 - Train_loss : 1.0825 - Train_Acc: 0.5571 - Val_loss : 0.2095 - Val_Acc: 0.4083  - Time: 10.898430824279785\n",
      "\n"
     ]
    },
    {
     "name": "stderr",
     "output_type": "stream",
     "text": [
      "100%|█████████████████████████████████████████████| 9/9 [00:07<00:00,  1.21it/s]\n",
      "100%|█████████████████████████████████████████████| 4/4 [00:03<00:00,  1.03it/s]\n"
     ]
    },
    {
     "name": "stdout",
     "output_type": "stream",
     "text": [
      "Epoch : 126 - Train_loss : 1.0876 - Train_Acc: 0.5607 - Val_loss : 0.2092 - Val_Acc: 0.4083  - Time: 11.333296298980713\n",
      "\n"
     ]
    },
    {
     "name": "stderr",
     "output_type": "stream",
     "text": [
      "100%|█████████████████████████████████████████████| 9/9 [00:08<00:00,  1.11it/s]\n",
      "100%|█████████████████████████████████████████████| 4/4 [00:03<00:00,  1.12it/s]\n"
     ]
    },
    {
     "name": "stdout",
     "output_type": "stream",
     "text": [
      "Epoch : 127 - Train_loss : 1.0868 - Train_Acc: 0.5536 - Val_loss : 0.2092 - Val_Acc: 0.4083  - Time: 11.696057319641113\n",
      "\n"
     ]
    },
    {
     "name": "stderr",
     "output_type": "stream",
     "text": [
      "100%|█████████████████████████████████████████████| 9/9 [00:07<00:00,  1.18it/s]\n",
      "100%|█████████████████████████████████████████████| 4/4 [00:03<00:00,  1.18it/s]\n"
     ]
    },
    {
     "name": "stdout",
     "output_type": "stream",
     "text": [
      "Epoch : 128 - Train_loss : 1.0790 - Train_Acc: 0.5536 - Val_loss : 0.2093 - Val_Acc: 0.4083  - Time: 11.034104347229004\n",
      "\n"
     ]
    },
    {
     "name": "stderr",
     "output_type": "stream",
     "text": [
      "100%|█████████████████████████████████████████████| 9/9 [00:08<00:00,  1.11it/s]\n",
      "100%|█████████████████████████████████████████████| 4/4 [00:03<00:00,  1.13it/s]\n"
     ]
    },
    {
     "name": "stdout",
     "output_type": "stream",
     "text": [
      "Epoch : 129 - Train_loss : 1.0865 - Train_Acc: 0.5464 - Val_loss : 0.2093 - Val_Acc: 0.4167  - Time: 11.634259223937988\n",
      "\n"
     ]
    },
    {
     "name": "stderr",
     "output_type": "stream",
     "text": [
      "100%|█████████████████████████████████████████████| 9/9 [00:07<00:00,  1.16it/s]\n",
      "100%|█████████████████████████████████████████████| 4/4 [00:03<00:00,  1.09it/s]\n"
     ]
    },
    {
     "name": "stdout",
     "output_type": "stream",
     "text": [
      "Epoch : 130 - Train_loss : 1.0857 - Train_Acc: 0.5643 - Val_loss : 0.2092 - Val_Acc: 0.4083  - Time: 11.411514282226562\n",
      "\n"
     ]
    },
    {
     "name": "stderr",
     "output_type": "stream",
     "text": [
      "100%|█████████████████████████████████████████████| 9/9 [00:07<00:00,  1.17it/s]\n",
      "100%|█████████████████████████████████████████████| 4/4 [00:03<00:00,  1.05it/s]\n"
     ]
    },
    {
     "name": "stdout",
     "output_type": "stream",
     "text": [
      "Epoch : 131 - Train_loss : 1.0774 - Train_Acc: 0.5857 - Val_loss : 0.2089 - Val_Acc: 0.4167  - Time: 11.517836093902588\n",
      "\n"
     ]
    },
    {
     "name": "stderr",
     "output_type": "stream",
     "text": [
      "100%|█████████████████████████████████████████████| 9/9 [00:07<00:00,  1.22it/s]\n",
      "100%|█████████████████████████████████████████████| 4/4 [00:03<00:00,  1.10it/s]\n"
     ]
    },
    {
     "name": "stdout",
     "output_type": "stream",
     "text": [
      "Epoch : 132 - Train_loss : 1.0787 - Train_Acc: 0.5714 - Val_loss : 0.2090 - Val_Acc: 0.4000  - Time: 11.020166635513306\n",
      "\n"
     ]
    },
    {
     "name": "stderr",
     "output_type": "stream",
     "text": [
      "100%|█████████████████████████████████████████████| 9/9 [00:07<00:00,  1.16it/s]\n",
      "100%|█████████████████████████████████████████████| 4/4 [00:03<00:00,  1.02it/s]\n"
     ]
    },
    {
     "name": "stdout",
     "output_type": "stream",
     "text": [
      "Epoch : 133 - Train_loss : 1.0843 - Train_Acc: 0.5571 - Val_loss : 0.2089 - Val_Acc: 0.4083  - Time: 11.710496425628662\n",
      "\n"
     ]
    },
    {
     "name": "stderr",
     "output_type": "stream",
     "text": [
      "100%|█████████████████████████████████████████████| 9/9 [00:07<00:00,  1.16it/s]\n",
      "100%|█████████████████████████████████████████████| 4/4 [00:03<00:00,  1.18it/s]\n"
     ]
    },
    {
     "name": "stdout",
     "output_type": "stream",
     "text": [
      "Epoch : 134 - Train_loss : 1.0835 - Train_Acc: 0.5786 - Val_loss : 0.2088 - Val_Acc: 0.4083  - Time: 11.12744665145874\n",
      "\n"
     ]
    },
    {
     "name": "stderr",
     "output_type": "stream",
     "text": [
      "100%|█████████████████████████████████████████████| 9/9 [00:07<00:00,  1.18it/s]\n",
      "100%|█████████████████████████████████████████████| 4/4 [00:03<00:00,  1.13it/s]\n"
     ]
    },
    {
     "name": "stdout",
     "output_type": "stream",
     "text": [
      "Epoch : 135 - Train_loss : 1.0724 - Train_Acc: 0.5786 - Val_loss : 0.2086 - Val_Acc: 0.4083  - Time: 11.19431447982788\n",
      "\n"
     ]
    },
    {
     "name": "stderr",
     "output_type": "stream",
     "text": [
      "100%|█████████████████████████████████████████████| 9/9 [00:08<00:00,  1.09it/s]\n",
      "100%|█████████████████████████████████████████████| 4/4 [00:03<00:00,  1.19it/s]\n"
     ]
    },
    {
     "name": "stdout",
     "output_type": "stream",
     "text": [
      "Epoch : 136 - Train_loss : 1.0873 - Train_Acc: 0.5500 - Val_loss : 0.2085 - Val_Acc: 0.4167  - Time: 11.60604453086853\n",
      "\n"
     ]
    },
    {
     "name": "stderr",
     "output_type": "stream",
     "text": [
      "100%|█████████████████████████████████████████████| 9/9 [00:07<00:00,  1.20it/s]\n",
      "100%|█████████████████████████████████████████████| 4/4 [00:03<00:00,  1.16it/s]\n"
     ]
    },
    {
     "name": "stdout",
     "output_type": "stream",
     "text": [
      "Epoch : 137 - Train_loss : 1.0780 - Train_Acc: 0.5821 - Val_loss : 0.2085 - Val_Acc: 0.4083  - Time: 10.993992567062378\n",
      "\n"
     ]
    },
    {
     "name": "stderr",
     "output_type": "stream",
     "text": [
      "100%|█████████████████████████████████████████████| 9/9 [00:07<00:00,  1.19it/s]\n",
      "100%|█████████████████████████████████████████████| 4/4 [00:03<00:00,  1.08it/s]\n"
     ]
    },
    {
     "name": "stdout",
     "output_type": "stream",
     "text": [
      "Epoch : 138 - Train_loss : 1.0774 - Train_Acc: 0.5714 - Val_loss : 0.2084 - Val_Acc: 0.3917  - Time: 11.247733116149902\n",
      "\n"
     ]
    },
    {
     "name": "stderr",
     "output_type": "stream",
     "text": [
      "100%|█████████████████████████████████████████████| 9/9 [00:07<00:00,  1.20it/s]\n",
      "100%|█████████████████████████████████████████████| 4/4 [00:03<00:00,  1.06it/s]\n"
     ]
    },
    {
     "name": "stdout",
     "output_type": "stream",
     "text": [
      "Epoch : 139 - Train_loss : 1.0782 - Train_Acc: 0.5571 - Val_loss : 0.2083 - Val_Acc: 0.4000  - Time: 11.270865440368652\n",
      "\n"
     ]
    },
    {
     "name": "stderr",
     "output_type": "stream",
     "text": [
      "100%|█████████████████████████████████████████████| 9/9 [00:07<00:00,  1.19it/s]\n",
      "100%|█████████████████████████████████████████████| 4/4 [00:03<00:00,  1.02it/s]\n"
     ]
    },
    {
     "name": "stdout",
     "output_type": "stream",
     "text": [
      "Epoch : 140 - Train_loss : 1.0799 - Train_Acc: 0.5893 - Val_loss : 0.2083 - Val_Acc: 0.3917  - Time: 11.503924369812012\n",
      "\n"
     ]
    },
    {
     "name": "stderr",
     "output_type": "stream",
     "text": [
      "100%|█████████████████████████████████████████████| 9/9 [00:07<00:00,  1.19it/s]\n",
      "100%|█████████████████████████████████████████████| 4/4 [00:03<00:00,  1.15it/s]\n"
     ]
    },
    {
     "name": "stdout",
     "output_type": "stream",
     "text": [
      "Epoch : 141 - Train_loss : 1.0805 - Train_Acc: 0.5643 - Val_loss : 0.2083 - Val_Acc: 0.3917  - Time: 11.050695896148682\n",
      "\n"
     ]
    },
    {
     "name": "stderr",
     "output_type": "stream",
     "text": [
      "100%|█████████████████████████████████████████████| 9/9 [00:07<00:00,  1.15it/s]\n",
      "100%|█████████████████████████████████████████████| 4/4 [00:03<00:00,  1.19it/s]\n"
     ]
    },
    {
     "name": "stdout",
     "output_type": "stream",
     "text": [
      "Epoch : 142 - Train_loss : 1.0740 - Train_Acc: 0.5714 - Val_loss : 0.2081 - Val_Acc: 0.3917  - Time: 11.231791257858276\n",
      "\n"
     ]
    },
    {
     "name": "stderr",
     "output_type": "stream",
     "text": [
      "100%|█████████████████████████████████████████████| 9/9 [00:08<00:00,  1.09it/s]\n",
      "100%|█████████████████████████████████████████████| 4/4 [00:03<00:00,  1.20it/s]\n"
     ]
    },
    {
     "name": "stdout",
     "output_type": "stream",
     "text": [
      "Epoch : 143 - Train_loss : 1.0626 - Train_Acc: 0.5893 - Val_loss : 0.2082 - Val_Acc: 0.3917  - Time: 11.574312925338745\n",
      "\n"
     ]
    },
    {
     "name": "stderr",
     "output_type": "stream",
     "text": [
      "100%|█████████████████████████████████████████████| 9/9 [00:07<00:00,  1.13it/s]\n",
      "100%|█████████████████████████████████████████████| 4/4 [00:03<00:00,  1.15it/s]\n"
     ]
    },
    {
     "name": "stdout",
     "output_type": "stream",
     "text": [
      "Epoch : 144 - Train_loss : 1.0656 - Train_Acc: 0.5714 - Val_loss : 0.2082 - Val_Acc: 0.3917  - Time: 11.440023183822632\n",
      "\n"
     ]
    },
    {
     "name": "stderr",
     "output_type": "stream",
     "text": [
      "100%|█████████████████████████████████████████████| 9/9 [00:07<00:00,  1.19it/s]\n",
      "100%|█████████████████████████████████████████████| 4/4 [00:03<00:00,  1.13it/s]\n"
     ]
    },
    {
     "name": "stdout",
     "output_type": "stream",
     "text": [
      "Epoch : 145 - Train_loss : 1.0644 - Train_Acc: 0.6000 - Val_loss : 0.2080 - Val_Acc: 0.3917  - Time: 11.084890365600586\n",
      "\n"
     ]
    },
    {
     "name": "stderr",
     "output_type": "stream",
     "text": [
      "100%|█████████████████████████████████████████████| 9/9 [00:07<00:00,  1.25it/s]\n",
      "100%|█████████████████████████████████████████████| 4/4 [00:03<00:00,  1.05it/s]\n"
     ]
    },
    {
     "name": "stdout",
     "output_type": "stream",
     "text": [
      "Epoch : 146 - Train_loss : 1.0736 - Train_Acc: 0.5679 - Val_loss : 0.2077 - Val_Acc: 0.4000  - Time: 11.023557424545288\n",
      "\n"
     ]
    },
    {
     "name": "stderr",
     "output_type": "stream",
     "text": [
      "100%|█████████████████████████████████████████████| 9/9 [00:07<00:00,  1.17it/s]\n",
      "100%|█████████████████████████████████████████████| 4/4 [00:04<00:00,  1.07s/it]\n"
     ]
    },
    {
     "name": "stdout",
     "output_type": "stream",
     "text": [
      "Epoch : 147 - Train_loss : 1.0756 - Train_Acc: 0.5643 - Val_loss : 0.2079 - Val_Acc: 0.3917  - Time: 12.011560440063477\n",
      "\n"
     ]
    },
    {
     "name": "stderr",
     "output_type": "stream",
     "text": [
      "100%|█████████████████████████████████████████████| 9/9 [00:07<00:00,  1.18it/s]\n",
      "100%|█████████████████████████████████████████████| 4/4 [00:03<00:00,  1.12it/s]\n"
     ]
    },
    {
     "name": "stdout",
     "output_type": "stream",
     "text": [
      "Epoch : 148 - Train_loss : 1.0596 - Train_Acc: 0.5786 - Val_loss : 0.2081 - Val_Acc: 0.4000  - Time: 11.17753267288208\n",
      "\n"
     ]
    },
    {
     "name": "stderr",
     "output_type": "stream",
     "text": [
      "100%|█████████████████████████████████████████████| 9/9 [00:07<00:00,  1.18it/s]\n",
      "100%|█████████████████████████████████████████████| 4/4 [00:03<00:00,  1.12it/s]\n"
     ]
    },
    {
     "name": "stdout",
     "output_type": "stream",
     "text": [
      "Epoch : 149 - Train_loss : 1.0717 - Train_Acc: 0.5679 - Val_loss : 0.2080 - Val_Acc: 0.3917  - Time: 11.218682765960693\n",
      "\n"
     ]
    },
    {
     "name": "stderr",
     "output_type": "stream",
     "text": [
      "100%|█████████████████████████████████████████████| 9/9 [00:08<00:00,  1.12it/s]\n",
      "100%|█████████████████████████████████████████████| 4/4 [00:03<00:00,  1.14it/s]\n"
     ]
    },
    {
     "name": "stdout",
     "output_type": "stream",
     "text": [
      "Epoch : 150 - Train_loss : 1.0695 - Train_Acc: 0.5571 - Val_loss : 0.2079 - Val_Acc: 0.3917  - Time: 11.582672357559204\n",
      "\n"
     ]
    },
    {
     "name": "stderr",
     "output_type": "stream",
     "text": [
      "100%|█████████████████████████████████████████████| 9/9 [00:07<00:00,  1.13it/s]\n",
      "100%|█████████████████████████████████████████████| 4/4 [00:03<00:00,  1.14it/s]\n"
     ]
    },
    {
     "name": "stdout",
     "output_type": "stream",
     "text": [
      "Epoch : 151 - Train_loss : 1.0848 - Train_Acc: 0.5679 - Val_loss : 0.2079 - Val_Acc: 0.4083  - Time: 11.482229471206665\n",
      "\n"
     ]
    },
    {
     "name": "stderr",
     "output_type": "stream",
     "text": [
      "100%|█████████████████████████████████████████████| 9/9 [00:07<00:00,  1.18it/s]\n",
      "100%|█████████████████████████████████████████████| 4/4 [00:03<00:00,  1.17it/s]\n"
     ]
    },
    {
     "name": "stdout",
     "output_type": "stream",
     "text": [
      "Epoch : 152 - Train_loss : 1.0642 - Train_Acc: 0.5821 - Val_loss : 0.2079 - Val_Acc: 0.4083  - Time: 11.048147201538086\n",
      "\n"
     ]
    },
    {
     "name": "stderr",
     "output_type": "stream",
     "text": [
      "100%|█████████████████████████████████████████████| 9/9 [00:07<00:00,  1.18it/s]\n",
      "100%|█████████████████████████████████████████████| 4/4 [00:03<00:00,  1.07it/s]\n"
     ]
    },
    {
     "name": "stdout",
     "output_type": "stream",
     "text": [
      "Epoch : 153 - Train_loss : 1.0923 - Train_Acc: 0.5679 - Val_loss : 0.2077 - Val_Acc: 0.4000  - Time: 11.388649702072144\n",
      "\n"
     ]
    },
    {
     "name": "stderr",
     "output_type": "stream",
     "text": [
      "100%|█████████████████████████████████████████████| 9/9 [00:08<00:00,  1.12it/s]\n",
      "100%|█████████████████████████████████████████████| 4/4 [00:04<00:00,  1.05s/it]\n"
     ]
    },
    {
     "name": "stdout",
     "output_type": "stream",
     "text": [
      "Epoch : 154 - Train_loss : 1.0853 - Train_Acc: 0.5821 - Val_loss : 0.2079 - Val_Acc: 0.4083  - Time: 12.242105484008789\n",
      "\n"
     ]
    },
    {
     "name": "stderr",
     "output_type": "stream",
     "text": [
      "100%|█████████████████████████████████████████████| 9/9 [00:07<00:00,  1.17it/s]\n",
      "100%|█████████████████████████████████████████████| 4/4 [00:03<00:00,  1.15it/s]\n"
     ]
    },
    {
     "name": "stdout",
     "output_type": "stream",
     "text": [
      "Epoch : 155 - Train_loss : 1.0568 - Train_Acc: 0.5857 - Val_loss : 0.2078 - Val_Acc: 0.4167  - Time: 11.15626311302185\n",
      "\n"
     ]
    },
    {
     "name": "stderr",
     "output_type": "stream",
     "text": [
      "100%|█████████████████████████████████████████████| 9/9 [00:07<00:00,  1.19it/s]\n",
      "100%|█████████████████████████████████████████████| 4/4 [00:03<00:00,  1.15it/s]\n"
     ]
    },
    {
     "name": "stdout",
     "output_type": "stream",
     "text": [
      "Epoch : 156 - Train_loss : 1.0831 - Train_Acc: 0.5607 - Val_loss : 0.2078 - Val_Acc: 0.4083  - Time: 11.028136491775513\n",
      "\n"
     ]
    },
    {
     "name": "stderr",
     "output_type": "stream",
     "text": [
      "100%|█████████████████████████████████████████████| 9/9 [00:07<00:00,  1.13it/s]\n",
      "100%|█████████████████████████████████████████████| 4/4 [00:03<00:00,  1.17it/s]\n"
     ]
    },
    {
     "name": "stdout",
     "output_type": "stream",
     "text": [
      "Epoch : 157 - Train_loss : 1.0842 - Train_Acc: 0.5714 - Val_loss : 0.2075 - Val_Acc: 0.4167  - Time: 11.424644708633423\n",
      "\n"
     ]
    },
    {
     "name": "stderr",
     "output_type": "stream",
     "text": [
      "100%|█████████████████████████████████████████████| 9/9 [00:08<00:00,  1.12it/s]\n",
      "100%|█████████████████████████████████████████████| 4/4 [00:03<00:00,  1.13it/s]\n"
     ]
    },
    {
     "name": "stdout",
     "output_type": "stream",
     "text": [
      "Epoch : 158 - Train_loss : 1.0731 - Train_Acc: 0.5786 - Val_loss : 0.2077 - Val_Acc: 0.4167  - Time: 11.57724380493164\n",
      "\n"
     ]
    },
    {
     "name": "stderr",
     "output_type": "stream",
     "text": [
      "100%|█████████████████████████████████████████████| 9/9 [00:07<00:00,  1.18it/s]\n",
      "100%|█████████████████████████████████████████████| 4/4 [00:03<00:00,  1.06it/s]\n"
     ]
    },
    {
     "name": "stdout",
     "output_type": "stream",
     "text": [
      "Epoch : 159 - Train_loss : 1.0693 - Train_Acc: 0.5857 - Val_loss : 0.2076 - Val_Acc: 0.3917  - Time: 11.392877340316772\n",
      "\n"
     ]
    },
    {
     "name": "stderr",
     "output_type": "stream",
     "text": [
      "100%|█████████████████████████████████████████████| 9/9 [00:07<00:00,  1.21it/s]\n",
      "100%|█████████████████████████████████████████████| 4/4 [00:03<00:00,  1.04it/s]\n"
     ]
    },
    {
     "name": "stdout",
     "output_type": "stream",
     "text": [
      "Epoch : 160 - Train_loss : 1.0587 - Train_Acc: 0.5786 - Val_loss : 0.2076 - Val_Acc: 0.3917  - Time: 11.29981279373169\n",
      "\n"
     ]
    },
    {
     "name": "stderr",
     "output_type": "stream",
     "text": [
      "100%|█████████████████████████████████████████████| 9/9 [00:07<00:00,  1.16it/s]\n",
      "100%|█████████████████████████████████████████████| 4/4 [00:03<00:00,  1.06it/s]\n"
     ]
    },
    {
     "name": "stdout",
     "output_type": "stream",
     "text": [
      "Epoch : 161 - Train_loss : 1.0663 - Train_Acc: 0.5750 - Val_loss : 0.2076 - Val_Acc: 0.3917  - Time: 11.553841829299927\n",
      "\n"
     ]
    },
    {
     "name": "stderr",
     "output_type": "stream",
     "text": [
      "100%|█████████████████████████████████████████████| 9/9 [00:07<00:00,  1.15it/s]\n",
      "100%|█████████████████████████████████████████████| 4/4 [00:03<00:00,  1.15it/s]\n"
     ]
    },
    {
     "name": "stdout",
     "output_type": "stream",
     "text": [
      "Epoch : 162 - Train_loss : 1.0563 - Train_Acc: 0.5964 - Val_loss : 0.2073 - Val_Acc: 0.3917  - Time: 11.268168687820435\n",
      "\n"
     ]
    },
    {
     "name": "stderr",
     "output_type": "stream",
     "text": [
      "100%|█████████████████████████████████████████████| 9/9 [00:07<00:00,  1.16it/s]\n",
      "100%|█████████████████████████████████████████████| 4/4 [00:03<00:00,  1.18it/s]\n"
     ]
    },
    {
     "name": "stdout",
     "output_type": "stream",
     "text": [
      "Epoch : 163 - Train_loss : 1.0625 - Train_Acc: 0.5607 - Val_loss : 0.2075 - Val_Acc: 0.4000  - Time: 11.147929668426514\n",
      "\n"
     ]
    },
    {
     "name": "stderr",
     "output_type": "stream",
     "text": [
      "100%|█████████████████████████████████████████████| 9/9 [00:08<00:00,  1.09it/s]\n",
      "100%|█████████████████████████████████████████████| 4/4 [00:03<00:00,  1.17it/s]\n"
     ]
    },
    {
     "name": "stdout",
     "output_type": "stream",
     "text": [
      "Epoch : 164 - Train_loss : 1.0560 - Train_Acc: 0.5929 - Val_loss : 0.2074 - Val_Acc: 0.4083  - Time: 11.710211992263794\n",
      "\n"
     ]
    },
    {
     "name": "stderr",
     "output_type": "stream",
     "text": [
      "100%|█████████████████████████████████████████████| 9/9 [00:07<00:00,  1.14it/s]\n",
      "100%|█████████████████████████████████████████████| 4/4 [00:03<00:00,  1.06it/s]\n"
     ]
    },
    {
     "name": "stdout",
     "output_type": "stream",
     "text": [
      "Epoch : 165 - Train_loss : 1.0835 - Train_Acc: 0.5786 - Val_loss : 0.2072 - Val_Acc: 0.4167  - Time: 11.668552160263062\n",
      "\n"
     ]
    },
    {
     "name": "stderr",
     "output_type": "stream",
     "text": [
      "100%|█████████████████████████████████████████████| 9/9 [00:07<00:00,  1.21it/s]\n",
      "100%|█████████████████████████████████████████████| 4/4 [00:03<00:00,  1.03it/s]\n"
     ]
    },
    {
     "name": "stdout",
     "output_type": "stream",
     "text": [
      "Epoch : 166 - Train_loss : 1.0643 - Train_Acc: 0.5857 - Val_loss : 0.2072 - Val_Acc: 0.4167  - Time: 11.334394216537476\n",
      "\n"
     ]
    },
    {
     "name": "stderr",
     "output_type": "stream",
     "text": [
      "100%|█████████████████████████████████████████████| 9/9 [00:07<00:00,  1.24it/s]\n",
      "100%|█████████████████████████████████████████████| 4/4 [00:03<00:00,  1.10it/s]\n"
     ]
    },
    {
     "name": "stdout",
     "output_type": "stream",
     "text": [
      "Epoch : 167 - Train_loss : 1.0526 - Train_Acc: 0.6036 - Val_loss : 0.2073 - Val_Acc: 0.4167  - Time: 10.879985094070435\n",
      "\n"
     ]
    },
    {
     "name": "stderr",
     "output_type": "stream",
     "text": [
      "100%|█████████████████████████████████████████████| 9/9 [00:07<00:00,  1.16it/s]\n",
      "100%|█████████████████████████████████████████████| 4/4 [00:03<00:00,  1.08it/s]\n"
     ]
    },
    {
     "name": "stdout",
     "output_type": "stream",
     "text": [
      "Epoch : 168 - Train_loss : 1.0570 - Train_Acc: 0.5821 - Val_loss : 0.2074 - Val_Acc: 0.4000  - Time: 11.491649866104126\n",
      "\n"
     ]
    },
    {
     "name": "stderr",
     "output_type": "stream",
     "text": [
      "100%|█████████████████████████████████████████████| 9/9 [00:07<00:00,  1.16it/s]\n",
      "100%|█████████████████████████████████████████████| 4/4 [00:03<00:00,  1.15it/s]\n"
     ]
    },
    {
     "name": "stdout",
     "output_type": "stream",
     "text": [
      "Epoch : 169 - Train_loss : 1.0588 - Train_Acc: 0.5821 - Val_loss : 0.2074 - Val_Acc: 0.4000  - Time: 11.239022493362427\n",
      "\n"
     ]
    },
    {
     "name": "stderr",
     "output_type": "stream",
     "text": [
      "100%|█████████████████████████████████████████████| 9/9 [00:07<00:00,  1.15it/s]\n",
      "100%|█████████████████████████████████████████████| 4/4 [00:03<00:00,  1.16it/s]\n"
     ]
    },
    {
     "name": "stdout",
     "output_type": "stream",
     "text": [
      "Epoch : 170 - Train_loss : 1.0683 - Train_Acc: 0.5607 - Val_loss : 0.2073 - Val_Acc: 0.4167  - Time: 11.280955791473389\n",
      "\n"
     ]
    },
    {
     "name": "stderr",
     "output_type": "stream",
     "text": [
      "100%|█████████████████████████████████████████████| 9/9 [00:08<00:00,  1.07it/s]\n",
      "100%|█████████████████████████████████████████████| 4/4 [00:03<00:00,  1.16it/s]\n"
     ]
    },
    {
     "name": "stdout",
     "output_type": "stream",
     "text": [
      "Epoch : 171 - Train_loss : 1.0617 - Train_Acc: 0.5786 - Val_loss : 0.2074 - Val_Acc: 0.4167  - Time: 11.845672130584717\n",
      "\n"
     ]
    },
    {
     "name": "stderr",
     "output_type": "stream",
     "text": [
      "100%|█████████████████████████████████████████████| 9/9 [00:07<00:00,  1.16it/s]\n",
      "100%|█████████████████████████████████████████████| 4/4 [00:03<00:00,  1.10it/s]\n"
     ]
    },
    {
     "name": "stdout",
     "output_type": "stream",
     "text": [
      "Epoch : 172 - Train_loss : 1.0579 - Train_Acc: 0.5714 - Val_loss : 0.2075 - Val_Acc: 0.4167  - Time: 11.395478963851929\n",
      "\n"
     ]
    },
    {
     "name": "stderr",
     "output_type": "stream",
     "text": [
      "100%|█████████████████████████████████████████████| 9/9 [00:07<00:00,  1.20it/s]\n",
      "100%|█████████████████████████████████████████████| 4/4 [00:03<00:00,  1.06it/s]\n"
     ]
    },
    {
     "name": "stdout",
     "output_type": "stream",
     "text": [
      "Epoch : 173 - Train_loss : 1.0517 - Train_Acc: 0.5929 - Val_loss : 0.2072 - Val_Acc: 0.4083  - Time: 11.262949705123901\n",
      "\n"
     ]
    },
    {
     "name": "stderr",
     "output_type": "stream",
     "text": [
      "100%|█████████████████████████████████████████████| 9/9 [00:07<00:00,  1.21it/s]\n",
      "100%|█████████████████████████████████████████████| 4/4 [00:03<00:00,  1.08it/s]\n"
     ]
    },
    {
     "name": "stdout",
     "output_type": "stream",
     "text": [
      "Epoch : 174 - Train_loss : 1.0555 - Train_Acc: 0.5857 - Val_loss : 0.2072 - Val_Acc: 0.4083  - Time: 11.18980622291565\n",
      "\n"
     ]
    },
    {
     "name": "stderr",
     "output_type": "stream",
     "text": [
      "100%|█████████████████████████████████████████████| 9/9 [00:07<00:00,  1.19it/s]\n",
      "100%|█████████████████████████████████████████████| 4/4 [00:03<00:00,  1.04it/s]\n"
     ]
    },
    {
     "name": "stdout",
     "output_type": "stream",
     "text": [
      "Epoch : 175 - Train_loss : 1.0629 - Train_Acc: 0.5857 - Val_loss : 0.2073 - Val_Acc: 0.4167  - Time: 11.446593761444092\n",
      "\n"
     ]
    },
    {
     "name": "stderr",
     "output_type": "stream",
     "text": [
      "100%|█████████████████████████████████████████████| 9/9 [00:07<00:00,  1.15it/s]\n",
      "100%|█████████████████████████████████████████████| 4/4 [00:03<00:00,  1.16it/s]\n"
     ]
    },
    {
     "name": "stdout",
     "output_type": "stream",
     "text": [
      "Epoch : 176 - Train_loss : 1.0570 - Train_Acc: 0.5679 - Val_loss : 0.2073 - Val_Acc: 0.4083  - Time: 11.291122198104858\n",
      "\n"
     ]
    },
    {
     "name": "stderr",
     "output_type": "stream",
     "text": [
      "100%|█████████████████████████████████████████████| 9/9 [00:07<00:00,  1.18it/s]\n",
      "100%|█████████████████████████████████████████████| 4/4 [00:03<00:00,  1.16it/s]\n"
     ]
    },
    {
     "name": "stdout",
     "output_type": "stream",
     "text": [
      "Epoch : 177 - Train_loss : 1.0525 - Train_Acc: 0.5786 - Val_loss : 0.2073 - Val_Acc: 0.4167  - Time: 11.113876342773438\n",
      "\n"
     ]
    },
    {
     "name": "stderr",
     "output_type": "stream",
     "text": [
      "100%|█████████████████████████████████████████████| 9/9 [00:08<00:00,  1.10it/s]\n",
      "100%|█████████████████████████████████████████████| 4/4 [00:03<00:00,  1.16it/s]\n"
     ]
    },
    {
     "name": "stdout",
     "output_type": "stream",
     "text": [
      "Epoch : 178 - Train_loss : 1.0774 - Train_Acc: 0.5714 - Val_loss : 0.2074 - Val_Acc: 0.4167  - Time: 11.645468711853027\n",
      "\n"
     ]
    },
    {
     "name": "stderr",
     "output_type": "stream",
     "text": [
      "100%|█████████████████████████████████████████████| 9/9 [00:07<00:00,  1.20it/s]\n",
      "100%|█████████████████████████████████████████████| 4/4 [00:03<00:00,  1.10it/s]\n"
     ]
    },
    {
     "name": "stdout",
     "output_type": "stream",
     "text": [
      "Epoch : 179 - Train_loss : 1.0872 - Train_Acc: 0.5714 - Val_loss : 0.2074 - Val_Acc: 0.4167  - Time: 11.17590594291687\n",
      "\n"
     ]
    },
    {
     "name": "stderr",
     "output_type": "stream",
     "text": [
      "100%|█████████████████████████████████████████████| 9/9 [00:07<00:00,  1.17it/s]\n",
      "100%|█████████████████████████████████████████████| 4/4 [00:03<00:00,  1.07it/s]\n"
     ]
    },
    {
     "name": "stdout",
     "output_type": "stream",
     "text": [
      "Epoch : 180 - Train_loss : 1.0559 - Train_Acc: 0.5750 - Val_loss : 0.2074 - Val_Acc: 0.4167  - Time: 11.466377973556519\n",
      "\n"
     ]
    },
    {
     "name": "stderr",
     "output_type": "stream",
     "text": [
      "100%|█████████████████████████████████████████████| 9/9 [00:07<00:00,  1.22it/s]\n",
      "100%|█████████████████████████████████████████████| 4/4 [00:03<00:00,  1.06it/s]\n"
     ]
    },
    {
     "name": "stdout",
     "output_type": "stream",
     "text": [
      "Epoch : 181 - Train_loss : 1.0651 - Train_Acc: 0.5643 - Val_loss : 0.2075 - Val_Acc: 0.4083  - Time: 11.153960227966309\n",
      "\n"
     ]
    },
    {
     "name": "stderr",
     "output_type": "stream",
     "text": [
      "100%|█████████████████████████████████████████████| 9/9 [00:08<00:00,  1.12it/s]\n",
      "100%|█████████████████████████████████████████████| 4/4 [00:03<00:00,  1.01it/s]\n"
     ]
    },
    {
     "name": "stdout",
     "output_type": "stream",
     "text": [
      "Epoch : 182 - Train_loss : 1.0571 - Train_Acc: 0.5750 - Val_loss : 0.2075 - Val_Acc: 0.4167  - Time: 11.971875429153442\n",
      "\n"
     ]
    },
    {
     "name": "stderr",
     "output_type": "stream",
     "text": [
      "100%|█████████████████████████████████████████████| 9/9 [00:07<00:00,  1.13it/s]\n",
      "100%|█████████████████████████████████████████████| 4/4 [00:03<00:00,  1.19it/s]\n"
     ]
    },
    {
     "name": "stdout",
     "output_type": "stream",
     "text": [
      "Epoch : 183 - Train_loss : 1.0604 - Train_Acc: 0.5571 - Val_loss : 0.2074 - Val_Acc: 0.4083  - Time: 11.317407846450806\n",
      "\n"
     ]
    },
    {
     "name": "stderr",
     "output_type": "stream",
     "text": [
      "100%|█████████████████████████████████████████████| 9/9 [00:07<00:00,  1.14it/s]\n",
      "100%|█████████████████████████████████████████████| 4/4 [00:03<00:00,  1.18it/s]\n"
     ]
    },
    {
     "name": "stdout",
     "output_type": "stream",
     "text": [
      "Epoch : 184 - Train_loss : 1.0533 - Train_Acc: 0.5893 - Val_loss : 0.2073 - Val_Acc: 0.4167  - Time: 11.313860177993774\n",
      "\n"
     ]
    },
    {
     "name": "stderr",
     "output_type": "stream",
     "text": [
      "100%|█████████████████████████████████████████████| 9/9 [00:08<00:00,  1.12it/s]\n",
      "100%|█████████████████████████████████████████████| 4/4 [00:03<00:00,  1.09it/s]\n"
     ]
    },
    {
     "name": "stdout",
     "output_type": "stream",
     "text": [
      "Epoch : 185 - Train_loss : 1.0494 - Train_Acc: 0.5643 - Val_loss : 0.2073 - Val_Acc: 0.4167  - Time: 11.71627426147461\n",
      "\n"
     ]
    },
    {
     "name": "stderr",
     "output_type": "stream",
     "text": [
      "100%|█████████████████████████████████████████████| 9/9 [00:07<00:00,  1.19it/s]\n",
      "100%|█████████████████████████████████████████████| 4/4 [00:03<00:00,  1.04it/s]\n"
     ]
    },
    {
     "name": "stdout",
     "output_type": "stream",
     "text": [
      "Epoch : 186 - Train_loss : 1.0655 - Train_Acc: 0.5821 - Val_loss : 0.2075 - Val_Acc: 0.4167  - Time: 11.412151098251343\n",
      "\n"
     ]
    },
    {
     "name": "stderr",
     "output_type": "stream",
     "text": [
      "100%|█████████████████████████████████████████████| 9/9 [00:07<00:00,  1.23it/s]\n",
      "100%|█████████████████████████████████████████████| 4/4 [00:03<00:00,  1.10it/s]\n"
     ]
    },
    {
     "name": "stdout",
     "output_type": "stream",
     "text": [
      "Epoch : 187 - Train_loss : 1.0651 - Train_Acc: 0.5750 - Val_loss : 0.2076 - Val_Acc: 0.4167  - Time: 10.922314167022705\n",
      "\n"
     ]
    },
    {
     "name": "stderr",
     "output_type": "stream",
     "text": [
      "100%|█████████████████████████████████████████████| 9/9 [00:07<00:00,  1.23it/s]\n",
      "100%|█████████████████████████████████████████████| 4/4 [00:03<00:00,  1.13it/s]\n"
     ]
    },
    {
     "name": "stdout",
     "output_type": "stream",
     "text": [
      "Epoch : 188 - Train_loss : 1.0496 - Train_Acc: 0.5964 - Val_loss : 0.2075 - Val_Acc: 0.4083  - Time: 10.886880159378052\n",
      "\n"
     ]
    },
    {
     "name": "stderr",
     "output_type": "stream",
     "text": [
      "100%|█████████████████████████████████████████████| 9/9 [00:08<00:00,  1.12it/s]\n",
      "100%|█████████████████████████████████████████████| 4/4 [00:03<00:00,  1.03it/s]\n"
     ]
    },
    {
     "name": "stdout",
     "output_type": "stream",
     "text": [
      "Epoch : 189 - Train_loss : 1.0521 - Train_Acc: 0.5821 - Val_loss : 0.2074 - Val_Acc: 0.4167  - Time: 11.893709897994995\n",
      "\n"
     ]
    },
    {
     "name": "stderr",
     "output_type": "stream",
     "text": [
      "100%|█████████████████████████████████████████████| 9/9 [00:07<00:00,  1.17it/s]\n",
      "100%|█████████████████████████████████████████████| 4/4 [00:03<00:00,  1.16it/s]\n"
     ]
    },
    {
     "name": "stdout",
     "output_type": "stream",
     "text": [
      "Epoch : 190 - Train_loss : 1.0481 - Train_Acc: 0.5857 - Val_loss : 0.2075 - Val_Acc: 0.4083  - Time: 11.16408085823059\n",
      "\n"
     ]
    },
    {
     "name": "stderr",
     "output_type": "stream",
     "text": [
      "100%|█████████████████████████████████████████████| 9/9 [00:07<00:00,  1.15it/s]\n",
      "100%|█████████████████████████████████████████████| 4/4 [00:03<00:00,  1.15it/s]\n"
     ]
    },
    {
     "name": "stdout",
     "output_type": "stream",
     "text": [
      "Epoch : 191 - Train_loss : 1.0455 - Train_Acc: 0.5964 - Val_loss : 0.2072 - Val_Acc: 0.4167  - Time: 11.29896855354309\n",
      "\n"
     ]
    },
    {
     "name": "stderr",
     "output_type": "stream",
     "text": [
      "100%|█████████████████████████████████████████████| 9/9 [00:07<00:00,  1.13it/s]\n",
      "100%|█████████████████████████████████████████████| 4/4 [00:03<00:00,  1.10it/s]\n"
     ]
    },
    {
     "name": "stdout",
     "output_type": "stream",
     "text": [
      "Epoch : 192 - Train_loss : 1.0605 - Train_Acc: 0.5607 - Val_loss : 0.2073 - Val_Acc: 0.4083  - Time: 11.632152318954468\n",
      "\n"
     ]
    },
    {
     "name": "stderr",
     "output_type": "stream",
     "text": [
      "100%|█████████████████████████████████████████████| 9/9 [00:07<00:00,  1.19it/s]\n",
      "100%|█████████████████████████████████████████████| 4/4 [00:03<00:00,  1.04it/s]\n"
     ]
    },
    {
     "name": "stdout",
     "output_type": "stream",
     "text": [
      "Epoch : 193 - Train_loss : 1.0529 - Train_Acc: 0.5821 - Val_loss : 0.2073 - Val_Acc: 0.4167  - Time: 11.452396631240845\n",
      "\n"
     ]
    },
    {
     "name": "stderr",
     "output_type": "stream",
     "text": [
      "100%|█████████████████████████████████████████████| 9/9 [00:07<00:00,  1.20it/s]\n",
      "100%|█████████████████████████████████████████████| 4/4 [00:03<00:00,  1.08it/s]\n"
     ]
    },
    {
     "name": "stdout",
     "output_type": "stream",
     "text": [
      "Epoch : 194 - Train_loss : 1.0565 - Train_Acc: 0.5679 - Val_loss : 0.2072 - Val_Acc: 0.4167  - Time: 11.206499814987183\n",
      "\n"
     ]
    },
    {
     "name": "stderr",
     "output_type": "stream",
     "text": [
      "100%|█████████████████████████████████████████████| 9/9 [00:07<00:00,  1.20it/s]\n",
      "100%|█████████████████████████████████████████████| 4/4 [00:03<00:00,  1.12it/s]\n"
     ]
    },
    {
     "name": "stdout",
     "output_type": "stream",
     "text": [
      "Epoch : 195 - Train_loss : 1.0501 - Train_Acc: 0.5571 - Val_loss : 0.2073 - Val_Acc: 0.4167  - Time: 11.099836349487305\n",
      "\n"
     ]
    },
    {
     "name": "stderr",
     "output_type": "stream",
     "text": [
      "100%|█████████████████████████████████████████████| 9/9 [00:08<00:00,  1.12it/s]\n",
      "100%|█████████████████████████████████████████████| 4/4 [00:03<00:00,  1.02it/s]\n"
     ]
    },
    {
     "name": "stdout",
     "output_type": "stream",
     "text": [
      "Epoch : 196 - Train_loss : 1.0396 - Train_Acc: 0.5679 - Val_loss : 0.2072 - Val_Acc: 0.4167  - Time: 11.979579210281372\n",
      "\n"
     ]
    },
    {
     "name": "stderr",
     "output_type": "stream",
     "text": [
      "100%|█████████████████████████████████████████████| 9/9 [00:07<00:00,  1.14it/s]\n",
      "100%|█████████████████████████████████████████████| 4/4 [00:03<00:00,  1.17it/s]\n"
     ]
    },
    {
     "name": "stdout",
     "output_type": "stream",
     "text": [
      "Epoch : 197 - Train_loss : 1.0476 - Train_Acc: 0.5643 - Val_loss : 0.2073 - Val_Acc: 0.4167  - Time: 11.326607942581177\n",
      "\n"
     ]
    },
    {
     "name": "stderr",
     "output_type": "stream",
     "text": [
      "100%|█████████████████████████████████████████████| 9/9 [00:07<00:00,  1.13it/s]\n",
      "100%|█████████████████████████████████████████████| 4/4 [00:03<00:00,  1.18it/s]\n"
     ]
    },
    {
     "name": "stdout",
     "output_type": "stream",
     "text": [
      "Epoch : 198 - Train_loss : 1.0373 - Train_Acc: 0.5821 - Val_loss : 0.2073 - Val_Acc: 0.4083  - Time: 11.370531797409058\n",
      "\n"
     ]
    },
    {
     "name": "stderr",
     "output_type": "stream",
     "text": [
      "100%|█████████████████████████████████████████████| 9/9 [00:07<00:00,  1.13it/s]\n",
      "100%|█████████████████████████████████████████████| 4/4 [00:03<00:00,  1.04it/s]\n"
     ]
    },
    {
     "name": "stdout",
     "output_type": "stream",
     "text": [
      "Epoch : 199 - Train_loss : 1.0667 - Train_Acc: 0.5714 - Val_loss : 0.2072 - Val_Acc: 0.4083  - Time: 11.795548677444458\n",
      "\n"
     ]
    },
    {
     "name": "stderr",
     "output_type": "stream",
     "text": [
      "100%|█████████████████████████████████████████████| 9/9 [00:07<00:00,  1.19it/s]\n",
      "100%|█████████████████████████████████████████████| 4/4 [00:03<00:00,  1.08it/s]\n"
     ]
    },
    {
     "name": "stdout",
     "output_type": "stream",
     "text": [
      "Epoch : 200 - Train_loss : 1.0438 - Train_Acc: 0.6000 - Val_loss : 0.2074 - Val_Acc: 0.4167  - Time: 11.312337160110474\n",
      "\n"
     ]
    },
    {
     "name": "stderr",
     "output_type": "stream",
     "text": [
      "100%|█████████████████████████████████████████████| 9/9 [00:07<00:00,  1.19it/s]\n",
      "100%|█████████████████████████████████████████████| 4/4 [00:03<00:00,  1.13it/s]\n"
     ]
    },
    {
     "name": "stdout",
     "output_type": "stream",
     "text": [
      "Epoch : 201 - Train_loss : 1.0362 - Train_Acc: 0.5857 - Val_loss : 0.2074 - Val_Acc: 0.4083  - Time: 11.07126235961914\n",
      "\n"
     ]
    },
    {
     "name": "stderr",
     "output_type": "stream",
     "text": [
      "100%|█████████████████████████████████████████████| 9/9 [00:07<00:00,  1.17it/s]\n",
      "100%|█████████████████████████████████████████████| 4/4 [00:03<00:00,  1.15it/s]\n"
     ]
    },
    {
     "name": "stdout",
     "output_type": "stream",
     "text": [
      "Epoch : 202 - Train_loss : 1.0533 - Train_Acc: 0.5714 - Val_loss : 0.2073 - Val_Acc: 0.4000  - Time: 11.167019844055176\n",
      "\n"
     ]
    },
    {
     "name": "stderr",
     "output_type": "stream",
     "text": [
      "100%|█████████████████████████████████████████████| 9/9 [00:08<00:00,  1.12it/s]\n",
      "100%|█████████████████████████████████████████████| 4/4 [00:03<00:00,  1.05it/s]\n"
     ]
    },
    {
     "name": "stdout",
     "output_type": "stream",
     "text": [
      "Epoch : 203 - Train_loss : 1.0514 - Train_Acc: 0.5786 - Val_loss : 0.2072 - Val_Acc: 0.4083  - Time: 11.871429920196533\n",
      "\n"
     ]
    },
    {
     "name": "stderr",
     "output_type": "stream",
     "text": [
      "100%|█████████████████████████████████████████████| 9/9 [00:07<00:00,  1.16it/s]\n",
      "100%|█████████████████████████████████████████████| 4/4 [00:03<00:00,  1.15it/s]\n"
     ]
    },
    {
     "name": "stdout",
     "output_type": "stream",
     "text": [
      "Epoch : 204 - Train_loss : 1.0497 - Train_Acc: 0.5821 - Val_loss : 0.2070 - Val_Acc: 0.4167  - Time: 11.251253128051758\n",
      "\n"
     ]
    },
    {
     "name": "stderr",
     "output_type": "stream",
     "text": [
      "100%|█████████████████████████████████████████████| 9/9 [00:07<00:00,  1.15it/s]\n",
      "100%|█████████████████████████████████████████████| 4/4 [00:03<00:00,  1.11it/s]\n"
     ]
    },
    {
     "name": "stdout",
     "output_type": "stream",
     "text": [
      "Epoch : 205 - Train_loss : 1.0620 - Train_Acc: 0.5571 - Val_loss : 0.2071 - Val_Acc: 0.4083  - Time: 11.420030355453491\n",
      "\n"
     ]
    },
    {
     "name": "stderr",
     "output_type": "stream",
     "text": [
      "100%|█████████████████████████████████████████████| 9/9 [00:07<00:00,  1.13it/s]\n",
      "100%|█████████████████████████████████████████████| 4/4 [00:03<00:00,  1.07it/s]\n"
     ]
    },
    {
     "name": "stdout",
     "output_type": "stream",
     "text": [
      "Epoch : 206 - Train_loss : 1.0569 - Train_Acc: 0.5536 - Val_loss : 0.2072 - Val_Acc: 0.4083  - Time: 11.705301761627197\n",
      "\n"
     ]
    },
    {
     "name": "stderr",
     "output_type": "stream",
     "text": [
      "100%|█████████████████████████████████████████████| 9/9 [00:07<00:00,  1.21it/s]\n",
      "100%|█████████████████████████████████████████████| 4/4 [00:03<00:00,  1.04it/s]\n"
     ]
    },
    {
     "name": "stdout",
     "output_type": "stream",
     "text": [
      "Epoch : 207 - Train_loss : 1.0393 - Train_Acc: 0.5893 - Val_loss : 0.2072 - Val_Acc: 0.4000  - Time: 11.303163766860962\n",
      "\n"
     ]
    },
    {
     "name": "stderr",
     "output_type": "stream",
     "text": [
      "100%|█████████████████████████████████████████████| 9/9 [00:07<00:00,  1.20it/s]\n",
      "100%|█████████████████████████████████████████████| 4/4 [00:03<00:00,  1.14it/s]\n"
     ]
    },
    {
     "name": "stdout",
     "output_type": "stream",
     "text": [
      "Epoch : 208 - Train_loss : 1.0466 - Train_Acc: 0.5893 - Val_loss : 0.2071 - Val_Acc: 0.4083  - Time: 11.014376878738403\n",
      "\n"
     ]
    },
    {
     "name": "stderr",
     "output_type": "stream",
     "text": [
      "100%|█████████████████████████████████████████████| 9/9 [00:07<00:00,  1.17it/s]\n",
      "100%|█████████████████████████████████████████████| 4/4 [00:03<00:00,  1.17it/s]\n"
     ]
    },
    {
     "name": "stdout",
     "output_type": "stream",
     "text": [
      "Epoch : 209 - Train_loss : 1.0409 - Train_Acc: 0.6036 - Val_loss : 0.2072 - Val_Acc: 0.4250  - Time: 11.10132884979248\n",
      "\n"
     ]
    },
    {
     "name": "stderr",
     "output_type": "stream",
     "text": [
      "100%|█████████████████████████████████████████████| 9/9 [00:07<00:00,  1.14it/s]\n",
      "100%|█████████████████████████████████████████████| 4/4 [00:03<00:00,  1.06it/s]\n"
     ]
    },
    {
     "name": "stdout",
     "output_type": "stream",
     "text": [
      "Epoch : 210 - Train_loss : 1.0612 - Train_Acc: 0.5893 - Val_loss : 0.2073 - Val_Acc: 0.4083  - Time: 11.643605947494507\n",
      "\n"
     ]
    },
    {
     "name": "stderr",
     "output_type": "stream",
     "text": [
      "100%|█████████████████████████████████████████████| 9/9 [00:08<00:00,  1.09it/s]\n",
      "100%|█████████████████████████████████████████████| 4/4 [00:03<00:00,  1.20it/s]\n"
     ]
    },
    {
     "name": "stdout",
     "output_type": "stream",
     "text": [
      "Epoch : 211 - Train_loss : 1.0517 - Train_Acc: 0.5714 - Val_loss : 0.2075 - Val_Acc: 0.3917  - Time: 11.624425888061523\n",
      "\n"
     ]
    },
    {
     "name": "stderr",
     "output_type": "stream",
     "text": [
      "100%|█████████████████████████████████████████████| 9/9 [00:07<00:00,  1.16it/s]\n",
      "100%|█████████████████████████████████████████████| 4/4 [00:03<00:00,  1.11it/s]\n"
     ]
    },
    {
     "name": "stdout",
     "output_type": "stream",
     "text": [
      "Epoch : 212 - Train_loss : 1.0357 - Train_Acc: 0.5929 - Val_loss : 0.2072 - Val_Acc: 0.4000  - Time: 11.365443468093872\n",
      "\n"
     ]
    },
    {
     "name": "stderr",
     "output_type": "stream",
     "text": [
      "100%|█████████████████████████████████████████████| 9/9 [00:08<00:00,  1.12it/s]\n",
      "100%|█████████████████████████████████████████████| 4/4 [00:03<00:00,  1.05it/s]\n"
     ]
    },
    {
     "name": "stdout",
     "output_type": "stream",
     "text": [
      "Epoch : 213 - Train_loss : 1.0322 - Train_Acc: 0.5643 - Val_loss : 0.2073 - Val_Acc: 0.4000  - Time: 11.8092622756958\n",
      "\n"
     ]
    },
    {
     "name": "stderr",
     "output_type": "stream",
     "text": [
      "100%|█████████████████████████████████████████████| 9/9 [00:07<00:00,  1.24it/s]\n",
      "100%|█████████████████████████████████████████████| 4/4 [00:03<00:00,  1.07it/s]\n"
     ]
    },
    {
     "name": "stdout",
     "output_type": "stream",
     "text": [
      "Epoch : 214 - Train_loss : 1.0429 - Train_Acc: 0.5929 - Val_loss : 0.2071 - Val_Acc: 0.4000  - Time: 10.998857736587524\n",
      "\n"
     ]
    },
    {
     "name": "stderr",
     "output_type": "stream",
     "text": [
      "100%|█████████████████████████████████████████████| 9/9 [00:07<00:00,  1.17it/s]\n",
      "100%|█████████████████████████████████████████████| 4/4 [00:03<00:00,  1.18it/s]\n"
     ]
    },
    {
     "name": "stdout",
     "output_type": "stream",
     "text": [
      "Epoch : 215 - Train_loss : 1.0399 - Train_Acc: 0.5893 - Val_loss : 0.2071 - Val_Acc: 0.4083  - Time: 11.08170485496521\n",
      "\n"
     ]
    },
    {
     "name": "stderr",
     "output_type": "stream",
     "text": [
      "100%|█████████████████████████████████████████████| 9/9 [00:07<00:00,  1.15it/s]\n",
      "100%|█████████████████████████████████████████████| 4/4 [00:03<00:00,  1.21it/s]\n"
     ]
    },
    {
     "name": "stdout",
     "output_type": "stream",
     "text": [
      "Epoch : 216 - Train_loss : 1.0540 - Train_Acc: 0.5857 - Val_loss : 0.2073 - Val_Acc: 0.4083  - Time: 11.152109861373901\n",
      "\n"
     ]
    },
    {
     "name": "stderr",
     "output_type": "stream",
     "text": [
      "100%|█████████████████████████████████████████████| 9/9 [00:07<00:00,  1.15it/s]\n",
      "100%|█████████████████████████████████████████████| 4/4 [00:03<00:00,  1.04it/s]\n"
     ]
    },
    {
     "name": "stdout",
     "output_type": "stream",
     "text": [
      "Epoch : 217 - Train_loss : 1.0412 - Train_Acc: 0.5821 - Val_loss : 0.2074 - Val_Acc: 0.4167  - Time: 11.70346999168396\n",
      "\n"
     ]
    },
    {
     "name": "stderr",
     "output_type": "stream",
     "text": [
      "100%|█████████████████████████████████████████████| 9/9 [00:07<00:00,  1.15it/s]\n",
      "100%|█████████████████████████████████████████████| 4/4 [00:03<00:00,  1.19it/s]\n"
     ]
    },
    {
     "name": "stdout",
     "output_type": "stream",
     "text": [
      "Epoch : 218 - Train_loss : 1.0374 - Train_Acc: 0.5786 - Val_loss : 0.2073 - Val_Acc: 0.4000  - Time: 11.198021650314331\n",
      "\n"
     ]
    },
    {
     "name": "stderr",
     "output_type": "stream",
     "text": [
      "100%|█████████████████████████████████████████████| 9/9 [00:07<00:00,  1.19it/s]\n",
      "100%|█████████████████████████████████████████████| 4/4 [00:03<00:00,  1.13it/s]\n"
     ]
    },
    {
     "name": "stdout",
     "output_type": "stream",
     "text": [
      "Epoch : 219 - Train_loss : 1.0467 - Train_Acc: 0.5750 - Val_loss : 0.2071 - Val_Acc: 0.3917  - Time: 11.078374147415161\n",
      "\n"
     ]
    },
    {
     "name": "stderr",
     "output_type": "stream",
     "text": [
      "100%|█████████████████████████████████████████████| 9/9 [00:07<00:00,  1.13it/s]\n",
      "100%|█████████████████████████████████████████████| 4/4 [00:03<00:00,  1.09it/s]\n"
     ]
    },
    {
     "name": "stdout",
     "output_type": "stream",
     "text": [
      "Epoch : 220 - Train_loss : 1.0320 - Train_Acc: 0.5893 - Val_loss : 0.2072 - Val_Acc: 0.4000  - Time: 11.599550008773804\n",
      "\n"
     ]
    },
    {
     "name": "stderr",
     "output_type": "stream",
     "text": [
      "100%|█████████████████████████████████████████████| 9/9 [00:07<00:00,  1.22it/s]\n",
      "100%|█████████████████████████████████████████████| 4/4 [00:03<00:00,  1.03it/s]\n"
     ]
    },
    {
     "name": "stdout",
     "output_type": "stream",
     "text": [
      "Epoch : 221 - Train_loss : 1.0299 - Train_Acc: 0.5857 - Val_loss : 0.2073 - Val_Acc: 0.4167  - Time: 11.245233297348022\n",
      "\n"
     ]
    },
    {
     "name": "stderr",
     "output_type": "stream",
     "text": [
      "100%|█████████████████████████████████████████████| 9/9 [00:07<00:00,  1.23it/s]\n",
      "100%|█████████████████████████████████████████████| 4/4 [00:03<00:00,  1.05it/s]\n"
     ]
    },
    {
     "name": "stdout",
     "output_type": "stream",
     "text": [
      "Epoch : 222 - Train_loss : 1.0450 - Train_Acc: 0.5821 - Val_loss : 0.2071 - Val_Acc: 0.4083  - Time: 11.093857049942017\n",
      "\n"
     ]
    },
    {
     "name": "stderr",
     "output_type": "stream",
     "text": [
      "100%|█████████████████████████████████████████████| 9/9 [00:07<00:00,  1.19it/s]\n",
      "100%|█████████████████████████████████████████████| 4/4 [00:03<00:00,  1.20it/s]\n"
     ]
    },
    {
     "name": "stdout",
     "output_type": "stream",
     "text": [
      "Epoch : 223 - Train_loss : 1.0254 - Train_Acc: 0.6179 - Val_loss : 0.2069 - Val_Acc: 0.4250  - Time: 10.901190280914307\n",
      "\n"
     ]
    },
    {
     "name": "stderr",
     "output_type": "stream",
     "text": [
      "100%|█████████████████████████████████████████████| 9/9 [00:08<00:00,  1.12it/s]\n",
      "100%|█████████████████████████████████████████████| 4/4 [00:03<00:00,  1.06it/s]\n"
     ]
    },
    {
     "name": "stdout",
     "output_type": "stream",
     "text": [
      "Epoch : 224 - Train_loss : 1.0512 - Train_Acc: 0.5929 - Val_loss : 0.2071 - Val_Acc: 0.4417  - Time: 11.819802284240723\n",
      "\n"
     ]
    },
    {
     "name": "stderr",
     "output_type": "stream",
     "text": [
      "100%|█████████████████████████████████████████████| 9/9 [00:07<00:00,  1.14it/s]\n",
      "100%|█████████████████████████████████████████████| 4/4 [00:03<00:00,  1.15it/s]\n"
     ]
    },
    {
     "name": "stdout",
     "output_type": "stream",
     "text": [
      "Epoch : 225 - Train_loss : 1.0383 - Train_Acc: 0.5714 - Val_loss : 0.2073 - Val_Acc: 0.4083  - Time: 11.379909038543701\n",
      "\n"
     ]
    },
    {
     "name": "stderr",
     "output_type": "stream",
     "text": [
      "100%|█████████████████████████████████████████████| 9/9 [00:08<00:00,  1.11it/s]\n",
      "100%|█████████████████████████████████████████████| 4/4 [00:03<00:00,  1.15it/s]\n"
     ]
    },
    {
     "name": "stdout",
     "output_type": "stream",
     "text": [
      "Epoch : 226 - Train_loss : 1.0326 - Train_Acc: 0.5786 - Val_loss : 0.2074 - Val_Acc: 0.4167  - Time: 11.569961071014404\n",
      "\n"
     ]
    },
    {
     "name": "stderr",
     "output_type": "stream",
     "text": [
      "100%|█████████████████████████████████████████████| 9/9 [00:07<00:00,  1.13it/s]\n",
      "100%|█████████████████████████████████████████████| 4/4 [00:03<00:00,  1.09it/s]\n"
     ]
    },
    {
     "name": "stdout",
     "output_type": "stream",
     "text": [
      "Epoch : 227 - Train_loss : 1.0256 - Train_Acc: 0.6000 - Val_loss : 0.2073 - Val_Acc: 0.4250  - Time: 11.624537944793701\n",
      "\n"
     ]
    },
    {
     "name": "stderr",
     "output_type": "stream",
     "text": [
      "100%|█████████████████████████████████████████████| 9/9 [00:07<00:00,  1.19it/s]\n",
      "100%|█████████████████████████████████████████████| 4/4 [00:03<00:00,  1.07it/s]\n"
     ]
    },
    {
     "name": "stdout",
     "output_type": "stream",
     "text": [
      "Epoch : 228 - Train_loss : 1.0519 - Train_Acc: 0.5750 - Val_loss : 0.2072 - Val_Acc: 0.4417  - Time: 11.335509777069092\n",
      "\n"
     ]
    },
    {
     "name": "stderr",
     "output_type": "stream",
     "text": [
      "100%|█████████████████████████████████████████████| 9/9 [00:07<00:00,  1.24it/s]\n",
      "100%|█████████████████████████████████████████████| 4/4 [00:03<00:00,  1.05it/s]\n"
     ]
    },
    {
     "name": "stdout",
     "output_type": "stream",
     "text": [
      "Epoch : 229 - Train_loss : 1.0632 - Train_Acc: 0.5607 - Val_loss : 0.2073 - Val_Acc: 0.4333  - Time: 11.063889741897583\n",
      "\n"
     ]
    },
    {
     "name": "stderr",
     "output_type": "stream",
     "text": [
      "100%|█████████████████████████████████████████████| 9/9 [00:07<00:00,  1.20it/s]\n",
      "100%|█████████████████████████████████████████████| 4/4 [00:03<00:00,  1.14it/s]\n"
     ]
    },
    {
     "name": "stdout",
     "output_type": "stream",
     "text": [
      "Epoch : 230 - Train_loss : 1.0316 - Train_Acc: 0.5786 - Val_loss : 0.2076 - Val_Acc: 0.4250  - Time: 11.02507758140564\n",
      "\n"
     ]
    },
    {
     "name": "stderr",
     "output_type": "stream",
     "text": [
      "100%|█████████████████████████████████████████████| 9/9 [00:08<00:00,  1.10it/s]\n",
      "100%|█████████████████████████████████████████████| 4/4 [00:03<00:00,  1.04it/s]\n"
     ]
    },
    {
     "name": "stdout",
     "output_type": "stream",
     "text": [
      "Epoch : 231 - Train_loss : 1.0387 - Train_Acc: 0.6000 - Val_loss : 0.2075 - Val_Acc: 0.4250  - Time: 12.059668064117432\n",
      "\n"
     ]
    },
    {
     "name": "stderr",
     "output_type": "stream",
     "text": [
      "100%|█████████████████████████████████████████████| 9/9 [00:07<00:00,  1.13it/s]\n",
      "100%|█████████████████████████████████████████████| 4/4 [00:03<00:00,  1.19it/s]\n"
     ]
    },
    {
     "name": "stdout",
     "output_type": "stream",
     "text": [
      "Epoch : 232 - Train_loss : 1.0283 - Train_Acc: 0.6036 - Val_loss : 0.2077 - Val_Acc: 0.4083  - Time: 11.338951349258423\n",
      "\n"
     ]
    },
    {
     "name": "stderr",
     "output_type": "stream",
     "text": [
      "100%|█████████████████████████████████████████████| 9/9 [00:07<00:00,  1.14it/s]\n",
      "100%|█████████████████████████████████████████████| 4/4 [00:03<00:00,  1.13it/s]\n"
     ]
    },
    {
     "name": "stdout",
     "output_type": "stream",
     "text": [
      "Epoch : 233 - Train_loss : 1.0285 - Train_Acc: 0.6000 - Val_loss : 0.2075 - Val_Acc: 0.4333  - Time: 11.416644811630249\n",
      "\n"
     ]
    },
    {
     "name": "stderr",
     "output_type": "stream",
     "text": [
      "100%|█████████████████████████████████████████████| 9/9 [00:07<00:00,  1.18it/s]\n",
      "100%|█████████████████████████████████████████████| 4/4 [00:03<00:00,  1.09it/s]\n"
     ]
    },
    {
     "name": "stdout",
     "output_type": "stream",
     "text": [
      "Epoch : 234 - Train_loss : 1.0309 - Train_Acc: 0.5857 - Val_loss : 0.2075 - Val_Acc: 0.4250  - Time: 11.302562713623047\n",
      "\n"
     ]
    },
    {
     "name": "stderr",
     "output_type": "stream",
     "text": [
      "100%|█████████████████████████████████████████████| 9/9 [00:07<00:00,  1.24it/s]\n",
      "100%|█████████████████████████████████████████████| 4/4 [00:03<00:00,  1.06it/s]\n"
     ]
    },
    {
     "name": "stdout",
     "output_type": "stream",
     "text": [
      "Epoch : 235 - Train_loss : 1.0196 - Train_Acc: 0.6107 - Val_loss : 0.2075 - Val_Acc: 0.4333  - Time: 11.019065380096436\n",
      "\n"
     ]
    },
    {
     "name": "stderr",
     "output_type": "stream",
     "text": [
      "100%|█████████████████████████████████████████████| 9/9 [00:07<00:00,  1.22it/s]\n",
      "100%|█████████████████████████████████████████████| 4/4 [00:03<00:00,  1.05it/s]\n"
     ]
    },
    {
     "name": "stdout",
     "output_type": "stream",
     "text": [
      "Epoch : 236 - Train_loss : 1.0156 - Train_Acc: 0.6214 - Val_loss : 0.2075 - Val_Acc: 0.4333  - Time: 11.174107789993286\n",
      "\n"
     ]
    },
    {
     "name": "stderr",
     "output_type": "stream",
     "text": [
      "100%|█████████████████████████████████████████████| 9/9 [00:07<00:00,  1.22it/s]\n",
      "100%|█████████████████████████████████████████████| 4/4 [00:03<00:00,  1.14it/s]\n"
     ]
    },
    {
     "name": "stdout",
     "output_type": "stream",
     "text": [
      "Epoch : 237 - Train_loss : 1.0196 - Train_Acc: 0.5964 - Val_loss : 0.2075 - Val_Acc: 0.4333  - Time: 10.889500856399536\n",
      "\n"
     ]
    },
    {
     "name": "stderr",
     "output_type": "stream",
     "text": [
      "100%|█████████████████████████████████████████████| 9/9 [00:07<00:00,  1.17it/s]\n",
      "100%|█████████████████████████████████████████████| 4/4 [00:03<00:00,  1.04it/s]\n"
     ]
    },
    {
     "name": "stdout",
     "output_type": "stream",
     "text": [
      "Epoch : 238 - Train_loss : 1.0310 - Train_Acc: 0.6036 - Val_loss : 0.2074 - Val_Acc: 0.4333  - Time: 11.556254863739014\n",
      "\n"
     ]
    },
    {
     "name": "stderr",
     "output_type": "stream",
     "text": [
      "100%|█████████████████████████████████████████████| 9/9 [00:08<00:00,  1.10it/s]\n",
      "100%|█████████████████████████████████████████████| 4/4 [00:03<00:00,  1.12it/s]\n"
     ]
    },
    {
     "name": "stdout",
     "output_type": "stream",
     "text": [
      "Epoch : 239 - Train_loss : 1.0247 - Train_Acc: 0.6000 - Val_loss : 0.2075 - Val_Acc: 0.4333  - Time: 11.720276355743408\n",
      "\n"
     ]
    },
    {
     "name": "stderr",
     "output_type": "stream",
     "text": [
      "100%|█████████████████████████████████████████████| 9/9 [00:07<00:00,  1.13it/s]\n",
      "100%|█████████████████████████████████████████████| 4/4 [00:03<00:00,  1.17it/s]\n"
     ]
    },
    {
     "name": "stdout",
     "output_type": "stream",
     "text": [
      "Epoch : 240 - Train_loss : 1.0294 - Train_Acc: 0.6036 - Val_loss : 0.2076 - Val_Acc: 0.4250  - Time: 11.388636589050293\n",
      "\n"
     ]
    },
    {
     "name": "stderr",
     "output_type": "stream",
     "text": [
      "100%|█████████████████████████████████████████████| 9/9 [00:08<00:00,  1.12it/s]\n",
      "100%|█████████████████████████████████████████████| 4/4 [00:03<00:00,  1.12it/s]\n"
     ]
    },
    {
     "name": "stdout",
     "output_type": "stream",
     "text": [
      "Epoch : 241 - Train_loss : 1.0369 - Train_Acc: 0.5929 - Val_loss : 0.2073 - Val_Acc: 0.4250  - Time: 11.604631423950195\n",
      "\n"
     ]
    },
    {
     "name": "stderr",
     "output_type": "stream",
     "text": [
      "100%|█████████████████████████████████████████████| 9/9 [00:07<00:00,  1.17it/s]\n",
      "100%|█████████████████████████████████████████████| 4/4 [00:03<00:00,  1.02it/s]\n"
     ]
    },
    {
     "name": "stdout",
     "output_type": "stream",
     "text": [
      "Epoch : 242 - Train_loss : 1.0176 - Train_Acc: 0.6250 - Val_loss : 0.2076 - Val_Acc: 0.4167  - Time: 11.617493867874146\n",
      "\n"
     ]
    },
    {
     "name": "stderr",
     "output_type": "stream",
     "text": [
      "100%|█████████████████████████████████████████████| 9/9 [00:07<00:00,  1.24it/s]\n",
      "100%|█████████████████████████████████████████████| 4/4 [00:03<00:00,  1.05it/s]\n"
     ]
    },
    {
     "name": "stdout",
     "output_type": "stream",
     "text": [
      "Epoch : 243 - Train_loss : 1.0368 - Train_Acc: 0.6000 - Val_loss : 0.2076 - Val_Acc: 0.4167  - Time: 11.083863258361816\n",
      "\n"
     ]
    },
    {
     "name": "stderr",
     "output_type": "stream",
     "text": [
      "100%|█████████████████████████████████████████████| 9/9 [00:07<00:00,  1.20it/s]\n",
      "100%|█████████████████████████████████████████████| 4/4 [00:03<00:00,  1.16it/s]\n"
     ]
    },
    {
     "name": "stdout",
     "output_type": "stream",
     "text": [
      "Epoch : 244 - Train_loss : 1.0292 - Train_Acc: 0.6000 - Val_loss : 0.2075 - Val_Acc: 0.4167  - Time: 10.985300540924072\n",
      "\n"
     ]
    },
    {
     "name": "stderr",
     "output_type": "stream",
     "text": [
      "100%|█████████████████████████████████████████████| 9/9 [00:08<00:00,  1.12it/s]\n",
      "100%|█████████████████████████████████████████████| 4/4 [00:03<00:00,  1.04it/s]\n"
     ]
    },
    {
     "name": "stdout",
     "output_type": "stream",
     "text": [
      "Epoch : 245 - Train_loss : 1.0328 - Train_Acc: 0.5786 - Val_loss : 0.2076 - Val_Acc: 0.4167  - Time: 11.930257081985474\n",
      "\n"
     ]
    },
    {
     "name": "stderr",
     "output_type": "stream",
     "text": [
      "100%|█████████████████████████████████████████████| 9/9 [00:07<00:00,  1.16it/s]\n",
      "100%|█████████████████████████████████████████████| 4/4 [00:03<00:00,  1.13it/s]\n"
     ]
    },
    {
     "name": "stdout",
     "output_type": "stream",
     "text": [
      "Epoch : 246 - Train_loss : 1.0247 - Train_Acc: 0.5893 - Val_loss : 0.2077 - Val_Acc: 0.4250  - Time: 11.307502746582031\n",
      "\n"
     ]
    },
    {
     "name": "stderr",
     "output_type": "stream",
     "text": [
      "100%|█████████████████████████████████████████████| 9/9 [00:07<00:00,  1.20it/s]\n",
      "100%|█████████████████████████████████████████████| 4/4 [00:03<00:00,  1.15it/s]\n"
     ]
    },
    {
     "name": "stdout",
     "output_type": "stream",
     "text": [
      "Epoch : 247 - Train_loss : 1.0300 - Train_Acc: 0.5714 - Val_loss : 0.2079 - Val_Acc: 0.4167  - Time: 10.971232175827026\n",
      "\n"
     ]
    },
    {
     "name": "stderr",
     "output_type": "stream",
     "text": [
      "100%|█████████████████████████████████████████████| 9/9 [00:08<00:00,  1.12it/s]\n",
      "100%|█████████████████████████████████████████████| 4/4 [00:03<00:00,  1.13it/s]\n"
     ]
    },
    {
     "name": "stdout",
     "output_type": "stream",
     "text": [
      "Epoch : 248 - Train_loss : 1.0384 - Train_Acc: 0.5786 - Val_loss : 0.2076 - Val_Acc: 0.4250  - Time: 11.590094804763794\n",
      "\n"
     ]
    },
    {
     "name": "stderr",
     "output_type": "stream",
     "text": [
      "100%|█████████████████████████████████████████████| 9/9 [00:07<00:00,  1.20it/s]\n",
      "100%|█████████████████████████████████████████████| 4/4 [00:03<00:00,  1.03it/s]\n"
     ]
    },
    {
     "name": "stdout",
     "output_type": "stream",
     "text": [
      "Epoch : 249 - Train_loss : 1.0494 - Train_Acc: 0.5821 - Val_loss : 0.2077 - Val_Acc: 0.4333  - Time: 11.360525846481323\n",
      "\n"
     ]
    },
    {
     "name": "stderr",
     "output_type": "stream",
     "text": [
      "100%|█████████████████████████████████████████████| 9/9 [00:07<00:00,  1.22it/s]\n",
      "100%|█████████████████████████████████████████████| 4/4 [00:03<00:00,  1.06it/s]\n"
     ]
    },
    {
     "name": "stdout",
     "output_type": "stream",
     "text": [
      "Epoch : 250 - Train_loss : 1.0324 - Train_Acc: 0.5714 - Val_loss : 0.2077 - Val_Acc: 0.4333  - Time: 11.19394826889038\n",
      "\n"
     ]
    },
    {
     "name": "stderr",
     "output_type": "stream",
     "text": [
      "100%|█████████████████████████████████████████████| 9/9 [00:07<00:00,  1.19it/s]\n",
      "100%|█████████████████████████████████████████████| 4/4 [00:03<00:00,  1.13it/s]\n"
     ]
    },
    {
     "name": "stdout",
     "output_type": "stream",
     "text": [
      "Epoch : 251 - Train_loss : 1.0195 - Train_Acc: 0.5679 - Val_loss : 0.2077 - Val_Acc: 0.4333  - Time: 11.0843825340271\n",
      "\n"
     ]
    },
    {
     "name": "stderr",
     "output_type": "stream",
     "text": [
      "100%|█████████████████████████████████████████████| 9/9 [00:08<00:00,  1.12it/s]\n",
      "100%|█████████████████████████████████████████████| 4/4 [00:03<00:00,  1.02it/s]\n"
     ]
    },
    {
     "name": "stdout",
     "output_type": "stream",
     "text": [
      "Epoch : 252 - Train_loss : 1.0327 - Train_Acc: 0.5964 - Val_loss : 0.2076 - Val_Acc: 0.4250  - Time: 11.925468683242798\n",
      "\n"
     ]
    },
    {
     "name": "stderr",
     "output_type": "stream",
     "text": [
      "100%|█████████████████████████████████████████████| 9/9 [00:08<00:00,  1.10it/s]\n",
      "100%|█████████████████████████████████████████████| 4/4 [00:03<00:00,  1.16it/s]\n"
     ]
    },
    {
     "name": "stdout",
     "output_type": "stream",
     "text": [
      "Epoch : 253 - Train_loss : 1.0294 - Train_Acc: 0.5893 - Val_loss : 0.2076 - Val_Acc: 0.4333  - Time: 11.65641474723816\n",
      "\n"
     ]
    },
    {
     "name": "stderr",
     "output_type": "stream",
     "text": [
      "100%|█████████████████████████████████████████████| 9/9 [00:07<00:00,  1.15it/s]\n",
      "100%|█████████████████████████████████████████████| 4/4 [00:03<00:00,  1.12it/s]\n"
     ]
    },
    {
     "name": "stdout",
     "output_type": "stream",
     "text": [
      "Epoch : 254 - Train_loss : 1.0332 - Train_Acc: 0.5750 - Val_loss : 0.2076 - Val_Acc: 0.4167  - Time: 11.364054918289185\n",
      "\n"
     ]
    },
    {
     "name": "stderr",
     "output_type": "stream",
     "text": [
      "100%|█████████████████████████████████████████████| 9/9 [00:08<00:00,  1.12it/s]\n",
      "100%|█████████████████████████████████████████████| 4/4 [00:03<00:00,  1.06it/s]\n"
     ]
    },
    {
     "name": "stdout",
     "output_type": "stream",
     "text": [
      "Epoch : 255 - Train_loss : 1.0195 - Train_Acc: 0.6071 - Val_loss : 0.2076 - Val_Acc: 0.4167  - Time: 11.789792537689209\n",
      "\n"
     ]
    },
    {
     "name": "stderr",
     "output_type": "stream",
     "text": [
      "100%|█████████████████████████████████████████████| 9/9 [00:07<00:00,  1.19it/s]\n",
      "100%|█████████████████████████████████████████████| 4/4 [00:03<00:00,  1.06it/s]\n"
     ]
    },
    {
     "name": "stdout",
     "output_type": "stream",
     "text": [
      "Epoch : 256 - Train_loss : 1.0304 - Train_Acc: 0.5821 - Val_loss : 0.2079 - Val_Acc: 0.4333  - Time: 11.330495595932007\n",
      "\n"
     ]
    },
    {
     "name": "stderr",
     "output_type": "stream",
     "text": [
      "100%|█████████████████████████████████████████████| 9/9 [00:07<00:00,  1.22it/s]\n",
      "100%|█████████████████████████████████████████████| 4/4 [00:03<00:00,  1.18it/s]\n"
     ]
    },
    {
     "name": "stdout",
     "output_type": "stream",
     "text": [
      "Epoch : 257 - Train_loss : 1.0246 - Train_Acc: 0.5821 - Val_loss : 0.2081 - Val_Acc: 0.4083  - Time: 10.768181800842285\n",
      "\n"
     ]
    },
    {
     "name": "stderr",
     "output_type": "stream",
     "text": [
      "100%|█████████████████████████████████████████████| 9/9 [00:07<00:00,  1.16it/s]\n",
      "100%|█████████████████████████████████████████████| 4/4 [00:03<00:00,  1.19it/s]\n"
     ]
    },
    {
     "name": "stdout",
     "output_type": "stream",
     "text": [
      "Epoch : 258 - Train_loss : 1.0162 - Train_Acc: 0.5929 - Val_loss : 0.2080 - Val_Acc: 0.4083  - Time: 11.126690149307251\n",
      "\n"
     ]
    },
    {
     "name": "stderr",
     "output_type": "stream",
     "text": [
      "100%|█████████████████████████████████████████████| 9/9 [00:08<00:00,  1.10it/s]\n",
      "100%|█████████████████████████████████████████████| 4/4 [00:03<00:00,  1.07it/s]\n"
     ]
    },
    {
     "name": "stdout",
     "output_type": "stream",
     "text": [
      "Epoch : 259 - Train_loss : 1.0238 - Train_Acc: 0.6107 - Val_loss : 0.2081 - Val_Acc: 0.4083  - Time: 11.910728216171265\n",
      "\n"
     ]
    },
    {
     "name": "stderr",
     "output_type": "stream",
     "text": [
      "100%|█████████████████████████████████████████████| 9/9 [00:08<00:00,  1.12it/s]\n",
      "100%|█████████████████████████████████████████████| 4/4 [00:03<00:00,  1.17it/s]\n"
     ]
    },
    {
     "name": "stdout",
     "output_type": "stream",
     "text": [
      "Epoch : 260 - Train_loss : 1.0463 - Train_Acc: 0.6071 - Val_loss : 0.2080 - Val_Acc: 0.4167  - Time: 11.459860563278198\n",
      "\n"
     ]
    },
    {
     "name": "stderr",
     "output_type": "stream",
     "text": [
      "100%|█████████████████████████████████████████████| 9/9 [00:07<00:00,  1.17it/s]\n",
      "100%|█████████████████████████████████████████████| 4/4 [00:03<00:00,  1.15it/s]\n"
     ]
    },
    {
     "name": "stdout",
     "output_type": "stream",
     "text": [
      "Epoch : 261 - Train_loss : 1.0186 - Train_Acc: 0.5857 - Val_loss : 0.2077 - Val_Acc: 0.4167  - Time: 11.196982860565186\n",
      "\n"
     ]
    },
    {
     "name": "stderr",
     "output_type": "stream",
     "text": [
      "100%|█████████████████████████████████████████████| 9/9 [00:07<00:00,  1.15it/s]\n",
      "100%|█████████████████████████████████████████████| 4/4 [00:03<00:00,  1.06it/s]\n"
     ]
    },
    {
     "name": "stdout",
     "output_type": "stream",
     "text": [
      "Epoch : 262 - Train_loss : 1.0202 - Train_Acc: 0.6179 - Val_loss : 0.2078 - Val_Acc: 0.4167  - Time: 11.601810216903687\n",
      "\n"
     ]
    },
    {
     "name": "stderr",
     "output_type": "stream",
     "text": [
      "100%|█████████████████████████████████████████████| 9/9 [00:07<00:00,  1.19it/s]\n",
      "100%|█████████████████████████████████████████████| 4/4 [00:03<00:00,  1.03it/s]\n"
     ]
    },
    {
     "name": "stdout",
     "output_type": "stream",
     "text": [
      "Epoch : 263 - Train_loss : 1.0231 - Train_Acc: 0.5571 - Val_loss : 0.2077 - Val_Acc: 0.4167  - Time: 11.42520809173584\n",
      "\n"
     ]
    },
    {
     "name": "stderr",
     "output_type": "stream",
     "text": [
      "100%|█████████████████████████████████████████████| 9/9 [00:07<00:00,  1.22it/s]\n",
      "100%|█████████████████████████████████████████████| 4/4 [00:03<00:00,  1.13it/s]\n"
     ]
    },
    {
     "name": "stdout",
     "output_type": "stream",
     "text": [
      "Epoch : 264 - Train_loss : 1.0186 - Train_Acc: 0.5964 - Val_loss : 0.2078 - Val_Acc: 0.4167  - Time: 10.931914567947388\n",
      "\n"
     ]
    },
    {
     "name": "stderr",
     "output_type": "stream",
     "text": [
      "100%|█████████████████████████████████████████████| 9/9 [00:07<00:00,  1.15it/s]\n",
      "100%|█████████████████████████████████████████████| 4/4 [00:03<00:00,  1.16it/s]\n"
     ]
    },
    {
     "name": "stdout",
     "output_type": "stream",
     "text": [
      "Epoch : 265 - Train_loss : 1.0375 - Train_Acc: 0.5857 - Val_loss : 0.2077 - Val_Acc: 0.4167  - Time: 11.270045042037964\n",
      "\n"
     ]
    },
    {
     "name": "stderr",
     "output_type": "stream",
     "text": [
      "100%|█████████████████████████████████████████████| 9/9 [00:08<00:00,  1.12it/s]\n",
      "100%|█████████████████████████████████████████████| 4/4 [00:03<00:00,  1.07it/s]\n"
     ]
    },
    {
     "name": "stdout",
     "output_type": "stream",
     "text": [
      "Epoch : 266 - Train_loss : 1.0255 - Train_Acc: 0.5893 - Val_loss : 0.2076 - Val_Acc: 0.4167  - Time: 11.782225370407104\n",
      "\n"
     ]
    },
    {
     "name": "stderr",
     "output_type": "stream",
     "text": [
      "100%|█████████████████████████████████████████████| 9/9 [00:07<00:00,  1.16it/s]\n",
      "100%|█████████████████████████████████████████████| 4/4 [00:03<00:00,  1.14it/s]\n"
     ]
    },
    {
     "name": "stdout",
     "output_type": "stream",
     "text": [
      "Epoch : 267 - Train_loss : 1.0133 - Train_Acc: 0.5893 - Val_loss : 0.2077 - Val_Acc: 0.4167  - Time: 11.279364109039307\n",
      "\n"
     ]
    },
    {
     "name": "stderr",
     "output_type": "stream",
     "text": [
      "100%|█████████████████████████████████████████████| 9/9 [00:07<00:00,  1.15it/s]\n",
      "100%|█████████████████████████████████████████████| 4/4 [00:03<00:00,  1.16it/s]\n"
     ]
    },
    {
     "name": "stdout",
     "output_type": "stream",
     "text": [
      "Epoch : 268 - Train_loss : 1.0241 - Train_Acc: 0.5893 - Val_loss : 0.2077 - Val_Acc: 0.4167  - Time: 11.249754667282104\n",
      "\n"
     ]
    },
    {
     "name": "stderr",
     "output_type": "stream",
     "text": [
      "100%|█████████████████████████████████████████████| 9/9 [00:07<00:00,  1.13it/s]\n",
      "100%|█████████████████████████████████████████████| 4/4 [00:03<00:00,  1.07it/s]\n"
     ]
    },
    {
     "name": "stdout",
     "output_type": "stream",
     "text": [
      "Epoch : 269 - Train_loss : 1.0144 - Train_Acc: 0.6107 - Val_loss : 0.2080 - Val_Acc: 0.4167  - Time: 11.680886507034302\n",
      "\n"
     ]
    },
    {
     "name": "stderr",
     "output_type": "stream",
     "text": [
      "100%|█████████████████████████████████████████████| 9/9 [00:07<00:00,  1.20it/s]\n",
      "100%|█████████████████████████████████████████████| 4/4 [00:03<00:00,  1.06it/s]\n"
     ]
    },
    {
     "name": "stdout",
     "output_type": "stream",
     "text": [
      "Epoch : 270 - Train_loss : 1.0067 - Train_Acc: 0.6107 - Val_loss : 0.2079 - Val_Acc: 0.4167  - Time: 11.28292441368103\n",
      "\n"
     ]
    },
    {
     "name": "stderr",
     "output_type": "stream",
     "text": [
      "100%|█████████████████████████████████████████████| 9/9 [00:07<00:00,  1.22it/s]\n",
      "100%|█████████████████████████████████████████████| 4/4 [00:03<00:00,  1.11it/s]\n"
     ]
    },
    {
     "name": "stdout",
     "output_type": "stream",
     "text": [
      "Epoch : 271 - Train_loss : 1.0183 - Train_Acc: 0.6143 - Val_loss : 0.2077 - Val_Acc: 0.4167  - Time: 10.9626305103302\n",
      "\n"
     ]
    },
    {
     "name": "stderr",
     "output_type": "stream",
     "text": [
      "100%|█████████████████████████████████████████████| 9/9 [00:07<00:00,  1.24it/s]\n",
      "100%|█████████████████████████████████████████████| 4/4 [00:03<00:00,  1.14it/s]\n"
     ]
    },
    {
     "name": "stdout",
     "output_type": "stream",
     "text": [
      "Epoch : 272 - Train_loss : 1.0113 - Train_Acc: 0.5786 - Val_loss : 0.2078 - Val_Acc: 0.4167  - Time: 10.785696744918823\n",
      "\n"
     ]
    },
    {
     "name": "stderr",
     "output_type": "stream",
     "text": [
      "100%|█████████████████████████████████████████████| 9/9 [00:07<00:00,  1.13it/s]\n",
      "100%|█████████████████████████████████████████████| 4/4 [00:03<00:00,  1.07it/s]\n"
     ]
    },
    {
     "name": "stdout",
     "output_type": "stream",
     "text": [
      "Epoch : 273 - Train_loss : 1.0126 - Train_Acc: 0.5964 - Val_loss : 0.2079 - Val_Acc: 0.4167  - Time: 11.685728073120117\n",
      "\n"
     ]
    },
    {
     "name": "stderr",
     "output_type": "stream",
     "text": [
      "100%|█████████████████████████████████████████████| 9/9 [00:07<00:00,  1.15it/s]\n",
      "100%|█████████████████████████████████████████████| 4/4 [00:03<00:00,  1.15it/s]\n"
     ]
    },
    {
     "name": "stdout",
     "output_type": "stream",
     "text": [
      "Epoch : 274 - Train_loss : 1.0317 - Train_Acc: 0.5857 - Val_loss : 0.2079 - Val_Acc: 0.4167  - Time: 11.31054973602295\n",
      "\n"
     ]
    },
    {
     "name": "stderr",
     "output_type": "stream",
     "text": [
      "100%|█████████████████████████████████████████████| 9/9 [00:07<00:00,  1.14it/s]\n",
      "100%|█████████████████████████████████████████████| 4/4 [00:03<00:00,  1.17it/s]\n"
     ]
    },
    {
     "name": "stdout",
     "output_type": "stream",
     "text": [
      "Epoch : 275 - Train_loss : 1.0071 - Train_Acc: 0.5929 - Val_loss : 0.2080 - Val_Acc: 0.4167  - Time: 11.301672220230103\n",
      "\n"
     ]
    },
    {
     "name": "stderr",
     "output_type": "stream",
     "text": [
      "100%|█████████████████████████████████████████████| 9/9 [00:08<00:00,  1.10it/s]\n",
      "100%|█████████████████████████████████████████████| 4/4 [00:03<00:00,  1.10it/s]\n"
     ]
    },
    {
     "name": "stdout",
     "output_type": "stream",
     "text": [
      "Epoch : 276 - Train_loss : 1.0125 - Train_Acc: 0.5929 - Val_loss : 0.2080 - Val_Acc: 0.4333  - Time: 11.86224627494812\n",
      "\n"
     ]
    },
    {
     "name": "stderr",
     "output_type": "stream",
     "text": [
      "100%|█████████████████████████████████████████████| 9/9 [00:07<00:00,  1.17it/s]\n",
      "100%|█████████████████████████████████████████████| 4/4 [00:03<00:00,  1.05it/s]\n"
     ]
    },
    {
     "name": "stdout",
     "output_type": "stream",
     "text": [
      "Epoch : 277 - Train_loss : 1.0200 - Train_Acc: 0.5929 - Val_loss : 0.2079 - Val_Acc: 0.4167  - Time: 11.491502523422241\n",
      "\n"
     ]
    },
    {
     "name": "stderr",
     "output_type": "stream",
     "text": [
      "100%|█████████████████████████████████████████████| 9/9 [00:07<00:00,  1.22it/s]\n",
      "100%|█████████████████████████████████████████████| 4/4 [00:03<00:00,  1.07it/s]\n"
     ]
    },
    {
     "name": "stdout",
     "output_type": "stream",
     "text": [
      "Epoch : 278 - Train_loss : 1.0014 - Train_Acc: 0.5964 - Val_loss : 0.2079 - Val_Acc: 0.4333  - Time: 11.077682495117188\n",
      "\n"
     ]
    },
    {
     "name": "stderr",
     "output_type": "stream",
     "text": [
      "100%|█████████████████████████████████████████████| 9/9 [00:07<00:00,  1.18it/s]\n",
      "100%|█████████████████████████████████████████████| 4/4 [00:03<00:00,  1.17it/s]\n"
     ]
    },
    {
     "name": "stdout",
     "output_type": "stream",
     "text": [
      "Epoch : 279 - Train_loss : 1.0129 - Train_Acc: 0.6143 - Val_loss : 0.2080 - Val_Acc: 0.4333  - Time: 11.069399118423462\n",
      "\n"
     ]
    },
    {
     "name": "stderr",
     "output_type": "stream",
     "text": [
      "100%|█████████████████████████████████████████████| 9/9 [00:07<00:00,  1.15it/s]\n",
      "100%|█████████████████████████████████████████████| 4/4 [00:03<00:00,  1.09it/s]\n"
     ]
    },
    {
     "name": "stdout",
     "output_type": "stream",
     "text": [
      "Epoch : 280 - Train_loss : 1.0272 - Train_Acc: 0.5750 - Val_loss : 0.2081 - Val_Acc: 0.4250  - Time: 11.531098127365112\n",
      "\n"
     ]
    },
    {
     "name": "stderr",
     "output_type": "stream",
     "text": [
      "100%|█████████████████████████████████████████████| 9/9 [00:07<00:00,  1.14it/s]\n",
      "100%|█████████████████████████████████████████████| 4/4 [00:03<00:00,  1.17it/s]\n"
     ]
    },
    {
     "name": "stdout",
     "output_type": "stream",
     "text": [
      "Epoch : 281 - Train_loss : 0.9955 - Train_Acc: 0.5929 - Val_loss : 0.2081 - Val_Acc: 0.4333  - Time: 11.355433702468872\n",
      "\n"
     ]
    },
    {
     "name": "stderr",
     "output_type": "stream",
     "text": [
      "100%|█████████████████████████████████████████████| 9/9 [00:07<00:00,  1.16it/s]\n",
      "100%|█████████████████████████████████████████████| 4/4 [00:03<00:00,  1.20it/s]\n"
     ]
    },
    {
     "name": "stdout",
     "output_type": "stream",
     "text": [
      "Epoch : 282 - Train_loss : 1.0232 - Train_Acc: 0.5786 - Val_loss : 0.2082 - Val_Acc: 0.4167  - Time: 11.073917627334595\n",
      "\n"
     ]
    },
    {
     "name": "stderr",
     "output_type": "stream",
     "text": [
      "100%|█████████████████████████████████████████████| 9/9 [00:08<00:00,  1.09it/s]\n",
      "100%|█████████████████████████████████████████████| 4/4 [00:03<00:00,  1.10it/s]\n"
     ]
    },
    {
     "name": "stdout",
     "output_type": "stream",
     "text": [
      "Epoch : 283 - Train_loss : 1.0004 - Train_Acc: 0.6321 - Val_loss : 0.2081 - Val_Acc: 0.4167  - Time: 11.876601696014404\n",
      "\n"
     ]
    },
    {
     "name": "stderr",
     "output_type": "stream",
     "text": [
      "100%|█████████████████████████████████████████████| 9/9 [00:07<00:00,  1.19it/s]\n",
      "100%|█████████████████████████████████████████████| 4/4 [00:03<00:00,  1.06it/s]\n"
     ]
    },
    {
     "name": "stdout",
     "output_type": "stream",
     "text": [
      "Epoch : 284 - Train_loss : 1.0226 - Train_Acc: 0.6107 - Val_loss : 0.2080 - Val_Acc: 0.4167  - Time: 11.325929880142212\n",
      "\n"
     ]
    },
    {
     "name": "stderr",
     "output_type": "stream",
     "text": [
      "100%|█████████████████████████████████████████████| 9/9 [00:07<00:00,  1.24it/s]\n",
      "100%|█████████████████████████████████████████████| 4/4 [00:03<00:00,  1.06it/s]\n"
     ]
    },
    {
     "name": "stdout",
     "output_type": "stream",
     "text": [
      "Epoch : 285 - Train_loss : 1.0099 - Train_Acc: 0.6214 - Val_loss : 0.2079 - Val_Acc: 0.4333  - Time: 11.02947211265564\n",
      "\n"
     ]
    },
    {
     "name": "stderr",
     "output_type": "stream",
     "text": [
      "100%|█████████████████████████████████████████████| 9/9 [00:07<00:00,  1.21it/s]\n",
      "100%|█████████████████████████████████████████████| 4/4 [00:03<00:00,  1.16it/s]\n"
     ]
    },
    {
     "name": "stdout",
     "output_type": "stream",
     "text": [
      "Epoch : 286 - Train_loss : 1.0122 - Train_Acc: 0.5964 - Val_loss : 0.2078 - Val_Acc: 0.4167  - Time: 10.904514789581299\n",
      "\n"
     ]
    },
    {
     "name": "stderr",
     "output_type": "stream",
     "text": [
      "100%|█████████████████████████████████████████████| 9/9 [00:08<00:00,  1.12it/s]\n",
      "100%|█████████████████████████████████████████████| 4/4 [00:03<00:00,  1.05it/s]\n"
     ]
    },
    {
     "name": "stdout",
     "output_type": "stream",
     "text": [
      "Epoch : 287 - Train_loss : 1.0044 - Train_Acc: 0.6071 - Val_loss : 0.2079 - Val_Acc: 0.4167  - Time: 11.886220693588257\n",
      "\n"
     ]
    },
    {
     "name": "stderr",
     "output_type": "stream",
     "text": [
      "100%|█████████████████████████████████████████████| 9/9 [00:07<00:00,  1.15it/s]\n",
      "100%|█████████████████████████████████████████████| 4/4 [00:03<00:00,  1.17it/s]\n"
     ]
    },
    {
     "name": "stdout",
     "output_type": "stream",
     "text": [
      "Epoch : 288 - Train_loss : 1.0025 - Train_Acc: 0.6179 - Val_loss : 0.2079 - Val_Acc: 0.4167  - Time: 11.264019012451172\n",
      "\n"
     ]
    },
    {
     "name": "stderr",
     "output_type": "stream",
     "text": [
      "100%|█████████████████████████████████████████████| 9/9 [00:08<00:00,  1.11it/s]\n",
      "100%|█████████████████████████████████████████████| 4/4 [00:03<00:00,  1.19it/s]\n"
     ]
    },
    {
     "name": "stdout",
     "output_type": "stream",
     "text": [
      "Epoch : 289 - Train_loss : 1.0006 - Train_Acc: 0.6000 - Val_loss : 0.2079 - Val_Acc: 0.4167  - Time: 11.460268020629883\n",
      "\n"
     ]
    },
    {
     "name": "stderr",
     "output_type": "stream",
     "text": [
      "100%|█████████████████████████████████████████████| 9/9 [00:08<00:00,  1.12it/s]\n",
      "100%|█████████████████████████████████████████████| 4/4 [00:03<00:00,  1.09it/s]\n"
     ]
    },
    {
     "name": "stdout",
     "output_type": "stream",
     "text": [
      "Epoch : 290 - Train_loss : 1.0108 - Train_Acc: 0.6000 - Val_loss : 0.2081 - Val_Acc: 0.4167  - Time: 11.728950023651123\n",
      "\n"
     ]
    },
    {
     "name": "stderr",
     "output_type": "stream",
     "text": [
      "100%|█████████████████████████████████████████████| 9/9 [00:07<00:00,  1.21it/s]\n",
      "100%|█████████████████████████████████████████████| 4/4 [00:03<00:00,  1.05it/s]\n"
     ]
    },
    {
     "name": "stdout",
     "output_type": "stream",
     "text": [
      "Epoch : 291 - Train_loss : 1.0113 - Train_Acc: 0.6179 - Val_loss : 0.2082 - Val_Acc: 0.4167  - Time: 11.228388547897339\n",
      "\n"
     ]
    },
    {
     "name": "stderr",
     "output_type": "stream",
     "text": [
      "100%|█████████████████████████████████████████████| 9/9 [00:07<00:00,  1.22it/s]\n",
      "100%|█████████████████████████████████████████████| 4/4 [00:03<00:00,  1.09it/s]\n"
     ]
    },
    {
     "name": "stdout",
     "output_type": "stream",
     "text": [
      "Epoch : 292 - Train_loss : 1.0163 - Train_Acc: 0.5964 - Val_loss : 0.2085 - Val_Acc: 0.4167  - Time: 11.074727058410645\n",
      "\n"
     ]
    },
    {
     "name": "stderr",
     "output_type": "stream",
     "text": [
      "100%|█████████████████████████████████████████████| 9/9 [00:07<00:00,  1.23it/s]\n",
      "100%|█████████████████████████████████████████████| 4/4 [00:03<00:00,  1.11it/s]\n"
     ]
    },
    {
     "name": "stdout",
     "output_type": "stream",
     "text": [
      "Epoch : 293 - Train_loss : 1.0147 - Train_Acc: 0.5893 - Val_loss : 0.2082 - Val_Acc: 0.4167  - Time: 10.939898252487183\n",
      "\n"
     ]
    },
    {
     "name": "stderr",
     "output_type": "stream",
     "text": [
      "100%|█████████████████████████████████████████████| 9/9 [00:07<00:00,  1.14it/s]\n",
      "100%|█████████████████████████████████████████████| 4/4 [00:03<00:00,  1.02it/s]\n"
     ]
    },
    {
     "name": "stdout",
     "output_type": "stream",
     "text": [
      "Epoch : 294 - Train_loss : 1.0057 - Train_Acc: 0.6036 - Val_loss : 0.2080 - Val_Acc: 0.4167  - Time: 11.811574459075928\n",
      "\n"
     ]
    },
    {
     "name": "stderr",
     "output_type": "stream",
     "text": [
      "100%|█████████████████████████████████████████████| 9/9 [00:07<00:00,  1.18it/s]\n",
      "100%|█████████████████████████████████████████████| 4/4 [00:03<00:00,  1.14it/s]\n"
     ]
    },
    {
     "name": "stdout",
     "output_type": "stream",
     "text": [
      "Epoch : 295 - Train_loss : 1.0209 - Train_Acc: 0.6071 - Val_loss : 0.2081 - Val_Acc: 0.4167  - Time: 11.151926040649414\n",
      "\n"
     ]
    },
    {
     "name": "stderr",
     "output_type": "stream",
     "text": [
      "100%|█████████████████████████████████████████████| 9/9 [00:07<00:00,  1.13it/s]\n",
      "100%|█████████████████████████████████████████████| 4/4 [00:03<00:00,  1.18it/s]\n"
     ]
    },
    {
     "name": "stdout",
     "output_type": "stream",
     "text": [
      "Epoch : 296 - Train_loss : 1.0059 - Train_Acc: 0.5857 - Val_loss : 0.2080 - Val_Acc: 0.4167  - Time: 11.335282564163208\n",
      "\n"
     ]
    },
    {
     "name": "stderr",
     "output_type": "stream",
     "text": [
      "100%|█████████████████████████████████████████████| 9/9 [00:08<00:00,  1.10it/s]\n",
      "100%|█████████████████████████████████████████████| 4/4 [00:03<00:00,  1.09it/s]\n"
     ]
    },
    {
     "name": "stdout",
     "output_type": "stream",
     "text": [
      "Epoch : 297 - Train_loss : 1.0032 - Train_Acc: 0.6071 - Val_loss : 0.2079 - Val_Acc: 0.4167  - Time: 11.844091653823853\n",
      "\n"
     ]
    },
    {
     "name": "stderr",
     "output_type": "stream",
     "text": [
      "100%|█████████████████████████████████████████████| 9/9 [00:07<00:00,  1.18it/s]\n",
      "100%|█████████████████████████████████████████████| 4/4 [00:03<00:00,  1.04it/s]\n"
     ]
    },
    {
     "name": "stdout",
     "output_type": "stream",
     "text": [
      "Epoch : 298 - Train_loss : 1.0165 - Train_Acc: 0.5893 - Val_loss : 0.2079 - Val_Acc: 0.4167  - Time: 11.48622989654541\n",
      "\n"
     ]
    },
    {
     "name": "stderr",
     "output_type": "stream",
     "text": [
      "100%|█████████████████████████████████████████████| 9/9 [00:07<00:00,  1.21it/s]\n",
      "100%|█████████████████████████████████████████████| 4/4 [00:03<00:00,  1.12it/s]\n"
     ]
    },
    {
     "name": "stdout",
     "output_type": "stream",
     "text": [
      "Epoch : 299 - Train_loss : 1.0090 - Train_Acc: 0.6000 - Val_loss : 0.2080 - Val_Acc: 0.4167  - Time: 11.018674373626709\n",
      "\n"
     ]
    },
    {
     "name": "stderr",
     "output_type": "stream",
     "text": [
      "100%|█████████████████████████████████████████████| 9/9 [00:07<00:00,  1.21it/s]\n",
      "100%|█████████████████████████████████████████████| 4/4 [00:03<00:00,  1.15it/s]\n"
     ]
    },
    {
     "name": "stdout",
     "output_type": "stream",
     "text": [
      "Epoch : 300 - Train_loss : 1.0062 - Train_Acc: 0.5964 - Val_loss : 0.2082 - Val_Acc: 0.4167  - Time: 10.88483738899231\n",
      "\n"
     ]
    },
    {
     "name": "stderr",
     "output_type": "stream",
     "text": [
      "100%|█████████████████████████████████████████████| 9/9 [00:08<00:00,  1.12it/s]\n",
      "100%|█████████████████████████████████████████████| 4/4 [00:03<00:00,  1.03it/s]\n"
     ]
    },
    {
     "name": "stdout",
     "output_type": "stream",
     "text": [
      "Epoch : 301 - Train_loss : 1.0116 - Train_Acc: 0.5857 - Val_loss : 0.2082 - Val_Acc: 0.4167  - Time: 11.89478063583374\n",
      "\n"
     ]
    },
    {
     "name": "stderr",
     "output_type": "stream",
     "text": [
      "100%|█████████████████████████████████████████████| 9/9 [00:08<00:00,  1.11it/s]\n",
      "100%|█████████████████████████████████████████████| 4/4 [00:03<00:00,  1.18it/s]\n"
     ]
    },
    {
     "name": "stdout",
     "output_type": "stream",
     "text": [
      "Epoch : 302 - Train_loss : 0.9992 - Train_Acc: 0.6071 - Val_loss : 0.2081 - Val_Acc: 0.4167  - Time: 11.539371252059937\n",
      "\n"
     ]
    },
    {
     "name": "stderr",
     "output_type": "stream",
     "text": [
      "100%|█████████████████████████████████████████████| 9/9 [00:07<00:00,  1.16it/s]\n",
      "100%|█████████████████████████████████████████████| 4/4 [00:03<00:00,  1.07it/s]\n"
     ]
    },
    {
     "name": "stdout",
     "output_type": "stream",
     "text": [
      "Epoch : 303 - Train_loss : 1.0092 - Train_Acc: 0.5821 - Val_loss : 0.2081 - Val_Acc: 0.4250  - Time: 11.501377820968628\n",
      "\n"
     ]
    },
    {
     "name": "stderr",
     "output_type": "stream",
     "text": [
      "100%|█████████████████████████████████████████████| 9/9 [00:07<00:00,  1.13it/s]\n",
      "100%|█████████████████████████████████████████████| 4/4 [00:03<00:00,  1.08it/s]\n"
     ]
    },
    {
     "name": "stdout",
     "output_type": "stream",
     "text": [
      "Epoch : 304 - Train_loss : 1.0128 - Train_Acc: 0.5964 - Val_loss : 0.2083 - Val_Acc: 0.4333  - Time: 11.673248052597046\n",
      "\n"
     ]
    },
    {
     "name": "stderr",
     "output_type": "stream",
     "text": [
      "100%|█████████████████████████████████████████████| 9/9 [00:07<00:00,  1.21it/s]\n",
      "100%|█████████████████████████████████████████████| 4/4 [00:03<00:00,  1.10it/s]\n"
     ]
    },
    {
     "name": "stdout",
     "output_type": "stream",
     "text": [
      "Epoch : 305 - Train_loss : 1.0073 - Train_Acc: 0.6000 - Val_loss : 0.2083 - Val_Acc: 0.4333  - Time: 11.116691589355469\n",
      "\n"
     ]
    },
    {
     "name": "stderr",
     "output_type": "stream",
     "text": [
      "100%|█████████████████████████████████████████████| 9/9 [00:07<00:00,  1.18it/s]\n",
      "100%|█████████████████████████████████████████████| 4/4 [00:03<00:00,  1.16it/s]\n"
     ]
    },
    {
     "name": "stdout",
     "output_type": "stream",
     "text": [
      "Epoch : 306 - Train_loss : 1.0040 - Train_Acc: 0.5929 - Val_loss : 0.2083 - Val_Acc: 0.4250  - Time: 11.055466413497925\n",
      "\n"
     ]
    },
    {
     "name": "stderr",
     "output_type": "stream",
     "text": [
      "100%|█████████████████████████████████████████████| 9/9 [00:08<00:00,  1.12it/s]\n",
      "100%|█████████████████████████████████████████████| 4/4 [00:03<00:00,  1.14it/s]\n"
     ]
    },
    {
     "name": "stdout",
     "output_type": "stream",
     "text": [
      "Epoch : 307 - Train_loss : 1.0070 - Train_Acc: 0.6000 - Val_loss : 0.2085 - Val_Acc: 0.4167  - Time: 11.529804468154907\n",
      "\n"
     ]
    },
    {
     "name": "stderr",
     "output_type": "stream",
     "text": [
      "100%|█████████████████████████████████████████████| 9/9 [00:08<00:00,  1.06it/s]\n",
      "100%|█████████████████████████████████████████████| 4/4 [00:03<00:00,  1.06it/s]\n"
     ]
    },
    {
     "name": "stdout",
     "output_type": "stream",
     "text": [
      "Epoch : 308 - Train_loss : 1.0089 - Train_Acc: 0.6179 - Val_loss : 0.2085 - Val_Acc: 0.4167  - Time: 12.289767026901245\n",
      "\n"
     ]
    },
    {
     "name": "stderr",
     "output_type": "stream",
     "text": [
      "100%|█████████████████████████████████████████████| 9/9 [00:07<00:00,  1.15it/s]\n",
      "100%|█████████████████████████████████████████████| 4/4 [00:03<00:00,  1.13it/s]\n"
     ]
    },
    {
     "name": "stdout",
     "output_type": "stream",
     "text": [
      "Epoch : 309 - Train_loss : 1.0082 - Train_Acc: 0.5964 - Val_loss : 0.2084 - Val_Acc: 0.4167  - Time: 11.41559100151062\n",
      "\n"
     ]
    },
    {
     "name": "stderr",
     "output_type": "stream",
     "text": [
      "100%|█████████████████████████████████████████████| 9/9 [00:07<00:00,  1.18it/s]\n",
      "100%|█████████████████████████████████████████████| 4/4 [00:03<00:00,  1.01it/s]\n"
     ]
    },
    {
     "name": "stdout",
     "output_type": "stream",
     "text": [
      "Epoch : 310 - Train_loss : 1.0159 - Train_Acc: 0.6143 - Val_loss : 0.2083 - Val_Acc: 0.4167  - Time: 11.605398893356323\n",
      "\n"
     ]
    },
    {
     "name": "stderr",
     "output_type": "stream",
     "text": [
      "100%|█████████████████████████████████████████████| 9/9 [00:07<00:00,  1.16it/s]\n",
      "100%|█████████████████████████████████████████████| 4/4 [00:03<00:00,  1.08it/s]\n"
     ]
    },
    {
     "name": "stdout",
     "output_type": "stream",
     "text": [
      "Epoch : 311 - Train_loss : 1.0235 - Train_Acc: 0.5786 - Val_loss : 0.2082 - Val_Acc: 0.4167  - Time: 11.492714643478394\n",
      "\n"
     ]
    },
    {
     "name": "stderr",
     "output_type": "stream",
     "text": [
      "100%|█████████████████████████████████████████████| 9/9 [00:07<00:00,  1.20it/s]\n",
      "100%|█████████████████████████████████████████████| 4/4 [00:03<00:00,  1.16it/s]\n"
     ]
    },
    {
     "name": "stdout",
     "output_type": "stream",
     "text": [
      "Epoch : 312 - Train_loss : 0.9995 - Train_Acc: 0.5964 - Val_loss : 0.2082 - Val_Acc: 0.4167  - Time: 10.9737868309021\n",
      "\n"
     ]
    },
    {
     "name": "stderr",
     "output_type": "stream",
     "text": [
      "100%|█████████████████████████████████████████████| 9/9 [00:07<00:00,  1.17it/s]\n",
      "100%|█████████████████████████████████████████████| 4/4 [00:03<00:00,  1.16it/s]\n"
     ]
    },
    {
     "name": "stdout",
     "output_type": "stream",
     "text": [
      "Epoch : 313 - Train_loss : 0.9962 - Train_Acc: 0.6179 - Val_loss : 0.2084 - Val_Acc: 0.4167  - Time: 11.151543855667114\n",
      "\n"
     ]
    },
    {
     "name": "stderr",
     "output_type": "stream",
     "text": [
      "100%|█████████████████████████████████████████████| 9/9 [00:07<00:00,  1.17it/s]\n",
      "100%|█████████████████████████████████████████████| 4/4 [00:03<00:00,  1.18it/s]\n"
     ]
    },
    {
     "name": "stdout",
     "output_type": "stream",
     "text": [
      "Epoch : 314 - Train_loss : 0.9960 - Train_Acc: 0.6036 - Val_loss : 0.2085 - Val_Acc: 0.4167  - Time: 11.068777084350586\n",
      "\n"
     ]
    },
    {
     "name": "stderr",
     "output_type": "stream",
     "text": [
      "100%|█████████████████████████████████████████████| 9/9 [00:08<00:00,  1.08it/s]\n",
      "100%|█████████████████████████████████████████████| 4/4 [00:03<00:00,  1.06it/s]\n"
     ]
    },
    {
     "name": "stdout",
     "output_type": "stream",
     "text": [
      "Epoch : 315 - Train_loss : 1.0064 - Train_Acc: 0.6000 - Val_loss : 0.2087 - Val_Acc: 0.4167  - Time: 12.091598272323608\n",
      "\n"
     ]
    },
    {
     "name": "stderr",
     "output_type": "stream",
     "text": [
      "100%|█████████████████████████████████████████████| 9/9 [00:07<00:00,  1.15it/s]\n",
      "100%|█████████████████████████████████████████████| 4/4 [00:03<00:00,  1.10it/s]\n"
     ]
    },
    {
     "name": "stdout",
     "output_type": "stream",
     "text": [
      "Epoch : 316 - Train_loss : 0.9878 - Train_Acc: 0.6250 - Val_loss : 0.2085 - Val_Acc: 0.4250  - Time: 11.459103345870972\n",
      "\n"
     ]
    },
    {
     "name": "stderr",
     "output_type": "stream",
     "text": [
      "100%|█████████████████████████████████████████████| 9/9 [00:07<00:00,  1.15it/s]\n",
      "100%|█████████████████████████████████████████████| 4/4 [00:03<00:00,  1.02it/s]\n"
     ]
    },
    {
     "name": "stdout",
     "output_type": "stream",
     "text": [
      "Epoch : 317 - Train_loss : 1.0029 - Train_Acc: 0.5893 - Val_loss : 0.2087 - Val_Acc: 0.4250  - Time: 11.738130569458008\n",
      "\n"
     ]
    },
    {
     "name": "stderr",
     "output_type": "stream",
     "text": [
      "100%|█████████████████████████████████████████████| 9/9 [00:07<00:00,  1.19it/s]\n",
      "100%|█████████████████████████████████████████████| 4/4 [00:03<00:00,  1.13it/s]\n"
     ]
    },
    {
     "name": "stdout",
     "output_type": "stream",
     "text": [
      "Epoch : 318 - Train_loss : 0.9956 - Train_Acc: 0.6036 - Val_loss : 0.2086 - Val_Acc: 0.4333  - Time: 11.086585998535156\n",
      "\n"
     ]
    },
    {
     "name": "stderr",
     "output_type": "stream",
     "text": [
      "100%|█████████████████████████████████████████████| 9/9 [00:07<00:00,  1.19it/s]\n",
      "100%|█████████████████████████████████████████████| 4/4 [00:03<00:00,  1.14it/s]\n"
     ]
    },
    {
     "name": "stdout",
     "output_type": "stream",
     "text": [
      "Epoch : 319 - Train_loss : 1.0066 - Train_Acc: 0.5929 - Val_loss : 0.2084 - Val_Acc: 0.4167  - Time: 11.062565088272095\n",
      "\n"
     ]
    },
    {
     "name": "stderr",
     "output_type": "stream",
     "text": [
      "100%|█████████████████████████████████████████████| 9/9 [00:07<00:00,  1.15it/s]\n",
      "100%|█████████████████████████████████████████████| 4/4 [00:03<00:00,  1.14it/s]\n"
     ]
    },
    {
     "name": "stdout",
     "output_type": "stream",
     "text": [
      "Epoch : 320 - Train_loss : 1.0145 - Train_Acc: 0.6214 - Val_loss : 0.2083 - Val_Acc: 0.4167  - Time: 11.32909345626831\n",
      "\n"
     ]
    },
    {
     "name": "stderr",
     "output_type": "stream",
     "text": [
      "100%|█████████████████████████████████████████████| 9/9 [00:07<00:00,  1.14it/s]\n",
      "100%|█████████████████████████████████████████████| 4/4 [00:03<00:00,  1.19it/s]\n"
     ]
    },
    {
     "name": "stdout",
     "output_type": "stream",
     "text": [
      "Epoch : 321 - Train_loss : 0.9990 - Train_Acc: 0.5893 - Val_loss : 0.2087 - Val_Acc: 0.4167  - Time: 11.271035194396973\n",
      "\n"
     ]
    },
    {
     "name": "stderr",
     "output_type": "stream",
     "text": [
      "100%|█████████████████████████████████████████████| 9/9 [00:08<00:00,  1.10it/s]\n",
      "100%|█████████████████████████████████████████████| 4/4 [00:04<00:00,  1.02s/it]\n"
     ]
    },
    {
     "name": "stdout",
     "output_type": "stream",
     "text": [
      "Epoch : 322 - Train_loss : 0.9950 - Train_Acc: 0.6286 - Val_loss : 0.2086 - Val_Acc: 0.4167  - Time: 12.23959994316101\n",
      "\n"
     ]
    },
    {
     "name": "stderr",
     "output_type": "stream",
     "text": [
      "100%|█████████████████████████████████████████████| 9/9 [00:07<00:00,  1.17it/s]\n",
      "100%|█████████████████████████████████████████████| 4/4 [00:03<00:00,  1.02it/s]\n"
     ]
    },
    {
     "name": "stdout",
     "output_type": "stream",
     "text": [
      "Epoch : 323 - Train_loss : 1.0063 - Train_Acc: 0.6107 - Val_loss : 0.2086 - Val_Acc: 0.4167  - Time: 11.583142757415771\n",
      "\n"
     ]
    },
    {
     "name": "stderr",
     "output_type": "stream",
     "text": [
      "100%|█████████████████████████████████████████████| 9/9 [00:07<00:00,  1.22it/s]\n",
      "100%|█████████████████████████████████████████████| 4/4 [00:03<00:00,  1.06it/s]\n"
     ]
    },
    {
     "name": "stdout",
     "output_type": "stream",
     "text": [
      "Epoch : 324 - Train_loss : 0.9967 - Train_Acc: 0.6107 - Val_loss : 0.2084 - Val_Acc: 0.4167  - Time: 11.142132997512817\n",
      "\n"
     ]
    },
    {
     "name": "stderr",
     "output_type": "stream",
     "text": [
      "100%|█████████████████████████████████████████████| 9/9 [00:08<00:00,  1.11it/s]\n",
      "100%|█████████████████████████████████████████████| 4/4 [00:03<00:00,  1.17it/s]\n"
     ]
    },
    {
     "name": "stdout",
     "output_type": "stream",
     "text": [
      "Epoch : 325 - Train_loss : 1.0056 - Train_Acc: 0.6250 - Val_loss : 0.2084 - Val_Acc: 0.4167  - Time: 11.546529769897461\n",
      "\n"
     ]
    },
    {
     "name": "stderr",
     "output_type": "stream",
     "text": [
      "100%|█████████████████████████████████████████████| 9/9 [00:07<00:00,  1.18it/s]\n",
      "100%|█████████████████████████████████████████████| 4/4 [00:03<00:00,  1.15it/s]\n"
     ]
    },
    {
     "name": "stdout",
     "output_type": "stream",
     "text": [
      "Epoch : 326 - Train_loss : 0.9952 - Train_Acc: 0.6036 - Val_loss : 0.2086 - Val_Acc: 0.4167  - Time: 11.14512300491333\n",
      "\n"
     ]
    },
    {
     "name": "stderr",
     "output_type": "stream",
     "text": [
      "100%|█████████████████████████████████████████████| 9/9 [00:07<00:00,  1.18it/s]\n",
      "100%|█████████████████████████████████████████████| 4/4 [00:03<00:00,  1.17it/s]\n"
     ]
    },
    {
     "name": "stdout",
     "output_type": "stream",
     "text": [
      "Epoch : 327 - Train_loss : 1.0177 - Train_Acc: 0.5929 - Val_loss : 0.2086 - Val_Acc: 0.4167  - Time: 11.037641048431396\n",
      "\n"
     ]
    },
    {
     "name": "stderr",
     "output_type": "stream",
     "text": [
      "100%|█████████████████████████████████████████████| 9/9 [00:07<00:00,  1.21it/s]\n",
      "100%|█████████████████████████████████████████████| 4/4 [00:03<00:00,  1.19it/s]\n"
     ]
    },
    {
     "name": "stdout",
     "output_type": "stream",
     "text": [
      "Epoch : 328 - Train_loss : 0.9980 - Train_Acc: 0.6000 - Val_loss : 0.2087 - Val_Acc: 0.4167  - Time: 10.78556203842163\n",
      "\n"
     ]
    },
    {
     "name": "stderr",
     "output_type": "stream",
     "text": [
      "100%|█████████████████████████████████████████████| 9/9 [00:08<00:00,  1.11it/s]\n",
      "100%|█████████████████████████████████████████████| 4/4 [00:03<00:00,  1.01it/s]\n"
     ]
    },
    {
     "name": "stdout",
     "output_type": "stream",
     "text": [
      "Epoch : 329 - Train_loss : 0.9926 - Train_Acc: 0.6071 - Val_loss : 0.2086 - Val_Acc: 0.4167  - Time: 12.083645820617676\n",
      "\n"
     ]
    },
    {
     "name": "stderr",
     "output_type": "stream",
     "text": [
      "100%|█████████████████████████████████████████████| 9/9 [00:07<00:00,  1.17it/s]\n",
      "100%|█████████████████████████████████████████████| 4/4 [00:03<00:00,  1.03it/s]\n"
     ]
    },
    {
     "name": "stdout",
     "output_type": "stream",
     "text": [
      "Epoch : 330 - Train_loss : 0.9960 - Train_Acc: 0.6250 - Val_loss : 0.2085 - Val_Acc: 0.4167  - Time: 11.58989667892456\n",
      "\n"
     ]
    },
    {
     "name": "stderr",
     "output_type": "stream",
     "text": [
      "100%|█████████████████████████████████████████████| 9/9 [00:07<00:00,  1.23it/s]\n",
      "100%|█████████████████████████████████████████████| 4/4 [00:03<00:00,  1.02it/s]\n"
     ]
    },
    {
     "name": "stdout",
     "output_type": "stream",
     "text": [
      "Epoch : 331 - Train_loss : 1.0088 - Train_Acc: 0.5821 - Val_loss : 0.2086 - Val_Acc: 0.4167  - Time: 11.25295090675354\n",
      "\n"
     ]
    },
    {
     "name": "stderr",
     "output_type": "stream",
     "text": [
      "100%|█████████████████████████████████████████████| 9/9 [00:08<00:00,  1.12it/s]\n",
      "100%|█████████████████████████████████████████████| 4/4 [00:03<00:00,  1.15it/s]\n"
     ]
    },
    {
     "name": "stdout",
     "output_type": "stream",
     "text": [
      "Epoch : 332 - Train_loss : 1.0004 - Train_Acc: 0.6071 - Val_loss : 0.2086 - Val_Acc: 0.4167  - Time: 11.475914478302002\n",
      "\n"
     ]
    },
    {
     "name": "stderr",
     "output_type": "stream",
     "text": [
      "100%|█████████████████████████████████████████████| 9/9 [00:07<00:00,  1.18it/s]\n",
      "100%|█████████████████████████████████████████████| 4/4 [00:03<00:00,  1.16it/s]\n"
     ]
    },
    {
     "name": "stdout",
     "output_type": "stream",
     "text": [
      "Epoch : 333 - Train_loss : 0.9897 - Train_Acc: 0.6000 - Val_loss : 0.2085 - Val_Acc: 0.4167  - Time: 11.091919660568237\n",
      "\n"
     ]
    },
    {
     "name": "stderr",
     "output_type": "stream",
     "text": [
      "100%|█████████████████████████████████████████████| 9/9 [00:07<00:00,  1.26it/s]\n",
      "100%|█████████████████████████████████████████████| 4/4 [00:03<00:00,  1.13it/s]\n"
     ]
    },
    {
     "name": "stdout",
     "output_type": "stream",
     "text": [
      "Epoch : 334 - Train_loss : 0.9859 - Train_Acc: 0.6357 - Val_loss : 0.2086 - Val_Acc: 0.4167  - Time: 10.681587934494019\n",
      "\n"
     ]
    },
    {
     "name": "stderr",
     "output_type": "stream",
     "text": [
      "100%|█████████████████████████████████████████████| 9/9 [00:07<00:00,  1.16it/s]\n",
      "100%|█████████████████████████████████████████████| 4/4 [00:03<00:00,  1.21it/s]\n"
     ]
    },
    {
     "name": "stdout",
     "output_type": "stream",
     "text": [
      "Epoch : 335 - Train_loss : 1.0006 - Train_Acc: 0.5964 - Val_loss : 0.2090 - Val_Acc: 0.4167  - Time: 11.089746236801147\n",
      "\n"
     ]
    },
    {
     "name": "stderr",
     "output_type": "stream",
     "text": [
      "100%|█████████████████████████████████████████████| 9/9 [00:08<00:00,  1.06it/s]\n",
      "100%|█████████████████████████████████████████████| 4/4 [00:03<00:00,  1.03it/s]\n"
     ]
    },
    {
     "name": "stdout",
     "output_type": "stream",
     "text": [
      "Epoch : 336 - Train_loss : 0.9908 - Train_Acc: 0.6143 - Val_loss : 0.2089 - Val_Acc: 0.4167  - Time: 12.366752624511719\n",
      "\n"
     ]
    },
    {
     "name": "stderr",
     "output_type": "stream",
     "text": [
      "100%|█████████████████████████████████████████████| 9/9 [00:07<00:00,  1.18it/s]\n",
      "100%|█████████████████████████████████████████████| 4/4 [00:03<00:00,  1.04it/s]\n"
     ]
    },
    {
     "name": "stdout",
     "output_type": "stream",
     "text": [
      "Epoch : 337 - Train_loss : 0.9972 - Train_Acc: 0.6250 - Val_loss : 0.2087 - Val_Acc: 0.4167  - Time: 11.464730262756348\n",
      "\n"
     ]
    },
    {
     "name": "stderr",
     "output_type": "stream",
     "text": [
      "100%|█████████████████████████████████████████████| 9/9 [00:07<00:00,  1.21it/s]\n",
      "100%|█████████████████████████████████████████████| 4/4 [00:03<00:00,  1.05it/s]\n"
     ]
    },
    {
     "name": "stdout",
     "output_type": "stream",
     "text": [
      "Epoch : 338 - Train_loss : 1.0088 - Train_Acc: 0.6036 - Val_loss : 0.2088 - Val_Acc: 0.4167  - Time: 11.245296955108643\n",
      "\n"
     ]
    },
    {
     "name": "stderr",
     "output_type": "stream",
     "text": [
      "100%|█████████████████████████████████████████████| 9/9 [00:07<00:00,  1.15it/s]\n",
      "100%|█████████████████████████████████████████████| 4/4 [00:03<00:00,  1.16it/s]\n"
     ]
    },
    {
     "name": "stdout",
     "output_type": "stream",
     "text": [
      "Epoch : 339 - Train_loss : 0.9964 - Train_Acc: 0.6179 - Val_loss : 0.2087 - Val_Acc: 0.4167  - Time: 11.246083736419678\n",
      "\n"
     ]
    },
    {
     "name": "stderr",
     "output_type": "stream",
     "text": [
      "100%|█████████████████████████████████████████████| 9/9 [00:07<00:00,  1.16it/s]\n",
      "100%|█████████████████████████████████████████████| 4/4 [00:03<00:00,  1.18it/s]\n"
     ]
    },
    {
     "name": "stdout",
     "output_type": "stream",
     "text": [
      "Epoch : 340 - Train_loss : 0.9948 - Train_Acc: 0.5964 - Val_loss : 0.2087 - Val_Acc: 0.4167  - Time: 11.184478044509888\n",
      "\n"
     ]
    },
    {
     "name": "stderr",
     "output_type": "stream",
     "text": [
      "100%|█████████████████████████████████████████████| 9/9 [00:07<00:00,  1.16it/s]\n",
      "100%|█████████████████████████████████████████████| 4/4 [00:03<00:00,  1.16it/s]\n"
     ]
    },
    {
     "name": "stdout",
     "output_type": "stream",
     "text": [
      "Epoch : 341 - Train_loss : 0.9970 - Train_Acc: 0.6036 - Val_loss : 0.2089 - Val_Acc: 0.4167  - Time: 11.232072353363037\n",
      "\n"
     ]
    },
    {
     "name": "stderr",
     "output_type": "stream",
     "text": [
      "100%|█████████████████████████████████████████████| 9/9 [00:07<00:00,  1.16it/s]\n",
      "100%|█████████████████████████████████████████████| 4/4 [00:03<00:00,  1.15it/s]\n"
     ]
    },
    {
     "name": "stdout",
     "output_type": "stream",
     "text": [
      "Epoch : 342 - Train_loss : 0.9842 - Train_Acc: 0.6036 - Val_loss : 0.2088 - Val_Acc: 0.4167  - Time: 11.235397815704346\n",
      "\n"
     ]
    },
    {
     "name": "stderr",
     "output_type": "stream",
     "text": [
      "100%|█████████████████████████████████████████████| 9/9 [00:08<00:00,  1.12it/s]\n",
      "100%|█████████████████████████████████████████████| 4/4 [00:03<00:00,  1.02it/s]\n"
     ]
    },
    {
     "name": "stdout",
     "output_type": "stream",
     "text": [
      "Epoch : 343 - Train_loss : 0.9925 - Train_Acc: 0.6143 - Val_loss : 0.2090 - Val_Acc: 0.4167  - Time: 11.952360153198242\n",
      "\n"
     ]
    },
    {
     "name": "stderr",
     "output_type": "stream",
     "text": [
      "100%|█████████████████████████████████████████████| 9/9 [00:07<00:00,  1.17it/s]\n",
      "100%|█████████████████████████████████████████████| 4/4 [00:03<00:00,  1.05it/s]\n"
     ]
    },
    {
     "name": "stdout",
     "output_type": "stream",
     "text": [
      "Epoch : 344 - Train_loss : 0.9961 - Train_Acc: 0.5964 - Val_loss : 0.2089 - Val_Acc: 0.4167  - Time: 11.517588376998901\n",
      "\n"
     ]
    },
    {
     "name": "stderr",
     "output_type": "stream",
     "text": [
      "100%|█████████████████████████████████████████████| 9/9 [00:07<00:00,  1.22it/s]\n",
      "100%|█████████████████████████████████████████████| 4/4 [00:03<00:00,  1.04it/s]\n"
     ]
    },
    {
     "name": "stdout",
     "output_type": "stream",
     "text": [
      "Epoch : 345 - Train_loss : 0.9923 - Train_Acc: 0.6000 - Val_loss : 0.2089 - Val_Acc: 0.4167  - Time: 11.235321283340454\n",
      "\n"
     ]
    },
    {
     "name": "stderr",
     "output_type": "stream",
     "text": [
      "100%|█████████████████████████████████████████████| 9/9 [00:07<00:00,  1.16it/s]\n",
      "100%|█████████████████████████████████████████████| 4/4 [00:03<00:00,  1.10it/s]\n"
     ]
    },
    {
     "name": "stdout",
     "output_type": "stream",
     "text": [
      "Epoch : 346 - Train_loss : 0.9979 - Train_Acc: 0.5964 - Val_loss : 0.2089 - Val_Acc: 0.4250  - Time: 11.37642788887024\n",
      "\n"
     ]
    },
    {
     "name": "stderr",
     "output_type": "stream",
     "text": [
      "100%|█████████████████████████████████████████████| 9/9 [00:07<00:00,  1.19it/s]\n",
      "100%|█████████████████████████████████████████████| 4/4 [00:03<00:00,  1.18it/s]\n"
     ]
    },
    {
     "name": "stdout",
     "output_type": "stream",
     "text": [
      "Epoch : 347 - Train_loss : 0.9981 - Train_Acc: 0.6179 - Val_loss : 0.2089 - Val_Acc: 0.4167  - Time: 10.93729305267334\n",
      "\n"
     ]
    },
    {
     "name": "stderr",
     "output_type": "stream",
     "text": [
      "100%|█████████████████████████████████████████████| 9/9 [00:07<00:00,  1.15it/s]\n",
      "100%|█████████████████████████████████████████████| 4/4 [00:03<00:00,  1.13it/s]\n"
     ]
    },
    {
     "name": "stdout",
     "output_type": "stream",
     "text": [
      "Epoch : 348 - Train_loss : 1.0049 - Train_Acc: 0.6036 - Val_loss : 0.2091 - Val_Acc: 0.4167  - Time: 11.341319799423218\n",
      "\n"
     ]
    },
    {
     "name": "stderr",
     "output_type": "stream",
     "text": [
      "100%|█████████████████████████████████████████████| 9/9 [00:07<00:00,  1.19it/s]\n",
      "100%|█████████████████████████████████████████████| 4/4 [00:03<00:00,  1.18it/s]\n"
     ]
    },
    {
     "name": "stdout",
     "output_type": "stream",
     "text": [
      "Epoch : 349 - Train_loss : 0.9814 - Train_Acc: 0.6000 - Val_loss : 0.2088 - Val_Acc: 0.4167  - Time: 10.999110698699951\n",
      "\n"
     ]
    },
    {
     "name": "stderr",
     "output_type": "stream",
     "text": [
      "100%|█████████████████████████████████████████████| 9/9 [00:08<00:00,  1.08it/s]\n",
      "100%|█████████████████████████████████████████████| 4/4 [00:03<00:00,  1.08it/s]\n"
     ]
    },
    {
     "name": "stdout",
     "output_type": "stream",
     "text": [
      "Epoch : 350 - Train_loss : 1.0042 - Train_Acc: 0.6179 - Val_loss : 0.2087 - Val_Acc: 0.4167  - Time: 12.071151971817017\n",
      "\n"
     ]
    },
    {
     "name": "stderr",
     "output_type": "stream",
     "text": [
      "100%|█████████████████████████████████████████████| 9/9 [00:07<00:00,  1.17it/s]\n",
      "100%|█████████████████████████████████████████████| 4/4 [00:03<00:00,  1.05it/s]\n"
     ]
    },
    {
     "name": "stdout",
     "output_type": "stream",
     "text": [
      "Epoch : 351 - Train_loss : 0.9949 - Train_Acc: 0.6036 - Val_loss : 0.2088 - Val_Acc: 0.4167  - Time: 11.483266592025757\n",
      "\n"
     ]
    },
    {
     "name": "stderr",
     "output_type": "stream",
     "text": [
      "100%|█████████████████████████████████████████████| 9/9 [00:07<00:00,  1.19it/s]\n",
      "100%|█████████████████████████████████████████████| 4/4 [00:03<00:00,  1.02it/s]\n"
     ]
    },
    {
     "name": "stdout",
     "output_type": "stream",
     "text": [
      "Epoch : 352 - Train_loss : 0.9988 - Train_Acc: 0.5929 - Val_loss : 0.2088 - Val_Acc: 0.4167  - Time: 11.483520984649658\n",
      "\n"
     ]
    },
    {
     "name": "stderr",
     "output_type": "stream",
     "text": [
      "100%|█████████████████████████████████████████████| 9/9 [00:07<00:00,  1.15it/s]\n",
      "100%|█████████████████████████████████████████████| 4/4 [00:03<00:00,  1.18it/s]\n"
     ]
    },
    {
     "name": "stdout",
     "output_type": "stream",
     "text": [
      "Epoch : 353 - Train_loss : 1.0123 - Train_Acc: 0.6036 - Val_loss : 0.2086 - Val_Acc: 0.4167  - Time: 11.217979907989502\n",
      "\n"
     ]
    },
    {
     "name": "stderr",
     "output_type": "stream",
     "text": [
      "100%|█████████████████████████████████████████████| 9/9 [00:07<00:00,  1.15it/s]\n",
      "100%|█████████████████████████████████████████████| 4/4 [00:03<00:00,  1.15it/s]\n"
     ]
    },
    {
     "name": "stdout",
     "output_type": "stream",
     "text": [
      "Epoch : 354 - Train_loss : 0.9979 - Train_Acc: 0.5786 - Val_loss : 0.2086 - Val_Acc: 0.4167  - Time: 11.339654684066772\n",
      "\n"
     ]
    },
    {
     "name": "stderr",
     "output_type": "stream",
     "text": [
      "100%|█████████████████████████████████████████████| 9/9 [00:07<00:00,  1.18it/s]\n",
      "100%|█████████████████████████████████████████████| 4/4 [00:03<00:00,  1.21it/s]\n"
     ]
    },
    {
     "name": "stdout",
     "output_type": "stream",
     "text": [
      "Epoch : 355 - Train_loss : 0.9975 - Train_Acc: 0.6000 - Val_loss : 0.2091 - Val_Acc: 0.4083  - Time: 10.920687198638916\n",
      "\n"
     ]
    },
    {
     "name": "stderr",
     "output_type": "stream",
     "text": [
      "100%|█████████████████████████████████████████████| 9/9 [00:07<00:00,  1.15it/s]\n",
      "100%|█████████████████████████████████████████████| 4/4 [00:03<00:00,  1.17it/s]\n"
     ]
    },
    {
     "name": "stdout",
     "output_type": "stream",
     "text": [
      "Epoch : 356 - Train_loss : 0.9966 - Train_Acc: 0.5964 - Val_loss : 0.2094 - Val_Acc: 0.4083  - Time: 11.237623929977417\n",
      "\n"
     ]
    },
    {
     "name": "stderr",
     "output_type": "stream",
     "text": [
      "100%|█████████████████████████████████████████████| 9/9 [00:08<00:00,  1.08it/s]\n",
      "100%|█████████████████████████████████████████████| 4/4 [00:03<00:00,  1.01it/s]\n"
     ]
    },
    {
     "name": "stdout",
     "output_type": "stream",
     "text": [
      "Epoch : 357 - Train_loss : 0.9701 - Train_Acc: 0.6179 - Val_loss : 0.2094 - Val_Acc: 0.4083  - Time: 12.303487539291382\n",
      "\n"
     ]
    },
    {
     "name": "stderr",
     "output_type": "stream",
     "text": [
      "100%|█████████████████████████████████████████████| 9/9 [00:07<00:00,  1.18it/s]\n",
      "100%|█████████████████████████████████████████████| 4/4 [00:03<00:00,  1.03it/s]\n"
     ]
    },
    {
     "name": "stdout",
     "output_type": "stream",
     "text": [
      "Epoch : 358 - Train_loss : 0.9978 - Train_Acc: 0.6036 - Val_loss : 0.2093 - Val_Acc: 0.4167  - Time: 11.52185320854187\n",
      "\n"
     ]
    },
    {
     "name": "stderr",
     "output_type": "stream",
     "text": [
      "100%|█████████████████████████████████████████████| 9/9 [00:07<00:00,  1.20it/s]\n",
      "100%|█████████████████████████████████████████████| 4/4 [00:03<00:00,  1.05it/s]\n"
     ]
    },
    {
     "name": "stdout",
     "output_type": "stream",
     "text": [
      "Epoch : 359 - Train_loss : 0.9906 - Train_Acc: 0.5893 - Val_loss : 0.2094 - Val_Acc: 0.4167  - Time: 11.335914611816406\n",
      "\n"
     ]
    },
    {
     "name": "stderr",
     "output_type": "stream",
     "text": [
      "100%|█████████████████████████████████████████████| 9/9 [00:07<00:00,  1.20it/s]\n",
      "100%|█████████████████████████████████████████████| 4/4 [00:03<00:00,  1.16it/s]\n"
     ]
    },
    {
     "name": "stdout",
     "output_type": "stream",
     "text": [
      "Epoch : 360 - Train_loss : 0.9929 - Train_Acc: 0.5893 - Val_loss : 0.2094 - Val_Acc: 0.4083  - Time: 10.9840989112854\n",
      "\n"
     ]
    },
    {
     "name": "stderr",
     "output_type": "stream",
     "text": [
      "100%|█████████████████████████████████████████████| 9/9 [00:07<00:00,  1.17it/s]\n",
      "100%|█████████████████████████████████████████████| 4/4 [00:03<00:00,  1.20it/s]\n"
     ]
    },
    {
     "name": "stdout",
     "output_type": "stream",
     "text": [
      "Epoch : 361 - Train_loss : 1.0011 - Train_Acc: 0.5929 - Val_loss : 0.2095 - Val_Acc: 0.4083  - Time: 11.025678157806396\n",
      "\n"
     ]
    },
    {
     "name": "stderr",
     "output_type": "stream",
     "text": [
      "100%|█████████████████████████████████████████████| 9/9 [00:07<00:00,  1.22it/s]\n",
      "100%|█████████████████████████████████████████████| 4/4 [00:03<00:00,  1.14it/s]\n"
     ]
    },
    {
     "name": "stdout",
     "output_type": "stream",
     "text": [
      "Epoch : 362 - Train_loss : 0.9957 - Train_Acc: 0.6143 - Val_loss : 0.2095 - Val_Acc: 0.4083  - Time: 10.877779483795166\n",
      "\n"
     ]
    },
    {
     "name": "stderr",
     "output_type": "stream",
     "text": [
      "100%|█████████████████████████████████████████████| 9/9 [00:07<00:00,  1.15it/s]\n",
      "100%|█████████████████████████████████████████████| 4/4 [00:03<00:00,  1.19it/s]\n"
     ]
    },
    {
     "name": "stdout",
     "output_type": "stream",
     "text": [
      "Epoch : 363 - Train_loss : 0.9996 - Train_Acc: 0.6071 - Val_loss : 0.2094 - Val_Acc: 0.4167  - Time: 11.179775476455688\n",
      "\n"
     ]
    },
    {
     "name": "stderr",
     "output_type": "stream",
     "text": [
      "100%|█████████████████████████████████████████████| 9/9 [00:08<00:00,  1.08it/s]\n",
      "100%|█████████████████████████████████████████████| 4/4 [00:03<00:00,  1.08it/s]\n"
     ]
    },
    {
     "name": "stdout",
     "output_type": "stream",
     "text": [
      "Epoch : 364 - Train_loss : 1.0043 - Train_Acc: 0.5750 - Val_loss : 0.2094 - Val_Acc: 0.4167  - Time: 12.072885274887085\n",
      "\n"
     ]
    },
    {
     "name": "stderr",
     "output_type": "stream",
     "text": [
      "100%|█████████████████████████████████████████████| 9/9 [00:07<00:00,  1.17it/s]\n",
      "100%|█████████████████████████████████████████████| 4/4 [00:03<00:00,  1.07it/s]\n"
     ]
    },
    {
     "name": "stdout",
     "output_type": "stream",
     "text": [
      "Epoch : 365 - Train_loss : 0.9946 - Train_Acc: 0.5964 - Val_loss : 0.2093 - Val_Acc: 0.4083  - Time: 11.43456220626831\n",
      "\n"
     ]
    },
    {
     "name": "stderr",
     "output_type": "stream",
     "text": [
      "100%|█████████████████████████████████████████████| 9/9 [00:07<00:00,  1.19it/s]\n",
      "100%|█████████████████████████████████████████████| 4/4 [00:04<00:00,  1.02s/it]\n"
     ]
    },
    {
     "name": "stdout",
     "output_type": "stream",
     "text": [
      "Epoch : 366 - Train_loss : 1.0053 - Train_Acc: 0.5857 - Val_loss : 0.2091 - Val_Acc: 0.4167  - Time: 11.616207361221313\n",
      "\n"
     ]
    },
    {
     "name": "stderr",
     "output_type": "stream",
     "text": [
      "100%|█████████████████████████████████████████████| 9/9 [00:07<00:00,  1.16it/s]\n",
      "100%|█████████████████████████████████████████████| 4/4 [00:03<00:00,  1.13it/s]\n"
     ]
    },
    {
     "name": "stdout",
     "output_type": "stream",
     "text": [
      "Epoch : 367 - Train_loss : 0.9759 - Train_Acc: 0.6214 - Val_loss : 0.2093 - Val_Acc: 0.4083  - Time: 11.29781174659729\n",
      "\n"
     ]
    },
    {
     "name": "stderr",
     "output_type": "stream",
     "text": [
      "100%|█████████████████████████████████████████████| 9/9 [00:07<00:00,  1.15it/s]\n",
      "100%|█████████████████████████████████████████████| 4/4 [00:03<00:00,  1.17it/s]\n"
     ]
    },
    {
     "name": "stdout",
     "output_type": "stream",
     "text": [
      "Epoch : 368 - Train_loss : 0.9893 - Train_Acc: 0.6321 - Val_loss : 0.2094 - Val_Acc: 0.4083  - Time: 11.267442226409912\n",
      "\n"
     ]
    },
    {
     "name": "stderr",
     "output_type": "stream",
     "text": [
      "100%|█████████████████████████████████████████████| 9/9 [00:07<00:00,  1.15it/s]\n",
      "100%|█████████████████████████████████████████████| 4/4 [00:03<00:00,  1.15it/s]\n"
     ]
    },
    {
     "name": "stdout",
     "output_type": "stream",
     "text": [
      "Epoch : 369 - Train_loss : 1.0065 - Train_Acc: 0.5786 - Val_loss : 0.2093 - Val_Acc: 0.4167  - Time: 11.30401062965393\n",
      "\n"
     ]
    },
    {
     "name": "stderr",
     "output_type": "stream",
     "text": [
      "100%|█████████████████████████████████████████████| 9/9 [00:08<00:00,  1.12it/s]\n",
      "100%|█████████████████████████████████████████████| 4/4 [00:03<00:00,  1.19it/s]\n"
     ]
    },
    {
     "name": "stdout",
     "output_type": "stream",
     "text": [
      "Epoch : 370 - Train_loss : 0.9834 - Train_Acc: 0.6107 - Val_loss : 0.2098 - Val_Acc: 0.4083  - Time: 11.382371425628662\n",
      "\n"
     ]
    },
    {
     "name": "stderr",
     "output_type": "stream",
     "text": [
      "100%|█████████████████████████████████████████████| 9/9 [00:08<00:00,  1.09it/s]\n",
      "100%|█████████████████████████████████████████████| 4/4 [00:04<00:00,  1.02s/it]\n"
     ]
    },
    {
     "name": "stdout",
     "output_type": "stream",
     "text": [
      "Epoch : 371 - Train_loss : 0.9900 - Train_Acc: 0.5929 - Val_loss : 0.2095 - Val_Acc: 0.4083  - Time: 12.32037901878357\n",
      "\n"
     ]
    },
    {
     "name": "stderr",
     "output_type": "stream",
     "text": [
      "100%|█████████████████████████████████████████████| 9/9 [00:07<00:00,  1.23it/s]\n",
      "100%|█████████████████████████████████████████████| 4/4 [00:03<00:00,  1.06it/s]\n"
     ]
    },
    {
     "name": "stdout",
     "output_type": "stream",
     "text": [
      "Epoch : 372 - Train_loss : 0.9906 - Train_Acc: 0.6071 - Val_loss : 0.2095 - Val_Acc: 0.4083  - Time: 11.095061779022217\n",
      "\n"
     ]
    },
    {
     "name": "stderr",
     "output_type": "stream",
     "text": [
      "100%|█████████████████████████████████████████████| 9/9 [00:07<00:00,  1.28it/s]\n",
      "100%|█████████████████████████████████████████████| 4/4 [00:03<00:00,  1.03it/s]\n"
     ]
    },
    {
     "name": "stdout",
     "output_type": "stream",
     "text": [
      "Epoch : 373 - Train_loss : 0.9683 - Train_Acc: 0.6321 - Val_loss : 0.2096 - Val_Acc: 0.4083  - Time: 10.915993928909302\n",
      "\n"
     ]
    },
    {
     "name": "stderr",
     "output_type": "stream",
     "text": [
      "100%|█████████████████████████████████████████████| 9/9 [00:07<00:00,  1.17it/s]\n",
      "100%|█████████████████████████████████████████████| 4/4 [00:03<00:00,  1.14it/s]\n"
     ]
    },
    {
     "name": "stdout",
     "output_type": "stream",
     "text": [
      "Epoch : 374 - Train_loss : 0.9703 - Train_Acc: 0.6393 - Val_loss : 0.2096 - Val_Acc: 0.4083  - Time: 11.196699142456055\n",
      "\n"
     ]
    },
    {
     "name": "stderr",
     "output_type": "stream",
     "text": [
      "100%|█████████████████████████████████████████████| 9/9 [00:07<00:00,  1.15it/s]\n",
      "100%|█████████████████████████████████████████████| 4/4 [00:03<00:00,  1.20it/s]\n"
     ]
    },
    {
     "name": "stdout",
     "output_type": "stream",
     "text": [
      "Epoch : 375 - Train_loss : 0.9983 - Train_Acc: 0.6143 - Val_loss : 0.2095 - Val_Acc: 0.4083  - Time: 11.193160057067871\n",
      "\n"
     ]
    },
    {
     "name": "stderr",
     "output_type": "stream",
     "text": [
      "100%|█████████████████████████████████████████████| 9/9 [00:07<00:00,  1.16it/s]\n",
      "100%|█████████████████████████████████████████████| 4/4 [00:03<00:00,  1.15it/s]\n"
     ]
    },
    {
     "name": "stdout",
     "output_type": "stream",
     "text": [
      "Epoch : 376 - Train_loss : 1.0306 - Train_Acc: 0.5929 - Val_loss : 0.2098 - Val_Acc: 0.4083  - Time: 11.203768968582153\n",
      "\n"
     ]
    },
    {
     "name": "stderr",
     "output_type": "stream",
     "text": [
      "100%|█████████████████████████████████████████████| 9/9 [00:07<00:00,  1.13it/s]\n",
      "100%|█████████████████████████████████████████████| 4/4 [00:03<00:00,  1.19it/s]\n"
     ]
    },
    {
     "name": "stdout",
     "output_type": "stream",
     "text": [
      "Epoch : 377 - Train_loss : 0.9750 - Train_Acc: 0.6250 - Val_loss : 0.2099 - Val_Acc: 0.4083  - Time: 11.317214012145996\n",
      "\n"
     ]
    },
    {
     "name": "stderr",
     "output_type": "stream",
     "text": [
      "100%|█████████████████████████████████████████████| 9/9 [00:08<00:00,  1.08it/s]\n",
      "100%|█████████████████████████████████████████████| 4/4 [00:03<00:00,  1.03it/s]\n"
     ]
    },
    {
     "name": "stdout",
     "output_type": "stream",
     "text": [
      "Epoch : 378 - Train_loss : 0.9967 - Train_Acc: 0.6036 - Val_loss : 0.2097 - Val_Acc: 0.4083  - Time: 12.247368335723877\n",
      "\n"
     ]
    },
    {
     "name": "stderr",
     "output_type": "stream",
     "text": [
      "100%|█████████████████████████████████████████████| 9/9 [00:07<00:00,  1.22it/s]\n",
      "100%|█████████████████████████████████████████████| 4/4 [00:03<00:00,  1.07it/s]\n"
     ]
    },
    {
     "name": "stdout",
     "output_type": "stream",
     "text": [
      "Epoch : 379 - Train_loss : 0.9928 - Train_Acc: 0.5964 - Val_loss : 0.2097 - Val_Acc: 0.4083  - Time: 11.142453670501709\n",
      "\n"
     ]
    },
    {
     "name": "stderr",
     "output_type": "stream",
     "text": [
      "100%|█████████████████████████████████████████████| 9/9 [00:07<00:00,  1.20it/s]\n",
      "100%|█████████████████████████████████████████████| 4/4 [00:03<00:00,  1.02it/s]\n"
     ]
    },
    {
     "name": "stdout",
     "output_type": "stream",
     "text": [
      "Epoch : 380 - Train_loss : 0.9695 - Train_Acc: 0.6393 - Val_loss : 0.2098 - Val_Acc: 0.4083  - Time: 11.434717893600464\n",
      "\n"
     ]
    },
    {
     "name": "stderr",
     "output_type": "stream",
     "text": [
      "100%|█████████████████████████████████████████████| 9/9 [00:07<00:00,  1.17it/s]\n",
      "100%|█████████████████████████████████████████████| 4/4 [00:03<00:00,  1.15it/s]\n"
     ]
    },
    {
     "name": "stdout",
     "output_type": "stream",
     "text": [
      "Epoch : 381 - Train_loss : 0.9782 - Train_Acc: 0.6286 - Val_loss : 0.2096 - Val_Acc: 0.4083  - Time: 11.1476411819458\n",
      "\n"
     ]
    },
    {
     "name": "stderr",
     "output_type": "stream",
     "text": [
      "100%|█████████████████████████████████████████████| 9/9 [00:07<00:00,  1.13it/s]\n",
      "100%|█████████████████████████████████████████████| 4/4 [00:03<00:00,  1.15it/s]\n"
     ]
    },
    {
     "name": "stdout",
     "output_type": "stream",
     "text": [
      "Epoch : 382 - Train_loss : 0.9795 - Train_Acc: 0.6321 - Val_loss : 0.2095 - Val_Acc: 0.4083  - Time: 11.42911958694458\n",
      "\n"
     ]
    },
    {
     "name": "stderr",
     "output_type": "stream",
     "text": [
      "100%|█████████████████████████████████████████████| 9/9 [00:07<00:00,  1.23it/s]\n",
      "100%|█████████████████████████████████████████████| 4/4 [00:03<00:00,  1.17it/s]\n"
     ]
    },
    {
     "name": "stdout",
     "output_type": "stream",
     "text": [
      "Epoch : 383 - Train_loss : 0.9806 - Train_Acc: 0.6000 - Val_loss : 0.2096 - Val_Acc: 0.4167  - Time: 10.769441843032837\n",
      "\n"
     ]
    },
    {
     "name": "stderr",
     "output_type": "stream",
     "text": [
      "100%|█████████████████████████████████████████████| 9/9 [00:07<00:00,  1.14it/s]\n",
      "100%|█████████████████████████████████████████████| 4/4 [00:03<00:00,  1.21it/s]\n"
     ]
    },
    {
     "name": "stdout",
     "output_type": "stream",
     "text": [
      "Epoch : 384 - Train_loss : 0.9884 - Train_Acc: 0.6143 - Val_loss : 0.2097 - Val_Acc: 0.4083  - Time: 11.21848177909851\n",
      "\n"
     ]
    },
    {
     "name": "stderr",
     "output_type": "stream",
     "text": [
      "100%|█████████████████████████████████████████████| 9/9 [00:08<00:00,  1.10it/s]\n",
      "100%|█████████████████████████████████████████████| 4/4 [00:03<00:00,  1.03it/s]\n"
     ]
    },
    {
     "name": "stdout",
     "output_type": "stream",
     "text": [
      "Epoch : 385 - Train_loss : 0.9897 - Train_Acc: 0.5893 - Val_loss : 0.2098 - Val_Acc: 0.4083  - Time: 12.05396318435669\n",
      "\n"
     ]
    },
    {
     "name": "stderr",
     "output_type": "stream",
     "text": [
      "100%|█████████████████████████████████████████████| 9/9 [00:07<00:00,  1.19it/s]\n",
      "100%|█████████████████████████████████████████████| 4/4 [00:03<00:00,  1.07it/s]\n"
     ]
    },
    {
     "name": "stdout",
     "output_type": "stream",
     "text": [
      "Epoch : 386 - Train_loss : 0.9769 - Train_Acc: 0.6179 - Val_loss : 0.2098 - Val_Acc: 0.4083  - Time: 11.274205684661865\n",
      "\n"
     ]
    },
    {
     "name": "stderr",
     "output_type": "stream",
     "text": [
      "100%|█████████████████████████████████████████████| 9/9 [00:07<00:00,  1.19it/s]\n",
      "100%|█████████████████████████████████████████████| 4/4 [00:04<00:00,  1.00s/it]\n"
     ]
    },
    {
     "name": "stdout",
     "output_type": "stream",
     "text": [
      "Epoch : 387 - Train_loss : 0.9747 - Train_Acc: 0.6071 - Val_loss : 0.2096 - Val_Acc: 0.4083  - Time: 11.565917730331421\n",
      "\n"
     ]
    },
    {
     "name": "stderr",
     "output_type": "stream",
     "text": [
      "100%|█████████████████████████████████████████████| 9/9 [00:07<00:00,  1.17it/s]\n",
      "100%|█████████████████████████████████████████████| 4/4 [00:03<00:00,  1.15it/s]\n"
     ]
    },
    {
     "name": "stdout",
     "output_type": "stream",
     "text": [
      "Epoch : 388 - Train_loss : 0.9792 - Train_Acc: 0.6071 - Val_loss : 0.2098 - Val_Acc: 0.4083  - Time: 11.183928728103638\n",
      "\n"
     ]
    },
    {
     "name": "stderr",
     "output_type": "stream",
     "text": [
      "100%|█████████████████████████████████████████████| 9/9 [00:07<00:00,  1.14it/s]\n",
      "100%|█████████████████████████████████████████████| 4/4 [00:03<00:00,  1.16it/s]\n"
     ]
    },
    {
     "name": "stdout",
     "output_type": "stream",
     "text": [
      "Epoch : 389 - Train_loss : 0.9925 - Train_Acc: 0.5857 - Val_loss : 0.2100 - Val_Acc: 0.4083  - Time: 11.353546380996704\n",
      "\n"
     ]
    },
    {
     "name": "stderr",
     "output_type": "stream",
     "text": [
      "100%|█████████████████████████████████████████████| 9/9 [00:07<00:00,  1.17it/s]\n",
      "100%|█████████████████████████████████████████████| 4/4 [00:03<00:00,  1.18it/s]\n"
     ]
    },
    {
     "name": "stdout",
     "output_type": "stream",
     "text": [
      "Epoch : 390 - Train_loss : 0.9766 - Train_Acc: 0.6071 - Val_loss : 0.2099 - Val_Acc: 0.4083  - Time: 11.11018443107605\n",
      "\n"
     ]
    },
    {
     "name": "stderr",
     "output_type": "stream",
     "text": [
      "100%|█████████████████████████████████████████████| 9/9 [00:07<00:00,  1.16it/s]\n",
      "100%|█████████████████████████████████████████████| 4/4 [00:03<00:00,  1.17it/s]\n"
     ]
    },
    {
     "name": "stdout",
     "output_type": "stream",
     "text": [
      "Epoch : 391 - Train_loss : 0.9833 - Train_Acc: 0.6214 - Val_loss : 0.2098 - Val_Acc: 0.4083  - Time: 11.20720887184143\n",
      "\n"
     ]
    },
    {
     "name": "stderr",
     "output_type": "stream",
     "text": [
      "100%|█████████████████████████████████████████████| 9/9 [00:08<00:00,  1.08it/s]\n",
      "100%|█████████████████████████████████████████████| 4/4 [00:03<00:00,  1.01it/s]\n"
     ]
    },
    {
     "name": "stdout",
     "output_type": "stream",
     "text": [
      "Epoch : 392 - Train_loss : 0.9801 - Train_Acc: 0.6214 - Val_loss : 0.2099 - Val_Acc: 0.4083  - Time: 12.27088475227356\n",
      "\n"
     ]
    },
    {
     "name": "stderr",
     "output_type": "stream",
     "text": [
      "100%|█████████████████████████████████████████████| 9/9 [00:07<00:00,  1.19it/s]\n",
      "100%|█████████████████████████████████████████████| 4/4 [00:03<00:00,  1.06it/s]\n"
     ]
    },
    {
     "name": "stdout",
     "output_type": "stream",
     "text": [
      "Epoch : 393 - Train_loss : 0.9667 - Train_Acc: 0.6000 - Val_loss : 0.2098 - Val_Acc: 0.4083  - Time: 11.373012065887451\n",
      "\n"
     ]
    },
    {
     "name": "stderr",
     "output_type": "stream",
     "text": [
      "100%|█████████████████████████████████████████████| 9/9 [00:07<00:00,  1.23it/s]\n",
      "100%|█████████████████████████████████████████████| 4/4 [00:03<00:00,  1.06it/s]\n"
     ]
    },
    {
     "name": "stdout",
     "output_type": "stream",
     "text": [
      "Epoch : 394 - Train_loss : 0.9707 - Train_Acc: 0.5964 - Val_loss : 0.2098 - Val_Acc: 0.4083  - Time: 11.130245685577393\n",
      "\n"
     ]
    },
    {
     "name": "stderr",
     "output_type": "stream",
     "text": [
      "100%|█████████████████████████████████████████████| 9/9 [00:07<00:00,  1.13it/s]\n",
      "100%|█████████████████████████████████████████████| 4/4 [00:03<00:00,  1.14it/s]\n"
     ]
    },
    {
     "name": "stdout",
     "output_type": "stream",
     "text": [
      "Epoch : 395 - Train_loss : 0.9703 - Train_Acc: 0.6393 - Val_loss : 0.2097 - Val_Acc: 0.4083  - Time: 11.510788679122925\n",
      "\n"
     ]
    },
    {
     "name": "stderr",
     "output_type": "stream",
     "text": [
      "100%|█████████████████████████████████████████████| 9/9 [00:07<00:00,  1.16it/s]\n",
      "100%|█████████████████████████████████████████████| 4/4 [00:03<00:00,  1.16it/s]\n"
     ]
    },
    {
     "name": "stdout",
     "output_type": "stream",
     "text": [
      "Epoch : 396 - Train_loss : 0.9760 - Train_Acc: 0.6536 - Val_loss : 0.2096 - Val_Acc: 0.4083  - Time: 11.222365379333496\n",
      "\n"
     ]
    },
    {
     "name": "stderr",
     "output_type": "stream",
     "text": [
      "100%|█████████████████████████████████████████████| 9/9 [00:07<00:00,  1.13it/s]\n",
      "100%|█████████████████████████████████████████████| 4/4 [00:03<00:00,  1.20it/s]\n"
     ]
    },
    {
     "name": "stdout",
     "output_type": "stream",
     "text": [
      "Epoch : 397 - Train_loss : 0.9803 - Train_Acc: 0.6250 - Val_loss : 0.2097 - Val_Acc: 0.4083  - Time: 11.321722269058228\n",
      "\n"
     ]
    },
    {
     "name": "stderr",
     "output_type": "stream",
     "text": [
      "100%|█████████████████████████████████████████████| 9/9 [00:07<00:00,  1.18it/s]\n",
      "100%|█████████████████████████████████████████████| 4/4 [00:03<00:00,  1.15it/s]\n"
     ]
    },
    {
     "name": "stdout",
     "output_type": "stream",
     "text": [
      "Epoch : 398 - Train_loss : 0.9917 - Train_Acc: 0.6036 - Val_loss : 0.2098 - Val_Acc: 0.4083  - Time: 11.136393547058105\n",
      "\n"
     ]
    },
    {
     "name": "stderr",
     "output_type": "stream",
     "text": [
      "100%|█████████████████████████████████████████████| 9/9 [00:08<00:00,  1.11it/s]\n",
      "100%|█████████████████████████████████████████████| 4/4 [00:04<00:00,  1.02s/it]\n"
     ]
    },
    {
     "name": "stdout",
     "output_type": "stream",
     "text": [
      "Epoch : 399 - Train_loss : 0.9662 - Train_Acc: 0.6286 - Val_loss : 0.2097 - Val_Acc: 0.4083  - Time: 12.224667310714722\n",
      "\n"
     ]
    },
    {
     "name": "stderr",
     "output_type": "stream",
     "text": [
      "100%|█████████████████████████████████████████████| 9/9 [00:07<00:00,  1.22it/s]\n",
      "100%|█████████████████████████████████████████████| 4/4 [00:03<00:00,  1.08it/s]\n"
     ]
    },
    {
     "name": "stdout",
     "output_type": "stream",
     "text": [
      "Epoch : 400 - Train_loss : 0.9837 - Train_Acc: 0.6000 - Val_loss : 0.2097 - Val_Acc: 0.4083  - Time: 11.084399938583374\n",
      "\n"
     ]
    },
    {
     "name": "stderr",
     "output_type": "stream",
     "text": [
      "100%|█████████████████████████████████████████████| 9/9 [00:07<00:00,  1.27it/s]\n",
      "100%|█████████████████████████████████████████████| 4/4 [00:03<00:00,  1.03it/s]\n"
     ]
    },
    {
     "name": "stdout",
     "output_type": "stream",
     "text": [
      "Epoch : 401 - Train_loss : 0.9753 - Train_Acc: 0.6214 - Val_loss : 0.2097 - Val_Acc: 0.4083  - Time: 10.948199272155762\n",
      "\n"
     ]
    },
    {
     "name": "stderr",
     "output_type": "stream",
     "text": [
      "100%|█████████████████████████████████████████████| 9/9 [00:07<00:00,  1.13it/s]\n",
      "100%|█████████████████████████████████████████████| 4/4 [00:03<00:00,  1.16it/s]\n"
     ]
    },
    {
     "name": "stdout",
     "output_type": "stream",
     "text": [
      "Epoch : 402 - Train_loss : 0.9738 - Train_Acc: 0.6429 - Val_loss : 0.2096 - Val_Acc: 0.4083  - Time: 11.412562131881714\n",
      "\n"
     ]
    },
    {
     "name": "stderr",
     "output_type": "stream",
     "text": [
      "100%|█████████████████████████████████████████████| 9/9 [00:07<00:00,  1.16it/s]\n",
      "100%|█████████████████████████████████████████████| 4/4 [00:03<00:00,  1.13it/s]\n"
     ]
    },
    {
     "name": "stdout",
     "output_type": "stream",
     "text": [
      "Epoch : 403 - Train_loss : 0.9707 - Train_Acc: 0.6071 - Val_loss : 0.2099 - Val_Acc: 0.4083  - Time: 11.298407077789307\n",
      "\n"
     ]
    },
    {
     "name": "stderr",
     "output_type": "stream",
     "text": [
      "100%|█████████████████████████████████████████████| 9/9 [00:07<00:00,  1.16it/s]\n",
      "100%|█████████████████████████████████████████████| 4/4 [00:03<00:00,  1.17it/s]\n"
     ]
    },
    {
     "name": "stdout",
     "output_type": "stream",
     "text": [
      "Epoch : 404 - Train_loss : 0.9756 - Train_Acc: 0.6321 - Val_loss : 0.2097 - Val_Acc: 0.4083  - Time: 11.16204309463501\n",
      "\n"
     ]
    },
    {
     "name": "stderr",
     "output_type": "stream",
     "text": [
      "100%|█████████████████████████████████████████████| 9/9 [00:07<00:00,  1.19it/s]\n",
      "100%|█████████████████████████████████████████████| 4/4 [00:03<00:00,  1.19it/s]\n"
     ]
    },
    {
     "name": "stdout",
     "output_type": "stream",
     "text": [
      "Epoch : 405 - Train_loss : 0.9769 - Train_Acc: 0.6357 - Val_loss : 0.2098 - Val_Acc: 0.4083  - Time: 10.955578804016113\n",
      "\n"
     ]
    },
    {
     "name": "stderr",
     "output_type": "stream",
     "text": [
      "100%|█████████████████████████████████████████████| 9/9 [00:08<00:00,  1.09it/s]\n",
      "100%|█████████████████████████████████████████████| 4/4 [00:03<00:00,  1.01it/s]\n"
     ]
    },
    {
     "name": "stdout",
     "output_type": "stream",
     "text": [
      "Epoch : 406 - Train_loss : 0.9866 - Train_Acc: 0.5964 - Val_loss : 0.2101 - Val_Acc: 0.4083  - Time: 12.24439001083374\n",
      "\n"
     ]
    },
    {
     "name": "stderr",
     "output_type": "stream",
     "text": [
      "100%|█████████████████████████████████████████████| 9/9 [00:07<00:00,  1.17it/s]\n",
      "100%|█████████████████████████████████████████████| 4/4 [00:03<00:00,  1.04it/s]\n"
     ]
    },
    {
     "name": "stdout",
     "output_type": "stream",
     "text": [
      "Epoch : 407 - Train_loss : 0.9741 - Train_Acc: 0.6143 - Val_loss : 0.2101 - Val_Acc: 0.4083  - Time: 11.56513261795044\n",
      "\n"
     ]
    },
    {
     "name": "stderr",
     "output_type": "stream",
     "text": [
      "100%|█████████████████████████████████████████████| 9/9 [00:07<00:00,  1.22it/s]\n",
      "100%|█████████████████████████████████████████████| 4/4 [00:03<00:00,  1.05it/s]\n"
     ]
    },
    {
     "name": "stdout",
     "output_type": "stream",
     "text": [
      "Epoch : 408 - Train_loss : 0.9829 - Train_Acc: 0.5964 - Val_loss : 0.2100 - Val_Acc: 0.4083  - Time: 11.179808616638184\n",
      "\n"
     ]
    },
    {
     "name": "stderr",
     "output_type": "stream",
     "text": [
      "100%|█████████████████████████████████████████████| 9/9 [00:07<00:00,  1.16it/s]\n",
      "100%|█████████████████████████████████████████████| 4/4 [00:03<00:00,  1.14it/s]\n"
     ]
    },
    {
     "name": "stdout",
     "output_type": "stream",
     "text": [
      "Epoch : 409 - Train_loss : 1.0010 - Train_Acc: 0.5821 - Val_loss : 0.2099 - Val_Acc: 0.4083  - Time: 11.255216598510742\n",
      "\n"
     ]
    },
    {
     "name": "stderr",
     "output_type": "stream",
     "text": [
      "100%|█████████████████████████████████████████████| 9/9 [00:07<00:00,  1.13it/s]\n",
      "100%|█████████████████████████████████████████████| 4/4 [00:03<00:00,  1.13it/s]\n"
     ]
    },
    {
     "name": "stdout",
     "output_type": "stream",
     "text": [
      "Epoch : 410 - Train_loss : 0.9757 - Train_Acc: 0.5929 - Val_loss : 0.2101 - Val_Acc: 0.4083  - Time: 11.501420259475708\n",
      "\n"
     ]
    },
    {
     "name": "stderr",
     "output_type": "stream",
     "text": [
      "100%|█████████████████████████████████████████████| 9/9 [00:07<00:00,  1.16it/s]\n",
      "100%|█████████████████████████████████████████████| 4/4 [00:03<00:00,  1.20it/s]\n"
     ]
    },
    {
     "name": "stdout",
     "output_type": "stream",
     "text": [
      "Epoch : 411 - Train_loss : 0.9606 - Train_Acc: 0.6179 - Val_loss : 0.2099 - Val_Acc: 0.4083  - Time: 11.070321083068848\n",
      "\n"
     ]
    },
    {
     "name": "stderr",
     "output_type": "stream",
     "text": [
      "100%|█████████████████████████████████████████████| 9/9 [00:07<00:00,  1.22it/s]\n",
      "100%|█████████████████████████████████████████████| 4/4 [00:03<00:00,  1.20it/s]\n"
     ]
    },
    {
     "name": "stdout",
     "output_type": "stream",
     "text": [
      "Epoch : 412 - Train_loss : 0.9801 - Train_Acc: 0.6143 - Val_loss : 0.2100 - Val_Acc: 0.4083  - Time: 10.747110366821289\n",
      "\n"
     ]
    },
    {
     "name": "stderr",
     "output_type": "stream",
     "text": [
      "100%|█████████████████████████████████████████████| 9/9 [00:08<00:00,  1.12it/s]\n",
      "100%|█████████████████████████████████████████████| 4/4 [00:04<00:00,  1.00s/it]\n"
     ]
    },
    {
     "name": "stdout",
     "output_type": "stream",
     "text": [
      "Epoch : 413 - Train_loss : 0.9723 - Train_Acc: 0.6214 - Val_loss : 0.2099 - Val_Acc: 0.4083  - Time: 12.04908037185669\n",
      "\n"
     ]
    },
    {
     "name": "stderr",
     "output_type": "stream",
     "text": [
      "100%|█████████████████████████████████████████████| 9/9 [00:07<00:00,  1.18it/s]\n",
      "100%|█████████████████████████████████████████████| 4/4 [00:03<00:00,  1.04it/s]\n"
     ]
    },
    {
     "name": "stdout",
     "output_type": "stream",
     "text": [
      "Epoch : 414 - Train_loss : 0.9853 - Train_Acc: 0.6321 - Val_loss : 0.2098 - Val_Acc: 0.4083  - Time: 11.485136985778809\n",
      "\n"
     ]
    },
    {
     "name": "stderr",
     "output_type": "stream",
     "text": [
      "100%|█████████████████████████████████████████████| 9/9 [00:07<00:00,  1.21it/s]\n",
      "100%|█████████████████████████████████████████████| 4/4 [00:03<00:00,  1.08it/s]\n"
     ]
    },
    {
     "name": "stdout",
     "output_type": "stream",
     "text": [
      "Epoch : 415 - Train_loss : 0.9872 - Train_Acc: 0.5929 - Val_loss : 0.2102 - Val_Acc: 0.4083  - Time: 11.178014755249023\n",
      "\n"
     ]
    },
    {
     "name": "stderr",
     "output_type": "stream",
     "text": [
      "100%|█████████████████████████████████████████████| 9/9 [00:07<00:00,  1.16it/s]\n",
      "100%|█████████████████████████████████████████████| 4/4 [00:03<00:00,  1.19it/s]\n"
     ]
    },
    {
     "name": "stdout",
     "output_type": "stream",
     "text": [
      "Epoch : 416 - Train_loss : 0.9778 - Train_Acc: 0.6214 - Val_loss : 0.2101 - Val_Acc: 0.4083  - Time: 11.171112537384033\n",
      "\n"
     ]
    },
    {
     "name": "stderr",
     "output_type": "stream",
     "text": [
      "100%|█████████████████████████████████████████████| 9/9 [00:07<00:00,  1.15it/s]\n",
      "100%|█████████████████████████████████████████████| 4/4 [00:03<00:00,  1.20it/s]\n"
     ]
    },
    {
     "name": "stdout",
     "output_type": "stream",
     "text": [
      "Epoch : 417 - Train_loss : 0.9705 - Train_Acc: 0.6286 - Val_loss : 0.2100 - Val_Acc: 0.4083  - Time: 11.16632628440857\n",
      "\n"
     ]
    },
    {
     "name": "stderr",
     "output_type": "stream",
     "text": [
      "100%|█████████████████████████████████████████████| 9/9 [00:07<00:00,  1.19it/s]\n",
      "100%|█████████████████████████████████████████████| 4/4 [00:03<00:00,  1.19it/s]\n"
     ]
    },
    {
     "name": "stdout",
     "output_type": "stream",
     "text": [
      "Epoch : 418 - Train_loss : 0.9794 - Train_Acc: 0.6143 - Val_loss : 0.2100 - Val_Acc: 0.4083  - Time: 10.94444727897644\n",
      "\n"
     ]
    },
    {
     "name": "stderr",
     "output_type": "stream",
     "text": [
      "100%|█████████████████████████████████████████████| 9/9 [00:07<00:00,  1.14it/s]\n",
      "100%|█████████████████████████████████████████████| 4/4 [00:03<00:00,  1.17it/s]\n"
     ]
    },
    {
     "name": "stdout",
     "output_type": "stream",
     "text": [
      "Epoch : 419 - Train_loss : 0.9906 - Train_Acc: 0.6179 - Val_loss : 0.2100 - Val_Acc: 0.4083  - Time: 11.306108236312866\n",
      "\n"
     ]
    },
    {
     "name": "stderr",
     "output_type": "stream",
     "text": [
      "100%|█████████████████████████████████████████████| 9/9 [00:08<00:00,  1.08it/s]\n",
      "100%|█████████████████████████████████████████████| 4/4 [00:03<00:00,  1.01it/s]\n"
     ]
    },
    {
     "name": "stdout",
     "output_type": "stream",
     "text": [
      "Epoch : 420 - Train_loss : 0.9784 - Train_Acc: 0.6036 - Val_loss : 0.2098 - Val_Acc: 0.4083  - Time: 12.327333450317383\n",
      "\n"
     ]
    },
    {
     "name": "stderr",
     "output_type": "stream",
     "text": [
      "100%|█████████████████████████████████████████████| 9/9 [00:07<00:00,  1.16it/s]\n",
      "100%|█████████████████████████████████████████████| 4/4 [00:03<00:00,  1.06it/s]\n"
     ]
    },
    {
     "name": "stdout",
     "output_type": "stream",
     "text": [
      "Epoch : 421 - Train_loss : 0.9788 - Train_Acc: 0.6107 - Val_loss : 0.2102 - Val_Acc: 0.4083  - Time: 11.542602062225342\n",
      "\n"
     ]
    },
    {
     "name": "stderr",
     "output_type": "stream",
     "text": [
      "100%|█████████████████████████████████████████████| 9/9 [00:07<00:00,  1.29it/s]\n",
      "100%|█████████████████████████████████████████████| 4/4 [00:03<00:00,  1.02it/s]\n"
     ]
    },
    {
     "name": "stdout",
     "output_type": "stream",
     "text": [
      "Epoch : 422 - Train_loss : 0.9883 - Train_Acc: 0.5893 - Val_loss : 0.2105 - Val_Acc: 0.4083  - Time: 10.927300691604614\n",
      "\n"
     ]
    },
    {
     "name": "stderr",
     "output_type": "stream",
     "text": [
      "100%|█████████████████████████████████████████████| 9/9 [00:07<00:00,  1.15it/s]\n",
      "100%|█████████████████████████████████████████████| 4/4 [00:03<00:00,  1.14it/s]\n"
     ]
    },
    {
     "name": "stdout",
     "output_type": "stream",
     "text": [
      "Epoch : 423 - Train_loss : 0.9895 - Train_Acc: 0.6143 - Val_loss : 0.2104 - Val_Acc: 0.4083  - Time: 11.337559223175049\n",
      "\n"
     ]
    },
    {
     "name": "stderr",
     "output_type": "stream",
     "text": [
      "100%|█████████████████████████████████████████████| 9/9 [00:07<00:00,  1.13it/s]\n",
      "100%|█████████████████████████████████████████████| 4/4 [00:03<00:00,  1.16it/s]\n"
     ]
    },
    {
     "name": "stdout",
     "output_type": "stream",
     "text": [
      "Epoch : 424 - Train_loss : 0.9523 - Train_Acc: 0.6536 - Val_loss : 0.2105 - Val_Acc: 0.4083  - Time: 11.382105827331543\n",
      "\n"
     ]
    },
    {
     "name": "stderr",
     "output_type": "stream",
     "text": [
      "100%|█████████████████████████████████████████████| 9/9 [00:07<00:00,  1.15it/s]\n",
      "100%|█████████████████████████████████████████████| 4/4 [00:03<00:00,  1.21it/s]\n"
     ]
    },
    {
     "name": "stdout",
     "output_type": "stream",
     "text": [
      "Epoch : 425 - Train_loss : 0.9896 - Train_Acc: 0.6000 - Val_loss : 0.2105 - Val_Acc: 0.4083  - Time: 11.153023958206177\n",
      "\n"
     ]
    },
    {
     "name": "stderr",
     "output_type": "stream",
     "text": [
      "100%|█████████████████████████████████████████████| 9/9 [00:07<00:00,  1.16it/s]\n",
      "100%|█████████████████████████████████████████████| 4/4 [00:03<00:00,  1.19it/s]\n"
     ]
    },
    {
     "name": "stdout",
     "output_type": "stream",
     "text": [
      "Epoch : 426 - Train_loss : 0.9845 - Train_Acc: 0.6107 - Val_loss : 0.2105 - Val_Acc: 0.4083  - Time: 11.15582537651062\n",
      "\n"
     ]
    },
    {
     "name": "stderr",
     "output_type": "stream",
     "text": [
      "100%|█████████████████████████████████████████████| 9/9 [00:07<00:00,  1.16it/s]\n",
      "100%|█████████████████████████████████████████████| 4/4 [00:04<00:00,  1.02s/it]\n"
     ]
    },
    {
     "name": "stdout",
     "output_type": "stream",
     "text": [
      "Epoch : 427 - Train_loss : 0.9752 - Train_Acc: 0.6321 - Val_loss : 0.2103 - Val_Acc: 0.4083  - Time: 11.86679482460022\n",
      "\n"
     ]
    },
    {
     "name": "stderr",
     "output_type": "stream",
     "text": [
      "100%|█████████████████████████████████████████████| 9/9 [00:07<00:00,  1.20it/s]\n",
      "100%|█████████████████████████████████████████████| 4/4 [00:03<00:00,  1.09it/s]\n"
     ]
    },
    {
     "name": "stdout",
     "output_type": "stream",
     "text": [
      "Epoch : 428 - Train_loss : 0.9594 - Train_Acc: 0.6321 - Val_loss : 0.2103 - Val_Acc: 0.4083  - Time: 11.170274496078491\n",
      "\n"
     ]
    },
    {
     "name": "stderr",
     "output_type": "stream",
     "text": [
      "100%|█████████████████████████████████████████████| 9/9 [00:07<00:00,  1.22it/s]\n",
      "100%|█████████████████████████████████████████████| 4/4 [00:03<00:00,  1.01it/s]\n"
     ]
    },
    {
     "name": "stdout",
     "output_type": "stream",
     "text": [
      "Epoch : 429 - Train_loss : 0.9923 - Train_Acc: 0.6179 - Val_loss : 0.2103 - Val_Acc: 0.4083  - Time: 11.317065715789795\n",
      "\n"
     ]
    },
    {
     "name": "stderr",
     "output_type": "stream",
     "text": [
      "100%|█████████████████████████████████████████████| 9/9 [00:06<00:00,  1.36it/s]\n",
      "100%|█████████████████████████████████████████████| 4/4 [00:02<00:00,  1.56it/s]\n"
     ]
    },
    {
     "name": "stdout",
     "output_type": "stream",
     "text": [
      "Epoch : 430 - Train_loss : 0.9672 - Train_Acc: 0.6179 - Val_loss : 0.2102 - Val_Acc: 0.4083  - Time: 9.19565224647522\n",
      "\n"
     ]
    },
    {
     "name": "stderr",
     "output_type": "stream",
     "text": [
      "100%|█████████████████████████████████████████████| 9/9 [00:05<00:00,  1.60it/s]\n",
      "100%|█████████████████████████████████████████████| 4/4 [00:02<00:00,  1.55it/s]\n"
     ]
    },
    {
     "name": "stdout",
     "output_type": "stream",
     "text": [
      "Epoch : 431 - Train_loss : 0.9486 - Train_Acc: 0.6357 - Val_loss : 0.2103 - Val_Acc: 0.4083  - Time: 8.202667474746704\n",
      "\n"
     ]
    },
    {
     "name": "stderr",
     "output_type": "stream",
     "text": [
      "100%|█████████████████████████████████████████████| 9/9 [00:05<00:00,  1.59it/s]\n",
      "100%|█████████████████████████████████████████████| 4/4 [00:02<00:00,  1.55it/s]\n"
     ]
    },
    {
     "name": "stdout",
     "output_type": "stream",
     "text": [
      "Epoch : 432 - Train_loss : 0.9777 - Train_Acc: 0.5893 - Val_loss : 0.2104 - Val_Acc: 0.4083  - Time: 8.251370191574097\n",
      "\n"
     ]
    },
    {
     "name": "stderr",
     "output_type": "stream",
     "text": [
      "100%|█████████████████████████████████████████████| 9/9 [00:05<00:00,  1.60it/s]\n",
      "100%|█████████████████████████████████████████████| 4/4 [00:02<00:00,  1.57it/s]\n"
     ]
    },
    {
     "name": "stdout",
     "output_type": "stream",
     "text": [
      "Epoch : 433 - Train_loss : 0.9966 - Train_Acc: 0.6143 - Val_loss : 0.2100 - Val_Acc: 0.4083  - Time: 8.17522931098938\n",
      "\n"
     ]
    },
    {
     "name": "stderr",
     "output_type": "stream",
     "text": [
      "100%|█████████████████████████████████████████████| 9/9 [00:05<00:00,  1.64it/s]\n",
      "100%|█████████████████████████████████████████████| 4/4 [00:02<00:00,  1.53it/s]\n"
     ]
    },
    {
     "name": "stdout",
     "output_type": "stream",
     "text": [
      "Epoch : 434 - Train_loss : 0.9678 - Train_Acc: 0.5964 - Val_loss : 0.2103 - Val_Acc: 0.4083  - Time: 8.114464282989502\n",
      "\n"
     ]
    },
    {
     "name": "stderr",
     "output_type": "stream",
     "text": [
      "100%|█████████████████████████████████████████████| 9/9 [00:05<00:00,  1.55it/s]\n",
      "100%|█████████████████████████████████████████████| 4/4 [00:02<00:00,  1.43it/s]\n"
     ]
    },
    {
     "name": "stdout",
     "output_type": "stream",
     "text": [
      "Epoch : 435 - Train_loss : 0.9689 - Train_Acc: 0.6179 - Val_loss : 0.2102 - Val_Acc: 0.4083  - Time: 8.5978364944458\n",
      "\n"
     ]
    },
    {
     "name": "stderr",
     "output_type": "stream",
     "text": [
      "100%|█████████████████████████████████████████████| 9/9 [00:05<00:00,  1.59it/s]\n",
      "100%|█████████████████████████████████████████████| 4/4 [00:02<00:00,  1.54it/s]\n"
     ]
    },
    {
     "name": "stdout",
     "output_type": "stream",
     "text": [
      "Epoch : 436 - Train_loss : 0.9534 - Train_Acc: 0.6179 - Val_loss : 0.2103 - Val_Acc: 0.4083  - Time: 8.262502431869507\n",
      "\n"
     ]
    },
    {
     "name": "stderr",
     "output_type": "stream",
     "text": [
      "100%|█████████████████████████████████████████████| 9/9 [00:05<00:00,  1.65it/s]\n",
      "100%|█████████████████████████████████████████████| 4/4 [00:02<00:00,  1.56it/s]\n"
     ]
    },
    {
     "name": "stdout",
     "output_type": "stream",
     "text": [
      "Epoch : 437 - Train_loss : 0.9837 - Train_Acc: 0.6036 - Val_loss : 0.2105 - Val_Acc: 0.4083  - Time: 8.040646076202393\n",
      "\n"
     ]
    },
    {
     "name": "stderr",
     "output_type": "stream",
     "text": [
      "100%|█████████████████████████████████████████████| 9/9 [00:05<00:00,  1.56it/s]\n",
      "100%|█████████████████████████████████████████████| 4/4 [00:02<00:00,  1.50it/s]\n"
     ]
    },
    {
     "name": "stdout",
     "output_type": "stream",
     "text": [
      "Epoch : 438 - Train_loss : 0.9940 - Train_Acc: 0.6071 - Val_loss : 0.2105 - Val_Acc: 0.4083  - Time: 8.43716025352478\n",
      "\n"
     ]
    },
    {
     "name": "stderr",
     "output_type": "stream",
     "text": [
      "100%|█████████████████████████████████████████████| 9/9 [00:05<00:00,  1.60it/s]\n",
      "100%|█████████████████████████████████████████████| 4/4 [00:02<00:00,  1.55it/s]\n"
     ]
    },
    {
     "name": "stdout",
     "output_type": "stream",
     "text": [
      "Epoch : 439 - Train_loss : 0.9628 - Train_Acc: 0.6143 - Val_loss : 0.2107 - Val_Acc: 0.4083  - Time: 8.19166874885559\n",
      "\n"
     ]
    },
    {
     "name": "stderr",
     "output_type": "stream",
     "text": [
      "100%|█████████████████████████████████████████████| 9/9 [00:05<00:00,  1.55it/s]\n",
      "100%|█████████████████████████████████████████████| 4/4 [00:02<00:00,  1.57it/s]\n"
     ]
    },
    {
     "name": "stdout",
     "output_type": "stream",
     "text": [
      "Epoch : 440 - Train_loss : 0.9621 - Train_Acc: 0.6250 - Val_loss : 0.2104 - Val_Acc: 0.4083  - Time: 8.33491587638855\n",
      "\n"
     ]
    },
    {
     "name": "stderr",
     "output_type": "stream",
     "text": [
      "100%|█████████████████████████████████████████████| 9/9 [00:05<00:00,  1.59it/s]\n",
      "100%|█████████████████████████████████████████████| 4/4 [00:02<00:00,  1.56it/s]\n"
     ]
    },
    {
     "name": "stdout",
     "output_type": "stream",
     "text": [
      "Epoch : 441 - Train_loss : 0.9836 - Train_Acc: 0.5929 - Val_loss : 0.2104 - Val_Acc: 0.4083  - Time: 8.219691753387451\n",
      "\n"
     ]
    },
    {
     "name": "stderr",
     "output_type": "stream",
     "text": [
      "100%|█████████████████████████████████████████████| 9/9 [00:05<00:00,  1.63it/s]\n",
      "100%|█████████████████████████████████████████████| 4/4 [00:02<00:00,  1.52it/s]\n"
     ]
    },
    {
     "name": "stdout",
     "output_type": "stream",
     "text": [
      "Epoch : 442 - Train_loss : 0.9725 - Train_Acc: 0.6036 - Val_loss : 0.2106 - Val_Acc: 0.4083  - Time: 8.160724401473999\n",
      "\n"
     ]
    },
    {
     "name": "stderr",
     "output_type": "stream",
     "text": [
      "100%|█████████████████████████████████████████████| 9/9 [00:05<00:00,  1.59it/s]\n",
      "100%|█████████████████████████████████████████████| 4/4 [00:02<00:00,  1.42it/s]\n"
     ]
    },
    {
     "name": "stdout",
     "output_type": "stream",
     "text": [
      "Epoch : 443 - Train_loss : 0.9821 - Train_Acc: 0.5964 - Val_loss : 0.2105 - Val_Acc: 0.4083  - Time: 8.47385287284851\n",
      "\n"
     ]
    },
    {
     "name": "stderr",
     "output_type": "stream",
     "text": [
      "100%|█████████████████████████████████████████████| 9/9 [00:05<00:00,  1.59it/s]\n",
      "100%|█████████████████████████████████████████████| 4/4 [00:02<00:00,  1.54it/s]\n"
     ]
    },
    {
     "name": "stdout",
     "output_type": "stream",
     "text": [
      "Epoch : 444 - Train_loss : 0.9779 - Train_Acc: 0.6107 - Val_loss : 0.2106 - Val_Acc: 0.4083  - Time: 8.254638195037842\n",
      "\n"
     ]
    },
    {
     "name": "stderr",
     "output_type": "stream",
     "text": [
      "100%|█████████████████████████████████████████████| 9/9 [00:05<00:00,  1.59it/s]\n",
      "100%|█████████████████████████████████████████████| 4/4 [00:02<00:00,  1.56it/s]\n"
     ]
    },
    {
     "name": "stdout",
     "output_type": "stream",
     "text": [
      "Epoch : 445 - Train_loss : 0.9720 - Train_Acc: 0.6143 - Val_loss : 0.2107 - Val_Acc: 0.4083  - Time: 8.211301803588867\n",
      "\n"
     ]
    },
    {
     "name": "stderr",
     "output_type": "stream",
     "text": [
      "100%|█████████████████████████████████████████████| 9/9 [00:05<00:00,  1.56it/s]\n",
      "100%|█████████████████████████████████████████████| 4/4 [00:02<00:00,  1.48it/s]\n"
     ]
    },
    {
     "name": "stdout",
     "output_type": "stream",
     "text": [
      "Epoch : 446 - Train_loss : 0.9784 - Train_Acc: 0.5929 - Val_loss : 0.2106 - Val_Acc: 0.4083  - Time: 8.453574180603027\n",
      "\n"
     ]
    },
    {
     "name": "stderr",
     "output_type": "stream",
     "text": [
      "100%|█████████████████████████████████████████████| 9/9 [00:05<00:00,  1.62it/s]\n",
      "100%|█████████████████████████████████████████████| 4/4 [00:02<00:00,  1.56it/s]\n"
     ]
    },
    {
     "name": "stdout",
     "output_type": "stream",
     "text": [
      "Epoch : 447 - Train_loss : 0.9655 - Train_Acc: 0.6214 - Val_loss : 0.2108 - Val_Acc: 0.4083  - Time: 8.112618446350098\n",
      "\n"
     ]
    },
    {
     "name": "stderr",
     "output_type": "stream",
     "text": [
      "100%|█████████████████████████████████████████████| 9/9 [00:05<00:00,  1.57it/s]\n",
      "100%|█████████████████████████████████████████████| 4/4 [00:02<00:00,  1.58it/s]\n"
     ]
    },
    {
     "name": "stdout",
     "output_type": "stream",
     "text": [
      "Epoch : 448 - Train_loss : 0.9617 - Train_Acc: 0.6143 - Val_loss : 0.2106 - Val_Acc: 0.4083  - Time: 8.272852420806885\n",
      "\n"
     ]
    },
    {
     "name": "stderr",
     "output_type": "stream",
     "text": [
      "100%|█████████████████████████████████████████████| 9/9 [00:05<00:00,  1.59it/s]\n",
      "100%|█████████████████████████████████████████████| 4/4 [00:02<00:00,  1.54it/s]\n"
     ]
    },
    {
     "name": "stdout",
     "output_type": "stream",
     "text": [
      "Epoch : 449 - Train_loss : 0.9684 - Train_Acc: 0.6107 - Val_loss : 0.2106 - Val_Acc: 0.4083  - Time: 8.252653121948242\n",
      "\n"
     ]
    },
    {
     "name": "stderr",
     "output_type": "stream",
     "text": [
      "100%|█████████████████████████████████████████████| 9/9 [00:05<00:00,  1.63it/s]\n",
      "100%|█████████████████████████████████████████████| 4/4 [00:02<00:00,  1.54it/s]\n"
     ]
    },
    {
     "name": "stdout",
     "output_type": "stream",
     "text": [
      "Epoch : 450 - Train_loss : 0.9640 - Train_Acc: 0.6321 - Val_loss : 0.2108 - Val_Acc: 0.4083  - Time: 8.123410940170288\n",
      "\n"
     ]
    },
    {
     "name": "stderr",
     "output_type": "stream",
     "text": [
      "100%|█████████████████████████████████████████████| 9/9 [00:05<00:00,  1.61it/s]\n",
      "100%|█████████████████████████████████████████████| 4/4 [00:02<00:00,  1.57it/s]\n"
     ]
    },
    {
     "name": "stdout",
     "output_type": "stream",
     "text": [
      "Epoch : 451 - Train_loss : 0.9619 - Train_Acc: 0.6107 - Val_loss : 0.2107 - Val_Acc: 0.4083  - Time: 8.147422790527344\n",
      "\n"
     ]
    },
    {
     "name": "stderr",
     "output_type": "stream",
     "text": [
      "100%|█████████████████████████████████████████████| 9/9 [00:06<00:00,  1.50it/s]\n",
      "100%|█████████████████████████████████████████████| 4/4 [00:02<00:00,  1.49it/s]\n"
     ]
    },
    {
     "name": "stdout",
     "output_type": "stream",
     "text": [
      "Epoch : 452 - Train_loss : 0.9649 - Train_Acc: 0.6143 - Val_loss : 0.2108 - Val_Acc: 0.4083  - Time: 8.698445081710815\n",
      "\n"
     ]
    },
    {
     "name": "stderr",
     "output_type": "stream",
     "text": [
      "100%|█████████████████████████████████████████████| 9/9 [00:05<00:00,  1.64it/s]\n",
      "100%|█████████████████████████████████████████████| 4/4 [00:02<00:00,  1.56it/s]\n"
     ]
    },
    {
     "name": "stdout",
     "output_type": "stream",
     "text": [
      "Epoch : 453 - Train_loss : 0.9564 - Train_Acc: 0.6179 - Val_loss : 0.2109 - Val_Acc: 0.4083  - Time: 8.063914775848389\n",
      "\n"
     ]
    },
    {
     "name": "stderr",
     "output_type": "stream",
     "text": [
      "100%|█████████████████████████████████████████████| 9/9 [00:05<00:00,  1.59it/s]\n",
      "100%|█████████████████████████████████████████████| 4/4 [00:02<00:00,  1.54it/s]\n"
     ]
    },
    {
     "name": "stdout",
     "output_type": "stream",
     "text": [
      "Epoch : 454 - Train_loss : 0.9714 - Train_Acc: 0.6286 - Val_loss : 0.2110 - Val_Acc: 0.4083  - Time: 8.268570184707642\n",
      "\n"
     ]
    },
    {
     "name": "stderr",
     "output_type": "stream",
     "text": [
      "100%|█████████████████████████████████████████████| 9/9 [00:05<00:00,  1.51it/s]\n",
      "100%|█████████████████████████████████████████████| 4/4 [00:02<00:00,  1.53it/s]\n"
     ]
    },
    {
     "name": "stdout",
     "output_type": "stream",
     "text": [
      "Epoch : 455 - Train_loss : 0.9673 - Train_Acc: 0.6071 - Val_loss : 0.2111 - Val_Acc: 0.4083  - Time: 8.572504758834839\n",
      "\n"
     ]
    },
    {
     "name": "stderr",
     "output_type": "stream",
     "text": [
      "100%|█████████████████████████████████████████████| 9/9 [00:05<00:00,  1.59it/s]\n",
      "100%|█████████████████████████████████████████████| 4/4 [00:02<00:00,  1.54it/s]\n"
     ]
    },
    {
     "name": "stdout",
     "output_type": "stream",
     "text": [
      "Epoch : 456 - Train_loss : 0.9570 - Train_Acc: 0.6357 - Val_loss : 0.2110 - Val_Acc: 0.4083  - Time: 8.244056463241577\n",
      "\n"
     ]
    },
    {
     "name": "stderr",
     "output_type": "stream",
     "text": [
      "100%|█████████████████████████████████████████████| 9/9 [00:05<00:00,  1.58it/s]\n",
      "100%|█████████████████████████████████████████████| 4/4 [00:02<00:00,  1.53it/s]\n"
     ]
    },
    {
     "name": "stdout",
     "output_type": "stream",
     "text": [
      "Epoch : 457 - Train_loss : 0.9671 - Train_Acc: 0.6250 - Val_loss : 0.2110 - Val_Acc: 0.4083  - Time: 8.32058835029602\n",
      "\n"
     ]
    },
    {
     "name": "stderr",
     "output_type": "stream",
     "text": [
      "100%|█████████████████████████████████████████████| 9/9 [00:05<00:00,  1.62it/s]\n",
      "100%|█████████████████████████████████████████████| 4/4 [00:02<00:00,  1.55it/s]\n"
     ]
    },
    {
     "name": "stdout",
     "output_type": "stream",
     "text": [
      "Epoch : 458 - Train_loss : 0.9774 - Train_Acc: 0.6071 - Val_loss : 0.2107 - Val_Acc: 0.4083  - Time: 8.151235342025757\n",
      "\n"
     ]
    },
    {
     "name": "stderr",
     "output_type": "stream",
     "text": [
      "100%|█████████████████████████████████████████████| 9/9 [00:05<00:00,  1.59it/s]\n",
      "100%|█████████████████████████████████████████████| 4/4 [00:02<00:00,  1.55it/s]\n"
     ]
    },
    {
     "name": "stdout",
     "output_type": "stream",
     "text": [
      "Epoch : 459 - Train_loss : 0.9638 - Train_Acc: 0.6071 - Val_loss : 0.2108 - Val_Acc: 0.4083  - Time: 8.235372543334961\n",
      "\n"
     ]
    },
    {
     "name": "stderr",
     "output_type": "stream",
     "text": [
      "100%|█████████████████████████████████████████████| 9/9 [00:05<00:00,  1.61it/s]\n",
      "100%|█████████████████████████████████████████████| 4/4 [00:02<00:00,  1.41it/s]\n"
     ]
    },
    {
     "name": "stdout",
     "output_type": "stream",
     "text": [
      "Epoch : 460 - Train_loss : 0.9697 - Train_Acc: 0.5857 - Val_loss : 0.2111 - Val_Acc: 0.4083  - Time: 8.440276622772217\n",
      "\n"
     ]
    },
    {
     "name": "stderr",
     "output_type": "stream",
     "text": [
      "100%|█████████████████████████████████████████████| 9/9 [00:05<00:00,  1.57it/s]\n",
      "100%|█████████████████████████████████████████████| 4/4 [00:02<00:00,  1.51it/s]\n"
     ]
    },
    {
     "name": "stdout",
     "output_type": "stream",
     "text": [
      "Epoch : 461 - Train_loss : 0.9634 - Train_Acc: 0.6000 - Val_loss : 0.2110 - Val_Acc: 0.4083  - Time: 8.380679845809937\n",
      "\n"
     ]
    },
    {
     "name": "stderr",
     "output_type": "stream",
     "text": [
      "100%|█████████████████████████████████████████████| 9/9 [00:05<00:00,  1.63it/s]\n",
      "100%|█████████████████████████████████████████████| 4/4 [00:02<00:00,  1.56it/s]\n"
     ]
    },
    {
     "name": "stdout",
     "output_type": "stream",
     "text": [
      "Epoch : 462 - Train_loss : 0.9488 - Train_Acc: 0.6321 - Val_loss : 0.2110 - Val_Acc: 0.4083  - Time: 8.097615957260132\n",
      "\n"
     ]
    },
    {
     "name": "stderr",
     "output_type": "stream",
     "text": [
      "100%|█████████████████████████████████████████████| 9/9 [00:05<00:00,  1.58it/s]\n",
      "100%|█████████████████████████████████████████████| 4/4 [00:02<00:00,  1.49it/s]\n"
     ]
    },
    {
     "name": "stdout",
     "output_type": "stream",
     "text": [
      "Epoch : 463 - Train_loss : 0.9604 - Train_Acc: 0.6393 - Val_loss : 0.2111 - Val_Acc: 0.4083  - Time: 8.392139911651611\n",
      "\n"
     ]
    },
    {
     "name": "stderr",
     "output_type": "stream",
     "text": [
      "100%|█████████████████████████████████████████████| 9/9 [00:05<00:00,  1.58it/s]\n",
      "100%|█████████████████████████████████████████████| 4/4 [00:02<00:00,  1.55it/s]\n"
     ]
    },
    {
     "name": "stdout",
     "output_type": "stream",
     "text": [
      "Epoch : 464 - Train_loss : 0.9606 - Train_Acc: 0.6036 - Val_loss : 0.2111 - Val_Acc: 0.4083  - Time: 8.276242971420288\n",
      "\n"
     ]
    },
    {
     "name": "stderr",
     "output_type": "stream",
     "text": [
      "100%|█████████████████████████████████████████████| 9/9 [00:05<00:00,  1.62it/s]\n",
      "100%|█████████████████████████████████████████████| 4/4 [00:02<00:00,  1.56it/s]\n"
     ]
    },
    {
     "name": "stdout",
     "output_type": "stream",
     "text": [
      "Epoch : 465 - Train_loss : 0.9934 - Train_Acc: 0.5964 - Val_loss : 0.2115 - Val_Acc: 0.4083  - Time: 8.130134582519531\n",
      "\n"
     ]
    },
    {
     "name": "stderr",
     "output_type": "stream",
     "text": [
      "100%|█████████████████████████████████████████████| 9/9 [00:05<00:00,  1.62it/s]\n",
      "100%|█████████████████████████████████████████████| 4/4 [00:02<00:00,  1.55it/s]\n"
     ]
    },
    {
     "name": "stdout",
     "output_type": "stream",
     "text": [
      "Epoch : 466 - Train_loss : 0.9749 - Train_Acc: 0.6357 - Val_loss : 0.2114 - Val_Acc: 0.4083  - Time: 8.136695623397827\n",
      "\n"
     ]
    },
    {
     "name": "stderr",
     "output_type": "stream",
     "text": [
      "100%|█████████████████████████████████████████████| 9/9 [00:05<00:00,  1.62it/s]\n",
      "100%|█████████████████████████████████████████████| 4/4 [00:02<00:00,  1.56it/s]\n"
     ]
    },
    {
     "name": "stdout",
     "output_type": "stream",
     "text": [
      "Epoch : 467 - Train_loss : 0.9504 - Train_Acc: 0.6179 - Val_loss : 0.2112 - Val_Acc: 0.4083  - Time: 8.108505725860596\n",
      "\n"
     ]
    },
    {
     "name": "stderr",
     "output_type": "stream",
     "text": [
      "100%|█████████████████████████████████████████████| 9/9 [00:05<00:00,  1.70it/s]\n",
      "100%|█████████████████████████████████████████████| 4/4 [00:02<00:00,  1.55it/s]\n"
     ]
    },
    {
     "name": "stdout",
     "output_type": "stream",
     "text": [
      "Epoch : 468 - Train_loss : 0.9539 - Train_Acc: 0.6143 - Val_loss : 0.2114 - Val_Acc: 0.4083  - Time: 7.891652822494507\n",
      "\n"
     ]
    },
    {
     "name": "stderr",
     "output_type": "stream",
     "text": [
      "100%|█████████████████████████████████████████████| 9/9 [00:05<00:00,  1.51it/s]\n",
      "100%|█████████████████████████████████████████████| 4/4 [00:02<00:00,  1.50it/s]\n"
     ]
    },
    {
     "name": "stdout",
     "output_type": "stream",
     "text": [
      "Epoch : 469 - Train_loss : 0.9609 - Train_Acc: 0.6250 - Val_loss : 0.2112 - Val_Acc: 0.4083  - Time: 8.610691785812378\n",
      "\n"
     ]
    },
    {
     "name": "stderr",
     "output_type": "stream",
     "text": [
      "100%|█████████████████████████████████████████████| 9/9 [00:05<00:00,  1.60it/s]\n",
      "100%|█████████████████████████████████████████████| 4/4 [00:02<00:00,  1.54it/s]\n"
     ]
    },
    {
     "name": "stdout",
     "output_type": "stream",
     "text": [
      "Epoch : 470 - Train_loss : 0.9495 - Train_Acc: 0.6286 - Val_loss : 0.2114 - Val_Acc: 0.4083  - Time: 8.24640703201294\n",
      "\n"
     ]
    },
    {
     "name": "stderr",
     "output_type": "stream",
     "text": [
      "100%|█████████████████████████████████████████████| 9/9 [00:05<00:00,  1.59it/s]\n",
      "100%|█████████████████████████████████████████████| 4/4 [00:02<00:00,  1.54it/s]\n"
     ]
    },
    {
     "name": "stdout",
     "output_type": "stream",
     "text": [
      "Epoch : 471 - Train_loss : 0.9658 - Train_Acc: 0.6143 - Val_loss : 0.2112 - Val_Acc: 0.4083  - Time: 8.255763530731201\n",
      "\n"
     ]
    },
    {
     "name": "stderr",
     "output_type": "stream",
     "text": [
      "100%|█████████████████████████████████████████████| 9/9 [00:05<00:00,  1.65it/s]\n",
      "100%|█████████████████████████████████████████████| 4/4 [00:02<00:00,  1.54it/s]\n"
     ]
    },
    {
     "name": "stdout",
     "output_type": "stream",
     "text": [
      "Epoch : 472 - Train_loss : 0.9642 - Train_Acc: 0.6036 - Val_loss : 0.2112 - Val_Acc: 0.4083  - Time: 8.055472135543823\n",
      "\n"
     ]
    },
    {
     "name": "stderr",
     "output_type": "stream",
     "text": [
      "100%|█████████████████████████████████████████████| 9/9 [00:05<00:00,  1.72it/s]\n",
      "100%|█████████████████████████████████████████████| 4/4 [00:02<00:00,  1.55it/s]\n"
     ]
    },
    {
     "name": "stdout",
     "output_type": "stream",
     "text": [
      "Epoch : 473 - Train_loss : 0.9727 - Train_Acc: 0.6143 - Val_loss : 0.2113 - Val_Acc: 0.4083  - Time: 7.832408666610718\n",
      "\n"
     ]
    },
    {
     "name": "stderr",
     "output_type": "stream",
     "text": [
      "100%|█████████████████████████████████████████████| 9/9 [00:05<00:00,  1.64it/s]\n",
      "100%|█████████████████████████████████████████████| 4/4 [00:02<00:00,  1.54it/s]\n"
     ]
    },
    {
     "name": "stdout",
     "output_type": "stream",
     "text": [
      "Epoch : 474 - Train_loss : 0.9356 - Train_Acc: 0.6429 - Val_loss : 0.2113 - Val_Acc: 0.4083  - Time: 8.073711633682251\n",
      "\n"
     ]
    },
    {
     "name": "stderr",
     "output_type": "stream",
     "text": [
      "100%|█████████████████████████████████████████████| 9/9 [00:05<00:00,  1.59it/s]\n",
      "100%|█████████████████████████████████████████████| 4/4 [00:02<00:00,  1.57it/s]\n"
     ]
    },
    {
     "name": "stdout",
     "output_type": "stream",
     "text": [
      "Epoch : 475 - Train_loss : 0.9640 - Train_Acc: 0.6179 - Val_loss : 0.2112 - Val_Acc: 0.4083  - Time: 8.21107029914856\n",
      "\n"
     ]
    },
    {
     "name": "stderr",
     "output_type": "stream",
     "text": [
      "100%|█████████████████████████████████████████████| 9/9 [00:05<00:00,  1.59it/s]\n",
      "100%|█████████████████████████████████████████████| 4/4 [00:02<00:00,  1.56it/s]\n"
     ]
    },
    {
     "name": "stdout",
     "output_type": "stream",
     "text": [
      "Epoch : 476 - Train_loss : 0.9486 - Train_Acc: 0.6250 - Val_loss : 0.2110 - Val_Acc: 0.4083  - Time: 8.21337080001831\n",
      "\n"
     ]
    },
    {
     "name": "stderr",
     "output_type": "stream",
     "text": [
      "100%|█████████████████████████████████████████████| 9/9 [00:05<00:00,  1.60it/s]\n",
      "100%|█████████████████████████████████████████████| 4/4 [00:02<00:00,  1.45it/s]\n"
     ]
    },
    {
     "name": "stdout",
     "output_type": "stream",
     "text": [
      "Epoch : 477 - Train_loss : 0.9492 - Train_Acc: 0.6286 - Val_loss : 0.2113 - Val_Acc: 0.4083  - Time: 8.383379697799683\n",
      "\n"
     ]
    },
    {
     "name": "stderr",
     "output_type": "stream",
     "text": [
      "100%|█████████████████████████████████████████████| 9/9 [00:06<00:00,  1.49it/s]\n",
      "100%|█████████████████████████████████████████████| 4/4 [00:02<00:00,  1.50it/s]\n"
     ]
    },
    {
     "name": "stdout",
     "output_type": "stream",
     "text": [
      "Epoch : 478 - Train_loss : 0.9561 - Train_Acc: 0.6179 - Val_loss : 0.2115 - Val_Acc: 0.4083  - Time: 8.692391395568848\n",
      "\n"
     ]
    },
    {
     "name": "stderr",
     "output_type": "stream",
     "text": [
      "100%|█████████████████████████████████████████████| 9/9 [00:05<00:00,  1.70it/s]\n",
      "100%|█████████████████████████████████████████████| 4/4 [00:02<00:00,  1.56it/s]\n"
     ]
    },
    {
     "name": "stdout",
     "output_type": "stream",
     "text": [
      "Epoch : 479 - Train_loss : 0.9616 - Train_Acc: 0.6321 - Val_loss : 0.2114 - Val_Acc: 0.4083  - Time: 7.849006175994873\n",
      "\n"
     ]
    },
    {
     "name": "stderr",
     "output_type": "stream",
     "text": [
      "100%|█████████████████████████████████████████████| 9/9 [00:05<00:00,  1.56it/s]\n",
      "100%|█████████████████████████████████████████████| 4/4 [00:02<00:00,  1.52it/s]\n"
     ]
    },
    {
     "name": "stdout",
     "output_type": "stream",
     "text": [
      "Epoch : 480 - Train_loss : 0.9551 - Train_Acc: 0.6464 - Val_loss : 0.2113 - Val_Acc: 0.4083  - Time: 8.3902587890625\n",
      "\n"
     ]
    },
    {
     "name": "stderr",
     "output_type": "stream",
     "text": [
      "100%|█████████████████████████████████████████████| 9/9 [00:05<00:00,  1.54it/s]\n",
      "100%|█████████████████████████████████████████████| 4/4 [00:02<00:00,  1.56it/s]\n"
     ]
    },
    {
     "name": "stdout",
     "output_type": "stream",
     "text": [
      "Epoch : 481 - Train_loss : 0.9478 - Train_Acc: 0.6250 - Val_loss : 0.2113 - Val_Acc: 0.4083  - Time: 8.416009187698364\n",
      "\n"
     ]
    },
    {
     "name": "stderr",
     "output_type": "stream",
     "text": [
      "100%|█████████████████████████████████████████████| 9/9 [00:05<00:00,  1.63it/s]\n",
      "100%|█████████████████████████████████████████████| 4/4 [00:02<00:00,  1.56it/s]\n"
     ]
    },
    {
     "name": "stdout",
     "output_type": "stream",
     "text": [
      "Epoch : 482 - Train_loss : 0.9711 - Train_Acc: 0.6250 - Val_loss : 0.2113 - Val_Acc: 0.4083  - Time: 8.086859464645386\n",
      "\n"
     ]
    },
    {
     "name": "stderr",
     "output_type": "stream",
     "text": [
      "100%|█████████████████████████████████████████████| 9/9 [00:05<00:00,  1.60it/s]\n",
      "100%|█████████████████████████████████████████████| 4/4 [00:02<00:00,  1.56it/s]\n"
     ]
    },
    {
     "name": "stdout",
     "output_type": "stream",
     "text": [
      "Epoch : 483 - Train_loss : 0.9557 - Train_Acc: 0.6321 - Val_loss : 0.2113 - Val_Acc: 0.4083  - Time: 8.20954442024231\n",
      "\n"
     ]
    },
    {
     "name": "stderr",
     "output_type": "stream",
     "text": [
      "100%|█████████████████████████████████████████████| 9/9 [00:05<00:00,  1.62it/s]\n",
      "100%|█████████████████████████████████████████████| 4/4 [00:02<00:00,  1.53it/s]\n"
     ]
    },
    {
     "name": "stdout",
     "output_type": "stream",
     "text": [
      "Epoch : 484 - Train_loss : 0.9405 - Train_Acc: 0.6143 - Val_loss : 0.2112 - Val_Acc: 0.4083  - Time: 8.168971300125122\n",
      "\n"
     ]
    },
    {
     "name": "stderr",
     "output_type": "stream",
     "text": [
      "100%|█████████████████████████████████████████████| 9/9 [00:05<00:00,  1.62it/s]\n",
      "100%|█████████████████████████████████████████████| 4/4 [00:02<00:00,  1.55it/s]\n"
     ]
    },
    {
     "name": "stdout",
     "output_type": "stream",
     "text": [
      "Epoch : 485 - Train_loss : 0.9671 - Train_Acc: 0.6250 - Val_loss : 0.2113 - Val_Acc: 0.4083  - Time: 8.132682085037231\n",
      "\n"
     ]
    },
    {
     "name": "stderr",
     "output_type": "stream",
     "text": [
      "100%|█████████████████████████████████████████████| 9/9 [00:05<00:00,  1.52it/s]\n",
      "100%|█████████████████████████████████████████████| 4/4 [00:02<00:00,  1.45it/s]\n"
     ]
    },
    {
     "name": "stdout",
     "output_type": "stream",
     "text": [
      "Epoch : 486 - Train_loss : 0.9442 - Train_Acc: 0.6107 - Val_loss : 0.2113 - Val_Acc: 0.4083  - Time: 8.688080072402954\n",
      "\n"
     ]
    },
    {
     "name": "stderr",
     "output_type": "stream",
     "text": [
      "100%|█████████████████████████████████████████████| 9/9 [00:05<00:00,  1.59it/s]\n",
      "100%|█████████████████████████████████████████████| 4/4 [00:02<00:00,  1.54it/s]\n"
     ]
    },
    {
     "name": "stdout",
     "output_type": "stream",
     "text": [
      "Epoch : 487 - Train_loss : 0.9621 - Train_Acc: 0.6071 - Val_loss : 0.2112 - Val_Acc: 0.4083  - Time: 8.26369309425354\n",
      "\n"
     ]
    },
    {
     "name": "stderr",
     "output_type": "stream",
     "text": [
      "100%|█████████████████████████████████████████████| 9/9 [00:05<00:00,  1.60it/s]\n",
      "100%|█████████████████████████████████████████████| 4/4 [00:02<00:00,  1.56it/s]\n"
     ]
    },
    {
     "name": "stdout",
     "output_type": "stream",
     "text": [
      "Epoch : 488 - Train_loss : 0.9653 - Train_Acc: 0.6143 - Val_loss : 0.2111 - Val_Acc: 0.4083  - Time: 8.202619075775146\n",
      "\n"
     ]
    },
    {
     "name": "stderr",
     "output_type": "stream",
     "text": [
      "100%|█████████████████████████████████████████████| 9/9 [00:05<00:00,  1.60it/s]\n",
      "100%|█████████████████████████████████████████████| 4/4 [00:02<00:00,  1.51it/s]\n"
     ]
    },
    {
     "name": "stdout",
     "output_type": "stream",
     "text": [
      "Epoch : 489 - Train_loss : 0.9801 - Train_Acc: 0.6036 - Val_loss : 0.2112 - Val_Acc: 0.4083  - Time: 8.2749924659729\n",
      "\n"
     ]
    },
    {
     "name": "stderr",
     "output_type": "stream",
     "text": [
      "100%|█████████████████████████████████████████████| 9/9 [00:05<00:00,  1.62it/s]\n",
      "100%|█████████████████████████████████████████████| 4/4 [00:02<00:00,  1.55it/s]\n"
     ]
    },
    {
     "name": "stdout",
     "output_type": "stream",
     "text": [
      "Epoch : 490 - Train_loss : 0.9460 - Train_Acc: 0.6464 - Val_loss : 0.2115 - Val_Acc: 0.4083  - Time: 8.143885850906372\n",
      "\n"
     ]
    },
    {
     "name": "stderr",
     "output_type": "stream",
     "text": [
      "100%|█████████████████████████████████████████████| 9/9 [00:05<00:00,  1.60it/s]\n",
      "100%|█████████████████████████████████████████████| 4/4 [00:02<00:00,  1.54it/s]\n"
     ]
    },
    {
     "name": "stdout",
     "output_type": "stream",
     "text": [
      "Epoch : 491 - Train_loss : 0.9665 - Train_Acc: 0.6143 - Val_loss : 0.2114 - Val_Acc: 0.4083  - Time: 8.227053165435791\n",
      "\n"
     ]
    },
    {
     "name": "stderr",
     "output_type": "stream",
     "text": [
      "100%|█████████████████████████████████████████████| 9/9 [00:05<00:00,  1.60it/s]\n",
      "100%|█████████████████████████████████████████████| 4/4 [00:02<00:00,  1.55it/s]\n"
     ]
    },
    {
     "name": "stdout",
     "output_type": "stream",
     "text": [
      "Epoch : 492 - Train_loss : 0.9509 - Train_Acc: 0.6250 - Val_loss : 0.2114 - Val_Acc: 0.4083  - Time: 8.20693564414978\n",
      "\n"
     ]
    },
    {
     "name": "stderr",
     "output_type": "stream",
     "text": [
      "100%|█████████████████████████████████████████████| 9/9 [00:05<00:00,  1.64it/s]\n",
      "100%|█████████████████████████████████████████████| 4/4 [00:02<00:00,  1.54it/s]\n"
     ]
    },
    {
     "name": "stdout",
     "output_type": "stream",
     "text": [
      "Epoch : 493 - Train_loss : 0.9503 - Train_Acc: 0.6250 - Val_loss : 0.2116 - Val_Acc: 0.4083  - Time: 8.079913139343262\n",
      "\n"
     ]
    },
    {
     "name": "stderr",
     "output_type": "stream",
     "text": [
      "100%|█████████████████████████████████████████████| 9/9 [00:05<00:00,  1.62it/s]\n",
      "100%|█████████████████████████████████████████████| 4/4 [00:02<00:00,  1.55it/s]\n"
     ]
    },
    {
     "name": "stdout",
     "output_type": "stream",
     "text": [
      "Epoch : 494 - Train_loss : 0.9380 - Train_Acc: 0.6286 - Val_loss : 0.2117 - Val_Acc: 0.4083  - Time: 8.14357042312622\n",
      "\n"
     ]
    },
    {
     "name": "stderr",
     "output_type": "stream",
     "text": [
      "100%|█████████████████████████████████████████████| 9/9 [00:05<00:00,  1.52it/s]\n",
      "100%|█████████████████████████████████████████████| 4/4 [00:02<00:00,  1.50it/s]\n"
     ]
    },
    {
     "name": "stdout",
     "output_type": "stream",
     "text": [
      "Epoch : 495 - Train_loss : 0.9554 - Train_Acc: 0.6143 - Val_loss : 0.2116 - Val_Acc: 0.4083  - Time: 8.604932069778442\n",
      "\n"
     ]
    },
    {
     "name": "stderr",
     "output_type": "stream",
     "text": [
      "100%|█████████████████████████████████████████████| 9/9 [00:05<00:00,  1.60it/s]\n",
      "100%|█████████████████████████████████████████████| 4/4 [00:02<00:00,  1.53it/s]\n"
     ]
    },
    {
     "name": "stdout",
     "output_type": "stream",
     "text": [
      "Epoch : 496 - Train_loss : 0.9497 - Train_Acc: 0.6107 - Val_loss : 0.2117 - Val_Acc: 0.4083  - Time: 8.231487274169922\n",
      "\n"
     ]
    },
    {
     "name": "stderr",
     "output_type": "stream",
     "text": [
      "100%|█████████████████████████████████████████████| 9/9 [00:05<00:00,  1.61it/s]\n",
      "100%|█████████████████████████████████████████████| 4/4 [00:02<00:00,  1.53it/s]\n"
     ]
    },
    {
     "name": "stdout",
     "output_type": "stream",
     "text": [
      "Epoch : 497 - Train_loss : 0.9496 - Train_Acc: 0.6250 - Val_loss : 0.2117 - Val_Acc: 0.4083  - Time: 8.225918769836426\n",
      "\n"
     ]
    },
    {
     "name": "stderr",
     "output_type": "stream",
     "text": [
      "100%|█████████████████████████████████████████████| 9/9 [00:05<00:00,  1.52it/s]\n",
      "100%|█████████████████████████████████████████████| 4/4 [00:02<00:00,  1.54it/s]\n"
     ]
    },
    {
     "name": "stdout",
     "output_type": "stream",
     "text": [
      "Epoch : 498 - Train_loss : 0.9414 - Train_Acc: 0.6357 - Val_loss : 0.2116 - Val_Acc: 0.4083  - Time: 8.519229412078857\n",
      "\n"
     ]
    },
    {
     "name": "stderr",
     "output_type": "stream",
     "text": [
      "100%|█████████████████████████████████████████████| 9/9 [00:05<00:00,  1.60it/s]\n",
      "100%|█████████████████████████████████████████████| 4/4 [00:02<00:00,  1.54it/s]\n"
     ]
    },
    {
     "name": "stdout",
     "output_type": "stream",
     "text": [
      "Epoch : 499 - Train_loss : 0.9520 - Train_Acc: 0.6179 - Val_loss : 0.2116 - Val_Acc: 0.4083  - Time: 8.23508071899414\n",
      "\n"
     ]
    },
    {
     "name": "stderr",
     "output_type": "stream",
     "text": [
      "100%|█████████████████████████████████████████████| 9/9 [00:05<00:00,  1.57it/s]\n",
      "100%|█████████████████████████████████████████████| 4/4 [00:02<00:00,  1.54it/s]"
     ]
    },
    {
     "name": "stdout",
     "output_type": "stream",
     "text": [
      "Epoch : 500 - Train_loss : 0.9455 - Train_Acc: 0.6179 - Val_loss : 0.2119 - Val_Acc: 0.4083  - Time: 8.322201490402222\n",
      "\n",
      "Finished Training\n"
     ]
    },
    {
     "name": "stderr",
     "output_type": "stream",
     "text": [
      "\n"
     ]
    }
   ],
   "source": [
    "best_acc = 0.0\n",
    "train_accuracy=[]\n",
    "train_loss=[]\n",
    "val_accuracy=[]\n",
    "val_loss=[]\n",
    "for epoch in range(500):  # loop over the dataset multiple times\n",
    "    t0 = time.time()\n",
    "    \n",
    "    running_corrects = 0\n",
    "    running_loss = 0.0\n",
    "\n",
    "    for data in tqdm(trainloader, 0):\n",
    "        inputs, labels = data[0].to(device), data[1].to(device)\n",
    "        #print(labels)\n",
    "        optimizer.zero_grad()\n",
    "        outputs = backbone_new(inputs)\n",
    "        #print(f' out :{outputs.shape} and label :{labels.shape} and img :{inputs.shape}')\n",
    "        s_out= F.softmax(outputs)\n",
    "        _, preds = torch.max(outputs, 1)\n",
    "        with torch.cuda.amp.autocast():\n",
    "            loss = criterion(outputs, labels)\n",
    "        scaler.scale(loss).backward()\n",
    "        scaler.step(optimizer)\n",
    "        scaler.update()\n",
    "        running_loss += loss.item() * inputs.size(0)\n",
    "        running_corrects += torch.sum(preds == labels.data).cpu()    \n",
    "    epoch_loss = running_loss / len(train_dataset)\n",
    "    epoch_acc = running_corrects / len(train_dataset)\n",
    "    train_accuracy.append(epoch_acc)\n",
    "    train_loss.append(epoch_loss)\n",
    "    writer.add_scalar(\"Loss/train\", epoch_loss, epoch+1)\n",
    "    writer.add_scalar(\"Acc/train\", epoch_acc, epoch+1)    \n",
    "    running_test_loss=0\n",
    "    running_test_correct=0\n",
    "\n",
    "\n",
    "    for data in tqdm(testloader):\n",
    "        images, labels = data[0].to(device), data[1].to(device)\n",
    "        with torch.no_grad():\n",
    "            outputs = backbone_new(images)\n",
    "            s_out= F.softmax(outputs)\n",
    "        _, predicted = torch.max(outputs.data, 1)\n",
    "        test_loss= criterion(outputs,labels)\n",
    "        running_test_loss=test_loss.item()*images.size(0)\n",
    "        running_test_correct+= torch.sum(predicted == labels.data).cpu()\n",
    "       \n",
    "    epoch_val_loss = running_test_loss / len(val_dataset)\n",
    "    epoch_val_acc = running_test_correct.double() / len(val_dataset)\n",
    "    val_accuracy.append(epoch_val_acc)\n",
    "    val_loss.append(epoch_val_loss)\n",
    "    writer.add_scalar(\"Loss/Val\", epoch_val_loss, epoch+1)\n",
    "    writer.add_scalar(\"Acc/Val\", epoch_val_acc, epoch+1)\n",
    "    print(f\"Epoch : {epoch+1} - Train_loss : {epoch_loss:.4f} - Train_Acc: {epoch_acc:.4f} - Val_loss : {epoch_val_loss:.4f} - Val_Acc: {epoch_val_acc:.4f}  - Time: {time.time() - t0}\\n\")\n",
    "    if epoch_val_acc > best_acc:\n",
    "        best_acc = epoch_val_acc\n",
    "        best_model_wts = copy.deepcopy(backbone_new.state_dict())\n",
    "        \n",
    "#torch.save(best_model_wts, PATH)\n",
    "print('Finished Training')\n"
   ]
  },
  {
   "cell_type": "code",
   "execution_count": null,
   "id": "6a5649a7",
   "metadata": {},
   "outputs": [],
   "source": [
    "from matplotlib import pyplot as plt\n",
    "import numpy as np\n",
    "epochs_range = range(500)#the x-axis of both the plots wil have the epoch ranges mentioned during each training specification.\n",
    "\n",
    "# To plot validation accuracy versus each training epoch\n",
    "plt.figure(figsize=(15, 8))\n",
    "plt.subplot(1, 2, 1)\n",
    "plt.plot(epochs_range, train_accuracy, label='Training Accuracy')\n",
    "plt.plot(epochs_range, np.array(val_accuracy), label='Validation Accuracy')\n",
    "plt.ylabel('Accuracy')\n",
    "plt.xlabel('No of Epochs')\n",
    "plt.legend(loc='lower right')\n",
    "plt.title('Training Accuracy')\n",
    "\n",
    "plt.subplot(1, 2, 2)\n",
    "plt.plot(epochs_range, np.array(train_loss), label='Training Loss')\n",
    "plt.plot(epochs_range, np.array(val_loss), label='Validation Loss')\n",
    "plt.ylabel('Loss')\n",
    "plt.xlabel('No of Epochs')\n",
    "plt.legend(loc='lower right')\n",
    "plt.title('Validation Loss')"
   ]
  },
  {
   "cell_type": "code",
   "execution_count": null,
   "id": "0f101a3f",
   "metadata": {},
   "outputs": [],
   "source": [
    "\n"
   ]
  },
  {
   "cell_type": "code",
   "execution_count": null,
   "id": "23a1b73b",
   "metadata": {},
   "outputs": [],
   "source": []
  }
 ],
 "metadata": {
  "kernelspec": {
   "display_name": "Python 3 (ipykernel)",
   "language": "python",
   "name": "python3"
  },
  "language_info": {
   "codemirror_mode": {
    "name": "ipython",
    "version": 3
   },
   "file_extension": ".py",
   "mimetype": "text/x-python",
   "name": "python",
   "nbconvert_exporter": "python",
   "pygments_lexer": "ipython3",
   "version": "3.8.10"
  }
 },
 "nbformat": 4,
 "nbformat_minor": 5
}
