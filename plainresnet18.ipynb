{
 "cells": [
  {
   "cell_type": "code",
   "execution_count": 1,
   "id": "b2bf4ec5",
   "metadata": {},
   "outputs": [
    {
     "name": "stderr",
     "output_type": "stream",
     "text": [
      "2023-03-31 10:22:15.915389: I tensorflow/core/platform/cpu_feature_guard.cc:193] This TensorFlow binary is optimized with oneAPI Deep Neural Network Library (oneDNN) to use the following CPU instructions in performance-critical operations:  AVX2 FMA\n",
      "To enable them in other operations, rebuild TensorFlow with the appropriate compiler flags.\n",
      "2023-03-31 10:22:17.408950: W tensorflow/compiler/xla/stream_executor/platform/default/dso_loader.cc:64] Could not load dynamic library 'libnvinfer.so.7'; dlerror: libnvinfer.so.7: cannot open shared object file: No such file or directory\n",
      "2023-03-31 10:22:17.409179: W tensorflow/compiler/xla/stream_executor/platform/default/dso_loader.cc:64] Could not load dynamic library 'libnvinfer_plugin.so.7'; dlerror: libnvinfer_plugin.so.7: cannot open shared object file: No such file or directory\n",
      "2023-03-31 10:22:17.409188: W tensorflow/compiler/tf2tensorrt/utils/py_utils.cc:38] TF-TRT Warning: Cannot dlopen some TensorRT libraries. If you would like to use Nvidia GPU with TensorRT, please make sure the missing libraries mentioned above are installed properly.\n"
     ]
    }
   ],
   "source": [
    "import os\n",
    "import torch\n",
    "import torch.nn as nn\n",
    "import pytorch_lightning as pl\n",
    "import torchvision\n",
    "import torchvision.transforms as transforms\n",
    "from torch.utils.data import DataLoader\n",
    "from bachfile import BachDataset\n",
    "import torch.optim as optim\n",
    "import time\n",
    "from tqdm import tqdm\n",
    "import torch.nn as nn\n",
    "import torch.nn.functional as F\n",
    "from torch.utils.tensorboard import SummaryWriter\n",
    "writer = SummaryWriter()\n",
    "import copy"
   ]
  },
  {
   "cell_type": "code",
   "execution_count": 2,
   "id": "2caa7d80",
   "metadata": {},
   "outputs": [],
   "source": [
    "transform = transforms.Compose([transforms.ToTensor(),transforms.Resize([512, 384])])\n",
    "\n",
    "batch_size = 32\n",
    "\n",
    "train_dataset = BachDataset(path='/home/ardhendu/Desktop/bach_dataset_classification/data-train.csv',transforms=transform )\n",
    "val_dataset = BachDataset(path='/home/ardhendu/Desktop/bach_dataset_classification/data-test.csv' ,transforms=transform)\n",
    "\n",
    "trainloader = DataLoader(train_dataset, batch_size=batch_size, shuffle=True, num_workers=4, pin_memory=False)\n",
    "testloader = DataLoader(val_dataset, batch_size=batch_size, shuffle=False, num_workers=4, pin_memory=False)\n",
    "\n",
    "\n",
    "device = torch.device(\"cuda:1\" if torch.cuda.is_available() else \"cpu\")"
   ]
  },
  {
   "cell_type": "code",
   "execution_count": 3,
   "id": "2d1708a0",
   "metadata": {},
   "outputs": [],
   "source": [
    "resnet18_new = torchvision.models.resnet18()"
   ]
  },
  {
   "cell_type": "code",
   "execution_count": 4,
   "id": "5c8ae49a",
   "metadata": {},
   "outputs": [],
   "source": [
    "resnet18_new.fc = nn.Linear(in_features=512, out_features=4, bias=True)"
   ]
  },
  {
   "cell_type": "code",
   "execution_count": 5,
   "id": "79321f52",
   "metadata": {},
   "outputs": [],
   "source": [
    "resnet18_new.to(device)\n",
    "# print(model)\n",
    "# exit()\n",
    "criterion = nn.CrossEntropyLoss()\n",
    "scaler = torch.cuda.amp.GradScaler()\n",
    "\n",
    "optimizer = optim.AdamW(resnet18_new.parameters(), lr=3e-4, betas=(0.9, 0.999), eps=1e-08, weight_decay=0.01, amsgrad=False)"
   ]
  },
  {
   "cell_type": "code",
   "execution_count": 6,
   "id": "a1192c3b",
   "metadata": {},
   "outputs": [
    {
     "name": "stderr",
     "output_type": "stream",
     "text": [
      "  0%|                                                     | 0/9 [00:00<?, ?it/s]/tmp/ipykernel_59156/1489879702.py:17: UserWarning: Implicit dimension choice for softmax has been deprecated. Change the call to include dim=X as an argument.\n",
      "  s_out= F.softmax(outputs)\n",
      "100%|█████████████████████████████████████████████| 9/9 [00:07<00:00,  1.21it/s]\n",
      "  0%|                                                     | 0/4 [00:00<?, ?it/s]/tmp/ipykernel_59156/1489879702.py:40: UserWarning: Implicit dimension choice for softmax has been deprecated. Change the call to include dim=X as an argument.\n",
      "  s_out= F.softmax(outputs)\n",
      "100%|█████████████████████████████████████████████| 4/4 [00:03<00:00,  1.18it/s]\n"
     ]
    },
    {
     "name": "stdout",
     "output_type": "stream",
     "text": [
      "Epoch : 1 - Train_loss : 1.2694 - Train_Acc: 0.4571 - Val_loss : 0.2548 - Val_Acc: 0.4750  - Time: 10.849181413650513\n",
      "\n"
     ]
    },
    {
     "name": "stderr",
     "output_type": "stream",
     "text": [
      "100%|█████████████████████████████████████████████| 9/9 [00:08<00:00,  1.11it/s]\n",
      "100%|█████████████████████████████████████████████| 4/4 [00:03<00:00,  1.21it/s]\n"
     ]
    },
    {
     "name": "stdout",
     "output_type": "stream",
     "text": [
      "Epoch : 2 - Train_loss : 1.2066 - Train_Acc: 0.5214 - Val_loss : 0.1805 - Val_Acc: 0.5083  - Time: 11.444860458374023\n",
      "\n"
     ]
    },
    {
     "name": "stderr",
     "output_type": "stream",
     "text": [
      "100%|█████████████████████████████████████████████| 9/9 [00:07<00:00,  1.23it/s]\n",
      "100%|█████████████████████████████████████████████| 4/4 [00:03<00:00,  1.14it/s]\n"
     ]
    },
    {
     "name": "stdout",
     "output_type": "stream",
     "text": [
      "Epoch : 3 - Train_loss : 1.0428 - Train_Acc: 0.5679 - Val_loss : 0.1751 - Val_Acc: 0.5333  - Time: 10.811650037765503\n",
      "\n"
     ]
    },
    {
     "name": "stderr",
     "output_type": "stream",
     "text": [
      "100%|█████████████████████████████████████████████| 9/9 [00:07<00:00,  1.16it/s]\n",
      "100%|█████████████████████████████████████████████| 4/4 [00:03<00:00,  1.10it/s]\n"
     ]
    },
    {
     "name": "stdout",
     "output_type": "stream",
     "text": [
      "Epoch : 4 - Train_loss : 0.8864 - Train_Acc: 0.5964 - Val_loss : 0.2617 - Val_Acc: 0.4417  - Time: 11.379042863845825\n",
      "\n"
     ]
    },
    {
     "name": "stderr",
     "output_type": "stream",
     "text": [
      "100%|█████████████████████████████████████████████| 9/9 [00:07<00:00,  1.27it/s]\n",
      "100%|█████████████████████████████████████████████| 4/4 [00:03<00:00,  1.16it/s]\n"
     ]
    },
    {
     "name": "stdout",
     "output_type": "stream",
     "text": [
      "Epoch : 5 - Train_loss : 0.8065 - Train_Acc: 0.6321 - Val_loss : 0.1612 - Val_Acc: 0.6167  - Time: 10.53862476348877\n",
      "\n"
     ]
    },
    {
     "name": "stderr",
     "output_type": "stream",
     "text": [
      "100%|█████████████████████████████████████████████| 9/9 [00:07<00:00,  1.27it/s]\n",
      "100%|█████████████████████████████████████████████| 4/4 [00:03<00:00,  1.12it/s]\n"
     ]
    },
    {
     "name": "stdout",
     "output_type": "stream",
     "text": [
      "Epoch : 6 - Train_loss : 0.7753 - Train_Acc: 0.6643 - Val_loss : 0.2006 - Val_Acc: 0.6000  - Time: 10.661105632781982\n",
      "\n"
     ]
    },
    {
     "name": "stderr",
     "output_type": "stream",
     "text": [
      "100%|█████████████████████████████████████████████| 9/9 [00:06<00:00,  1.31it/s]\n",
      "100%|█████████████████████████████████████████████| 4/4 [00:03<00:00,  1.19it/s]\n"
     ]
    },
    {
     "name": "stdout",
     "output_type": "stream",
     "text": [
      "Epoch : 7 - Train_loss : 0.6525 - Train_Acc: 0.7357 - Val_loss : 0.1607 - Val_Acc: 0.6333  - Time: 10.234379768371582\n",
      "\n"
     ]
    },
    {
     "name": "stderr",
     "output_type": "stream",
     "text": [
      "100%|█████████████████████████████████████████████| 9/9 [00:07<00:00,  1.28it/s]\n",
      "100%|█████████████████████████████████████████████| 4/4 [00:03<00:00,  1.19it/s]\n"
     ]
    },
    {
     "name": "stdout",
     "output_type": "stream",
     "text": [
      "Epoch : 8 - Train_loss : 0.5732 - Train_Acc: 0.8000 - Val_loss : 0.2250 - Val_Acc: 0.5917  - Time: 10.369553089141846\n",
      "\n"
     ]
    },
    {
     "name": "stderr",
     "output_type": "stream",
     "text": [
      "100%|█████████████████████████████████████████████| 9/9 [00:07<00:00,  1.25it/s]\n",
      "100%|█████████████████████████████████████████████| 4/4 [00:03<00:00,  1.26it/s]\n"
     ]
    },
    {
     "name": "stdout",
     "output_type": "stream",
     "text": [
      "Epoch : 9 - Train_loss : 0.3338 - Train_Acc: 0.9036 - Val_loss : 0.1783 - Val_Acc: 0.6333  - Time: 10.36586332321167\n",
      "\n"
     ]
    },
    {
     "name": "stderr",
     "output_type": "stream",
     "text": [
      "100%|█████████████████████████████████████████████| 9/9 [00:07<00:00,  1.23it/s]\n",
      "100%|█████████████████████████████████████████████| 4/4 [00:03<00:00,  1.31it/s]\n"
     ]
    },
    {
     "name": "stdout",
     "output_type": "stream",
     "text": [
      "Epoch : 10 - Train_loss : 0.2739 - Train_Acc: 0.9036 - Val_loss : 0.2522 - Val_Acc: 0.6333  - Time: 10.40151858329773\n",
      "\n"
     ]
    },
    {
     "name": "stderr",
     "output_type": "stream",
     "text": [
      "100%|█████████████████████████████████████████████| 9/9 [00:08<00:00,  1.12it/s]\n",
      "100%|█████████████████████████████████████████████| 4/4 [00:03<00:00,  1.25it/s]\n"
     ]
    },
    {
     "name": "stdout",
     "output_type": "stream",
     "text": [
      "Epoch : 11 - Train_loss : 0.1403 - Train_Acc: 0.9643 - Val_loss : 0.1445 - Val_Acc: 0.6417  - Time: 11.275585174560547\n",
      "\n"
     ]
    },
    {
     "name": "stderr",
     "output_type": "stream",
     "text": [
      "100%|█████████████████████████████████████████████| 9/9 [00:07<00:00,  1.20it/s]\n",
      "100%|█████████████████████████████████████████████| 4/4 [00:03<00:00,  1.22it/s]\n"
     ]
    },
    {
     "name": "stdout",
     "output_type": "stream",
     "text": [
      "Epoch : 12 - Train_loss : 0.0969 - Train_Acc: 0.9750 - Val_loss : 0.2221 - Val_Acc: 0.5917  - Time: 10.763572692871094\n",
      "\n"
     ]
    },
    {
     "name": "stderr",
     "output_type": "stream",
     "text": [
      "100%|█████████████████████████████████████████████| 9/9 [00:07<00:00,  1.24it/s]\n",
      "100%|█████████████████████████████████████████████| 4/4 [00:03<00:00,  1.15it/s]\n"
     ]
    },
    {
     "name": "stdout",
     "output_type": "stream",
     "text": [
      "Epoch : 13 - Train_loss : 0.0644 - Train_Acc: 0.9964 - Val_loss : 0.1780 - Val_Acc: 0.6167  - Time: 10.710972547531128\n",
      "\n"
     ]
    },
    {
     "name": "stderr",
     "output_type": "stream",
     "text": [
      "100%|█████████████████████████████████████████████| 9/9 [00:07<00:00,  1.17it/s]\n",
      "100%|█████████████████████████████████████████████| 4/4 [00:03<00:00,  1.21it/s]\n"
     ]
    },
    {
     "name": "stdout",
     "output_type": "stream",
     "text": [
      "Epoch : 14 - Train_loss : 0.0396 - Train_Acc: 0.9964 - Val_loss : 0.1641 - Val_Acc: 0.6167  - Time: 10.979885816574097\n",
      "\n"
     ]
    },
    {
     "name": "stderr",
     "output_type": "stream",
     "text": [
      "100%|█████████████████████████████████████████████| 9/9 [00:07<00:00,  1.26it/s]\n",
      "100%|█████████████████████████████████████████████| 4/4 [00:03<00:00,  1.15it/s]\n"
     ]
    },
    {
     "name": "stdout",
     "output_type": "stream",
     "text": [
      "Epoch : 15 - Train_loss : 0.0238 - Train_Acc: 0.9964 - Val_loss : 0.2162 - Val_Acc: 0.6667  - Time: 10.663017988204956\n",
      "\n"
     ]
    },
    {
     "name": "stderr",
     "output_type": "stream",
     "text": [
      "100%|█████████████████████████████████████████████| 9/9 [00:06<00:00,  1.30it/s]\n",
      "100%|█████████████████████████████████████████████| 4/4 [00:03<00:00,  1.11it/s]\n"
     ]
    },
    {
     "name": "stdout",
     "output_type": "stream",
     "text": [
      "Epoch : 16 - Train_loss : 0.0239 - Train_Acc: 0.9929 - Val_loss : 0.2577 - Val_Acc: 0.5583  - Time: 10.51433539390564\n",
      "\n"
     ]
    },
    {
     "name": "stderr",
     "output_type": "stream",
     "text": [
      "100%|█████████████████████████████████████████████| 9/9 [00:07<00:00,  1.27it/s]\n",
      "100%|█████████████████████████████████████████████| 4/4 [00:03<00:00,  1.14it/s]\n"
     ]
    },
    {
     "name": "stdout",
     "output_type": "stream",
     "text": [
      "Epoch : 17 - Train_loss : 0.0532 - Train_Acc: 0.9821 - Val_loss : 0.3127 - Val_Acc: 0.6000  - Time: 10.60016393661499\n",
      "\n"
     ]
    },
    {
     "name": "stderr",
     "output_type": "stream",
     "text": [
      "100%|█████████████████████████████████████████████| 9/9 [00:07<00:00,  1.26it/s]\n",
      "100%|█████████████████████████████████████████████| 4/4 [00:03<00:00,  1.02it/s]\n"
     ]
    },
    {
     "name": "stdout",
     "output_type": "stream",
     "text": [
      "Epoch : 18 - Train_loss : 0.0529 - Train_Acc: 0.9786 - Val_loss : 0.1926 - Val_Acc: 0.5833  - Time: 11.072414875030518\n",
      "\n"
     ]
    },
    {
     "name": "stderr",
     "output_type": "stream",
     "text": [
      "100%|█████████████████████████████████████████████| 9/9 [00:07<00:00,  1.23it/s]\n",
      "100%|█████████████████████████████████████████████| 4/4 [00:03<00:00,  1.22it/s]\n"
     ]
    },
    {
     "name": "stdout",
     "output_type": "stream",
     "text": [
      "Epoch : 19 - Train_loss : 0.0523 - Train_Acc: 0.9857 - Val_loss : 0.1924 - Val_Acc: 0.6000  - Time: 10.56301498413086\n",
      "\n"
     ]
    },
    {
     "name": "stderr",
     "output_type": "stream",
     "text": [
      "100%|█████████████████████████████████████████████| 9/9 [00:07<00:00,  1.26it/s]\n",
      "100%|█████████████████████████████████████████████| 4/4 [00:03<00:00,  1.24it/s]\n"
     ]
    },
    {
     "name": "stdout",
     "output_type": "stream",
     "text": [
      "Epoch : 20 - Train_loss : 0.0494 - Train_Acc: 0.9893 - Val_loss : 0.2518 - Val_Acc: 0.5417  - Time: 10.377053022384644\n",
      "\n"
     ]
    },
    {
     "name": "stderr",
     "output_type": "stream",
     "text": [
      "100%|█████████████████████████████████████████████| 9/9 [00:07<00:00,  1.16it/s]\n",
      "100%|█████████████████████████████████████████████| 4/4 [00:03<00:00,  1.31it/s]\n"
     ]
    },
    {
     "name": "stdout",
     "output_type": "stream",
     "text": [
      "Epoch : 21 - Train_loss : 0.0647 - Train_Acc: 0.9857 - Val_loss : 0.2093 - Val_Acc: 0.6167  - Time: 10.797858238220215\n",
      "\n"
     ]
    },
    {
     "name": "stderr",
     "output_type": "stream",
     "text": [
      "100%|█████████████████████████████████████████████| 9/9 [00:07<00:00,  1.26it/s]\n",
      "100%|█████████████████████████████████████████████| 4/4 [00:03<00:00,  1.31it/s]\n"
     ]
    },
    {
     "name": "stdout",
     "output_type": "stream",
     "text": [
      "Epoch : 22 - Train_loss : 0.0362 - Train_Acc: 0.9893 - Val_loss : 0.1591 - Val_Acc: 0.6250  - Time: 10.208599328994751\n",
      "\n"
     ]
    },
    {
     "name": "stderr",
     "output_type": "stream",
     "text": [
      "100%|█████████████████████████████████████████████| 9/9 [00:07<00:00,  1.24it/s]\n",
      "100%|█████████████████████████████████████████████| 4/4 [00:03<00:00,  1.26it/s]\n"
     ]
    },
    {
     "name": "stdout",
     "output_type": "stream",
     "text": [
      "Epoch : 23 - Train_loss : 0.0527 - Train_Acc: 0.9857 - Val_loss : 0.2427 - Val_Acc: 0.5583  - Time: 10.468994140625\n",
      "\n"
     ]
    },
    {
     "name": "stderr",
     "output_type": "stream",
     "text": [
      "100%|█████████████████████████████████████████████| 9/9 [00:07<00:00,  1.28it/s]\n",
      "100%|█████████████████████████████████████████████| 4/4 [00:03<00:00,  1.31it/s]\n"
     ]
    },
    {
     "name": "stdout",
     "output_type": "stream",
     "text": [
      "Epoch : 24 - Train_loss : 0.0256 - Train_Acc: 0.9929 - Val_loss : 0.2252 - Val_Acc: 0.5750  - Time: 10.089634895324707\n",
      "\n"
     ]
    },
    {
     "name": "stderr",
     "output_type": "stream",
     "text": [
      "100%|█████████████████████████████████████████████| 9/9 [00:07<00:00,  1.24it/s]\n",
      "100%|█████████████████████████████████████████████| 4/4 [00:03<00:00,  1.18it/s]\n"
     ]
    },
    {
     "name": "stdout",
     "output_type": "stream",
     "text": [
      "Epoch : 25 - Train_loss : 0.0155 - Train_Acc: 0.9964 - Val_loss : 0.3046 - Val_Acc: 0.5333  - Time: 10.630696296691895\n",
      "\n"
     ]
    },
    {
     "name": "stderr",
     "output_type": "stream",
     "text": [
      "100%|█████████████████████████████████████████████| 9/9 [00:07<00:00,  1.13it/s]\n",
      "100%|█████████████████████████████████████████████| 4/4 [00:03<00:00,  1.20it/s]\n"
     ]
    },
    {
     "name": "stdout",
     "output_type": "stream",
     "text": [
      "Epoch : 26 - Train_loss : 0.0220 - Train_Acc: 0.9964 - Val_loss : 0.2768 - Val_Acc: 0.5250  - Time: 11.281835556030273\n",
      "\n"
     ]
    },
    {
     "name": "stderr",
     "output_type": "stream",
     "text": [
      "100%|█████████████████████████████████████████████| 9/9 [00:07<00:00,  1.25it/s]\n",
      "100%|█████████████████████████████████████████████| 4/4 [00:03<00:00,  1.19it/s]\n"
     ]
    },
    {
     "name": "stdout",
     "output_type": "stream",
     "text": [
      "Epoch : 27 - Train_loss : 0.0246 - Train_Acc: 0.9964 - Val_loss : 0.2702 - Val_Acc: 0.5667  - Time: 10.591574430465698\n",
      "\n"
     ]
    },
    {
     "name": "stderr",
     "output_type": "stream",
     "text": [
      "100%|█████████████████████████████████████████████| 9/9 [00:07<00:00,  1.24it/s]\n",
      "100%|█████████████████████████████████████████████| 4/4 [00:03<00:00,  1.14it/s]\n"
     ]
    },
    {
     "name": "stdout",
     "output_type": "stream",
     "text": [
      "Epoch : 28 - Train_loss : 0.0160 - Train_Acc: 0.9929 - Val_loss : 0.3009 - Val_Acc: 0.5333  - Time: 10.74545669555664\n",
      "\n"
     ]
    },
    {
     "name": "stderr",
     "output_type": "stream",
     "text": [
      "100%|█████████████████████████████████████████████| 9/9 [00:07<00:00,  1.24it/s]\n",
      "100%|█████████████████████████████████████████████| 4/4 [00:03<00:00,  1.12it/s]\n"
     ]
    },
    {
     "name": "stdout",
     "output_type": "stream",
     "text": [
      "Epoch : 29 - Train_loss : 0.0081 - Train_Acc: 1.0000 - Val_loss : 0.3154 - Val_Acc: 0.5083  - Time: 10.820528507232666\n",
      "\n"
     ]
    },
    {
     "name": "stderr",
     "output_type": "stream",
     "text": [
      "100%|█████████████████████████████████████████████| 9/9 [00:07<00:00,  1.22it/s]\n",
      "100%|█████████████████████████████████████████████| 4/4 [00:03<00:00,  1.12it/s]\n"
     ]
    },
    {
     "name": "stdout",
     "output_type": "stream",
     "text": [
      "Epoch : 30 - Train_loss : 0.0097 - Train_Acc: 1.0000 - Val_loss : 0.2943 - Val_Acc: 0.5000  - Time: 10.934463739395142\n",
      "\n"
     ]
    },
    {
     "name": "stderr",
     "output_type": "stream",
     "text": [
      "100%|█████████████████████████████████████████████| 9/9 [00:06<00:00,  1.29it/s]\n",
      "100%|█████████████████████████████████████████████| 4/4 [00:03<00:00,  1.14it/s]\n"
     ]
    },
    {
     "name": "stdout",
     "output_type": "stream",
     "text": [
      "Epoch : 31 - Train_loss : 0.0086 - Train_Acc: 1.0000 - Val_loss : 0.2730 - Val_Acc: 0.5417  - Time: 10.476046085357666\n",
      "\n"
     ]
    },
    {
     "name": "stderr",
     "output_type": "stream",
     "text": [
      "100%|█████████████████████████████████████████████| 9/9 [00:07<00:00,  1.26it/s]\n",
      "100%|█████████████████████████████████████████████| 4/4 [00:03<00:00,  1.15it/s]\n"
     ]
    },
    {
     "name": "stdout",
     "output_type": "stream",
     "text": [
      "Epoch : 32 - Train_loss : 0.0038 - Train_Acc: 1.0000 - Val_loss : 0.2656 - Val_Acc: 0.5833  - Time: 10.619902610778809\n",
      "\n"
     ]
    },
    {
     "name": "stderr",
     "output_type": "stream",
     "text": [
      "100%|█████████████████████████████████████████████| 9/9 [00:07<00:00,  1.15it/s]\n",
      "100%|█████████████████████████████████████████████| 4/4 [00:03<00:00,  1.20it/s]\n"
     ]
    },
    {
     "name": "stdout",
     "output_type": "stream",
     "text": [
      "Epoch : 33 - Train_loss : 0.0038 - Train_Acc: 1.0000 - Val_loss : 0.2787 - Val_Acc: 0.5583  - Time: 11.164748907089233\n",
      "\n"
     ]
    },
    {
     "name": "stderr",
     "output_type": "stream",
     "text": [
      "100%|█████████████████████████████████████████████| 9/9 [00:07<00:00,  1.21it/s]\n",
      "100%|█████████████████████████████████████████████| 4/4 [00:03<00:00,  1.27it/s]\n"
     ]
    },
    {
     "name": "stdout",
     "output_type": "stream",
     "text": [
      "Epoch : 34 - Train_loss : 0.0014 - Train_Acc: 1.0000 - Val_loss : 0.2858 - Val_Acc: 0.5667  - Time: 10.6168053150177\n",
      "\n"
     ]
    },
    {
     "name": "stderr",
     "output_type": "stream",
     "text": [
      "100%|█████████████████████████████████████████████| 9/9 [00:07<00:00,  1.24it/s]\n",
      "100%|█████████████████████████████████████████████| 4/4 [00:03<00:00,  1.20it/s]\n"
     ]
    },
    {
     "name": "stdout",
     "output_type": "stream",
     "text": [
      "Epoch : 35 - Train_loss : 0.0016 - Train_Acc: 1.0000 - Val_loss : 0.2845 - Val_Acc: 0.5667  - Time: 10.573518753051758\n",
      "\n"
     ]
    },
    {
     "name": "stderr",
     "output_type": "stream",
     "text": [
      "100%|█████████████████████████████████████████████| 9/9 [00:07<00:00,  1.24it/s]\n",
      "100%|█████████████████████████████████████████████| 4/4 [00:03<00:00,  1.26it/s]\n"
     ]
    },
    {
     "name": "stdout",
     "output_type": "stream",
     "text": [
      "Epoch : 36 - Train_loss : 0.0023 - Train_Acc: 1.0000 - Val_loss : 0.2851 - Val_Acc: 0.5750  - Time: 10.46542239189148\n",
      "\n"
     ]
    },
    {
     "name": "stderr",
     "output_type": "stream",
     "text": [
      "100%|█████████████████████████████████████████████| 9/9 [00:07<00:00,  1.23it/s]\n",
      "100%|█████████████████████████████████████████████| 4/4 [00:03<00:00,  1.25it/s]\n"
     ]
    },
    {
     "name": "stdout",
     "output_type": "stream",
     "text": [
      "Epoch : 37 - Train_loss : 0.0012 - Train_Acc: 1.0000 - Val_loss : 0.2864 - Val_Acc: 0.5667  - Time: 10.504711151123047\n",
      "\n"
     ]
    },
    {
     "name": "stderr",
     "output_type": "stream",
     "text": [
      "100%|█████████████████████████████████████████████| 9/9 [00:07<00:00,  1.27it/s]\n",
      "100%|█████████████████████████████████████████████| 4/4 [00:03<00:00,  1.21it/s]\n"
     ]
    },
    {
     "name": "stdout",
     "output_type": "stream",
     "text": [
      "Epoch : 38 - Train_loss : 0.0015 - Train_Acc: 1.0000 - Val_loss : 0.2821 - Val_Acc: 0.5500  - Time: 10.39590048789978\n",
      "\n"
     ]
    },
    {
     "name": "stderr",
     "output_type": "stream",
     "text": [
      "100%|█████████████████████████████████████████████| 9/9 [00:07<00:00,  1.25it/s]\n",
      "100%|█████████████████████████████████████████████| 4/4 [00:03<00:00,  1.22it/s]\n"
     ]
    },
    {
     "name": "stdout",
     "output_type": "stream",
     "text": [
      "Epoch : 39 - Train_loss : 0.0015 - Train_Acc: 1.0000 - Val_loss : 0.2810 - Val_Acc: 0.5417  - Time: 10.481876134872437\n",
      "\n"
     ]
    },
    {
     "name": "stderr",
     "output_type": "stream",
     "text": [
      "100%|█████████████████████████████████████████████| 9/9 [00:07<00:00,  1.20it/s]\n",
      "100%|█████████████████████████████████████████████| 4/4 [00:03<00:00,  1.03it/s]\n"
     ]
    },
    {
     "name": "stdout",
     "output_type": "stream",
     "text": [
      "Epoch : 40 - Train_loss : 0.0009 - Train_Acc: 1.0000 - Val_loss : 0.2780 - Val_Acc: 0.5333  - Time: 11.406757354736328\n",
      "\n"
     ]
    },
    {
     "name": "stderr",
     "output_type": "stream",
     "text": [
      "100%|█████████████████████████████████████████████| 9/9 [00:07<00:00,  1.22it/s]\n",
      "100%|█████████████████████████████████████████████| 4/4 [00:03<00:00,  1.18it/s]\n"
     ]
    },
    {
     "name": "stdout",
     "output_type": "stream",
     "text": [
      "Epoch : 41 - Train_loss : 0.0011 - Train_Acc: 1.0000 - Val_loss : 0.2767 - Val_Acc: 0.5333  - Time: 10.755346059799194\n",
      "\n"
     ]
    },
    {
     "name": "stderr",
     "output_type": "stream",
     "text": [
      "100%|█████████████████████████████████████████████| 9/9 [00:07<00:00,  1.24it/s]\n",
      "100%|█████████████████████████████████████████████| 4/4 [00:03<00:00,  1.07it/s]\n"
     ]
    },
    {
     "name": "stdout",
     "output_type": "stream",
     "text": [
      "Epoch : 42 - Train_loss : 0.0009 - Train_Acc: 1.0000 - Val_loss : 0.2746 - Val_Acc: 0.5333  - Time: 11.0278160572052\n",
      "\n"
     ]
    },
    {
     "name": "stderr",
     "output_type": "stream",
     "text": [
      "100%|█████████████████████████████████████████████| 9/9 [00:07<00:00,  1.24it/s]\n",
      "100%|█████████████████████████████████████████████| 4/4 [00:03<00:00,  1.16it/s]\n"
     ]
    },
    {
     "name": "stdout",
     "output_type": "stream",
     "text": [
      "Epoch : 43 - Train_loss : 0.0006 - Train_Acc: 1.0000 - Val_loss : 0.2756 - Val_Acc: 0.5333  - Time: 10.710701942443848\n",
      "\n"
     ]
    },
    {
     "name": "stderr",
     "output_type": "stream",
     "text": [
      "100%|█████████████████████████████████████████████| 9/9 [00:06<00:00,  1.32it/s]\n",
      "100%|█████████████████████████████████████████████| 4/4 [00:03<00:00,  1.16it/s]\n"
     ]
    },
    {
     "name": "stdout",
     "output_type": "stream",
     "text": [
      "Epoch : 44 - Train_loss : 0.0005 - Train_Acc: 1.0000 - Val_loss : 0.2758 - Val_Acc: 0.5333  - Time: 10.280345678329468\n",
      "\n"
     ]
    },
    {
     "name": "stderr",
     "output_type": "stream",
     "text": [
      "100%|█████████████████████████████████████████████| 9/9 [00:06<00:00,  1.30it/s]\n",
      "100%|█████████████████████████████████████████████| 4/4 [00:03<00:00,  1.15it/s]\n"
     ]
    },
    {
     "name": "stdout",
     "output_type": "stream",
     "text": [
      "Epoch : 45 - Train_loss : 0.0009 - Train_Acc: 1.0000 - Val_loss : 0.2754 - Val_Acc: 0.5333  - Time: 10.417745590209961\n",
      "\n"
     ]
    },
    {
     "name": "stderr",
     "output_type": "stream",
     "text": [
      "100%|█████████████████████████████████████████████| 9/9 [00:07<00:00,  1.28it/s]\n",
      "100%|█████████████████████████████████████████████| 4/4 [00:03<00:00,  1.20it/s]\n"
     ]
    },
    {
     "name": "stdout",
     "output_type": "stream",
     "text": [
      "Epoch : 46 - Train_loss : 0.0004 - Train_Acc: 1.0000 - Val_loss : 0.2748 - Val_Acc: 0.5333  - Time: 10.39321517944336\n",
      "\n"
     ]
    },
    {
     "name": "stderr",
     "output_type": "stream",
     "text": [
      "100%|█████████████████████████████████████████████| 9/9 [00:07<00:00,  1.26it/s]\n",
      "100%|█████████████████████████████████████████████| 4/4 [00:03<00:00,  1.12it/s]\n"
     ]
    },
    {
     "name": "stdout",
     "output_type": "stream",
     "text": [
      "Epoch : 47 - Train_loss : 0.0006 - Train_Acc: 1.0000 - Val_loss : 0.2755 - Val_Acc: 0.5333  - Time: 10.716777801513672\n",
      "\n"
     ]
    },
    {
     "name": "stderr",
     "output_type": "stream",
     "text": [
      "100%|█████████████████████████████████████████████| 9/9 [00:07<00:00,  1.20it/s]\n",
      "100%|█████████████████████████████████████████████| 4/4 [00:03<00:00,  1.32it/s]\n"
     ]
    },
    {
     "name": "stdout",
     "output_type": "stream",
     "text": [
      "Epoch : 48 - Train_loss : 0.0008 - Train_Acc: 1.0000 - Val_loss : 0.2723 - Val_Acc: 0.5500  - Time: 10.551010847091675\n",
      "\n"
     ]
    },
    {
     "name": "stderr",
     "output_type": "stream",
     "text": [
      "100%|█████████████████████████████████████████████| 9/9 [00:07<00:00,  1.23it/s]\n",
      "100%|█████████████████████████████████████████████| 4/4 [00:03<00:00,  1.30it/s]\n"
     ]
    },
    {
     "name": "stdout",
     "output_type": "stream",
     "text": [
      "Epoch : 49 - Train_loss : 0.0004 - Train_Acc: 1.0000 - Val_loss : 0.2707 - Val_Acc: 0.5500  - Time: 10.362268924713135\n",
      "\n"
     ]
    },
    {
     "name": "stderr",
     "output_type": "stream",
     "text": [
      "100%|█████████████████████████████████████████████| 9/9 [00:07<00:00,  1.16it/s]\n",
      "100%|█████████████████████████████████████████████| 4/4 [00:03<00:00,  1.23it/s]\n"
     ]
    },
    {
     "name": "stdout",
     "output_type": "stream",
     "text": [
      "Epoch : 50 - Train_loss : 0.0011 - Train_Acc: 1.0000 - Val_loss : 0.2716 - Val_Acc: 0.5583  - Time: 11.047779560089111\n",
      "\n"
     ]
    },
    {
     "name": "stderr",
     "output_type": "stream",
     "text": [
      "100%|█████████████████████████████████████████████| 9/9 [00:07<00:00,  1.23it/s]\n",
      "100%|█████████████████████████████████████████████| 4/4 [00:03<00:00,  1.20it/s]\n"
     ]
    },
    {
     "name": "stdout",
     "output_type": "stream",
     "text": [
      "Epoch : 51 - Train_loss : 0.0005 - Train_Acc: 1.0000 - Val_loss : 0.2733 - Val_Acc: 0.5500  - Time: 10.679195642471313\n",
      "\n"
     ]
    },
    {
     "name": "stderr",
     "output_type": "stream",
     "text": [
      "100%|█████████████████████████████████████████████| 9/9 [00:07<00:00,  1.23it/s]\n",
      "100%|█████████████████████████████████████████████| 4/4 [00:03<00:00,  1.21it/s]\n"
     ]
    },
    {
     "name": "stdout",
     "output_type": "stream",
     "text": [
      "Epoch : 52 - Train_loss : 0.0004 - Train_Acc: 1.0000 - Val_loss : 0.2762 - Val_Acc: 0.5583  - Time: 10.650269985198975\n",
      "\n"
     ]
    },
    {
     "name": "stderr",
     "output_type": "stream",
     "text": [
      "100%|█████████████████████████████████████████████| 9/9 [00:07<00:00,  1.28it/s]\n",
      "100%|█████████████████████████████████████████████| 4/4 [00:03<00:00,  1.19it/s]\n"
     ]
    },
    {
     "name": "stdout",
     "output_type": "stream",
     "text": [
      "Epoch : 53 - Train_loss : 0.0002 - Train_Acc: 1.0000 - Val_loss : 0.2769 - Val_Acc: 0.5667  - Time: 10.376086711883545\n",
      "\n"
     ]
    },
    {
     "name": "stderr",
     "output_type": "stream",
     "text": [
      "100%|█████████████████████████████████████████████| 9/9 [00:06<00:00,  1.29it/s]\n",
      "100%|█████████████████████████████████████████████| 4/4 [00:03<00:00,  1.14it/s]\n"
     ]
    },
    {
     "name": "stdout",
     "output_type": "stream",
     "text": [
      "Epoch : 54 - Train_loss : 0.0007 - Train_Acc: 1.0000 - Val_loss : 0.2743 - Val_Acc: 0.5667  - Time: 10.480296850204468\n",
      "\n"
     ]
    },
    {
     "name": "stderr",
     "output_type": "stream",
     "text": [
      "100%|█████████████████████████████████████████████| 9/9 [00:07<00:00,  1.17it/s]\n",
      "100%|█████████████████████████████████████████████| 4/4 [00:03<00:00,  1.08it/s]\n"
     ]
    },
    {
     "name": "stdout",
     "output_type": "stream",
     "text": [
      "Epoch : 55 - Train_loss : 0.0004 - Train_Acc: 1.0000 - Val_loss : 0.2711 - Val_Acc: 0.5500  - Time: 11.370468378067017\n",
      "\n"
     ]
    },
    {
     "name": "stderr",
     "output_type": "stream",
     "text": [
      "100%|█████████████████████████████████████████████| 9/9 [00:06<00:00,  1.29it/s]\n",
      "100%|█████████████████████████████████████████████| 4/4 [00:03<00:00,  1.16it/s]\n"
     ]
    },
    {
     "name": "stdout",
     "output_type": "stream",
     "text": [
      "Epoch : 56 - Train_loss : 0.0003 - Train_Acc: 1.0000 - Val_loss : 0.2703 - Val_Acc: 0.5500  - Time: 10.454705238342285\n",
      "\n"
     ]
    },
    {
     "name": "stderr",
     "output_type": "stream",
     "text": [
      "100%|█████████████████████████████████████████████| 9/9 [00:07<00:00,  1.25it/s]\n",
      "100%|█████████████████████████████████████████████| 4/4 [00:03<00:00,  1.09it/s]\n"
     ]
    },
    {
     "name": "stdout",
     "output_type": "stream",
     "text": [
      "Epoch : 57 - Train_loss : 0.0004 - Train_Acc: 1.0000 - Val_loss : 0.2728 - Val_Acc: 0.5583  - Time: 10.89846158027649\n",
      "\n"
     ]
    },
    {
     "name": "stderr",
     "output_type": "stream",
     "text": [
      "100%|█████████████████████████████████████████████| 9/9 [00:07<00:00,  1.28it/s]\n",
      "100%|█████████████████████████████████████████████| 4/4 [00:03<00:00,  1.20it/s]\n"
     ]
    },
    {
     "name": "stdout",
     "output_type": "stream",
     "text": [
      "Epoch : 58 - Train_loss : 0.0003 - Train_Acc: 1.0000 - Val_loss : 0.2731 - Val_Acc: 0.5583  - Time: 10.37493109703064\n",
      "\n"
     ]
    },
    {
     "name": "stderr",
     "output_type": "stream",
     "text": [
      "100%|█████████████████████████████████████████████| 9/9 [00:07<00:00,  1.26it/s]\n",
      "100%|█████████████████████████████████████████████| 4/4 [00:03<00:00,  1.21it/s]\n"
     ]
    },
    {
     "name": "stdout",
     "output_type": "stream",
     "text": [
      "Epoch : 59 - Train_loss : 0.0002 - Train_Acc: 1.0000 - Val_loss : 0.2736 - Val_Acc: 0.5583  - Time: 10.419292211532593\n",
      "\n"
     ]
    },
    {
     "name": "stderr",
     "output_type": "stream",
     "text": [
      "100%|█████████████████████████████████████████████| 9/9 [00:07<00:00,  1.25it/s]\n",
      "100%|█████████████████████████████████████████████| 4/4 [00:03<00:00,  1.29it/s]\n"
     ]
    },
    {
     "name": "stdout",
     "output_type": "stream",
     "text": [
      "Epoch : 60 - Train_loss : 0.0003 - Train_Acc: 1.0000 - Val_loss : 0.2737 - Val_Acc: 0.5583  - Time: 10.305886507034302\n",
      "\n"
     ]
    },
    {
     "name": "stderr",
     "output_type": "stream",
     "text": [
      "100%|█████████████████████████████████████████████| 9/9 [00:07<00:00,  1.23it/s]\n",
      "100%|█████████████████████████████████████████████| 4/4 [00:03<00:00,  1.29it/s]\n"
     ]
    },
    {
     "name": "stdout",
     "output_type": "stream",
     "text": [
      "Epoch : 61 - Train_loss : 0.0006 - Train_Acc: 1.0000 - Val_loss : 0.2719 - Val_Acc: 0.5583  - Time: 10.44740915298462\n",
      "\n"
     ]
    },
    {
     "name": "stderr",
     "output_type": "stream",
     "text": [
      "100%|█████████████████████████████████████████████| 9/9 [00:07<00:00,  1.14it/s]\n",
      "100%|█████████████████████████████████████████████| 4/4 [00:03<00:00,  1.23it/s]\n"
     ]
    },
    {
     "name": "stdout",
     "output_type": "stream",
     "text": [
      "Epoch : 62 - Train_loss : 0.0003 - Train_Acc: 1.0000 - Val_loss : 0.2705 - Val_Acc: 0.5750  - Time: 11.173560857772827\n",
      "\n"
     ]
    },
    {
     "name": "stderr",
     "output_type": "stream",
     "text": [
      "100%|█████████████████████████████████████████████| 9/9 [00:07<00:00,  1.22it/s]\n",
      "100%|█████████████████████████████████████████████| 4/4 [00:03<00:00,  1.17it/s]\n"
     ]
    },
    {
     "name": "stdout",
     "output_type": "stream",
     "text": [
      "Epoch : 63 - Train_loss : 0.0003 - Train_Acc: 1.0000 - Val_loss : 0.2696 - Val_Acc: 0.5750  - Time: 10.79302716255188\n",
      "\n"
     ]
    },
    {
     "name": "stderr",
     "output_type": "stream",
     "text": [
      "100%|█████████████████████████████████████████████| 9/9 [00:07<00:00,  1.26it/s]\n",
      "100%|█████████████████████████████████████████████| 4/4 [00:03<00:00,  1.16it/s]\n"
     ]
    },
    {
     "name": "stdout",
     "output_type": "stream",
     "text": [
      "Epoch : 64 - Train_loss : 0.0004 - Train_Acc: 1.0000 - Val_loss : 0.2712 - Val_Acc: 0.5750  - Time: 10.58625316619873\n",
      "\n"
     ]
    },
    {
     "name": "stderr",
     "output_type": "stream",
     "text": [
      "100%|█████████████████████████████████████████████| 9/9 [00:07<00:00,  1.20it/s]\n",
      "100%|█████████████████████████████████████████████| 4/4 [00:03<00:00,  1.20it/s]\n"
     ]
    },
    {
     "name": "stdout",
     "output_type": "stream",
     "text": [
      "Epoch : 65 - Train_loss : 0.0002 - Train_Acc: 1.0000 - Val_loss : 0.2714 - Val_Acc: 0.5750  - Time: 10.856100797653198\n",
      "\n"
     ]
    },
    {
     "name": "stderr",
     "output_type": "stream",
     "text": [
      "100%|█████████████████████████████████████████████| 9/9 [00:07<00:00,  1.26it/s]\n",
      "100%|█████████████████████████████████████████████| 4/4 [00:03<00:00,  1.18it/s]\n"
     ]
    },
    {
     "name": "stdout",
     "output_type": "stream",
     "text": [
      "Epoch : 66 - Train_loss : 0.0003 - Train_Acc: 1.0000 - Val_loss : 0.2721 - Val_Acc: 0.5833  - Time: 10.52627444267273\n",
      "\n"
     ]
    },
    {
     "name": "stderr",
     "output_type": "stream",
     "text": [
      "100%|█████████████████████████████████████████████| 9/9 [00:06<00:00,  1.30it/s]\n",
      "100%|█████████████████████████████████████████████| 4/4 [00:03<00:00,  1.12it/s]\n"
     ]
    },
    {
     "name": "stdout",
     "output_type": "stream",
     "text": [
      "Epoch : 67 - Train_loss : 0.0002 - Train_Acc: 1.0000 - Val_loss : 0.2737 - Val_Acc: 0.5833  - Time: 10.493573904037476\n",
      "\n"
     ]
    },
    {
     "name": "stderr",
     "output_type": "stream",
     "text": [
      "100%|█████████████████████████████████████████████| 9/9 [00:07<00:00,  1.25it/s]\n",
      "100%|█████████████████████████████████████████████| 4/4 [00:03<00:00,  1.17it/s]\n"
     ]
    },
    {
     "name": "stdout",
     "output_type": "stream",
     "text": [
      "Epoch : 68 - Train_loss : 0.0002 - Train_Acc: 1.0000 - Val_loss : 0.2736 - Val_Acc: 0.5750  - Time: 10.599117040634155\n",
      "\n"
     ]
    },
    {
     "name": "stderr",
     "output_type": "stream",
     "text": [
      "100%|█████████████████████████████████████████████| 9/9 [00:07<00:00,  1.24it/s]\n",
      "100%|█████████████████████████████████████████████| 4/4 [00:03<00:00,  1.01it/s]\n"
     ]
    },
    {
     "name": "stdout",
     "output_type": "stream",
     "text": [
      "Epoch : 69 - Train_loss : 0.0003 - Train_Acc: 1.0000 - Val_loss : 0.2731 - Val_Acc: 0.5750  - Time: 11.241199970245361\n",
      "\n"
     ]
    },
    {
     "name": "stderr",
     "output_type": "stream",
     "text": [
      "100%|█████████████████████████████████████████████| 9/9 [00:07<00:00,  1.22it/s]\n",
      "100%|█████████████████████████████████████████████| 4/4 [00:03<00:00,  1.19it/s]\n"
     ]
    },
    {
     "name": "stdout",
     "output_type": "stream",
     "text": [
      "Epoch : 70 - Train_loss : 0.0002 - Train_Acc: 1.0000 - Val_loss : 0.2733 - Val_Acc: 0.5750  - Time: 10.745882272720337\n",
      "\n"
     ]
    },
    {
     "name": "stderr",
     "output_type": "stream",
     "text": [
      "100%|█████████████████████████████████████████████| 9/9 [00:07<00:00,  1.24it/s]\n",
      "100%|█████████████████████████████████████████████| 4/4 [00:03<00:00,  1.28it/s]\n"
     ]
    },
    {
     "name": "stdout",
     "output_type": "stream",
     "text": [
      "Epoch : 71 - Train_loss : 0.0004 - Train_Acc: 1.0000 - Val_loss : 0.2731 - Val_Acc: 0.5750  - Time: 10.41067910194397\n",
      "\n"
     ]
    },
    {
     "name": "stderr",
     "output_type": "stream",
     "text": [
      "100%|█████████████████████████████████████████████| 9/9 [00:07<00:00,  1.19it/s]\n",
      "100%|█████████████████████████████████████████████| 4/4 [00:03<00:00,  1.26it/s]\n"
     ]
    },
    {
     "name": "stdout",
     "output_type": "stream",
     "text": [
      "Epoch : 72 - Train_loss : 0.0004 - Train_Acc: 1.0000 - Val_loss : 0.2802 - Val_Acc: 0.5667  - Time: 10.713414669036865\n",
      "\n"
     ]
    },
    {
     "name": "stderr",
     "output_type": "stream",
     "text": [
      "100%|█████████████████████████████████████████████| 9/9 [00:07<00:00,  1.24it/s]\n",
      "100%|█████████████████████████████████████████████| 4/4 [00:03<00:00,  1.32it/s]\n"
     ]
    },
    {
     "name": "stdout",
     "output_type": "stream",
     "text": [
      "Epoch : 73 - Train_loss : 0.0003 - Train_Acc: 1.0000 - Val_loss : 0.2869 - Val_Acc: 0.5750  - Time: 10.316460847854614\n",
      "\n"
     ]
    },
    {
     "name": "stderr",
     "output_type": "stream",
     "text": [
      "100%|█████████████████████████████████████████████| 9/9 [00:07<00:00,  1.26it/s]\n",
      "100%|█████████████████████████████████████████████| 4/4 [00:03<00:00,  1.27it/s]\n"
     ]
    },
    {
     "name": "stdout",
     "output_type": "stream",
     "text": [
      "Epoch : 74 - Train_loss : 0.0002 - Train_Acc: 1.0000 - Val_loss : 0.2897 - Val_Acc: 0.5833  - Time: 10.333728551864624\n",
      "\n"
     ]
    },
    {
     "name": "stderr",
     "output_type": "stream",
     "text": [
      "100%|█████████████████████████████████████████████| 9/9 [00:07<00:00,  1.27it/s]\n",
      "100%|█████████████████████████████████████████████| 4/4 [00:03<00:00,  1.29it/s]\n"
     ]
    },
    {
     "name": "stdout",
     "output_type": "stream",
     "text": [
      "Epoch : 75 - Train_loss : 0.0002 - Train_Acc: 1.0000 - Val_loss : 0.2896 - Val_Acc: 0.5833  - Time: 10.189893245697021\n",
      "\n"
     ]
    },
    {
     "name": "stderr",
     "output_type": "stream",
     "text": [
      "100%|█████████████████████████████████████████████| 9/9 [00:07<00:00,  1.24it/s]\n",
      "100%|█████████████████████████████████████████████| 4/4 [00:03<00:00,  1.16it/s]\n"
     ]
    },
    {
     "name": "stdout",
     "output_type": "stream",
     "text": [
      "Epoch : 76 - Train_loss : 0.0001 - Train_Acc: 1.0000 - Val_loss : 0.2889 - Val_Acc: 0.5750  - Time: 10.723029851913452\n",
      "\n"
     ]
    },
    {
     "name": "stderr",
     "output_type": "stream",
     "text": [
      "100%|█████████████████████████████████████████████| 9/9 [00:08<00:00,  1.11it/s]\n",
      "100%|█████████████████████████████████████████████| 4/4 [00:03<00:00,  1.20it/s]\n"
     ]
    },
    {
     "name": "stdout",
     "output_type": "stream",
     "text": [
      "Epoch : 77 - Train_loss : 0.0003 - Train_Acc: 1.0000 - Val_loss : 0.2886 - Val_Acc: 0.5750  - Time: 11.424612522125244\n",
      "\n"
     ]
    },
    {
     "name": "stderr",
     "output_type": "stream",
     "text": [
      "100%|█████████████████████████████████████████████| 9/9 [00:07<00:00,  1.23it/s]\n",
      "100%|█████████████████████████████████████████████| 4/4 [00:03<00:00,  1.24it/s]\n"
     ]
    },
    {
     "name": "stdout",
     "output_type": "stream",
     "text": [
      "Epoch : 78 - Train_loss : 0.0004 - Train_Acc: 1.0000 - Val_loss : 0.2868 - Val_Acc: 0.5750  - Time: 10.507320404052734\n",
      "\n"
     ]
    },
    {
     "name": "stderr",
     "output_type": "stream",
     "text": [
      "100%|█████████████████████████████████████████████| 9/9 [00:07<00:00,  1.22it/s]\n",
      "100%|█████████████████████████████████████████████| 4/4 [00:03<00:00,  1.12it/s]\n"
     ]
    },
    {
     "name": "stdout",
     "output_type": "stream",
     "text": [
      "Epoch : 79 - Train_loss : 0.0002 - Train_Acc: 1.0000 - Val_loss : 0.2856 - Val_Acc: 0.5750  - Time: 10.936158418655396\n",
      "\n"
     ]
    },
    {
     "name": "stderr",
     "output_type": "stream",
     "text": [
      "100%|█████████████████████████████████████████████| 9/9 [00:07<00:00,  1.25it/s]\n",
      "100%|█████████████████████████████████████████████| 4/4 [00:03<00:00,  1.15it/s]\n"
     ]
    },
    {
     "name": "stdout",
     "output_type": "stream",
     "text": [
      "Epoch : 80 - Train_loss : 0.0003 - Train_Acc: 1.0000 - Val_loss : 0.2816 - Val_Acc: 0.5750  - Time: 10.703868627548218\n",
      "\n"
     ]
    },
    {
     "name": "stderr",
     "output_type": "stream",
     "text": [
      "100%|█████████████████████████████████████████████| 9/9 [00:07<00:00,  1.26it/s]\n",
      "100%|█████████████████████████████████████████████| 4/4 [00:03<00:00,  1.17it/s]\n"
     ]
    },
    {
     "name": "stdout",
     "output_type": "stream",
     "text": [
      "Epoch : 81 - Train_loss : 0.0005 - Train_Acc: 1.0000 - Val_loss : 0.2737 - Val_Acc: 0.5667  - Time: 10.582552909851074\n",
      "\n"
     ]
    },
    {
     "name": "stderr",
     "output_type": "stream",
     "text": [
      "100%|█████████████████████████████████████████████| 9/9 [00:07<00:00,  1.27it/s]\n",
      "100%|█████████████████████████████████████████████| 4/4 [00:03<00:00,  1.18it/s]\n"
     ]
    },
    {
     "name": "stdout",
     "output_type": "stream",
     "text": [
      "Epoch : 82 - Train_loss : 0.0002 - Train_Acc: 1.0000 - Val_loss : 0.2685 - Val_Acc: 0.5583  - Time: 10.467652082443237\n",
      "\n"
     ]
    },
    {
     "name": "stderr",
     "output_type": "stream",
     "text": [
      "100%|█████████████████████████████████████████████| 9/9 [00:06<00:00,  1.29it/s]\n",
      "100%|█████████████████████████████████████████████| 4/4 [00:03<00:00,  1.17it/s]\n"
     ]
    },
    {
     "name": "stdout",
     "output_type": "stream",
     "text": [
      "Epoch : 83 - Train_loss : 0.0002 - Train_Acc: 1.0000 - Val_loss : 0.2684 - Val_Acc: 0.5583  - Time: 10.417162418365479\n",
      "\n"
     ]
    },
    {
     "name": "stderr",
     "output_type": "stream",
     "text": [
      "100%|█████████████████████████████████████████████| 9/9 [00:07<00:00,  1.15it/s]\n",
      "100%|█████████████████████████████████████████████| 4/4 [00:03<00:00,  1.23it/s]\n"
     ]
    },
    {
     "name": "stdout",
     "output_type": "stream",
     "text": [
      "Epoch : 84 - Train_loss : 0.0003 - Train_Acc: 1.0000 - Val_loss : 0.2689 - Val_Acc: 0.5583  - Time: 11.070108413696289\n",
      "\n"
     ]
    },
    {
     "name": "stderr",
     "output_type": "stream",
     "text": [
      "100%|█████████████████████████████████████████████| 9/9 [00:07<00:00,  1.18it/s]\n",
      "100%|█████████████████████████████████████████████| 4/4 [00:03<00:00,  1.33it/s]\n"
     ]
    },
    {
     "name": "stdout",
     "output_type": "stream",
     "text": [
      "Epoch : 85 - Train_loss : 0.0002 - Train_Acc: 1.0000 - Val_loss : 0.2686 - Val_Acc: 0.5667  - Time: 10.617638349533081\n",
      "\n"
     ]
    },
    {
     "name": "stderr",
     "output_type": "stream",
     "text": [
      "100%|█████████████████████████████████████████████| 9/9 [00:07<00:00,  1.23it/s]\n",
      "100%|█████████████████████████████████████████████| 4/4 [00:03<00:00,  1.25it/s]\n"
     ]
    },
    {
     "name": "stdout",
     "output_type": "stream",
     "text": [
      "Epoch : 86 - Train_loss : 0.0002 - Train_Acc: 1.0000 - Val_loss : 0.2687 - Val_Acc: 0.5833  - Time: 10.489432334899902\n",
      "\n"
     ]
    },
    {
     "name": "stderr",
     "output_type": "stream",
     "text": [
      "100%|█████████████████████████████████████████████| 9/9 [00:07<00:00,  1.18it/s]\n",
      "100%|█████████████████████████████████████████████| 4/4 [00:03<00:00,  1.23it/s]\n"
     ]
    },
    {
     "name": "stdout",
     "output_type": "stream",
     "text": [
      "Epoch : 87 - Train_loss : 0.0004 - Train_Acc: 1.0000 - Val_loss : 0.2752 - Val_Acc: 0.5750  - Time: 10.874423742294312\n",
      "\n"
     ]
    },
    {
     "name": "stderr",
     "output_type": "stream",
     "text": [
      "100%|█████████████████████████████████████████████| 9/9 [00:07<00:00,  1.26it/s]\n",
      "100%|█████████████████████████████████████████████| 4/4 [00:03<00:00,  1.19it/s]\n"
     ]
    },
    {
     "name": "stdout",
     "output_type": "stream",
     "text": [
      "Epoch : 88 - Train_loss : 0.0001 - Train_Acc: 1.0000 - Val_loss : 0.2796 - Val_Acc: 0.5750  - Time: 10.505054235458374\n",
      "\n"
     ]
    },
    {
     "name": "stderr",
     "output_type": "stream",
     "text": [
      "100%|█████████████████████████████████████████████| 9/9 [00:07<00:00,  1.28it/s]\n",
      "100%|█████████████████████████████████████████████| 4/4 [00:03<00:00,  1.17it/s]\n"
     ]
    },
    {
     "name": "stdout",
     "output_type": "stream",
     "text": [
      "Epoch : 89 - Train_loss : 0.0001 - Train_Acc: 1.0000 - Val_loss : 0.2812 - Val_Acc: 0.5667  - Time: 10.444050550460815\n",
      "\n"
     ]
    },
    {
     "name": "stderr",
     "output_type": "stream",
     "text": [
      "100%|█████████████████████████████████████████████| 9/9 [00:07<00:00,  1.28it/s]\n",
      "100%|█████████████████████████████████████████████| 4/4 [00:03<00:00,  1.16it/s]\n"
     ]
    },
    {
     "name": "stdout",
     "output_type": "stream",
     "text": [
      "Epoch : 90 - Train_loss : 0.0002 - Train_Acc: 1.0000 - Val_loss : 0.2826 - Val_Acc: 0.5667  - Time: 10.47738003730774\n",
      "\n"
     ]
    },
    {
     "name": "stderr",
     "output_type": "stream",
     "text": [
      "100%|█████████████████████████████████████████████| 9/9 [00:07<00:00,  1.16it/s]\n",
      "100%|█████████████████████████████████████████████| 4/4 [00:03<00:00,  1.06it/s]\n"
     ]
    },
    {
     "name": "stdout",
     "output_type": "stream",
     "text": [
      "Epoch : 91 - Train_loss : 0.0001 - Train_Acc: 1.0000 - Val_loss : 0.2842 - Val_Acc: 0.5667  - Time: 11.518302202224731\n",
      "\n"
     ]
    },
    {
     "name": "stderr",
     "output_type": "stream",
     "text": [
      "100%|█████████████████████████████████████████████| 9/9 [00:07<00:00,  1.21it/s]\n",
      "100%|█████████████████████████████████████████████| 4/4 [00:03<00:00,  1.11it/s]\n"
     ]
    },
    {
     "name": "stdout",
     "output_type": "stream",
     "text": [
      "Epoch : 92 - Train_loss : 0.0001 - Train_Acc: 1.0000 - Val_loss : 0.2849 - Val_Acc: 0.5667  - Time: 11.010465621948242\n",
      "\n"
     ]
    },
    {
     "name": "stderr",
     "output_type": "stream",
     "text": [
      "100%|█████████████████████████████████████████████| 9/9 [00:07<00:00,  1.25it/s]\n",
      "100%|█████████████████████████████████████████████| 4/4 [00:03<00:00,  1.10it/s]\n"
     ]
    },
    {
     "name": "stdout",
     "output_type": "stream",
     "text": [
      "Epoch : 93 - Train_loss : 0.0001 - Train_Acc: 1.0000 - Val_loss : 0.2848 - Val_Acc: 0.5667  - Time: 10.872997522354126\n",
      "\n"
     ]
    },
    {
     "name": "stderr",
     "output_type": "stream",
     "text": [
      "100%|█████████████████████████████████████████████| 9/9 [00:07<00:00,  1.24it/s]\n",
      "100%|█████████████████████████████████████████████| 4/4 [00:03<00:00,  1.13it/s]\n"
     ]
    },
    {
     "name": "stdout",
     "output_type": "stream",
     "text": [
      "Epoch : 94 - Train_loss : 0.0004 - Train_Acc: 1.0000 - Val_loss : 0.2850 - Val_Acc: 0.5667  - Time: 10.76523232460022\n",
      "\n"
     ]
    },
    {
     "name": "stderr",
     "output_type": "stream",
     "text": [
      "100%|█████████████████████████████████████████████| 9/9 [00:07<00:00,  1.26it/s]\n",
      "100%|█████████████████████████████████████████████| 4/4 [00:03<00:00,  1.14it/s]\n"
     ]
    },
    {
     "name": "stdout",
     "output_type": "stream",
     "text": [
      "Epoch : 95 - Train_loss : 0.0001 - Train_Acc: 1.0000 - Val_loss : 0.2861 - Val_Acc: 0.5750  - Time: 10.659443378448486\n",
      "\n"
     ]
    },
    {
     "name": "stderr",
     "output_type": "stream",
     "text": [
      "100%|█████████████████████████████████████████████| 9/9 [00:07<00:00,  1.26it/s]\n",
      "100%|█████████████████████████████████████████████| 4/4 [00:03<00:00,  1.23it/s]\n"
     ]
    },
    {
     "name": "stdout",
     "output_type": "stream",
     "text": [
      "Epoch : 96 - Train_loss : 0.0001 - Train_Acc: 1.0000 - Val_loss : 0.2864 - Val_Acc: 0.5750  - Time: 10.408121585845947\n",
      "\n"
     ]
    },
    {
     "name": "stderr",
     "output_type": "stream",
     "text": [
      "100%|█████████████████████████████████████████████| 9/9 [00:07<00:00,  1.22it/s]\n",
      "100%|█████████████████████████████████████████████| 4/4 [00:03<00:00,  1.30it/s]\n"
     ]
    },
    {
     "name": "stdout",
     "output_type": "stream",
     "text": [
      "Epoch : 97 - Train_loss : 0.0001 - Train_Acc: 1.0000 - Val_loss : 0.2853 - Val_Acc: 0.5750  - Time: 10.442143201828003\n",
      "\n"
     ]
    },
    {
     "name": "stderr",
     "output_type": "stream",
     "text": [
      "100%|█████████████████████████████████████████████| 9/9 [00:07<00:00,  1.18it/s]\n",
      "100%|█████████████████████████████████████████████| 4/4 [00:03<00:00,  1.14it/s]\n"
     ]
    },
    {
     "name": "stdout",
     "output_type": "stream",
     "text": [
      "Epoch : 98 - Train_loss : 0.0002 - Train_Acc: 1.0000 - Val_loss : 0.2855 - Val_Acc: 0.5750  - Time: 11.157768726348877\n",
      "\n"
     ]
    },
    {
     "name": "stderr",
     "output_type": "stream",
     "text": [
      "100%|█████████████████████████████████████████████| 9/9 [00:07<00:00,  1.24it/s]\n",
      "100%|█████████████████████████████████████████████| 4/4 [00:03<00:00,  1.27it/s]\n"
     ]
    },
    {
     "name": "stdout",
     "output_type": "stream",
     "text": [
      "Epoch : 99 - Train_loss : 0.0001 - Train_Acc: 1.0000 - Val_loss : 0.2858 - Val_Acc: 0.5750  - Time: 10.44554877281189\n",
      "\n"
     ]
    },
    {
     "name": "stderr",
     "output_type": "stream",
     "text": [
      "100%|█████████████████████████████████████████████| 9/9 [00:07<00:00,  1.24it/s]\n",
      "100%|█████████████████████████████████████████████| 4/4 [00:03<00:00,  1.25it/s]\n"
     ]
    },
    {
     "name": "stdout",
     "output_type": "stream",
     "text": [
      "Epoch : 100 - Train_loss : 0.0002 - Train_Acc: 1.0000 - Val_loss : 0.2856 - Val_Acc: 0.5750  - Time: 10.478601217269897\n",
      "\n"
     ]
    },
    {
     "name": "stderr",
     "output_type": "stream",
     "text": [
      "100%|█████████████████████████████████████████████| 9/9 [00:07<00:00,  1.20it/s]\n",
      "100%|█████████████████████████████████████████████| 4/4 [00:03<00:00,  1.16it/s]\n"
     ]
    },
    {
     "name": "stdout",
     "output_type": "stream",
     "text": [
      "Epoch : 101 - Train_loss : 0.0005 - Train_Acc: 1.0000 - Val_loss : 0.2855 - Val_Acc: 0.5750  - Time: 10.93558406829834\n",
      "\n"
     ]
    },
    {
     "name": "stderr",
     "output_type": "stream",
     "text": [
      "100%|█████████████████████████████████████████████| 9/9 [00:07<00:00,  1.24it/s]\n",
      "100%|█████████████████████████████████████████████| 4/4 [00:03<00:00,  1.17it/s]\n"
     ]
    },
    {
     "name": "stdout",
     "output_type": "stream",
     "text": [
      "Epoch : 102 - Train_loss : 0.0002 - Train_Acc: 1.0000 - Val_loss : 0.2847 - Val_Acc: 0.5750  - Time: 10.691028594970703\n",
      "\n"
     ]
    },
    {
     "name": "stderr",
     "output_type": "stream",
     "text": [
      "100%|█████████████████████████████████████████████| 9/9 [00:06<00:00,  1.30it/s]\n",
      "100%|█████████████████████████████████████████████| 4/4 [00:03<00:00,  1.24it/s]\n"
     ]
    },
    {
     "name": "stdout",
     "output_type": "stream",
     "text": [
      "Epoch : 103 - Train_loss : 0.0004 - Train_Acc: 1.0000 - Val_loss : 0.2823 - Val_Acc: 0.5750  - Time: 10.131216287612915\n",
      "\n"
     ]
    },
    {
     "name": "stderr",
     "output_type": "stream",
     "text": [
      "100%|█████████████████████████████████████████████| 9/9 [00:07<00:00,  1.26it/s]\n",
      "100%|█████████████████████████████████████████████| 4/4 [00:03<00:00,  1.20it/s]\n"
     ]
    },
    {
     "name": "stdout",
     "output_type": "stream",
     "text": [
      "Epoch : 104 - Train_loss : 0.0006 - Train_Acc: 1.0000 - Val_loss : 0.2814 - Val_Acc: 0.5833  - Time: 10.5018310546875\n",
      "\n"
     ]
    },
    {
     "name": "stderr",
     "output_type": "stream",
     "text": [
      "100%|█████████████████████████████████████████████| 9/9 [00:06<00:00,  1.30it/s]\n",
      "100%|█████████████████████████████████████████████| 4/4 [00:03<00:00,  1.06it/s]\n"
     ]
    },
    {
     "name": "stdout",
     "output_type": "stream",
     "text": [
      "Epoch : 105 - Train_loss : 0.0004 - Train_Acc: 1.0000 - Val_loss : 0.2933 - Val_Acc: 0.5750  - Time: 10.71114730834961\n",
      "\n"
     ]
    },
    {
     "name": "stderr",
     "output_type": "stream",
     "text": [
      "100%|█████████████████████████████████████████████| 9/9 [00:07<00:00,  1.14it/s]\n",
      "100%|█████████████████████████████████████████████| 4/4 [00:03<00:00,  1.13it/s]\n"
     ]
    },
    {
     "name": "stdout",
     "output_type": "stream",
     "text": [
      "Epoch : 106 - Train_loss : 0.0002 - Train_Acc: 1.0000 - Val_loss : 0.2960 - Val_Acc: 0.5750  - Time: 11.477452993392944\n",
      "\n"
     ]
    },
    {
     "name": "stderr",
     "output_type": "stream",
     "text": [
      "100%|█████████████████████████████████████████████| 9/9 [00:07<00:00,  1.24it/s]\n",
      "100%|█████████████████████████████████████████████| 4/4 [00:03<00:00,  1.17it/s]\n"
     ]
    },
    {
     "name": "stdout",
     "output_type": "stream",
     "text": [
      "Epoch : 107 - Train_loss : 0.0001 - Train_Acc: 1.0000 - Val_loss : 0.2958 - Val_Acc: 0.5750  - Time: 10.664036750793457\n",
      "\n"
     ]
    },
    {
     "name": "stderr",
     "output_type": "stream",
     "text": [
      "100%|█████████████████████████████████████████████| 9/9 [00:07<00:00,  1.20it/s]\n",
      "100%|█████████████████████████████████████████████| 4/4 [00:03<00:00,  1.18it/s]\n"
     ]
    },
    {
     "name": "stdout",
     "output_type": "stream",
     "text": [
      "Epoch : 108 - Train_loss : 0.0003 - Train_Acc: 1.0000 - Val_loss : 0.2948 - Val_Acc: 0.5833  - Time: 10.899779558181763\n",
      "\n"
     ]
    },
    {
     "name": "stderr",
     "output_type": "stream",
     "text": [
      "100%|█████████████████████████████████████████████| 9/9 [00:07<00:00,  1.21it/s]\n",
      "100%|█████████████████████████████████████████████| 4/4 [00:03<00:00,  1.29it/s]\n"
     ]
    },
    {
     "name": "stdout",
     "output_type": "stream",
     "text": [
      "Epoch : 109 - Train_loss : 0.0002 - Train_Acc: 1.0000 - Val_loss : 0.2952 - Val_Acc: 0.5917  - Time: 10.521437406539917\n",
      "\n"
     ]
    },
    {
     "name": "stderr",
     "output_type": "stream",
     "text": [
      "100%|█████████████████████████████████████████████| 9/9 [00:07<00:00,  1.23it/s]\n",
      "100%|█████████████████████████████████████████████| 4/4 [00:03<00:00,  1.29it/s]\n"
     ]
    },
    {
     "name": "stdout",
     "output_type": "stream",
     "text": [
      "Epoch : 110 - Train_loss : 0.0003 - Train_Acc: 1.0000 - Val_loss : 0.2957 - Val_Acc: 0.5917  - Time: 10.457239389419556\n",
      "\n"
     ]
    },
    {
     "name": "stderr",
     "output_type": "stream",
     "text": [
      "100%|█████████████████████████████████████████████| 9/9 [00:07<00:00,  1.27it/s]\n",
      "100%|█████████████████████████████████████████████| 4/4 [00:03<00:00,  1.32it/s]\n"
     ]
    },
    {
     "name": "stdout",
     "output_type": "stream",
     "text": [
      "Epoch : 111 - Train_loss : 0.0001 - Train_Acc: 1.0000 - Val_loss : 0.2938 - Val_Acc: 0.5917  - Time: 10.138731479644775\n",
      "\n"
     ]
    },
    {
     "name": "stderr",
     "output_type": "stream",
     "text": [
      "100%|█████████████████████████████████████████████| 9/9 [00:07<00:00,  1.21it/s]\n",
      "100%|█████████████████████████████████████████████| 4/4 [00:03<00:00,  1.23it/s]\n"
     ]
    },
    {
     "name": "stdout",
     "output_type": "stream",
     "text": [
      "Epoch : 112 - Train_loss : 0.0045 - Train_Acc: 0.9964 - Val_loss : 0.3659 - Val_Acc: 0.5917  - Time: 10.681870937347412\n",
      "\n"
     ]
    },
    {
     "name": "stderr",
     "output_type": "stream",
     "text": [
      "100%|█████████████████████████████████████████████| 9/9 [00:08<00:00,  1.07it/s]\n",
      "100%|█████████████████████████████████████████████| 4/4 [00:03<00:00,  1.10it/s]\n"
     ]
    },
    {
     "name": "stdout",
     "output_type": "stream",
     "text": [
      "Epoch : 113 - Train_loss : 0.0317 - Train_Acc: 0.9857 - Val_loss : 0.3802 - Val_Acc: 0.5417  - Time: 12.048592805862427\n",
      "\n"
     ]
    },
    {
     "name": "stderr",
     "output_type": "stream",
     "text": [
      "100%|█████████████████████████████████████████████| 9/9 [00:07<00:00,  1.21it/s]\n",
      "100%|█████████████████████████████████████████████| 4/4 [00:03<00:00,  1.15it/s]\n"
     ]
    },
    {
     "name": "stdout",
     "output_type": "stream",
     "text": [
      "Epoch : 114 - Train_loss : 0.1054 - Train_Acc: 0.9643 - Val_loss : 0.2475 - Val_Acc: 0.4750  - Time: 10.894653797149658\n",
      "\n"
     ]
    },
    {
     "name": "stderr",
     "output_type": "stream",
     "text": [
      "100%|█████████████████████████████████████████████| 9/9 [00:07<00:00,  1.23it/s]\n",
      "100%|█████████████████████████████████████████████| 4/4 [00:03<00:00,  1.06it/s]\n"
     ]
    },
    {
     "name": "stdout",
     "output_type": "stream",
     "text": [
      "Epoch : 115 - Train_loss : 0.2527 - Train_Acc: 0.9179 - Val_loss : 0.2171 - Val_Acc: 0.4833  - Time: 11.082849740982056\n",
      "\n"
     ]
    },
    {
     "name": "stderr",
     "output_type": "stream",
     "text": [
      "100%|█████████████████████████████████████████████| 9/9 [00:07<00:00,  1.24it/s]\n",
      "100%|█████████████████████████████████████████████| 4/4 [00:03<00:00,  1.14it/s]\n"
     ]
    },
    {
     "name": "stdout",
     "output_type": "stream",
     "text": [
      "Epoch : 116 - Train_loss : 0.4342 - Train_Acc: 0.8250 - Val_loss : 0.4096 - Val_Acc: 0.5167  - Time: 10.76513934135437\n",
      "\n"
     ]
    },
    {
     "name": "stderr",
     "output_type": "stream",
     "text": [
      "100%|█████████████████████████████████████████████| 9/9 [00:07<00:00,  1.22it/s]\n",
      "100%|█████████████████████████████████████████████| 4/4 [00:03<00:00,  1.21it/s]\n"
     ]
    },
    {
     "name": "stdout",
     "output_type": "stream",
     "text": [
      "Epoch : 117 - Train_loss : 0.4478 - Train_Acc: 0.8571 - Val_loss : 0.3225 - Val_Acc: 0.4917  - Time: 10.65905475616455\n",
      "\n"
     ]
    },
    {
     "name": "stderr",
     "output_type": "stream",
     "text": [
      "100%|█████████████████████████████████████████████| 9/9 [00:07<00:00,  1.28it/s]\n",
      "100%|█████████████████████████████████████████████| 4/4 [00:03<00:00,  1.21it/s]\n"
     ]
    },
    {
     "name": "stdout",
     "output_type": "stream",
     "text": [
      "Epoch : 118 - Train_loss : 0.2667 - Train_Acc: 0.9000 - Val_loss : 0.3589 - Val_Acc: 0.5333  - Time: 10.377610921859741\n",
      "\n"
     ]
    },
    {
     "name": "stderr",
     "output_type": "stream",
     "text": [
      "100%|█████████████████████████████████████████████| 9/9 [00:07<00:00,  1.20it/s]\n",
      "100%|█████████████████████████████████████████████| 4/4 [00:03<00:00,  1.32it/s]\n"
     ]
    },
    {
     "name": "stdout",
     "output_type": "stream",
     "text": [
      "Epoch : 119 - Train_loss : 0.1396 - Train_Acc: 0.9571 - Val_loss : 0.3528 - Val_Acc: 0.4750  - Time: 10.543394565582275\n",
      "\n"
     ]
    },
    {
     "name": "stderr",
     "output_type": "stream",
     "text": [
      "100%|█████████████████████████████████████████████| 9/9 [00:08<00:00,  1.11it/s]\n",
      "100%|█████████████████████████████████████████████| 4/4 [00:03<00:00,  1.26it/s]\n"
     ]
    },
    {
     "name": "stdout",
     "output_type": "stream",
     "text": [
      "Epoch : 120 - Train_loss : 0.0921 - Train_Acc: 0.9786 - Val_loss : 0.3735 - Val_Acc: 0.5750  - Time: 11.266892671585083\n",
      "\n"
     ]
    },
    {
     "name": "stderr",
     "output_type": "stream",
     "text": [
      "100%|█████████████████████████████████████████████| 9/9 [00:07<00:00,  1.22it/s]\n",
      "100%|█████████████████████████████████████████████| 4/4 [00:03<00:00,  1.29it/s]\n"
     ]
    },
    {
     "name": "stdout",
     "output_type": "stream",
     "text": [
      "Epoch : 121 - Train_loss : 0.0282 - Train_Acc: 1.0000 - Val_loss : 0.3332 - Val_Acc: 0.5667  - Time: 10.487510442733765\n",
      "\n"
     ]
    },
    {
     "name": "stderr",
     "output_type": "stream",
     "text": [
      "100%|█████████████████████████████████████████████| 9/9 [00:07<00:00,  1.24it/s]\n",
      "100%|█████████████████████████████████████████████| 4/4 [00:03<00:00,  1.16it/s]\n"
     ]
    },
    {
     "name": "stdout",
     "output_type": "stream",
     "text": [
      "Epoch : 122 - Train_loss : 0.0117 - Train_Acc: 1.0000 - Val_loss : 0.3415 - Val_Acc: 0.5500  - Time: 10.724166870117188\n",
      "\n"
     ]
    },
    {
     "name": "stderr",
     "output_type": "stream",
     "text": [
      "100%|█████████████████████████████████████████████| 9/9 [00:07<00:00,  1.22it/s]\n",
      "100%|█████████████████████████████████████████████| 4/4 [00:03<00:00,  1.19it/s]\n"
     ]
    },
    {
     "name": "stdout",
     "output_type": "stream",
     "text": [
      "Epoch : 123 - Train_loss : 0.0075 - Train_Acc: 1.0000 - Val_loss : 0.3362 - Val_Acc: 0.5250  - Time: 10.767243385314941\n",
      "\n"
     ]
    },
    {
     "name": "stderr",
     "output_type": "stream",
     "text": [
      "100%|█████████████████████████████████████████████| 9/9 [00:07<00:00,  1.27it/s]\n",
      "100%|█████████████████████████████████████████████| 4/4 [00:03<00:00,  1.21it/s]\n"
     ]
    },
    {
     "name": "stdout",
     "output_type": "stream",
     "text": [
      "Epoch : 124 - Train_loss : 0.0050 - Train_Acc: 1.0000 - Val_loss : 0.3346 - Val_Acc: 0.5000  - Time: 10.397928237915039\n",
      "\n"
     ]
    },
    {
     "name": "stderr",
     "output_type": "stream",
     "text": [
      "100%|█████████████████████████████████████████████| 9/9 [00:07<00:00,  1.27it/s]\n",
      "100%|█████████████████████████████████████████████| 4/4 [00:03<00:00,  1.21it/s]\n"
     ]
    },
    {
     "name": "stdout",
     "output_type": "stream",
     "text": [
      "Epoch : 125 - Train_loss : 0.0029 - Train_Acc: 1.0000 - Val_loss : 0.3213 - Val_Acc: 0.5250  - Time: 10.389622211456299\n",
      "\n"
     ]
    },
    {
     "name": "stderr",
     "output_type": "stream",
     "text": [
      "100%|█████████████████████████████████████████████| 9/9 [00:07<00:00,  1.28it/s]\n",
      "100%|█████████████████████████████████████████████| 4/4 [00:03<00:00,  1.20it/s]\n"
     ]
    },
    {
     "name": "stdout",
     "output_type": "stream",
     "text": [
      "Epoch : 126 - Train_loss : 0.0026 - Train_Acc: 1.0000 - Val_loss : 0.3141 - Val_Acc: 0.5500  - Time: 10.388631105422974\n",
      "\n"
     ]
    },
    {
     "name": "stderr",
     "output_type": "stream",
     "text": [
      "100%|█████████████████████████████████████████████| 9/9 [00:07<00:00,  1.24it/s]\n",
      "100%|█████████████████████████████████████████████| 4/4 [00:03<00:00,  1.05it/s]\n"
     ]
    },
    {
     "name": "stdout",
     "output_type": "stream",
     "text": [
      "Epoch : 127 - Train_loss : 0.0017 - Train_Acc: 1.0000 - Val_loss : 0.3128 - Val_Acc: 0.5667  - Time: 11.103712797164917\n",
      "\n"
     ]
    },
    {
     "name": "stderr",
     "output_type": "stream",
     "text": [
      "100%|█████████████████████████████████████████████| 9/9 [00:07<00:00,  1.22it/s]\n",
      "100%|█████████████████████████████████████████████| 4/4 [00:03<00:00,  1.15it/s]\n"
     ]
    },
    {
     "name": "stdout",
     "output_type": "stream",
     "text": [
      "Epoch : 128 - Train_loss : 0.0015 - Train_Acc: 1.0000 - Val_loss : 0.3135 - Val_Acc: 0.5417  - Time: 10.858671188354492\n",
      "\n"
     ]
    },
    {
     "name": "stderr",
     "output_type": "stream",
     "text": [
      "100%|█████████████████████████████████████████████| 9/9 [00:06<00:00,  1.29it/s]\n",
      "100%|█████████████████████████████████████████████| 4/4 [00:03<00:00,  1.15it/s]\n"
     ]
    },
    {
     "name": "stdout",
     "output_type": "stream",
     "text": [
      "Epoch : 129 - Train_loss : 0.0012 - Train_Acc: 1.0000 - Val_loss : 0.3171 - Val_Acc: 0.5333  - Time: 10.472638845443726\n",
      "\n"
     ]
    },
    {
     "name": "stderr",
     "output_type": "stream",
     "text": [
      "100%|█████████████████████████████████████████████| 9/9 [00:07<00:00,  1.23it/s]\n",
      "100%|█████████████████████████████████████████████| 4/4 [00:03<00:00,  1.13it/s]\n"
     ]
    },
    {
     "name": "stdout",
     "output_type": "stream",
     "text": [
      "Epoch : 130 - Train_loss : 0.0014 - Train_Acc: 1.0000 - Val_loss : 0.3149 - Val_Acc: 0.5417  - Time: 10.886754751205444\n",
      "\n"
     ]
    },
    {
     "name": "stderr",
     "output_type": "stream",
     "text": [
      "100%|█████████████████████████████████████████████| 9/9 [00:06<00:00,  1.30it/s]\n",
      "100%|█████████████████████████████████████████████| 4/4 [00:03<00:00,  1.15it/s]\n"
     ]
    },
    {
     "name": "stdout",
     "output_type": "stream",
     "text": [
      "Epoch : 131 - Train_loss : 0.0011 - Train_Acc: 1.0000 - Val_loss : 0.3183 - Val_Acc: 0.5500  - Time: 10.422768354415894\n",
      "\n"
     ]
    },
    {
     "name": "stderr",
     "output_type": "stream",
     "text": [
      "100%|█████████████████████████████████████████████| 9/9 [00:07<00:00,  1.25it/s]\n",
      "100%|█████████████████████████████████████████████| 4/4 [00:03<00:00,  1.29it/s]\n"
     ]
    },
    {
     "name": "stdout",
     "output_type": "stream",
     "text": [
      "Epoch : 132 - Train_loss : 0.0005 - Train_Acc: 1.0000 - Val_loss : 0.3200 - Val_Acc: 0.5500  - Time: 10.322658777236938\n",
      "\n"
     ]
    },
    {
     "name": "stderr",
     "output_type": "stream",
     "text": [
      "100%|█████████████████████████████████████████████| 9/9 [00:07<00:00,  1.23it/s]\n",
      "100%|█████████████████████████████████████████████| 4/4 [00:03<00:00,  1.32it/s]\n"
     ]
    },
    {
     "name": "stdout",
     "output_type": "stream",
     "text": [
      "Epoch : 133 - Train_loss : 0.0008 - Train_Acc: 1.0000 - Val_loss : 0.3195 - Val_Acc: 0.5417  - Time: 10.340810060501099\n",
      "\n"
     ]
    },
    {
     "name": "stderr",
     "output_type": "stream",
     "text": [
      "100%|█████████████████████████████████████████████| 9/9 [00:07<00:00,  1.24it/s]\n",
      "100%|█████████████████████████████████████████████| 4/4 [00:03<00:00,  1.14it/s]\n"
     ]
    },
    {
     "name": "stdout",
     "output_type": "stream",
     "text": [
      "Epoch : 134 - Train_loss : 0.0009 - Train_Acc: 1.0000 - Val_loss : 0.3188 - Val_Acc: 0.5417  - Time: 10.797947645187378\n",
      "\n"
     ]
    },
    {
     "name": "stderr",
     "output_type": "stream",
     "text": [
      "100%|█████████████████████████████████████████████| 9/9 [00:07<00:00,  1.16it/s]\n",
      "100%|█████████████████████████████████████████████| 4/4 [00:03<00:00,  1.28it/s]\n"
     ]
    },
    {
     "name": "stdout",
     "output_type": "stream",
     "text": [
      "Epoch : 135 - Train_loss : 0.0011 - Train_Acc: 1.0000 - Val_loss : 0.3186 - Val_Acc: 0.5500  - Time: 10.88184642791748\n",
      "\n"
     ]
    },
    {
     "name": "stderr",
     "output_type": "stream",
     "text": [
      "100%|█████████████████████████████████████████████| 9/9 [00:07<00:00,  1.22it/s]\n",
      "100%|█████████████████████████████████████████████| 4/4 [00:03<00:00,  1.24it/s]\n"
     ]
    },
    {
     "name": "stdout",
     "output_type": "stream",
     "text": [
      "Epoch : 136 - Train_loss : 0.0006 - Train_Acc: 1.0000 - Val_loss : 0.3186 - Val_Acc: 0.5417  - Time: 10.599875926971436\n",
      "\n"
     ]
    },
    {
     "name": "stderr",
     "output_type": "stream",
     "text": [
      "100%|█████████████████████████████████████████████| 9/9 [00:07<00:00,  1.25it/s]\n",
      "100%|█████████████████████████████████████████████| 4/4 [00:03<00:00,  1.17it/s]\n"
     ]
    },
    {
     "name": "stdout",
     "output_type": "stream",
     "text": [
      "Epoch : 137 - Train_loss : 0.0006 - Train_Acc: 1.0000 - Val_loss : 0.3185 - Val_Acc: 0.5333  - Time: 10.630376100540161\n",
      "\n"
     ]
    },
    {
     "name": "stderr",
     "output_type": "stream",
     "text": [
      "100%|█████████████████████████████████████████████| 9/9 [00:07<00:00,  1.22it/s]\n",
      "100%|█████████████████████████████████████████████| 4/4 [00:03<00:00,  1.22it/s]\n"
     ]
    },
    {
     "name": "stdout",
     "output_type": "stream",
     "text": [
      "Epoch : 138 - Train_loss : 0.0007 - Train_Acc: 1.0000 - Val_loss : 0.3173 - Val_Acc: 0.5333  - Time: 10.660528421401978\n",
      "\n"
     ]
    },
    {
     "name": "stderr",
     "output_type": "stream",
     "text": [
      "100%|█████████████████████████████████████████████| 9/9 [00:07<00:00,  1.26it/s]\n",
      "100%|█████████████████████████████████████████████| 4/4 [00:03<00:00,  1.19it/s]\n"
     ]
    },
    {
     "name": "stdout",
     "output_type": "stream",
     "text": [
      "Epoch : 139 - Train_loss : 0.0004 - Train_Acc: 1.0000 - Val_loss : 0.3163 - Val_Acc: 0.5250  - Time: 10.534546375274658\n",
      "\n"
     ]
    },
    {
     "name": "stderr",
     "output_type": "stream",
     "text": [
      "100%|█████████████████████████████████████████████| 9/9 [00:07<00:00,  1.28it/s]\n",
      "100%|█████████████████████████████████████████████| 4/4 [00:03<00:00,  1.24it/s]\n"
     ]
    },
    {
     "name": "stdout",
     "output_type": "stream",
     "text": [
      "Epoch : 140 - Train_loss : 0.0007 - Train_Acc: 1.0000 - Val_loss : 0.3176 - Val_Acc: 0.5250  - Time: 10.233513355255127\n",
      "\n"
     ]
    },
    {
     "name": "stderr",
     "output_type": "stream",
     "text": [
      "100%|█████████████████████████████████████████████| 9/9 [00:07<00:00,  1.20it/s]\n",
      "100%|█████████████████████████████████████████████| 4/4 [00:03<00:00,  1.16it/s]\n"
     ]
    },
    {
     "name": "stdout",
     "output_type": "stream",
     "text": [
      "Epoch : 141 - Train_loss : 0.0006 - Train_Acc: 1.0000 - Val_loss : 0.3191 - Val_Acc: 0.5250  - Time: 10.920986652374268\n",
      "\n"
     ]
    },
    {
     "name": "stderr",
     "output_type": "stream",
     "text": [
      "100%|█████████████████████████████████████████████| 9/9 [00:07<00:00,  1.16it/s]\n",
      "100%|█████████████████████████████████████████████| 4/4 [00:03<00:00,  1.09it/s]\n"
     ]
    },
    {
     "name": "stdout",
     "output_type": "stream",
     "text": [
      "Epoch : 142 - Train_loss : 0.0009 - Train_Acc: 1.0000 - Val_loss : 0.3250 - Val_Acc: 0.5417  - Time: 11.409477233886719\n",
      "\n"
     ]
    },
    {
     "name": "stderr",
     "output_type": "stream",
     "text": [
      "100%|█████████████████████████████████████████████| 9/9 [00:07<00:00,  1.25it/s]\n",
      "100%|█████████████████████████████████████████████| 4/4 [00:03<00:00,  1.17it/s]\n"
     ]
    },
    {
     "name": "stdout",
     "output_type": "stream",
     "text": [
      "Epoch : 143 - Train_loss : 0.0004 - Train_Acc: 1.0000 - Val_loss : 0.3335 - Val_Acc: 0.5583  - Time: 10.618897914886475\n",
      "\n"
     ]
    },
    {
     "name": "stderr",
     "output_type": "stream",
     "text": [
      "100%|█████████████████████████████████████████████| 9/9 [00:07<00:00,  1.28it/s]\n",
      "100%|█████████████████████████████████████████████| 4/4 [00:03<00:00,  1.13it/s]\n"
     ]
    },
    {
     "name": "stdout",
     "output_type": "stream",
     "text": [
      "Epoch : 144 - Train_loss : 0.0003 - Train_Acc: 1.0000 - Val_loss : 0.3354 - Val_Acc: 0.5583  - Time: 10.604061603546143\n",
      "\n"
     ]
    },
    {
     "name": "stderr",
     "output_type": "stream",
     "text": [
      "100%|█████████████████████████████████████████████| 9/9 [00:07<00:00,  1.22it/s]\n",
      "100%|█████████████████████████████████████████████| 4/4 [00:03<00:00,  1.21it/s]\n"
     ]
    },
    {
     "name": "stdout",
     "output_type": "stream",
     "text": [
      "Epoch : 145 - Train_loss : 0.0008 - Train_Acc: 1.0000 - Val_loss : 0.3360 - Val_Acc: 0.5583  - Time: 10.68577527999878\n",
      "\n"
     ]
    },
    {
     "name": "stderr",
     "output_type": "stream",
     "text": [
      "100%|█████████████████████████████████████████████| 9/9 [00:07<00:00,  1.19it/s]\n",
      "100%|█████████████████████████████████████████████| 4/4 [00:02<00:00,  1.35it/s]\n"
     ]
    },
    {
     "name": "stdout",
     "output_type": "stream",
     "text": [
      "Epoch : 146 - Train_loss : 0.0004 - Train_Acc: 1.0000 - Val_loss : 0.3366 - Val_Acc: 0.5500  - Time: 10.516539573669434\n",
      "\n"
     ]
    },
    {
     "name": "stderr",
     "output_type": "stream",
     "text": [
      "100%|█████████████████████████████████████████████| 9/9 [00:07<00:00,  1.24it/s]\n",
      "100%|█████████████████████████████████████████████| 4/4 [00:03<00:00,  1.30it/s]\n"
     ]
    },
    {
     "name": "stdout",
     "output_type": "stream",
     "text": [
      "Epoch : 147 - Train_loss : 0.0006 - Train_Acc: 1.0000 - Val_loss : 0.3353 - Val_Acc: 0.5500  - Time: 10.350283861160278\n",
      "\n"
     ]
    },
    {
     "name": "stderr",
     "output_type": "stream",
     "text": [
      "100%|█████████████████████████████████████████████| 9/9 [00:07<00:00,  1.24it/s]\n",
      "100%|█████████████████████████████████████████████| 4/4 [00:03<00:00,  1.28it/s]\n"
     ]
    },
    {
     "name": "stdout",
     "output_type": "stream",
     "text": [
      "Epoch : 148 - Train_loss : 0.0011 - Train_Acc: 1.0000 - Val_loss : 0.3357 - Val_Acc: 0.5417  - Time: 10.376110076904297\n",
      "\n"
     ]
    },
    {
     "name": "stderr",
     "output_type": "stream",
     "text": [
      "100%|█████████████████████████████████████████████| 9/9 [00:07<00:00,  1.15it/s]\n",
      "100%|█████████████████████████████████████████████| 4/4 [00:03<00:00,  1.15it/s]\n"
     ]
    },
    {
     "name": "stdout",
     "output_type": "stream",
     "text": [
      "Epoch : 149 - Train_loss : 0.0011 - Train_Acc: 1.0000 - Val_loss : 0.3344 - Val_Acc: 0.5500  - Time: 11.300469875335693\n",
      "\n"
     ]
    },
    {
     "name": "stderr",
     "output_type": "stream",
     "text": [
      "100%|█████████████████████████████████████████████| 9/9 [00:07<00:00,  1.23it/s]\n",
      "100%|█████████████████████████████████████████████| 4/4 [00:03<00:00,  1.20it/s]\n"
     ]
    },
    {
     "name": "stdout",
     "output_type": "stream",
     "text": [
      "Epoch : 150 - Train_loss : 0.0006 - Train_Acc: 1.0000 - Val_loss : 0.3326 - Val_Acc: 0.5500  - Time: 10.65659213066101\n",
      "\n"
     ]
    },
    {
     "name": "stderr",
     "output_type": "stream",
     "text": [
      "100%|█████████████████████████████████████████████| 9/9 [00:07<00:00,  1.25it/s]\n",
      "100%|█████████████████████████████████████████████| 4/4 [00:03<00:00,  1.09it/s]\n"
     ]
    },
    {
     "name": "stdout",
     "output_type": "stream",
     "text": [
      "Epoch : 151 - Train_loss : 0.0006 - Train_Acc: 1.0000 - Val_loss : 0.3299 - Val_Acc: 0.5417  - Time: 10.889806747436523\n",
      "\n"
     ]
    },
    {
     "name": "stderr",
     "output_type": "stream",
     "text": [
      "100%|█████████████████████████████████████████████| 9/9 [00:07<00:00,  1.23it/s]\n",
      "100%|█████████████████████████████████████████████| 4/4 [00:03<00:00,  1.18it/s]\n"
     ]
    },
    {
     "name": "stdout",
     "output_type": "stream",
     "text": [
      "Epoch : 152 - Train_loss : 0.0005 - Train_Acc: 1.0000 - Val_loss : 0.3291 - Val_Acc: 0.5417  - Time: 10.689560890197754\n",
      "\n"
     ]
    },
    {
     "name": "stderr",
     "output_type": "stream",
     "text": [
      "100%|█████████████████████████████████████████████| 9/9 [00:07<00:00,  1.27it/s]\n",
      "100%|█████████████████████████████████████████████| 4/4 [00:03<00:00,  1.12it/s]\n"
     ]
    },
    {
     "name": "stdout",
     "output_type": "stream",
     "text": [
      "Epoch : 153 - Train_loss : 0.0003 - Train_Acc: 1.0000 - Val_loss : 0.3287 - Val_Acc: 0.5500  - Time: 10.687630414962769\n",
      "\n"
     ]
    },
    {
     "name": "stderr",
     "output_type": "stream",
     "text": [
      "100%|█████████████████████████████████████████████| 9/9 [00:07<00:00,  1.22it/s]\n",
      "100%|█████████████████████████████████████████████| 4/4 [00:03<00:00,  1.14it/s]\n"
     ]
    },
    {
     "name": "stdout",
     "output_type": "stream",
     "text": [
      "Epoch : 154 - Train_loss : 0.0005 - Train_Acc: 1.0000 - Val_loss : 0.3282 - Val_Acc: 0.5500  - Time: 10.878844261169434\n",
      "\n"
     ]
    },
    {
     "name": "stderr",
     "output_type": "stream",
     "text": [
      "100%|█████████████████████████████████████████████| 9/9 [00:07<00:00,  1.27it/s]\n",
      "100%|█████████████████████████████████████████████| 4/4 [00:03<00:00,  1.09it/s]\n"
     ]
    },
    {
     "name": "stdout",
     "output_type": "stream",
     "text": [
      "Epoch : 155 - Train_loss : 0.0003 - Train_Acc: 1.0000 - Val_loss : 0.3270 - Val_Acc: 0.5583  - Time: 10.768531799316406\n",
      "\n"
     ]
    },
    {
     "name": "stderr",
     "output_type": "stream",
     "text": [
      "100%|█████████████████████████████████████████████| 9/9 [00:07<00:00,  1.15it/s]\n",
      "100%|█████████████████████████████████████████████| 4/4 [00:03<00:00,  1.15it/s]\n"
     ]
    },
    {
     "name": "stdout",
     "output_type": "stream",
     "text": [
      "Epoch : 156 - Train_loss : 0.0002 - Train_Acc: 1.0000 - Val_loss : 0.3266 - Val_Acc: 0.5500  - Time: 11.318498134613037\n",
      "\n"
     ]
    },
    {
     "name": "stderr",
     "output_type": "stream",
     "text": [
      "100%|█████████████████████████████████████████████| 9/9 [00:07<00:00,  1.21it/s]\n",
      "100%|█████████████████████████████████████████████| 4/4 [00:03<00:00,  1.28it/s]\n"
     ]
    },
    {
     "name": "stdout",
     "output_type": "stream",
     "text": [
      "Epoch : 157 - Train_loss : 0.0003 - Train_Acc: 1.0000 - Val_loss : 0.3260 - Val_Acc: 0.5500  - Time: 10.593774318695068\n",
      "\n"
     ]
    },
    {
     "name": "stderr",
     "output_type": "stream",
     "text": [
      "100%|█████████████████████████████████████████████| 9/9 [00:07<00:00,  1.21it/s]\n",
      "100%|█████████████████████████████████████████████| 4/4 [00:03<00:00,  1.28it/s]\n"
     ]
    },
    {
     "name": "stdout",
     "output_type": "stream",
     "text": [
      "Epoch : 158 - Train_loss : 0.0003 - Train_Acc: 1.0000 - Val_loss : 0.3253 - Val_Acc: 0.5500  - Time: 10.572975158691406\n",
      "\n"
     ]
    },
    {
     "name": "stderr",
     "output_type": "stream",
     "text": [
      "100%|█████████████████████████████████████████████| 9/9 [00:07<00:00,  1.19it/s]\n",
      "100%|█████████████████████████████████████████████| 4/4 [00:03<00:00,  1.16it/s]\n"
     ]
    },
    {
     "name": "stdout",
     "output_type": "stream",
     "text": [
      "Epoch : 159 - Train_loss : 0.0002 - Train_Acc: 1.0000 - Val_loss : 0.3243 - Val_Acc: 0.5500  - Time: 11.032137870788574\n",
      "\n"
     ]
    },
    {
     "name": "stderr",
     "output_type": "stream",
     "text": [
      "100%|█████████████████████████████████████████████| 9/9 [00:07<00:00,  1.23it/s]\n",
      "100%|█████████████████████████████████████████████| 4/4 [00:03<00:00,  1.19it/s]\n"
     ]
    },
    {
     "name": "stdout",
     "output_type": "stream",
     "text": [
      "Epoch : 160 - Train_loss : 0.0004 - Train_Acc: 1.0000 - Val_loss : 0.3228 - Val_Acc: 0.5417  - Time: 10.70505952835083\n",
      "\n"
     ]
    },
    {
     "name": "stderr",
     "output_type": "stream",
     "text": [
      "100%|█████████████████████████████████████████████| 9/9 [00:07<00:00,  1.23it/s]\n",
      "100%|█████████████████████████████████████████████| 4/4 [00:03<00:00,  1.18it/s]\n"
     ]
    },
    {
     "name": "stdout",
     "output_type": "stream",
     "text": [
      "Epoch : 161 - Train_loss : 0.0004 - Train_Acc: 1.0000 - Val_loss : 0.3223 - Val_Acc: 0.5417  - Time: 10.703564643859863\n",
      "\n"
     ]
    },
    {
     "name": "stderr",
     "output_type": "stream",
     "text": [
      "100%|█████████████████████████████████████████████| 9/9 [00:07<00:00,  1.20it/s]\n",
      "100%|█████████████████████████████████████████████| 4/4 [00:03<00:00,  1.16it/s]\n"
     ]
    },
    {
     "name": "stdout",
     "output_type": "stream",
     "text": [
      "Epoch : 162 - Train_loss : 0.0006 - Train_Acc: 1.0000 - Val_loss : 0.3222 - Val_Acc: 0.5417  - Time: 10.965086460113525\n",
      "\n"
     ]
    },
    {
     "name": "stderr",
     "output_type": "stream",
     "text": [
      "100%|█████████████████████████████████████████████| 9/9 [00:07<00:00,  1.22it/s]\n",
      "100%|█████████████████████████████████████████████| 4/4 [00:04<00:00,  1.05s/it]\n"
     ]
    },
    {
     "name": "stdout",
     "output_type": "stream",
     "text": [
      "Epoch : 163 - Train_loss : 0.0002 - Train_Acc: 1.0000 - Val_loss : 0.3199 - Val_Acc: 0.5417  - Time: 11.568384647369385\n",
      "\n"
     ]
    },
    {
     "name": "stderr",
     "output_type": "stream",
     "text": [
      "100%|█████████████████████████████████████████████| 9/9 [00:07<00:00,  1.20it/s]\n",
      "100%|█████████████████████████████████████████████| 4/4 [00:03<00:00,  1.11it/s]\n"
     ]
    },
    {
     "name": "stdout",
     "output_type": "stream",
     "text": [
      "Epoch : 164 - Train_loss : 0.0003 - Train_Acc: 1.0000 - Val_loss : 0.3180 - Val_Acc: 0.5417  - Time: 11.078704118728638\n",
      "\n"
     ]
    },
    {
     "name": "stderr",
     "output_type": "stream",
     "text": [
      "100%|█████████████████████████████████████████████| 9/9 [00:07<00:00,  1.28it/s]\n",
      "100%|█████████████████████████████████████████████| 4/4 [00:03<00:00,  1.15it/s]\n"
     ]
    },
    {
     "name": "stdout",
     "output_type": "stream",
     "text": [
      "Epoch : 165 - Train_loss : 0.0003 - Train_Acc: 1.0000 - Val_loss : 0.3177 - Val_Acc: 0.5417  - Time: 10.500561952590942\n",
      "\n"
     ]
    },
    {
     "name": "stderr",
     "output_type": "stream",
     "text": [
      "100%|█████████████████████████████████████████████| 9/9 [00:07<00:00,  1.15it/s]\n",
      "100%|█████████████████████████████████████████████| 4/4 [00:03<00:00,  1.08it/s]\n"
     ]
    },
    {
     "name": "stdout",
     "output_type": "stream",
     "text": [
      "Epoch : 166 - Train_loss : 0.0007 - Train_Acc: 1.0000 - Val_loss : 0.3214 - Val_Acc: 0.5417  - Time: 11.5222909450531\n",
      "\n"
     ]
    },
    {
     "name": "stderr",
     "output_type": "stream",
     "text": [
      "100%|█████████████████████████████████████████████| 9/9 [00:10<00:00,  1.21s/it]\n",
      "100%|█████████████████████████████████████████████| 4/4 [00:04<00:00,  1.02s/it]\n"
     ]
    },
    {
     "name": "stdout",
     "output_type": "stream",
     "text": [
      "Epoch : 167 - Train_loss : 0.0004 - Train_Acc: 1.0000 - Val_loss : 0.3236 - Val_Acc: 0.5417  - Time: 14.963949203491211\n",
      "\n"
     ]
    },
    {
     "name": "stderr",
     "output_type": "stream",
     "text": [
      "100%|█████████████████████████████████████████████| 9/9 [00:08<00:00,  1.06it/s]\n",
      "100%|█████████████████████████████████████████████| 4/4 [00:03<00:00,  1.11it/s]\n"
     ]
    },
    {
     "name": "stdout",
     "output_type": "stream",
     "text": [
      "Epoch : 168 - Train_loss : 0.0002 - Train_Acc: 1.0000 - Val_loss : 0.3247 - Val_Acc: 0.5417  - Time: 12.087805271148682\n",
      "\n"
     ]
    },
    {
     "name": "stderr",
     "output_type": "stream",
     "text": [
      "100%|█████████████████████████████████████████████| 9/9 [00:07<00:00,  1.13it/s]\n",
      "100%|█████████████████████████████████████████████| 4/4 [00:03<00:00,  1.22it/s]\n"
     ]
    },
    {
     "name": "stdout",
     "output_type": "stream",
     "text": [
      "Epoch : 169 - Train_loss : 0.0006 - Train_Acc: 1.0000 - Val_loss : 0.3273 - Val_Acc: 0.5417  - Time: 11.245699405670166\n",
      "\n"
     ]
    },
    {
     "name": "stderr",
     "output_type": "stream",
     "text": [
      "100%|█████████████████████████████████████████████| 9/9 [00:07<00:00,  1.16it/s]\n",
      "100%|█████████████████████████████████████████████| 4/4 [00:03<00:00,  1.11it/s]\n"
     ]
    },
    {
     "name": "stdout",
     "output_type": "stream",
     "text": [
      "Epoch : 170 - Train_loss : 0.0007 - Train_Acc: 1.0000 - Val_loss : 0.3370 - Val_Acc: 0.5417  - Time: 11.376948356628418\n",
      "\n"
     ]
    },
    {
     "name": "stderr",
     "output_type": "stream",
     "text": [
      "100%|█████████████████████████████████████████████| 9/9 [00:08<00:00,  1.06it/s]\n",
      "100%|█████████████████████████████████████████████| 4/4 [00:03<00:00,  1.02it/s]\n"
     ]
    },
    {
     "name": "stdout",
     "output_type": "stream",
     "text": [
      "Epoch : 171 - Train_loss : 0.0005 - Train_Acc: 1.0000 - Val_loss : 0.3408 - Val_Acc: 0.5417  - Time: 12.422858953475952\n",
      "\n"
     ]
    },
    {
     "name": "stderr",
     "output_type": "stream",
     "text": [
      "100%|█████████████████████████████████████████████| 9/9 [00:08<00:00,  1.06it/s]\n",
      "100%|█████████████████████████████████████████████| 4/4 [00:03<00:00,  1.03it/s]\n"
     ]
    },
    {
     "name": "stdout",
     "output_type": "stream",
     "text": [
      "Epoch : 172 - Train_loss : 0.0002 - Train_Acc: 1.0000 - Val_loss : 0.3422 - Val_Acc: 0.5417  - Time: 12.377288341522217\n",
      "\n"
     ]
    },
    {
     "name": "stderr",
     "output_type": "stream",
     "text": [
      "100%|█████████████████████████████████████████████| 9/9 [00:09<00:00,  1.06s/it]\n",
      "100%|█████████████████████████████████████████████| 4/4 [00:03<00:00,  1.17it/s]\n"
     ]
    },
    {
     "name": "stdout",
     "output_type": "stream",
     "text": [
      "Epoch : 173 - Train_loss : 0.0002 - Train_Acc: 1.0000 - Val_loss : 0.3419 - Val_Acc: 0.5417  - Time: 12.941534757614136\n",
      "\n"
     ]
    },
    {
     "name": "stderr",
     "output_type": "stream",
     "text": [
      "100%|█████████████████████████████████████████████| 9/9 [00:08<00:00,  1.05it/s]\n",
      "100%|█████████████████████████████████████████████| 4/4 [00:03<00:00,  1.22it/s]\n"
     ]
    },
    {
     "name": "stdout",
     "output_type": "stream",
     "text": [
      "Epoch : 174 - Train_loss : 0.0001 - Train_Acc: 1.0000 - Val_loss : 0.3413 - Val_Acc: 0.5583  - Time: 11.849341630935669\n",
      "\n"
     ]
    },
    {
     "name": "stderr",
     "output_type": "stream",
     "text": [
      "100%|█████████████████████████████████████████████| 9/9 [00:07<00:00,  1.16it/s]\n",
      "100%|█████████████████████████████████████████████| 4/4 [00:03<00:00,  1.18it/s]\n"
     ]
    },
    {
     "name": "stdout",
     "output_type": "stream",
     "text": [
      "Epoch : 175 - Train_loss : 0.0002 - Train_Acc: 1.0000 - Val_loss : 0.3406 - Val_Acc: 0.5583  - Time: 11.193901062011719\n",
      "\n"
     ]
    },
    {
     "name": "stderr",
     "output_type": "stream",
     "text": [
      "100%|█████████████████████████████████████████████| 9/9 [00:07<00:00,  1.25it/s]\n",
      "100%|█████████████████████████████████████████████| 4/4 [00:03<00:00,  1.17it/s]\n"
     ]
    },
    {
     "name": "stdout",
     "output_type": "stream",
     "text": [
      "Epoch : 176 - Train_loss : 0.0003 - Train_Acc: 1.0000 - Val_loss : 0.3399 - Val_Acc: 0.5667  - Time: 10.620266675949097\n",
      "\n"
     ]
    },
    {
     "name": "stderr",
     "output_type": "stream",
     "text": [
      "100%|█████████████████████████████████████████████| 9/9 [00:07<00:00,  1.16it/s]\n",
      "100%|█████████████████████████████████████████████| 4/4 [00:03<00:00,  1.14it/s]\n"
     ]
    },
    {
     "name": "stdout",
     "output_type": "stream",
     "text": [
      "Epoch : 177 - Train_loss : 0.0003 - Train_Acc: 1.0000 - Val_loss : 0.3395 - Val_Acc: 0.5667  - Time: 11.257638216018677\n",
      "\n"
     ]
    },
    {
     "name": "stderr",
     "output_type": "stream",
     "text": [
      "100%|█████████████████████████████████████████████| 9/9 [00:07<00:00,  1.13it/s]\n",
      "100%|█████████████████████████████████████████████| 4/4 [00:03<00:00,  1.01it/s]\n"
     ]
    },
    {
     "name": "stdout",
     "output_type": "stream",
     "text": [
      "Epoch : 178 - Train_loss : 0.0004 - Train_Acc: 1.0000 - Val_loss : 0.3390 - Val_Acc: 0.5667  - Time: 11.950066566467285\n",
      "\n"
     ]
    },
    {
     "name": "stderr",
     "output_type": "stream",
     "text": [
      "100%|█████████████████████████████████████████████| 9/9 [00:07<00:00,  1.18it/s]\n",
      "100%|█████████████████████████████████████████████| 4/4 [00:03<00:00,  1.05it/s]\n"
     ]
    },
    {
     "name": "stdout",
     "output_type": "stream",
     "text": [
      "Epoch : 179 - Train_loss : 0.0002 - Train_Acc: 1.0000 - Val_loss : 0.3385 - Val_Acc: 0.5583  - Time: 11.467026948928833\n",
      "\n"
     ]
    },
    {
     "name": "stderr",
     "output_type": "stream",
     "text": [
      "100%|█████████████████████████████████████████████| 9/9 [00:08<00:00,  1.09it/s]\n",
      "100%|█████████████████████████████████████████████| 4/4 [00:03<00:00,  1.14it/s]\n"
     ]
    },
    {
     "name": "stdout",
     "output_type": "stream",
     "text": [
      "Epoch : 180 - Train_loss : 0.0001 - Train_Acc: 1.0000 - Val_loss : 0.3381 - Val_Acc: 0.5583  - Time: 11.77367353439331\n",
      "\n"
     ]
    },
    {
     "name": "stderr",
     "output_type": "stream",
     "text": [
      "100%|█████████████████████████████████████████████| 9/9 [00:07<00:00,  1.16it/s]\n",
      "100%|█████████████████████████████████████████████| 4/4 [00:03<00:00,  1.21it/s]\n"
     ]
    },
    {
     "name": "stdout",
     "output_type": "stream",
     "text": [
      "Epoch : 181 - Train_loss : 0.0003 - Train_Acc: 1.0000 - Val_loss : 0.3372 - Val_Acc: 0.5500  - Time: 11.089447736740112\n",
      "\n"
     ]
    },
    {
     "name": "stderr",
     "output_type": "stream",
     "text": [
      "100%|█████████████████████████████████████████████| 9/9 [00:07<00:00,  1.16it/s]\n",
      "100%|█████████████████████████████████████████████| 4/4 [00:03<00:00,  1.16it/s]\n"
     ]
    },
    {
     "name": "stdout",
     "output_type": "stream",
     "text": [
      "Epoch : 182 - Train_loss : 0.0003 - Train_Acc: 1.0000 - Val_loss : 0.3370 - Val_Acc: 0.5417  - Time: 11.2200186252594\n",
      "\n"
     ]
    },
    {
     "name": "stderr",
     "output_type": "stream",
     "text": [
      "100%|█████████████████████████████████████████████| 9/9 [00:07<00:00,  1.15it/s]\n",
      "100%|█████████████████████████████████████████████| 4/4 [00:03<00:00,  1.18it/s]\n"
     ]
    },
    {
     "name": "stdout",
     "output_type": "stream",
     "text": [
      "Epoch : 183 - Train_loss : 0.0002 - Train_Acc: 1.0000 - Val_loss : 0.3373 - Val_Acc: 0.5417  - Time: 11.200442790985107\n",
      "\n"
     ]
    },
    {
     "name": "stderr",
     "output_type": "stream",
     "text": [
      "100%|█████████████████████████████████████████████| 9/9 [00:07<00:00,  1.23it/s]\n",
      "100%|█████████████████████████████████████████████| 4/4 [00:03<00:00,  1.04it/s]\n"
     ]
    },
    {
     "name": "stdout",
     "output_type": "stream",
     "text": [
      "Epoch : 184 - Train_loss : 0.0001 - Train_Acc: 1.0000 - Val_loss : 0.3373 - Val_Acc: 0.5500  - Time: 11.185934782028198\n",
      "\n"
     ]
    },
    {
     "name": "stderr",
     "output_type": "stream",
     "text": [
      "100%|█████████████████████████████████████████████| 9/9 [00:07<00:00,  1.20it/s]\n",
      "100%|█████████████████████████████████████████████| 4/4 [00:03<00:00,  1.03it/s]\n"
     ]
    },
    {
     "name": "stdout",
     "output_type": "stream",
     "text": [
      "Epoch : 185 - Train_loss : 0.0003 - Train_Acc: 1.0000 - Val_loss : 0.3383 - Val_Acc: 0.5500  - Time: 11.372734308242798\n",
      "\n"
     ]
    },
    {
     "name": "stderr",
     "output_type": "stream",
     "text": [
      "100%|█████████████████████████████████████████████| 9/9 [00:08<00:00,  1.05it/s]\n",
      "100%|█████████████████████████████████████████████| 4/4 [00:03<00:00,  1.12it/s]\n"
     ]
    },
    {
     "name": "stdout",
     "output_type": "stream",
     "text": [
      "Epoch : 186 - Train_loss : 0.0003 - Train_Acc: 1.0000 - Val_loss : 0.3387 - Val_Acc: 0.5500  - Time: 12.185186624526978\n",
      "\n"
     ]
    },
    {
     "name": "stderr",
     "output_type": "stream",
     "text": [
      "100%|█████████████████████████████████████████████| 9/9 [00:08<00:00,  1.05it/s]\n",
      "100%|█████████████████████████████████████████████| 4/4 [00:03<00:00,  1.07it/s]\n"
     ]
    },
    {
     "name": "stdout",
     "output_type": "stream",
     "text": [
      "Epoch : 187 - Train_loss : 0.0003 - Train_Acc: 1.0000 - Val_loss : 0.3373 - Val_Acc: 0.5500  - Time: 12.336677551269531\n",
      "\n"
     ]
    },
    {
     "name": "stderr",
     "output_type": "stream",
     "text": [
      "100%|█████████████████████████████████████████████| 9/9 [00:08<00:00,  1.04it/s]\n",
      "100%|█████████████████████████████████████████████| 4/4 [00:03<00:00,  1.14it/s]\n"
     ]
    },
    {
     "name": "stdout",
     "output_type": "stream",
     "text": [
      "Epoch : 188 - Train_loss : 0.0001 - Train_Acc: 1.0000 - Val_loss : 0.3370 - Val_Acc: 0.5500  - Time: 12.1885244846344\n",
      "\n"
     ]
    },
    {
     "name": "stderr",
     "output_type": "stream",
     "text": [
      "100%|█████████████████████████████████████████████| 9/9 [00:07<00:00,  1.14it/s]\n",
      "100%|█████████████████████████████████████████████| 4/4 [00:03<00:00,  1.03it/s]\n"
     ]
    },
    {
     "name": "stdout",
     "output_type": "stream",
     "text": [
      "Epoch : 189 - Train_loss : 0.0003 - Train_Acc: 1.0000 - Val_loss : 0.3357 - Val_Acc: 0.5500  - Time: 11.778835773468018\n",
      "\n"
     ]
    },
    {
     "name": "stderr",
     "output_type": "stream",
     "text": [
      "100%|█████████████████████████████████████████████| 9/9 [00:07<00:00,  1.17it/s]\n",
      "100%|█████████████████████████████████████████████| 4/4 [00:03<00:00,  1.10it/s]\n"
     ]
    },
    {
     "name": "stdout",
     "output_type": "stream",
     "text": [
      "Epoch : 190 - Train_loss : 0.0002 - Train_Acc: 1.0000 - Val_loss : 0.3330 - Val_Acc: 0.5500  - Time: 11.358405113220215\n",
      "\n"
     ]
    },
    {
     "name": "stderr",
     "output_type": "stream",
     "text": [
      "100%|█████████████████████████████████████████████| 9/9 [00:08<00:00,  1.11it/s]\n",
      "100%|█████████████████████████████████████████████| 4/4 [00:03<00:00,  1.17it/s]\n"
     ]
    },
    {
     "name": "stdout",
     "output_type": "stream",
     "text": [
      "Epoch : 191 - Train_loss : 0.0003 - Train_Acc: 1.0000 - Val_loss : 0.3325 - Val_Acc: 0.5500  - Time: 11.549568891525269\n",
      "\n"
     ]
    },
    {
     "name": "stderr",
     "output_type": "stream",
     "text": [
      "100%|█████████████████████████████████████████████| 9/9 [00:09<00:00,  1.03s/it]\n",
      "100%|█████████████████████████████████████████████| 4/4 [00:04<00:00,  1.11s/it]\n"
     ]
    },
    {
     "name": "stdout",
     "output_type": "stream",
     "text": [
      "Epoch : 192 - Train_loss : 0.0002 - Train_Acc: 1.0000 - Val_loss : 0.3326 - Val_Acc: 0.5500  - Time: 13.6770601272583\n",
      "\n"
     ]
    },
    {
     "name": "stderr",
     "output_type": "stream",
     "text": [
      "100%|█████████████████████████████████████████████| 9/9 [00:09<00:00,  1.08s/it]\n",
      "100%|█████████████████████████████████████████████| 4/4 [00:03<00:00,  1.10it/s]\n"
     ]
    },
    {
     "name": "stdout",
     "output_type": "stream",
     "text": [
      "Epoch : 193 - Train_loss : 0.0001 - Train_Acc: 1.0000 - Val_loss : 0.3330 - Val_Acc: 0.5500  - Time: 13.398455142974854\n",
      "\n"
     ]
    },
    {
     "name": "stderr",
     "output_type": "stream",
     "text": [
      "100%|█████████████████████████████████████████████| 9/9 [00:07<00:00,  1.22it/s]\n",
      "100%|█████████████████████████████████████████████| 4/4 [00:03<00:00,  1.17it/s]\n"
     ]
    },
    {
     "name": "stdout",
     "output_type": "stream",
     "text": [
      "Epoch : 194 - Train_loss : 0.0002 - Train_Acc: 1.0000 - Val_loss : 0.3336 - Val_Acc: 0.5500  - Time: 10.797044038772583\n",
      "\n"
     ]
    },
    {
     "name": "stderr",
     "output_type": "stream",
     "text": [
      "100%|█████████████████████████████████████████████| 9/9 [00:07<00:00,  1.18it/s]\n",
      "100%|█████████████████████████████████████████████| 4/4 [00:03<00:00,  1.28it/s]\n"
     ]
    },
    {
     "name": "stdout",
     "output_type": "stream",
     "text": [
      "Epoch : 195 - Train_loss : 0.0002 - Train_Acc: 1.0000 - Val_loss : 0.3346 - Val_Acc: 0.5500  - Time: 10.72282862663269\n",
      "\n"
     ]
    },
    {
     "name": "stderr",
     "output_type": "stream",
     "text": [
      "100%|█████████████████████████████████████████████| 9/9 [00:07<00:00,  1.13it/s]\n",
      "100%|█████████████████████████████████████████████| 4/4 [00:03<00:00,  1.26it/s]\n"
     ]
    },
    {
     "name": "stdout",
     "output_type": "stream",
     "text": [
      "Epoch : 196 - Train_loss : 0.0003 - Train_Acc: 1.0000 - Val_loss : 0.3362 - Val_Acc: 0.5417  - Time: 11.143965005874634\n",
      "\n"
     ]
    },
    {
     "name": "stderr",
     "output_type": "stream",
     "text": [
      "100%|█████████████████████████████████████████████| 9/9 [00:08<00:00,  1.04it/s]\n",
      "100%|█████████████████████████████████████████████| 4/4 [00:03<00:00,  1.11it/s]\n"
     ]
    },
    {
     "name": "stdout",
     "output_type": "stream",
     "text": [
      "Epoch : 197 - Train_loss : 0.0004 - Train_Acc: 1.0000 - Val_loss : 0.3392 - Val_Acc: 0.5417  - Time: 12.243278741836548\n",
      "\n"
     ]
    },
    {
     "name": "stderr",
     "output_type": "stream",
     "text": [
      "100%|█████████████████████████████████████████████| 9/9 [00:07<00:00,  1.24it/s]\n",
      "100%|█████████████████████████████████████████████| 4/4 [00:03<00:00,  1.20it/s]\n"
     ]
    },
    {
     "name": "stdout",
     "output_type": "stream",
     "text": [
      "Epoch : 198 - Train_loss : 0.0002 - Train_Acc: 1.0000 - Val_loss : 0.3383 - Val_Acc: 0.5417  - Time: 10.624868154525757\n",
      "\n"
     ]
    },
    {
     "name": "stderr",
     "output_type": "stream",
     "text": [
      "100%|█████████████████████████████████████████████| 9/9 [00:07<00:00,  1.26it/s]\n",
      "100%|█████████████████████████████████████████████| 4/4 [00:03<00:00,  1.17it/s]\n"
     ]
    },
    {
     "name": "stdout",
     "output_type": "stream",
     "text": [
      "Epoch : 199 - Train_loss : 0.0002 - Train_Acc: 1.0000 - Val_loss : 0.3369 - Val_Acc: 0.5417  - Time: 10.554383277893066\n",
      "\n"
     ]
    },
    {
     "name": "stderr",
     "output_type": "stream",
     "text": [
      "100%|█████████████████████████████████████████████| 9/9 [00:07<00:00,  1.25it/s]\n",
      "100%|█████████████████████████████████████████████| 4/4 [00:03<00:00,  1.09it/s]\n"
     ]
    },
    {
     "name": "stdout",
     "output_type": "stream",
     "text": [
      "Epoch : 200 - Train_loss : 0.0001 - Train_Acc: 1.0000 - Val_loss : 0.3363 - Val_Acc: 0.5417  - Time: 10.83408236503601\n",
      "\n"
     ]
    },
    {
     "name": "stderr",
     "output_type": "stream",
     "text": [
      "100%|█████████████████████████████████████████████| 9/9 [00:07<00:00,  1.21it/s]\n",
      "100%|█████████████████████████████████████████████| 4/4 [00:03<00:00,  1.15it/s]\n"
     ]
    },
    {
     "name": "stdout",
     "output_type": "stream",
     "text": [
      "Epoch : 201 - Train_loss : 0.0001 - Train_Acc: 1.0000 - Val_loss : 0.3357 - Val_Acc: 0.5333  - Time: 10.908219814300537\n",
      "\n"
     ]
    },
    {
     "name": "stderr",
     "output_type": "stream",
     "text": [
      "100%|█████████████████████████████████████████████| 9/9 [00:07<00:00,  1.28it/s]\n",
      "100%|█████████████████████████████████████████████| 4/4 [00:03<00:00,  1.04it/s]\n"
     ]
    },
    {
     "name": "stdout",
     "output_type": "stream",
     "text": [
      "Epoch : 202 - Train_loss : 0.0001 - Train_Acc: 1.0000 - Val_loss : 0.3356 - Val_Acc: 0.5333  - Time: 10.89652395248413\n",
      "\n"
     ]
    },
    {
     "name": "stderr",
     "output_type": "stream",
     "text": [
      "100%|█████████████████████████████████████████████| 9/9 [00:07<00:00,  1.20it/s]\n",
      "100%|█████████████████████████████████████████████| 4/4 [00:03<00:00,  1.15it/s]\n"
     ]
    },
    {
     "name": "stdout",
     "output_type": "stream",
     "text": [
      "Epoch : 203 - Train_loss : 0.0001 - Train_Acc: 1.0000 - Val_loss : 0.3356 - Val_Acc: 0.5333  - Time: 10.983747482299805\n",
      "\n"
     ]
    },
    {
     "name": "stderr",
     "output_type": "stream",
     "text": [
      "100%|█████████████████████████████████████████████| 9/9 [00:07<00:00,  1.27it/s]\n",
      "100%|█████████████████████████████████████████████| 4/4 [00:03<00:00,  1.12it/s]\n"
     ]
    },
    {
     "name": "stdout",
     "output_type": "stream",
     "text": [
      "Epoch : 204 - Train_loss : 0.0002 - Train_Acc: 1.0000 - Val_loss : 0.3352 - Val_Acc: 0.5333  - Time: 10.655016660690308\n",
      "\n"
     ]
    },
    {
     "name": "stderr",
     "output_type": "stream",
     "text": [
      "100%|█████████████████████████████████████████████| 9/9 [00:07<00:00,  1.18it/s]\n",
      "100%|█████████████████████████████████████████████| 4/4 [00:03<00:00,  1.24it/s]\n"
     ]
    },
    {
     "name": "stdout",
     "output_type": "stream",
     "text": [
      "Epoch : 205 - Train_loss : 0.0002 - Train_Acc: 1.0000 - Val_loss : 0.3345 - Val_Acc: 0.5333  - Time: 10.873122453689575\n",
      "\n"
     ]
    },
    {
     "name": "stderr",
     "output_type": "stream",
     "text": [
      "100%|█████████████████████████████████████████████| 9/9 [00:07<00:00,  1.27it/s]\n",
      "100%|█████████████████████████████████████████████| 4/4 [00:03<00:00,  1.31it/s]\n"
     ]
    },
    {
     "name": "stdout",
     "output_type": "stream",
     "text": [
      "Epoch : 206 - Train_loss : 0.0005 - Train_Acc: 1.0000 - Val_loss : 0.3355 - Val_Acc: 0.5333  - Time: 10.171534776687622\n",
      "\n"
     ]
    },
    {
     "name": "stderr",
     "output_type": "stream",
     "text": [
      "100%|█████████████████████████████████████████████| 9/9 [00:07<00:00,  1.24it/s]\n",
      "100%|█████████████████████████████████████████████| 4/4 [00:03<00:00,  1.25it/s]\n"
     ]
    },
    {
     "name": "stdout",
     "output_type": "stream",
     "text": [
      "Epoch : 207 - Train_loss : 0.0001 - Train_Acc: 1.0000 - Val_loss : 0.3387 - Val_Acc: 0.5333  - Time: 10.465737104415894\n",
      "\n"
     ]
    },
    {
     "name": "stderr",
     "output_type": "stream",
     "text": [
      "100%|█████████████████████████████████████████████| 9/9 [00:07<00:00,  1.27it/s]\n",
      "100%|█████████████████████████████████████████████| 4/4 [00:03<00:00,  1.27it/s]\n"
     ]
    },
    {
     "name": "stdout",
     "output_type": "stream",
     "text": [
      "Epoch : 208 - Train_loss : 0.0001 - Train_Acc: 1.0000 - Val_loss : 0.3394 - Val_Acc: 0.5333  - Time: 10.269848585128784\n",
      "\n"
     ]
    },
    {
     "name": "stderr",
     "output_type": "stream",
     "text": [
      "100%|█████████████████████████████████████████████| 9/9 [00:07<00:00,  1.24it/s]\n",
      "100%|█████████████████████████████████████████████| 4/4 [00:03<00:00,  1.25it/s]\n"
     ]
    },
    {
     "name": "stdout",
     "output_type": "stream",
     "text": [
      "Epoch : 209 - Train_loss : 0.0001 - Train_Acc: 1.0000 - Val_loss : 0.3392 - Val_Acc: 0.5333  - Time: 10.44297194480896\n",
      "\n"
     ]
    },
    {
     "name": "stderr",
     "output_type": "stream",
     "text": [
      "100%|█████████████████████████████████████████████| 9/9 [00:07<00:00,  1.13it/s]\n",
      "100%|█████████████████████████████████████████████| 4/4 [00:03<00:00,  1.14it/s]\n"
     ]
    },
    {
     "name": "stdout",
     "output_type": "stream",
     "text": [
      "Epoch : 210 - Train_loss : 0.0001 - Train_Acc: 1.0000 - Val_loss : 0.3388 - Val_Acc: 0.5333  - Time: 11.486827850341797\n",
      "\n"
     ]
    },
    {
     "name": "stderr",
     "output_type": "stream",
     "text": [
      "100%|█████████████████████████████████████████████| 9/9 [00:07<00:00,  1.20it/s]\n",
      "100%|█████████████████████████████████████████████| 4/4 [00:03<00:00,  1.21it/s]\n"
     ]
    },
    {
     "name": "stdout",
     "output_type": "stream",
     "text": [
      "Epoch : 211 - Train_loss : 0.0002 - Train_Acc: 1.0000 - Val_loss : 0.3381 - Val_Acc: 0.5333  - Time: 10.816996097564697\n",
      "\n"
     ]
    },
    {
     "name": "stderr",
     "output_type": "stream",
     "text": [
      "100%|█████████████████████████████████████████████| 9/9 [00:06<00:00,  1.30it/s]\n",
      "100%|█████████████████████████████████████████████| 4/4 [00:03<00:00,  1.16it/s]\n"
     ]
    },
    {
     "name": "stdout",
     "output_type": "stream",
     "text": [
      "Epoch : 212 - Train_loss : 0.0001 - Train_Acc: 1.0000 - Val_loss : 0.3375 - Val_Acc: 0.5333  - Time: 10.369243621826172\n",
      "\n"
     ]
    },
    {
     "name": "stderr",
     "output_type": "stream",
     "text": [
      "100%|█████████████████████████████████████████████| 9/9 [00:07<00:00,  1.20it/s]\n",
      "100%|█████████████████████████████████████████████| 4/4 [00:03<00:00,  1.12it/s]\n"
     ]
    },
    {
     "name": "stdout",
     "output_type": "stream",
     "text": [
      "Epoch : 213 - Train_loss : 0.0001 - Train_Acc: 1.0000 - Val_loss : 0.3370 - Val_Acc: 0.5333  - Time: 11.09872031211853\n",
      "\n"
     ]
    },
    {
     "name": "stderr",
     "output_type": "stream",
     "text": [
      "100%|█████████████████████████████████████████████| 9/9 [00:07<00:00,  1.24it/s]\n",
      "100%|█████████████████████████████████████████████| 4/4 [00:03<00:00,  1.15it/s]\n"
     ]
    },
    {
     "name": "stdout",
     "output_type": "stream",
     "text": [
      "Epoch : 214 - Train_loss : 0.0002 - Train_Acc: 1.0000 - Val_loss : 0.3356 - Val_Acc: 0.5333  - Time: 10.736969470977783\n",
      "\n"
     ]
    },
    {
     "name": "stderr",
     "output_type": "stream",
     "text": [
      "100%|█████████████████████████████████████████████| 9/9 [00:07<00:00,  1.27it/s]\n",
      "100%|█████████████████████████████████████████████| 4/4 [00:03<00:00,  1.16it/s]\n"
     ]
    },
    {
     "name": "stdout",
     "output_type": "stream",
     "text": [
      "Epoch : 215 - Train_loss : 0.0001 - Train_Acc: 1.0000 - Val_loss : 0.3338 - Val_Acc: 0.5333  - Time: 10.504951000213623\n",
      "\n"
     ]
    },
    {
     "name": "stderr",
     "output_type": "stream",
     "text": [
      "100%|█████████████████████████████████████████████| 9/9 [00:06<00:00,  1.31it/s]\n",
      "100%|█████████████████████████████████████████████| 4/4 [00:03<00:00,  1.15it/s]\n"
     ]
    },
    {
     "name": "stdout",
     "output_type": "stream",
     "text": [
      "Epoch : 216 - Train_loss : 0.0003 - Train_Acc: 1.0000 - Val_loss : 0.3320 - Val_Acc: 0.5333  - Time: 10.351806879043579\n",
      "\n"
     ]
    },
    {
     "name": "stderr",
     "output_type": "stream",
     "text": [
      "100%|█████████████████████████████████████████████| 9/9 [00:07<00:00,  1.23it/s]\n",
      "100%|█████████████████████████████████████████████| 4/4 [00:03<00:00,  1.03it/s]\n"
     ]
    },
    {
     "name": "stdout",
     "output_type": "stream",
     "text": [
      "Epoch : 217 - Train_loss : 0.0002 - Train_Acc: 1.0000 - Val_loss : 0.3306 - Val_Acc: 0.5417  - Time: 11.1779305934906\n",
      "\n"
     ]
    },
    {
     "name": "stderr",
     "output_type": "stream",
     "text": [
      "100%|█████████████████████████████████████████████| 9/9 [00:07<00:00,  1.25it/s]\n",
      "100%|█████████████████████████████████████████████| 4/4 [00:03<00:00,  1.11it/s]\n"
     ]
    },
    {
     "name": "stdout",
     "output_type": "stream",
     "text": [
      "Epoch : 218 - Train_loss : 0.0001 - Train_Acc: 1.0000 - Val_loss : 0.3283 - Val_Acc: 0.5417  - Time: 10.808087587356567\n",
      "\n"
     ]
    },
    {
     "name": "stderr",
     "output_type": "stream",
     "text": [
      "100%|█████████████████████████████████████████████| 9/9 [00:07<00:00,  1.26it/s]\n",
      "100%|█████████████████████████████████████████████| 4/4 [00:03<00:00,  1.18it/s]\n"
     ]
    },
    {
     "name": "stdout",
     "output_type": "stream",
     "text": [
      "Epoch : 219 - Train_loss : 0.0002 - Train_Acc: 1.0000 - Val_loss : 0.3268 - Val_Acc: 0.5417  - Time: 10.535143613815308\n",
      "\n"
     ]
    },
    {
     "name": "stderr",
     "output_type": "stream",
     "text": [
      "100%|█████████████████████████████████████████████| 9/9 [00:07<00:00,  1.19it/s]\n",
      "100%|█████████████████████████████████████████████| 4/4 [00:03<00:00,  1.27it/s]\n"
     ]
    },
    {
     "name": "stdout",
     "output_type": "stream",
     "text": [
      "Epoch : 220 - Train_loss : 0.0003 - Train_Acc: 1.0000 - Val_loss : 0.3262 - Val_Acc: 0.5417  - Time: 10.703750848770142\n",
      "\n"
     ]
    },
    {
     "name": "stderr",
     "output_type": "stream",
     "text": [
      "100%|█████████████████████████████████████████████| 9/9 [00:07<00:00,  1.22it/s]\n",
      "100%|█████████████████████████████████████████████| 4/4 [00:03<00:00,  1.23it/s]\n"
     ]
    },
    {
     "name": "stdout",
     "output_type": "stream",
     "text": [
      "Epoch : 221 - Train_loss : 0.0002 - Train_Acc: 1.0000 - Val_loss : 0.3245 - Val_Acc: 0.5417  - Time: 10.63669490814209\n",
      "\n"
     ]
    },
    {
     "name": "stderr",
     "output_type": "stream",
     "text": [
      "100%|█████████████████████████████████████████████| 9/9 [00:07<00:00,  1.20it/s]\n",
      "100%|█████████████████████████████████████████████| 4/4 [00:03<00:00,  1.17it/s]\n"
     ]
    },
    {
     "name": "stdout",
     "output_type": "stream",
     "text": [
      "Epoch : 222 - Train_loss : 0.0001 - Train_Acc: 1.0000 - Val_loss : 0.3236 - Val_Acc: 0.5333  - Time: 10.937209844589233\n",
      "\n"
     ]
    },
    {
     "name": "stderr",
     "output_type": "stream",
     "text": [
      "100%|█████████████████████████████████████████████| 9/9 [00:07<00:00,  1.18it/s]\n",
      "100%|█████████████████████████████████████████████| 4/4 [00:03<00:00,  1.22it/s]\n"
     ]
    },
    {
     "name": "stdout",
     "output_type": "stream",
     "text": [
      "Epoch : 223 - Train_loss : 0.0001 - Train_Acc: 1.0000 - Val_loss : 0.3235 - Val_Acc: 0.5333  - Time: 10.910416841506958\n",
      "\n"
     ]
    },
    {
     "name": "stderr",
     "output_type": "stream",
     "text": [
      "100%|█████████████████████████████████████████████| 9/9 [00:07<00:00,  1.22it/s]\n",
      "100%|█████████████████████████████████████████████| 4/4 [00:03<00:00,  1.10it/s]\n"
     ]
    },
    {
     "name": "stdout",
     "output_type": "stream",
     "text": [
      "Epoch : 224 - Train_loss : 0.0001 - Train_Acc: 1.0000 - Val_loss : 0.3239 - Val_Acc: 0.5333  - Time: 11.016452550888062\n",
      "\n"
     ]
    },
    {
     "name": "stderr",
     "output_type": "stream",
     "text": [
      "100%|█████████████████████████████████████████████| 9/9 [00:07<00:00,  1.16it/s]\n",
      "100%|█████████████████████████████████████████████| 4/4 [00:03<00:00,  1.21it/s]\n"
     ]
    },
    {
     "name": "stdout",
     "output_type": "stream",
     "text": [
      "Epoch : 225 - Train_loss : 0.0001 - Train_Acc: 1.0000 - Val_loss : 0.3251 - Val_Acc: 0.5500  - Time: 11.044417142868042\n",
      "\n"
     ]
    },
    {
     "name": "stderr",
     "output_type": "stream",
     "text": [
      "100%|█████████████████████████████████████████████| 9/9 [00:07<00:00,  1.25it/s]\n",
      "100%|█████████████████████████████████████████████| 4/4 [00:03<00:00,  1.22it/s]\n"
     ]
    },
    {
     "name": "stdout",
     "output_type": "stream",
     "text": [
      "Epoch : 226 - Train_loss : 0.0001 - Train_Acc: 1.0000 - Val_loss : 0.3257 - Val_Acc: 0.5500  - Time: 10.476173877716064\n",
      "\n"
     ]
    },
    {
     "name": "stderr",
     "output_type": "stream",
     "text": [
      "100%|█████████████████████████████████████████████| 9/9 [00:07<00:00,  1.24it/s]\n",
      "100%|█████████████████████████████████████████████| 4/4 [00:03<00:00,  1.19it/s]\n"
     ]
    },
    {
     "name": "stdout",
     "output_type": "stream",
     "text": [
      "Epoch : 227 - Train_loss : 0.0001 - Train_Acc: 1.0000 - Val_loss : 0.3254 - Val_Acc: 0.5500  - Time: 10.631835222244263\n",
      "\n"
     ]
    },
    {
     "name": "stderr",
     "output_type": "stream",
     "text": [
      "100%|█████████████████████████████████████████████| 9/9 [00:07<00:00,  1.25it/s]\n",
      "100%|█████████████████████████████████████████████| 4/4 [00:03<00:00,  1.11it/s]\n"
     ]
    },
    {
     "name": "stdout",
     "output_type": "stream",
     "text": [
      "Epoch : 228 - Train_loss : 0.0003 - Train_Acc: 1.0000 - Val_loss : 0.3244 - Val_Acc: 0.5500  - Time: 10.769497156143188\n",
      "\n"
     ]
    },
    {
     "name": "stderr",
     "output_type": "stream",
     "text": [
      "100%|█████████████████████████████████████████████| 9/9 [00:06<00:00,  1.29it/s]\n",
      "100%|█████████████████████████████████████████████| 4/4 [00:03<00:00,  1.11it/s]\n"
     ]
    },
    {
     "name": "stdout",
     "output_type": "stream",
     "text": [
      "Epoch : 229 - Train_loss : 0.0001 - Train_Acc: 1.0000 - Val_loss : 0.3239 - Val_Acc: 0.5500  - Time: 10.558143138885498\n",
      "\n"
     ]
    },
    {
     "name": "stderr",
     "output_type": "stream",
     "text": [
      "100%|█████████████████████████████████████████████| 9/9 [00:07<00:00,  1.24it/s]\n",
      "100%|█████████████████████████████████████████████| 4/4 [00:03<00:00,  1.12it/s]\n"
     ]
    },
    {
     "name": "stdout",
     "output_type": "stream",
     "text": [
      "Epoch : 230 - Train_loss : 0.0001 - Train_Acc: 1.0000 - Val_loss : 0.3241 - Val_Acc: 0.5417  - Time: 10.827512264251709\n",
      "\n"
     ]
    },
    {
     "name": "stderr",
     "output_type": "stream",
     "text": [
      "100%|█████████████████████████████████████████████| 9/9 [00:06<00:00,  1.29it/s]\n",
      "100%|█████████████████████████████████████████████| 4/4 [00:03<00:00,  1.01it/s]\n"
     ]
    },
    {
     "name": "stdout",
     "output_type": "stream",
     "text": [
      "Epoch : 231 - Train_loss : 0.0002 - Train_Acc: 1.0000 - Val_loss : 0.3249 - Val_Acc: 0.5417  - Time: 10.929697751998901\n",
      "\n"
     ]
    },
    {
     "name": "stderr",
     "output_type": "stream",
     "text": [
      "100%|█████████████████████████████████████████████| 9/9 [00:08<00:00,  1.10it/s]\n",
      "100%|█████████████████████████████████████████████| 4/4 [00:03<00:00,  1.18it/s]\n"
     ]
    },
    {
     "name": "stdout",
     "output_type": "stream",
     "text": [
      "Epoch : 232 - Train_loss : 0.0001 - Train_Acc: 1.0000 - Val_loss : 0.3254 - Val_Acc: 0.5417  - Time: 11.553238153457642\n",
      "\n"
     ]
    },
    {
     "name": "stderr",
     "output_type": "stream",
     "text": [
      "100%|█████████████████████████████████████████████| 9/9 [00:07<00:00,  1.21it/s]\n",
      "100%|█████████████████████████████████████████████| 4/4 [00:03<00:00,  1.24it/s]\n"
     ]
    },
    {
     "name": "stdout",
     "output_type": "stream",
     "text": [
      "Epoch : 233 - Train_loss : 0.0001 - Train_Acc: 1.0000 - Val_loss : 0.3257 - Val_Acc: 0.5417  - Time: 10.669973611831665\n",
      "\n"
     ]
    },
    {
     "name": "stderr",
     "output_type": "stream",
     "text": [
      "100%|█████████████████████████████████████████████| 9/9 [00:07<00:00,  1.13it/s]\n",
      "100%|█████████████████████████████████████████████| 4/4 [00:03<00:00,  1.19it/s]\n"
     ]
    },
    {
     "name": "stdout",
     "output_type": "stream",
     "text": [
      "Epoch : 234 - Train_loss : 0.0001 - Train_Acc: 1.0000 - Val_loss : 0.3258 - Val_Acc: 0.5417  - Time: 11.347926139831543\n",
      "\n"
     ]
    },
    {
     "name": "stderr",
     "output_type": "stream",
     "text": [
      "100%|█████████████████████████████████████████████| 9/9 [00:07<00:00,  1.15it/s]\n",
      "100%|█████████████████████████████████████████████| 4/4 [00:03<00:00,  1.15it/s]\n"
     ]
    },
    {
     "name": "stdout",
     "output_type": "stream",
     "text": [
      "Epoch : 235 - Train_loss : 0.0002 - Train_Acc: 1.0000 - Val_loss : 0.3262 - Val_Acc: 0.5417  - Time: 11.306674718856812\n",
      "\n"
     ]
    },
    {
     "name": "stderr",
     "output_type": "stream",
     "text": [
      "100%|█████████████████████████████████████████████| 9/9 [00:07<00:00,  1.18it/s]\n",
      "100%|█████████████████████████████████████████████| 4/4 [00:03<00:00,  1.20it/s]\n"
     ]
    },
    {
     "name": "stdout",
     "output_type": "stream",
     "text": [
      "Epoch : 236 - Train_loss : 0.0001 - Train_Acc: 1.0000 - Val_loss : 0.3271 - Val_Acc: 0.5417  - Time: 10.943492412567139\n",
      "\n"
     ]
    },
    {
     "name": "stderr",
     "output_type": "stream",
     "text": [
      "100%|█████████████████████████████████████████████| 9/9 [00:07<00:00,  1.15it/s]\n",
      "100%|█████████████████████████████████████████████| 4/4 [00:03<00:00,  1.11it/s]\n"
     ]
    },
    {
     "name": "stdout",
     "output_type": "stream",
     "text": [
      "Epoch : 237 - Train_loss : 0.0005 - Train_Acc: 1.0000 - Val_loss : 0.3265 - Val_Acc: 0.5417  - Time: 11.431174755096436\n",
      "\n"
     ]
    },
    {
     "name": "stderr",
     "output_type": "stream",
     "text": [
      "100%|█████████████████████████████████████████████| 9/9 [00:08<00:00,  1.12it/s]\n",
      "100%|█████████████████████████████████████████████| 4/4 [00:03<00:00,  1.15it/s]\n"
     ]
    },
    {
     "name": "stdout",
     "output_type": "stream",
     "text": [
      "Epoch : 238 - Train_loss : 0.0001 - Train_Acc: 1.0000 - Val_loss : 0.3265 - Val_Acc: 0.5417  - Time: 11.475467920303345\n",
      "\n"
     ]
    },
    {
     "name": "stderr",
     "output_type": "stream",
     "text": [
      "100%|█████████████████████████████████████████████| 9/9 [00:08<00:00,  1.12it/s]\n",
      "100%|█████████████████████████████████████████████| 4/4 [00:03<00:00,  1.04it/s]\n"
     ]
    },
    {
     "name": "stdout",
     "output_type": "stream",
     "text": [
      "Epoch : 239 - Train_loss : 0.0001 - Train_Acc: 1.0000 - Val_loss : 0.3274 - Val_Acc: 0.5417  - Time: 11.867920875549316\n",
      "\n"
     ]
    },
    {
     "name": "stderr",
     "output_type": "stream",
     "text": [
      "100%|█████████████████████████████████████████████| 9/9 [00:07<00:00,  1.24it/s]\n",
      "100%|█████████████████████████████████████████████| 4/4 [00:03<00:00,  1.14it/s]\n"
     ]
    },
    {
     "name": "stdout",
     "output_type": "stream",
     "text": [
      "Epoch : 240 - Train_loss : 0.0002 - Train_Acc: 1.0000 - Val_loss : 0.3298 - Val_Acc: 0.5417  - Time: 10.756267309188843\n",
      "\n"
     ]
    },
    {
     "name": "stderr",
     "output_type": "stream",
     "text": [
      "100%|█████████████████████████████████████████████| 9/9 [00:07<00:00,  1.26it/s]\n",
      "100%|█████████████████████████████████████████████| 4/4 [00:03<00:00,  1.12it/s]\n"
     ]
    },
    {
     "name": "stdout",
     "output_type": "stream",
     "text": [
      "Epoch : 241 - Train_loss : 0.0001 - Train_Acc: 1.0000 - Val_loss : 0.3304 - Val_Acc: 0.5417  - Time: 10.692655801773071\n",
      "\n"
     ]
    },
    {
     "name": "stderr",
     "output_type": "stream",
     "text": [
      "100%|█████████████████████████████████████████████| 9/9 [00:07<00:00,  1.26it/s]\n",
      "100%|█████████████████████████████████████████████| 4/4 [00:03<00:00,  1.12it/s]\n"
     ]
    },
    {
     "name": "stdout",
     "output_type": "stream",
     "text": [
      "Epoch : 242 - Train_loss : 0.0000 - Train_Acc: 1.0000 - Val_loss : 0.3307 - Val_Acc: 0.5417  - Time: 10.72985315322876\n",
      "\n"
     ]
    },
    {
     "name": "stderr",
     "output_type": "stream",
     "text": [
      "100%|█████████████████████████████████████████████| 9/9 [00:07<00:00,  1.23it/s]\n",
      "100%|█████████████████████████████████████████████| 4/4 [00:03<00:00,  1.13it/s]\n"
     ]
    },
    {
     "name": "stdout",
     "output_type": "stream",
     "text": [
      "Epoch : 243 - Train_loss : 0.0001 - Train_Acc: 1.0000 - Val_loss : 0.3306 - Val_Acc: 0.5417  - Time: 10.862383604049683\n",
      "\n"
     ]
    },
    {
     "name": "stderr",
     "output_type": "stream",
     "text": [
      "100%|█████████████████████████████████████████████| 9/9 [00:06<00:00,  1.30it/s]\n",
      "100%|█████████████████████████████████████████████| 4/4 [00:03<00:00,  1.21it/s]\n"
     ]
    },
    {
     "name": "stdout",
     "output_type": "stream",
     "text": [
      "Epoch : 244 - Train_loss : 0.0001 - Train_Acc: 1.0000 - Val_loss : 0.3309 - Val_Acc: 0.5417  - Time: 10.242035627365112\n",
      "\n"
     ]
    },
    {
     "name": "stderr",
     "output_type": "stream",
     "text": [
      "100%|█████████████████████████████████████████████| 9/9 [00:07<00:00,  1.27it/s]\n",
      "100%|█████████████████████████████████████████████| 4/4 [00:03<00:00,  1.21it/s]\n"
     ]
    },
    {
     "name": "stdout",
     "output_type": "stream",
     "text": [
      "Epoch : 245 - Train_loss : 0.0001 - Train_Acc: 1.0000 - Val_loss : 0.3311 - Val_Acc: 0.5417  - Time: 10.385903596878052\n",
      "\n"
     ]
    },
    {
     "name": "stderr",
     "output_type": "stream",
     "text": [
      "100%|█████████████████████████████████████████████| 9/9 [00:07<00:00,  1.20it/s]\n",
      "100%|█████████████████████████████████████████████| 4/4 [00:03<00:00,  1.11it/s]\n"
     ]
    },
    {
     "name": "stdout",
     "output_type": "stream",
     "text": [
      "Epoch : 246 - Train_loss : 0.0003 - Train_Acc: 1.0000 - Val_loss : 0.3320 - Val_Acc: 0.5417  - Time: 11.091872930526733\n",
      "\n"
     ]
    },
    {
     "name": "stderr",
     "output_type": "stream",
     "text": [
      "100%|█████████████████████████████████████████████| 9/9 [00:07<00:00,  1.22it/s]\n",
      "100%|█████████████████████████████████████████████| 4/4 [00:03<00:00,  1.29it/s]\n"
     ]
    },
    {
     "name": "stdout",
     "output_type": "stream",
     "text": [
      "Epoch : 247 - Train_loss : 0.0002 - Train_Acc: 1.0000 - Val_loss : 0.3328 - Val_Acc: 0.5333  - Time: 10.51371693611145\n",
      "\n"
     ]
    },
    {
     "name": "stderr",
     "output_type": "stream",
     "text": [
      "100%|█████████████████████████████████████████████| 9/9 [00:07<00:00,  1.26it/s]\n",
      "100%|█████████████████████████████████████████████| 4/4 [00:03<00:00,  1.32it/s]\n"
     ]
    },
    {
     "name": "stdout",
     "output_type": "stream",
     "text": [
      "Epoch : 248 - Train_loss : 0.0001 - Train_Acc: 1.0000 - Val_loss : 0.3321 - Val_Acc: 0.5333  - Time: 10.19894814491272\n",
      "\n"
     ]
    },
    {
     "name": "stderr",
     "output_type": "stream",
     "text": [
      "100%|█████████████████████████████████████████████| 9/9 [00:07<00:00,  1.15it/s]\n",
      "100%|█████████████████████████████████████████████| 4/4 [00:03<00:00,  1.32it/s]\n"
     ]
    },
    {
     "name": "stdout",
     "output_type": "stream",
     "text": [
      "Epoch : 249 - Train_loss : 0.0001 - Train_Acc: 1.0000 - Val_loss : 0.3320 - Val_Acc: 0.5333  - Time: 10.860952854156494\n",
      "\n"
     ]
    },
    {
     "name": "stderr",
     "output_type": "stream",
     "text": [
      "100%|█████████████████████████████████████████████| 9/9 [00:07<00:00,  1.19it/s]\n",
      "100%|█████████████████████████████████████████████| 4/4 [00:03<00:00,  1.21it/s]\n"
     ]
    },
    {
     "name": "stdout",
     "output_type": "stream",
     "text": [
      "Epoch : 250 - Train_loss : 0.0003 - Train_Acc: 1.0000 - Val_loss : 0.3323 - Val_Acc: 0.5333  - Time: 10.88438630104065\n",
      "\n"
     ]
    },
    {
     "name": "stderr",
     "output_type": "stream",
     "text": [
      "100%|█████████████████████████████████████████████| 9/9 [00:07<00:00,  1.18it/s]\n",
      "100%|█████████████████████████████████████████████| 4/4 [00:03<00:00,  1.20it/s]\n"
     ]
    },
    {
     "name": "stdout",
     "output_type": "stream",
     "text": [
      "Epoch : 251 - Train_loss : 0.0002 - Train_Acc: 1.0000 - Val_loss : 0.3324 - Val_Acc: 0.5333  - Time: 10.983737468719482\n",
      "\n"
     ]
    },
    {
     "name": "stderr",
     "output_type": "stream",
     "text": [
      "100%|█████████████████████████████████████████████| 9/9 [00:07<00:00,  1.19it/s]\n",
      "100%|█████████████████████████████████████████████| 4/4 [00:03<00:00,  1.19it/s]\n"
     ]
    },
    {
     "name": "stdout",
     "output_type": "stream",
     "text": [
      "Epoch : 252 - Train_loss : 0.0000 - Train_Acc: 1.0000 - Val_loss : 0.3327 - Val_Acc: 0.5333  - Time: 10.921168565750122\n",
      "\n"
     ]
    },
    {
     "name": "stderr",
     "output_type": "stream",
     "text": [
      "100%|█████████████████████████████████████████████| 9/9 [00:07<00:00,  1.22it/s]\n",
      "100%|█████████████████████████████████████████████| 4/4 [00:03<00:00,  1.07it/s]\n"
     ]
    },
    {
     "name": "stdout",
     "output_type": "stream",
     "text": [
      "Epoch : 253 - Train_loss : 0.0001 - Train_Acc: 1.0000 - Val_loss : 0.3331 - Val_Acc: 0.5333  - Time: 11.131770133972168\n",
      "\n"
     ]
    },
    {
     "name": "stderr",
     "output_type": "stream",
     "text": [
      "100%|█████████████████████████████████████████████| 9/9 [00:07<00:00,  1.13it/s]\n",
      "100%|█████████████████████████████████████████████| 4/4 [00:03<00:00,  1.09it/s]\n"
     ]
    },
    {
     "name": "stdout",
     "output_type": "stream",
     "text": [
      "Epoch : 254 - Train_loss : 0.0001 - Train_Acc: 1.0000 - Val_loss : 0.3333 - Val_Acc: 0.5333  - Time: 11.67004108428955\n",
      "\n"
     ]
    },
    {
     "name": "stderr",
     "output_type": "stream",
     "text": [
      "100%|█████████████████████████████████████████████| 9/9 [00:07<00:00,  1.23it/s]\n",
      "100%|█████████████████████████████████████████████| 4/4 [00:03<00:00,  1.15it/s]\n"
     ]
    },
    {
     "name": "stdout",
     "output_type": "stream",
     "text": [
      "Epoch : 255 - Train_loss : 0.0001 - Train_Acc: 1.0000 - Val_loss : 0.3332 - Val_Acc: 0.5333  - Time: 10.784063816070557\n",
      "\n"
     ]
    },
    {
     "name": "stderr",
     "output_type": "stream",
     "text": [
      "100%|█████████████████████████████████████████████| 9/9 [00:07<00:00,  1.26it/s]\n",
      "100%|█████████████████████████████████████████████| 4/4 [00:03<00:00,  1.09it/s]\n"
     ]
    },
    {
     "name": "stdout",
     "output_type": "stream",
     "text": [
      "Epoch : 256 - Train_loss : 0.0001 - Train_Acc: 1.0000 - Val_loss : 0.3337 - Val_Acc: 0.5333  - Time: 10.816102743148804\n",
      "\n"
     ]
    },
    {
     "name": "stderr",
     "output_type": "stream",
     "text": [
      "100%|█████████████████████████████████████████████| 9/9 [00:07<00:00,  1.29it/s]\n",
      "100%|█████████████████████████████████████████████| 4/4 [00:03<00:00,  1.16it/s]\n"
     ]
    },
    {
     "name": "stdout",
     "output_type": "stream",
     "text": [
      "Epoch : 257 - Train_loss : 0.0002 - Train_Acc: 1.0000 - Val_loss : 0.3351 - Val_Acc: 0.5333  - Time: 10.457569360733032\n",
      "\n"
     ]
    },
    {
     "name": "stderr",
     "output_type": "stream",
     "text": [
      "100%|█████████████████████████████████████████████| 9/9 [00:07<00:00,  1.25it/s]\n",
      "100%|█████████████████████████████████████████████| 4/4 [00:03<00:00,  1.18it/s]\n"
     ]
    },
    {
     "name": "stdout",
     "output_type": "stream",
     "text": [
      "Epoch : 258 - Train_loss : 0.0001 - Train_Acc: 1.0000 - Val_loss : 0.3359 - Val_Acc: 0.5417  - Time: 10.621158123016357\n",
      "\n"
     ]
    },
    {
     "name": "stderr",
     "output_type": "stream",
     "text": [
      "100%|█████████████████████████████████████████████| 9/9 [00:07<00:00,  1.24it/s]\n",
      "100%|█████████████████████████████████████████████| 4/4 [00:03<00:00,  1.18it/s]\n"
     ]
    },
    {
     "name": "stdout",
     "output_type": "stream",
     "text": [
      "Epoch : 259 - Train_loss : 0.0001 - Train_Acc: 1.0000 - Val_loss : 0.3368 - Val_Acc: 0.5417  - Time: 10.642345190048218\n",
      "\n"
     ]
    },
    {
     "name": "stderr",
     "output_type": "stream",
     "text": [
      "100%|█████████████████████████████████████████████| 9/9 [00:07<00:00,  1.24it/s]\n",
      "100%|█████████████████████████████████████████████| 4/4 [00:03<00:00,  1.15it/s]\n"
     ]
    },
    {
     "name": "stdout",
     "output_type": "stream",
     "text": [
      "Epoch : 260 - Train_loss : 0.0002 - Train_Acc: 1.0000 - Val_loss : 0.3369 - Val_Acc: 0.5417  - Time: 10.743471622467041\n",
      "\n"
     ]
    },
    {
     "name": "stderr",
     "output_type": "stream",
     "text": [
      "100%|█████████████████████████████████████████████| 9/9 [00:08<00:00,  1.08it/s]\n",
      "100%|█████████████████████████████████████████████| 4/4 [00:03<00:00,  1.31it/s]\n"
     ]
    },
    {
     "name": "stdout",
     "output_type": "stream",
     "text": [
      "Epoch : 261 - Train_loss : 0.0001 - Train_Acc: 1.0000 - Val_loss : 0.3363 - Val_Acc: 0.5417  - Time: 11.393601655960083\n",
      "\n"
     ]
    },
    {
     "name": "stderr",
     "output_type": "stream",
     "text": [
      "100%|█████████████████████████████████████████████| 9/9 [00:07<00:00,  1.24it/s]\n",
      "100%|█████████████████████████████████████████████| 4/4 [00:03<00:00,  1.24it/s]\n"
     ]
    },
    {
     "name": "stdout",
     "output_type": "stream",
     "text": [
      "Epoch : 262 - Train_loss : 0.0001 - Train_Acc: 1.0000 - Val_loss : 0.3363 - Val_Acc: 0.5417  - Time: 10.508520126342773\n",
      "\n"
     ]
    },
    {
     "name": "stderr",
     "output_type": "stream",
     "text": [
      "100%|█████████████████████████████████████████████| 9/9 [00:07<00:00,  1.22it/s]\n",
      "100%|█████████████████████████████████████████████| 4/4 [00:03<00:00,  1.18it/s]\n"
     ]
    },
    {
     "name": "stdout",
     "output_type": "stream",
     "text": [
      "Epoch : 263 - Train_loss : 0.0000 - Train_Acc: 1.0000 - Val_loss : 0.3363 - Val_Acc: 0.5417  - Time: 10.801752090454102\n",
      "\n"
     ]
    },
    {
     "name": "stderr",
     "output_type": "stream",
     "text": [
      "100%|█████████████████████████████████████████████| 9/9 [00:07<00:00,  1.27it/s]\n",
      "100%|█████████████████████████████████████████████| 4/4 [00:03<00:00,  1.30it/s]\n"
     ]
    },
    {
     "name": "stdout",
     "output_type": "stream",
     "text": [
      "Epoch : 264 - Train_loss : 0.0003 - Train_Acc: 1.0000 - Val_loss : 0.3366 - Val_Acc: 0.5333  - Time: 10.186114072799683\n",
      "\n"
     ]
    },
    {
     "name": "stderr",
     "output_type": "stream",
     "text": [
      "100%|█████████████████████████████████████████████| 9/9 [00:07<00:00,  1.26it/s]\n",
      "100%|█████████████████████████████████████████████| 4/4 [00:02<00:00,  1.37it/s]\n"
     ]
    },
    {
     "name": "stdout",
     "output_type": "stream",
     "text": [
      "Epoch : 265 - Train_loss : 0.0001 - Train_Acc: 1.0000 - Val_loss : 0.3361 - Val_Acc: 0.5417  - Time: 10.058011054992676\n",
      "\n"
     ]
    },
    {
     "name": "stderr",
     "output_type": "stream",
     "text": [
      "100%|█████████████████████████████████████████████| 9/9 [00:07<00:00,  1.25it/s]\n",
      "100%|█████████████████████████████████████████████| 4/4 [00:03<00:00,  1.32it/s]\n"
     ]
    },
    {
     "name": "stdout",
     "output_type": "stream",
     "text": [
      "Epoch : 266 - Train_loss : 0.0000 - Train_Acc: 1.0000 - Val_loss : 0.3356 - Val_Acc: 0.5417  - Time: 10.215258836746216\n",
      "\n"
     ]
    },
    {
     "name": "stderr",
     "output_type": "stream",
     "text": [
      "100%|█████████████████████████████████████████████| 9/9 [00:07<00:00,  1.24it/s]\n",
      "100%|█████████████████████████████████████████████| 4/4 [00:03<00:00,  1.10it/s]\n"
     ]
    },
    {
     "name": "stdout",
     "output_type": "stream",
     "text": [
      "Epoch : 267 - Train_loss : 0.0001 - Train_Acc: 1.0000 - Val_loss : 0.3354 - Val_Acc: 0.5417  - Time: 10.86930513381958\n",
      "\n"
     ]
    },
    {
     "name": "stderr",
     "output_type": "stream",
     "text": [
      "100%|█████████████████████████████████████████████| 9/9 [00:08<00:00,  1.08it/s]\n",
      "100%|█████████████████████████████████████████████| 4/4 [00:03<00:00,  1.14it/s]\n"
     ]
    },
    {
     "name": "stdout",
     "output_type": "stream",
     "text": [
      "Epoch : 268 - Train_loss : 0.0001 - Train_Acc: 1.0000 - Val_loss : 0.3351 - Val_Acc: 0.5417  - Time: 11.815704584121704\n",
      "\n"
     ]
    },
    {
     "name": "stderr",
     "output_type": "stream",
     "text": [
      "100%|█████████████████████████████████████████████| 9/9 [00:07<00:00,  1.19it/s]\n",
      "100%|█████████████████████████████████████████████| 4/4 [00:03<00:00,  1.13it/s]\n"
     ]
    },
    {
     "name": "stdout",
     "output_type": "stream",
     "text": [
      "Epoch : 269 - Train_loss : 0.0001 - Train_Acc: 1.0000 - Val_loss : 0.3339 - Val_Acc: 0.5417  - Time: 11.125774621963501\n",
      "\n"
     ]
    },
    {
     "name": "stderr",
     "output_type": "stream",
     "text": [
      "100%|█████████████████████████████████████████████| 9/9 [00:07<00:00,  1.23it/s]\n",
      "100%|█████████████████████████████████████████████| 4/4 [00:03<00:00,  1.04it/s]\n"
     ]
    },
    {
     "name": "stdout",
     "output_type": "stream",
     "text": [
      "Epoch : 270 - Train_loss : 0.0001 - Train_Acc: 1.0000 - Val_loss : 0.3326 - Val_Acc: 0.5500  - Time: 11.181664228439331\n",
      "\n"
     ]
    },
    {
     "name": "stderr",
     "output_type": "stream",
     "text": [
      "100%|█████████████████████████████████████████████| 9/9 [00:07<00:00,  1.24it/s]\n",
      "100%|█████████████████████████████████████████████| 4/4 [00:03<00:00,  1.10it/s]\n"
     ]
    },
    {
     "name": "stdout",
     "output_type": "stream",
     "text": [
      "Epoch : 271 - Train_loss : 0.0000 - Train_Acc: 1.0000 - Val_loss : 0.3316 - Val_Acc: 0.5500  - Time: 10.888306379318237\n",
      "\n"
     ]
    },
    {
     "name": "stderr",
     "output_type": "stream",
     "text": [
      "100%|█████████████████████████████████████████████| 9/9 [00:07<00:00,  1.23it/s]\n",
      "100%|█████████████████████████████████████████████| 4/4 [00:03<00:00,  1.15it/s]\n"
     ]
    },
    {
     "name": "stdout",
     "output_type": "stream",
     "text": [
      "Epoch : 272 - Train_loss : 0.0001 - Train_Acc: 1.0000 - Val_loss : 0.3314 - Val_Acc: 0.5500  - Time: 10.7898690700531\n",
      "\n"
     ]
    },
    {
     "name": "stderr",
     "output_type": "stream",
     "text": [
      "100%|█████████████████████████████████████████████| 9/9 [00:07<00:00,  1.24it/s]\n",
      "100%|█████████████████████████████████████████████| 4/4 [00:03<00:00,  1.13it/s]\n"
     ]
    },
    {
     "name": "stdout",
     "output_type": "stream",
     "text": [
      "Epoch : 273 - Train_loss : 0.0001 - Train_Acc: 1.0000 - Val_loss : 0.3309 - Val_Acc: 0.5500  - Time: 10.800078868865967\n",
      "\n"
     ]
    },
    {
     "name": "stderr",
     "output_type": "stream",
     "text": [
      "100%|█████████████████████████████████████████████| 9/9 [00:07<00:00,  1.23it/s]\n",
      "100%|█████████████████████████████████████████████| 4/4 [00:03<00:00,  1.17it/s]\n"
     ]
    },
    {
     "name": "stdout",
     "output_type": "stream",
     "text": [
      "Epoch : 274 - Train_loss : 0.0001 - Train_Acc: 1.0000 - Val_loss : 0.3308 - Val_Acc: 0.5500  - Time: 10.740259170532227\n",
      "\n"
     ]
    },
    {
     "name": "stderr",
     "output_type": "stream",
     "text": [
      "100%|█████████████████████████████████████████████| 9/9 [00:08<00:00,  1.07it/s]\n",
      "100%|█████████████████████████████████████████████| 4/4 [00:03<00:00,  1.17it/s]\n"
     ]
    },
    {
     "name": "stdout",
     "output_type": "stream",
     "text": [
      "Epoch : 275 - Train_loss : 0.0001 - Train_Acc: 1.0000 - Val_loss : 0.3312 - Val_Acc: 0.5500  - Time: 11.82759428024292\n",
      "\n"
     ]
    },
    {
     "name": "stderr",
     "output_type": "stream",
     "text": [
      "100%|█████████████████████████████████████████████| 9/9 [00:07<00:00,  1.22it/s]\n",
      "100%|█████████████████████████████████████████████| 4/4 [00:03<00:00,  1.27it/s]\n"
     ]
    },
    {
     "name": "stdout",
     "output_type": "stream",
     "text": [
      "Epoch : 276 - Train_loss : 0.0001 - Train_Acc: 1.0000 - Val_loss : 0.3315 - Val_Acc: 0.5500  - Time: 10.539940118789673\n",
      "\n"
     ]
    },
    {
     "name": "stderr",
     "output_type": "stream",
     "text": [
      "100%|█████████████████████████████████████████████| 9/9 [00:07<00:00,  1.22it/s]\n",
      "100%|█████████████████████████████████████████████| 4/4 [00:03<00:00,  1.28it/s]\n"
     ]
    },
    {
     "name": "stdout",
     "output_type": "stream",
     "text": [
      "Epoch : 277 - Train_loss : 0.0001 - Train_Acc: 1.0000 - Val_loss : 0.3318 - Val_Acc: 0.5500  - Time: 10.52352786064148\n",
      "\n"
     ]
    },
    {
     "name": "stderr",
     "output_type": "stream",
     "text": [
      "100%|█████████████████████████████████████████████| 9/9 [00:07<00:00,  1.16it/s]\n",
      "100%|█████████████████████████████████████████████| 4/4 [00:03<00:00,  1.14it/s]\n"
     ]
    },
    {
     "name": "stdout",
     "output_type": "stream",
     "text": [
      "Epoch : 278 - Train_loss : 0.0002 - Train_Acc: 1.0000 - Val_loss : 0.3318 - Val_Acc: 0.5500  - Time: 11.266981363296509\n",
      "\n"
     ]
    },
    {
     "name": "stderr",
     "output_type": "stream",
     "text": [
      "100%|█████████████████████████████████████████████| 9/9 [00:07<00:00,  1.19it/s]\n",
      "100%|█████████████████████████████████████████████| 4/4 [00:03<00:00,  1.18it/s]\n"
     ]
    },
    {
     "name": "stdout",
     "output_type": "stream",
     "text": [
      "Epoch : 279 - Train_loss : 0.0001 - Train_Acc: 1.0000 - Val_loss : 0.3322 - Val_Acc: 0.5500  - Time: 10.942622423171997\n",
      "\n"
     ]
    },
    {
     "name": "stderr",
     "output_type": "stream",
     "text": [
      "100%|█████████████████████████████████████████████| 9/9 [00:08<00:00,  1.11it/s]\n",
      "100%|█████████████████████████████████████████████| 4/4 [00:03<00:00,  1.06it/s]\n"
     ]
    },
    {
     "name": "stdout",
     "output_type": "stream",
     "text": [
      "Epoch : 280 - Train_loss : 0.0001 - Train_Acc: 1.0000 - Val_loss : 0.3324 - Val_Acc: 0.5500  - Time: 11.902791500091553\n",
      "\n"
     ]
    },
    {
     "name": "stderr",
     "output_type": "stream",
     "text": [
      "100%|█████████████████████████████████████████████| 9/9 [00:07<00:00,  1.16it/s]\n",
      "100%|█████████████████████████████████████████████| 4/4 [00:04<00:00,  1.01s/it]\n"
     ]
    },
    {
     "name": "stdout",
     "output_type": "stream",
     "text": [
      "Epoch : 281 - Train_loss : 0.0001 - Train_Acc: 1.0000 - Val_loss : 0.3320 - Val_Acc: 0.5500  - Time: 11.779846668243408\n",
      "\n"
     ]
    },
    {
     "name": "stderr",
     "output_type": "stream",
     "text": [
      "100%|█████████████████████████████████████████████| 9/9 [00:07<00:00,  1.17it/s]\n",
      "100%|█████████████████████████████████████████████| 4/4 [00:04<00:00,  1.01s/it]\n"
     ]
    },
    {
     "name": "stdout",
     "output_type": "stream",
     "text": [
      "Epoch : 282 - Train_loss : 0.0001 - Train_Acc: 1.0000 - Val_loss : 0.3316 - Val_Acc: 0.5500  - Time: 11.757328033447266\n",
      "\n"
     ]
    },
    {
     "name": "stderr",
     "output_type": "stream",
     "text": [
      "100%|█████████████████████████████████████████████| 9/9 [00:07<00:00,  1.19it/s]\n",
      "100%|█████████████████████████████████████████████| 4/4 [00:03<00:00,  1.17it/s]\n"
     ]
    },
    {
     "name": "stdout",
     "output_type": "stream",
     "text": [
      "Epoch : 283 - Train_loss : 0.0000 - Train_Acc: 1.0000 - Val_loss : 0.3312 - Val_Acc: 0.5500  - Time: 10.947421073913574\n",
      "\n"
     ]
    },
    {
     "name": "stderr",
     "output_type": "stream",
     "text": [
      "100%|█████████████████████████████████████████████| 9/9 [00:07<00:00,  1.24it/s]\n",
      "100%|█████████████████████████████████████████████| 4/4 [00:03<00:00,  1.27it/s]\n"
     ]
    },
    {
     "name": "stdout",
     "output_type": "stream",
     "text": [
      "Epoch : 284 - Train_loss : 0.0001 - Train_Acc: 1.0000 - Val_loss : 0.3307 - Val_Acc: 0.5500  - Time: 10.404378175735474\n",
      "\n"
     ]
    },
    {
     "name": "stderr",
     "output_type": "stream",
     "text": [
      "100%|█████████████████████████████████████████████| 9/9 [00:08<00:00,  1.12it/s]\n",
      "100%|█████████████████████████████████████████████| 4/4 [00:03<00:00,  1.24it/s]\n"
     ]
    },
    {
     "name": "stdout",
     "output_type": "stream",
     "text": [
      "Epoch : 285 - Train_loss : 0.0001 - Train_Acc: 1.0000 - Val_loss : 0.3290 - Val_Acc: 0.5500  - Time: 11.24632477760315\n",
      "\n"
     ]
    },
    {
     "name": "stderr",
     "output_type": "stream",
     "text": [
      "100%|█████████████████████████████████████████████| 9/9 [00:07<00:00,  1.18it/s]\n",
      "100%|█████████████████████████████████████████████| 4/4 [00:03<00:00,  1.26it/s]\n"
     ]
    },
    {
     "name": "stdout",
     "output_type": "stream",
     "text": [
      "Epoch : 286 - Train_loss : 0.0000 - Train_Acc: 1.0000 - Val_loss : 0.3275 - Val_Acc: 0.5500  - Time: 10.778640508651733\n",
      "\n"
     ]
    },
    {
     "name": "stderr",
     "output_type": "stream",
     "text": [
      "100%|█████████████████████████████████████████████| 9/9 [00:07<00:00,  1.22it/s]\n",
      "100%|█████████████████████████████████████████████| 4/4 [00:03<00:00,  1.16it/s]\n"
     ]
    },
    {
     "name": "stdout",
     "output_type": "stream",
     "text": [
      "Epoch : 287 - Train_loss : 0.0001 - Train_Acc: 1.0000 - Val_loss : 0.3270 - Val_Acc: 0.5500  - Time: 10.863333463668823\n",
      "\n"
     ]
    },
    {
     "name": "stderr",
     "output_type": "stream",
     "text": [
      "100%|█████████████████████████████████████████████| 9/9 [00:07<00:00,  1.19it/s]\n",
      "100%|█████████████████████████████████████████████| 4/4 [00:03<00:00,  1.13it/s]\n"
     ]
    },
    {
     "name": "stdout",
     "output_type": "stream",
     "text": [
      "Epoch : 288 - Train_loss : 0.0001 - Train_Acc: 1.0000 - Val_loss : 0.3263 - Val_Acc: 0.5500  - Time: 11.115810632705688\n",
      "\n"
     ]
    },
    {
     "name": "stderr",
     "output_type": "stream",
     "text": [
      "100%|█████████████████████████████████████████████| 9/9 [00:07<00:00,  1.19it/s]\n",
      "100%|█████████████████████████████████████████████| 4/4 [00:03<00:00,  1.01it/s]\n"
     ]
    },
    {
     "name": "stdout",
     "output_type": "stream",
     "text": [
      "Epoch : 289 - Train_loss : 0.0000 - Train_Acc: 1.0000 - Val_loss : 0.3262 - Val_Acc: 0.5500  - Time: 11.539334297180176\n",
      "\n"
     ]
    },
    {
     "name": "stderr",
     "output_type": "stream",
     "text": [
      "100%|█████████████████████████████████████████████| 9/9 [00:07<00:00,  1.16it/s]\n",
      "100%|█████████████████████████████████████████████| 4/4 [00:03<00:00,  1.13it/s]\n"
     ]
    },
    {
     "name": "stdout",
     "output_type": "stream",
     "text": [
      "Epoch : 290 - Train_loss : 0.0000 - Train_Acc: 1.0000 - Val_loss : 0.3262 - Val_Acc: 0.5500  - Time: 11.276764869689941\n",
      "\n"
     ]
    },
    {
     "name": "stderr",
     "output_type": "stream",
     "text": [
      "100%|█████████████████████████████████████████████| 9/9 [00:06<00:00,  1.29it/s]\n",
      "100%|█████████████████████████████████████████████| 4/4 [00:03<00:00,  1.11it/s]\n"
     ]
    },
    {
     "name": "stdout",
     "output_type": "stream",
     "text": [
      "Epoch : 291 - Train_loss : 0.0001 - Train_Acc: 1.0000 - Val_loss : 0.3263 - Val_Acc: 0.5500  - Time: 10.600674629211426\n",
      "\n"
     ]
    },
    {
     "name": "stderr",
     "output_type": "stream",
     "text": [
      "100%|█████████████████████████████████████████████| 9/9 [00:07<00:00,  1.21it/s]\n",
      "100%|█████████████████████████████████████████████| 4/4 [00:03<00:00,  1.04it/s]\n"
     ]
    },
    {
     "name": "stdout",
     "output_type": "stream",
     "text": [
      "Epoch : 292 - Train_loss : 0.0001 - Train_Acc: 1.0000 - Val_loss : 0.3251 - Val_Acc: 0.5500  - Time: 11.267792224884033\n",
      "\n"
     ]
    },
    {
     "name": "stderr",
     "output_type": "stream",
     "text": [
      "100%|█████████████████████████████████████████████| 9/9 [00:07<00:00,  1.23it/s]\n",
      "100%|█████████████████████████████████████████████| 4/4 [00:03<00:00,  1.14it/s]\n"
     ]
    },
    {
     "name": "stdout",
     "output_type": "stream",
     "text": [
      "Epoch : 293 - Train_loss : 0.0001 - Train_Acc: 1.0000 - Val_loss : 0.3243 - Val_Acc: 0.5500  - Time: 10.806090831756592\n",
      "\n"
     ]
    },
    {
     "name": "stderr",
     "output_type": "stream",
     "text": [
      "100%|█████████████████████████████████████████████| 9/9 [00:07<00:00,  1.22it/s]\n",
      "100%|█████████████████████████████████████████████| 4/4 [00:03<00:00,  1.13it/s]\n"
     ]
    },
    {
     "name": "stdout",
     "output_type": "stream",
     "text": [
      "Epoch : 294 - Train_loss : 0.0001 - Train_Acc: 1.0000 - Val_loss : 0.3239 - Val_Acc: 0.5500  - Time: 10.883509635925293\n",
      "\n"
     ]
    },
    {
     "name": "stderr",
     "output_type": "stream",
     "text": [
      "100%|█████████████████████████████████████████████| 9/9 [00:07<00:00,  1.22it/s]\n",
      "100%|█████████████████████████████████████████████| 4/4 [00:03<00:00,  1.18it/s]\n"
     ]
    },
    {
     "name": "stdout",
     "output_type": "stream",
     "text": [
      "Epoch : 295 - Train_loss : 0.0001 - Train_Acc: 1.0000 - Val_loss : 0.3242 - Val_Acc: 0.5500  - Time: 10.77441120147705\n",
      "\n"
     ]
    },
    {
     "name": "stderr",
     "output_type": "stream",
     "text": [
      "100%|█████████████████████████████████████████████| 9/9 [00:07<00:00,  1.21it/s]\n",
      "100%|█████████████████████████████████████████████| 4/4 [00:03<00:00,  1.23it/s]\n"
     ]
    },
    {
     "name": "stdout",
     "output_type": "stream",
     "text": [
      "Epoch : 296 - Train_loss : 0.0000 - Train_Acc: 1.0000 - Val_loss : 0.3247 - Val_Acc: 0.5417  - Time: 10.713377237319946\n",
      "\n"
     ]
    },
    {
     "name": "stderr",
     "output_type": "stream",
     "text": [
      "100%|█████████████████████████████████████████████| 9/9 [00:08<00:00,  1.09it/s]\n",
      "100%|█████████████████████████████████████████████| 4/4 [00:03<00:00,  1.20it/s]\n"
     ]
    },
    {
     "name": "stdout",
     "output_type": "stream",
     "text": [
      "Epoch : 297 - Train_loss : 0.0000 - Train_Acc: 1.0000 - Val_loss : 0.3248 - Val_Acc: 0.5417  - Time: 11.63766360282898\n",
      "\n"
     ]
    },
    {
     "name": "stderr",
     "output_type": "stream",
     "text": [
      "100%|█████████████████████████████████████████████| 9/9 [00:07<00:00,  1.20it/s]\n",
      "100%|█████████████████████████████████████████████| 4/4 [00:03<00:00,  1.25it/s]\n"
     ]
    },
    {
     "name": "stdout",
     "output_type": "stream",
     "text": [
      "Epoch : 298 - Train_loss : 0.0001 - Train_Acc: 1.0000 - Val_loss : 0.3251 - Val_Acc: 0.5417  - Time: 10.718387126922607\n",
      "\n"
     ]
    },
    {
     "name": "stderr",
     "output_type": "stream",
     "text": [
      "100%|█████████████████████████████████████████████| 9/9 [00:07<00:00,  1.16it/s]\n",
      "100%|█████████████████████████████████████████████| 4/4 [00:03<00:00,  1.14it/s]\n"
     ]
    },
    {
     "name": "stdout",
     "output_type": "stream",
     "text": [
      "Epoch : 299 - Train_loss : 0.0000 - Train_Acc: 1.0000 - Val_loss : 0.3251 - Val_Acc: 0.5417  - Time: 11.244798421859741\n",
      "\n"
     ]
    },
    {
     "name": "stderr",
     "output_type": "stream",
     "text": [
      "100%|█████████████████████████████████████████████| 9/9 [00:07<00:00,  1.21it/s]\n",
      "100%|█████████████████████████████████████████████| 4/4 [00:03<00:00,  1.22it/s]\n"
     ]
    },
    {
     "name": "stdout",
     "output_type": "stream",
     "text": [
      "Epoch : 300 - Train_loss : 0.0000 - Train_Acc: 1.0000 - Val_loss : 0.3253 - Val_Acc: 0.5417  - Time: 10.721830129623413\n",
      "\n"
     ]
    },
    {
     "name": "stderr",
     "output_type": "stream",
     "text": [
      "100%|█████████████████████████████████████████████| 9/9 [00:07<00:00,  1.21it/s]\n",
      "100%|█████████████████████████████████████████████| 4/4 [00:03<00:00,  1.21it/s]\n"
     ]
    },
    {
     "name": "stdout",
     "output_type": "stream",
     "text": [
      "Epoch : 301 - Train_loss : 0.0000 - Train_Acc: 1.0000 - Val_loss : 0.3256 - Val_Acc: 0.5417  - Time: 10.71043586730957\n",
      "\n"
     ]
    },
    {
     "name": "stderr",
     "output_type": "stream",
     "text": [
      "100%|█████████████████████████████████████████████| 9/9 [00:07<00:00,  1.22it/s]\n",
      "100%|█████████████████████████████████████████████| 4/4 [00:03<00:00,  1.15it/s]\n"
     ]
    },
    {
     "name": "stdout",
     "output_type": "stream",
     "text": [
      "Epoch : 302 - Train_loss : 0.0000 - Train_Acc: 1.0000 - Val_loss : 0.3259 - Val_Acc: 0.5417  - Time: 10.88772201538086\n",
      "\n"
     ]
    },
    {
     "name": "stderr",
     "output_type": "stream",
     "text": [
      "100%|█████████████████████████████████████████████| 9/9 [00:07<00:00,  1.27it/s]\n",
      "100%|█████████████████████████████████████████████| 4/4 [00:03<00:00,  1.11it/s]\n"
     ]
    },
    {
     "name": "stdout",
     "output_type": "stream",
     "text": [
      "Epoch : 303 - Train_loss : 0.0005 - Train_Acc: 1.0000 - Val_loss : 0.3397 - Val_Acc: 0.5417  - Time: 10.704589128494263\n",
      "\n"
     ]
    },
    {
     "name": "stderr",
     "output_type": "stream",
     "text": [
      "100%|█████████████████████████████████████████████| 9/9 [00:08<00:00,  1.10it/s]\n",
      "100%|█████████████████████████████████████████████| 4/4 [00:03<00:00,  1.06it/s]\n"
     ]
    },
    {
     "name": "stdout",
     "output_type": "stream",
     "text": [
      "Epoch : 304 - Train_loss : 0.0000 - Train_Acc: 1.0000 - Val_loss : 0.3508 - Val_Acc: 0.5417  - Time: 11.957207918167114\n",
      "\n"
     ]
    },
    {
     "name": "stderr",
     "output_type": "stream",
     "text": [
      "100%|█████████████████████████████████████████████| 9/9 [00:07<00:00,  1.25it/s]\n",
      "100%|█████████████████████████████████████████████| 4/4 [00:03<00:00,  1.16it/s]\n"
     ]
    },
    {
     "name": "stdout",
     "output_type": "stream",
     "text": [
      "Epoch : 305 - Train_loss : 0.0000 - Train_Acc: 1.0000 - Val_loss : 0.3549 - Val_Acc: 0.5500  - Time: 10.63887095451355\n",
      "\n"
     ]
    },
    {
     "name": "stderr",
     "output_type": "stream",
     "text": [
      "100%|█████████████████████████████████████████████| 9/9 [00:07<00:00,  1.21it/s]\n",
      "100%|█████████████████████████████████████████████| 4/4 [00:03<00:00,  1.16it/s]\n"
     ]
    },
    {
     "name": "stdout",
     "output_type": "stream",
     "text": [
      "Epoch : 306 - Train_loss : 0.0001 - Train_Acc: 1.0000 - Val_loss : 0.3551 - Val_Acc: 0.5500  - Time: 10.908684730529785\n",
      "\n"
     ]
    },
    {
     "name": "stderr",
     "output_type": "stream",
     "text": [
      "100%|█████████████████████████████████████████████| 9/9 [00:07<00:00,  1.18it/s]\n",
      "100%|█████████████████████████████████████████████| 4/4 [00:03<00:00,  1.32it/s]\n"
     ]
    },
    {
     "name": "stdout",
     "output_type": "stream",
     "text": [
      "Epoch : 307 - Train_loss : 0.0001 - Train_Acc: 1.0000 - Val_loss : 0.3534 - Val_Acc: 0.5500  - Time: 10.6527841091156\n",
      "\n"
     ]
    },
    {
     "name": "stderr",
     "output_type": "stream",
     "text": [
      "100%|█████████████████████████████████████████████| 9/9 [00:07<00:00,  1.20it/s]\n",
      "100%|█████████████████████████████████████████████| 4/4 [00:03<00:00,  1.26it/s]\n"
     ]
    },
    {
     "name": "stdout",
     "output_type": "stream",
     "text": [
      "Epoch : 308 - Train_loss : 0.0000 - Train_Acc: 1.0000 - Val_loss : 0.3530 - Val_Acc: 0.5500  - Time: 10.694864511489868\n",
      "\n"
     ]
    },
    {
     "name": "stderr",
     "output_type": "stream",
     "text": [
      "100%|█████████████████████████████████████████████| 9/9 [00:07<00:00,  1.24it/s]\n",
      "100%|█████████████████████████████████████████████| 4/4 [00:03<00:00,  1.30it/s]\n"
     ]
    },
    {
     "name": "stdout",
     "output_type": "stream",
     "text": [
      "Epoch : 309 - Train_loss : 0.0001 - Train_Acc: 1.0000 - Val_loss : 0.3518 - Val_Acc: 0.5500  - Time: 10.34080171585083\n",
      "\n"
     ]
    },
    {
     "name": "stderr",
     "output_type": "stream",
     "text": [
      "100%|█████████████████████████████████████████████| 9/9 [00:07<00:00,  1.19it/s]\n",
      "100%|█████████████████████████████████████████████| 4/4 [00:03<00:00,  1.26it/s]\n"
     ]
    },
    {
     "name": "stdout",
     "output_type": "stream",
     "text": [
      "Epoch : 310 - Train_loss : 0.0000 - Train_Acc: 1.0000 - Val_loss : 0.3513 - Val_Acc: 0.5500  - Time: 10.749476909637451\n",
      "\n"
     ]
    },
    {
     "name": "stderr",
     "output_type": "stream",
     "text": [
      "100%|█████████████████████████████████████████████| 9/9 [00:08<00:00,  1.12it/s]\n",
      "100%|█████████████████████████████████████████████| 4/4 [00:03<00:00,  1.12it/s]\n"
     ]
    },
    {
     "name": "stdout",
     "output_type": "stream",
     "text": [
      "Epoch : 311 - Train_loss : 0.0001 - Train_Acc: 1.0000 - Val_loss : 0.3505 - Val_Acc: 0.5500  - Time: 11.601215124130249\n",
      "\n"
     ]
    },
    {
     "name": "stderr",
     "output_type": "stream",
     "text": [
      "100%|█████████████████████████████████████████████| 9/9 [00:07<00:00,  1.18it/s]\n",
      "100%|█████████████████████████████████████████████| 4/4 [00:03<00:00,  1.15it/s]\n"
     ]
    },
    {
     "name": "stdout",
     "output_type": "stream",
     "text": [
      "Epoch : 312 - Train_loss : 0.0000 - Train_Acc: 1.0000 - Val_loss : 0.3498 - Val_Acc: 0.5500  - Time: 11.09531021118164\n",
      "\n"
     ]
    },
    {
     "name": "stderr",
     "output_type": "stream",
     "text": [
      "100%|█████████████████████████████████████████████| 9/9 [00:07<00:00,  1.25it/s]\n",
      "100%|█████████████████████████████████████████████| 4/4 [00:03<00:00,  1.07it/s]\n"
     ]
    },
    {
     "name": "stdout",
     "output_type": "stream",
     "text": [
      "Epoch : 313 - Train_loss : 0.0000 - Train_Acc: 1.0000 - Val_loss : 0.3491 - Val_Acc: 0.5500  - Time: 10.95872974395752\n",
      "\n"
     ]
    },
    {
     "name": "stderr",
     "output_type": "stream",
     "text": [
      "100%|█████████████████████████████████████████████| 9/9 [00:07<00:00,  1.14it/s]\n",
      "100%|█████████████████████████████████████████████| 4/4 [00:03<00:00,  1.05it/s]\n"
     ]
    },
    {
     "name": "stdout",
     "output_type": "stream",
     "text": [
      "Epoch : 314 - Train_loss : 0.0001 - Train_Acc: 1.0000 - Val_loss : 0.3480 - Val_Acc: 0.5500  - Time: 11.690078258514404\n",
      "\n"
     ]
    },
    {
     "name": "stderr",
     "output_type": "stream",
     "text": [
      "100%|█████████████████████████████████████████████| 9/9 [00:07<00:00,  1.13it/s]\n",
      "100%|█████████████████████████████████████████████| 4/4 [00:03<00:00,  1.07it/s]\n"
     ]
    },
    {
     "name": "stdout",
     "output_type": "stream",
     "text": [
      "Epoch : 315 - Train_loss : 0.0000 - Train_Acc: 1.0000 - Val_loss : 0.3472 - Val_Acc: 0.5500  - Time: 11.674377918243408\n",
      "\n"
     ]
    },
    {
     "name": "stderr",
     "output_type": "stream",
     "text": [
      "100%|█████████████████████████████████████████████| 9/9 [00:07<00:00,  1.23it/s]\n",
      "100%|█████████████████████████████████████████████| 4/4 [00:03<00:00,  1.16it/s]\n"
     ]
    },
    {
     "name": "stdout",
     "output_type": "stream",
     "text": [
      "Epoch : 316 - Train_loss : 0.0000 - Train_Acc: 1.0000 - Val_loss : 0.3467 - Val_Acc: 0.5500  - Time: 10.765257358551025\n",
      "\n"
     ]
    },
    {
     "name": "stderr",
     "output_type": "stream",
     "text": [
      "100%|█████████████████████████████████████████████| 9/9 [00:07<00:00,  1.24it/s]\n",
      "100%|█████████████████████████████████████████████| 4/4 [00:03<00:00,  1.12it/s]\n"
     ]
    },
    {
     "name": "stdout",
     "output_type": "stream",
     "text": [
      "Epoch : 317 - Train_loss : 0.0000 - Train_Acc: 1.0000 - Val_loss : 0.3462 - Val_Acc: 0.5500  - Time: 10.79634404182434\n",
      "\n"
     ]
    },
    {
     "name": "stderr",
     "output_type": "stream",
     "text": [
      "100%|█████████████████████████████████████████████| 9/9 [00:07<00:00,  1.19it/s]\n",
      "100%|█████████████████████████████████████████████| 4/4 [00:03<00:00,  1.11it/s]\n"
     ]
    },
    {
     "name": "stdout",
     "output_type": "stream",
     "text": [
      "Epoch : 318 - Train_loss : 0.0001 - Train_Acc: 1.0000 - Val_loss : 0.3456 - Val_Acc: 0.5500  - Time: 11.186298131942749\n",
      "\n"
     ]
    },
    {
     "name": "stderr",
     "output_type": "stream",
     "text": [
      "100%|█████████████████████████████████████████████| 9/9 [00:07<00:00,  1.24it/s]\n",
      "100%|█████████████████████████████████████████████| 4/4 [00:03<00:00,  1.26it/s]\n"
     ]
    },
    {
     "name": "stdout",
     "output_type": "stream",
     "text": [
      "Epoch : 319 - Train_loss : 0.0000 - Train_Acc: 1.0000 - Val_loss : 0.3456 - Val_Acc: 0.5500  - Time: 10.450960874557495\n",
      "\n"
     ]
    },
    {
     "name": "stderr",
     "output_type": "stream",
     "text": [
      "100%|█████████████████████████████████████████████| 9/9 [00:07<00:00,  1.20it/s]\n",
      "100%|█████████████████████████████████████████████| 4/4 [00:03<00:00,  1.30it/s]\n"
     ]
    },
    {
     "name": "stdout",
     "output_type": "stream",
     "text": [
      "Epoch : 320 - Train_loss : 0.0000 - Train_Acc: 1.0000 - Val_loss : 0.3455 - Val_Acc: 0.5500  - Time: 10.581370830535889\n",
      "\n"
     ]
    },
    {
     "name": "stderr",
     "output_type": "stream",
     "text": [
      "100%|█████████████████████████████████████████████| 9/9 [00:07<00:00,  1.14it/s]\n",
      "100%|█████████████████████████████████████████████| 4/4 [00:03<00:00,  1.32it/s]\n"
     ]
    },
    {
     "name": "stdout",
     "output_type": "stream",
     "text": [
      "Epoch : 321 - Train_loss : 0.0000 - Train_Acc: 1.0000 - Val_loss : 0.3454 - Val_Acc: 0.5500  - Time: 10.947304248809814\n",
      "\n"
     ]
    },
    {
     "name": "stderr",
     "output_type": "stream",
     "text": [
      "100%|█████████████████████████████████████████████| 9/9 [00:07<00:00,  1.22it/s]\n",
      "100%|█████████████████████████████████████████████| 4/4 [00:03<00:00,  1.32it/s]\n"
     ]
    },
    {
     "name": "stdout",
     "output_type": "stream",
     "text": [
      "Epoch : 322 - Train_loss : 0.0001 - Train_Acc: 1.0000 - Val_loss : 0.3446 - Val_Acc: 0.5500  - Time: 10.405430316925049\n",
      "\n"
     ]
    },
    {
     "name": "stderr",
     "output_type": "stream",
     "text": [
      "100%|█████████████████████████████████████████████| 9/9 [00:07<00:00,  1.22it/s]\n",
      "100%|█████████████████████████████████████████████| 4/4 [00:03<00:00,  1.27it/s]\n"
     ]
    },
    {
     "name": "stdout",
     "output_type": "stream",
     "text": [
      "Epoch : 323 - Train_loss : 0.0000 - Train_Acc: 1.0000 - Val_loss : 0.3447 - Val_Acc: 0.5500  - Time: 10.520763874053955\n",
      "\n"
     ]
    },
    {
     "name": "stderr",
     "output_type": "stream",
     "text": [
      "100%|█████████████████████████████████████████████| 9/9 [00:07<00:00,  1.22it/s]\n",
      "100%|█████████████████████████████████████████████| 4/4 [00:03<00:00,  1.22it/s]\n"
     ]
    },
    {
     "name": "stdout",
     "output_type": "stream",
     "text": [
      "Epoch : 324 - Train_loss : 0.0000 - Train_Acc: 1.0000 - Val_loss : 0.3446 - Val_Acc: 0.5500  - Time: 10.668009519577026\n",
      "\n"
     ]
    },
    {
     "name": "stderr",
     "output_type": "stream",
     "text": [
      "100%|█████████████████████████████████████████████| 9/9 [00:07<00:00,  1.21it/s]\n",
      "100%|█████████████████████████████████████████████| 4/4 [00:03<00:00,  1.10it/s]\n"
     ]
    },
    {
     "name": "stdout",
     "output_type": "stream",
     "text": [
      "Epoch : 325 - Train_loss : 0.0000 - Train_Acc: 1.0000 - Val_loss : 0.3440 - Val_Acc: 0.5500  - Time: 11.06498408317566\n",
      "\n"
     ]
    },
    {
     "name": "stderr",
     "output_type": "stream",
     "text": [
      "100%|█████████████████████████████████████████████| 9/9 [00:08<00:00,  1.11it/s]\n",
      "100%|█████████████████████████████████████████████| 4/4 [00:03<00:00,  1.20it/s]\n"
     ]
    },
    {
     "name": "stdout",
     "output_type": "stream",
     "text": [
      "Epoch : 326 - Train_loss : 0.0000 - Train_Acc: 1.0000 - Val_loss : 0.3438 - Val_Acc: 0.5500  - Time: 11.413476705551147\n",
      "\n"
     ]
    },
    {
     "name": "stderr",
     "output_type": "stream",
     "text": [
      "100%|█████████████████████████████████████████████| 9/9 [00:07<00:00,  1.24it/s]\n",
      "100%|█████████████████████████████████████████████| 4/4 [00:03<00:00,  1.20it/s]\n"
     ]
    },
    {
     "name": "stdout",
     "output_type": "stream",
     "text": [
      "Epoch : 327 - Train_loss : 0.0000 - Train_Acc: 1.0000 - Val_loss : 0.3437 - Val_Acc: 0.5500  - Time: 10.631718873977661\n",
      "\n"
     ]
    },
    {
     "name": "stderr",
     "output_type": "stream",
     "text": [
      "100%|█████████████████████████████████████████████| 9/9 [00:07<00:00,  1.20it/s]\n",
      "100%|█████████████████████████████████████████████| 4/4 [00:03<00:00,  1.16it/s]\n"
     ]
    },
    {
     "name": "stdout",
     "output_type": "stream",
     "text": [
      "Epoch : 328 - Train_loss : 0.0001 - Train_Acc: 1.0000 - Val_loss : 0.3429 - Val_Acc: 0.5500  - Time: 10.934868335723877\n",
      "\n"
     ]
    },
    {
     "name": "stderr",
     "output_type": "stream",
     "text": [
      "100%|█████████████████████████████████████████████| 9/9 [00:07<00:00,  1.23it/s]\n",
      "100%|█████████████████████████████████████████████| 4/4 [00:03<00:00,  1.13it/s]\n"
     ]
    },
    {
     "name": "stdout",
     "output_type": "stream",
     "text": [
      "Epoch : 329 - Train_loss : 0.0001 - Train_Acc: 1.0000 - Val_loss : 0.3425 - Val_Acc: 0.5500  - Time: 10.835193872451782\n",
      "\n"
     ]
    },
    {
     "name": "stderr",
     "output_type": "stream",
     "text": [
      "100%|█████████████████████████████████████████████| 9/9 [00:07<00:00,  1.18it/s]\n",
      "100%|█████████████████████████████████████████████| 4/4 [00:03<00:00,  1.14it/s]\n"
     ]
    },
    {
     "name": "stdout",
     "output_type": "stream",
     "text": [
      "Epoch : 330 - Train_loss : 0.0000 - Train_Acc: 1.0000 - Val_loss : 0.3434 - Val_Acc: 0.5500  - Time: 11.117222547531128\n",
      "\n"
     ]
    },
    {
     "name": "stderr",
     "output_type": "stream",
     "text": [
      "100%|█████████████████████████████████████████████| 9/9 [00:07<00:00,  1.23it/s]\n",
      "100%|█████████████████████████████████████████████| 4/4 [00:03<00:00,  1.16it/s]\n"
     ]
    },
    {
     "name": "stdout",
     "output_type": "stream",
     "text": [
      "Epoch : 331 - Train_loss : 0.0001 - Train_Acc: 1.0000 - Val_loss : 0.3437 - Val_Acc: 0.5500  - Time: 10.761821269989014\n",
      "\n"
     ]
    },
    {
     "name": "stderr",
     "output_type": "stream",
     "text": [
      "100%|█████████████████████████████████████████████| 9/9 [00:07<00:00,  1.24it/s]\n",
      "100%|█████████████████████████████████████████████| 4/4 [00:03<00:00,  1.12it/s]\n"
     ]
    },
    {
     "name": "stdout",
     "output_type": "stream",
     "text": [
      "Epoch : 332 - Train_loss : 0.0000 - Train_Acc: 1.0000 - Val_loss : 0.3438 - Val_Acc: 0.5500  - Time: 10.842522621154785\n",
      "\n"
     ]
    },
    {
     "name": "stderr",
     "output_type": "stream",
     "text": [
      "100%|█████████████████████████████████████████████| 9/9 [00:08<00:00,  1.11it/s]\n",
      "100%|█████████████████████████████████████████████| 4/4 [00:03<00:00,  1.29it/s]\n"
     ]
    },
    {
     "name": "stdout",
     "output_type": "stream",
     "text": [
      "Epoch : 333 - Train_loss : 0.0000 - Train_Acc: 1.0000 - Val_loss : 0.3437 - Val_Acc: 0.5500  - Time: 11.17301082611084\n",
      "\n"
     ]
    },
    {
     "name": "stderr",
     "output_type": "stream",
     "text": [
      "100%|█████████████████████████████████████████████| 9/9 [00:07<00:00,  1.21it/s]\n",
      "100%|█████████████████████████████████████████████| 4/4 [00:03<00:00,  1.30it/s]\n"
     ]
    },
    {
     "name": "stdout",
     "output_type": "stream",
     "text": [
      "Epoch : 334 - Train_loss : 0.0001 - Train_Acc: 1.0000 - Val_loss : 0.3437 - Val_Acc: 0.5500  - Time: 10.52176308631897\n",
      "\n"
     ]
    },
    {
     "name": "stderr",
     "output_type": "stream",
     "text": [
      "100%|█████████████████████████████████████████████| 9/9 [00:07<00:00,  1.18it/s]\n",
      "100%|█████████████████████████████████████████████| 4/4 [00:03<00:00,  1.23it/s]\n"
     ]
    },
    {
     "name": "stdout",
     "output_type": "stream",
     "text": [
      "Epoch : 335 - Train_loss : 0.0000 - Train_Acc: 1.0000 - Val_loss : 0.3433 - Val_Acc: 0.5500  - Time: 10.903379440307617\n",
      "\n"
     ]
    },
    {
     "name": "stderr",
     "output_type": "stream",
     "text": [
      "100%|█████████████████████████████████████████████| 9/9 [00:07<00:00,  1.21it/s]\n",
      "100%|█████████████████████████████████████████████| 4/4 [00:03<00:00,  1.24it/s]\n"
     ]
    },
    {
     "name": "stdout",
     "output_type": "stream",
     "text": [
      "Epoch : 336 - Train_loss : 0.0000 - Train_Acc: 1.0000 - Val_loss : 0.3429 - Val_Acc: 0.5500  - Time: 10.698376655578613\n",
      "\n"
     ]
    },
    {
     "name": "stderr",
     "output_type": "stream",
     "text": [
      "100%|█████████████████████████████████████████████| 9/9 [00:07<00:00,  1.22it/s]\n",
      "100%|█████████████████████████████████████████████| 4/4 [00:03<00:00,  1.20it/s]\n"
     ]
    },
    {
     "name": "stdout",
     "output_type": "stream",
     "text": [
      "Epoch : 337 - Train_loss : 0.0000 - Train_Acc: 1.0000 - Val_loss : 0.3427 - Val_Acc: 0.5500  - Time: 10.736400604248047\n",
      "\n"
     ]
    },
    {
     "name": "stderr",
     "output_type": "stream",
     "text": [
      "100%|█████████████████████████████████████████████| 9/9 [00:07<00:00,  1.21it/s]\n",
      "100%|█████████████████████████████████████████████| 4/4 [00:03<00:00,  1.20it/s]\n"
     ]
    },
    {
     "name": "stdout",
     "output_type": "stream",
     "text": [
      "Epoch : 338 - Train_loss : 0.0000 - Train_Acc: 1.0000 - Val_loss : 0.3427 - Val_Acc: 0.5500  - Time: 10.802220821380615\n",
      "\n"
     ]
    },
    {
     "name": "stderr",
     "output_type": "stream",
     "text": [
      "100%|█████████████████████████████████████████████| 9/9 [00:07<00:00,  1.20it/s]\n",
      "100%|█████████████████████████████████████████████| 4/4 [00:03<00:00,  1.21it/s]\n"
     ]
    },
    {
     "name": "stdout",
     "output_type": "stream",
     "text": [
      "Epoch : 339 - Train_loss : 0.0000 - Train_Acc: 1.0000 - Val_loss : 0.3427 - Val_Acc: 0.5500  - Time: 10.802375316619873\n",
      "\n"
     ]
    },
    {
     "name": "stderr",
     "output_type": "stream",
     "text": [
      "100%|█████████████████████████████████████████████| 9/9 [00:08<00:00,  1.11it/s]\n",
      "100%|█████████████████████████████████████████████| 4/4 [00:03<00:00,  1.12it/s]\n"
     ]
    },
    {
     "name": "stdout",
     "output_type": "stream",
     "text": [
      "Epoch : 340 - Train_loss : 0.0001 - Train_Acc: 1.0000 - Val_loss : 0.3420 - Val_Acc: 0.5500  - Time: 11.722455739974976\n",
      "\n"
     ]
    },
    {
     "name": "stderr",
     "output_type": "stream",
     "text": [
      "100%|█████████████████████████████████████████████| 9/9 [00:07<00:00,  1.25it/s]\n",
      "100%|█████████████████████████████████████████████| 4/4 [00:03<00:00,  1.08it/s]\n"
     ]
    },
    {
     "name": "stdout",
     "output_type": "stream",
     "text": [
      "Epoch : 341 - Train_loss : 0.0000 - Train_Acc: 1.0000 - Val_loss : 0.3411 - Val_Acc: 0.5500  - Time: 10.904883861541748\n",
      "\n"
     ]
    },
    {
     "name": "stderr",
     "output_type": "stream",
     "text": [
      "100%|█████████████████████████████████████████████| 9/9 [00:07<00:00,  1.19it/s]\n",
      "100%|█████████████████████████████████████████████| 4/4 [00:03<00:00,  1.11it/s]\n"
     ]
    },
    {
     "name": "stdout",
     "output_type": "stream",
     "text": [
      "Epoch : 342 - Train_loss : 0.0000 - Train_Acc: 1.0000 - Val_loss : 0.3408 - Val_Acc: 0.5500  - Time: 11.19903564453125\n",
      "\n"
     ]
    },
    {
     "name": "stderr",
     "output_type": "stream",
     "text": [
      "100%|█████████████████████████████████████████████| 9/9 [00:07<00:00,  1.25it/s]\n",
      "100%|█████████████████████████████████████████████| 4/4 [00:03<00:00,  1.20it/s]\n"
     ]
    },
    {
     "name": "stdout",
     "output_type": "stream",
     "text": [
      "Epoch : 343 - Train_loss : 0.0001 - Train_Acc: 1.0000 - Val_loss : 0.3411 - Val_Acc: 0.5500  - Time: 10.53489351272583\n",
      "\n"
     ]
    },
    {
     "name": "stderr",
     "output_type": "stream",
     "text": [
      "100%|█████████████████████████████████████████████| 9/9 [00:07<00:00,  1.22it/s]\n",
      "100%|█████████████████████████████████████████████| 4/4 [00:03<00:00,  1.23it/s]\n"
     ]
    },
    {
     "name": "stdout",
     "output_type": "stream",
     "text": [
      "Epoch : 344 - Train_loss : 0.0000 - Train_Acc: 1.0000 - Val_loss : 0.3407 - Val_Acc: 0.5500  - Time: 10.593297481536865\n",
      "\n"
     ]
    },
    {
     "name": "stderr",
     "output_type": "stream",
     "text": [
      "100%|█████████████████████████████████████████████| 9/9 [00:07<00:00,  1.23it/s]\n",
      "100%|█████████████████████████████████████████████| 4/4 [00:03<00:00,  1.23it/s]\n"
     ]
    },
    {
     "name": "stdout",
     "output_type": "stream",
     "text": [
      "Epoch : 345 - Train_loss : 0.0000 - Train_Acc: 1.0000 - Val_loss : 0.3405 - Val_Acc: 0.5500  - Time: 10.573122501373291\n",
      "\n"
     ]
    },
    {
     "name": "stderr",
     "output_type": "stream",
     "text": [
      "100%|█████████████████████████████████████████████| 9/9 [00:07<00:00,  1.22it/s]\n",
      "100%|█████████████████████████████████████████████| 4/4 [00:03<00:00,  1.31it/s]\n"
     ]
    },
    {
     "name": "stdout",
     "output_type": "stream",
     "text": [
      "Epoch : 346 - Train_loss : 0.0000 - Train_Acc: 1.0000 - Val_loss : 0.3409 - Val_Acc: 0.5500  - Time: 10.44822907447815\n",
      "\n"
     ]
    },
    {
     "name": "stderr",
     "output_type": "stream",
     "text": [
      "100%|█████████████████████████████████████████████| 9/9 [00:08<00:00,  1.09it/s]\n",
      "100%|█████████████████████████████████████████████| 4/4 [00:03<00:00,  1.19it/s]\n"
     ]
    },
    {
     "name": "stdout",
     "output_type": "stream",
     "text": [
      "Epoch : 347 - Train_loss : 0.0000 - Train_Acc: 1.0000 - Val_loss : 0.3424 - Val_Acc: 0.5500  - Time: 11.606215000152588\n",
      "\n"
     ]
    },
    {
     "name": "stderr",
     "output_type": "stream",
     "text": [
      "100%|█████████████████████████████████████████████| 9/9 [00:07<00:00,  1.20it/s]\n",
      "100%|█████████████████████████████████████████████| 4/4 [00:03<00:00,  1.22it/s]\n"
     ]
    },
    {
     "name": "stdout",
     "output_type": "stream",
     "text": [
      "Epoch : 348 - Train_loss : 0.0000 - Train_Acc: 1.0000 - Val_loss : 0.3429 - Val_Acc: 0.5500  - Time: 10.774788856506348\n",
      "\n"
     ]
    },
    {
     "name": "stderr",
     "output_type": "stream",
     "text": [
      "100%|█████████████████████████████████████████████| 9/9 [00:07<00:00,  1.23it/s]\n",
      "100%|█████████████████████████████████████████████| 4/4 [00:03<00:00,  1.17it/s]\n"
     ]
    },
    {
     "name": "stdout",
     "output_type": "stream",
     "text": [
      "Epoch : 349 - Train_loss : 0.0001 - Train_Acc: 1.0000 - Val_loss : 0.3434 - Val_Acc: 0.5500  - Time: 10.73103404045105\n",
      "\n"
     ]
    },
    {
     "name": "stderr",
     "output_type": "stream",
     "text": [
      "100%|█████████████████████████████████████████████| 9/9 [00:07<00:00,  1.18it/s]\n",
      "100%|█████████████████████████████████████████████| 4/4 [00:03<00:00,  1.22it/s]\n"
     ]
    },
    {
     "name": "stdout",
     "output_type": "stream",
     "text": [
      "Epoch : 350 - Train_loss : 0.0000 - Train_Acc: 1.0000 - Val_loss : 0.3439 - Val_Acc: 0.5500  - Time: 10.898756265640259\n",
      "\n"
     ]
    },
    {
     "name": "stderr",
     "output_type": "stream",
     "text": [
      "100%|█████████████████████████████████████████████| 9/9 [00:07<00:00,  1.25it/s]\n",
      "100%|█████████████████████████████████████████████| 4/4 [00:03<00:00,  1.19it/s]\n"
     ]
    },
    {
     "name": "stdout",
     "output_type": "stream",
     "text": [
      "Epoch : 351 - Train_loss : 0.0000 - Train_Acc: 1.0000 - Val_loss : 0.3443 - Val_Acc: 0.5500  - Time: 10.573939800262451\n",
      "\n"
     ]
    },
    {
     "name": "stderr",
     "output_type": "stream",
     "text": [
      "100%|█████████████████████████████████████████████| 9/9 [00:06<00:00,  1.29it/s]\n",
      "100%|█████████████████████████████████████████████| 4/4 [00:03<00:00,  1.13it/s]\n"
     ]
    },
    {
     "name": "stdout",
     "output_type": "stream",
     "text": [
      "Epoch : 352 - Train_loss : 0.0000 - Train_Acc: 1.0000 - Val_loss : 0.3440 - Val_Acc: 0.5500  - Time: 10.533989429473877\n",
      "\n"
     ]
    },
    {
     "name": "stderr",
     "output_type": "stream",
     "text": [
      "100%|█████████████████████████████████████████████| 9/9 [00:07<00:00,  1.25it/s]\n",
      "100%|█████████████████████████████████████████████| 4/4 [00:03<00:00,  1.15it/s]\n"
     ]
    },
    {
     "name": "stdout",
     "output_type": "stream",
     "text": [
      "Epoch : 353 - Train_loss : 0.0001 - Train_Acc: 1.0000 - Val_loss : 0.3440 - Val_Acc: 0.5500  - Time: 10.686262845993042\n",
      "\n"
     ]
    },
    {
     "name": "stderr",
     "output_type": "stream",
     "text": [
      "100%|█████████████████████████████████████████████| 9/9 [00:07<00:00,  1.16it/s]\n",
      "100%|█████████████████████████████████████████████| 4/4 [00:03<00:00,  1.08it/s]\n"
     ]
    },
    {
     "name": "stdout",
     "output_type": "stream",
     "text": [
      "Epoch : 354 - Train_loss : 0.0000 - Train_Acc: 1.0000 - Val_loss : 0.3448 - Val_Acc: 0.5583  - Time: 11.490488052368164\n",
      "\n"
     ]
    },
    {
     "name": "stderr",
     "output_type": "stream",
     "text": [
      "100%|█████████████████████████████████████████████| 9/9 [00:07<00:00,  1.23it/s]\n",
      "100%|█████████████████████████████████████████████| 4/4 [00:03<00:00,  1.24it/s]\n"
     ]
    },
    {
     "name": "stdout",
     "output_type": "stream",
     "text": [
      "Epoch : 355 - Train_loss : 0.0000 - Train_Acc: 1.0000 - Val_loss : 0.3458 - Val_Acc: 0.5583  - Time: 10.57413125038147\n",
      "\n"
     ]
    },
    {
     "name": "stderr",
     "output_type": "stream",
     "text": [
      "100%|█████████████████████████████████████████████| 9/9 [00:07<00:00,  1.19it/s]\n",
      "100%|█████████████████████████████████████████████| 4/4 [00:03<00:00,  1.27it/s]\n"
     ]
    },
    {
     "name": "stdout",
     "output_type": "stream",
     "text": [
      "Epoch : 356 - Train_loss : 0.0000 - Train_Acc: 1.0000 - Val_loss : 0.3462 - Val_Acc: 0.5583  - Time: 10.723956823348999\n",
      "\n"
     ]
    },
    {
     "name": "stderr",
     "output_type": "stream",
     "text": [
      "100%|█████████████████████████████████████████████| 9/9 [00:07<00:00,  1.20it/s]\n",
      "100%|█████████████████████████████████████████████| 4/4 [00:03<00:00,  1.26it/s]\n"
     ]
    },
    {
     "name": "stdout",
     "output_type": "stream",
     "text": [
      "Epoch : 357 - Train_loss : 0.0000 - Train_Acc: 1.0000 - Val_loss : 0.3458 - Val_Acc: 0.5583  - Time: 10.696827411651611\n",
      "\n"
     ]
    },
    {
     "name": "stderr",
     "output_type": "stream",
     "text": [
      "100%|█████████████████████████████████████████████| 9/9 [00:07<00:00,  1.22it/s]\n",
      "100%|█████████████████████████████████████████████| 4/4 [00:03<00:00,  1.29it/s]\n"
     ]
    },
    {
     "name": "stdout",
     "output_type": "stream",
     "text": [
      "Epoch : 358 - Train_loss : 0.0001 - Train_Acc: 1.0000 - Val_loss : 0.3453 - Val_Acc: 0.5583  - Time: 10.493743419647217\n",
      "\n"
     ]
    },
    {
     "name": "stderr",
     "output_type": "stream",
     "text": [
      "100%|█████████████████████████████████████████████| 9/9 [00:07<00:00,  1.27it/s]\n",
      "100%|█████████████████████████████████████████████| 4/4 [00:03<00:00,  1.27it/s]\n"
     ]
    },
    {
     "name": "stdout",
     "output_type": "stream",
     "text": [
      "Epoch : 359 - Train_loss : 0.0000 - Train_Acc: 1.0000 - Val_loss : 0.3450 - Val_Acc: 0.5583  - Time: 10.258557319641113\n",
      "\n"
     ]
    },
    {
     "name": "stderr",
     "output_type": "stream",
     "text": [
      "100%|█████████████████████████████████████████████| 9/9 [00:07<00:00,  1.24it/s]\n",
      "100%|█████████████████████████████████████████████| 4/4 [00:03<00:00,  1.30it/s]\n"
     ]
    },
    {
     "name": "stdout",
     "output_type": "stream",
     "text": [
      "Epoch : 360 - Train_loss : 0.0000 - Train_Acc: 1.0000 - Val_loss : 0.3451 - Val_Acc: 0.5583  - Time: 10.365900754928589\n",
      "\n"
     ]
    },
    {
     "name": "stderr",
     "output_type": "stream",
     "text": [
      "100%|█████████████████████████████████████████████| 9/9 [00:07<00:00,  1.18it/s]\n",
      "100%|█████████████████████████████████████████████| 4/4 [00:03<00:00,  1.10it/s]\n"
     ]
    },
    {
     "name": "stdout",
     "output_type": "stream",
     "text": [
      "Epoch : 361 - Train_loss : 0.0000 - Train_Acc: 1.0000 - Val_loss : 0.3449 - Val_Acc: 0.5583  - Time: 11.248497009277344\n",
      "\n"
     ]
    },
    {
     "name": "stderr",
     "output_type": "stream",
     "text": [
      "100%|█████████████████████████████████████████████| 9/9 [00:07<00:00,  1.16it/s]\n",
      "100%|█████████████████████████████████████████████| 4/4 [00:03<00:00,  1.18it/s]\n"
     ]
    },
    {
     "name": "stdout",
     "output_type": "stream",
     "text": [
      "Epoch : 362 - Train_loss : 0.0000 - Train_Acc: 1.0000 - Val_loss : 0.3442 - Val_Acc: 0.5583  - Time: 11.149746179580688\n",
      "\n"
     ]
    },
    {
     "name": "stderr",
     "output_type": "stream",
     "text": [
      "100%|█████████████████████████████████████████████| 9/9 [00:07<00:00,  1.21it/s]\n",
      "100%|█████████████████████████████████████████████| 4/4 [00:03<00:00,  1.19it/s]\n"
     ]
    },
    {
     "name": "stdout",
     "output_type": "stream",
     "text": [
      "Epoch : 363 - Train_loss : 0.0000 - Train_Acc: 1.0000 - Val_loss : 0.3438 - Val_Acc: 0.5583  - Time: 10.79486632347107\n",
      "\n"
     ]
    },
    {
     "name": "stderr",
     "output_type": "stream",
     "text": [
      "100%|█████████████████████████████████████████████| 9/9 [00:07<00:00,  1.24it/s]\n",
      "100%|█████████████████████████████████████████████| 4/4 [00:03<00:00,  1.14it/s]\n"
     ]
    },
    {
     "name": "stdout",
     "output_type": "stream",
     "text": [
      "Epoch : 364 - Train_loss : 0.0000 - Train_Acc: 1.0000 - Val_loss : 0.3436 - Val_Acc: 0.5583  - Time: 10.77663254737854\n",
      "\n"
     ]
    },
    {
     "name": "stderr",
     "output_type": "stream",
     "text": [
      "100%|█████████████████████████████████████████████| 9/9 [00:07<00:00,  1.22it/s]\n",
      "100%|█████████████████████████████████████████████| 4/4 [00:03<00:00,  1.09it/s]\n"
     ]
    },
    {
     "name": "stdout",
     "output_type": "stream",
     "text": [
      "Epoch : 365 - Train_loss : 0.0000 - Train_Acc: 1.0000 - Val_loss : 0.3433 - Val_Acc: 0.5583  - Time: 11.059514999389648\n",
      "\n"
     ]
    },
    {
     "name": "stderr",
     "output_type": "stream",
     "text": [
      "100%|█████████████████████████████████████████████| 9/9 [00:07<00:00,  1.27it/s]\n",
      "100%|█████████████████████████████████████████████| 4/4 [00:03<00:00,  1.15it/s]\n"
     ]
    },
    {
     "name": "stdout",
     "output_type": "stream",
     "text": [
      "Epoch : 366 - Train_loss : 0.0000 - Train_Acc: 1.0000 - Val_loss : 0.3423 - Val_Acc: 0.5583  - Time: 10.573070526123047\n",
      "\n"
     ]
    },
    {
     "name": "stderr",
     "output_type": "stream",
     "text": [
      "100%|█████████████████████████████████████████████| 9/9 [00:07<00:00,  1.28it/s]\n",
      "100%|█████████████████████████████████████████████| 4/4 [00:03<00:00,  1.19it/s]\n"
     ]
    },
    {
     "name": "stdout",
     "output_type": "stream",
     "text": [
      "Epoch : 367 - Train_loss : 0.0001 - Train_Acc: 1.0000 - Val_loss : 0.3408 - Val_Acc: 0.5583  - Time: 10.407429695129395\n",
      "\n"
     ]
    },
    {
     "name": "stderr",
     "output_type": "stream",
     "text": [
      "100%|█████████████████████████████████████████████| 9/9 [00:06<00:00,  1.34it/s]\n",
      "100%|█████████████████████████████████████████████| 4/4 [00:03<00:00,  1.02it/s]\n"
     ]
    },
    {
     "name": "stdout",
     "output_type": "stream",
     "text": [
      "Epoch : 368 - Train_loss : 0.0000 - Train_Acc: 1.0000 - Val_loss : 0.3398 - Val_Acc: 0.5583  - Time: 10.616783142089844\n",
      "\n"
     ]
    },
    {
     "name": "stderr",
     "output_type": "stream",
     "text": [
      "100%|█████████████████████████████████████████████| 9/9 [00:07<00:00,  1.20it/s]\n",
      "100%|█████████████████████████████████████████████| 4/4 [00:03<00:00,  1.18it/s]\n"
     ]
    },
    {
     "name": "stdout",
     "output_type": "stream",
     "text": [
      "Epoch : 369 - Train_loss : 0.0002 - Train_Acc: 1.0000 - Val_loss : 0.3401 - Val_Acc: 0.5583  - Time: 10.877578258514404\n",
      "\n"
     ]
    },
    {
     "name": "stderr",
     "output_type": "stream",
     "text": [
      "100%|█████████████████████████████████████████████| 9/9 [00:07<00:00,  1.26it/s]\n",
      "100%|█████████████████████████████████████████████| 4/4 [00:03<00:00,  1.30it/s]\n"
     ]
    },
    {
     "name": "stdout",
     "output_type": "stream",
     "text": [
      "Epoch : 370 - Train_loss : 0.0001 - Train_Acc: 1.0000 - Val_loss : 0.3464 - Val_Acc: 0.5667  - Time: 10.225760459899902\n",
      "\n"
     ]
    },
    {
     "name": "stderr",
     "output_type": "stream",
     "text": [
      "100%|█████████████████████████████████████████████| 9/9 [00:07<00:00,  1.17it/s]\n",
      "100%|█████████████████████████████████████████████| 4/4 [00:03<00:00,  1.30it/s]\n"
     ]
    },
    {
     "name": "stdout",
     "output_type": "stream",
     "text": [
      "Epoch : 371 - Train_loss : 0.0001 - Train_Acc: 1.0000 - Val_loss : 0.3478 - Val_Acc: 0.5667  - Time: 10.81354284286499\n",
      "\n"
     ]
    },
    {
     "name": "stderr",
     "output_type": "stream",
     "text": [
      "100%|█████████████████████████████████████████████| 9/9 [00:07<00:00,  1.23it/s]\n",
      "100%|█████████████████████████████████████████████| 4/4 [00:03<00:00,  1.29it/s]\n"
     ]
    },
    {
     "name": "stdout",
     "output_type": "stream",
     "text": [
      "Epoch : 372 - Train_loss : 0.0000 - Train_Acc: 1.0000 - Val_loss : 0.3483 - Val_Acc: 0.5667  - Time: 10.41202998161316\n",
      "\n"
     ]
    },
    {
     "name": "stderr",
     "output_type": "stream",
     "text": [
      "100%|█████████████████████████████████████████████| 9/9 [00:07<00:00,  1.26it/s]\n",
      "100%|█████████████████████████████████████████████| 4/4 [00:03<00:00,  1.29it/s]\n"
     ]
    },
    {
     "name": "stdout",
     "output_type": "stream",
     "text": [
      "Epoch : 373 - Train_loss : 0.0001 - Train_Acc: 1.0000 - Val_loss : 0.3474 - Val_Acc: 0.5667  - Time: 10.252244472503662\n",
      "\n"
     ]
    },
    {
     "name": "stderr",
     "output_type": "stream",
     "text": [
      "100%|█████████████████████████████████████████████| 9/9 [00:07<00:00,  1.27it/s]\n",
      "100%|█████████████████████████████████████████████| 4/4 [00:03<00:00,  1.29it/s]\n"
     ]
    },
    {
     "name": "stdout",
     "output_type": "stream",
     "text": [
      "Epoch : 374 - Train_loss : 0.0000 - Train_Acc: 1.0000 - Val_loss : 0.3461 - Val_Acc: 0.5667  - Time: 10.176122426986694\n",
      "\n"
     ]
    },
    {
     "name": "stderr",
     "output_type": "stream",
     "text": [
      "100%|█████████████████████████████████████████████| 9/9 [00:07<00:00,  1.23it/s]\n",
      "100%|█████████████████████████████████████████████| 4/4 [00:03<00:00,  1.31it/s]\n"
     ]
    },
    {
     "name": "stdout",
     "output_type": "stream",
     "text": [
      "Epoch : 375 - Train_loss : 0.0000 - Train_Acc: 1.0000 - Val_loss : 0.3449 - Val_Acc: 0.5667  - Time: 10.378297090530396\n",
      "\n"
     ]
    },
    {
     "name": "stderr",
     "output_type": "stream",
     "text": [
      "100%|█████████████████████████████████████████████| 9/9 [00:08<00:00,  1.11it/s]\n",
      "100%|█████████████████████████████████████████████| 4/4 [00:03<00:00,  1.19it/s]\n"
     ]
    },
    {
     "name": "stdout",
     "output_type": "stream",
     "text": [
      "Epoch : 376 - Train_loss : 0.0000 - Train_Acc: 1.0000 - Val_loss : 0.3444 - Val_Acc: 0.5667  - Time: 11.519484519958496\n",
      "\n"
     ]
    },
    {
     "name": "stderr",
     "output_type": "stream",
     "text": [
      "100%|█████████████████████████████████████████████| 9/9 [00:07<00:00,  1.21it/s]\n",
      "100%|█████████████████████████████████████████████| 4/4 [00:03<00:00,  1.22it/s]\n"
     ]
    },
    {
     "name": "stdout",
     "output_type": "stream",
     "text": [
      "Epoch : 377 - Train_loss : 0.0000 - Train_Acc: 1.0000 - Val_loss : 0.3442 - Val_Acc: 0.5667  - Time: 10.727583646774292\n",
      "\n"
     ]
    },
    {
     "name": "stderr",
     "output_type": "stream",
     "text": [
      "100%|█████████████████████████████████████████████| 9/9 [00:07<00:00,  1.15it/s]\n",
      "100%|█████████████████████████████████████████████| 4/4 [00:03<00:00,  1.17it/s]\n"
     ]
    },
    {
     "name": "stdout",
     "output_type": "stream",
     "text": [
      "Epoch : 378 - Train_loss : 0.0000 - Train_Acc: 1.0000 - Val_loss : 0.3441 - Val_Acc: 0.5667  - Time: 11.255606889724731\n",
      "\n"
     ]
    },
    {
     "name": "stderr",
     "output_type": "stream",
     "text": [
      "100%|█████████████████████████████████████████████| 9/9 [00:07<00:00,  1.19it/s]\n",
      "100%|█████████████████████████████████████████████| 4/4 [00:03<00:00,  1.21it/s]\n"
     ]
    },
    {
     "name": "stdout",
     "output_type": "stream",
     "text": [
      "Epoch : 379 - Train_loss : 0.0000 - Train_Acc: 1.0000 - Val_loss : 0.3437 - Val_Acc: 0.5667  - Time: 10.90014123916626\n",
      "\n"
     ]
    },
    {
     "name": "stderr",
     "output_type": "stream",
     "text": [
      "100%|█████████████████████████████████████████████| 9/9 [00:06<00:00,  1.32it/s]\n",
      "100%|█████████████████████████████████████████████| 4/4 [00:03<00:00,  1.14it/s]\n"
     ]
    },
    {
     "name": "stdout",
     "output_type": "stream",
     "text": [
      "Epoch : 380 - Train_loss : 0.0000 - Train_Acc: 1.0000 - Val_loss : 0.3435 - Val_Acc: 0.5667  - Time: 10.319275140762329\n",
      "\n"
     ]
    },
    {
     "name": "stderr",
     "output_type": "stream",
     "text": [
      "100%|█████████████████████████████████████████████| 9/9 [00:07<00:00,  1.22it/s]\n",
      "100%|█████████████████████████████████████████████| 4/4 [00:03<00:00,  1.17it/s]\n"
     ]
    },
    {
     "name": "stdout",
     "output_type": "stream",
     "text": [
      "Epoch : 381 - Train_loss : 0.0000 - Train_Acc: 1.0000 - Val_loss : 0.3435 - Val_Acc: 0.5667  - Time: 10.764445781707764\n",
      "\n"
     ]
    },
    {
     "name": "stderr",
     "output_type": "stream",
     "text": [
      "100%|█████████████████████████████████████████████| 9/9 [00:07<00:00,  1.26it/s]\n",
      "100%|█████████████████████████████████████████████| 4/4 [00:03<00:00,  1.12it/s]\n"
     ]
    },
    {
     "name": "stdout",
     "output_type": "stream",
     "text": [
      "Epoch : 382 - Train_loss : 0.0000 - Train_Acc: 1.0000 - Val_loss : 0.3434 - Val_Acc: 0.5667  - Time: 10.742719650268555\n",
      "\n"
     ]
    },
    {
     "name": "stderr",
     "output_type": "stream",
     "text": [
      "100%|█████████████████████████████████████████████| 9/9 [00:08<00:00,  1.11it/s]\n",
      "100%|█████████████████████████████████████████████| 4/4 [00:03<00:00,  1.16it/s]\n"
     ]
    },
    {
     "name": "stdout",
     "output_type": "stream",
     "text": [
      "Epoch : 383 - Train_loss : 0.0000 - Train_Acc: 1.0000 - Val_loss : 0.3436 - Val_Acc: 0.5667  - Time: 11.550078630447388\n",
      "\n"
     ]
    },
    {
     "name": "stderr",
     "output_type": "stream",
     "text": [
      "100%|█████████████████████████████████████████████| 9/9 [00:07<00:00,  1.21it/s]\n",
      "100%|█████████████████████████████████████████████| 4/4 [00:03<00:00,  1.32it/s]\n"
     ]
    },
    {
     "name": "stdout",
     "output_type": "stream",
     "text": [
      "Epoch : 384 - Train_loss : 0.0000 - Train_Acc: 1.0000 - Val_loss : 0.3439 - Val_Acc: 0.5667  - Time: 10.47963833808899\n",
      "\n"
     ]
    },
    {
     "name": "stderr",
     "output_type": "stream",
     "text": [
      "100%|█████████████████████████████████████████████| 9/9 [00:07<00:00,  1.27it/s]\n",
      "100%|█████████████████████████████████████████████| 4/4 [00:03<00:00,  1.20it/s]\n"
     ]
    },
    {
     "name": "stdout",
     "output_type": "stream",
     "text": [
      "Epoch : 385 - Train_loss : 0.0000 - Train_Acc: 1.0000 - Val_loss : 0.3444 - Val_Acc: 0.5667  - Time: 10.448474168777466\n",
      "\n"
     ]
    },
    {
     "name": "stderr",
     "output_type": "stream",
     "text": [
      "100%|█████████████████████████████████████████████| 9/9 [00:07<00:00,  1.21it/s]\n",
      "100%|█████████████████████████████████████████████| 4/4 [00:03<00:00,  1.31it/s]\n"
     ]
    },
    {
     "name": "stdout",
     "output_type": "stream",
     "text": [
      "Epoch : 386 - Train_loss : 0.0000 - Train_Acc: 1.0000 - Val_loss : 0.3450 - Val_Acc: 0.5667  - Time: 10.526529550552368\n",
      "\n"
     ]
    },
    {
     "name": "stderr",
     "output_type": "stream",
     "text": [
      "100%|█████████████████████████████████████████████| 9/9 [00:07<00:00,  1.22it/s]\n",
      "100%|█████████████████████████████████████████████| 4/4 [00:03<00:00,  1.29it/s]\n"
     ]
    },
    {
     "name": "stdout",
     "output_type": "stream",
     "text": [
      "Epoch : 387 - Train_loss : 0.0000 - Train_Acc: 1.0000 - Val_loss : 0.3451 - Val_Acc: 0.5667  - Time: 10.497696161270142\n",
      "\n"
     ]
    },
    {
     "name": "stderr",
     "output_type": "stream",
     "text": [
      "100%|█████████████████████████████████████████████| 9/9 [00:07<00:00,  1.22it/s]\n",
      "100%|█████████████████████████████████████████████| 4/4 [00:03<00:00,  1.21it/s]\n"
     ]
    },
    {
     "name": "stdout",
     "output_type": "stream",
     "text": [
      "Epoch : 388 - Train_loss : 0.0000 - Train_Acc: 1.0000 - Val_loss : 0.3449 - Val_Acc: 0.5667  - Time: 10.687987327575684\n",
      "\n"
     ]
    },
    {
     "name": "stderr",
     "output_type": "stream",
     "text": [
      "100%|█████████████████████████████████████████████| 9/9 [00:07<00:00,  1.20it/s]\n",
      "100%|█████████████████████████████████████████████| 4/4 [00:03<00:00,  1.22it/s]\n"
     ]
    },
    {
     "name": "stdout",
     "output_type": "stream",
     "text": [
      "Epoch : 389 - Train_loss : 0.0000 - Train_Acc: 1.0000 - Val_loss : 0.3443 - Val_Acc: 0.5667  - Time: 10.743131160736084\n",
      "\n"
     ]
    },
    {
     "name": "stderr",
     "output_type": "stream",
     "text": [
      "100%|█████████████████████████████████████████████| 9/9 [00:07<00:00,  1.13it/s]\n",
      "100%|█████████████████████████████████████████████| 4/4 [00:03<00:00,  1.15it/s]\n"
     ]
    },
    {
     "name": "stdout",
     "output_type": "stream",
     "text": [
      "Epoch : 390 - Train_loss : 0.0004 - Train_Acc: 1.0000 - Val_loss : 0.3397 - Val_Acc: 0.5667  - Time: 11.41570258140564\n",
      "\n"
     ]
    },
    {
     "name": "stderr",
     "output_type": "stream",
     "text": [
      "100%|█████████████████████████████████████████████| 9/9 [00:07<00:00,  1.28it/s]\n",
      "100%|█████████████████████████████████████████████| 4/4 [00:03<00:00,  1.24it/s]\n"
     ]
    },
    {
     "name": "stdout",
     "output_type": "stream",
     "text": [
      "Epoch : 391 - Train_loss : 0.0000 - Train_Acc: 1.0000 - Val_loss : 0.3307 - Val_Acc: 0.5500  - Time: 10.237921953201294\n",
      "\n"
     ]
    },
    {
     "name": "stderr",
     "output_type": "stream",
     "text": [
      "100%|█████████████████████████████████████████████| 9/9 [00:07<00:00,  1.26it/s]\n",
      "100%|█████████████████████████████████████████████| 4/4 [00:03<00:00,  1.13it/s]\n"
     ]
    },
    {
     "name": "stdout",
     "output_type": "stream",
     "text": [
      "Epoch : 392 - Train_loss : 0.0002 - Train_Acc: 1.0000 - Val_loss : 0.3286 - Val_Acc: 0.5417  - Time: 10.706028938293457\n",
      "\n"
     ]
    },
    {
     "name": "stderr",
     "output_type": "stream",
     "text": [
      "100%|█████████████████████████████████████████████| 9/9 [00:07<00:00,  1.19it/s]\n",
      "100%|█████████████████████████████████████████████| 4/4 [00:03<00:00,  1.11it/s]\n"
     ]
    },
    {
     "name": "stdout",
     "output_type": "stream",
     "text": [
      "Epoch : 393 - Train_loss : 0.0001 - Train_Acc: 1.0000 - Val_loss : 0.3300 - Val_Acc: 0.5417  - Time: 11.159334897994995\n",
      "\n"
     ]
    },
    {
     "name": "stderr",
     "output_type": "stream",
     "text": [
      "100%|█████████████████████████████████████████████| 9/9 [00:06<00:00,  1.29it/s]\n",
      "100%|█████████████████████████████████████████████| 4/4 [00:03<00:00,  1.16it/s]\n"
     ]
    },
    {
     "name": "stdout",
     "output_type": "stream",
     "text": [
      "Epoch : 394 - Train_loss : 0.0000 - Train_Acc: 1.0000 - Val_loss : 0.3305 - Val_Acc: 0.5500  - Time: 10.453107833862305\n",
      "\n"
     ]
    },
    {
     "name": "stderr",
     "output_type": "stream",
     "text": [
      "100%|█████████████████████████████████████████████| 9/9 [00:07<00:00,  1.27it/s]\n",
      "100%|█████████████████████████████████████████████| 4/4 [00:03<00:00,  1.17it/s]\n"
     ]
    },
    {
     "name": "stdout",
     "output_type": "stream",
     "text": [
      "Epoch : 395 - Train_loss : 0.0000 - Train_Acc: 1.0000 - Val_loss : 0.3307 - Val_Acc: 0.5500  - Time: 10.534723281860352\n",
      "\n"
     ]
    },
    {
     "name": "stderr",
     "output_type": "stream",
     "text": [
      "100%|█████████████████████████████████████████████| 9/9 [00:07<00:00,  1.26it/s]\n",
      "100%|█████████████████████████████████████████████| 4/4 [00:03<00:00,  1.18it/s]\n"
     ]
    },
    {
     "name": "stdout",
     "output_type": "stream",
     "text": [
      "Epoch : 396 - Train_loss : 0.0001 - Train_Acc: 1.0000 - Val_loss : 0.3322 - Val_Acc: 0.5500  - Time: 10.53943395614624\n",
      "\n"
     ]
    },
    {
     "name": "stderr",
     "output_type": "stream",
     "text": [
      "100%|█████████████████████████████████████████████| 9/9 [00:07<00:00,  1.26it/s]\n",
      "100%|█████████████████████████████████████████████| 4/4 [00:03<00:00,  1.15it/s]\n"
     ]
    },
    {
     "name": "stdout",
     "output_type": "stream",
     "text": [
      "Epoch : 397 - Train_loss : 0.0000 - Train_Acc: 1.0000 - Val_loss : 0.3328 - Val_Acc: 0.5500  - Time: 10.61811876296997\n",
      "\n"
     ]
    },
    {
     "name": "stderr",
     "output_type": "stream",
     "text": [
      "100%|█████████████████████████████████████████████| 9/9 [00:07<00:00,  1.16it/s]\n",
      "100%|█████████████████████████████████████████████| 4/4 [00:03<00:00,  1.33it/s]\n"
     ]
    },
    {
     "name": "stdout",
     "output_type": "stream",
     "text": [
      "Epoch : 398 - Train_loss : 0.0000 - Train_Acc: 1.0000 - Val_loss : 0.3328 - Val_Acc: 0.5417  - Time: 10.750493288040161\n",
      "\n"
     ]
    },
    {
     "name": "stderr",
     "output_type": "stream",
     "text": [
      "100%|█████████████████████████████████████████████| 9/9 [00:07<00:00,  1.22it/s]\n",
      "100%|█████████████████████████████████████████████| 4/4 [00:03<00:00,  1.27it/s]\n"
     ]
    },
    {
     "name": "stdout",
     "output_type": "stream",
     "text": [
      "Epoch : 399 - Train_loss : 0.0000 - Train_Acc: 1.0000 - Val_loss : 0.3326 - Val_Acc: 0.5500  - Time: 10.53434705734253\n",
      "\n"
     ]
    },
    {
     "name": "stderr",
     "output_type": "stream",
     "text": [
      "100%|█████████████████████████████████████████████| 9/9 [00:07<00:00,  1.19it/s]\n",
      "100%|█████████████████████████████████████████████| 4/4 [00:03<00:00,  1.29it/s]\n"
     ]
    },
    {
     "name": "stdout",
     "output_type": "stream",
     "text": [
      "Epoch : 400 - Train_loss : 0.0000 - Train_Acc: 1.0000 - Val_loss : 0.3324 - Val_Acc: 0.5500  - Time: 10.67198896408081\n",
      "\n"
     ]
    },
    {
     "name": "stderr",
     "output_type": "stream",
     "text": [
      "100%|█████████████████████████████████████████████| 9/9 [00:07<00:00,  1.25it/s]\n",
      "100%|█████████████████████████████████████████████| 4/4 [00:03<00:00,  1.31it/s]\n"
     ]
    },
    {
     "name": "stdout",
     "output_type": "stream",
     "text": [
      "Epoch : 401 - Train_loss : 0.0000 - Train_Acc: 1.0000 - Val_loss : 0.3323 - Val_Acc: 0.5500  - Time: 10.266901969909668\n",
      "\n"
     ]
    },
    {
     "name": "stderr",
     "output_type": "stream",
     "text": [
      "100%|█████████████████████████████████████████████| 9/9 [00:07<00:00,  1.22it/s]\n",
      "100%|█████████████████████████████████████████████| 4/4 [00:03<00:00,  1.31it/s]\n"
     ]
    },
    {
     "name": "stdout",
     "output_type": "stream",
     "text": [
      "Epoch : 402 - Train_loss : 0.0000 - Train_Acc: 1.0000 - Val_loss : 0.3321 - Val_Acc: 0.5333  - Time: 10.421266317367554\n",
      "\n"
     ]
    },
    {
     "name": "stderr",
     "output_type": "stream",
     "text": [
      "100%|█████████████████████████████████████████████| 9/9 [00:07<00:00,  1.23it/s]\n",
      "100%|█████████████████████████████████████████████| 4/4 [00:03<00:00,  1.23it/s]\n"
     ]
    },
    {
     "name": "stdout",
     "output_type": "stream",
     "text": [
      "Epoch : 403 - Train_loss : 0.0000 - Train_Acc: 1.0000 - Val_loss : 0.3319 - Val_Acc: 0.5333  - Time: 10.585516691207886\n",
      "\n"
     ]
    },
    {
     "name": "stderr",
     "output_type": "stream",
     "text": [
      "100%|█████████████████████████████████████████████| 9/9 [00:07<00:00,  1.22it/s]\n",
      "100%|█████████████████████████████████████████████| 4/4 [00:03<00:00,  1.19it/s]\n"
     ]
    },
    {
     "name": "stdout",
     "output_type": "stream",
     "text": [
      "Epoch : 404 - Train_loss : 0.0000 - Train_Acc: 1.0000 - Val_loss : 0.3317 - Val_Acc: 0.5333  - Time: 10.726177453994751\n",
      "\n"
     ]
    },
    {
     "name": "stderr",
     "output_type": "stream",
     "text": [
      "100%|█████████████████████████████████████████████| 9/9 [00:07<00:00,  1.14it/s]\n",
      "100%|█████████████████████████████████████████████| 4/4 [00:03<00:00,  1.17it/s]\n"
     ]
    },
    {
     "name": "stdout",
     "output_type": "stream",
     "text": [
      "Epoch : 405 - Train_loss : 0.0000 - Train_Acc: 1.0000 - Val_loss : 0.3317 - Val_Acc: 0.5333  - Time: 11.318688154220581\n",
      "\n"
     ]
    },
    {
     "name": "stderr",
     "output_type": "stream",
     "text": [
      "100%|█████████████████████████████████████████████| 9/9 [00:07<00:00,  1.27it/s]\n",
      "100%|█████████████████████████████████████████████| 4/4 [00:03<00:00,  1.24it/s]\n"
     ]
    },
    {
     "name": "stdout",
     "output_type": "stream",
     "text": [
      "Epoch : 406 - Train_loss : 0.0000 - Train_Acc: 1.0000 - Val_loss : 0.3317 - Val_Acc: 0.5333  - Time: 10.332771062850952\n",
      "\n"
     ]
    },
    {
     "name": "stderr",
     "output_type": "stream",
     "text": [
      "100%|█████████████████████████████████████████████| 9/9 [00:07<00:00,  1.25it/s]\n",
      "100%|█████████████████████████████████████████████| 4/4 [00:03<00:00,  1.12it/s]\n"
     ]
    },
    {
     "name": "stdout",
     "output_type": "stream",
     "text": [
      "Epoch : 407 - Train_loss : 0.0001 - Train_Acc: 1.0000 - Val_loss : 0.3324 - Val_Acc: 0.5333  - Time: 10.755859613418579\n",
      "\n"
     ]
    },
    {
     "name": "stderr",
     "output_type": "stream",
     "text": [
      "100%|█████████████████████████████████████████████| 9/9 [00:06<00:00,  1.32it/s]\n",
      "100%|█████████████████████████████████████████████| 4/4 [00:03<00:00,  1.14it/s]\n"
     ]
    },
    {
     "name": "stdout",
     "output_type": "stream",
     "text": [
      "Epoch : 408 - Train_loss : 0.0000 - Train_Acc: 1.0000 - Val_loss : 0.3332 - Val_Acc: 0.5333  - Time: 10.363446474075317\n",
      "\n"
     ]
    },
    {
     "name": "stderr",
     "output_type": "stream",
     "text": [
      "100%|█████████████████████████████████████████████| 9/9 [00:06<00:00,  1.30it/s]\n",
      "100%|█████████████████████████████████████████████| 4/4 [00:03<00:00,  1.13it/s]\n"
     ]
    },
    {
     "name": "stdout",
     "output_type": "stream",
     "text": [
      "Epoch : 409 - Train_loss : 0.0000 - Train_Acc: 1.0000 - Val_loss : 0.3337 - Val_Acc: 0.5333  - Time: 10.476321458816528\n",
      "\n"
     ]
    },
    {
     "name": "stderr",
     "output_type": "stream",
     "text": [
      "100%|█████████████████████████████████████████████| 9/9 [00:07<00:00,  1.26it/s]\n",
      "100%|█████████████████████████████████████████████| 4/4 [00:03<00:00,  1.19it/s]\n"
     ]
    },
    {
     "name": "stdout",
     "output_type": "stream",
     "text": [
      "Epoch : 410 - Train_loss : 0.0000 - Train_Acc: 1.0000 - Val_loss : 0.3337 - Val_Acc: 0.5333  - Time: 10.541839361190796\n",
      "\n"
     ]
    },
    {
     "name": "stderr",
     "output_type": "stream",
     "text": [
      "100%|█████████████████████████████████████████████| 9/9 [00:06<00:00,  1.32it/s]\n",
      "100%|█████████████████████████████████████████████| 4/4 [00:03<00:00,  1.17it/s]\n"
     ]
    },
    {
     "name": "stdout",
     "output_type": "stream",
     "text": [
      "Epoch : 411 - Train_loss : 0.0000 - Train_Acc: 1.0000 - Val_loss : 0.3340 - Val_Acc: 0.5333  - Time: 10.26089334487915\n",
      "\n"
     ]
    },
    {
     "name": "stderr",
     "output_type": "stream",
     "text": [
      "100%|█████████████████████████████████████████████| 9/9 [00:07<00:00,  1.15it/s]\n",
      "100%|█████████████████████████████████████████████| 4/4 [00:03<00:00,  1.12it/s]\n"
     ]
    },
    {
     "name": "stdout",
     "output_type": "stream",
     "text": [
      "Epoch : 412 - Train_loss : 0.0000 - Train_Acc: 1.0000 - Val_loss : 0.3348 - Val_Acc: 0.5333  - Time: 11.42108941078186\n",
      "\n"
     ]
    },
    {
     "name": "stderr",
     "output_type": "stream",
     "text": [
      "100%|█████████████████████████████████████████████| 9/9 [00:07<00:00,  1.19it/s]\n",
      "100%|█████████████████████████████████████████████| 4/4 [00:03<00:00,  1.33it/s]\n"
     ]
    },
    {
     "name": "stdout",
     "output_type": "stream",
     "text": [
      "Epoch : 413 - Train_loss : 0.0001 - Train_Acc: 1.0000 - Val_loss : 0.3355 - Val_Acc: 0.5333  - Time: 10.557756900787354\n",
      "\n"
     ]
    },
    {
     "name": "stderr",
     "output_type": "stream",
     "text": [
      "100%|█████████████████████████████████████████████| 9/9 [00:07<00:00,  1.20it/s]\n",
      "100%|█████████████████████████████████████████████| 4/4 [00:03<00:00,  1.24it/s]\n"
     ]
    },
    {
     "name": "stdout",
     "output_type": "stream",
     "text": [
      "Epoch : 414 - Train_loss : 0.0002 - Train_Acc: 1.0000 - Val_loss : 0.3421 - Val_Acc: 0.5333  - Time: 10.740041971206665\n",
      "\n"
     ]
    },
    {
     "name": "stderr",
     "output_type": "stream",
     "text": [
      "100%|█████████████████████████████████████████████| 9/9 [00:07<00:00,  1.19it/s]\n",
      "100%|█████████████████████████████████████████████| 4/4 [00:03<00:00,  1.29it/s]\n"
     ]
    },
    {
     "name": "stdout",
     "output_type": "stream",
     "text": [
      "Epoch : 415 - Train_loss : 0.0000 - Train_Acc: 1.0000 - Val_loss : 0.3601 - Val_Acc: 0.5500  - Time: 10.65354609489441\n",
      "\n"
     ]
    },
    {
     "name": "stderr",
     "output_type": "stream",
     "text": [
      "100%|█████████████████████████████████████████████| 9/9 [00:07<00:00,  1.22it/s]\n",
      "100%|█████████████████████████████████████████████| 4/4 [00:03<00:00,  1.31it/s]\n"
     ]
    },
    {
     "name": "stdout",
     "output_type": "stream",
     "text": [
      "Epoch : 416 - Train_loss : 0.0000 - Train_Acc: 1.0000 - Val_loss : 0.3672 - Val_Acc: 0.5500  - Time: 10.407310962677002\n",
      "\n"
     ]
    },
    {
     "name": "stderr",
     "output_type": "stream",
     "text": [
      "100%|█████████████████████████████████████████████| 9/9 [00:07<00:00,  1.22it/s]\n",
      "100%|█████████████████████████████████████████████| 4/4 [00:03<00:00,  1.29it/s]\n"
     ]
    },
    {
     "name": "stdout",
     "output_type": "stream",
     "text": [
      "Epoch : 417 - Train_loss : 0.0000 - Train_Acc: 1.0000 - Val_loss : 0.3709 - Val_Acc: 0.5500  - Time: 10.478606462478638\n",
      "\n"
     ]
    },
    {
     "name": "stderr",
     "output_type": "stream",
     "text": [
      "100%|█████████████████████████████████████████████| 9/9 [00:07<00:00,  1.24it/s]\n",
      "100%|█████████████████████████████████████████████| 4/4 [00:03<00:00,  1.25it/s]\n"
     ]
    },
    {
     "name": "stdout",
     "output_type": "stream",
     "text": [
      "Epoch : 418 - Train_loss : 0.0001 - Train_Acc: 1.0000 - Val_loss : 0.3730 - Val_Acc: 0.5500  - Time: 10.463275671005249\n",
      "\n"
     ]
    },
    {
     "name": "stderr",
     "output_type": "stream",
     "text": [
      "100%|█████████████████████████████████████████████| 9/9 [00:07<00:00,  1.21it/s]\n",
      "100%|█████████████████████████████████████████████| 4/4 [00:03<00:00,  1.11it/s]\n"
     ]
    },
    {
     "name": "stdout",
     "output_type": "stream",
     "text": [
      "Epoch : 419 - Train_loss : 0.0000 - Train_Acc: 1.0000 - Val_loss : 0.3735 - Val_Acc: 0.5500  - Time: 11.060930252075195\n",
      "\n"
     ]
    },
    {
     "name": "stderr",
     "output_type": "stream",
     "text": [
      "100%|█████████████████████████████████████████████| 9/9 [00:07<00:00,  1.23it/s]\n",
      "100%|█████████████████████████████████████████████| 4/4 [00:03<00:00,  1.21it/s]\n"
     ]
    },
    {
     "name": "stdout",
     "output_type": "stream",
     "text": [
      "Epoch : 420 - Train_loss : 0.0000 - Train_Acc: 1.0000 - Val_loss : 0.3738 - Val_Acc: 0.5500  - Time: 10.641873836517334\n",
      "\n"
     ]
    },
    {
     "name": "stderr",
     "output_type": "stream",
     "text": [
      "100%|█████████████████████████████████████████████| 9/9 [00:07<00:00,  1.24it/s]\n",
      "100%|█████████████████████████████████████████████| 4/4 [00:03<00:00,  1.23it/s]\n"
     ]
    },
    {
     "name": "stdout",
     "output_type": "stream",
     "text": [
      "Epoch : 421 - Train_loss : 0.0000 - Train_Acc: 1.0000 - Val_loss : 0.3750 - Val_Acc: 0.5500  - Time: 10.502049207687378\n",
      "\n"
     ]
    },
    {
     "name": "stderr",
     "output_type": "stream",
     "text": [
      "100%|█████████████████████████████████████████████| 9/9 [00:07<00:00,  1.19it/s]\n",
      "100%|█████████████████████████████████████████████| 4/4 [00:03<00:00,  1.23it/s]\n"
     ]
    },
    {
     "name": "stdout",
     "output_type": "stream",
     "text": [
      "Epoch : 422 - Train_loss : 0.0000 - Train_Acc: 1.0000 - Val_loss : 0.3761 - Val_Acc: 0.5583  - Time: 10.856736183166504\n",
      "\n"
     ]
    },
    {
     "name": "stderr",
     "output_type": "stream",
     "text": [
      "100%|█████████████████████████████████████████████| 9/9 [00:06<00:00,  1.30it/s]\n",
      "100%|█████████████████████████████████████████████| 4/4 [00:03<00:00,  1.21it/s]\n"
     ]
    },
    {
     "name": "stdout",
     "output_type": "stream",
     "text": [
      "Epoch : 423 - Train_loss : 0.0000 - Train_Acc: 1.0000 - Val_loss : 0.3769 - Val_Acc: 0.5583  - Time: 10.242050647735596\n",
      "\n"
     ]
    },
    {
     "name": "stderr",
     "output_type": "stream",
     "text": [
      "100%|█████████████████████████████████████████████| 9/9 [00:07<00:00,  1.25it/s]\n",
      "100%|█████████████████████████████████████████████| 4/4 [00:03<00:00,  1.15it/s]\n"
     ]
    },
    {
     "name": "stdout",
     "output_type": "stream",
     "text": [
      "Epoch : 424 - Train_loss : 0.0000 - Train_Acc: 1.0000 - Val_loss : 0.3775 - Val_Acc: 0.5500  - Time: 10.659241676330566\n",
      "\n"
     ]
    },
    {
     "name": "stderr",
     "output_type": "stream",
     "text": [
      "100%|█████████████████████████████████████████████| 9/9 [00:07<00:00,  1.28it/s]\n",
      "100%|█████████████████████████████████████████████| 4/4 [00:03<00:00,  1.10it/s]\n"
     ]
    },
    {
     "name": "stdout",
     "output_type": "stream",
     "text": [
      "Epoch : 425 - Train_loss : 0.0000 - Train_Acc: 1.0000 - Val_loss : 0.3782 - Val_Acc: 0.5500  - Time: 10.644932746887207\n",
      "\n"
     ]
    },
    {
     "name": "stderr",
     "output_type": "stream",
     "text": [
      "100%|█████████████████████████████████████████████| 9/9 [00:07<00:00,  1.27it/s]\n",
      "100%|█████████████████████████████████████████████| 4/4 [00:03<00:00,  1.02it/s]\n"
     ]
    },
    {
     "name": "stdout",
     "output_type": "stream",
     "text": [
      "Epoch : 426 - Train_loss : 0.0001 - Train_Acc: 1.0000 - Val_loss : 0.3801 - Val_Acc: 0.5417  - Time: 11.0051851272583\n",
      "\n"
     ]
    },
    {
     "name": "stderr",
     "output_type": "stream",
     "text": [
      "100%|█████████████████████████████████████████████| 9/9 [00:07<00:00,  1.18it/s]\n",
      "100%|█████████████████████████████████████████████| 4/4 [00:03<00:00,  1.17it/s]\n"
     ]
    },
    {
     "name": "stdout",
     "output_type": "stream",
     "text": [
      "Epoch : 427 - Train_loss : 0.0000 - Train_Acc: 1.0000 - Val_loss : 0.3804 - Val_Acc: 0.5417  - Time: 11.02457332611084\n",
      "\n"
     ]
    },
    {
     "name": "stderr",
     "output_type": "stream",
     "text": [
      "100%|█████████████████████████████████████████████| 9/9 [00:07<00:00,  1.22it/s]\n",
      "100%|█████████████████████████████████████████████| 4/4 [00:03<00:00,  1.25it/s]\n"
     ]
    },
    {
     "name": "stdout",
     "output_type": "stream",
     "text": [
      "Epoch : 428 - Train_loss : 0.0000 - Train_Acc: 1.0000 - Val_loss : 0.3770 - Val_Acc: 0.5417  - Time: 10.592747211456299\n",
      "\n"
     ]
    },
    {
     "name": "stderr",
     "output_type": "stream",
     "text": [
      "100%|█████████████████████████████████████████████| 9/9 [00:07<00:00,  1.28it/s]\n",
      "100%|█████████████████████████████████████████████| 4/4 [00:03<00:00,  1.22it/s]\n"
     ]
    },
    {
     "name": "stdout",
     "output_type": "stream",
     "text": [
      "Epoch : 429 - Train_loss : 0.0000 - Train_Acc: 1.0000 - Val_loss : 0.3752 - Val_Acc: 0.5417  - Time: 10.295156955718994\n",
      "\n"
     ]
    },
    {
     "name": "stderr",
     "output_type": "stream",
     "text": [
      "100%|█████████████████████████████████████████████| 9/9 [00:07<00:00,  1.21it/s]\n",
      "100%|█████████████████████████████████████████████| 4/4 [00:03<00:00,  1.32it/s]\n"
     ]
    },
    {
     "name": "stdout",
     "output_type": "stream",
     "text": [
      "Epoch : 430 - Train_loss : 0.0000 - Train_Acc: 1.0000 - Val_loss : 0.3748 - Val_Acc: 0.5417  - Time: 10.443423748016357\n",
      "\n"
     ]
    },
    {
     "name": "stderr",
     "output_type": "stream",
     "text": [
      "100%|█████████████████████████████████████████████| 9/9 [00:07<00:00,  1.23it/s]\n",
      "100%|█████████████████████████████████████████████| 4/4 [00:03<00:00,  1.30it/s]\n"
     ]
    },
    {
     "name": "stdout",
     "output_type": "stream",
     "text": [
      "Epoch : 431 - Train_loss : 0.0001 - Train_Acc: 1.0000 - Val_loss : 0.3724 - Val_Acc: 0.5417  - Time: 10.411778688430786\n",
      "\n"
     ]
    },
    {
     "name": "stderr",
     "output_type": "stream",
     "text": [
      "100%|█████████████████████████████████████████████| 9/9 [00:07<00:00,  1.28it/s]\n",
      "100%|█████████████████████████████████████████████| 4/4 [00:03<00:00,  1.31it/s]\n"
     ]
    },
    {
     "name": "stdout",
     "output_type": "stream",
     "text": [
      "Epoch : 432 - Train_loss : 0.0000 - Train_Acc: 1.0000 - Val_loss : 0.3703 - Val_Acc: 0.5417  - Time: 10.075464248657227\n",
      "\n"
     ]
    },
    {
     "name": "stderr",
     "output_type": "stream",
     "text": [
      "100%|█████████████████████████████████████████████| 9/9 [00:07<00:00,  1.24it/s]\n",
      "100%|█████████████████████████████████████████████| 4/4 [00:03<00:00,  1.31it/s]\n"
     ]
    },
    {
     "name": "stdout",
     "output_type": "stream",
     "text": [
      "Epoch : 433 - Train_loss : 0.0000 - Train_Acc: 1.0000 - Val_loss : 0.3691 - Val_Acc: 0.5417  - Time: 10.332555055618286\n",
      "\n"
     ]
    },
    {
     "name": "stderr",
     "output_type": "stream",
     "text": [
      "100%|█████████████████████████████████████████████| 9/9 [00:08<00:00,  1.11it/s]\n",
      "100%|█████████████████████████████████████████████| 4/4 [00:03<00:00,  1.25it/s]\n"
     ]
    },
    {
     "name": "stdout",
     "output_type": "stream",
     "text": [
      "Epoch : 434 - Train_loss : 0.0000 - Train_Acc: 1.0000 - Val_loss : 0.3688 - Val_Acc: 0.5417  - Time: 11.299445867538452\n",
      "\n"
     ]
    },
    {
     "name": "stderr",
     "output_type": "stream",
     "text": [
      "100%|█████████████████████████████████████████████| 9/9 [00:07<00:00,  1.22it/s]\n",
      "100%|█████████████████████████████████████████████| 4/4 [00:03<00:00,  1.27it/s]\n"
     ]
    },
    {
     "name": "stdout",
     "output_type": "stream",
     "text": [
      "Epoch : 435 - Train_loss : 0.0000 - Train_Acc: 1.0000 - Val_loss : 0.3688 - Val_Acc: 0.5417  - Time: 10.532124757766724\n",
      "\n"
     ]
    },
    {
     "name": "stderr",
     "output_type": "stream",
     "text": [
      "100%|█████████████████████████████████████████████| 9/9 [00:07<00:00,  1.20it/s]\n",
      "100%|█████████████████████████████████████████████| 4/4 [00:03<00:00,  1.19it/s]\n"
     ]
    },
    {
     "name": "stdout",
     "output_type": "stream",
     "text": [
      "Epoch : 436 - Train_loss : 0.0000 - Train_Acc: 1.0000 - Val_loss : 0.3695 - Val_Acc: 0.5417  - Time: 10.858617067337036\n",
      "\n"
     ]
    },
    {
     "name": "stderr",
     "output_type": "stream",
     "text": [
      "100%|█████████████████████████████████████████████| 9/9 [00:07<00:00,  1.18it/s]\n",
      "100%|█████████████████████████████████████████████| 4/4 [00:03<00:00,  1.23it/s]\n"
     ]
    },
    {
     "name": "stdout",
     "output_type": "stream",
     "text": [
      "Epoch : 437 - Train_loss : 0.0000 - Train_Acc: 1.0000 - Val_loss : 0.3695 - Val_Acc: 0.5417  - Time: 10.919018030166626\n",
      "\n"
     ]
    },
    {
     "name": "stderr",
     "output_type": "stream",
     "text": [
      "100%|█████████████████████████████████████████████| 9/9 [00:07<00:00,  1.21it/s]\n",
      "100%|█████████████████████████████████████████████| 4/4 [00:03<00:00,  1.21it/s]\n"
     ]
    },
    {
     "name": "stdout",
     "output_type": "stream",
     "text": [
      "Epoch : 438 - Train_loss : 0.0000 - Train_Acc: 1.0000 - Val_loss : 0.3699 - Val_Acc: 0.5417  - Time: 10.766299962997437\n",
      "\n"
     ]
    },
    {
     "name": "stderr",
     "output_type": "stream",
     "text": [
      "100%|█████████████████████████████████████████████| 9/9 [00:07<00:00,  1.24it/s]\n",
      "100%|█████████████████████████████████████████████| 4/4 [00:03<00:00,  1.19it/s]\n"
     ]
    },
    {
     "name": "stdout",
     "output_type": "stream",
     "text": [
      "Epoch : 439 - Train_loss : 0.0000 - Train_Acc: 1.0000 - Val_loss : 0.3689 - Val_Acc: 0.5417  - Time: 10.63799238204956\n",
      "\n"
     ]
    },
    {
     "name": "stderr",
     "output_type": "stream",
     "text": [
      "100%|█████████████████████████████████████████████| 9/9 [00:06<00:00,  1.31it/s]\n",
      "100%|█████████████████████████████████████████████| 4/4 [00:03<00:00,  1.16it/s]\n"
     ]
    },
    {
     "name": "stdout",
     "output_type": "stream",
     "text": [
      "Epoch : 440 - Train_loss : 0.0000 - Train_Acc: 1.0000 - Val_loss : 0.3685 - Val_Acc: 0.5417  - Time: 10.327204465866089\n",
      "\n"
     ]
    },
    {
     "name": "stderr",
     "output_type": "stream",
     "text": [
      "100%|█████████████████████████████████████████████| 9/9 [00:07<00:00,  1.25it/s]\n",
      "100%|█████████████████████████████████████████████| 4/4 [00:03<00:00,  1.03it/s]\n"
     ]
    },
    {
     "name": "stdout",
     "output_type": "stream",
     "text": [
      "Epoch : 441 - Train_loss : 0.0000 - Train_Acc: 1.0000 - Val_loss : 0.3691 - Val_Acc: 0.5417  - Time: 11.115131616592407\n",
      "\n"
     ]
    },
    {
     "name": "stderr",
     "output_type": "stream",
     "text": [
      "100%|█████████████████████████████████████████████| 9/9 [00:07<00:00,  1.26it/s]\n",
      "100%|█████████████████████████████████████████████| 4/4 [00:03<00:00,  1.15it/s]\n"
     ]
    },
    {
     "name": "stdout",
     "output_type": "stream",
     "text": [
      "Epoch : 442 - Train_loss : 0.0000 - Train_Acc: 1.0000 - Val_loss : 0.3700 - Val_Acc: 0.5417  - Time: 10.66519284248352\n",
      "\n"
     ]
    },
    {
     "name": "stderr",
     "output_type": "stream",
     "text": [
      "100%|█████████████████████████████████████████████| 9/9 [00:06<00:00,  1.32it/s]\n",
      "100%|█████████████████████████████████████████████| 4/4 [00:03<00:00,  1.16it/s]\n"
     ]
    },
    {
     "name": "stdout",
     "output_type": "stream",
     "text": [
      "Epoch : 443 - Train_loss : 0.0000 - Train_Acc: 1.0000 - Val_loss : 0.3705 - Val_Acc: 0.5417  - Time: 10.26574420928955\n",
      "\n"
     ]
    },
    {
     "name": "stderr",
     "output_type": "stream",
     "text": [
      "100%|█████████████████████████████████████████████| 9/9 [00:07<00:00,  1.23it/s]\n",
      "100%|█████████████████████████████████████████████| 4/4 [00:03<00:00,  1.16it/s]\n"
     ]
    },
    {
     "name": "stdout",
     "output_type": "stream",
     "text": [
      "Epoch : 444 - Train_loss : 0.0000 - Train_Acc: 1.0000 - Val_loss : 0.3707 - Val_Acc: 0.5417  - Time: 10.793911218643188\n",
      "\n"
     ]
    },
    {
     "name": "stderr",
     "output_type": "stream",
     "text": [
      "100%|█████████████████████████████████████████████| 9/9 [00:07<00:00,  1.26it/s]\n",
      "100%|█████████████████████████████████████████████| 4/4 [00:03<00:00,  1.17it/s]\n"
     ]
    },
    {
     "name": "stdout",
     "output_type": "stream",
     "text": [
      "Epoch : 445 - Train_loss : 0.0000 - Train_Acc: 1.0000 - Val_loss : 0.3707 - Val_Acc: 0.5417  - Time: 10.547199964523315\n",
      "\n"
     ]
    },
    {
     "name": "stderr",
     "output_type": "stream",
     "text": [
      "100%|█████████████████████████████████████████████| 9/9 [00:07<00:00,  1.26it/s]\n",
      "100%|█████████████████████████████████████████████| 4/4 [00:03<00:00,  1.15it/s]\n"
     ]
    },
    {
     "name": "stdout",
     "output_type": "stream",
     "text": [
      "Epoch : 446 - Train_loss : 0.0000 - Train_Acc: 1.0000 - Val_loss : 0.3702 - Val_Acc: 0.5417  - Time: 10.609046936035156\n",
      "\n"
     ]
    },
    {
     "name": "stderr",
     "output_type": "stream",
     "text": [
      "100%|█████████████████████████████████████████████| 9/9 [00:07<00:00,  1.23it/s]\n",
      "100%|█████████████████████████████████████████████| 4/4 [00:03<00:00,  1.30it/s]\n"
     ]
    },
    {
     "name": "stdout",
     "output_type": "stream",
     "text": [
      "Epoch : 447 - Train_loss : 0.0001 - Train_Acc: 1.0000 - Val_loss : 0.3697 - Val_Acc: 0.5417  - Time: 10.40622329711914\n",
      "\n"
     ]
    },
    {
     "name": "stderr",
     "output_type": "stream",
     "text": [
      "100%|█████████████████████████████████████████████| 9/9 [00:07<00:00,  1.25it/s]\n",
      "100%|█████████████████████████████████████████████| 4/4 [00:03<00:00,  1.18it/s]\n"
     ]
    },
    {
     "name": "stdout",
     "output_type": "stream",
     "text": [
      "Epoch : 448 - Train_loss : 0.0000 - Train_Acc: 1.0000 - Val_loss : 0.3698 - Val_Acc: 0.5417  - Time: 10.605403900146484\n",
      "\n"
     ]
    },
    {
     "name": "stderr",
     "output_type": "stream",
     "text": [
      "100%|█████████████████████████████████████████████| 9/9 [00:07<00:00,  1.17it/s]\n",
      "100%|█████████████████████████████████████████████| 4/4 [00:03<00:00,  1.31it/s]\n"
     ]
    },
    {
     "name": "stdout",
     "output_type": "stream",
     "text": [
      "Epoch : 449 - Train_loss : 0.0000 - Train_Acc: 1.0000 - Val_loss : 0.3695 - Val_Acc: 0.5417  - Time: 10.743208646774292\n",
      "\n"
     ]
    },
    {
     "name": "stderr",
     "output_type": "stream",
     "text": [
      "100%|█████████████████████████████████████████████| 9/9 [00:07<00:00,  1.22it/s]\n",
      "100%|█████████████████████████████████████████████| 4/4 [00:03<00:00,  1.30it/s]\n"
     ]
    },
    {
     "name": "stdout",
     "output_type": "stream",
     "text": [
      "Epoch : 450 - Train_loss : 0.0000 - Train_Acc: 1.0000 - Val_loss : 0.3692 - Val_Acc: 0.5417  - Time: 10.478806018829346\n",
      "\n"
     ]
    },
    {
     "name": "stderr",
     "output_type": "stream",
     "text": [
      "100%|█████████████████████████████████████████████| 9/9 [00:07<00:00,  1.18it/s]\n",
      "100%|█████████████████████████████████████████████| 4/4 [00:03<00:00,  1.28it/s]\n"
     ]
    },
    {
     "name": "stdout",
     "output_type": "stream",
     "text": [
      "Epoch : 451 - Train_loss : 0.0000 - Train_Acc: 1.0000 - Val_loss : 0.3687 - Val_Acc: 0.5417  - Time: 10.742551803588867\n",
      "\n"
     ]
    },
    {
     "name": "stderr",
     "output_type": "stream",
     "text": [
      "100%|█████████████████████████████████████████████| 9/9 [00:07<00:00,  1.18it/s]\n",
      "100%|█████████████████████████████████████████████| 4/4 [00:03<00:00,  1.21it/s]\n"
     ]
    },
    {
     "name": "stdout",
     "output_type": "stream",
     "text": [
      "Epoch : 452 - Train_loss : 0.0000 - Train_Acc: 1.0000 - Val_loss : 0.3681 - Val_Acc: 0.5417  - Time: 10.902295589447021\n",
      "\n"
     ]
    },
    {
     "name": "stderr",
     "output_type": "stream",
     "text": [
      "100%|█████████████████████████████████████████████| 9/9 [00:07<00:00,  1.28it/s]\n",
      "100%|█████████████████████████████████████████████| 4/4 [00:03<00:00,  1.28it/s]\n"
     ]
    },
    {
     "name": "stdout",
     "output_type": "stream",
     "text": [
      "Epoch : 453 - Train_loss : 0.0000 - Train_Acc: 1.0000 - Val_loss : 0.3677 - Val_Acc: 0.5417  - Time: 10.157209873199463\n",
      "\n"
     ]
    },
    {
     "name": "stderr",
     "output_type": "stream",
     "text": [
      "100%|█████████████████████████████████████████████| 9/9 [00:07<00:00,  1.22it/s]\n",
      "100%|█████████████████████████████████████████████| 4/4 [00:03<00:00,  1.09it/s]\n"
     ]
    },
    {
     "name": "stdout",
     "output_type": "stream",
     "text": [
      "Epoch : 454 - Train_loss : 0.0000 - Train_Acc: 1.0000 - Val_loss : 0.3674 - Val_Acc: 0.5417  - Time: 11.048357486724854\n",
      "\n"
     ]
    },
    {
     "name": "stderr",
     "output_type": "stream",
     "text": [
      "100%|█████████████████████████████████████████████| 9/9 [00:07<00:00,  1.17it/s]\n",
      "100%|█████████████████████████████████████████████| 4/4 [00:03<00:00,  1.11it/s]\n"
     ]
    },
    {
     "name": "stdout",
     "output_type": "stream",
     "text": [
      "Epoch : 455 - Train_loss : 0.0000 - Train_Acc: 1.0000 - Val_loss : 0.3673 - Val_Acc: 0.5417  - Time: 11.34221363067627\n",
      "\n"
     ]
    },
    {
     "name": "stderr",
     "output_type": "stream",
     "text": [
      "100%|█████████████████████████████████████████████| 9/9 [00:07<00:00,  1.14it/s]\n",
      "100%|█████████████████████████████████████████████| 4/4 [00:03<00:00,  1.20it/s]\n"
     ]
    },
    {
     "name": "stdout",
     "output_type": "stream",
     "text": [
      "Epoch : 456 - Train_loss : 0.0000 - Train_Acc: 1.0000 - Val_loss : 0.3671 - Val_Acc: 0.5417  - Time: 11.205562591552734\n",
      "\n"
     ]
    },
    {
     "name": "stderr",
     "output_type": "stream",
     "text": [
      "100%|█████████████████████████████████████████████| 9/9 [00:07<00:00,  1.21it/s]\n",
      "100%|█████████████████████████████████████████████| 4/4 [00:03<00:00,  1.12it/s]\n"
     ]
    },
    {
     "name": "stdout",
     "output_type": "stream",
     "text": [
      "Epoch : 457 - Train_loss : 0.0000 - Train_Acc: 1.0000 - Val_loss : 0.3661 - Val_Acc: 0.5417  - Time: 11.019171953201294\n",
      "\n"
     ]
    },
    {
     "name": "stderr",
     "output_type": "stream",
     "text": [
      "100%|█████████████████████████████████████████████| 9/9 [00:07<00:00,  1.27it/s]\n",
      "100%|█████████████████████████████████████████████| 4/4 [00:03<00:00,  1.05it/s]\n"
     ]
    },
    {
     "name": "stdout",
     "output_type": "stream",
     "text": [
      "Epoch : 458 - Train_loss : 0.0000 - Train_Acc: 1.0000 - Val_loss : 0.3657 - Val_Acc: 0.5417  - Time: 10.896618843078613\n",
      "\n"
     ]
    },
    {
     "name": "stderr",
     "output_type": "stream",
     "text": [
      "100%|█████████████████████████████████████████████| 9/9 [00:07<00:00,  1.25it/s]\n",
      "100%|█████████████████████████████████████████████| 4/4 [00:03<00:00,  1.14it/s]\n"
     ]
    },
    {
     "name": "stdout",
     "output_type": "stream",
     "text": [
      "Epoch : 459 - Train_loss : 0.0000 - Train_Acc: 1.0000 - Val_loss : 0.3666 - Val_Acc: 0.5417  - Time: 10.718165874481201\n",
      "\n"
     ]
    },
    {
     "name": "stderr",
     "output_type": "stream",
     "text": [
      "100%|█████████████████████████████████████████████| 9/9 [00:07<00:00,  1.27it/s]\n",
      "100%|█████████████████████████████████████████████| 4/4 [00:03<00:00,  1.18it/s]\n"
     ]
    },
    {
     "name": "stdout",
     "output_type": "stream",
     "text": [
      "Epoch : 460 - Train_loss : 0.0000 - Train_Acc: 1.0000 - Val_loss : 0.3670 - Val_Acc: 0.5417  - Time: 10.466620206832886\n",
      "\n"
     ]
    },
    {
     "name": "stderr",
     "output_type": "stream",
     "text": [
      "100%|█████████████████████████████████████████████| 9/9 [00:07<00:00,  1.24it/s]\n",
      "100%|█████████████████████████████████████████████| 4/4 [00:03<00:00,  1.16it/s]\n"
     ]
    },
    {
     "name": "stdout",
     "output_type": "stream",
     "text": [
      "Epoch : 461 - Train_loss : 0.0000 - Train_Acc: 1.0000 - Val_loss : 0.3673 - Val_Acc: 0.5333  - Time: 10.678282022476196\n",
      "\n"
     ]
    },
    {
     "name": "stderr",
     "output_type": "stream",
     "text": [
      "100%|█████████████████████████████████████████████| 9/9 [00:08<00:00,  1.12it/s]\n",
      "100%|█████████████████████████████████████████████| 4/4 [00:03<00:00,  1.24it/s]\n"
     ]
    },
    {
     "name": "stdout",
     "output_type": "stream",
     "text": [
      "Epoch : 462 - Train_loss : 0.0000 - Train_Acc: 1.0000 - Val_loss : 0.3672 - Val_Acc: 0.5333  - Time: 11.24924898147583\n",
      "\n"
     ]
    },
    {
     "name": "stderr",
     "output_type": "stream",
     "text": [
      "100%|█████████████████████████████████████████████| 9/9 [00:08<00:00,  1.08it/s]\n",
      "100%|█████████████████████████████████████████████| 4/4 [00:03<00:00,  1.22it/s]\n"
     ]
    },
    {
     "name": "stdout",
     "output_type": "stream",
     "text": [
      "Epoch : 463 - Train_loss : 0.0000 - Train_Acc: 1.0000 - Val_loss : 0.3670 - Val_Acc: 0.5333  - Time: 11.642261028289795\n",
      "\n"
     ]
    },
    {
     "name": "stderr",
     "output_type": "stream",
     "text": [
      "100%|█████████████████████████████████████████████| 9/9 [00:07<00:00,  1.22it/s]\n",
      "100%|█████████████████████████████████████████████| 4/4 [00:03<00:00,  1.22it/s]\n"
     ]
    },
    {
     "name": "stdout",
     "output_type": "stream",
     "text": [
      "Epoch : 464 - Train_loss : 0.0001 - Train_Acc: 1.0000 - Val_loss : 0.3675 - Val_Acc: 0.5333  - Time: 10.6654953956604\n",
      "\n"
     ]
    },
    {
     "name": "stderr",
     "output_type": "stream",
     "text": [
      "100%|█████████████████████████████████████████████| 9/9 [00:07<00:00,  1.18it/s]\n",
      "100%|█████████████████████████████████████████████| 4/4 [00:03<00:00,  1.15it/s]\n"
     ]
    },
    {
     "name": "stdout",
     "output_type": "stream",
     "text": [
      "Epoch : 465 - Train_loss : 0.0000 - Train_Acc: 1.0000 - Val_loss : 0.3675 - Val_Acc: 0.5333  - Time: 11.103622198104858\n",
      "\n"
     ]
    },
    {
     "name": "stderr",
     "output_type": "stream",
     "text": [
      "100%|█████████████████████████████████████████████| 9/9 [00:07<00:00,  1.17it/s]\n",
      "100%|█████████████████████████████████████████████| 4/4 [00:03<00:00,  1.22it/s]\n"
     ]
    },
    {
     "name": "stdout",
     "output_type": "stream",
     "text": [
      "Epoch : 466 - Train_loss : 0.0000 - Train_Acc: 1.0000 - Val_loss : 0.3677 - Val_Acc: 0.5417  - Time: 10.973864078521729\n",
      "\n"
     ]
    },
    {
     "name": "stderr",
     "output_type": "stream",
     "text": [
      "100%|█████████████████████████████████████████████| 9/9 [00:07<00:00,  1.24it/s]\n",
      "100%|█████████████████████████████████████████████| 4/4 [00:03<00:00,  1.14it/s]\n"
     ]
    },
    {
     "name": "stdout",
     "output_type": "stream",
     "text": [
      "Epoch : 467 - Train_loss : 0.0000 - Train_Acc: 1.0000 - Val_loss : 0.3680 - Val_Acc: 0.5417  - Time: 10.740912199020386\n",
      "\n"
     ]
    },
    {
     "name": "stderr",
     "output_type": "stream",
     "text": [
      "100%|█████████████████████████████████████████████| 9/9 [00:07<00:00,  1.25it/s]\n",
      "100%|█████████████████████████████████████████████| 4/4 [00:03<00:00,  1.14it/s]\n"
     ]
    },
    {
     "name": "stdout",
     "output_type": "stream",
     "text": [
      "Epoch : 468 - Train_loss : 0.0001 - Train_Acc: 1.0000 - Val_loss : 0.3681 - Val_Acc: 0.5417  - Time: 10.698221683502197\n",
      "\n"
     ]
    },
    {
     "name": "stderr",
     "output_type": "stream",
     "text": [
      "100%|█████████████████████████████████████████████| 9/9 [00:07<00:00,  1.24it/s]\n",
      "100%|█████████████████████████████████████████████| 4/4 [00:03<00:00,  1.11it/s]\n"
     ]
    },
    {
     "name": "stdout",
     "output_type": "stream",
     "text": [
      "Epoch : 469 - Train_loss : 0.0000 - Train_Acc: 1.0000 - Val_loss : 0.3701 - Val_Acc: 0.5500  - Time: 10.866900205612183\n",
      "\n"
     ]
    },
    {
     "name": "stderr",
     "output_type": "stream",
     "text": [
      "100%|█████████████████████████████████████████████| 9/9 [00:07<00:00,  1.18it/s]\n",
      "100%|█████████████████████████████████████████████| 4/4 [00:03<00:00,  1.09it/s]\n"
     ]
    },
    {
     "name": "stdout",
     "output_type": "stream",
     "text": [
      "Epoch : 470 - Train_loss : 0.0000 - Train_Acc: 1.0000 - Val_loss : 0.3714 - Val_Acc: 0.5500  - Time: 11.295979261398315\n",
      "\n"
     ]
    },
    {
     "name": "stderr",
     "output_type": "stream",
     "text": [
      "100%|█████████████████████████████████████████████| 9/9 [00:07<00:00,  1.26it/s]\n",
      "100%|█████████████████████████████████████████████| 4/4 [00:03<00:00,  1.18it/s]\n"
     ]
    },
    {
     "name": "stdout",
     "output_type": "stream",
     "text": [
      "Epoch : 471 - Train_loss : 0.0000 - Train_Acc: 1.0000 - Val_loss : 0.3723 - Val_Acc: 0.5500  - Time: 10.530284404754639\n",
      "\n"
     ]
    },
    {
     "name": "stderr",
     "output_type": "stream",
     "text": [
      "100%|█████████████████████████████████████████████| 9/9 [00:07<00:00,  1.20it/s]\n",
      "100%|█████████████████████████████████████████████| 4/4 [00:03<00:00,  1.17it/s]\n"
     ]
    },
    {
     "name": "stdout",
     "output_type": "stream",
     "text": [
      "Epoch : 472 - Train_loss : 0.0000 - Train_Acc: 1.0000 - Val_loss : 0.3722 - Val_Acc: 0.5500  - Time: 10.932022333145142\n",
      "\n"
     ]
    },
    {
     "name": "stderr",
     "output_type": "stream",
     "text": [
      "100%|█████████████████████████████████████████████| 9/9 [00:07<00:00,  1.21it/s]\n",
      "100%|█████████████████████████████████████████████| 4/4 [00:03<00:00,  1.28it/s]\n"
     ]
    },
    {
     "name": "stdout",
     "output_type": "stream",
     "text": [
      "Epoch : 473 - Train_loss : 0.0000 - Train_Acc: 1.0000 - Val_loss : 0.3719 - Val_Acc: 0.5500  - Time: 10.567299127578735\n",
      "\n"
     ]
    },
    {
     "name": "stderr",
     "output_type": "stream",
     "text": [
      "100%|█████████████████████████████████████████████| 9/9 [00:07<00:00,  1.17it/s]\n",
      "100%|█████████████████████████████████████████████| 4/4 [00:03<00:00,  1.27it/s]\n"
     ]
    },
    {
     "name": "stdout",
     "output_type": "stream",
     "text": [
      "Epoch : 474 - Train_loss : 0.0000 - Train_Acc: 1.0000 - Val_loss : 0.3718 - Val_Acc: 0.5500  - Time: 10.818493127822876\n",
      "\n"
     ]
    },
    {
     "name": "stderr",
     "output_type": "stream",
     "text": [
      "100%|█████████████████████████████████████████████| 9/9 [00:07<00:00,  1.22it/s]\n",
      "100%|█████████████████████████████████████████████| 4/4 [00:03<00:00,  1.29it/s]\n"
     ]
    },
    {
     "name": "stdout",
     "output_type": "stream",
     "text": [
      "Epoch : 475 - Train_loss : 0.0000 - Train_Acc: 1.0000 - Val_loss : 0.3714 - Val_Acc: 0.5417  - Time: 10.483228921890259\n",
      "\n"
     ]
    },
    {
     "name": "stderr",
     "output_type": "stream",
     "text": [
      "100%|█████████████████████████████████████████████| 9/9 [00:07<00:00,  1.16it/s]\n",
      "100%|█████████████████████████████████████████████| 4/4 [00:03<00:00,  1.17it/s]\n"
     ]
    },
    {
     "name": "stdout",
     "output_type": "stream",
     "text": [
      "Epoch : 476 - Train_loss : 0.0000 - Train_Acc: 1.0000 - Val_loss : 0.3705 - Val_Acc: 0.5417  - Time: 11.158945083618164\n",
      "\n"
     ]
    },
    {
     "name": "stderr",
     "output_type": "stream",
     "text": [
      "100%|█████████████████████████████████████████████| 9/9 [00:07<00:00,  1.20it/s]\n",
      "100%|█████████████████████████████████████████████| 4/4 [00:03<00:00,  1.13it/s]\n"
     ]
    },
    {
     "name": "stdout",
     "output_type": "stream",
     "text": [
      "Epoch : 477 - Train_loss : 0.0002 - Train_Acc: 1.0000 - Val_loss : 0.3650 - Val_Acc: 0.5583  - Time: 11.056183338165283\n",
      "\n"
     ]
    },
    {
     "name": "stderr",
     "output_type": "stream",
     "text": [
      "100%|█████████████████████████████████████████████| 9/9 [00:07<00:00,  1.24it/s]\n",
      "100%|█████████████████████████████████████████████| 4/4 [00:03<00:00,  1.22it/s]\n"
     ]
    },
    {
     "name": "stdout",
     "output_type": "stream",
     "text": [
      "Epoch : 478 - Train_loss : 0.0000 - Train_Acc: 1.0000 - Val_loss : 0.3616 - Val_Acc: 0.5417  - Time: 10.55150294303894\n",
      "\n"
     ]
    },
    {
     "name": "stderr",
     "output_type": "stream",
     "text": [
      "100%|█████████████████████████████████████████████| 9/9 [00:07<00:00,  1.21it/s]\n",
      "100%|█████████████████████████████████████████████| 4/4 [00:03<00:00,  1.24it/s]\n"
     ]
    },
    {
     "name": "stdout",
     "output_type": "stream",
     "text": [
      "Epoch : 479 - Train_loss : 0.0000 - Train_Acc: 1.0000 - Val_loss : 0.3599 - Val_Acc: 0.5417  - Time: 10.658618688583374\n",
      "\n"
     ]
    },
    {
     "name": "stderr",
     "output_type": "stream",
     "text": [
      "100%|█████████████████████████████████████████████| 9/9 [00:07<00:00,  1.14it/s]\n",
      "100%|█████████████████████████████████████████████| 4/4 [00:03<00:00,  1.13it/s]\n"
     ]
    },
    {
     "name": "stdout",
     "output_type": "stream",
     "text": [
      "Epoch : 480 - Train_loss : 0.0000 - Train_Acc: 1.0000 - Val_loss : 0.3598 - Val_Acc: 0.5417  - Time: 11.43789267539978\n",
      "\n"
     ]
    },
    {
     "name": "stderr",
     "output_type": "stream",
     "text": [
      "100%|█████████████████████████████████████████████| 9/9 [00:06<00:00,  1.35it/s]\n",
      "100%|█████████████████████████████████████████████| 4/4 [00:03<00:00,  1.09it/s]\n"
     ]
    },
    {
     "name": "stdout",
     "output_type": "stream",
     "text": [
      "Epoch : 481 - Train_loss : 0.0000 - Train_Acc: 1.0000 - Val_loss : 0.3610 - Val_Acc: 0.5417  - Time: 10.35159945487976\n",
      "\n"
     ]
    },
    {
     "name": "stderr",
     "output_type": "stream",
     "text": [
      "100%|█████████████████████████████████████████████| 9/9 [00:07<00:00,  1.27it/s]\n",
      "100%|█████████████████████████████████████████████| 4/4 [00:03<00:00,  1.12it/s]\n"
     ]
    },
    {
     "name": "stdout",
     "output_type": "stream",
     "text": [
      "Epoch : 482 - Train_loss : 0.0001 - Train_Acc: 1.0000 - Val_loss : 0.3602 - Val_Acc: 0.5333  - Time: 10.637992143630981\n",
      "\n"
     ]
    },
    {
     "name": "stderr",
     "output_type": "stream",
     "text": [
      "100%|█████████████████████████████████████████████| 9/9 [00:07<00:00,  1.28it/s]\n",
      "100%|█████████████████████████████████████████████| 4/4 [00:03<00:00,  1.16it/s]\n"
     ]
    },
    {
     "name": "stdout",
     "output_type": "stream",
     "text": [
      "Epoch : 483 - Train_loss : 0.0000 - Train_Acc: 1.0000 - Val_loss : 0.3580 - Val_Acc: 0.5250  - Time: 10.517483949661255\n",
      "\n"
     ]
    },
    {
     "name": "stderr",
     "output_type": "stream",
     "text": [
      "100%|█████████████████████████████████████████████| 9/9 [00:07<00:00,  1.26it/s]\n",
      "100%|█████████████████████████████████████████████| 4/4 [00:04<00:00,  1.01s/it]\n"
     ]
    },
    {
     "name": "stdout",
     "output_type": "stream",
     "text": [
      "Epoch : 484 - Train_loss : 0.0002 - Train_Acc: 1.0000 - Val_loss : 0.3614 - Val_Acc: 0.5333  - Time: 11.151595115661621\n",
      "\n"
     ]
    },
    {
     "name": "stderr",
     "output_type": "stream",
     "text": [
      "100%|█████████████████████████████████████████████| 9/9 [00:07<00:00,  1.24it/s]\n",
      "100%|█████████████████████████████████████████████| 4/4 [00:03<00:00,  1.19it/s]\n"
     ]
    },
    {
     "name": "stdout",
     "output_type": "stream",
     "text": [
      "Epoch : 485 - Train_loss : 0.0000 - Train_Acc: 1.0000 - Val_loss : 0.3836 - Val_Acc: 0.5500  - Time: 10.645055770874023\n",
      "\n"
     ]
    },
    {
     "name": "stderr",
     "output_type": "stream",
     "text": [
      "100%|█████████████████████████████████████████████| 9/9 [00:07<00:00,  1.23it/s]\n",
      "100%|█████████████████████████████████████████████| 4/4 [00:03<00:00,  1.21it/s]\n"
     ]
    },
    {
     "name": "stdout",
     "output_type": "stream",
     "text": [
      "Epoch : 486 - Train_loss : 0.0000 - Train_Acc: 1.0000 - Val_loss : 0.3926 - Val_Acc: 0.5500  - Time: 10.642136573791504\n",
      "\n"
     ]
    },
    {
     "name": "stderr",
     "output_type": "stream",
     "text": [
      "100%|█████████████████████████████████████████████| 9/9 [00:08<00:00,  1.12it/s]\n",
      "100%|█████████████████████████████████████████████| 4/4 [00:03<00:00,  1.21it/s]\n"
     ]
    },
    {
     "name": "stdout",
     "output_type": "stream",
     "text": [
      "Epoch : 487 - Train_loss : 0.0002 - Train_Acc: 1.0000 - Val_loss : 0.3561 - Val_Acc: 0.5417  - Time: 11.348288774490356\n",
      "\n"
     ]
    },
    {
     "name": "stderr",
     "output_type": "stream",
     "text": [
      "100%|█████████████████████████████████████████████| 9/9 [00:07<00:00,  1.14it/s]\n",
      "100%|█████████████████████████████████████████████| 4/4 [00:03<00:00,  1.22it/s]\n"
     ]
    },
    {
     "name": "stdout",
     "output_type": "stream",
     "text": [
      "Epoch : 488 - Train_loss : 0.0000 - Train_Acc: 1.0000 - Val_loss : 0.3464 - Val_Acc: 0.5333  - Time: 11.155805826187134\n",
      "\n"
     ]
    },
    {
     "name": "stderr",
     "output_type": "stream",
     "text": [
      "100%|█████████████████████████████████████████████| 9/9 [00:07<00:00,  1.21it/s]\n",
      "100%|█████████████████████████████████████████████| 4/4 [00:03<00:00,  1.26it/s]\n"
     ]
    },
    {
     "name": "stdout",
     "output_type": "stream",
     "text": [
      "Epoch : 489 - Train_loss : 0.0000 - Train_Acc: 1.0000 - Val_loss : 0.3449 - Val_Acc: 0.5333  - Time: 10.636648416519165\n",
      "\n"
     ]
    },
    {
     "name": "stderr",
     "output_type": "stream",
     "text": [
      "100%|█████████████████████████████████████████████| 9/9 [00:08<00:00,  1.12it/s]\n",
      "100%|█████████████████████████████████████████████| 4/4 [00:03<00:00,  1.16it/s]\n"
     ]
    },
    {
     "name": "stdout",
     "output_type": "stream",
     "text": [
      "Epoch : 490 - Train_loss : 0.0001 - Train_Acc: 1.0000 - Val_loss : 0.3432 - Val_Acc: 0.5333  - Time: 11.477381467819214\n",
      "\n"
     ]
    },
    {
     "name": "stderr",
     "output_type": "stream",
     "text": [
      "100%|█████████████████████████████████████████████| 9/9 [00:08<00:00,  1.10it/s]\n",
      "100%|█████████████████████████████████████████████| 4/4 [00:03<00:00,  1.01it/s]\n"
     ]
    },
    {
     "name": "stdout",
     "output_type": "stream",
     "text": [
      "Epoch : 491 - Train_loss : 0.0000 - Train_Acc: 1.0000 - Val_loss : 0.3416 - Val_Acc: 0.5333  - Time: 12.171404361724854\n",
      "\n"
     ]
    },
    {
     "name": "stderr",
     "output_type": "stream",
     "text": [
      "100%|█████████████████████████████████████████████| 9/9 [00:08<00:00,  1.07it/s]\n",
      "100%|█████████████████████████████████████████████| 4/4 [00:03<00:00,  1.07it/s]\n"
     ]
    },
    {
     "name": "stdout",
     "output_type": "stream",
     "text": [
      "Epoch : 492 - Train_loss : 0.0000 - Train_Acc: 1.0000 - Val_loss : 0.3379 - Val_Acc: 0.5333  - Time: 12.18118691444397\n",
      "\n"
     ]
    },
    {
     "name": "stderr",
     "output_type": "stream",
     "text": [
      "100%|█████████████████████████████████████████████| 9/9 [00:07<00:00,  1.20it/s]\n",
      "100%|█████████████████████████████████████████████| 4/4 [00:03<00:00,  1.11it/s]\n"
     ]
    },
    {
     "name": "stdout",
     "output_type": "stream",
     "text": [
      "Epoch : 493 - Train_loss : 0.0001 - Train_Acc: 1.0000 - Val_loss : 0.3366 - Val_Acc: 0.5333  - Time: 11.075460433959961\n",
      "\n"
     ]
    },
    {
     "name": "stderr",
     "output_type": "stream",
     "text": [
      "100%|█████████████████████████████████████████████| 9/9 [00:07<00:00,  1.22it/s]\n",
      "100%|█████████████████████████████████████████████| 4/4 [00:03<00:00,  1.12it/s]\n"
     ]
    },
    {
     "name": "stdout",
     "output_type": "stream",
     "text": [
      "Epoch : 494 - Train_loss : 0.0000 - Train_Acc: 1.0000 - Val_loss : 0.3376 - Val_Acc: 0.5333  - Time: 10.929153203964233\n",
      "\n"
     ]
    },
    {
     "name": "stderr",
     "output_type": "stream",
     "text": [
      "100%|█████████████████████████████████████████████| 9/9 [00:07<00:00,  1.26it/s]\n",
      "100%|█████████████████████████████████████████████| 4/4 [00:03<00:00,  1.13it/s]\n"
     ]
    },
    {
     "name": "stdout",
     "output_type": "stream",
     "text": [
      "Epoch : 495 - Train_loss : 0.0000 - Train_Acc: 1.0000 - Val_loss : 0.3396 - Val_Acc: 0.5333  - Time: 10.681007623672485\n",
      "\n"
     ]
    },
    {
     "name": "stderr",
     "output_type": "stream",
     "text": [
      "100%|█████████████████████████████████████████████| 9/9 [00:07<00:00,  1.23it/s]\n",
      "100%|█████████████████████████████████████████████| 4/4 [00:03<00:00,  1.15it/s]\n"
     ]
    },
    {
     "name": "stdout",
     "output_type": "stream",
     "text": [
      "Epoch : 496 - Train_loss : 0.0000 - Train_Acc: 1.0000 - Val_loss : 0.3424 - Val_Acc: 0.5417  - Time: 10.80635929107666\n",
      "\n"
     ]
    },
    {
     "name": "stderr",
     "output_type": "stream",
     "text": [
      "100%|█████████████████████████████████████████████| 9/9 [00:07<00:00,  1.22it/s]\n",
      "100%|█████████████████████████████████████████████| 4/4 [00:03<00:00,  1.21it/s]\n"
     ]
    },
    {
     "name": "stdout",
     "output_type": "stream",
     "text": [
      "Epoch : 497 - Train_loss : 0.0000 - Train_Acc: 1.0000 - Val_loss : 0.3438 - Val_Acc: 0.5417  - Time: 10.709533929824829\n",
      "\n"
     ]
    },
    {
     "name": "stderr",
     "output_type": "stream",
     "text": [
      "100%|█████████████████████████████████████████████| 9/9 [00:07<00:00,  1.18it/s]\n",
      "100%|█████████████████████████████████████████████| 4/4 [00:03<00:00,  1.19it/s]\n"
     ]
    },
    {
     "name": "stdout",
     "output_type": "stream",
     "text": [
      "Epoch : 498 - Train_loss : 0.0000 - Train_Acc: 1.0000 - Val_loss : 0.3452 - Val_Acc: 0.5417  - Time: 10.981046438217163\n",
      "\n"
     ]
    },
    {
     "name": "stderr",
     "output_type": "stream",
     "text": [
      "100%|█████████████████████████████████████████████| 9/9 [00:08<00:00,  1.05it/s]\n",
      "100%|█████████████████████████████████████████████| 4/4 [00:03<00:00,  1.20it/s]\n"
     ]
    },
    {
     "name": "stdout",
     "output_type": "stream",
     "text": [
      "Epoch : 499 - Train_loss : 0.0000 - Train_Acc: 1.0000 - Val_loss : 0.3471 - Val_Acc: 0.5417  - Time: 11.872332334518433\n",
      "\n"
     ]
    },
    {
     "name": "stderr",
     "output_type": "stream",
     "text": [
      "100%|█████████████████████████████████████████████| 9/9 [00:07<00:00,  1.19it/s]\n",
      "100%|█████████████████████████████████████████████| 4/4 [00:03<00:00,  1.11it/s]\n"
     ]
    },
    {
     "name": "stdout",
     "output_type": "stream",
     "text": [
      "Epoch : 500 - Train_loss : 0.0000 - Train_Acc: 1.0000 - Val_loss : 0.3490 - Val_Acc: 0.5417  - Time: 11.196526050567627\n",
      "\n"
     ]
    },
    {
     "name": "stderr",
     "output_type": "stream",
     "text": [
      "100%|█████████████████████████████████████████████| 9/9 [00:08<00:00,  1.05it/s]\n",
      "100%|█████████████████████████████████████████████| 4/4 [00:03<00:00,  1.11it/s]\n"
     ]
    },
    {
     "name": "stdout",
     "output_type": "stream",
     "text": [
      "Epoch : 501 - Train_loss : 0.0000 - Train_Acc: 1.0000 - Val_loss : 0.3499 - Val_Acc: 0.5417  - Time: 12.179138422012329\n",
      "\n"
     ]
    },
    {
     "name": "stderr",
     "output_type": "stream",
     "text": [
      "100%|█████████████████████████████████████████████| 9/9 [00:07<00:00,  1.15it/s]\n",
      "100%|█████████████████████████████████████████████| 4/4 [00:03<00:00,  1.07it/s]\n"
     ]
    },
    {
     "name": "stdout",
     "output_type": "stream",
     "text": [
      "Epoch : 502 - Train_loss : 0.0000 - Train_Acc: 1.0000 - Val_loss : 0.3505 - Val_Acc: 0.5500  - Time: 11.592087507247925\n",
      "\n"
     ]
    },
    {
     "name": "stderr",
     "output_type": "stream",
     "text": [
      "100%|█████████████████████████████████████████████| 9/9 [00:07<00:00,  1.17it/s]\n",
      "100%|█████████████████████████████████████████████| 4/4 [00:03<00:00,  1.08it/s]\n"
     ]
    },
    {
     "name": "stdout",
     "output_type": "stream",
     "text": [
      "Epoch : 503 - Train_loss : 0.0000 - Train_Acc: 1.0000 - Val_loss : 0.3510 - Val_Acc: 0.5500  - Time: 11.409918308258057\n",
      "\n"
     ]
    },
    {
     "name": "stderr",
     "output_type": "stream",
     "text": [
      "100%|█████████████████████████████████████████████| 9/9 [00:07<00:00,  1.20it/s]\n",
      "100%|█████████████████████████████████████████████| 4/4 [00:03<00:00,  1.12it/s]\n"
     ]
    },
    {
     "name": "stdout",
     "output_type": "stream",
     "text": [
      "Epoch : 504 - Train_loss : 0.0000 - Train_Acc: 1.0000 - Val_loss : 0.3513 - Val_Acc: 0.5500  - Time: 11.08552074432373\n",
      "\n"
     ]
    },
    {
     "name": "stderr",
     "output_type": "stream",
     "text": [
      "100%|█████████████████████████████████████████████| 9/9 [00:07<00:00,  1.20it/s]\n",
      "100%|█████████████████████████████████████████████| 4/4 [00:03<00:00,  1.10it/s]\n"
     ]
    },
    {
     "name": "stdout",
     "output_type": "stream",
     "text": [
      "Epoch : 505 - Train_loss : 0.0000 - Train_Acc: 1.0000 - Val_loss : 0.3516 - Val_Acc: 0.5500  - Time: 11.135969638824463\n",
      "\n"
     ]
    },
    {
     "name": "stderr",
     "output_type": "stream",
     "text": [
      "100%|█████████████████████████████████████████████| 9/9 [00:08<00:00,  1.05it/s]\n",
      "100%|█████████████████████████████████████████████| 4/4 [00:03<00:00,  1.28it/s]\n"
     ]
    },
    {
     "name": "stdout",
     "output_type": "stream",
     "text": [
      "Epoch : 506 - Train_loss : 0.0000 - Train_Acc: 1.0000 - Val_loss : 0.3518 - Val_Acc: 0.5500  - Time: 11.698852300643921\n",
      "\n"
     ]
    },
    {
     "name": "stderr",
     "output_type": "stream",
     "text": [
      "100%|█████████████████████████████████████████████| 9/9 [00:07<00:00,  1.15it/s]\n",
      "100%|█████████████████████████████████████████████| 4/4 [00:03<00:00,  1.27it/s]\n"
     ]
    },
    {
     "name": "stdout",
     "output_type": "stream",
     "text": [
      "Epoch : 507 - Train_loss : 0.0000 - Train_Acc: 1.0000 - Val_loss : 0.3521 - Val_Acc: 0.5500  - Time: 10.963392734527588\n",
      "\n"
     ]
    },
    {
     "name": "stderr",
     "output_type": "stream",
     "text": [
      "100%|█████████████████████████████████████████████| 9/9 [00:07<00:00,  1.13it/s]\n",
      "100%|█████████████████████████████████████████████| 4/4 [00:03<00:00,  1.14it/s]\n"
     ]
    },
    {
     "name": "stdout",
     "output_type": "stream",
     "text": [
      "Epoch : 508 - Train_loss : 0.0000 - Train_Acc: 1.0000 - Val_loss : 0.3520 - Val_Acc: 0.5500  - Time: 11.479894161224365\n",
      "\n"
     ]
    },
    {
     "name": "stderr",
     "output_type": "stream",
     "text": [
      "100%|█████████████████████████████████████████████| 9/9 [00:07<00:00,  1.17it/s]\n",
      "100%|█████████████████████████████████████████████| 4/4 [00:03<00:00,  1.14it/s]\n"
     ]
    },
    {
     "name": "stdout",
     "output_type": "stream",
     "text": [
      "Epoch : 509 - Train_loss : 0.0000 - Train_Acc: 1.0000 - Val_loss : 0.3524 - Val_Acc: 0.5500  - Time: 11.227469682693481\n",
      "\n"
     ]
    },
    {
     "name": "stderr",
     "output_type": "stream",
     "text": [
      "100%|█████████████████████████████████████████████| 9/9 [00:07<00:00,  1.15it/s]\n",
      "100%|█████████████████████████████████████████████| 4/4 [00:03<00:00,  1.19it/s]\n"
     ]
    },
    {
     "name": "stdout",
     "output_type": "stream",
     "text": [
      "Epoch : 510 - Train_loss : 0.0000 - Train_Acc: 1.0000 - Val_loss : 0.3528 - Val_Acc: 0.5500  - Time: 11.183384656906128\n",
      "\n"
     ]
    },
    {
     "name": "stderr",
     "output_type": "stream",
     "text": [
      "100%|█████████████████████████████████████████████| 9/9 [00:07<00:00,  1.13it/s]\n",
      "100%|█████████████████████████████████████████████| 4/4 [00:03<00:00,  1.08it/s]\n"
     ]
    },
    {
     "name": "stdout",
     "output_type": "stream",
     "text": [
      "Epoch : 511 - Train_loss : 0.0000 - Train_Acc: 1.0000 - Val_loss : 0.3532 - Val_Acc: 0.5500  - Time: 11.674100399017334\n",
      "\n"
     ]
    },
    {
     "name": "stderr",
     "output_type": "stream",
     "text": [
      "100%|█████████████████████████████████████████████| 9/9 [00:07<00:00,  1.16it/s]\n",
      "100%|█████████████████████████████████████████████| 4/4 [00:04<00:00,  1.01s/it]\n"
     ]
    },
    {
     "name": "stdout",
     "output_type": "stream",
     "text": [
      "Epoch : 512 - Train_loss : 0.0001 - Train_Acc: 1.0000 - Val_loss : 0.3540 - Val_Acc: 0.5500  - Time: 11.796205282211304\n",
      "\n"
     ]
    },
    {
     "name": "stderr",
     "output_type": "stream",
     "text": [
      "100%|█████████████████████████████████████████████| 9/9 [00:07<00:00,  1.16it/s]\n",
      "100%|█████████████████████████████████████████████| 4/4 [00:03<00:00,  1.10it/s]\n"
     ]
    },
    {
     "name": "stdout",
     "output_type": "stream",
     "text": [
      "Epoch : 513 - Train_loss : 0.0000 - Train_Acc: 1.0000 - Val_loss : 0.3552 - Val_Acc: 0.5583  - Time: 11.401663780212402\n",
      "\n"
     ]
    },
    {
     "name": "stderr",
     "output_type": "stream",
     "text": [
      "100%|█████████████████████████████████████████████| 9/9 [00:07<00:00,  1.24it/s]\n",
      "100%|█████████████████████████████████████████████| 4/4 [00:03<00:00,  1.15it/s]\n"
     ]
    },
    {
     "name": "stdout",
     "output_type": "stream",
     "text": [
      "Epoch : 514 - Train_loss : 0.0000 - Train_Acc: 1.0000 - Val_loss : 0.3565 - Val_Acc: 0.5583  - Time: 10.735225915908813\n",
      "\n"
     ]
    },
    {
     "name": "stderr",
     "output_type": "stream",
     "text": [
      "100%|█████████████████████████████████████████████| 9/9 [00:07<00:00,  1.20it/s]\n",
      "100%|█████████████████████████████████████████████| 4/4 [00:03<00:00,  1.16it/s]\n"
     ]
    },
    {
     "name": "stdout",
     "output_type": "stream",
     "text": [
      "Epoch : 515 - Train_loss : 0.0000 - Train_Acc: 1.0000 - Val_loss : 0.3567 - Val_Acc: 0.5583  - Time: 10.929349422454834\n",
      "\n"
     ]
    },
    {
     "name": "stderr",
     "output_type": "stream",
     "text": [
      "100%|█████████████████████████████████████████████| 9/9 [00:07<00:00,  1.20it/s]\n",
      "100%|█████████████████████████████████████████████| 4/4 [00:03<00:00,  1.27it/s]\n"
     ]
    },
    {
     "name": "stdout",
     "output_type": "stream",
     "text": [
      "Epoch : 516 - Train_loss : 0.0001 - Train_Acc: 1.0000 - Val_loss : 0.3587 - Val_Acc: 0.5583  - Time: 10.65941333770752\n",
      "\n"
     ]
    },
    {
     "name": "stderr",
     "output_type": "stream",
     "text": [
      "100%|█████████████████████████████████████████████| 9/9 [00:07<00:00,  1.21it/s]\n",
      "100%|█████████████████████████████████████████████| 4/4 [00:03<00:00,  1.29it/s]\n"
     ]
    },
    {
     "name": "stdout",
     "output_type": "stream",
     "text": [
      "Epoch : 517 - Train_loss : 0.0000 - Train_Acc: 1.0000 - Val_loss : 0.3592 - Val_Acc: 0.5583  - Time: 10.537004709243774\n",
      "\n"
     ]
    },
    {
     "name": "stderr",
     "output_type": "stream",
     "text": [
      "100%|█████████████████████████████████████████████| 9/9 [00:07<00:00,  1.19it/s]\n",
      "100%|█████████████████████████████████████████████| 4/4 [00:03<00:00,  1.26it/s]\n"
     ]
    },
    {
     "name": "stdout",
     "output_type": "stream",
     "text": [
      "Epoch : 518 - Train_loss : 0.0000 - Train_Acc: 1.0000 - Val_loss : 0.3593 - Val_Acc: 0.5583  - Time: 10.735495805740356\n",
      "\n"
     ]
    },
    {
     "name": "stderr",
     "output_type": "stream",
     "text": [
      "100%|█████████████████████████████████████████████| 9/9 [00:07<00:00,  1.20it/s]\n",
      "100%|█████████████████████████████████████████████| 4/4 [00:03<00:00,  1.24it/s]\n"
     ]
    },
    {
     "name": "stdout",
     "output_type": "stream",
     "text": [
      "Epoch : 519 - Train_loss : 0.0000 - Train_Acc: 1.0000 - Val_loss : 0.3593 - Val_Acc: 0.5583  - Time: 10.711848974227905\n",
      "\n"
     ]
    },
    {
     "name": "stderr",
     "output_type": "stream",
     "text": [
      "100%|█████████████████████████████████████████████| 9/9 [00:08<00:00,  1.08it/s]\n",
      "100%|█████████████████████████████████████████████| 4/4 [00:03<00:00,  1.18it/s]\n"
     ]
    },
    {
     "name": "stdout",
     "output_type": "stream",
     "text": [
      "Epoch : 520 - Train_loss : 0.0000 - Train_Acc: 1.0000 - Val_loss : 0.3593 - Val_Acc: 0.5583  - Time: 11.716880321502686\n",
      "\n"
     ]
    },
    {
     "name": "stderr",
     "output_type": "stream",
     "text": [
      "100%|█████████████████████████████████████████████| 9/9 [00:07<00:00,  1.21it/s]\n",
      "100%|█████████████████████████████████████████████| 4/4 [00:03<00:00,  1.21it/s]\n"
     ]
    },
    {
     "name": "stdout",
     "output_type": "stream",
     "text": [
      "Epoch : 521 - Train_loss : 0.0000 - Train_Acc: 1.0000 - Val_loss : 0.3593 - Val_Acc: 0.5583  - Time: 10.768652200698853\n",
      "\n"
     ]
    },
    {
     "name": "stderr",
     "output_type": "stream",
     "text": [
      "100%|█████████████████████████████████████████████| 9/9 [00:07<00:00,  1.22it/s]\n",
      "100%|█████████████████████████████████████████████| 4/4 [00:03<00:00,  1.12it/s]\n"
     ]
    },
    {
     "name": "stdout",
     "output_type": "stream",
     "text": [
      "Epoch : 522 - Train_loss : 0.0000 - Train_Acc: 1.0000 - Val_loss : 0.3597 - Val_Acc: 0.5583  - Time: 10.984811305999756\n",
      "\n"
     ]
    },
    {
     "name": "stderr",
     "output_type": "stream",
     "text": [
      "100%|█████████████████████████████████████████████| 9/9 [00:07<00:00,  1.24it/s]\n",
      "100%|█████████████████████████████████████████████| 4/4 [00:03<00:00,  1.17it/s]\n"
     ]
    },
    {
     "name": "stdout",
     "output_type": "stream",
     "text": [
      "Epoch : 523 - Train_loss : 0.0001 - Train_Acc: 1.0000 - Val_loss : 0.3581 - Val_Acc: 0.5583  - Time: 10.695472955703735\n",
      "\n"
     ]
    },
    {
     "name": "stderr",
     "output_type": "stream",
     "text": [
      "100%|█████████████████████████████████████████████| 9/9 [00:07<00:00,  1.20it/s]\n",
      "100%|█████████████████████████████████████████████| 4/4 [00:03<00:00,  1.11it/s]\n"
     ]
    },
    {
     "name": "stdout",
     "output_type": "stream",
     "text": [
      "Epoch : 524 - Train_loss : 0.0001 - Train_Acc: 1.0000 - Val_loss : 0.3585 - Val_Acc: 0.5583  - Time: 11.06709361076355\n",
      "\n"
     ]
    },
    {
     "name": "stderr",
     "output_type": "stream",
     "text": [
      "100%|█████████████████████████████████████████████| 9/9 [00:06<00:00,  1.30it/s]\n",
      "100%|█████████████████████████████████████████████| 4/4 [00:03<00:00,  1.12it/s]\n"
     ]
    },
    {
     "name": "stdout",
     "output_type": "stream",
     "text": [
      "Epoch : 525 - Train_loss : 0.0000 - Train_Acc: 1.0000 - Val_loss : 0.3603 - Val_Acc: 0.5583  - Time: 10.52575421333313\n",
      "\n"
     ]
    },
    {
     "name": "stderr",
     "output_type": "stream",
     "text": [
      "100%|█████████████████████████████████████████████| 9/9 [00:07<00:00,  1.26it/s]\n",
      "100%|█████████████████████████████████████████████| 4/4 [00:03<00:00,  1.18it/s]\n"
     ]
    },
    {
     "name": "stdout",
     "output_type": "stream",
     "text": [
      "Epoch : 526 - Train_loss : 0.0000 - Train_Acc: 1.0000 - Val_loss : 0.3614 - Val_Acc: 0.5583  - Time: 10.56275463104248\n",
      "\n"
     ]
    },
    {
     "name": "stderr",
     "output_type": "stream",
     "text": [
      "100%|█████████████████████████████████████████████| 9/9 [00:07<00:00,  1.16it/s]\n",
      "100%|█████████████████████████████████████████████| 4/4 [00:03<00:00,  1.16it/s]\n"
     ]
    },
    {
     "name": "stdout",
     "output_type": "stream",
     "text": [
      "Epoch : 527 - Train_loss : 0.0000 - Train_Acc: 1.0000 - Val_loss : 0.3623 - Val_Acc: 0.5583  - Time: 11.23265266418457\n",
      "\n"
     ]
    },
    {
     "name": "stderr",
     "output_type": "stream",
     "text": [
      "100%|█████████████████████████████████████████████| 9/9 [00:07<00:00,  1.22it/s]\n",
      "100%|█████████████████████████████████████████████| 4/4 [00:03<00:00,  1.28it/s]\n"
     ]
    },
    {
     "name": "stdout",
     "output_type": "stream",
     "text": [
      "Epoch : 528 - Train_loss : 0.0000 - Train_Acc: 1.0000 - Val_loss : 0.3676 - Val_Acc: 0.5583  - Time: 10.497417449951172\n",
      "\n"
     ]
    },
    {
     "name": "stderr",
     "output_type": "stream",
     "text": [
      "100%|█████████████████████████████████████████████| 9/9 [00:07<00:00,  1.21it/s]\n",
      "100%|█████████████████████████████████████████████| 4/4 [00:03<00:00,  1.23it/s]\n"
     ]
    },
    {
     "name": "stdout",
     "output_type": "stream",
     "text": [
      "Epoch : 529 - Train_loss : 0.0000 - Train_Acc: 1.0000 - Val_loss : 0.3692 - Val_Acc: 0.5583  - Time: 10.690767288208008\n",
      "\n"
     ]
    },
    {
     "name": "stderr",
     "output_type": "stream",
     "text": [
      "100%|█████████████████████████████████████████████| 9/9 [00:07<00:00,  1.18it/s]\n",
      "100%|█████████████████████████████████████████████| 4/4 [00:03<00:00,  1.31it/s]\n"
     ]
    },
    {
     "name": "stdout",
     "output_type": "stream",
     "text": [
      "Epoch : 530 - Train_loss : 0.0000 - Train_Acc: 1.0000 - Val_loss : 0.3697 - Val_Acc: 0.5583  - Time: 10.690029621124268\n",
      "\n"
     ]
    },
    {
     "name": "stderr",
     "output_type": "stream",
     "text": [
      "100%|█████████████████████████████████████████████| 9/9 [00:07<00:00,  1.23it/s]\n",
      "100%|█████████████████████████████████████████████| 4/4 [00:03<00:00,  1.29it/s]\n"
     ]
    },
    {
     "name": "stdout",
     "output_type": "stream",
     "text": [
      "Epoch : 531 - Train_loss : 0.0000 - Train_Acc: 1.0000 - Val_loss : 0.3701 - Val_Acc: 0.5583  - Time: 10.459315538406372\n",
      "\n"
     ]
    },
    {
     "name": "stderr",
     "output_type": "stream",
     "text": [
      "100%|█████████████████████████████████████████████| 9/9 [00:07<00:00,  1.19it/s]\n",
      "100%|█████████████████████████████████████████████| 4/4 [00:03<00:00,  1.23it/s]\n"
     ]
    },
    {
     "name": "stdout",
     "output_type": "stream",
     "text": [
      "Epoch : 532 - Train_loss : 0.0000 - Train_Acc: 1.0000 - Val_loss : 0.3706 - Val_Acc: 0.5583  - Time: 10.787668466567993\n",
      "\n"
     ]
    },
    {
     "name": "stderr",
     "output_type": "stream",
     "text": [
      "100%|█████████████████████████████████████████████| 9/9 [00:07<00:00,  1.23it/s]\n",
      "100%|█████████████████████████████████████████████| 4/4 [00:03<00:00,  1.22it/s]\n"
     ]
    },
    {
     "name": "stdout",
     "output_type": "stream",
     "text": [
      "Epoch : 533 - Train_loss : 0.0000 - Train_Acc: 1.0000 - Val_loss : 0.3705 - Val_Acc: 0.5583  - Time: 10.622853517532349\n",
      "\n"
     ]
    },
    {
     "name": "stderr",
     "output_type": "stream",
     "text": [
      "100%|█████████████████████████████████████████████| 9/9 [00:07<00:00,  1.14it/s]\n",
      "100%|█████████████████████████████████████████████| 4/4 [00:03<00:00,  1.07it/s]\n"
     ]
    },
    {
     "name": "stdout",
     "output_type": "stream",
     "text": [
      "Epoch : 534 - Train_loss : 0.0000 - Train_Acc: 1.0000 - Val_loss : 0.3704 - Val_Acc: 0.5583  - Time: 11.650748252868652\n",
      "\n"
     ]
    },
    {
     "name": "stderr",
     "output_type": "stream",
     "text": [
      "100%|█████████████████████████████████████████████| 9/9 [00:07<00:00,  1.24it/s]\n",
      "100%|█████████████████████████████████████████████| 4/4 [00:03<00:00,  1.26it/s]\n"
     ]
    },
    {
     "name": "stdout",
     "output_type": "stream",
     "text": [
      "Epoch : 535 - Train_loss : 0.0000 - Train_Acc: 1.0000 - Val_loss : 0.3703 - Val_Acc: 0.5583  - Time: 10.433685302734375\n",
      "\n"
     ]
    },
    {
     "name": "stderr",
     "output_type": "stream",
     "text": [
      "100%|█████████████████████████████████████████████| 9/9 [00:07<00:00,  1.27it/s]\n",
      "100%|█████████████████████████████████████████████| 4/4 [00:03<00:00,  1.16it/s]\n"
     ]
    },
    {
     "name": "stdout",
     "output_type": "stream",
     "text": [
      "Epoch : 536 - Train_loss : 0.0000 - Train_Acc: 1.0000 - Val_loss : 0.3639 - Val_Acc: 0.5500  - Time: 10.532342672348022\n",
      "\n"
     ]
    },
    {
     "name": "stderr",
     "output_type": "stream",
     "text": [
      "100%|█████████████████████████████████████████████| 9/9 [00:07<00:00,  1.18it/s]\n",
      "100%|█████████████████████████████████████████████| 4/4 [00:03<00:00,  1.08it/s]\n"
     ]
    },
    {
     "name": "stdout",
     "output_type": "stream",
     "text": [
      "Epoch : 537 - Train_loss : 0.0000 - Train_Acc: 1.0000 - Val_loss : 0.3615 - Val_Acc: 0.5500  - Time: 11.353229761123657\n",
      "\n"
     ]
    },
    {
     "name": "stderr",
     "output_type": "stream",
     "text": [
      "100%|█████████████████████████████████████████████| 9/9 [00:07<00:00,  1.20it/s]\n",
      "100%|█████████████████████████████████████████████| 4/4 [00:03<00:00,  1.15it/s]\n"
     ]
    },
    {
     "name": "stdout",
     "output_type": "stream",
     "text": [
      "Epoch : 538 - Train_loss : 0.0000 - Train_Acc: 1.0000 - Val_loss : 0.3608 - Val_Acc: 0.5500  - Time: 10.984385013580322\n",
      "\n"
     ]
    },
    {
     "name": "stderr",
     "output_type": "stream",
     "text": [
      "100%|█████████████████████████████████████████████| 9/9 [00:07<00:00,  1.26it/s]\n",
      "100%|█████████████████████████████████████████████| 4/4 [00:03<00:00,  1.14it/s]\n"
     ]
    },
    {
     "name": "stdout",
     "output_type": "stream",
     "text": [
      "Epoch : 539 - Train_loss : 0.0000 - Train_Acc: 1.0000 - Val_loss : 0.3600 - Val_Acc: 0.5500  - Time: 10.63083291053772\n",
      "\n"
     ]
    },
    {
     "name": "stderr",
     "output_type": "stream",
     "text": [
      "100%|█████████████████████████████████████████████| 9/9 [00:07<00:00,  1.25it/s]\n",
      "100%|█████████████████████████████████████████████| 4/4 [00:03<00:00,  1.15it/s]\n"
     ]
    },
    {
     "name": "stdout",
     "output_type": "stream",
     "text": [
      "Epoch : 540 - Train_loss : 0.0000 - Train_Acc: 1.0000 - Val_loss : 0.3598 - Val_Acc: 0.5500  - Time: 10.67855954170227\n",
      "\n"
     ]
    },
    {
     "name": "stderr",
     "output_type": "stream",
     "text": [
      "100%|█████████████████████████████████████████████| 9/9 [00:07<00:00,  1.19it/s]\n",
      "100%|█████████████████████████████████████████████| 4/4 [00:03<00:00,  1.11it/s]\n"
     ]
    },
    {
     "name": "stdout",
     "output_type": "stream",
     "text": [
      "Epoch : 541 - Train_loss : 0.0000 - Train_Acc: 1.0000 - Val_loss : 0.3599 - Val_Acc: 0.5500  - Time: 11.163426399230957\n",
      "\n"
     ]
    },
    {
     "name": "stderr",
     "output_type": "stream",
     "text": [
      "100%|█████████████████████████████████████████████| 9/9 [00:07<00:00,  1.16it/s]\n",
      "100%|█████████████████████████████████████████████| 4/4 [00:03<00:00,  1.26it/s]\n"
     ]
    },
    {
     "name": "stdout",
     "output_type": "stream",
     "text": [
      "Epoch : 542 - Train_loss : 0.0000 - Train_Acc: 1.0000 - Val_loss : 0.3604 - Val_Acc: 0.5500  - Time: 10.966208696365356\n",
      "\n"
     ]
    },
    {
     "name": "stderr",
     "output_type": "stream",
     "text": [
      "100%|█████████████████████████████████████████████| 9/9 [00:07<00:00,  1.21it/s]\n",
      "100%|█████████████████████████████████████████████| 4/4 [00:03<00:00,  1.27it/s]\n"
     ]
    },
    {
     "name": "stdout",
     "output_type": "stream",
     "text": [
      "Epoch : 543 - Train_loss : 0.0000 - Train_Acc: 1.0000 - Val_loss : 0.3654 - Val_Acc: 0.5583  - Time: 10.58008360862732\n",
      "\n"
     ]
    },
    {
     "name": "stderr",
     "output_type": "stream",
     "text": [
      "100%|█████████████████████████████████████████████| 9/9 [00:08<00:00,  1.12it/s]\n",
      "100%|█████████████████████████████████████████████| 4/4 [00:03<00:00,  1.25it/s]\n"
     ]
    },
    {
     "name": "stdout",
     "output_type": "stream",
     "text": [
      "Epoch : 544 - Train_loss : 0.0000 - Train_Acc: 1.0000 - Val_loss : 0.3676 - Val_Acc: 0.5583  - Time: 11.244808435440063\n",
      "\n"
     ]
    },
    {
     "name": "stderr",
     "output_type": "stream",
     "text": [
      "100%|█████████████████████████████████████████████| 9/9 [00:07<00:00,  1.20it/s]\n",
      "100%|█████████████████████████████████████████████| 4/4 [00:03<00:00,  1.16it/s]\n"
     ]
    },
    {
     "name": "stdout",
     "output_type": "stream",
     "text": [
      "Epoch : 545 - Train_loss : 0.0000 - Train_Acc: 1.0000 - Val_loss : 0.3683 - Val_Acc: 0.5583  - Time: 10.936758279800415\n",
      "\n"
     ]
    },
    {
     "name": "stderr",
     "output_type": "stream",
     "text": [
      "100%|█████████████████████████████████████████████| 9/9 [00:07<00:00,  1.19it/s]\n",
      "100%|█████████████████████████████████████████████| 4/4 [00:03<00:00,  1.18it/s]\n"
     ]
    },
    {
     "name": "stdout",
     "output_type": "stream",
     "text": [
      "Epoch : 546 - Train_loss : 0.0000 - Train_Acc: 1.0000 - Val_loss : 0.3683 - Val_Acc: 0.5583  - Time: 10.991058588027954\n",
      "\n"
     ]
    },
    {
     "name": "stderr",
     "output_type": "stream",
     "text": [
      "100%|█████████████████████████████████████████████| 9/9 [00:07<00:00,  1.27it/s]\n",
      "100%|█████████████████████████████████████████████| 4/4 [00:03<00:00,  1.18it/s]\n"
     ]
    },
    {
     "name": "stdout",
     "output_type": "stream",
     "text": [
      "Epoch : 547 - Train_loss : 0.0000 - Train_Acc: 1.0000 - Val_loss : 0.3683 - Val_Acc: 0.5583  - Time: 10.477463722229004\n",
      "\n"
     ]
    },
    {
     "name": "stderr",
     "output_type": "stream",
     "text": [
      "100%|█████████████████████████████████████████████| 9/9 [00:07<00:00,  1.23it/s]\n",
      "100%|█████████████████████████████████████████████| 4/4 [00:03<00:00,  1.08it/s]\n"
     ]
    },
    {
     "name": "stdout",
     "output_type": "stream",
     "text": [
      "Epoch : 548 - Train_loss : 0.0000 - Train_Acc: 1.0000 - Val_loss : 0.3680 - Val_Acc: 0.5583  - Time: 10.985363245010376\n",
      "\n"
     ]
    },
    {
     "name": "stderr",
     "output_type": "stream",
     "text": [
      "100%|█████████████████████████████████████████████| 9/9 [00:07<00:00,  1.20it/s]\n",
      "100%|█████████████████████████████████████████████| 4/4 [00:03<00:00,  1.16it/s]\n"
     ]
    },
    {
     "name": "stdout",
     "output_type": "stream",
     "text": [
      "Epoch : 549 - Train_loss : 0.0000 - Train_Acc: 1.0000 - Val_loss : 0.3656 - Val_Acc: 0.5667  - Time: 10.931013584136963\n",
      "\n"
     ]
    },
    {
     "name": "stderr",
     "output_type": "stream",
     "text": [
      "100%|█████████████████████████████████████████████| 9/9 [00:07<00:00,  1.21it/s]\n",
      "100%|█████████████████████████████████████████████| 4/4 [00:03<00:00,  1.13it/s]\n"
     ]
    },
    {
     "name": "stdout",
     "output_type": "stream",
     "text": [
      "Epoch : 550 - Train_loss : 0.0000 - Train_Acc: 1.0000 - Val_loss : 0.3650 - Val_Acc: 0.5583  - Time: 10.956627130508423\n",
      "\n"
     ]
    },
    {
     "name": "stderr",
     "output_type": "stream",
     "text": [
      "100%|█████████████████████████████████████████████| 9/9 [00:07<00:00,  1.22it/s]\n",
      "100%|█████████████████████████████████████████████| 4/4 [00:03<00:00,  1.13it/s]\n"
     ]
    },
    {
     "name": "stdout",
     "output_type": "stream",
     "text": [
      "Epoch : 551 - Train_loss : 0.0000 - Train_Acc: 1.0000 - Val_loss : 0.3664 - Val_Acc: 0.5583  - Time: 10.957887172698975\n",
      "\n"
     ]
    },
    {
     "name": "stderr",
     "output_type": "stream",
     "text": [
      "100%|█████████████████████████████████████████████| 9/9 [00:07<00:00,  1.24it/s]\n",
      "100%|█████████████████████████████████████████████| 4/4 [00:03<00:00,  1.19it/s]\n"
     ]
    },
    {
     "name": "stdout",
     "output_type": "stream",
     "text": [
      "Epoch : 552 - Train_loss : 0.0000 - Train_Acc: 1.0000 - Val_loss : 0.3670 - Val_Acc: 0.5583  - Time: 10.61518120765686\n",
      "\n"
     ]
    },
    {
     "name": "stderr",
     "output_type": "stream",
     "text": [
      "100%|█████████████████████████████████████████████| 9/9 [00:07<00:00,  1.23it/s]\n",
      "100%|█████████████████████████████████████████████| 4/4 [00:03<00:00,  1.21it/s]\n"
     ]
    },
    {
     "name": "stdout",
     "output_type": "stream",
     "text": [
      "Epoch : 553 - Train_loss : 0.0000 - Train_Acc: 1.0000 - Val_loss : 0.3676 - Val_Acc: 0.5583  - Time: 10.624941110610962\n",
      "\n"
     ]
    },
    {
     "name": "stderr",
     "output_type": "stream",
     "text": [
      "100%|█████████████████████████████████████████████| 9/9 [00:07<00:00,  1.21it/s]\n",
      "100%|█████████████████████████████████████████████| 4/4 [00:03<00:00,  1.26it/s]\n"
     ]
    },
    {
     "name": "stdout",
     "output_type": "stream",
     "text": [
      "Epoch : 554 - Train_loss : 0.0000 - Train_Acc: 1.0000 - Val_loss : 0.3677 - Val_Acc: 0.5583  - Time: 10.611112356185913\n",
      "\n"
     ]
    },
    {
     "name": "stderr",
     "output_type": "stream",
     "text": [
      "100%|█████████████████████████████████████████████| 9/9 [00:07<00:00,  1.20it/s]\n",
      "100%|█████████████████████████████████████████████| 4/4 [00:03<00:00,  1.08it/s]\n"
     ]
    },
    {
     "name": "stdout",
     "output_type": "stream",
     "text": [
      "Epoch : 555 - Train_loss : 0.0000 - Train_Acc: 1.0000 - Val_loss : 0.3678 - Val_Acc: 0.5583  - Time: 11.206398725509644\n",
      "\n"
     ]
    },
    {
     "name": "stderr",
     "output_type": "stream",
     "text": [
      "100%|█████████████████████████████████████████████| 9/9 [00:08<00:00,  1.12it/s]\n",
      "100%|█████████████████████████████████████████████| 4/4 [00:03<00:00,  1.20it/s]\n"
     ]
    },
    {
     "name": "stdout",
     "output_type": "stream",
     "text": [
      "Epoch : 556 - Train_loss : 0.0000 - Train_Acc: 1.0000 - Val_loss : 0.3681 - Val_Acc: 0.5583  - Time: 11.373134851455688\n",
      "\n"
     ]
    },
    {
     "name": "stderr",
     "output_type": "stream",
     "text": [
      "100%|█████████████████████████████████████████████| 9/9 [00:07<00:00,  1.21it/s]\n",
      "100%|█████████████████████████████████████████████| 4/4 [00:03<00:00,  1.25it/s]\n"
     ]
    },
    {
     "name": "stdout",
     "output_type": "stream",
     "text": [
      "Epoch : 557 - Train_loss : 0.0000 - Train_Acc: 1.0000 - Val_loss : 0.3680 - Val_Acc: 0.5500  - Time: 10.682117462158203\n",
      "\n"
     ]
    },
    {
     "name": "stderr",
     "output_type": "stream",
     "text": [
      "100%|█████████████████████████████████████████████| 9/9 [00:07<00:00,  1.26it/s]\n",
      "100%|█████████████████████████████████████████████| 4/4 [00:03<00:00,  1.15it/s]\n"
     ]
    },
    {
     "name": "stdout",
     "output_type": "stream",
     "text": [
      "Epoch : 558 - Train_loss : 0.0000 - Train_Acc: 1.0000 - Val_loss : 0.3680 - Val_Acc: 0.5500  - Time: 10.632973909378052\n",
      "\n"
     ]
    },
    {
     "name": "stderr",
     "output_type": "stream",
     "text": [
      "100%|█████████████████████████████████████████████| 9/9 [00:07<00:00,  1.25it/s]\n",
      "100%|█████████████████████████████████████████████| 4/4 [00:03<00:00,  1.21it/s]\n"
     ]
    },
    {
     "name": "stdout",
     "output_type": "stream",
     "text": [
      "Epoch : 559 - Train_loss : 0.0000 - Train_Acc: 1.0000 - Val_loss : 0.3680 - Val_Acc: 0.5500  - Time: 10.515285730361938\n",
      "\n"
     ]
    },
    {
     "name": "stderr",
     "output_type": "stream",
     "text": [
      "100%|█████████████████████████████████████████████| 9/9 [00:07<00:00,  1.25it/s]\n",
      "100%|█████████████████████████████████████████████| 4/4 [00:03<00:00,  1.15it/s]\n"
     ]
    },
    {
     "name": "stdout",
     "output_type": "stream",
     "text": [
      "Epoch : 560 - Train_loss : 0.0000 - Train_Acc: 1.0000 - Val_loss : 0.3688 - Val_Acc: 0.5500  - Time: 10.688743591308594\n",
      "\n"
     ]
    },
    {
     "name": "stderr",
     "output_type": "stream",
     "text": [
      "100%|█████████████████████████████████████████████| 9/9 [00:07<00:00,  1.21it/s]\n",
      "100%|█████████████████████████████████████████████| 4/4 [00:03<00:00,  1.12it/s]\n"
     ]
    },
    {
     "name": "stdout",
     "output_type": "stream",
     "text": [
      "Epoch : 561 - Train_loss : 0.0000 - Train_Acc: 1.0000 - Val_loss : 0.3696 - Val_Acc: 0.5583  - Time: 11.032621383666992\n",
      "\n"
     ]
    },
    {
     "name": "stderr",
     "output_type": "stream",
     "text": [
      "100%|█████████████████████████████████████████████| 9/9 [00:07<00:00,  1.25it/s]\n",
      "100%|█████████████████████████████████████████████| 4/4 [00:03<00:00,  1.12it/s]\n"
     ]
    },
    {
     "name": "stdout",
     "output_type": "stream",
     "text": [
      "Epoch : 562 - Train_loss : 0.0000 - Train_Acc: 1.0000 - Val_loss : 0.3700 - Val_Acc: 0.5583  - Time: 10.800498485565186\n",
      "\n"
     ]
    },
    {
     "name": "stderr",
     "output_type": "stream",
     "text": [
      "100%|█████████████████████████████████████████████| 9/9 [00:07<00:00,  1.15it/s]\n",
      "100%|█████████████████████████████████████████████| 4/4 [00:03<00:00,  1.18it/s]\n"
     ]
    },
    {
     "name": "stdout",
     "output_type": "stream",
     "text": [
      "Epoch : 563 - Train_loss : 0.0000 - Train_Acc: 1.0000 - Val_loss : 0.3702 - Val_Acc: 0.5583  - Time: 11.239649295806885\n",
      "\n"
     ]
    },
    {
     "name": "stderr",
     "output_type": "stream",
     "text": [
      "100%|█████████████████████████████████████████████| 9/9 [00:07<00:00,  1.24it/s]\n",
      "100%|█████████████████████████████████████████████| 4/4 [00:03<00:00,  1.26it/s]\n"
     ]
    },
    {
     "name": "stdout",
     "output_type": "stream",
     "text": [
      "Epoch : 564 - Train_loss : 0.0000 - Train_Acc: 1.0000 - Val_loss : 0.3721 - Val_Acc: 0.5583  - Time: 10.434646606445312\n",
      "\n"
     ]
    },
    {
     "name": "stderr",
     "output_type": "stream",
     "text": [
      "100%|█████████████████████████████████████████████| 9/9 [00:07<00:00,  1.20it/s]\n",
      "100%|█████████████████████████████████████████████| 4/4 [00:03<00:00,  1.21it/s]\n"
     ]
    },
    {
     "name": "stdout",
     "output_type": "stream",
     "text": [
      "Epoch : 565 - Train_loss : 0.0000 - Train_Acc: 1.0000 - Val_loss : 0.3736 - Val_Acc: 0.5583  - Time: 10.821601629257202\n",
      "\n"
     ]
    },
    {
     "name": "stderr",
     "output_type": "stream",
     "text": [
      "100%|█████████████████████████████████████████████| 9/9 [00:07<00:00,  1.22it/s]\n",
      "100%|█████████████████████████████████████████████| 4/4 [00:03<00:00,  1.27it/s]\n"
     ]
    },
    {
     "name": "stdout",
     "output_type": "stream",
     "text": [
      "Epoch : 566 - Train_loss : 0.0000 - Train_Acc: 1.0000 - Val_loss : 0.3740 - Val_Acc: 0.5583  - Time: 10.513413190841675\n",
      "\n"
     ]
    },
    {
     "name": "stderr",
     "output_type": "stream",
     "text": [
      "100%|█████████████████████████████████████████████| 9/9 [00:07<00:00,  1.21it/s]\n",
      "100%|█████████████████████████████████████████████| 4/4 [00:03<00:00,  1.24it/s]\n"
     ]
    },
    {
     "name": "stdout",
     "output_type": "stream",
     "text": [
      "Epoch : 567 - Train_loss : 0.0000 - Train_Acc: 1.0000 - Val_loss : 0.3782 - Val_Acc: 0.5500  - Time: 10.672122955322266\n",
      "\n"
     ]
    },
    {
     "name": "stderr",
     "output_type": "stream",
     "text": [
      "100%|█████████████████████████████████████████████| 9/9 [00:07<00:00,  1.25it/s]\n",
      "100%|█████████████████████████████████████████████| 4/4 [00:03<00:00,  1.29it/s]\n"
     ]
    },
    {
     "name": "stdout",
     "output_type": "stream",
     "text": [
      "Epoch : 568 - Train_loss : 0.0000 - Train_Acc: 1.0000 - Val_loss : 0.3796 - Val_Acc: 0.5500  - Time: 10.312362670898438\n",
      "\n"
     ]
    },
    {
     "name": "stderr",
     "output_type": "stream",
     "text": [
      "100%|█████████████████████████████████████████████| 9/9 [00:07<00:00,  1.22it/s]\n",
      "100%|█████████████████████████████████████████████| 4/4 [00:03<00:00,  1.27it/s]\n"
     ]
    },
    {
     "name": "stdout",
     "output_type": "stream",
     "text": [
      "Epoch : 569 - Train_loss : 0.0000 - Train_Acc: 1.0000 - Val_loss : 0.3801 - Val_Acc: 0.5500  - Time: 10.545310020446777\n",
      "\n"
     ]
    },
    {
     "name": "stderr",
     "output_type": "stream",
     "text": [
      "100%|█████████████████████████████████████████████| 9/9 [00:08<00:00,  1.12it/s]\n",
      "100%|█████████████████████████████████████████████| 4/4 [00:03<00:00,  1.13it/s]\n"
     ]
    },
    {
     "name": "stdout",
     "output_type": "stream",
     "text": [
      "Epoch : 570 - Train_loss : 0.0000 - Train_Acc: 1.0000 - Val_loss : 0.3802 - Val_Acc: 0.5500  - Time: 11.581643342971802\n",
      "\n"
     ]
    },
    {
     "name": "stderr",
     "output_type": "stream",
     "text": [
      "100%|█████████████████████████████████████████████| 9/9 [00:07<00:00,  1.21it/s]\n",
      "100%|█████████████████████████████████████████████| 4/4 [00:03<00:00,  1.18it/s]\n"
     ]
    },
    {
     "name": "stdout",
     "output_type": "stream",
     "text": [
      "Epoch : 571 - Train_loss : 0.0000 - Train_Acc: 1.0000 - Val_loss : 0.3802 - Val_Acc: 0.5500  - Time: 10.859414339065552\n",
      "\n"
     ]
    },
    {
     "name": "stderr",
     "output_type": "stream",
     "text": [
      "100%|█████████████████████████████████████████████| 9/9 [00:07<00:00,  1.23it/s]\n",
      "100%|█████████████████████████████████████████████| 4/4 [00:03<00:00,  1.09it/s]\n"
     ]
    },
    {
     "name": "stdout",
     "output_type": "stream",
     "text": [
      "Epoch : 572 - Train_loss : 0.0000 - Train_Acc: 1.0000 - Val_loss : 0.3801 - Val_Acc: 0.5500  - Time: 10.962182760238647\n",
      "\n"
     ]
    },
    {
     "name": "stderr",
     "output_type": "stream",
     "text": [
      "100%|█████████████████████████████████████████████| 9/9 [00:07<00:00,  1.22it/s]\n",
      "100%|█████████████████████████████████████████████| 4/4 [00:03<00:00,  1.12it/s]\n"
     ]
    },
    {
     "name": "stdout",
     "output_type": "stream",
     "text": [
      "Epoch : 573 - Train_loss : 0.0000 - Train_Acc: 1.0000 - Val_loss : 0.3793 - Val_Acc: 0.5500  - Time: 10.930544137954712\n",
      "\n"
     ]
    },
    {
     "name": "stderr",
     "output_type": "stream",
     "text": [
      "100%|█████████████████████████████████████████████| 9/9 [00:07<00:00,  1.22it/s]\n",
      "100%|█████████████████████████████████████████████| 4/4 [00:03<00:00,  1.17it/s]\n"
     ]
    },
    {
     "name": "stdout",
     "output_type": "stream",
     "text": [
      "Epoch : 574 - Train_loss : 0.0000 - Train_Acc: 1.0000 - Val_loss : 0.3786 - Val_Acc: 0.5500  - Time: 10.827756404876709\n",
      "\n"
     ]
    },
    {
     "name": "stderr",
     "output_type": "stream",
     "text": [
      "100%|█████████████████████████████████████████████| 9/9 [00:07<00:00,  1.24it/s]\n",
      "100%|█████████████████████████████████████████████| 4/4 [00:03<00:00,  1.16it/s]\n"
     ]
    },
    {
     "name": "stdout",
     "output_type": "stream",
     "text": [
      "Epoch : 575 - Train_loss : 0.0000 - Train_Acc: 1.0000 - Val_loss : 0.3771 - Val_Acc: 0.5500  - Time: 10.72938871383667\n",
      "\n"
     ]
    },
    {
     "name": "stderr",
     "output_type": "stream",
     "text": [
      "100%|█████████████████████████████████████████████| 9/9 [00:07<00:00,  1.22it/s]\n",
      "100%|█████████████████████████████████████████████| 4/4 [00:03<00:00,  1.24it/s]\n"
     ]
    },
    {
     "name": "stdout",
     "output_type": "stream",
     "text": [
      "Epoch : 576 - Train_loss : 0.0000 - Train_Acc: 1.0000 - Val_loss : 0.3769 - Val_Acc: 0.5500  - Time: 10.612597703933716\n",
      "\n"
     ]
    },
    {
     "name": "stderr",
     "output_type": "stream",
     "text": [
      "100%|█████████████████████████████████████████████| 9/9 [00:07<00:00,  1.15it/s]\n",
      "100%|█████████████████████████████████████████████| 4/4 [00:03<00:00,  1.24it/s]\n"
     ]
    },
    {
     "name": "stdout",
     "output_type": "stream",
     "text": [
      "Epoch : 577 - Train_loss : 0.0000 - Train_Acc: 1.0000 - Val_loss : 0.3764 - Val_Acc: 0.5500  - Time: 11.076891422271729\n",
      "\n"
     ]
    },
    {
     "name": "stderr",
     "output_type": "stream",
     "text": [
      "100%|█████████████████████████████████████████████| 9/9 [00:07<00:00,  1.17it/s]\n",
      "100%|█████████████████████████████████████████████| 4/4 [00:03<00:00,  1.32it/s]\n"
     ]
    },
    {
     "name": "stdout",
     "output_type": "stream",
     "text": [
      "Epoch : 578 - Train_loss : 0.0000 - Train_Acc: 1.0000 - Val_loss : 0.3762 - Val_Acc: 0.5500  - Time: 10.725362300872803\n",
      "\n"
     ]
    },
    {
     "name": "stderr",
     "output_type": "stream",
     "text": [
      "100%|█████████████████████████████████████████████| 9/9 [00:07<00:00,  1.23it/s]\n",
      "100%|█████████████████████████████████████████████| 4/4 [00:03<00:00,  1.29it/s]\n"
     ]
    },
    {
     "name": "stdout",
     "output_type": "stream",
     "text": [
      "Epoch : 579 - Train_loss : 0.0000 - Train_Acc: 1.0000 - Val_loss : 0.3753 - Val_Acc: 0.5500  - Time: 10.417635440826416\n",
      "\n"
     ]
    },
    {
     "name": "stderr",
     "output_type": "stream",
     "text": [
      "100%|█████████████████████████████████████████████| 9/9 [00:07<00:00,  1.16it/s]\n",
      "100%|█████████████████████████████████████████████| 4/4 [00:03<00:00,  1.31it/s]\n"
     ]
    },
    {
     "name": "stdout",
     "output_type": "stream",
     "text": [
      "Epoch : 580 - Train_loss : 0.0000 - Train_Acc: 1.0000 - Val_loss : 0.3751 - Val_Acc: 0.5500  - Time: 10.808863639831543\n",
      "\n"
     ]
    },
    {
     "name": "stderr",
     "output_type": "stream",
     "text": [
      "100%|█████████████████████████████████████████████| 9/9 [00:07<00:00,  1.19it/s]\n",
      "100%|█████████████████████████████████████████████| 4/4 [00:03<00:00,  1.27it/s]\n"
     ]
    },
    {
     "name": "stdout",
     "output_type": "stream",
     "text": [
      "Epoch : 581 - Train_loss : 0.0000 - Train_Acc: 1.0000 - Val_loss : 0.3755 - Val_Acc: 0.5500  - Time: 10.72361445426941\n",
      "\n"
     ]
    },
    {
     "name": "stderr",
     "output_type": "stream",
     "text": [
      "100%|█████████████████████████████████████████████| 9/9 [00:07<00:00,  1.20it/s]\n",
      "100%|█████████████████████████████████████████████| 4/4 [00:03<00:00,  1.21it/s]\n"
     ]
    },
    {
     "name": "stdout",
     "output_type": "stream",
     "text": [
      "Epoch : 582 - Train_loss : 0.0000 - Train_Acc: 1.0000 - Val_loss : 0.3792 - Val_Acc: 0.5583  - Time: 10.815749883651733\n",
      "\n"
     ]
    },
    {
     "name": "stderr",
     "output_type": "stream",
     "text": [
      "100%|█████████████████████████████████████████████| 9/9 [00:07<00:00,  1.22it/s]\n",
      "100%|█████████████████████████████████████████████| 4/4 [00:03<00:00,  1.20it/s]\n"
     ]
    },
    {
     "name": "stdout",
     "output_type": "stream",
     "text": [
      "Epoch : 583 - Train_loss : 0.0000 - Train_Acc: 1.0000 - Val_loss : 0.3802 - Val_Acc: 0.5500  - Time: 10.68314528465271\n",
      "\n"
     ]
    },
    {
     "name": "stderr",
     "output_type": "stream",
     "text": [
      "100%|█████████████████████████████████████████████| 9/9 [00:07<00:00,  1.15it/s]\n",
      "100%|█████████████████████████████████████████████| 4/4 [00:03<00:00,  1.10it/s]\n"
     ]
    },
    {
     "name": "stdout",
     "output_type": "stream",
     "text": [
      "Epoch : 584 - Train_loss : 0.0001 - Train_Acc: 1.0000 - Val_loss : 0.3787 - Val_Acc: 0.5500  - Time: 11.429450511932373\n",
      "\n"
     ]
    },
    {
     "name": "stderr",
     "output_type": "stream",
     "text": [
      "100%|█████████████████████████████████████████████| 9/9 [00:07<00:00,  1.25it/s]\n",
      "100%|█████████████████████████████████████████████| 4/4 [00:03<00:00,  1.16it/s]\n"
     ]
    },
    {
     "name": "stdout",
     "output_type": "stream",
     "text": [
      "Epoch : 585 - Train_loss : 0.0000 - Train_Acc: 1.0000 - Val_loss : 0.3759 - Val_Acc: 0.5417  - Time: 10.678443908691406\n",
      "\n"
     ]
    },
    {
     "name": "stderr",
     "output_type": "stream",
     "text": [
      "100%|█████████████████████████████████████████████| 9/9 [00:07<00:00,  1.24it/s]\n",
      "100%|█████████████████████████████████████████████| 4/4 [00:03<00:00,  1.06it/s]\n"
     ]
    },
    {
     "name": "stdout",
     "output_type": "stream",
     "text": [
      "Epoch : 586 - Train_loss : 0.0000 - Train_Acc: 1.0000 - Val_loss : 0.3745 - Val_Acc: 0.5417  - Time: 11.058008193969727\n",
      "\n"
     ]
    },
    {
     "name": "stderr",
     "output_type": "stream",
     "text": [
      "100%|█████████████████████████████████████████████| 9/9 [00:07<00:00,  1.19it/s]\n",
      "100%|█████████████████████████████████████████████| 4/4 [00:03<00:00,  1.11it/s]\n"
     ]
    },
    {
     "name": "stdout",
     "output_type": "stream",
     "text": [
      "Epoch : 587 - Train_loss : 0.0000 - Train_Acc: 1.0000 - Val_loss : 0.3740 - Val_Acc: 0.5417  - Time: 11.187626600265503\n",
      "\n"
     ]
    },
    {
     "name": "stderr",
     "output_type": "stream",
     "text": [
      "100%|█████████████████████████████████████████████| 9/9 [00:07<00:00,  1.24it/s]\n",
      "100%|█████████████████████████████████████████████| 4/4 [00:03<00:00,  1.16it/s]\n"
     ]
    },
    {
     "name": "stdout",
     "output_type": "stream",
     "text": [
      "Epoch : 588 - Train_loss : 0.0000 - Train_Acc: 1.0000 - Val_loss : 0.3739 - Val_Acc: 0.5417  - Time: 10.702040672302246\n",
      "\n"
     ]
    },
    {
     "name": "stderr",
     "output_type": "stream",
     "text": [
      "100%|█████████████████████████████████████████████| 9/9 [00:07<00:00,  1.24it/s]\n",
      "100%|█████████████████████████████████████████████| 4/4 [00:03<00:00,  1.25it/s]\n"
     ]
    },
    {
     "name": "stdout",
     "output_type": "stream",
     "text": [
      "Epoch : 589 - Train_loss : 0.0000 - Train_Acc: 1.0000 - Val_loss : 0.3737 - Val_Acc: 0.5417  - Time: 10.462931871414185\n",
      "\n"
     ]
    },
    {
     "name": "stderr",
     "output_type": "stream",
     "text": [
      "100%|█████████████████████████████████████████████| 9/9 [00:07<00:00,  1.22it/s]\n",
      "100%|█████████████████████████████████████████████| 4/4 [00:03<00:00,  1.25it/s]\n"
     ]
    },
    {
     "name": "stdout",
     "output_type": "stream",
     "text": [
      "Epoch : 590 - Train_loss : 0.0000 - Train_Acc: 1.0000 - Val_loss : 0.3741 - Val_Acc: 0.5417  - Time: 10.60539174079895\n",
      "\n"
     ]
    },
    {
     "name": "stderr",
     "output_type": "stream",
     "text": [
      "100%|█████████████████████████████████████████████| 9/9 [00:07<00:00,  1.16it/s]\n",
      "100%|█████████████████████████████████████████████| 4/4 [00:03<00:00,  1.10it/s]\n"
     ]
    },
    {
     "name": "stdout",
     "output_type": "stream",
     "text": [
      "Epoch : 591 - Train_loss : 0.0000 - Train_Acc: 1.0000 - Val_loss : 0.3751 - Val_Acc: 0.5417  - Time: 11.383132219314575\n",
      "\n"
     ]
    },
    {
     "name": "stderr",
     "output_type": "stream",
     "text": [
      "100%|█████████████████████████████████████████████| 9/9 [00:07<00:00,  1.24it/s]\n",
      "100%|█████████████████████████████████████████████| 4/4 [00:03<00:00,  1.22it/s]\n"
     ]
    },
    {
     "name": "stdout",
     "output_type": "stream",
     "text": [
      "Epoch : 592 - Train_loss : 0.0000 - Train_Acc: 1.0000 - Val_loss : 0.3754 - Val_Acc: 0.5417  - Time: 10.54833698272705\n",
      "\n"
     ]
    },
    {
     "name": "stderr",
     "output_type": "stream",
     "text": [
      "100%|█████████████████████████████████████████████| 9/9 [00:07<00:00,  1.26it/s]\n",
      "100%|█████████████████████████████████████████████| 4/4 [00:03<00:00,  1.23it/s]\n"
     ]
    },
    {
     "name": "stdout",
     "output_type": "stream",
     "text": [
      "Epoch : 593 - Train_loss : 0.0000 - Train_Acc: 1.0000 - Val_loss : 0.3754 - Val_Acc: 0.5417  - Time: 10.405181169509888\n",
      "\n"
     ]
    },
    {
     "name": "stderr",
     "output_type": "stream",
     "text": [
      "100%|█████████████████████████████████████████████| 9/9 [00:07<00:00,  1.15it/s]\n",
      "100%|█████████████████████████████████████████████| 4/4 [00:03<00:00,  1.24it/s]\n"
     ]
    },
    {
     "name": "stdout",
     "output_type": "stream",
     "text": [
      "Epoch : 594 - Train_loss : 0.0000 - Train_Acc: 1.0000 - Val_loss : 0.3752 - Val_Acc: 0.5417  - Time: 11.072825908660889\n",
      "\n"
     ]
    },
    {
     "name": "stderr",
     "output_type": "stream",
     "text": [
      "100%|█████████████████████████████████████████████| 9/9 [00:07<00:00,  1.23it/s]\n",
      "100%|█████████████████████████████████████████████| 4/4 [00:03<00:00,  1.19it/s]\n"
     ]
    },
    {
     "name": "stdout",
     "output_type": "stream",
     "text": [
      "Epoch : 595 - Train_loss : 0.0000 - Train_Acc: 1.0000 - Val_loss : 0.3747 - Val_Acc: 0.5417  - Time: 10.662883996963501\n",
      "\n"
     ]
    },
    {
     "name": "stderr",
     "output_type": "stream",
     "text": [
      "100%|█████████████████████████████████████████████| 9/9 [00:07<00:00,  1.23it/s]\n",
      "100%|█████████████████████████████████████████████| 4/4 [00:03<00:00,  1.25it/s]\n"
     ]
    },
    {
     "name": "stdout",
     "output_type": "stream",
     "text": [
      "Epoch : 596 - Train_loss : 0.0000 - Train_Acc: 1.0000 - Val_loss : 0.3749 - Val_Acc: 0.5417  - Time: 10.50334620475769\n",
      "\n"
     ]
    },
    {
     "name": "stderr",
     "output_type": "stream",
     "text": [
      "100%|█████████████████████████████████████████████| 9/9 [00:07<00:00,  1.24it/s]\n",
      "100%|█████████████████████████████████████████████| 4/4 [00:03<00:00,  1.17it/s]\n"
     ]
    },
    {
     "name": "stdout",
     "output_type": "stream",
     "text": [
      "Epoch : 597 - Train_loss : 0.0000 - Train_Acc: 1.0000 - Val_loss : 0.3758 - Val_Acc: 0.5417  - Time: 10.692837715148926\n",
      "\n"
     ]
    },
    {
     "name": "stderr",
     "output_type": "stream",
     "text": [
      "100%|█████████████████████████████████████████████| 9/9 [00:07<00:00,  1.25it/s]\n",
      "100%|█████████████████████████████████████████████| 4/4 [00:04<00:00,  1.02s/it]\n"
     ]
    },
    {
     "name": "stdout",
     "output_type": "stream",
     "text": [
      "Epoch : 598 - Train_loss : 0.0000 - Train_Acc: 1.0000 - Val_loss : 0.3762 - Val_Acc: 0.5417  - Time: 11.318780422210693\n",
      "\n"
     ]
    },
    {
     "name": "stderr",
     "output_type": "stream",
     "text": [
      "100%|█████████████████████████████████████████████| 9/9 [00:07<00:00,  1.22it/s]\n",
      "100%|█████████████████████████████████████████████| 4/4 [00:03<00:00,  1.12it/s]\n"
     ]
    },
    {
     "name": "stdout",
     "output_type": "stream",
     "text": [
      "Epoch : 599 - Train_loss : 0.0000 - Train_Acc: 1.0000 - Val_loss : 0.3753 - Val_Acc: 0.5417  - Time: 10.943333625793457\n",
      "\n"
     ]
    },
    {
     "name": "stderr",
     "output_type": "stream",
     "text": [
      "100%|█████████████████████████████████████████████| 9/9 [00:06<00:00,  1.29it/s]\n",
      "100%|█████████████████████████████████████████████| 4/4 [00:03<00:00,  1.17it/s]\n"
     ]
    },
    {
     "name": "stdout",
     "output_type": "stream",
     "text": [
      "Epoch : 600 - Train_loss : 0.0000 - Train_Acc: 1.0000 - Val_loss : 0.3744 - Val_Acc: 0.5417  - Time: 10.43587589263916\n",
      "\n"
     ]
    },
    {
     "name": "stderr",
     "output_type": "stream",
     "text": [
      "100%|█████████████████████████████████████████████| 9/9 [00:07<00:00,  1.25it/s]\n",
      "100%|█████████████████████████████████████████████| 4/4 [00:03<00:00,  1.15it/s]\n"
     ]
    },
    {
     "name": "stdout",
     "output_type": "stream",
     "text": [
      "Epoch : 601 - Train_loss : 0.0000 - Train_Acc: 1.0000 - Val_loss : 0.3741 - Val_Acc: 0.5417  - Time: 10.674716711044312\n",
      "\n"
     ]
    },
    {
     "name": "stderr",
     "output_type": "stream",
     "text": [
      "100%|█████████████████████████████████████████████| 9/9 [00:07<00:00,  1.27it/s]\n",
      "100%|█████████████████████████████████████████████| 4/4 [00:03<00:00,  1.15it/s]\n"
     ]
    },
    {
     "name": "stdout",
     "output_type": "stream",
     "text": [
      "Epoch : 602 - Train_loss : 0.0000 - Train_Acc: 1.0000 - Val_loss : 0.3749 - Val_Acc: 0.5417  - Time: 10.546725511550903\n",
      "\n"
     ]
    },
    {
     "name": "stderr",
     "output_type": "stream",
     "text": [
      "100%|█████████████████████████████████████████████| 9/9 [00:07<00:00,  1.20it/s]\n",
      "100%|█████████████████████████████████████████████| 4/4 [00:03<00:00,  1.26it/s]\n"
     ]
    },
    {
     "name": "stdout",
     "output_type": "stream",
     "text": [
      "Epoch : 603 - Train_loss : 0.0000 - Train_Acc: 1.0000 - Val_loss : 0.3750 - Val_Acc: 0.5417  - Time: 10.672512769699097\n",
      "\n"
     ]
    },
    {
     "name": "stderr",
     "output_type": "stream",
     "text": [
      "100%|█████████████████████████████████████████████| 9/9 [00:07<00:00,  1.27it/s]\n",
      "100%|█████████████████████████████████████████████| 4/4 [00:03<00:00,  1.29it/s]\n"
     ]
    },
    {
     "name": "stdout",
     "output_type": "stream",
     "text": [
      "Epoch : 604 - Train_loss : 0.0000 - Train_Acc: 1.0000 - Val_loss : 0.3749 - Val_Acc: 0.5417  - Time: 10.213313341140747\n",
      "\n"
     ]
    },
    {
     "name": "stderr",
     "output_type": "stream",
     "text": [
      "100%|█████████████████████████████████████████████| 9/9 [00:07<00:00,  1.19it/s]\n",
      "100%|█████████████████████████████████████████████| 4/4 [00:03<00:00,  1.17it/s]\n"
     ]
    },
    {
     "name": "stdout",
     "output_type": "stream",
     "text": [
      "Epoch : 605 - Train_loss : 0.0000 - Train_Acc: 1.0000 - Val_loss : 0.3749 - Val_Acc: 0.5417  - Time: 10.985203266143799\n",
      "\n"
     ]
    },
    {
     "name": "stderr",
     "output_type": "stream",
     "text": [
      "100%|█████████████████████████████████████████████| 9/9 [00:07<00:00,  1.14it/s]\n",
      "100%|█████████████████████████████████████████████| 4/4 [00:03<00:00,  1.24it/s]\n"
     ]
    },
    {
     "name": "stdout",
     "output_type": "stream",
     "text": [
      "Epoch : 606 - Train_loss : 0.0000 - Train_Acc: 1.0000 - Val_loss : 0.3747 - Val_Acc: 0.5417  - Time: 11.129523992538452\n",
      "\n"
     ]
    },
    {
     "name": "stderr",
     "output_type": "stream",
     "text": [
      "100%|█████████████████████████████████████████████| 9/9 [00:07<00:00,  1.20it/s]\n",
      "100%|█████████████████████████████████████████████| 4/4 [00:03<00:00,  1.22it/s]\n"
     ]
    },
    {
     "name": "stdout",
     "output_type": "stream",
     "text": [
      "Epoch : 607 - Train_loss : 0.0000 - Train_Acc: 1.0000 - Val_loss : 0.3750 - Val_Acc: 0.5417  - Time: 10.808572053909302\n",
      "\n"
     ]
    },
    {
     "name": "stderr",
     "output_type": "stream",
     "text": [
      "100%|█████████████████████████████████████████████| 9/9 [00:07<00:00,  1.21it/s]\n",
      "100%|█████████████████████████████████████████████| 4/4 [00:03<00:00,  1.15it/s]\n"
     ]
    },
    {
     "name": "stdout",
     "output_type": "stream",
     "text": [
      "Epoch : 608 - Train_loss : 0.0000 - Train_Acc: 1.0000 - Val_loss : 0.3762 - Val_Acc: 0.5417  - Time: 10.887136220932007\n",
      "\n"
     ]
    },
    {
     "name": "stderr",
     "output_type": "stream",
     "text": [
      "100%|█████████████████████████████████████████████| 9/9 [00:07<00:00,  1.23it/s]\n",
      "100%|█████████████████████████████████████████████| 4/4 [00:03<00:00,  1.18it/s]\n"
     ]
    },
    {
     "name": "stdout",
     "output_type": "stream",
     "text": [
      "Epoch : 609 - Train_loss : 0.0000 - Train_Acc: 1.0000 - Val_loss : 0.3770 - Val_Acc: 0.5417  - Time: 10.681743860244751\n",
      "\n"
     ]
    },
    {
     "name": "stderr",
     "output_type": "stream",
     "text": [
      "100%|█████████████████████████████████████████████| 9/9 [00:07<00:00,  1.28it/s]\n",
      "100%|█████████████████████████████████████████████| 4/4 [00:03<00:00,  1.21it/s]\n"
     ]
    },
    {
     "name": "stdout",
     "output_type": "stream",
     "text": [
      "Epoch : 610 - Train_loss : 0.0000 - Train_Acc: 1.0000 - Val_loss : 0.3772 - Val_Acc: 0.5417  - Time: 10.319263696670532\n",
      "\n"
     ]
    },
    {
     "name": "stderr",
     "output_type": "stream",
     "text": [
      "100%|█████████████████████████████████████████████| 9/9 [00:07<00:00,  1.26it/s]\n",
      "100%|█████████████████████████████████████████████| 4/4 [00:03<00:00,  1.14it/s]\n"
     ]
    },
    {
     "name": "stdout",
     "output_type": "stream",
     "text": [
      "Epoch : 611 - Train_loss : 0.0000 - Train_Acc: 1.0000 - Val_loss : 0.3771 - Val_Acc: 0.5417  - Time: 10.673147678375244\n",
      "\n"
     ]
    },
    {
     "name": "stderr",
     "output_type": "stream",
     "text": [
      "100%|█████████████████████████████████████████████| 9/9 [00:07<00:00,  1.22it/s]\n",
      "100%|█████████████████████████████████████████████| 4/4 [00:03<00:00,  1.10it/s]\n"
     ]
    },
    {
     "name": "stdout",
     "output_type": "stream",
     "text": [
      "Epoch : 612 - Train_loss : 0.0000 - Train_Acc: 1.0000 - Val_loss : 0.3762 - Val_Acc: 0.5500  - Time: 11.021819829940796\n",
      "\n"
     ]
    },
    {
     "name": "stderr",
     "output_type": "stream",
     "text": [
      "100%|█████████████████████████████████████████████| 9/9 [00:07<00:00,  1.15it/s]\n",
      "100%|█████████████████████████████████████████████| 4/4 [00:03<00:00,  1.12it/s]\n"
     ]
    },
    {
     "name": "stdout",
     "output_type": "stream",
     "text": [
      "Epoch : 613 - Train_loss : 0.0000 - Train_Acc: 1.0000 - Val_loss : 0.3752 - Val_Acc: 0.5500  - Time: 11.433804512023926\n",
      "\n"
     ]
    },
    {
     "name": "stderr",
     "output_type": "stream",
     "text": [
      "100%|█████████████████████████████████████████████| 9/9 [00:07<00:00,  1.22it/s]\n",
      "100%|█████████████████████████████████████████████| 4/4 [00:03<00:00,  1.17it/s]\n"
     ]
    },
    {
     "name": "stdout",
     "output_type": "stream",
     "text": [
      "Epoch : 614 - Train_loss : 0.0000 - Train_Acc: 1.0000 - Val_loss : 0.3745 - Val_Acc: 0.5500  - Time: 10.816556453704834\n",
      "\n"
     ]
    },
    {
     "name": "stderr",
     "output_type": "stream",
     "text": [
      "100%|█████████████████████████████████████████████| 9/9 [00:07<00:00,  1.19it/s]\n",
      "100%|█████████████████████████████████████████████| 4/4 [00:03<00:00,  1.22it/s]\n"
     ]
    },
    {
     "name": "stdout",
     "output_type": "stream",
     "text": [
      "Epoch : 615 - Train_loss : 0.0000 - Train_Acc: 1.0000 - Val_loss : 0.3751 - Val_Acc: 0.5500  - Time: 10.86520266532898\n",
      "\n"
     ]
    },
    {
     "name": "stderr",
     "output_type": "stream",
     "text": [
      "100%|█████████████████████████████████████████████| 9/9 [00:07<00:00,  1.25it/s]\n",
      "100%|█████████████████████████████████████████████| 4/4 [00:03<00:00,  1.30it/s]\n"
     ]
    },
    {
     "name": "stdout",
     "output_type": "stream",
     "text": [
      "Epoch : 616 - Train_loss : 0.0000 - Train_Acc: 1.0000 - Val_loss : 0.3768 - Val_Acc: 0.5500  - Time: 10.275020122528076\n",
      "\n"
     ]
    },
    {
     "name": "stderr",
     "output_type": "stream",
     "text": [
      "100%|█████████████████████████████████████████████| 9/9 [00:07<00:00,  1.21it/s]\n",
      "100%|█████████████████████████████████████████████| 4/4 [00:03<00:00,  1.30it/s]\n"
     ]
    },
    {
     "name": "stdout",
     "output_type": "stream",
     "text": [
      "Epoch : 617 - Train_loss : 0.0000 - Train_Acc: 1.0000 - Val_loss : 0.3775 - Val_Acc: 0.5500  - Time: 10.489978790283203\n",
      "\n"
     ]
    },
    {
     "name": "stderr",
     "output_type": "stream",
     "text": [
      "100%|█████████████████████████████████████████████| 9/9 [00:07<00:00,  1.22it/s]\n",
      "100%|█████████████████████████████████████████████| 4/4 [00:03<00:00,  1.26it/s]\n"
     ]
    },
    {
     "name": "stdout",
     "output_type": "stream",
     "text": [
      "Epoch : 618 - Train_loss : 0.0000 - Train_Acc: 1.0000 - Val_loss : 0.3774 - Val_Acc: 0.5500  - Time: 10.591280460357666\n",
      "\n"
     ]
    },
    {
     "name": "stderr",
     "output_type": "stream",
     "text": [
      "100%|█████████████████████████████████████████████| 9/9 [00:07<00:00,  1.23it/s]\n",
      "100%|█████████████████████████████████████████████| 4/4 [00:03<00:00,  1.28it/s]\n"
     ]
    },
    {
     "name": "stdout",
     "output_type": "stream",
     "text": [
      "Epoch : 619 - Train_loss : 0.0000 - Train_Acc: 1.0000 - Val_loss : 0.3775 - Val_Acc: 0.5500  - Time: 10.440359115600586\n",
      "\n"
     ]
    },
    {
     "name": "stderr",
     "output_type": "stream",
     "text": [
      "100%|█████████████████████████████████████████████| 9/9 [00:08<00:00,  1.09it/s]\n",
      "100%|█████████████████████████████████████████████| 4/4 [00:03<00:00,  1.17it/s]\n"
     ]
    },
    {
     "name": "stdout",
     "output_type": "stream",
     "text": [
      "Epoch : 620 - Train_loss : 0.0000 - Train_Acc: 1.0000 - Val_loss : 0.3772 - Val_Acc: 0.5500  - Time: 11.709326028823853\n",
      "\n"
     ]
    },
    {
     "name": "stderr",
     "output_type": "stream",
     "text": [
      "100%|█████████████████████████████████████████████| 9/9 [00:07<00:00,  1.21it/s]\n",
      "100%|█████████████████████████████████████████████| 4/4 [00:03<00:00,  1.18it/s]\n"
     ]
    },
    {
     "name": "stdout",
     "output_type": "stream",
     "text": [
      "Epoch : 621 - Train_loss : 0.0000 - Train_Acc: 1.0000 - Val_loss : 0.3767 - Val_Acc: 0.5500  - Time: 10.837441444396973\n",
      "\n"
     ]
    },
    {
     "name": "stderr",
     "output_type": "stream",
     "text": [
      "100%|█████████████████████████████████████████████| 9/9 [00:07<00:00,  1.23it/s]\n",
      "100%|█████████████████████████████████████████████| 4/4 [00:03<00:00,  1.15it/s]\n"
     ]
    },
    {
     "name": "stdout",
     "output_type": "stream",
     "text": [
      "Epoch : 622 - Train_loss : 0.0000 - Train_Acc: 1.0000 - Val_loss : 0.3770 - Val_Acc: 0.5500  - Time: 10.792707204818726\n",
      "\n"
     ]
    },
    {
     "name": "stderr",
     "output_type": "stream",
     "text": [
      "100%|█████████████████████████████████████████████| 9/9 [00:07<00:00,  1.25it/s]\n",
      "100%|█████████████████████████████████████████████| 4/4 [00:03<00:00,  1.14it/s]\n"
     ]
    },
    {
     "name": "stdout",
     "output_type": "stream",
     "text": [
      "Epoch : 623 - Train_loss : 0.0000 - Train_Acc: 1.0000 - Val_loss : 0.3772 - Val_Acc: 0.5500  - Time: 10.697859525680542\n",
      "\n"
     ]
    },
    {
     "name": "stderr",
     "output_type": "stream",
     "text": [
      "100%|█████████████████████████████████████████████| 9/9 [00:07<00:00,  1.27it/s]\n",
      "100%|█████████████████████████████████████████████| 4/4 [00:03<00:00,  1.08it/s]\n"
     ]
    },
    {
     "name": "stdout",
     "output_type": "stream",
     "text": [
      "Epoch : 624 - Train_loss : 0.0000 - Train_Acc: 1.0000 - Val_loss : 0.3772 - Val_Acc: 0.5500  - Time: 10.798787593841553\n",
      "\n"
     ]
    },
    {
     "name": "stderr",
     "output_type": "stream",
     "text": [
      "100%|█████████████████████████████████████████████| 9/9 [00:07<00:00,  1.26it/s]\n",
      "100%|█████████████████████████████████████████████| 4/4 [00:03<00:00,  1.18it/s]\n"
     ]
    },
    {
     "name": "stdout",
     "output_type": "stream",
     "text": [
      "Epoch : 625 - Train_loss : 0.0000 - Train_Acc: 1.0000 - Val_loss : 0.3774 - Val_Acc: 0.5500  - Time: 10.562030792236328\n",
      "\n"
     ]
    },
    {
     "name": "stderr",
     "output_type": "stream",
     "text": [
      "100%|█████████████████████████████████████████████| 9/9 [00:07<00:00,  1.27it/s]\n",
      "100%|█████████████████████████████████████████████| 4/4 [00:03<00:00,  1.17it/s]\n"
     ]
    },
    {
     "name": "stdout",
     "output_type": "stream",
     "text": [
      "Epoch : 626 - Train_loss : 0.0000 - Train_Acc: 1.0000 - Val_loss : 0.3771 - Val_Acc: 0.5500  - Time: 10.480319499969482\n",
      "\n"
     ]
    },
    {
     "name": "stderr",
     "output_type": "stream",
     "text": [
      "100%|█████████████████████████████████████████████| 9/9 [00:07<00:00,  1.15it/s]\n",
      "100%|█████████████████████████████████████████████| 4/4 [00:03<00:00,  1.17it/s]\n"
     ]
    },
    {
     "name": "stdout",
     "output_type": "stream",
     "text": [
      "Epoch : 627 - Train_loss : 0.0000 - Train_Acc: 1.0000 - Val_loss : 0.3768 - Val_Acc: 0.5500  - Time: 11.287247896194458\n",
      "\n"
     ]
    },
    {
     "name": "stderr",
     "output_type": "stream",
     "text": [
      "100%|█████████████████████████████████████████████| 9/9 [00:07<00:00,  1.19it/s]\n",
      "100%|█████████████████████████████████████████████| 4/4 [00:03<00:00,  1.30it/s]\n"
     ]
    },
    {
     "name": "stdout",
     "output_type": "stream",
     "text": [
      "Epoch : 628 - Train_loss : 0.0000 - Train_Acc: 1.0000 - Val_loss : 0.3767 - Val_Acc: 0.5583  - Time: 10.621106386184692\n",
      "\n"
     ]
    },
    {
     "name": "stderr",
     "output_type": "stream",
     "text": [
      "100%|█████████████████████████████████████████████| 9/9 [00:07<00:00,  1.22it/s]\n",
      "100%|█████████████████████████████████████████████| 4/4 [00:03<00:00,  1.26it/s]\n"
     ]
    },
    {
     "name": "stdout",
     "output_type": "stream",
     "text": [
      "Epoch : 629 - Train_loss : 0.0000 - Train_Acc: 1.0000 - Val_loss : 0.3767 - Val_Acc: 0.5583  - Time: 10.554349422454834\n",
      "\n"
     ]
    },
    {
     "name": "stderr",
     "output_type": "stream",
     "text": [
      "100%|█████████████████████████████████████████████| 9/9 [00:07<00:00,  1.18it/s]\n",
      "100%|█████████████████████████████████████████████| 4/4 [00:03<00:00,  1.31it/s]\n"
     ]
    },
    {
     "name": "stdout",
     "output_type": "stream",
     "text": [
      "Epoch : 630 - Train_loss : 0.0000 - Train_Acc: 1.0000 - Val_loss : 0.3766 - Val_Acc: 0.5583  - Time: 10.651673316955566\n",
      "\n"
     ]
    },
    {
     "name": "stderr",
     "output_type": "stream",
     "text": [
      "100%|█████████████████████████████████████████████| 9/9 [00:07<00:00,  1.19it/s]\n",
      "100%|█████████████████████████████████████████████| 4/4 [00:03<00:00,  1.29it/s]\n"
     ]
    },
    {
     "name": "stdout",
     "output_type": "stream",
     "text": [
      "Epoch : 631 - Train_loss : 0.0000 - Train_Acc: 1.0000 - Val_loss : 0.3740 - Val_Acc: 0.5500  - Time: 10.655823469161987\n",
      "\n"
     ]
    },
    {
     "name": "stderr",
     "output_type": "stream",
     "text": [
      "100%|█████████████████████████████████████████████| 9/9 [00:07<00:00,  1.23it/s]\n",
      "100%|█████████████████████████████████████████████| 4/4 [00:03<00:00,  1.25it/s]\n"
     ]
    },
    {
     "name": "stdout",
     "output_type": "stream",
     "text": [
      "Epoch : 632 - Train_loss : 0.0000 - Train_Acc: 1.0000 - Val_loss : 0.3728 - Val_Acc: 0.5500  - Time: 10.494840383529663\n",
      "\n"
     ]
    },
    {
     "name": "stderr",
     "output_type": "stream",
     "text": [
      "100%|█████████████████████████████████████████████| 9/9 [00:07<00:00,  1.21it/s]\n",
      "100%|█████████████████████████████████████████████| 4/4 [00:03<00:00,  1.23it/s]\n"
     ]
    },
    {
     "name": "stdout",
     "output_type": "stream",
     "text": [
      "Epoch : 633 - Train_loss : 0.0000 - Train_Acc: 1.0000 - Val_loss : 0.3723 - Val_Acc: 0.5500  - Time: 10.723724126815796\n",
      "\n"
     ]
    },
    {
     "name": "stderr",
     "output_type": "stream",
     "text": [
      "100%|█████████████████████████████████████████████| 9/9 [00:08<00:00,  1.09it/s]\n",
      "100%|█████████████████████████████████████████████| 4/4 [00:03<00:00,  1.08it/s]\n"
     ]
    },
    {
     "name": "stdout",
     "output_type": "stream",
     "text": [
      "Epoch : 634 - Train_loss : 0.0000 - Train_Acc: 1.0000 - Val_loss : 0.3718 - Val_Acc: 0.5500  - Time: 11.9490327835083\n",
      "\n"
     ]
    },
    {
     "name": "stderr",
     "output_type": "stream",
     "text": [
      "100%|█████████████████████████████████████████████| 9/9 [00:07<00:00,  1.19it/s]\n",
      "100%|█████████████████████████████████████████████| 4/4 [00:03<00:00,  1.19it/s]\n"
     ]
    },
    {
     "name": "stdout",
     "output_type": "stream",
     "text": [
      "Epoch : 635 - Train_loss : 0.0000 - Train_Acc: 1.0000 - Val_loss : 0.3713 - Val_Acc: 0.5500  - Time: 10.930000305175781\n",
      "\n"
     ]
    },
    {
     "name": "stderr",
     "output_type": "stream",
     "text": [
      "100%|█████████████████████████████████████████████| 9/9 [00:07<00:00,  1.15it/s]\n",
      "100%|█████████████████████████████████████████████| 4/4 [00:03<00:00,  1.16it/s]\n"
     ]
    },
    {
     "name": "stdout",
     "output_type": "stream",
     "text": [
      "Epoch : 636 - Train_loss : 0.0000 - Train_Acc: 1.0000 - Val_loss : 0.3722 - Val_Acc: 0.5500  - Time: 11.31904911994934\n",
      "\n"
     ]
    },
    {
     "name": "stderr",
     "output_type": "stream",
     "text": [
      "100%|█████████████████████████████████████████████| 9/9 [00:07<00:00,  1.16it/s]\n",
      "100%|█████████████████████████████████████████████| 4/4 [00:03<00:00,  1.10it/s]\n"
     ]
    },
    {
     "name": "stdout",
     "output_type": "stream",
     "text": [
      "Epoch : 637 - Train_loss : 0.0000 - Train_Acc: 1.0000 - Val_loss : 0.3727 - Val_Acc: 0.5500  - Time: 11.401491165161133\n",
      "\n"
     ]
    },
    {
     "name": "stderr",
     "output_type": "stream",
     "text": [
      "100%|█████████████████████████████████████████████| 9/9 [00:07<00:00,  1.19it/s]\n",
      "100%|█████████████████████████████████████████████| 4/4 [00:03<00:00,  1.14it/s]\n"
     ]
    },
    {
     "name": "stdout",
     "output_type": "stream",
     "text": [
      "Epoch : 638 - Train_loss : 0.0000 - Train_Acc: 1.0000 - Val_loss : 0.3728 - Val_Acc: 0.5500  - Time: 11.063091278076172\n",
      "\n"
     ]
    },
    {
     "name": "stderr",
     "output_type": "stream",
     "text": [
      "100%|█████████████████████████████████████████████| 9/9 [00:07<00:00,  1.19it/s]\n",
      "100%|█████████████████████████████████████████████| 4/4 [00:03<00:00,  1.12it/s]\n"
     ]
    },
    {
     "name": "stdout",
     "output_type": "stream",
     "text": [
      "Epoch : 639 - Train_loss : 0.0000 - Train_Acc: 1.0000 - Val_loss : 0.3730 - Val_Acc: 0.5500  - Time: 11.119703531265259\n",
      "\n"
     ]
    },
    {
     "name": "stderr",
     "output_type": "stream",
     "text": [
      "100%|█████████████████████████████████████████████| 9/9 [00:07<00:00,  1.20it/s]\n",
      "100%|█████████████████████████████████████████████| 4/4 [00:03<00:00,  1.28it/s]\n"
     ]
    },
    {
     "name": "stdout",
     "output_type": "stream",
     "text": [
      "Epoch : 640 - Train_loss : 0.0000 - Train_Acc: 1.0000 - Val_loss : 0.3735 - Val_Acc: 0.5500  - Time: 10.634018898010254\n",
      "\n"
     ]
    },
    {
     "name": "stderr",
     "output_type": "stream",
     "text": [
      "100%|█████████████████████████████████████████████| 9/9 [00:08<00:00,  1.12it/s]\n",
      "100%|█████████████████████████████████████████████| 4/4 [00:03<00:00,  1.09it/s]\n"
     ]
    },
    {
     "name": "stdout",
     "output_type": "stream",
     "text": [
      "Epoch : 641 - Train_loss : 0.0000 - Train_Acc: 1.0000 - Val_loss : 0.3760 - Val_Acc: 0.5500  - Time: 11.691141366958618\n",
      "\n"
     ]
    },
    {
     "name": "stderr",
     "output_type": "stream",
     "text": [
      "100%|█████████████████████████████████████████████| 9/9 [00:08<00:00,  1.09it/s]\n",
      "100%|█████████████████████████████████████████████| 4/4 [00:03<00:00,  1.18it/s]\n"
     ]
    },
    {
     "name": "stdout",
     "output_type": "stream",
     "text": [
      "Epoch : 642 - Train_loss : 0.0000 - Train_Acc: 1.0000 - Val_loss : 0.3788 - Val_Acc: 0.5500  - Time: 11.639647960662842\n",
      "\n"
     ]
    },
    {
     "name": "stderr",
     "output_type": "stream",
     "text": [
      "100%|█████████████████████████████████████████████| 9/9 [00:07<00:00,  1.19it/s]\n",
      "100%|█████████████████████████████████████████████| 4/4 [00:03<00:00,  1.20it/s]\n"
     ]
    },
    {
     "name": "stdout",
     "output_type": "stream",
     "text": [
      "Epoch : 643 - Train_loss : 0.0000 - Train_Acc: 1.0000 - Val_loss : 0.3799 - Val_Acc: 0.5500  - Time: 10.89106822013855\n",
      "\n"
     ]
    },
    {
     "name": "stderr",
     "output_type": "stream",
     "text": [
      "100%|█████████████████████████████████████████████| 9/9 [00:08<00:00,  1.11it/s]\n",
      "100%|█████████████████████████████████████████████| 4/4 [00:03<00:00,  1.17it/s]\n"
     ]
    },
    {
     "name": "stdout",
     "output_type": "stream",
     "text": [
      "Epoch : 644 - Train_loss : 0.0000 - Train_Acc: 1.0000 - Val_loss : 0.3803 - Val_Acc: 0.5500  - Time: 11.556423425674438\n",
      "\n"
     ]
    },
    {
     "name": "stderr",
     "output_type": "stream",
     "text": [
      "100%|█████████████████████████████████████████████| 9/9 [00:07<00:00,  1.17it/s]\n",
      "100%|█████████████████████████████████████████████| 4/4 [00:03<00:00,  1.10it/s]\n"
     ]
    },
    {
     "name": "stdout",
     "output_type": "stream",
     "text": [
      "Epoch : 645 - Train_loss : 0.0000 - Train_Acc: 1.0000 - Val_loss : 0.3804 - Val_Acc: 0.5583  - Time: 11.355802297592163\n",
      "\n"
     ]
    },
    {
     "name": "stderr",
     "output_type": "stream",
     "text": [
      "100%|█████████████████████████████████████████████| 9/9 [00:07<00:00,  1.21it/s]\n",
      "100%|█████████████████████████████████████████████| 4/4 [00:03<00:00,  1.14it/s]\n"
     ]
    },
    {
     "name": "stdout",
     "output_type": "stream",
     "text": [
      "Epoch : 646 - Train_loss : 0.0000 - Train_Acc: 1.0000 - Val_loss : 0.3803 - Val_Acc: 0.5500  - Time: 10.963970184326172\n",
      "\n"
     ]
    },
    {
     "name": "stderr",
     "output_type": "stream",
     "text": [
      "100%|█████████████████████████████████████████████| 9/9 [00:07<00:00,  1.24it/s]\n",
      "100%|█████████████████████████████████████████████| 4/4 [00:03<00:00,  1.11it/s]\n"
     ]
    },
    {
     "name": "stdout",
     "output_type": "stream",
     "text": [
      "Epoch : 647 - Train_loss : 0.0000 - Train_Acc: 1.0000 - Val_loss : 0.3805 - Val_Acc: 0.5583  - Time: 10.895402669906616\n",
      "\n"
     ]
    },
    {
     "name": "stderr",
     "output_type": "stream",
     "text": [
      "100%|█████████████████████████████████████████████| 9/9 [00:07<00:00,  1.13it/s]\n",
      "100%|█████████████████████████████████████████████| 4/4 [00:03<00:00,  1.10it/s]\n"
     ]
    },
    {
     "name": "stdout",
     "output_type": "stream",
     "text": [
      "Epoch : 648 - Train_loss : 0.0000 - Train_Acc: 1.0000 - Val_loss : 0.3793 - Val_Acc: 0.5583  - Time: 11.595253944396973\n",
      "\n"
     ]
    },
    {
     "name": "stderr",
     "output_type": "stream",
     "text": [
      "100%|█████████████████████████████████████████████| 9/9 [00:08<00:00,  1.11it/s]\n",
      "100%|█████████████████████████████████████████████| 4/4 [00:03<00:00,  1.19it/s]\n"
     ]
    },
    {
     "name": "stdout",
     "output_type": "stream",
     "text": [
      "Epoch : 649 - Train_loss : 0.0000 - Train_Acc: 1.0000 - Val_loss : 0.3782 - Val_Acc: 0.5583  - Time: 11.43413782119751\n",
      "\n"
     ]
    },
    {
     "name": "stderr",
     "output_type": "stream",
     "text": [
      "100%|█████████████████████████████████████████████| 9/9 [00:07<00:00,  1.17it/s]\n",
      "100%|█████████████████████████████████████████████| 4/4 [00:03<00:00,  1.15it/s]\n"
     ]
    },
    {
     "name": "stdout",
     "output_type": "stream",
     "text": [
      "Epoch : 650 - Train_loss : 0.0000 - Train_Acc: 1.0000 - Val_loss : 0.3777 - Val_Acc: 0.5583  - Time: 11.21061110496521\n",
      "\n"
     ]
    },
    {
     "name": "stderr",
     "output_type": "stream",
     "text": [
      "100%|█████████████████████████████████████████████| 9/9 [00:08<00:00,  1.12it/s]\n",
      "100%|█████████████████████████████████████████████| 4/4 [00:03<00:00,  1.17it/s]\n"
     ]
    },
    {
     "name": "stdout",
     "output_type": "stream",
     "text": [
      "Epoch : 651 - Train_loss : 0.0000 - Train_Acc: 1.0000 - Val_loss : 0.3772 - Val_Acc: 0.5583  - Time: 11.42294716835022\n",
      "\n"
     ]
    },
    {
     "name": "stderr",
     "output_type": "stream",
     "text": [
      "100%|█████████████████████████████████████████████| 9/9 [00:08<00:00,  1.12it/s]\n",
      "100%|█████████████████████████████████████████████| 4/4 [00:03<00:00,  1.15it/s]\n"
     ]
    },
    {
     "name": "stdout",
     "output_type": "stream",
     "text": [
      "Epoch : 652 - Train_loss : 0.0000 - Train_Acc: 1.0000 - Val_loss : 0.3766 - Val_Acc: 0.5583  - Time: 11.50486159324646\n",
      "\n"
     ]
    },
    {
     "name": "stderr",
     "output_type": "stream",
     "text": [
      "100%|█████████████████████████████████████████████| 9/9 [00:07<00:00,  1.16it/s]\n",
      "100%|█████████████████████████████████████████████| 4/4 [00:03<00:00,  1.08it/s]\n"
     ]
    },
    {
     "name": "stdout",
     "output_type": "stream",
     "text": [
      "Epoch : 653 - Train_loss : 0.0000 - Train_Acc: 1.0000 - Val_loss : 0.3764 - Val_Acc: 0.5583  - Time: 11.47998833656311\n",
      "\n"
     ]
    },
    {
     "name": "stderr",
     "output_type": "stream",
     "text": [
      "100%|█████████████████████████████████████████████| 9/9 [00:07<00:00,  1.25it/s]\n",
      "100%|█████████████████████████████████████████████| 4/4 [00:03<00:00,  1.13it/s]\n"
     ]
    },
    {
     "name": "stdout",
     "output_type": "stream",
     "text": [
      "Epoch : 654 - Train_loss : 0.0000 - Train_Acc: 1.0000 - Val_loss : 0.3766 - Val_Acc: 0.5583  - Time: 10.772669076919556\n",
      "\n"
     ]
    },
    {
     "name": "stderr",
     "output_type": "stream",
     "text": [
      "100%|█████████████████████████████████████████████| 9/9 [00:07<00:00,  1.20it/s]\n",
      "100%|█████████████████████████████████████████████| 4/4 [00:04<00:00,  1.01s/it]\n"
     ]
    },
    {
     "name": "stdout",
     "output_type": "stream",
     "text": [
      "Epoch : 655 - Train_loss : 0.0000 - Train_Acc: 1.0000 - Val_loss : 0.3765 - Val_Acc: 0.5500  - Time: 11.546691656112671\n",
      "\n"
     ]
    },
    {
     "name": "stderr",
     "output_type": "stream",
     "text": [
      "100%|█████████████████████████████████████████████| 9/9 [00:07<00:00,  1.15it/s]\n",
      "100%|█████████████████████████████████████████████| 4/4 [00:03<00:00,  1.25it/s]\n"
     ]
    },
    {
     "name": "stdout",
     "output_type": "stream",
     "text": [
      "Epoch : 656 - Train_loss : 0.0000 - Train_Acc: 1.0000 - Val_loss : 0.3761 - Val_Acc: 0.5500  - Time: 11.05417537689209\n",
      "\n"
     ]
    },
    {
     "name": "stderr",
     "output_type": "stream",
     "text": [
      "100%|█████████████████████████████████████████████| 9/9 [00:07<00:00,  1.16it/s]\n",
      "100%|█████████████████████████████████████████████| 4/4 [00:03<00:00,  1.28it/s]\n"
     ]
    },
    {
     "name": "stdout",
     "output_type": "stream",
     "text": [
      "Epoch : 657 - Train_loss : 0.0000 - Train_Acc: 1.0000 - Val_loss : 0.3756 - Val_Acc: 0.5583  - Time: 10.878430604934692\n",
      "\n"
     ]
    },
    {
     "name": "stderr",
     "output_type": "stream",
     "text": [
      "100%|█████████████████████████████████████████████| 9/9 [00:08<00:00,  1.11it/s]\n",
      "100%|█████████████████████████████████████████████| 4/4 [00:03<00:00,  1.21it/s]\n"
     ]
    },
    {
     "name": "stdout",
     "output_type": "stream",
     "text": [
      "Epoch : 658 - Train_loss : 0.0000 - Train_Acc: 1.0000 - Val_loss : 0.3753 - Val_Acc: 0.5583  - Time: 11.466480731964111\n",
      "\n"
     ]
    },
    {
     "name": "stderr",
     "output_type": "stream",
     "text": [
      "100%|█████████████████████████████████████████████| 9/9 [00:07<00:00,  1.14it/s]\n",
      "100%|█████████████████████████████████████████████| 4/4 [00:03<00:00,  1.16it/s]\n"
     ]
    },
    {
     "name": "stdout",
     "output_type": "stream",
     "text": [
      "Epoch : 659 - Train_loss : 0.0000 - Train_Acc: 1.0000 - Val_loss : 0.3750 - Val_Acc: 0.5583  - Time: 11.33555269241333\n",
      "\n"
     ]
    },
    {
     "name": "stderr",
     "output_type": "stream",
     "text": [
      "100%|█████████████████████████████████████████████| 9/9 [00:08<00:00,  1.09it/s]\n",
      "100%|█████████████████████████████████████████████| 4/4 [00:03<00:00,  1.14it/s]\n"
     ]
    },
    {
     "name": "stdout",
     "output_type": "stream",
     "text": [
      "Epoch : 660 - Train_loss : 0.0000 - Train_Acc: 1.0000 - Val_loss : 0.3749 - Val_Acc: 0.5500  - Time: 11.747679233551025\n",
      "\n"
     ]
    },
    {
     "name": "stderr",
     "output_type": "stream",
     "text": [
      "100%|█████████████████████████████████████████████| 9/9 [00:07<00:00,  1.23it/s]\n",
      "100%|█████████████████████████████████████████████| 4/4 [00:03<00:00,  1.14it/s]\n"
     ]
    },
    {
     "name": "stdout",
     "output_type": "stream",
     "text": [
      "Epoch : 661 - Train_loss : 0.0000 - Train_Acc: 1.0000 - Val_loss : 0.3741 - Val_Acc: 0.5500  - Time: 10.791223287582397\n",
      "\n"
     ]
    },
    {
     "name": "stderr",
     "output_type": "stream",
     "text": [
      "100%|█████████████████████████████████████████████| 9/9 [00:07<00:00,  1.23it/s]\n",
      "100%|█████████████████████████████████████████████| 4/4 [00:04<00:00,  1.02s/it]\n"
     ]
    },
    {
     "name": "stdout",
     "output_type": "stream",
     "text": [
      "Epoch : 662 - Train_loss : 0.0000 - Train_Acc: 1.0000 - Val_loss : 0.3734 - Val_Acc: 0.5500  - Time: 11.418273210525513\n",
      "\n"
     ]
    },
    {
     "name": "stderr",
     "output_type": "stream",
     "text": [
      "100%|█████████████████████████████████████████████| 9/9 [00:07<00:00,  1.16it/s]\n",
      "100%|█████████████████████████████████████████████| 4/4 [00:03<00:00,  1.16it/s]\n"
     ]
    },
    {
     "name": "stdout",
     "output_type": "stream",
     "text": [
      "Epoch : 663 - Train_loss : 0.0000 - Train_Acc: 1.0000 - Val_loss : 0.3734 - Val_Acc: 0.5500  - Time: 11.177827596664429\n",
      "\n"
     ]
    },
    {
     "name": "stderr",
     "output_type": "stream",
     "text": [
      "100%|█████████████████████████████████████████████| 9/9 [00:07<00:00,  1.20it/s]\n",
      "100%|█████████████████████████████████████████████| 4/4 [00:03<00:00,  1.23it/s]\n"
     ]
    },
    {
     "name": "stdout",
     "output_type": "stream",
     "text": [
      "Epoch : 664 - Train_loss : 0.0000 - Train_Acc: 1.0000 - Val_loss : 0.3740 - Val_Acc: 0.5500  - Time: 10.755592107772827\n",
      "\n"
     ]
    },
    {
     "name": "stderr",
     "output_type": "stream",
     "text": [
      "100%|█████████████████████████████████████████████| 9/9 [00:07<00:00,  1.14it/s]\n",
      "100%|█████████████████████████████████████████████| 4/4 [00:03<00:00,  1.29it/s]\n"
     ]
    },
    {
     "name": "stdout",
     "output_type": "stream",
     "text": [
      "Epoch : 665 - Train_loss : 0.0000 - Train_Acc: 1.0000 - Val_loss : 0.3742 - Val_Acc: 0.5500  - Time: 10.976989984512329\n",
      "\n"
     ]
    },
    {
     "name": "stderr",
     "output_type": "stream",
     "text": [
      "100%|█████████████████████████████████████████████| 9/9 [00:07<00:00,  1.22it/s]\n",
      "100%|█████████████████████████████████████████████| 4/4 [00:03<00:00,  1.25it/s]\n"
     ]
    },
    {
     "name": "stdout",
     "output_type": "stream",
     "text": [
      "Epoch : 666 - Train_loss : 0.0000 - Train_Acc: 1.0000 - Val_loss : 0.3743 - Val_Acc: 0.5500  - Time: 10.54416298866272\n",
      "\n"
     ]
    },
    {
     "name": "stderr",
     "output_type": "stream",
     "text": [
      "100%|█████████████████████████████████████████████| 9/9 [00:07<00:00,  1.14it/s]\n",
      "100%|█████████████████████████████████████████████| 4/4 [00:03<00:00,  1.21it/s]\n"
     ]
    },
    {
     "name": "stdout",
     "output_type": "stream",
     "text": [
      "Epoch : 667 - Train_loss : 0.0000 - Train_Acc: 1.0000 - Val_loss : 0.3741 - Val_Acc: 0.5500  - Time: 11.200446844100952\n",
      "\n"
     ]
    },
    {
     "name": "stderr",
     "output_type": "stream",
     "text": [
      "100%|█████████████████████████████████████████████| 9/9 [00:07<00:00,  1.17it/s]\n",
      "100%|█████████████████████████████████████████████| 4/4 [00:03<00:00,  1.15it/s]\n"
     ]
    },
    {
     "name": "stdout",
     "output_type": "stream",
     "text": [
      "Epoch : 668 - Train_loss : 0.0000 - Train_Acc: 1.0000 - Val_loss : 0.3738 - Val_Acc: 0.5500  - Time: 11.138805150985718\n",
      "\n"
     ]
    },
    {
     "name": "stderr",
     "output_type": "stream",
     "text": [
      "100%|█████████████████████████████████████████████| 9/9 [00:07<00:00,  1.22it/s]\n",
      "100%|█████████████████████████████████████████████| 4/4 [00:03<00:00,  1.09it/s]\n"
     ]
    },
    {
     "name": "stdout",
     "output_type": "stream",
     "text": [
      "Epoch : 669 - Train_loss : 0.0000 - Train_Acc: 1.0000 - Val_loss : 0.3741 - Val_Acc: 0.5500  - Time: 11.02083945274353\n",
      "\n"
     ]
    },
    {
     "name": "stderr",
     "output_type": "stream",
     "text": [
      "100%|█████████████████████████████████████████████| 9/9 [00:07<00:00,  1.15it/s]\n",
      "100%|█████████████████████████████████████████████| 4/4 [00:03<00:00,  1.20it/s]\n"
     ]
    },
    {
     "name": "stdout",
     "output_type": "stream",
     "text": [
      "Epoch : 670 - Train_loss : 0.0000 - Train_Acc: 1.0000 - Val_loss : 0.3773 - Val_Acc: 0.5500  - Time: 11.157801389694214\n",
      "\n"
     ]
    },
    {
     "name": "stderr",
     "output_type": "stream",
     "text": [
      "100%|█████████████████████████████████████████████| 9/9 [00:07<00:00,  1.21it/s]\n",
      "100%|█████████████████████████████████████████████| 4/4 [00:03<00:00,  1.11it/s]\n"
     ]
    },
    {
     "name": "stdout",
     "output_type": "stream",
     "text": [
      "Epoch : 671 - Train_loss : 0.0000 - Train_Acc: 1.0000 - Val_loss : 0.3791 - Val_Acc: 0.5500  - Time: 11.062145709991455\n",
      "\n"
     ]
    },
    {
     "name": "stderr",
     "output_type": "stream",
     "text": [
      "100%|█████████████████████████████████████████████| 9/9 [00:07<00:00,  1.18it/s]\n",
      "100%|█████████████████████████████████████████████| 4/4 [00:03<00:00,  1.08it/s]\n"
     ]
    },
    {
     "name": "stdout",
     "output_type": "stream",
     "text": [
      "Epoch : 672 - Train_loss : 0.0000 - Train_Acc: 1.0000 - Val_loss : 0.3804 - Val_Acc: 0.5500  - Time: 11.374894618988037\n",
      "\n"
     ]
    },
    {
     "name": "stderr",
     "output_type": "stream",
     "text": [
      "100%|█████████████████████████████████████████████| 9/9 [00:07<00:00,  1.23it/s]\n",
      "100%|█████████████████████████████████████████████| 4/4 [00:03<00:00,  1.15it/s]\n"
     ]
    },
    {
     "name": "stdout",
     "output_type": "stream",
     "text": [
      "Epoch : 673 - Train_loss : 0.0000 - Train_Acc: 1.0000 - Val_loss : 0.3812 - Val_Acc: 0.5583  - Time: 10.79439902305603\n",
      "\n"
     ]
    },
    {
     "name": "stderr",
     "output_type": "stream",
     "text": [
      "100%|█████████████████████████████████████████████| 9/9 [00:07<00:00,  1.25it/s]\n",
      "100%|█████████████████████████████████████████████| 4/4 [00:03<00:00,  1.17it/s]\n"
     ]
    },
    {
     "name": "stdout",
     "output_type": "stream",
     "text": [
      "Epoch : 674 - Train_loss : 0.0000 - Train_Acc: 1.0000 - Val_loss : 0.3815 - Val_Acc: 0.5583  - Time: 10.628141164779663\n",
      "\n"
     ]
    },
    {
     "name": "stderr",
     "output_type": "stream",
     "text": [
      "100%|█████████████████████████████████████████████| 9/9 [00:07<00:00,  1.24it/s]\n",
      "100%|█████████████████████████████████████████████| 4/4 [00:03<00:00,  1.21it/s]\n"
     ]
    },
    {
     "name": "stdout",
     "output_type": "stream",
     "text": [
      "Epoch : 675 - Train_loss : 0.0000 - Train_Acc: 1.0000 - Val_loss : 0.3817 - Val_Acc: 0.5583  - Time: 10.560039758682251\n",
      "\n"
     ]
    },
    {
     "name": "stderr",
     "output_type": "stream",
     "text": [
      "100%|█████████████████████████████████████████████| 9/9 [00:07<00:00,  1.15it/s]\n",
      "100%|█████████████████████████████████████████████| 4/4 [00:03<00:00,  1.21it/s]\n"
     ]
    },
    {
     "name": "stdout",
     "output_type": "stream",
     "text": [
      "Epoch : 676 - Train_loss : 0.0000 - Train_Acc: 1.0000 - Val_loss : 0.3822 - Val_Acc: 0.5583  - Time: 11.14702033996582\n",
      "\n"
     ]
    },
    {
     "name": "stderr",
     "output_type": "stream",
     "text": [
      "100%|█████████████████████████████████████████████| 9/9 [00:08<00:00,  1.08it/s]\n",
      "100%|█████████████████████████████████████████████| 4/4 [00:03<00:00,  1.25it/s]\n"
     ]
    },
    {
     "name": "stdout",
     "output_type": "stream",
     "text": [
      "Epoch : 677 - Train_loss : 0.0000 - Train_Acc: 1.0000 - Val_loss : 0.3822 - Val_Acc: 0.5583  - Time: 11.58010983467102\n",
      "\n"
     ]
    },
    {
     "name": "stderr",
     "output_type": "stream",
     "text": [
      "100%|█████████████████████████████████████████████| 9/9 [00:07<00:00,  1.16it/s]\n",
      "100%|█████████████████████████████████████████████| 4/4 [00:03<00:00,  1.21it/s]\n"
     ]
    },
    {
     "name": "stdout",
     "output_type": "stream",
     "text": [
      "Epoch : 678 - Train_loss : 0.0000 - Train_Acc: 1.0000 - Val_loss : 0.3834 - Val_Acc: 0.5500  - Time: 11.05843710899353\n",
      "\n"
     ]
    },
    {
     "name": "stderr",
     "output_type": "stream",
     "text": [
      "100%|█████████████████████████████████████████████| 9/9 [00:08<00:00,  1.06it/s]\n",
      "100%|█████████████████████████████████████████████| 4/4 [00:03<00:00,  1.10it/s]\n"
     ]
    },
    {
     "name": "stdout",
     "output_type": "stream",
     "text": [
      "Epoch : 679 - Train_loss : 0.0000 - Train_Acc: 1.0000 - Val_loss : 0.3838 - Val_Acc: 0.5500  - Time: 12.095445394515991\n",
      "\n"
     ]
    },
    {
     "name": "stderr",
     "output_type": "stream",
     "text": [
      "100%|█████████████████████████████████████████████| 9/9 [00:08<00:00,  1.12it/s]\n",
      "100%|█████████████████████████████████████████████| 4/4 [00:03<00:00,  1.18it/s]\n"
     ]
    },
    {
     "name": "stdout",
     "output_type": "stream",
     "text": [
      "Epoch : 680 - Train_loss : 0.0000 - Train_Acc: 1.0000 - Val_loss : 0.3833 - Val_Acc: 0.5500  - Time: 11.440004825592041\n",
      "\n"
     ]
    },
    {
     "name": "stderr",
     "output_type": "stream",
     "text": [
      "100%|█████████████████████████████████████████████| 9/9 [00:07<00:00,  1.18it/s]\n",
      "100%|█████████████████████████████████████████████| 4/4 [00:03<00:00,  1.09it/s]\n"
     ]
    },
    {
     "name": "stdout",
     "output_type": "stream",
     "text": [
      "Epoch : 681 - Train_loss : 0.0000 - Train_Acc: 1.0000 - Val_loss : 0.3825 - Val_Acc: 0.5500  - Time: 11.307506084442139\n",
      "\n"
     ]
    },
    {
     "name": "stderr",
     "output_type": "stream",
     "text": [
      "100%|█████████████████████████████████████████████| 9/9 [00:07<00:00,  1.18it/s]\n",
      "100%|█████████████████████████████████████████████| 4/4 [00:03<00:00,  1.12it/s]\n"
     ]
    },
    {
     "name": "stdout",
     "output_type": "stream",
     "text": [
      "Epoch : 682 - Train_loss : 0.0000 - Train_Acc: 1.0000 - Val_loss : 0.3818 - Val_Acc: 0.5500  - Time: 11.229214668273926\n",
      "\n"
     ]
    },
    {
     "name": "stderr",
     "output_type": "stream",
     "text": [
      "100%|█████████████████████████████████████████████| 9/9 [00:07<00:00,  1.22it/s]\n",
      "100%|█████████████████████████████████████████████| 4/4 [00:03<00:00,  1.08it/s]\n"
     ]
    },
    {
     "name": "stdout",
     "output_type": "stream",
     "text": [
      "Epoch : 683 - Train_loss : 0.0000 - Train_Acc: 1.0000 - Val_loss : 0.3812 - Val_Acc: 0.5500  - Time: 11.097050428390503\n",
      "\n"
     ]
    },
    {
     "name": "stderr",
     "output_type": "stream",
     "text": [
      "100%|█████████████████████████████████████████████| 9/9 [00:07<00:00,  1.16it/s]\n",
      "100%|█████████████████████████████████████████████| 4/4 [00:03<00:00,  1.11it/s]\n"
     ]
    },
    {
     "name": "stdout",
     "output_type": "stream",
     "text": [
      "Epoch : 684 - Train_loss : 0.0000 - Train_Acc: 1.0000 - Val_loss : 0.3807 - Val_Acc: 0.5500  - Time: 11.355579137802124\n",
      "\n"
     ]
    },
    {
     "name": "stderr",
     "output_type": "stream",
     "text": [
      "100%|█████████████████████████████████████████████| 9/9 [00:07<00:00,  1.17it/s]\n",
      "100%|█████████████████████████████████████████████| 4/4 [00:03<00:00,  1.27it/s]\n"
     ]
    },
    {
     "name": "stdout",
     "output_type": "stream",
     "text": [
      "Epoch : 685 - Train_loss : 0.0000 - Train_Acc: 1.0000 - Val_loss : 0.3800 - Val_Acc: 0.5500  - Time: 10.848587989807129\n",
      "\n"
     ]
    },
    {
     "name": "stderr",
     "output_type": "stream",
     "text": [
      "100%|█████████████████████████████████████████████| 9/9 [00:07<00:00,  1.20it/s]\n",
      "100%|█████████████████████████████████████████████| 4/4 [00:03<00:00,  1.24it/s]\n"
     ]
    },
    {
     "name": "stdout",
     "output_type": "stream",
     "text": [
      "Epoch : 686 - Train_loss : 0.0000 - Train_Acc: 1.0000 - Val_loss : 0.3794 - Val_Acc: 0.5500  - Time: 10.740644931793213\n",
      "\n"
     ]
    },
    {
     "name": "stderr",
     "output_type": "stream",
     "text": [
      "100%|█████████████████████████████████████████████| 9/9 [00:07<00:00,  1.17it/s]\n",
      "100%|█████████████████████████████████████████████| 4/4 [00:03<00:00,  1.29it/s]\n"
     ]
    },
    {
     "name": "stdout",
     "output_type": "stream",
     "text": [
      "Epoch : 687 - Train_loss : 0.0000 - Train_Acc: 1.0000 - Val_loss : 0.3792 - Val_Acc: 0.5500  - Time: 10.77237582206726\n",
      "\n"
     ]
    },
    {
     "name": "stderr",
     "output_type": "stream",
     "text": [
      "100%|█████████████████████████████████████████████| 9/9 [00:07<00:00,  1.21it/s]\n",
      "100%|█████████████████████████████████████████████| 4/4 [00:03<00:00,  1.30it/s]\n"
     ]
    },
    {
     "name": "stdout",
     "output_type": "stream",
     "text": [
      "Epoch : 688 - Train_loss : 0.0000 - Train_Acc: 1.0000 - Val_loss : 0.3784 - Val_Acc: 0.5500  - Time: 10.531085014343262\n",
      "\n"
     ]
    },
    {
     "name": "stderr",
     "output_type": "stream",
     "text": [
      "100%|█████████████████████████████████████████████| 9/9 [00:07<00:00,  1.15it/s]\n",
      "100%|█████████████████████████████████████████████| 4/4 [00:03<00:00,  1.29it/s]\n"
     ]
    },
    {
     "name": "stdout",
     "output_type": "stream",
     "text": [
      "Epoch : 689 - Train_loss : 0.0000 - Train_Acc: 1.0000 - Val_loss : 0.3775 - Val_Acc: 0.5500  - Time: 10.935787916183472\n",
      "\n"
     ]
    },
    {
     "name": "stderr",
     "output_type": "stream",
     "text": [
      "100%|█████████████████████████████████████████████| 9/9 [00:07<00:00,  1.20it/s]\n",
      "100%|█████████████████████████████████████████████| 4/4 [00:03<00:00,  1.16it/s]\n"
     ]
    },
    {
     "name": "stdout",
     "output_type": "stream",
     "text": [
      "Epoch : 690 - Train_loss : 0.0000 - Train_Acc: 1.0000 - Val_loss : 0.3772 - Val_Acc: 0.5500  - Time: 10.952746868133545\n",
      "\n"
     ]
    },
    {
     "name": "stderr",
     "output_type": "stream",
     "text": [
      "100%|█████████████████████████████████████████████| 9/9 [00:07<00:00,  1.17it/s]\n",
      "100%|█████████████████████████████████████████████| 4/4 [00:03<00:00,  1.08it/s]\n"
     ]
    },
    {
     "name": "stdout",
     "output_type": "stream",
     "text": [
      "Epoch : 691 - Train_loss : 0.0000 - Train_Acc: 1.0000 - Val_loss : 0.3771 - Val_Acc: 0.5500  - Time: 11.421337604522705\n",
      "\n"
     ]
    },
    {
     "name": "stderr",
     "output_type": "stream",
     "text": [
      "100%|█████████████████████████████████████████████| 9/9 [00:08<00:00,  1.09it/s]\n",
      "100%|█████████████████████████████████████████████| 4/4 [00:03<00:00,  1.15it/s]\n"
     ]
    },
    {
     "name": "stdout",
     "output_type": "stream",
     "text": [
      "Epoch : 692 - Train_loss : 0.0000 - Train_Acc: 1.0000 - Val_loss : 0.3776 - Val_Acc: 0.5500  - Time: 11.753430843353271\n",
      "\n"
     ]
    },
    {
     "name": "stderr",
     "output_type": "stream",
     "text": [
      "100%|█████████████████████████████████████████████| 9/9 [00:07<00:00,  1.20it/s]\n",
      "100%|█████████████████████████████████████████████| 4/4 [00:03<00:00,  1.06it/s]\n"
     ]
    },
    {
     "name": "stdout",
     "output_type": "stream",
     "text": [
      "Epoch : 693 - Train_loss : 0.0000 - Train_Acc: 1.0000 - Val_loss : 0.3795 - Val_Acc: 0.5667  - Time: 11.249272108078003\n",
      "\n"
     ]
    },
    {
     "name": "stderr",
     "output_type": "stream",
     "text": [
      "100%|█████████████████████████████████████████████| 9/9 [00:07<00:00,  1.23it/s]\n",
      "100%|█████████████████████████████████████████████| 4/4 [00:03<00:00,  1.08it/s]\n"
     ]
    },
    {
     "name": "stdout",
     "output_type": "stream",
     "text": [
      "Epoch : 694 - Train_loss : 0.0000 - Train_Acc: 1.0000 - Val_loss : 0.3801 - Val_Acc: 0.5667  - Time: 11.026004314422607\n",
      "\n"
     ]
    },
    {
     "name": "stderr",
     "output_type": "stream",
     "text": [
      "100%|█████████████████████████████████████████████| 9/9 [00:07<00:00,  1.21it/s]\n",
      "100%|█████████████████████████████████████████████| 4/4 [00:03<00:00,  1.13it/s]\n"
     ]
    },
    {
     "name": "stdout",
     "output_type": "stream",
     "text": [
      "Epoch : 695 - Train_loss : 0.0000 - Train_Acc: 1.0000 - Val_loss : 0.3806 - Val_Acc: 0.5583  - Time: 10.94884991645813\n",
      "\n"
     ]
    },
    {
     "name": "stderr",
     "output_type": "stream",
     "text": [
      "100%|█████████████████████████████████████████████| 9/9 [00:07<00:00,  1.22it/s]\n",
      "100%|█████████████████████████████████████████████| 4/4 [00:03<00:00,  1.20it/s]\n"
     ]
    },
    {
     "name": "stdout",
     "output_type": "stream",
     "text": [
      "Epoch : 696 - Train_loss : 0.0000 - Train_Acc: 1.0000 - Val_loss : 0.3813 - Val_Acc: 0.5583  - Time: 10.71233320236206\n",
      "\n"
     ]
    },
    {
     "name": "stderr",
     "output_type": "stream",
     "text": [
      "100%|█████████████████████████████████████████████| 9/9 [00:07<00:00,  1.24it/s]\n",
      "100%|█████████████████████████████████████████████| 4/4 [00:03<00:00,  1.22it/s]\n"
     ]
    },
    {
     "name": "stdout",
     "output_type": "stream",
     "text": [
      "Epoch : 697 - Train_loss : 0.0000 - Train_Acc: 1.0000 - Val_loss : 0.3820 - Val_Acc: 0.5583  - Time: 10.529014110565186\n",
      "\n"
     ]
    },
    {
     "name": "stderr",
     "output_type": "stream",
     "text": [
      "100%|█████████████████████████████████████████████| 9/9 [00:07<00:00,  1.21it/s]\n",
      "100%|█████████████████████████████████████████████| 4/4 [00:03<00:00,  1.18it/s]\n"
     ]
    },
    {
     "name": "stdout",
     "output_type": "stream",
     "text": [
      "Epoch : 698 - Train_loss : 0.0000 - Train_Acc: 1.0000 - Val_loss : 0.3824 - Val_Acc: 0.5583  - Time: 10.853811502456665\n",
      "\n"
     ]
    },
    {
     "name": "stderr",
     "output_type": "stream",
     "text": [
      "100%|█████████████████████████████████████████████| 9/9 [00:07<00:00,  1.16it/s]\n",
      "100%|█████████████████████████████████████████████| 4/4 [00:02<00:00,  1.33it/s]\n"
     ]
    },
    {
     "name": "stdout",
     "output_type": "stream",
     "text": [
      "Epoch : 699 - Train_loss : 0.0000 - Train_Acc: 1.0000 - Val_loss : 0.3842 - Val_Acc: 0.5667  - Time: 10.75815725326538\n",
      "\n"
     ]
    },
    {
     "name": "stderr",
     "output_type": "stream",
     "text": [
      "100%|█████████████████████████████████████████████| 9/9 [00:07<00:00,  1.23it/s]\n",
      "100%|█████████████████████████████████████████████| 4/4 [00:02<00:00,  1.35it/s]\n"
     ]
    },
    {
     "name": "stdout",
     "output_type": "stream",
     "text": [
      "Epoch : 700 - Train_loss : 0.0000 - Train_Acc: 1.0000 - Val_loss : 0.3861 - Val_Acc: 0.5667  - Time: 10.30320429801941\n",
      "\n"
     ]
    },
    {
     "name": "stderr",
     "output_type": "stream",
     "text": [
      "100%|█████████████████████████████████████████████| 9/9 [00:07<00:00,  1.17it/s]\n",
      "100%|█████████████████████████████████████████████| 4/4 [00:03<00:00,  1.29it/s]\n"
     ]
    },
    {
     "name": "stdout",
     "output_type": "stream",
     "text": [
      "Epoch : 701 - Train_loss : 0.0000 - Train_Acc: 1.0000 - Val_loss : 0.3869 - Val_Acc: 0.5583  - Time: 10.78975224494934\n",
      "\n"
     ]
    },
    {
     "name": "stderr",
     "output_type": "stream",
     "text": [
      "100%|█████████████████████████████████████████████| 9/9 [00:07<00:00,  1.24it/s]\n",
      "100%|█████████████████████████████████████████████| 4/4 [00:03<00:00,  1.31it/s]\n"
     ]
    },
    {
     "name": "stdout",
     "output_type": "stream",
     "text": [
      "Epoch : 702 - Train_loss : 0.0000 - Train_Acc: 1.0000 - Val_loss : 0.3866 - Val_Acc: 0.5583  - Time: 10.3548903465271\n",
      "\n"
     ]
    },
    {
     "name": "stderr",
     "output_type": "stream",
     "text": [
      "100%|█████████████████████████████████████████████| 9/9 [00:07<00:00,  1.23it/s]\n",
      "100%|█████████████████████████████████████████████| 4/4 [00:03<00:00,  1.27it/s]\n"
     ]
    },
    {
     "name": "stdout",
     "output_type": "stream",
     "text": [
      "Epoch : 703 - Train_loss : 0.0000 - Train_Acc: 1.0000 - Val_loss : 0.3840 - Val_Acc: 0.5583  - Time: 10.485499143600464\n",
      "\n"
     ]
    },
    {
     "name": "stderr",
     "output_type": "stream",
     "text": [
      "100%|█████████████████████████████████████████████| 9/9 [00:07<00:00,  1.23it/s]\n",
      "100%|█████████████████████████████████████████████| 4/4 [00:03<00:00,  1.24it/s]\n"
     ]
    },
    {
     "name": "stdout",
     "output_type": "stream",
     "text": [
      "Epoch : 704 - Train_loss : 0.0000 - Train_Acc: 1.0000 - Val_loss : 0.3830 - Val_Acc: 0.5500  - Time: 10.544819355010986\n",
      "\n"
     ]
    },
    {
     "name": "stderr",
     "output_type": "stream",
     "text": [
      "100%|█████████████████████████████████████████████| 9/9 [00:07<00:00,  1.21it/s]\n",
      "100%|█████████████████████████████████████████████| 4/4 [00:03<00:00,  1.18it/s]\n"
     ]
    },
    {
     "name": "stdout",
     "output_type": "stream",
     "text": [
      "Epoch : 705 - Train_loss : 0.0000 - Train_Acc: 1.0000 - Val_loss : 0.3821 - Val_Acc: 0.5583  - Time: 10.832679748535156\n",
      "\n"
     ]
    },
    {
     "name": "stderr",
     "output_type": "stream",
     "text": [
      "100%|█████████████████████████████████████████████| 9/9 [00:08<00:00,  1.10it/s]\n",
      "100%|█████████████████████████████████████████████| 4/4 [00:03<00:00,  1.12it/s]\n"
     ]
    },
    {
     "name": "stdout",
     "output_type": "stream",
     "text": [
      "Epoch : 706 - Train_loss : 0.0000 - Train_Acc: 1.0000 - Val_loss : 0.3807 - Val_Acc: 0.5500  - Time: 11.797226905822754\n",
      "\n"
     ]
    },
    {
     "name": "stderr",
     "output_type": "stream",
     "text": [
      "100%|█████████████████████████████████████████████| 9/9 [00:07<00:00,  1.22it/s]\n",
      "100%|█████████████████████████████████████████████| 4/4 [00:03<00:00,  1.19it/s]\n"
     ]
    },
    {
     "name": "stdout",
     "output_type": "stream",
     "text": [
      "Epoch : 707 - Train_loss : 0.0000 - Train_Acc: 1.0000 - Val_loss : 0.3796 - Val_Acc: 0.5417  - Time: 10.743077278137207\n",
      "\n"
     ]
    },
    {
     "name": "stderr",
     "output_type": "stream",
     "text": [
      "100%|█████████████████████████████████████████████| 9/9 [00:07<00:00,  1.18it/s]\n",
      "100%|█████████████████████████████████████████████| 4/4 [00:03<00:00,  1.01it/s]\n"
     ]
    },
    {
     "name": "stdout",
     "output_type": "stream",
     "text": [
      "Epoch : 708 - Train_loss : 0.0000 - Train_Acc: 1.0000 - Val_loss : 0.3785 - Val_Acc: 0.5417  - Time: 11.576668977737427\n",
      "\n"
     ]
    },
    {
     "name": "stderr",
     "output_type": "stream",
     "text": [
      "100%|█████████████████████████████████████████████| 9/9 [00:07<00:00,  1.19it/s]\n",
      "100%|█████████████████████████████████████████████| 4/4 [00:03<00:00,  1.13it/s]\n"
     ]
    },
    {
     "name": "stdout",
     "output_type": "stream",
     "text": [
      "Epoch : 709 - Train_loss : 0.0000 - Train_Acc: 1.0000 - Val_loss : 0.3783 - Val_Acc: 0.5500  - Time: 11.084438800811768\n",
      "\n"
     ]
    },
    {
     "name": "stderr",
     "output_type": "stream",
     "text": [
      "100%|█████████████████████████████████████████████| 9/9 [00:06<00:00,  1.29it/s]\n",
      "100%|█████████████████████████████████████████████| 4/4 [00:03<00:00,  1.14it/s]\n"
     ]
    },
    {
     "name": "stdout",
     "output_type": "stream",
     "text": [
      "Epoch : 710 - Train_loss : 0.0000 - Train_Acc: 1.0000 - Val_loss : 0.3802 - Val_Acc: 0.5500  - Time: 10.484745502471924\n",
      "\n"
     ]
    },
    {
     "name": "stderr",
     "output_type": "stream",
     "text": [
      "100%|█████████████████████████████████████████████| 9/9 [00:07<00:00,  1.26it/s]\n",
      "100%|█████████████████████████████████████████████| 4/4 [00:03<00:00,  1.17it/s]\n"
     ]
    },
    {
     "name": "stdout",
     "output_type": "stream",
     "text": [
      "Epoch : 711 - Train_loss : 0.0000 - Train_Acc: 1.0000 - Val_loss : 0.3819 - Val_Acc: 0.5500  - Time: 10.551329135894775\n",
      "\n"
     ]
    },
    {
     "name": "stderr",
     "output_type": "stream",
     "text": [
      "100%|█████████████████████████████████████████████| 9/9 [00:07<00:00,  1.24it/s]\n",
      "100%|█████████████████████████████████████████████| 4/4 [00:03<00:00,  1.16it/s]\n"
     ]
    },
    {
     "name": "stdout",
     "output_type": "stream",
     "text": [
      "Epoch : 712 - Train_loss : 0.0000 - Train_Acc: 1.0000 - Val_loss : 0.3819 - Val_Acc: 0.5500  - Time: 10.706138134002686\n",
      "\n"
     ]
    },
    {
     "name": "stderr",
     "output_type": "stream",
     "text": [
      "100%|█████████████████████████████████████████████| 9/9 [00:08<00:00,  1.10it/s]\n",
      "100%|█████████████████████████████████████████████| 4/4 [00:03<00:00,  1.24it/s]\n"
     ]
    },
    {
     "name": "stdout",
     "output_type": "stream",
     "text": [
      "Epoch : 713 - Train_loss : 0.0000 - Train_Acc: 1.0000 - Val_loss : 0.3822 - Val_Acc: 0.5583  - Time: 11.400365114212036\n",
      "\n"
     ]
    },
    {
     "name": "stderr",
     "output_type": "stream",
     "text": [
      "100%|█████████████████████████████████████████████| 9/9 [00:07<00:00,  1.24it/s]\n",
      "100%|█████████████████████████████████████████████| 4/4 [00:03<00:00,  1.31it/s]\n"
     ]
    },
    {
     "name": "stdout",
     "output_type": "stream",
     "text": [
      "Epoch : 714 - Train_loss : 0.0000 - Train_Acc: 1.0000 - Val_loss : 0.3831 - Val_Acc: 0.5583  - Time: 10.300110816955566\n",
      "\n"
     ]
    },
    {
     "name": "stderr",
     "output_type": "stream",
     "text": [
      "100%|█████████████████████████████████████████████| 9/9 [00:07<00:00,  1.20it/s]\n",
      "100%|█████████████████████████████████████████████| 4/4 [00:03<00:00,  1.21it/s]\n"
     ]
    },
    {
     "name": "stdout",
     "output_type": "stream",
     "text": [
      "Epoch : 715 - Train_loss : 0.0000 - Train_Acc: 1.0000 - Val_loss : 0.3820 - Val_Acc: 0.5583  - Time: 10.78896713256836\n",
      "\n"
     ]
    },
    {
     "name": "stderr",
     "output_type": "stream",
     "text": [
      "100%|█████████████████████████████████████████████| 9/9 [00:07<00:00,  1.20it/s]\n",
      "100%|█████████████████████████████████████████████| 4/4 [00:03<00:00,  1.27it/s]\n"
     ]
    },
    {
     "name": "stdout",
     "output_type": "stream",
     "text": [
      "Epoch : 716 - Train_loss : 0.0000 - Train_Acc: 1.0000 - Val_loss : 0.3811 - Val_Acc: 0.5583  - Time: 10.622706890106201\n",
      "\n"
     ]
    },
    {
     "name": "stderr",
     "output_type": "stream",
     "text": [
      "100%|█████████████████████████████████████████████| 9/9 [00:07<00:00,  1.21it/s]\n",
      "100%|█████████████████████████████████████████████| 4/4 [00:03<00:00,  1.29it/s]\n"
     ]
    },
    {
     "name": "stdout",
     "output_type": "stream",
     "text": [
      "Epoch : 717 - Train_loss : 0.0000 - Train_Acc: 1.0000 - Val_loss : 0.3791 - Val_Acc: 0.5583  - Time: 10.519989967346191\n",
      "\n"
     ]
    },
    {
     "name": "stderr",
     "output_type": "stream",
     "text": [
      "100%|█████████████████████████████████████████████| 9/9 [00:07<00:00,  1.23it/s]\n",
      "100%|█████████████████████████████████████████████| 4/4 [00:03<00:00,  1.20it/s]\n"
     ]
    },
    {
     "name": "stdout",
     "output_type": "stream",
     "text": [
      "Epoch : 718 - Train_loss : 0.0000 - Train_Acc: 1.0000 - Val_loss : 0.3754 - Val_Acc: 0.5500  - Time: 10.661582231521606\n",
      "\n"
     ]
    },
    {
     "name": "stderr",
     "output_type": "stream",
     "text": [
      "100%|█████████████████████████████████████████████| 9/9 [00:07<00:00,  1.20it/s]\n",
      "100%|█████████████████████████████████████████████| 4/4 [00:03<00:00,  1.27it/s]\n"
     ]
    },
    {
     "name": "stdout",
     "output_type": "stream",
     "text": [
      "Epoch : 719 - Train_loss : 0.0000 - Train_Acc: 1.0000 - Val_loss : 0.3752 - Val_Acc: 0.5500  - Time: 10.6524178981781\n",
      "\n"
     ]
    },
    {
     "name": "stderr",
     "output_type": "stream",
     "text": [
      "100%|█████████████████████████████████████████████| 9/9 [00:08<00:00,  1.10it/s]\n",
      "100%|█████████████████████████████████████████████| 4/4 [00:03<00:00,  1.15it/s]\n"
     ]
    },
    {
     "name": "stdout",
     "output_type": "stream",
     "text": [
      "Epoch : 720 - Train_loss : 0.0000 - Train_Acc: 1.0000 - Val_loss : 0.3750 - Val_Acc: 0.5500  - Time: 11.63843059539795\n",
      "\n"
     ]
    },
    {
     "name": "stderr",
     "output_type": "stream",
     "text": [
      "100%|█████████████████████████████████████████████| 9/9 [00:07<00:00,  1.26it/s]\n",
      "100%|█████████████████████████████████████████████| 4/4 [00:03<00:00,  1.15it/s]\n"
     ]
    },
    {
     "name": "stdout",
     "output_type": "stream",
     "text": [
      "Epoch : 721 - Train_loss : 0.0000 - Train_Acc: 1.0000 - Val_loss : 0.3741 - Val_Acc: 0.5500  - Time: 10.654423475265503\n",
      "\n"
     ]
    },
    {
     "name": "stderr",
     "output_type": "stream",
     "text": [
      "100%|█████████████████████████████████████████████| 9/9 [00:07<00:00,  1.24it/s]\n",
      "100%|█████████████████████████████████████████████| 4/4 [00:03<00:00,  1.08it/s]\n"
     ]
    },
    {
     "name": "stdout",
     "output_type": "stream",
     "text": [
      "Epoch : 722 - Train_loss : 0.0000 - Train_Acc: 1.0000 - Val_loss : 0.3728 - Val_Acc: 0.5500  - Time: 10.94110369682312\n",
      "\n"
     ]
    },
    {
     "name": "stderr",
     "output_type": "stream",
     "text": [
      "100%|█████████████████████████████████████████████| 9/9 [00:07<00:00,  1.22it/s]\n",
      "100%|█████████████████████████████████████████████| 4/4 [00:03<00:00,  1.17it/s]\n"
     ]
    },
    {
     "name": "stdout",
     "output_type": "stream",
     "text": [
      "Epoch : 723 - Train_loss : 0.0000 - Train_Acc: 1.0000 - Val_loss : 0.3724 - Val_Acc: 0.5500  - Time: 10.769627332687378\n",
      "\n"
     ]
    },
    {
     "name": "stderr",
     "output_type": "stream",
     "text": [
      "100%|█████████████████████████████████████████████| 9/9 [00:07<00:00,  1.27it/s]\n",
      "100%|█████████████████████████████████████████████| 4/4 [00:03<00:00,  1.15it/s]\n"
     ]
    },
    {
     "name": "stdout",
     "output_type": "stream",
     "text": [
      "Epoch : 724 - Train_loss : 0.0000 - Train_Acc: 1.0000 - Val_loss : 0.3719 - Val_Acc: 0.5583  - Time: 10.56919264793396\n",
      "\n"
     ]
    },
    {
     "name": "stderr",
     "output_type": "stream",
     "text": [
      "100%|█████████████████████████████████████████████| 9/9 [00:07<00:00,  1.26it/s]\n",
      "100%|█████████████████████████████████████████████| 4/4 [00:03<00:00,  1.21it/s]\n"
     ]
    },
    {
     "name": "stdout",
     "output_type": "stream",
     "text": [
      "Epoch : 725 - Train_loss : 0.0000 - Train_Acc: 1.0000 - Val_loss : 0.3719 - Val_Acc: 0.5583  - Time: 10.458943367004395\n",
      "\n"
     ]
    },
    {
     "name": "stderr",
     "output_type": "stream",
     "text": [
      "100%|█████████████████████████████████████████████| 9/9 [00:07<00:00,  1.25it/s]\n",
      "100%|█████████████████████████████████████████████| 4/4 [00:03<00:00,  1.22it/s]\n"
     ]
    },
    {
     "name": "stdout",
     "output_type": "stream",
     "text": [
      "Epoch : 726 - Train_loss : 0.0000 - Train_Acc: 1.0000 - Val_loss : 0.3733 - Val_Acc: 0.5583  - Time: 10.503284454345703\n",
      "\n"
     ]
    },
    {
     "name": "stderr",
     "output_type": "stream",
     "text": [
      "100%|█████████████████████████████████████████████| 9/9 [00:07<00:00,  1.17it/s]\n",
      "100%|█████████████████████████████████████████████| 4/4 [00:03<00:00,  1.19it/s]\n"
     ]
    },
    {
     "name": "stdout",
     "output_type": "stream",
     "text": [
      "Epoch : 727 - Train_loss : 0.0000 - Train_Acc: 1.0000 - Val_loss : 0.3742 - Val_Acc: 0.5583  - Time: 11.035906076431274\n",
      "\n"
     ]
    },
    {
     "name": "stderr",
     "output_type": "stream",
     "text": [
      "100%|█████████████████████████████████████████████| 9/9 [00:07<00:00,  1.22it/s]\n",
      "100%|█████████████████████████████████████████████| 4/4 [00:03<00:00,  1.31it/s]\n"
     ]
    },
    {
     "name": "stdout",
     "output_type": "stream",
     "text": [
      "Epoch : 728 - Train_loss : 0.0000 - Train_Acc: 1.0000 - Val_loss : 0.3748 - Val_Acc: 0.5667  - Time: 10.431044578552246\n",
      "\n"
     ]
    },
    {
     "name": "stderr",
     "output_type": "stream",
     "text": [
      "100%|█████████████████████████████████████████████| 9/9 [00:07<00:00,  1.22it/s]\n",
      "100%|█████████████████████████████████████████████| 4/4 [00:03<00:00,  1.32it/s]\n"
     ]
    },
    {
     "name": "stdout",
     "output_type": "stream",
     "text": [
      "Epoch : 729 - Train_loss : 0.0000 - Train_Acc: 1.0000 - Val_loss : 0.3750 - Val_Acc: 0.5667  - Time: 10.394827842712402\n",
      "\n"
     ]
    },
    {
     "name": "stderr",
     "output_type": "stream",
     "text": [
      "100%|█████████████████████████████████████████████| 9/9 [00:07<00:00,  1.17it/s]\n",
      "100%|█████████████████████████████████████████████| 4/4 [00:03<00:00,  1.25it/s]\n"
     ]
    },
    {
     "name": "stdout",
     "output_type": "stream",
     "text": [
      "Epoch : 730 - Train_loss : 0.0000 - Train_Acc: 1.0000 - Val_loss : 0.3751 - Val_Acc: 0.5667  - Time: 10.90857458114624\n",
      "\n"
     ]
    },
    {
     "name": "stderr",
     "output_type": "stream",
     "text": [
      "100%|█████████████████████████████████████████████| 9/9 [00:07<00:00,  1.23it/s]\n",
      "100%|█████████████████████████████████████████████| 4/4 [00:03<00:00,  1.21it/s]\n"
     ]
    },
    {
     "name": "stdout",
     "output_type": "stream",
     "text": [
      "Epoch : 731 - Train_loss : 0.0000 - Train_Acc: 1.0000 - Val_loss : 0.3751 - Val_Acc: 0.5667  - Time: 10.590638875961304\n",
      "\n"
     ]
    },
    {
     "name": "stderr",
     "output_type": "stream",
     "text": [
      "100%|█████████████████████████████████████████████| 9/9 [00:07<00:00,  1.22it/s]\n",
      "100%|█████████████████████████████████████████████| 4/4 [00:03<00:00,  1.21it/s]\n"
     ]
    },
    {
     "name": "stdout",
     "output_type": "stream",
     "text": [
      "Epoch : 732 - Train_loss : 0.0000 - Train_Acc: 1.0000 - Val_loss : 0.3750 - Val_Acc: 0.5667  - Time: 10.69839596748352\n",
      "\n"
     ]
    },
    {
     "name": "stderr",
     "output_type": "stream",
     "text": [
      "100%|█████████████████████████████████████████████| 9/9 [00:07<00:00,  1.22it/s]\n",
      "100%|█████████████████████████████████████████████| 4/4 [00:03<00:00,  1.25it/s]\n"
     ]
    },
    {
     "name": "stdout",
     "output_type": "stream",
     "text": [
      "Epoch : 733 - Train_loss : 0.0000 - Train_Acc: 1.0000 - Val_loss : 0.3751 - Val_Acc: 0.5667  - Time: 10.602519273757935\n",
      "\n"
     ]
    },
    {
     "name": "stderr",
     "output_type": "stream",
     "text": [
      "100%|█████████████████████████████████████████████| 9/9 [00:07<00:00,  1.21it/s]\n",
      "100%|█████████████████████████████████████████████| 4/4 [00:03<00:00,  1.08it/s]\n"
     ]
    },
    {
     "name": "stdout",
     "output_type": "stream",
     "text": [
      "Epoch : 734 - Train_loss : 0.0000 - Train_Acc: 1.0000 - Val_loss : 0.3762 - Val_Acc: 0.5667  - Time: 11.145509004592896\n",
      "\n"
     ]
    },
    {
     "name": "stderr",
     "output_type": "stream",
     "text": [
      "100%|█████████████████████████████████████████████| 9/9 [00:07<00:00,  1.18it/s]\n",
      "100%|█████████████████████████████████████████████| 4/4 [00:03<00:00,  1.11it/s]\n"
     ]
    },
    {
     "name": "stdout",
     "output_type": "stream",
     "text": [
      "Epoch : 735 - Train_loss : 0.0000 - Train_Acc: 1.0000 - Val_loss : 0.3764 - Val_Acc: 0.5667  - Time: 11.245890617370605\n",
      "\n"
     ]
    },
    {
     "name": "stderr",
     "output_type": "stream",
     "text": [
      "100%|█████████████████████████████████████████████| 9/9 [00:07<00:00,  1.23it/s]\n",
      "100%|█████████████████████████████████████████████| 4/4 [00:03<00:00,  1.11it/s]\n"
     ]
    },
    {
     "name": "stdout",
     "output_type": "stream",
     "text": [
      "Epoch : 736 - Train_loss : 0.0000 - Train_Acc: 1.0000 - Val_loss : 0.3764 - Val_Acc: 0.5667  - Time: 10.929057598114014\n",
      "\n"
     ]
    },
    {
     "name": "stderr",
     "output_type": "stream",
     "text": [
      "100%|█████████████████████████████████████████████| 9/9 [00:07<00:00,  1.25it/s]\n",
      "100%|█████████████████████████████████████████████| 4/4 [00:03<00:00,  1.12it/s]\n"
     ]
    },
    {
     "name": "stdout",
     "output_type": "stream",
     "text": [
      "Epoch : 737 - Train_loss : 0.0000 - Train_Acc: 1.0000 - Val_loss : 0.3760 - Val_Acc: 0.5667  - Time: 10.764831304550171\n",
      "\n"
     ]
    },
    {
     "name": "stderr",
     "output_type": "stream",
     "text": [
      "100%|█████████████████████████████████████████████| 9/9 [00:07<00:00,  1.26it/s]\n",
      "100%|█████████████████████████████████████████████| 4/4 [00:03<00:00,  1.17it/s]\n"
     ]
    },
    {
     "name": "stdout",
     "output_type": "stream",
     "text": [
      "Epoch : 738 - Train_loss : 0.0000 - Train_Acc: 1.0000 - Val_loss : 0.3759 - Val_Acc: 0.5667  - Time: 10.596162796020508\n",
      "\n"
     ]
    },
    {
     "name": "stderr",
     "output_type": "stream",
     "text": [
      "100%|█████████████████████████████████████████████| 9/9 [00:07<00:00,  1.25it/s]\n",
      "100%|█████████████████████████████████████████████| 4/4 [00:03<00:00,  1.17it/s]\n"
     ]
    },
    {
     "name": "stdout",
     "output_type": "stream",
     "text": [
      "Epoch : 739 - Train_loss : 0.0000 - Train_Acc: 1.0000 - Val_loss : 0.3759 - Val_Acc: 0.5667  - Time: 10.635703802108765\n",
      "\n"
     ]
    },
    {
     "name": "stderr",
     "output_type": "stream",
     "text": [
      "100%|█████████████████████████████████████████████| 9/9 [00:07<00:00,  1.22it/s]\n",
      "100%|█████████████████████████████████████████████| 4/4 [00:03<00:00,  1.26it/s]\n"
     ]
    },
    {
     "name": "stdout",
     "output_type": "stream",
     "text": [
      "Epoch : 740 - Train_loss : 0.0000 - Train_Acc: 1.0000 - Val_loss : 0.3783 - Val_Acc: 0.5667  - Time: 10.538713693618774\n",
      "\n"
     ]
    },
    {
     "name": "stderr",
     "output_type": "stream",
     "text": [
      "100%|█████████████████████████████████████████████| 9/9 [00:07<00:00,  1.23it/s]\n",
      "100%|█████████████████████████████████████████████| 4/4 [00:03<00:00,  1.21it/s]\n"
     ]
    },
    {
     "name": "stdout",
     "output_type": "stream",
     "text": [
      "Epoch : 741 - Train_loss : 0.0000 - Train_Acc: 1.0000 - Val_loss : 0.3813 - Val_Acc: 0.5583  - Time: 10.644253969192505\n",
      "\n"
     ]
    },
    {
     "name": "stderr",
     "output_type": "stream",
     "text": [
      "100%|█████████████████████████████████████████████| 9/9 [00:07<00:00,  1.13it/s]\n",
      "100%|█████████████████████████████████████████████| 4/4 [00:03<00:00,  1.30it/s]\n"
     ]
    },
    {
     "name": "stdout",
     "output_type": "stream",
     "text": [
      "Epoch : 742 - Train_loss : 0.0000 - Train_Acc: 1.0000 - Val_loss : 0.3824 - Val_Acc: 0.5583  - Time: 11.031377792358398\n",
      "\n"
     ]
    },
    {
     "name": "stderr",
     "output_type": "stream",
     "text": [
      "100%|█████████████████████████████████████████████| 9/9 [00:07<00:00,  1.26it/s]\n",
      "100%|█████████████████████████████████████████████| 4/4 [00:03<00:00,  1.28it/s]\n"
     ]
    },
    {
     "name": "stdout",
     "output_type": "stream",
     "text": [
      "Epoch : 743 - Train_loss : 0.0000 - Train_Acc: 1.0000 - Val_loss : 0.3828 - Val_Acc: 0.5583  - Time: 10.299293756484985\n",
      "\n"
     ]
    },
    {
     "name": "stderr",
     "output_type": "stream",
     "text": [
      "100%|█████████████████████████████████████████████| 9/9 [00:07<00:00,  1.20it/s]\n",
      "100%|█████████████████████████████████████████████| 4/4 [00:03<00:00,  1.20it/s]\n"
     ]
    },
    {
     "name": "stdout",
     "output_type": "stream",
     "text": [
      "Epoch : 744 - Train_loss : 0.0000 - Train_Acc: 1.0000 - Val_loss : 0.3836 - Val_Acc: 0.5583  - Time: 10.867168664932251\n",
      "\n"
     ]
    },
    {
     "name": "stderr",
     "output_type": "stream",
     "text": [
      "100%|█████████████████████████████████████████████| 9/9 [00:07<00:00,  1.21it/s]\n",
      "100%|█████████████████████████████████████████████| 4/4 [00:03<00:00,  1.23it/s]\n"
     ]
    },
    {
     "name": "stdout",
     "output_type": "stream",
     "text": [
      "Epoch : 745 - Train_loss : 0.0000 - Train_Acc: 1.0000 - Val_loss : 0.3836 - Val_Acc: 0.5583  - Time: 10.702284097671509\n",
      "\n"
     ]
    },
    {
     "name": "stderr",
     "output_type": "stream",
     "text": [
      "100%|█████████████████████████████████████████████| 9/9 [00:07<00:00,  1.19it/s]\n",
      "100%|█████████████████████████████████████████████| 4/4 [00:03<00:00,  1.25it/s]\n"
     ]
    },
    {
     "name": "stdout",
     "output_type": "stream",
     "text": [
      "Epoch : 746 - Train_loss : 0.0000 - Train_Acc: 1.0000 - Val_loss : 0.3834 - Val_Acc: 0.5583  - Time: 10.789875507354736\n",
      "\n"
     ]
    },
    {
     "name": "stderr",
     "output_type": "stream",
     "text": [
      "100%|█████████████████████████████████████████████| 9/9 [00:07<00:00,  1.23it/s]\n",
      "100%|█████████████████████████████████████████████| 4/4 [00:03<00:00,  1.21it/s]\n"
     ]
    },
    {
     "name": "stdout",
     "output_type": "stream",
     "text": [
      "Epoch : 747 - Train_loss : 0.0000 - Train_Acc: 1.0000 - Val_loss : 0.3833 - Val_Acc: 0.5583  - Time: 10.62191653251648\n",
      "\n"
     ]
    },
    {
     "name": "stderr",
     "output_type": "stream",
     "text": [
      "100%|█████████████████████████████████████████████| 9/9 [00:07<00:00,  1.23it/s]\n",
      "100%|█████████████████████████████████████████████| 4/4 [00:03<00:00,  1.19it/s]\n"
     ]
    },
    {
     "name": "stdout",
     "output_type": "stream",
     "text": [
      "Epoch : 748 - Train_loss : 0.0000 - Train_Acc: 1.0000 - Val_loss : 0.3833 - Val_Acc: 0.5583  - Time: 10.68919324874878\n",
      "\n"
     ]
    },
    {
     "name": "stderr",
     "output_type": "stream",
     "text": [
      "100%|█████████████████████████████████████████████| 9/9 [00:07<00:00,  1.14it/s]\n",
      "100%|█████████████████████████████████████████████| 4/4 [00:03<00:00,  1.10it/s]\n"
     ]
    },
    {
     "name": "stdout",
     "output_type": "stream",
     "text": [
      "Epoch : 749 - Train_loss : 0.0000 - Train_Acc: 1.0000 - Val_loss : 0.3829 - Val_Acc: 0.5583  - Time: 11.548671245574951\n",
      "\n"
     ]
    },
    {
     "name": "stderr",
     "output_type": "stream",
     "text": [
      "100%|█████████████████████████████████████████████| 9/9 [00:07<00:00,  1.24it/s]\n",
      "100%|█████████████████████████████████████████████| 4/4 [00:03<00:00,  1.17it/s]\n"
     ]
    },
    {
     "name": "stdout",
     "output_type": "stream",
     "text": [
      "Epoch : 750 - Train_loss : 0.0000 - Train_Acc: 1.0000 - Val_loss : 0.3826 - Val_Acc: 0.5583  - Time: 10.70381236076355\n",
      "\n"
     ]
    },
    {
     "name": "stderr",
     "output_type": "stream",
     "text": [
      "100%|█████████████████████████████████████████████| 9/9 [00:07<00:00,  1.25it/s]\n",
      "100%|█████████████████████████████████████████████| 4/4 [00:03<00:00,  1.12it/s]\n"
     ]
    },
    {
     "name": "stdout",
     "output_type": "stream",
     "text": [
      "Epoch : 751 - Train_loss : 0.0000 - Train_Acc: 1.0000 - Val_loss : 0.3822 - Val_Acc: 0.5583  - Time: 10.773272514343262\n",
      "\n"
     ]
    },
    {
     "name": "stderr",
     "output_type": "stream",
     "text": [
      "100%|█████████████████████████████████████████████| 9/9 [00:07<00:00,  1.25it/s]\n",
      "100%|█████████████████████████████████████████████| 4/4 [00:03<00:00,  1.17it/s]\n"
     ]
    },
    {
     "name": "stdout",
     "output_type": "stream",
     "text": [
      "Epoch : 752 - Train_loss : 0.0000 - Train_Acc: 1.0000 - Val_loss : 0.3790 - Val_Acc: 0.5667  - Time: 10.64407753944397\n",
      "\n"
     ]
    },
    {
     "name": "stderr",
     "output_type": "stream",
     "text": [
      "100%|█████████████████████████████████████████████| 9/9 [00:07<00:00,  1.24it/s]\n",
      "100%|█████████████████████████████████████████████| 4/4 [00:03<00:00,  1.23it/s]\n"
     ]
    },
    {
     "name": "stdout",
     "output_type": "stream",
     "text": [
      "Epoch : 753 - Train_loss : 0.0000 - Train_Acc: 1.0000 - Val_loss : 0.3754 - Val_Acc: 0.5667  - Time: 10.517784833908081\n",
      "\n"
     ]
    },
    {
     "name": "stderr",
     "output_type": "stream",
     "text": [
      "100%|█████████████████████████████████████████████| 9/9 [00:07<00:00,  1.19it/s]\n",
      "100%|█████████████████████████████████████████████| 4/4 [00:03<00:00,  1.31it/s]\n"
     ]
    },
    {
     "name": "stdout",
     "output_type": "stream",
     "text": [
      "Epoch : 754 - Train_loss : 0.0000 - Train_Acc: 1.0000 - Val_loss : 0.3741 - Val_Acc: 0.5667  - Time: 10.590760469436646\n",
      "\n"
     ]
    },
    {
     "name": "stderr",
     "output_type": "stream",
     "text": [
      "100%|█████████████████████████████████████████████| 9/9 [00:07<00:00,  1.23it/s]\n",
      "100%|█████████████████████████████████████████████| 4/4 [00:03<00:00,  1.33it/s]\n"
     ]
    },
    {
     "name": "stdout",
     "output_type": "stream",
     "text": [
      "Epoch : 755 - Train_loss : 0.0000 - Train_Acc: 1.0000 - Val_loss : 0.3739 - Val_Acc: 0.5667  - Time: 10.329077005386353\n",
      "\n"
     ]
    },
    {
     "name": "stderr",
     "output_type": "stream",
     "text": [
      "100%|█████████████████████████████████████████████| 9/9 [00:07<00:00,  1.13it/s]\n",
      "100%|█████████████████████████████████████████████| 4/4 [00:03<00:00,  1.23it/s]\n"
     ]
    },
    {
     "name": "stdout",
     "output_type": "stream",
     "text": [
      "Epoch : 756 - Train_loss : 0.0000 - Train_Acc: 1.0000 - Val_loss : 0.3739 - Val_Acc: 0.5667  - Time: 11.203648805618286\n",
      "\n"
     ]
    },
    {
     "name": "stderr",
     "output_type": "stream",
     "text": [
      "100%|█████████████████████████████████████████████| 9/9 [00:07<00:00,  1.25it/s]\n",
      "100%|█████████████████████████████████████████████| 4/4 [00:03<00:00,  1.32it/s]\n"
     ]
    },
    {
     "name": "stdout",
     "output_type": "stream",
     "text": [
      "Epoch : 757 - Train_loss : 0.0000 - Train_Acc: 1.0000 - Val_loss : 0.3740 - Val_Acc: 0.5667  - Time: 10.249508142471313\n",
      "\n"
     ]
    },
    {
     "name": "stderr",
     "output_type": "stream",
     "text": [
      "100%|█████████████████████████████████████████████| 9/9 [00:07<00:00,  1.27it/s]\n",
      "100%|█████████████████████████████████████████████| 4/4 [00:03<00:00,  1.28it/s]\n"
     ]
    },
    {
     "name": "stdout",
     "output_type": "stream",
     "text": [
      "Epoch : 758 - Train_loss : 0.0000 - Train_Acc: 1.0000 - Val_loss : 0.3738 - Val_Acc: 0.5667  - Time: 10.204592943191528\n",
      "\n"
     ]
    },
    {
     "name": "stderr",
     "output_type": "stream",
     "text": [
      "100%|█████████████████████████████████████████████| 9/9 [00:07<00:00,  1.18it/s]\n",
      "100%|█████████████████████████████████████████████| 4/4 [00:03<00:00,  1.24it/s]\n"
     ]
    },
    {
     "name": "stdout",
     "output_type": "stream",
     "text": [
      "Epoch : 759 - Train_loss : 0.0000 - Train_Acc: 1.0000 - Val_loss : 0.3740 - Val_Acc: 0.5667  - Time: 10.86104130744934\n",
      "\n"
     ]
    },
    {
     "name": "stderr",
     "output_type": "stream",
     "text": [
      "100%|█████████████████████████████████████████████| 9/9 [00:07<00:00,  1.20it/s]\n",
      "100%|█████████████████████████████████████████████| 4/4 [00:03<00:00,  1.22it/s]\n"
     ]
    },
    {
     "name": "stdout",
     "output_type": "stream",
     "text": [
      "Epoch : 760 - Train_loss : 0.0000 - Train_Acc: 1.0000 - Val_loss : 0.3742 - Val_Acc: 0.5667  - Time: 10.781744241714478\n",
      "\n"
     ]
    },
    {
     "name": "stderr",
     "output_type": "stream",
     "text": [
      "100%|█████████████████████████████████████████████| 9/9 [00:07<00:00,  1.22it/s]\n",
      "100%|█████████████████████████████████████████████| 4/4 [00:03<00:00,  1.18it/s]\n"
     ]
    },
    {
     "name": "stdout",
     "output_type": "stream",
     "text": [
      "Epoch : 761 - Train_loss : 0.0000 - Train_Acc: 1.0000 - Val_loss : 0.3746 - Val_Acc: 0.5667  - Time: 10.75830864906311\n",
      "\n"
     ]
    },
    {
     "name": "stderr",
     "output_type": "stream",
     "text": [
      "100%|█████████████████████████████████████████████| 9/9 [00:07<00:00,  1.17it/s]\n",
      "100%|█████████████████████████████████████████████| 4/4 [00:03<00:00,  1.18it/s]\n"
     ]
    },
    {
     "name": "stdout",
     "output_type": "stream",
     "text": [
      "Epoch : 762 - Train_loss : 0.0000 - Train_Acc: 1.0000 - Val_loss : 0.3746 - Val_Acc: 0.5667  - Time: 11.082929134368896\n",
      "\n"
     ]
    },
    {
     "name": "stderr",
     "output_type": "stream",
     "text": [
      "100%|█████████████████████████████████████████████| 9/9 [00:07<00:00,  1.14it/s]\n",
      "100%|█████████████████████████████████████████████| 4/4 [00:03<00:00,  1.02it/s]\n"
     ]
    },
    {
     "name": "stdout",
     "output_type": "stream",
     "text": [
      "Epoch : 763 - Train_loss : 0.0000 - Train_Acc: 1.0000 - Val_loss : 0.3745 - Val_Acc: 0.5667  - Time: 11.851429462432861\n",
      "\n"
     ]
    },
    {
     "name": "stderr",
     "output_type": "stream",
     "text": [
      "100%|█████████████████████████████████████████████| 9/9 [00:07<00:00,  1.16it/s]\n",
      "100%|█████████████████████████████████████████████| 4/4 [00:03<00:00,  1.11it/s]\n"
     ]
    },
    {
     "name": "stdout",
     "output_type": "stream",
     "text": [
      "Epoch : 764 - Train_loss : 0.0000 - Train_Acc: 1.0000 - Val_loss : 0.3758 - Val_Acc: 0.5667  - Time: 11.365375280380249\n",
      "\n"
     ]
    },
    {
     "name": "stderr",
     "output_type": "stream",
     "text": [
      "100%|█████████████████████████████████████████████| 9/9 [00:07<00:00,  1.24it/s]\n",
      "100%|█████████████████████████████████████████████| 4/4 [00:03<00:00,  1.09it/s]\n"
     ]
    },
    {
     "name": "stdout",
     "output_type": "stream",
     "text": [
      "Epoch : 765 - Train_loss : 0.0000 - Train_Acc: 1.0000 - Val_loss : 0.3759 - Val_Acc: 0.5667  - Time: 10.924017667770386\n",
      "\n"
     ]
    },
    {
     "name": "stderr",
     "output_type": "stream",
     "text": [
      "100%|█████████████████████████████████████████████| 9/9 [00:07<00:00,  1.14it/s]\n",
      "100%|█████████████████████████████████████████████| 4/4 [00:03<00:00,  1.17it/s]\n"
     ]
    },
    {
     "name": "stdout",
     "output_type": "stream",
     "text": [
      "Epoch : 766 - Train_loss : 0.0000 - Train_Acc: 1.0000 - Val_loss : 0.3767 - Val_Acc: 0.5667  - Time: 11.305790424346924\n",
      "\n"
     ]
    },
    {
     "name": "stderr",
     "output_type": "stream",
     "text": [
      "100%|█████████████████████████████████████████████| 9/9 [00:07<00:00,  1.19it/s]\n",
      "100%|█████████████████████████████████████████████| 4/4 [00:03<00:00,  1.29it/s]\n"
     ]
    },
    {
     "name": "stdout",
     "output_type": "stream",
     "text": [
      "Epoch : 767 - Train_loss : 0.0000 - Train_Acc: 1.0000 - Val_loss : 0.3773 - Val_Acc: 0.5667  - Time: 10.670881509780884\n",
      "\n"
     ]
    },
    {
     "name": "stderr",
     "output_type": "stream",
     "text": [
      "100%|█████████████████████████████████████████████| 9/9 [00:07<00:00,  1.14it/s]\n",
      "100%|█████████████████████████████████████████████| 4/4 [00:03<00:00,  1.22it/s]\n"
     ]
    },
    {
     "name": "stdout",
     "output_type": "stream",
     "text": [
      "Epoch : 768 - Train_loss : 0.0000 - Train_Acc: 1.0000 - Val_loss : 0.3783 - Val_Acc: 0.5667  - Time: 11.180743932723999\n",
      "\n"
     ]
    },
    {
     "name": "stderr",
     "output_type": "stream",
     "text": [
      "100%|█████████████████████████████████████████████| 9/9 [00:07<00:00,  1.20it/s]\n",
      "100%|█████████████████████████████████████████████| 4/4 [00:03<00:00,  1.30it/s]\n"
     ]
    },
    {
     "name": "stdout",
     "output_type": "stream",
     "text": [
      "Epoch : 769 - Train_loss : 0.0000 - Train_Acc: 1.0000 - Val_loss : 0.3788 - Val_Acc: 0.5667  - Time: 10.599856615066528\n",
      "\n"
     ]
    },
    {
     "name": "stderr",
     "output_type": "stream",
     "text": [
      "100%|█████████████████████████████████████████████| 9/9 [00:08<00:00,  1.08it/s]\n",
      "100%|█████████████████████████████████████████████| 4/4 [00:03<00:00,  1.07it/s]\n"
     ]
    },
    {
     "name": "stdout",
     "output_type": "stream",
     "text": [
      "Epoch : 770 - Train_loss : 0.0000 - Train_Acc: 1.0000 - Val_loss : 0.3789 - Val_Acc: 0.5667  - Time: 12.079670667648315\n",
      "\n"
     ]
    },
    {
     "name": "stderr",
     "output_type": "stream",
     "text": [
      "100%|█████████████████████████████████████████████| 9/9 [00:08<00:00,  1.11it/s]\n",
      "100%|█████████████████████████████████████████████| 4/4 [00:03<00:00,  1.15it/s]\n"
     ]
    },
    {
     "name": "stdout",
     "output_type": "stream",
     "text": [
      "Epoch : 771 - Train_loss : 0.0000 - Train_Acc: 1.0000 - Val_loss : 0.3783 - Val_Acc: 0.5667  - Time: 11.602368354797363\n",
      "\n"
     ]
    },
    {
     "name": "stderr",
     "output_type": "stream",
     "text": [
      "100%|█████████████████████████████████████████████| 9/9 [00:07<00:00,  1.25it/s]\n",
      "100%|█████████████████████████████████████████████| 4/4 [00:03<00:00,  1.11it/s]\n"
     ]
    },
    {
     "name": "stdout",
     "output_type": "stream",
     "text": [
      "Epoch : 772 - Train_loss : 0.0000 - Train_Acc: 1.0000 - Val_loss : 0.3782 - Val_Acc: 0.5667  - Time: 10.803559064865112\n",
      "\n"
     ]
    },
    {
     "name": "stderr",
     "output_type": "stream",
     "text": [
      "100%|█████████████████████████████████████████████| 9/9 [00:07<00:00,  1.18it/s]\n",
      "100%|█████████████████████████████████████████████| 4/4 [00:03<00:00,  1.11it/s]\n"
     ]
    },
    {
     "name": "stdout",
     "output_type": "stream",
     "text": [
      "Epoch : 773 - Train_loss : 0.0000 - Train_Acc: 1.0000 - Val_loss : 0.3779 - Val_Acc: 0.5667  - Time: 11.24834156036377\n",
      "\n"
     ]
    },
    {
     "name": "stderr",
     "output_type": "stream",
     "text": [
      "100%|█████████████████████████████████████████████| 9/9 [00:07<00:00,  1.21it/s]\n",
      "100%|█████████████████████████████████████████████| 4/4 [00:03<00:00,  1.15it/s]\n"
     ]
    },
    {
     "name": "stdout",
     "output_type": "stream",
     "text": [
      "Epoch : 774 - Train_loss : 0.0000 - Train_Acc: 1.0000 - Val_loss : 0.3774 - Val_Acc: 0.5667  - Time: 10.928602457046509\n",
      "\n"
     ]
    },
    {
     "name": "stderr",
     "output_type": "stream",
     "text": [
      "100%|█████████████████████████████████████████████| 9/9 [00:07<00:00,  1.25it/s]\n",
      "100%|█████████████████████████████████████████████| 4/4 [00:03<00:00,  1.18it/s]\n"
     ]
    },
    {
     "name": "stdout",
     "output_type": "stream",
     "text": [
      "Epoch : 775 - Train_loss : 0.0000 - Train_Acc: 1.0000 - Val_loss : 0.3769 - Val_Acc: 0.5750  - Time: 10.632706880569458\n",
      "\n"
     ]
    },
    {
     "name": "stderr",
     "output_type": "stream",
     "text": [
      "100%|█████████████████████████████████████████████| 9/9 [00:07<00:00,  1.20it/s]\n",
      "100%|█████████████████████████████████████████████| 4/4 [00:03<00:00,  1.18it/s]\n"
     ]
    },
    {
     "name": "stdout",
     "output_type": "stream",
     "text": [
      "Epoch : 776 - Train_loss : 0.0000 - Train_Acc: 1.0000 - Val_loss : 0.3770 - Val_Acc: 0.5750  - Time: 10.890330076217651\n",
      "\n"
     ]
    },
    {
     "name": "stderr",
     "output_type": "stream",
     "text": [
      "100%|█████████████████████████████████████████████| 9/9 [00:07<00:00,  1.19it/s]\n",
      "100%|█████████████████████████████████████████████| 4/4 [00:03<00:00,  1.12it/s]\n"
     ]
    },
    {
     "name": "stdout",
     "output_type": "stream",
     "text": [
      "Epoch : 777 - Train_loss : 0.0000 - Train_Acc: 1.0000 - Val_loss : 0.3763 - Val_Acc: 0.5750  - Time: 11.157340049743652\n",
      "\n"
     ]
    },
    {
     "name": "stderr",
     "output_type": "stream",
     "text": [
      "100%|█████████████████████████████████████████████| 9/9 [00:08<00:00,  1.12it/s]\n",
      "100%|█████████████████████████████████████████████| 4/4 [00:03<00:00,  1.30it/s]\n"
     ]
    },
    {
     "name": "stdout",
     "output_type": "stream",
     "text": [
      "Epoch : 778 - Train_loss : 0.0000 - Train_Acc: 1.0000 - Val_loss : 0.3758 - Val_Acc: 0.5750  - Time: 11.12216591835022\n",
      "\n"
     ]
    },
    {
     "name": "stderr",
     "output_type": "stream",
     "text": [
      "100%|█████████████████████████████████████████████| 9/9 [00:07<00:00,  1.22it/s]\n",
      "100%|█████████████████████████████████████████████| 4/4 [00:03<00:00,  1.30it/s]\n"
     ]
    },
    {
     "name": "stdout",
     "output_type": "stream",
     "text": [
      "Epoch : 779 - Train_loss : 0.0000 - Train_Acc: 1.0000 - Val_loss : 0.3763 - Val_Acc: 0.5750  - Time: 10.428785800933838\n",
      "\n"
     ]
    },
    {
     "name": "stderr",
     "output_type": "stream",
     "text": [
      "100%|█████████████████████████████████████████████| 9/9 [00:07<00:00,  1.19it/s]\n",
      "100%|█████████████████████████████████████████████| 4/4 [00:03<00:00,  1.19it/s]\n"
     ]
    },
    {
     "name": "stdout",
     "output_type": "stream",
     "text": [
      "Epoch : 780 - Train_loss : 0.0000 - Train_Acc: 1.0000 - Val_loss : 0.3769 - Val_Acc: 0.5750  - Time: 10.941037654876709\n",
      "\n"
     ]
    },
    {
     "name": "stderr",
     "output_type": "stream",
     "text": [
      "100%|█████████████████████████████████████████████| 9/9 [00:07<00:00,  1.21it/s]\n",
      "100%|█████████████████████████████████████████████| 4/4 [00:03<00:00,  1.23it/s]\n"
     ]
    },
    {
     "name": "stdout",
     "output_type": "stream",
     "text": [
      "Epoch : 781 - Train_loss : 0.0000 - Train_Acc: 1.0000 - Val_loss : 0.3773 - Val_Acc: 0.5750  - Time: 10.710438966751099\n",
      "\n"
     ]
    },
    {
     "name": "stderr",
     "output_type": "stream",
     "text": [
      "100%|█████████████████████████████████████████████| 9/9 [00:07<00:00,  1.24it/s]\n",
      "100%|█████████████████████████████████████████████| 4/4 [00:03<00:00,  1.22it/s]\n"
     ]
    },
    {
     "name": "stdout",
     "output_type": "stream",
     "text": [
      "Epoch : 782 - Train_loss : 0.0000 - Train_Acc: 1.0000 - Val_loss : 0.3772 - Val_Acc: 0.5750  - Time: 10.551570415496826\n",
      "\n"
     ]
    },
    {
     "name": "stderr",
     "output_type": "stream",
     "text": [
      "100%|█████████████████████████████████████████████| 9/9 [00:07<00:00,  1.23it/s]\n",
      "100%|█████████████████████████████████████████████| 4/4 [00:03<00:00,  1.24it/s]\n"
     ]
    },
    {
     "name": "stdout",
     "output_type": "stream",
     "text": [
      "Epoch : 783 - Train_loss : 0.0000 - Train_Acc: 1.0000 - Val_loss : 0.3773 - Val_Acc: 0.5750  - Time: 10.542780637741089\n",
      "\n"
     ]
    },
    {
     "name": "stderr",
     "output_type": "stream",
     "text": [
      "100%|█████████████████████████████████████████████| 9/9 [00:07<00:00,  1.24it/s]\n",
      "100%|█████████████████████████████████████████████| 4/4 [00:03<00:00,  1.09it/s]\n"
     ]
    },
    {
     "name": "stdout",
     "output_type": "stream",
     "text": [
      "Epoch : 784 - Train_loss : 0.0000 - Train_Acc: 1.0000 - Val_loss : 0.3774 - Val_Acc: 0.5750  - Time: 10.964934825897217\n",
      "\n"
     ]
    },
    {
     "name": "stderr",
     "output_type": "stream",
     "text": [
      "100%|█████████████████████████████████████████████| 9/9 [00:07<00:00,  1.14it/s]\n",
      "100%|█████████████████████████████████████████████| 4/4 [00:03<00:00,  1.15it/s]\n"
     ]
    },
    {
     "name": "stdout",
     "output_type": "stream",
     "text": [
      "Epoch : 785 - Train_loss : 0.0000 - Train_Acc: 1.0000 - Val_loss : 0.3778 - Val_Acc: 0.5750  - Time: 11.39920425415039\n",
      "\n"
     ]
    },
    {
     "name": "stderr",
     "output_type": "stream",
     "text": [
      "100%|█████████████████████████████████████████████| 9/9 [00:07<00:00,  1.28it/s]\n",
      "100%|█████████████████████████████████████████████| 4/4 [00:03<00:00,  1.13it/s]\n"
     ]
    },
    {
     "name": "stdout",
     "output_type": "stream",
     "text": [
      "Epoch : 786 - Train_loss : 0.0000 - Train_Acc: 1.0000 - Val_loss : 0.3780 - Val_Acc: 0.5750  - Time: 10.591789245605469\n",
      "\n"
     ]
    },
    {
     "name": "stderr",
     "output_type": "stream",
     "text": [
      "100%|█████████████████████████████████████████████| 9/9 [00:07<00:00,  1.21it/s]\n",
      "100%|█████████████████████████████████████████████| 4/4 [00:03<00:00,  1.15it/s]\n"
     ]
    },
    {
     "name": "stdout",
     "output_type": "stream",
     "text": [
      "Epoch : 787 - Train_loss : 0.0000 - Train_Acc: 1.0000 - Val_loss : 0.3783 - Val_Acc: 0.5667  - Time: 10.899380922317505\n",
      "\n"
     ]
    },
    {
     "name": "stderr",
     "output_type": "stream",
     "text": [
      "100%|█████████████████████████████████████████████| 9/9 [00:07<00:00,  1.23it/s]\n",
      "100%|█████████████████████████████████████████████| 4/4 [00:03<00:00,  1.28it/s]\n"
     ]
    },
    {
     "name": "stdout",
     "output_type": "stream",
     "text": [
      "Epoch : 788 - Train_loss : 0.0000 - Train_Acc: 1.0000 - Val_loss : 0.3782 - Val_Acc: 0.5667  - Time: 10.44089674949646\n",
      "\n"
     ]
    },
    {
     "name": "stderr",
     "output_type": "stream",
     "text": [
      "100%|█████████████████████████████████████████████| 9/9 [00:07<00:00,  1.20it/s]\n",
      "100%|█████████████████████████████████████████████| 4/4 [00:03<00:00,  1.29it/s]\n"
     ]
    },
    {
     "name": "stdout",
     "output_type": "stream",
     "text": [
      "Epoch : 789 - Train_loss : 0.0000 - Train_Acc: 1.0000 - Val_loss : 0.3788 - Val_Acc: 0.5667  - Time: 10.628864526748657\n",
      "\n"
     ]
    },
    {
     "name": "stderr",
     "output_type": "stream",
     "text": [
      "100%|█████████████████████████████████████████████| 9/9 [00:07<00:00,  1.22it/s]\n",
      "100%|█████████████████████████████████████████████| 4/4 [00:02<00:00,  1.35it/s]\n"
     ]
    },
    {
     "name": "stdout",
     "output_type": "stream",
     "text": [
      "Epoch : 790 - Train_loss : 0.0000 - Train_Acc: 1.0000 - Val_loss : 0.3790 - Val_Acc: 0.5667  - Time: 10.328000783920288\n",
      "\n"
     ]
    },
    {
     "name": "stderr",
     "output_type": "stream",
     "text": [
      "100%|█████████████████████████████████████████████| 9/9 [00:07<00:00,  1.25it/s]\n",
      "100%|█████████████████████████████████████████████| 4/4 [00:03<00:00,  1.27it/s]\n"
     ]
    },
    {
     "name": "stdout",
     "output_type": "stream",
     "text": [
      "Epoch : 791 - Train_loss : 0.0000 - Train_Acc: 1.0000 - Val_loss : 0.3793 - Val_Acc: 0.5667  - Time: 10.332891702651978\n",
      "\n"
     ]
    },
    {
     "name": "stderr",
     "output_type": "stream",
     "text": [
      "100%|█████████████████████████████████████████████| 9/9 [00:08<00:00,  1.11it/s]\n",
      "100%|█████████████████████████████████████████████| 4/4 [00:03<00:00,  1.16it/s]\n"
     ]
    },
    {
     "name": "stdout",
     "output_type": "stream",
     "text": [
      "Epoch : 792 - Train_loss : 0.0000 - Train_Acc: 1.0000 - Val_loss : 0.3789 - Val_Acc: 0.5667  - Time: 11.534832954406738\n",
      "\n"
     ]
    },
    {
     "name": "stderr",
     "output_type": "stream",
     "text": [
      "100%|█████████████████████████████████████████████| 9/9 [00:07<00:00,  1.21it/s]\n",
      "100%|█████████████████████████████████████████████| 4/4 [00:03<00:00,  1.22it/s]\n"
     ]
    },
    {
     "name": "stdout",
     "output_type": "stream",
     "text": [
      "Epoch : 793 - Train_loss : 0.0000 - Train_Acc: 1.0000 - Val_loss : 0.3789 - Val_Acc: 0.5750  - Time: 10.706817150115967\n",
      "\n"
     ]
    },
    {
     "name": "stderr",
     "output_type": "stream",
     "text": [
      "100%|█████████████████████████████████████████████| 9/9 [00:07<00:00,  1.21it/s]\n",
      "100%|█████████████████████████████████████████████| 4/4 [00:03<00:00,  1.22it/s]\n"
     ]
    },
    {
     "name": "stdout",
     "output_type": "stream",
     "text": [
      "Epoch : 794 - Train_loss : 0.0000 - Train_Acc: 1.0000 - Val_loss : 0.3791 - Val_Acc: 0.5750  - Time: 10.717601537704468\n",
      "\n"
     ]
    },
    {
     "name": "stderr",
     "output_type": "stream",
     "text": [
      "100%|█████████████████████████████████████████████| 9/9 [00:07<00:00,  1.24it/s]\n",
      "100%|█████████████████████████████████████████████| 4/4 [00:03<00:00,  1.20it/s]\n"
     ]
    },
    {
     "name": "stdout",
     "output_type": "stream",
     "text": [
      "Epoch : 795 - Train_loss : 0.0000 - Train_Acc: 1.0000 - Val_loss : 0.3793 - Val_Acc: 0.5750  - Time: 10.608581066131592\n",
      "\n"
     ]
    },
    {
     "name": "stderr",
     "output_type": "stream",
     "text": [
      "100%|█████████████████████████████████████████████| 9/9 [00:07<00:00,  1.26it/s]\n",
      "100%|█████████████████████████████████████████████| 4/4 [00:03<00:00,  1.23it/s]\n"
     ]
    },
    {
     "name": "stdout",
     "output_type": "stream",
     "text": [
      "Epoch : 796 - Train_loss : 0.0000 - Train_Acc: 1.0000 - Val_loss : 0.3796 - Val_Acc: 0.5750  - Time: 10.425597667694092\n",
      "\n"
     ]
    },
    {
     "name": "stderr",
     "output_type": "stream",
     "text": [
      "100%|█████████████████████████████████████████████| 9/9 [00:07<00:00,  1.26it/s]\n",
      "100%|█████████████████████████████████████████████| 4/4 [00:03<00:00,  1.17it/s]\n"
     ]
    },
    {
     "name": "stdout",
     "output_type": "stream",
     "text": [
      "Epoch : 797 - Train_loss : 0.0000 - Train_Acc: 1.0000 - Val_loss : 0.3801 - Val_Acc: 0.5750  - Time: 10.55847978591919\n",
      "\n"
     ]
    },
    {
     "name": "stderr",
     "output_type": "stream",
     "text": [
      "100%|█████████████████████████████████████████████| 9/9 [00:07<00:00,  1.24it/s]\n",
      "100%|█████████████████████████████████████████████| 4/4 [00:03<00:00,  1.11it/s]\n"
     ]
    },
    {
     "name": "stdout",
     "output_type": "stream",
     "text": [
      "Epoch : 798 - Train_loss : 0.0000 - Train_Acc: 1.0000 - Val_loss : 0.3856 - Val_Acc: 0.5667  - Time: 10.85538101196289\n",
      "\n"
     ]
    },
    {
     "name": "stderr",
     "output_type": "stream",
     "text": [
      "100%|█████████████████████████████████████████████| 9/9 [00:07<00:00,  1.16it/s]\n",
      "100%|█████████████████████████████████████████████| 4/4 [00:03<00:00,  1.09it/s]\n"
     ]
    },
    {
     "name": "stdout",
     "output_type": "stream",
     "text": [
      "Epoch : 799 - Train_loss : 0.0000 - Train_Acc: 1.0000 - Val_loss : 0.3912 - Val_Acc: 0.5583  - Time: 11.438838005065918\n",
      "\n"
     ]
    },
    {
     "name": "stderr",
     "output_type": "stream",
     "text": [
      "100%|█████████████████████████████████████████████| 9/9 [00:07<00:00,  1.23it/s]\n",
      "100%|█████████████████████████████████████████████| 4/4 [00:03<00:00,  1.19it/s]\n"
     ]
    },
    {
     "name": "stdout",
     "output_type": "stream",
     "text": [
      "Epoch : 800 - Train_loss : 0.0000 - Train_Acc: 1.0000 - Val_loss : 0.3933 - Val_Acc: 0.5583  - Time: 10.692720174789429\n",
      "\n"
     ]
    },
    {
     "name": "stderr",
     "output_type": "stream",
     "text": [
      "100%|█████████████████████████████████████████████| 9/9 [00:07<00:00,  1.27it/s]\n",
      "100%|█████████████████████████████████████████████| 4/4 [00:03<00:00,  1.19it/s]\n"
     ]
    },
    {
     "name": "stdout",
     "output_type": "stream",
     "text": [
      "Epoch : 801 - Train_loss : 0.0000 - Train_Acc: 1.0000 - Val_loss : 0.3937 - Val_Acc: 0.5583  - Time: 10.415964126586914\n",
      "\n"
     ]
    },
    {
     "name": "stderr",
     "output_type": "stream",
     "text": [
      "100%|█████████████████████████████████████████████| 9/9 [00:07<00:00,  1.21it/s]\n",
      "100%|█████████████████████████████████████████████| 4/4 [00:03<00:00,  1.28it/s]\n"
     ]
    },
    {
     "name": "stdout",
     "output_type": "stream",
     "text": [
      "Epoch : 802 - Train_loss : 0.0000 - Train_Acc: 1.0000 - Val_loss : 0.3903 - Val_Acc: 0.5667  - Time: 10.543123483657837\n",
      "\n"
     ]
    },
    {
     "name": "stderr",
     "output_type": "stream",
     "text": [
      "100%|█████████████████████████████████████████████| 9/9 [00:07<00:00,  1.22it/s]\n",
      "100%|█████████████████████████████████████████████| 4/4 [00:03<00:00,  1.33it/s]\n"
     ]
    },
    {
     "name": "stdout",
     "output_type": "stream",
     "text": [
      "Epoch : 803 - Train_loss : 0.0000 - Train_Acc: 1.0000 - Val_loss : 0.3889 - Val_Acc: 0.5667  - Time: 10.413057327270508\n",
      "\n"
     ]
    },
    {
     "name": "stderr",
     "output_type": "stream",
     "text": [
      "100%|█████████████████████████████████████████████| 9/9 [00:07<00:00,  1.22it/s]\n",
      "100%|█████████████████████████████████████████████| 4/4 [00:03<00:00,  1.33it/s]\n"
     ]
    },
    {
     "name": "stdout",
     "output_type": "stream",
     "text": [
      "Epoch : 804 - Train_loss : 0.0000 - Train_Acc: 1.0000 - Val_loss : 0.3885 - Val_Acc: 0.5667  - Time: 10.383011817932129\n",
      "\n"
     ]
    },
    {
     "name": "stderr",
     "output_type": "stream",
     "text": [
      "100%|█████████████████████████████████████████████| 9/9 [00:07<00:00,  1.22it/s]\n",
      "100%|█████████████████████████████████████████████| 4/4 [00:03<00:00,  1.25it/s]\n"
     ]
    },
    {
     "name": "stdout",
     "output_type": "stream",
     "text": [
      "Epoch : 805 - Train_loss : 0.0000 - Train_Acc: 1.0000 - Val_loss : 0.3894 - Val_Acc: 0.5667  - Time: 10.6056649684906\n",
      "\n"
     ]
    },
    {
     "name": "stderr",
     "output_type": "stream",
     "text": [
      "100%|█████████████████████████████████████████████| 9/9 [00:07<00:00,  1.19it/s]\n",
      "100%|█████████████████████████████████████████████| 4/4 [00:03<00:00,  1.13it/s]\n"
     ]
    },
    {
     "name": "stdout",
     "output_type": "stream",
     "text": [
      "Epoch : 806 - Train_loss : 0.0000 - Train_Acc: 1.0000 - Val_loss : 0.3904 - Val_Acc: 0.5667  - Time: 11.106717586517334\n",
      "\n"
     ]
    },
    {
     "name": "stderr",
     "output_type": "stream",
     "text": [
      "100%|█████████████████████████████████████████████| 9/9 [00:07<00:00,  1.22it/s]\n",
      "100%|█████████████████████████████████████████████| 4/4 [00:03<00:00,  1.26it/s]\n"
     ]
    },
    {
     "name": "stdout",
     "output_type": "stream",
     "text": [
      "Epoch : 807 - Train_loss : 0.0000 - Train_Acc: 1.0000 - Val_loss : 0.3912 - Val_Acc: 0.5667  - Time: 10.572742938995361\n",
      "\n"
     ]
    },
    {
     "name": "stderr",
     "output_type": "stream",
     "text": [
      "100%|█████████████████████████████████████████████| 9/9 [00:07<00:00,  1.22it/s]\n",
      "100%|█████████████████████████████████████████████| 4/4 [00:03<00:00,  1.20it/s]\n"
     ]
    },
    {
     "name": "stdout",
     "output_type": "stream",
     "text": [
      "Epoch : 808 - Train_loss : 0.0000 - Train_Acc: 1.0000 - Val_loss : 0.3916 - Val_Acc: 0.5667  - Time: 10.750956773757935\n",
      "\n"
     ]
    },
    {
     "name": "stderr",
     "output_type": "stream",
     "text": [
      "100%|█████████████████████████████████████████████| 9/9 [00:07<00:00,  1.15it/s]\n",
      "100%|█████████████████████████████████████████████| 4/4 [00:03<00:00,  1.21it/s]\n"
     ]
    },
    {
     "name": "stdout",
     "output_type": "stream",
     "text": [
      "Epoch : 809 - Train_loss : 0.0000 - Train_Acc: 1.0000 - Val_loss : 0.3925 - Val_Acc: 0.5583  - Time: 11.10521674156189\n",
      "\n"
     ]
    },
    {
     "name": "stderr",
     "output_type": "stream",
     "text": [
      "100%|█████████████████████████████████████████████| 9/9 [00:07<00:00,  1.23it/s]\n",
      "100%|█████████████████████████████████████████████| 4/4 [00:03<00:00,  1.24it/s]\n"
     ]
    },
    {
     "name": "stdout",
     "output_type": "stream",
     "text": [
      "Epoch : 810 - Train_loss : 0.0000 - Train_Acc: 1.0000 - Val_loss : 0.3935 - Val_Acc: 0.5583  - Time: 10.5130774974823\n",
      "\n"
     ]
    },
    {
     "name": "stderr",
     "output_type": "stream",
     "text": [
      "100%|█████████████████████████████████████████████| 9/9 [00:07<00:00,  1.26it/s]\n",
      "100%|█████████████████████████████████████████████| 4/4 [00:03<00:00,  1.17it/s]\n"
     ]
    },
    {
     "name": "stdout",
     "output_type": "stream",
     "text": [
      "Epoch : 811 - Train_loss : 0.0000 - Train_Acc: 1.0000 - Val_loss : 0.3936 - Val_Acc: 0.5583  - Time: 10.559501886367798\n",
      "\n"
     ]
    },
    {
     "name": "stderr",
     "output_type": "stream",
     "text": [
      "100%|█████████████████████████████████████████████| 9/9 [00:07<00:00,  1.22it/s]\n",
      "100%|█████████████████████████████████████████████| 4/4 [00:03<00:00,  1.11it/s]\n"
     ]
    },
    {
     "name": "stdout",
     "output_type": "stream",
     "text": [
      "Epoch : 812 - Train_loss : 0.0000 - Train_Acc: 1.0000 - Val_loss : 0.3937 - Val_Acc: 0.5583  - Time: 10.980056285858154\n",
      "\n"
     ]
    },
    {
     "name": "stderr",
     "output_type": "stream",
     "text": [
      "100%|█████████████████████████████████████████████| 9/9 [00:07<00:00,  1.22it/s]\n",
      "100%|█████████████████████████████████████████████| 4/4 [00:03<00:00,  1.04it/s]\n"
     ]
    },
    {
     "name": "stdout",
     "output_type": "stream",
     "text": [
      "Epoch : 813 - Train_loss : 0.0000 - Train_Acc: 1.0000 - Val_loss : 0.3937 - Val_Acc: 0.5583  - Time: 11.222061395645142\n",
      "\n"
     ]
    },
    {
     "name": "stderr",
     "output_type": "stream",
     "text": [
      "100%|█████████████████████████████████████████████| 9/9 [00:07<00:00,  1.20it/s]\n",
      "100%|█████████████████████████████████████████████| 4/4 [00:03<00:00,  1.17it/s]\n"
     ]
    },
    {
     "name": "stdout",
     "output_type": "stream",
     "text": [
      "Epoch : 814 - Train_loss : 0.0000 - Train_Acc: 1.0000 - Val_loss : 0.3934 - Val_Acc: 0.5583  - Time: 10.924057006835938\n",
      "\n"
     ]
    },
    {
     "name": "stderr",
     "output_type": "stream",
     "text": [
      "100%|█████████████████████████████████████████████| 9/9 [00:07<00:00,  1.22it/s]\n",
      "100%|█████████████████████████████████████████████| 4/4 [00:03<00:00,  1.30it/s]\n"
     ]
    },
    {
     "name": "stdout",
     "output_type": "stream",
     "text": [
      "Epoch : 815 - Train_loss : 0.0000 - Train_Acc: 1.0000 - Val_loss : 0.3931 - Val_Acc: 0.5583  - Time: 10.451280355453491\n",
      "\n"
     ]
    },
    {
     "name": "stderr",
     "output_type": "stream",
     "text": [
      "100%|█████████████████████████████████████████████| 9/9 [00:07<00:00,  1.17it/s]\n",
      "100%|█████████████████████████████████████████████| 4/4 [00:03<00:00,  1.30it/s]\n"
     ]
    },
    {
     "name": "stdout",
     "output_type": "stream",
     "text": [
      "Epoch : 816 - Train_loss : 0.0000 - Train_Acc: 1.0000 - Val_loss : 0.3933 - Val_Acc: 0.5583  - Time: 10.763302326202393\n",
      "\n"
     ]
    },
    {
     "name": "stderr",
     "output_type": "stream",
     "text": [
      "100%|█████████████████████████████████████████████| 9/9 [00:07<00:00,  1.23it/s]\n",
      "100%|█████████████████████████████████████████████| 4/4 [00:03<00:00,  1.31it/s]\n"
     ]
    },
    {
     "name": "stdout",
     "output_type": "stream",
     "text": [
      "Epoch : 817 - Train_loss : 0.0000 - Train_Acc: 1.0000 - Val_loss : 0.3936 - Val_Acc: 0.5583  - Time: 10.365605592727661\n",
      "\n"
     ]
    },
    {
     "name": "stderr",
     "output_type": "stream",
     "text": [
      "100%|█████████████████████████████████████████████| 9/9 [00:07<00:00,  1.24it/s]\n",
      "100%|█████████████████████████████████████████████| 4/4 [00:03<00:00,  1.28it/s]\n"
     ]
    },
    {
     "name": "stdout",
     "output_type": "stream",
     "text": [
      "Epoch : 818 - Train_loss : 0.0000 - Train_Acc: 1.0000 - Val_loss : 0.3933 - Val_Acc: 0.5583  - Time: 10.402629852294922\n",
      "\n"
     ]
    },
    {
     "name": "stderr",
     "output_type": "stream",
     "text": [
      "100%|█████████████████████████████████████████████| 9/9 [00:07<00:00,  1.21it/s]\n",
      "100%|█████████████████████████████████████████████| 4/4 [00:03<00:00,  1.21it/s]\n"
     ]
    },
    {
     "name": "stdout",
     "output_type": "stream",
     "text": [
      "Epoch : 819 - Train_loss : 0.0000 - Train_Acc: 1.0000 - Val_loss : 0.3932 - Val_Acc: 0.5583  - Time: 10.745577812194824\n",
      "\n"
     ]
    },
    {
     "name": "stderr",
     "output_type": "stream",
     "text": [
      "100%|█████████████████████████████████████████████| 9/9 [00:07<00:00,  1.22it/s]\n",
      "100%|█████████████████████████████████████████████| 4/4 [00:03<00:00,  1.17it/s]\n"
     ]
    },
    {
     "name": "stdout",
     "output_type": "stream",
     "text": [
      "Epoch : 820 - Train_loss : 0.0000 - Train_Acc: 1.0000 - Val_loss : 0.3928 - Val_Acc: 0.5583  - Time: 10.787283420562744\n",
      "\n"
     ]
    },
    {
     "name": "stderr",
     "output_type": "stream",
     "text": [
      "100%|█████████████████████████████████████████████| 9/9 [00:08<00:00,  1.12it/s]\n",
      "100%|█████████████████████████████████████████████| 4/4 [00:03<00:00,  1.21it/s]\n"
     ]
    },
    {
     "name": "stdout",
     "output_type": "stream",
     "text": [
      "Epoch : 821 - Train_loss : 0.0000 - Train_Acc: 1.0000 - Val_loss : 0.3925 - Val_Acc: 0.5583  - Time: 11.3767569065094\n",
      "\n"
     ]
    },
    {
     "name": "stderr",
     "output_type": "stream",
     "text": [
      "100%|█████████████████████████████████████████████| 9/9 [00:07<00:00,  1.22it/s]\n",
      "100%|█████████████████████████████████████████████| 4/4 [00:03<00:00,  1.25it/s]\n"
     ]
    },
    {
     "name": "stdout",
     "output_type": "stream",
     "text": [
      "Epoch : 822 - Train_loss : 0.0000 - Train_Acc: 1.0000 - Val_loss : 0.3933 - Val_Acc: 0.5583  - Time: 10.60067081451416\n",
      "\n"
     ]
    },
    {
     "name": "stderr",
     "output_type": "stream",
     "text": [
      "100%|█████████████████████████████████████████████| 9/9 [00:07<00:00,  1.23it/s]\n",
      "100%|█████████████████████████████████████████████| 4/4 [00:03<00:00,  1.18it/s]\n"
     ]
    },
    {
     "name": "stdout",
     "output_type": "stream",
     "text": [
      "Epoch : 823 - Train_loss : 0.0000 - Train_Acc: 1.0000 - Val_loss : 0.3929 - Val_Acc: 0.5583  - Time: 10.716080665588379\n",
      "\n"
     ]
    },
    {
     "name": "stderr",
     "output_type": "stream",
     "text": [
      "100%|█████████████████████████████████████████████| 9/9 [00:07<00:00,  1.24it/s]\n",
      "100%|█████████████████████████████████████████████| 4/4 [00:03<00:00,  1.14it/s]\n"
     ]
    },
    {
     "name": "stdout",
     "output_type": "stream",
     "text": [
      "Epoch : 824 - Train_loss : 0.0000 - Train_Acc: 1.0000 - Val_loss : 0.3926 - Val_Acc: 0.5583  - Time: 10.776184797286987\n",
      "\n"
     ]
    },
    {
     "name": "stderr",
     "output_type": "stream",
     "text": [
      "100%|█████████████████████████████████████████████| 9/9 [00:07<00:00,  1.23it/s]\n",
      "100%|█████████████████████████████████████████████| 4/4 [00:03<00:00,  1.19it/s]\n"
     ]
    },
    {
     "name": "stdout",
     "output_type": "stream",
     "text": [
      "Epoch : 825 - Train_loss : 0.0000 - Train_Acc: 1.0000 - Val_loss : 0.3910 - Val_Acc: 0.5583  - Time: 10.668006420135498\n",
      "\n"
     ]
    },
    {
     "name": "stderr",
     "output_type": "stream",
     "text": [
      "100%|█████████████████████████████████████████████| 9/9 [00:07<00:00,  1.27it/s]\n",
      "100%|█████████████████████████████████████████████| 4/4 [00:03<00:00,  1.14it/s]\n"
     ]
    },
    {
     "name": "stdout",
     "output_type": "stream",
     "text": [
      "Epoch : 826 - Train_loss : 0.0000 - Train_Acc: 1.0000 - Val_loss : 0.3841 - Val_Acc: 0.5750  - Time: 10.630759716033936\n",
      "\n"
     ]
    },
    {
     "name": "stderr",
     "output_type": "stream",
     "text": [
      "100%|█████████████████████████████████████████████| 9/9 [00:07<00:00,  1.22it/s]\n",
      "100%|█████████████████████████████████████████████| 4/4 [00:03<00:00,  1.10it/s]\n"
     ]
    },
    {
     "name": "stdout",
     "output_type": "stream",
     "text": [
      "Epoch : 827 - Train_loss : 0.0000 - Train_Acc: 1.0000 - Val_loss : 0.3814 - Val_Acc: 0.5750  - Time: 11.005441665649414\n",
      "\n"
     ]
    },
    {
     "name": "stderr",
     "output_type": "stream",
     "text": [
      "100%|█████████████████████████████████████████████| 9/9 [00:08<00:00,  1.06it/s]\n",
      "100%|█████████████████████████████████████████████| 4/4 [00:03<00:00,  1.19it/s]\n"
     ]
    },
    {
     "name": "stdout",
     "output_type": "stream",
     "text": [
      "Epoch : 828 - Train_loss : 0.0000 - Train_Acc: 1.0000 - Val_loss : 0.3802 - Val_Acc: 0.5750  - Time: 11.863409280776978\n",
      "\n"
     ]
    },
    {
     "name": "stderr",
     "output_type": "stream",
     "text": [
      "100%|█████████████████████████████████████████████| 9/9 [00:08<00:00,  1.10it/s]\n",
      "100%|█████████████████████████████████████████████| 4/4 [00:03<00:00,  1.18it/s]\n"
     ]
    },
    {
     "name": "stdout",
     "output_type": "stream",
     "text": [
      "Epoch : 829 - Train_loss : 0.0000 - Train_Acc: 1.0000 - Val_loss : 0.3799 - Val_Acc: 0.5750  - Time: 11.589921474456787\n",
      "\n"
     ]
    },
    {
     "name": "stderr",
     "output_type": "stream",
     "text": [
      "100%|█████████████████████████████████████████████| 9/9 [00:08<00:00,  1.08it/s]\n",
      "100%|█████████████████████████████████████████████| 4/4 [00:03<00:00,  1.07it/s]\n"
     ]
    },
    {
     "name": "stdout",
     "output_type": "stream",
     "text": [
      "Epoch : 830 - Train_loss : 0.0000 - Train_Acc: 1.0000 - Val_loss : 0.3805 - Val_Acc: 0.5750  - Time: 12.051069736480713\n",
      "\n"
     ]
    },
    {
     "name": "stderr",
     "output_type": "stream",
     "text": [
      "100%|█████████████████████████████████████████████| 9/9 [00:08<00:00,  1.04it/s]\n",
      "100%|█████████████████████████████████████████████| 4/4 [00:03<00:00,  1.04it/s]\n"
     ]
    },
    {
     "name": "stdout",
     "output_type": "stream",
     "text": [
      "Epoch : 831 - Train_loss : 0.0000 - Train_Acc: 1.0000 - Val_loss : 0.3808 - Val_Acc: 0.5750  - Time: 12.539544343948364\n",
      "\n"
     ]
    },
    {
     "name": "stderr",
     "output_type": "stream",
     "text": [
      "100%|█████████████████████████████████████████████| 9/9 [00:08<00:00,  1.09it/s]\n",
      "100%|█████████████████████████████████████████████| 4/4 [00:03<00:00,  1.04it/s]\n"
     ]
    },
    {
     "name": "stdout",
     "output_type": "stream",
     "text": [
      "Epoch : 832 - Train_loss : 0.0000 - Train_Acc: 1.0000 - Val_loss : 0.3811 - Val_Acc: 0.5750  - Time: 12.098835229873657\n",
      "\n"
     ]
    },
    {
     "name": "stderr",
     "output_type": "stream",
     "text": [
      "100%|█████████████████████████████████████████████| 9/9 [00:08<00:00,  1.09it/s]\n",
      "100%|█████████████████████████████████████████████| 4/4 [00:03<00:00,  1.06it/s]\n"
     ]
    },
    {
     "name": "stdout",
     "output_type": "stream",
     "text": [
      "Epoch : 833 - Train_loss : 0.0000 - Train_Acc: 1.0000 - Val_loss : 0.3812 - Val_Acc: 0.5750  - Time: 12.018769264221191\n",
      "\n"
     ]
    },
    {
     "name": "stderr",
     "output_type": "stream",
     "text": [
      "100%|█████████████████████████████████████████████| 9/9 [00:07<00:00,  1.15it/s]\n",
      "100%|█████████████████████████████████████████████| 4/4 [00:03<00:00,  1.08it/s]\n"
     ]
    },
    {
     "name": "stdout",
     "output_type": "stream",
     "text": [
      "Epoch : 834 - Train_loss : 0.0000 - Train_Acc: 1.0000 - Val_loss : 0.3817 - Val_Acc: 0.5750  - Time: 11.51585578918457\n",
      "\n"
     ]
    },
    {
     "name": "stderr",
     "output_type": "stream",
     "text": [
      "100%|█████████████████████████████████████████████| 9/9 [00:09<00:00,  1.02s/it]\n",
      "100%|█████████████████████████████████████████████| 4/4 [00:03<00:00,  1.12it/s]\n"
     ]
    },
    {
     "name": "stdout",
     "output_type": "stream",
     "text": [
      "Epoch : 835 - Train_loss : 0.0000 - Train_Acc: 1.0000 - Val_loss : 0.3821 - Val_Acc: 0.5750  - Time: 12.807293891906738\n",
      "\n"
     ]
    },
    {
     "name": "stderr",
     "output_type": "stream",
     "text": [
      "100%|█████████████████████████████████████████████| 9/9 [00:08<00:00,  1.07it/s]\n",
      "100%|█████████████████████████████████████████████| 4/4 [00:03<00:00,  1.09it/s]\n"
     ]
    },
    {
     "name": "stdout",
     "output_type": "stream",
     "text": [
      "Epoch : 836 - Train_loss : 0.0000 - Train_Acc: 1.0000 - Val_loss : 0.3824 - Val_Acc: 0.5750  - Time: 12.089486598968506\n",
      "\n"
     ]
    },
    {
     "name": "stderr",
     "output_type": "stream",
     "text": [
      "100%|█████████████████████████████████████████████| 9/9 [00:08<00:00,  1.06it/s]\n",
      "100%|█████████████████████████████████████████████| 4/4 [00:04<00:00,  1.02s/it]\n"
     ]
    },
    {
     "name": "stdout",
     "output_type": "stream",
     "text": [
      "Epoch : 837 - Train_loss : 0.0000 - Train_Acc: 1.0000 - Val_loss : 0.3825 - Val_Acc: 0.5750  - Time: 12.553126811981201\n",
      "\n"
     ]
    },
    {
     "name": "stderr",
     "output_type": "stream",
     "text": [
      "100%|█████████████████████████████████████████████| 9/9 [00:08<00:00,  1.08it/s]\n",
      "100%|█████████████████████████████████████████████| 4/4 [00:04<00:00,  1.03s/it]\n"
     ]
    },
    {
     "name": "stdout",
     "output_type": "stream",
     "text": [
      "Epoch : 838 - Train_loss : 0.0000 - Train_Acc: 1.0000 - Val_loss : 0.3832 - Val_Acc: 0.5750  - Time: 12.473828077316284\n",
      "\n"
     ]
    },
    {
     "name": "stderr",
     "output_type": "stream",
     "text": [
      "100%|█████████████████████████████████████████████| 9/9 [00:07<00:00,  1.13it/s]\n",
      "100%|█████████████████████████████████████████████| 4/4 [00:03<00:00,  1.02it/s]\n"
     ]
    },
    {
     "name": "stdout",
     "output_type": "stream",
     "text": [
      "Epoch : 839 - Train_loss : 0.0000 - Train_Acc: 1.0000 - Val_loss : 0.3867 - Val_Acc: 0.5750  - Time: 11.863926649093628\n",
      "\n"
     ]
    },
    {
     "name": "stderr",
     "output_type": "stream",
     "text": [
      "100%|█████████████████████████████████████████████| 9/9 [00:08<00:00,  1.08it/s]\n",
      "100%|█████████████████████████████████████████████| 4/4 [00:03<00:00,  1.18it/s]\n"
     ]
    },
    {
     "name": "stdout",
     "output_type": "stream",
     "text": [
      "Epoch : 840 - Train_loss : 0.0000 - Train_Acc: 1.0000 - Val_loss : 0.3884 - Val_Acc: 0.5667  - Time: 11.69106149673462\n",
      "\n"
     ]
    },
    {
     "name": "stderr",
     "output_type": "stream",
     "text": [
      "100%|█████████████████████████████████████████████| 9/9 [00:08<00:00,  1.05it/s]\n",
      "100%|█████████████████████████████████████████████| 4/4 [00:03<00:00,  1.09it/s]\n"
     ]
    },
    {
     "name": "stdout",
     "output_type": "stream",
     "text": [
      "Epoch : 841 - Train_loss : 0.0000 - Train_Acc: 1.0000 - Val_loss : 0.3885 - Val_Acc: 0.5667  - Time: 12.28838300704956\n",
      "\n"
     ]
    },
    {
     "name": "stderr",
     "output_type": "stream",
     "text": [
      "100%|█████████████████████████████████████████████| 9/9 [00:09<00:00,  1.03s/it]\n",
      "100%|█████████████████████████████████████████████| 4/4 [00:03<00:00,  1.06it/s]\n"
     ]
    },
    {
     "name": "stdout",
     "output_type": "stream",
     "text": [
      "Epoch : 842 - Train_loss : 0.0000 - Train_Acc: 1.0000 - Val_loss : 0.3887 - Val_Acc: 0.5667  - Time: 13.077138900756836\n",
      "\n"
     ]
    },
    {
     "name": "stderr",
     "output_type": "stream",
     "text": [
      "100%|█████████████████████████████████████████████| 9/9 [00:08<00:00,  1.07it/s]\n",
      "100%|█████████████████████████████████████████████| 4/4 [00:04<00:00,  1.01s/it]\n"
     ]
    },
    {
     "name": "stdout",
     "output_type": "stream",
     "text": [
      "Epoch : 843 - Train_loss : 0.0000 - Train_Acc: 1.0000 - Val_loss : 0.3887 - Val_Acc: 0.5667  - Time: 12.470765113830566\n",
      "\n"
     ]
    },
    {
     "name": "stderr",
     "output_type": "stream",
     "text": [
      "100%|█████████████████████████████████████████████| 9/9 [00:08<00:00,  1.12it/s]\n",
      "100%|█████████████████████████████████████████████| 4/4 [00:04<00:00,  1.01s/it]\n"
     ]
    },
    {
     "name": "stdout",
     "output_type": "stream",
     "text": [
      "Epoch : 844 - Train_loss : 0.0000 - Train_Acc: 1.0000 - Val_loss : 0.3888 - Val_Acc: 0.5667  - Time: 12.06191897392273\n",
      "\n"
     ]
    },
    {
     "name": "stderr",
     "output_type": "stream",
     "text": [
      "100%|█████████████████████████████████████████████| 9/9 [00:08<00:00,  1.09it/s]\n",
      "100%|█████████████████████████████████████████████| 4/4 [00:03<00:00,  1.14it/s]\n"
     ]
    },
    {
     "name": "stdout",
     "output_type": "stream",
     "text": [
      "Epoch : 845 - Train_loss : 0.0000 - Train_Acc: 1.0000 - Val_loss : 0.3885 - Val_Acc: 0.5667  - Time: 11.755149364471436\n",
      "\n"
     ]
    },
    {
     "name": "stderr",
     "output_type": "stream",
     "text": [
      "100%|█████████████████████████████████████████████| 9/9 [00:08<00:00,  1.07it/s]\n",
      "100%|█████████████████████████████████████████████| 4/4 [00:03<00:00,  1.15it/s]\n"
     ]
    },
    {
     "name": "stdout",
     "output_type": "stream",
     "text": [
      "Epoch : 846 - Train_loss : 0.0000 - Train_Acc: 1.0000 - Val_loss : 0.3881 - Val_Acc: 0.5750  - Time: 11.862974405288696\n",
      "\n"
     ]
    },
    {
     "name": "stderr",
     "output_type": "stream",
     "text": [
      "100%|█████████████████████████████████████████████| 9/9 [00:07<00:00,  1.13it/s]\n",
      "100%|█████████████████████████████████████████████| 4/4 [00:03<00:00,  1.10it/s]\n"
     ]
    },
    {
     "name": "stdout",
     "output_type": "stream",
     "text": [
      "Epoch : 847 - Train_loss : 0.0000 - Train_Acc: 1.0000 - Val_loss : 0.3879 - Val_Acc: 0.5750  - Time: 11.57738995552063\n",
      "\n"
     ]
    },
    {
     "name": "stderr",
     "output_type": "stream",
     "text": [
      "100%|█████████████████████████████████████████████| 9/9 [00:08<00:00,  1.08it/s]\n",
      "100%|█████████████████████████████████████████████| 4/4 [00:03<00:00,  1.06it/s]\n"
     ]
    },
    {
     "name": "stdout",
     "output_type": "stream",
     "text": [
      "Epoch : 848 - Train_loss : 0.0000 - Train_Acc: 1.0000 - Val_loss : 0.3879 - Val_Acc: 0.5750  - Time: 12.109599351882935\n",
      "\n"
     ]
    },
    {
     "name": "stderr",
     "output_type": "stream",
     "text": [
      "100%|█████████████████████████████████████████████| 9/9 [00:08<00:00,  1.05it/s]\n",
      "100%|█████████████████████████████████████████████| 4/4 [00:04<00:00,  1.10s/it]\n"
     ]
    },
    {
     "name": "stdout",
     "output_type": "stream",
     "text": [
      "Epoch : 849 - Train_loss : 0.0000 - Train_Acc: 1.0000 - Val_loss : 0.3879 - Val_Acc: 0.5750  - Time: 12.998692989349365\n",
      "\n"
     ]
    },
    {
     "name": "stderr",
     "output_type": "stream",
     "text": [
      "100%|█████████████████████████████████████████████| 9/9 [00:08<00:00,  1.11it/s]\n",
      "100%|█████████████████████████████████████████████| 4/4 [00:04<00:00,  1.13s/it]\n"
     ]
    },
    {
     "name": "stdout",
     "output_type": "stream",
     "text": [
      "Epoch : 850 - Train_loss : 0.0000 - Train_Acc: 1.0000 - Val_loss : 0.3880 - Val_Acc: 0.5750  - Time: 12.595929622650146\n",
      "\n"
     ]
    },
    {
     "name": "stderr",
     "output_type": "stream",
     "text": [
      "100%|█████████████████████████████████████████████| 9/9 [00:09<00:00,  1.08s/it]\n",
      "100%|█████████████████████████████████████████████| 4/4 [00:04<00:00,  1.01s/it]\n"
     ]
    },
    {
     "name": "stdout",
     "output_type": "stream",
     "text": [
      "Epoch : 851 - Train_loss : 0.0000 - Train_Acc: 1.0000 - Val_loss : 0.3882 - Val_Acc: 0.5750  - Time: 13.742104053497314\n",
      "\n"
     ]
    },
    {
     "name": "stderr",
     "output_type": "stream",
     "text": [
      "100%|█████████████████████████████████████████████| 9/9 [00:08<00:00,  1.02it/s]\n",
      "100%|█████████████████████████████████████████████| 4/4 [00:03<00:00,  1.12it/s]\n"
     ]
    },
    {
     "name": "stdout",
     "output_type": "stream",
     "text": [
      "Epoch : 852 - Train_loss : 0.0000 - Train_Acc: 1.0000 - Val_loss : 0.3888 - Val_Acc: 0.5750  - Time: 12.387974739074707\n",
      "\n"
     ]
    },
    {
     "name": "stderr",
     "output_type": "stream",
     "text": [
      "100%|█████████████████████████████████████████████| 9/9 [00:08<00:00,  1.10it/s]\n",
      "100%|█████████████████████████████████████████████| 4/4 [00:04<00:00,  1.03s/it]\n"
     ]
    },
    {
     "name": "stdout",
     "output_type": "stream",
     "text": [
      "Epoch : 853 - Train_loss : 0.0000 - Train_Acc: 1.0000 - Val_loss : 0.3894 - Val_Acc: 0.5750  - Time: 12.294486999511719\n",
      "\n"
     ]
    },
    {
     "name": "stderr",
     "output_type": "stream",
     "text": [
      "100%|█████████████████████████████████████████████| 9/9 [00:07<00:00,  1.16it/s]\n",
      "100%|█████████████████████████████████████████████| 4/4 [00:04<00:00,  1.01s/it]\n"
     ]
    },
    {
     "name": "stdout",
     "output_type": "stream",
     "text": [
      "Epoch : 854 - Train_loss : 0.0000 - Train_Acc: 1.0000 - Val_loss : 0.3900 - Val_Acc: 0.5750  - Time: 11.78239917755127\n",
      "\n"
     ]
    },
    {
     "name": "stderr",
     "output_type": "stream",
     "text": [
      "100%|█████████████████████████████████████████████| 9/9 [00:08<00:00,  1.04it/s]\n",
      "100%|█████████████████████████████████████████████| 4/4 [00:03<00:00,  1.09it/s]\n"
     ]
    },
    {
     "name": "stdout",
     "output_type": "stream",
     "text": [
      "Epoch : 855 - Train_loss : 0.0000 - Train_Acc: 1.0000 - Val_loss : 0.3893 - Val_Acc: 0.5750  - Time: 12.298656463623047\n",
      "\n"
     ]
    },
    {
     "name": "stderr",
     "output_type": "stream",
     "text": [
      "100%|█████████████████████████████████████████████| 9/9 [00:09<00:00,  1.03s/it]\n",
      "100%|█████████████████████████████████████████████| 4/4 [00:03<00:00,  1.06it/s]\n"
     ]
    },
    {
     "name": "stdout",
     "output_type": "stream",
     "text": [
      "Epoch : 856 - Train_loss : 0.0000 - Train_Acc: 1.0000 - Val_loss : 0.3892 - Val_Acc: 0.5750  - Time: 13.040590763092041\n",
      "\n"
     ]
    },
    {
     "name": "stderr",
     "output_type": "stream",
     "text": [
      "100%|█████████████████████████████████████████████| 9/9 [00:08<00:00,  1.00it/s]\n",
      "100%|█████████████████████████████████████████████| 4/4 [00:03<00:00,  1.10it/s]\n"
     ]
    },
    {
     "name": "stdout",
     "output_type": "stream",
     "text": [
      "Epoch : 857 - Train_loss : 0.0000 - Train_Acc: 1.0000 - Val_loss : 0.3891 - Val_Acc: 0.5750  - Time: 12.644789934158325\n",
      "\n"
     ]
    },
    {
     "name": "stderr",
     "output_type": "stream",
     "text": [
      "100%|█████████████████████████████████████████████| 9/9 [00:07<00:00,  1.17it/s]\n",
      "100%|█████████████████████████████████████████████| 4/4 [00:04<00:00,  1.08s/it]\n"
     ]
    },
    {
     "name": "stdout",
     "output_type": "stream",
     "text": [
      "Epoch : 858 - Train_loss : 0.0000 - Train_Acc: 1.0000 - Val_loss : 0.3893 - Val_Acc: 0.5750  - Time: 12.034620761871338\n",
      "\n"
     ]
    },
    {
     "name": "stderr",
     "output_type": "stream",
     "text": [
      "100%|█████████████████████████████████████████████| 9/9 [00:08<00:00,  1.12it/s]\n",
      "100%|█████████████████████████████████████████████| 4/4 [00:03<00:00,  1.00it/s]\n"
     ]
    },
    {
     "name": "stdout",
     "output_type": "stream",
     "text": [
      "Epoch : 859 - Train_loss : 0.0000 - Train_Acc: 1.0000 - Val_loss : 0.3893 - Val_Acc: 0.5750  - Time: 12.019594192504883\n",
      "\n"
     ]
    },
    {
     "name": "stderr",
     "output_type": "stream",
     "text": [
      "100%|█████████████████████████████████████████████| 9/9 [00:08<00:00,  1.07it/s]\n",
      "100%|█████████████████████████████████████████████| 4/4 [00:03<00:00,  1.13it/s]\n"
     ]
    },
    {
     "name": "stdout",
     "output_type": "stream",
     "text": [
      "Epoch : 860 - Train_loss : 0.0000 - Train_Acc: 1.0000 - Val_loss : 0.3898 - Val_Acc: 0.5750  - Time: 11.947086334228516\n",
      "\n"
     ]
    },
    {
     "name": "stderr",
     "output_type": "stream",
     "text": [
      "100%|█████████████████████████████████████████████| 9/9 [00:09<00:00,  1.06s/it]\n",
      "100%|█████████████████████████████████████████████| 4/4 [00:03<00:00,  1.07it/s]\n"
     ]
    },
    {
     "name": "stdout",
     "output_type": "stream",
     "text": [
      "Epoch : 861 - Train_loss : 0.0000 - Train_Acc: 1.0000 - Val_loss : 0.3894 - Val_Acc: 0.5750  - Time: 13.264035940170288\n",
      "\n"
     ]
    },
    {
     "name": "stderr",
     "output_type": "stream",
     "text": [
      "100%|█████████████████████████████████████████████| 9/9 [00:08<00:00,  1.10it/s]\n",
      "100%|█████████████████████████████████████████████| 4/4 [00:03<00:00,  1.10it/s]\n"
     ]
    },
    {
     "name": "stdout",
     "output_type": "stream",
     "text": [
      "Epoch : 862 - Train_loss : 0.0000 - Train_Acc: 1.0000 - Val_loss : 0.3887 - Val_Acc: 0.5750  - Time: 11.8371262550354\n",
      "\n"
     ]
    },
    {
     "name": "stderr",
     "output_type": "stream",
     "text": [
      "100%|█████████████████████████████████████████████| 9/9 [00:08<00:00,  1.10it/s]\n",
      "100%|█████████████████████████████████████████████| 4/4 [00:03<00:00,  1.01it/s]\n"
     ]
    },
    {
     "name": "stdout",
     "output_type": "stream",
     "text": [
      "Epoch : 863 - Train_loss : 0.0000 - Train_Acc: 1.0000 - Val_loss : 0.3879 - Val_Acc: 0.5750  - Time: 12.134632587432861\n",
      "\n"
     ]
    },
    {
     "name": "stderr",
     "output_type": "stream",
     "text": [
      "100%|█████████████████████████████████████████████| 9/9 [00:07<00:00,  1.16it/s]\n",
      "100%|█████████████████████████████████████████████| 4/4 [00:02<00:00,  1.35it/s]\n"
     ]
    },
    {
     "name": "stdout",
     "output_type": "stream",
     "text": [
      "Epoch : 864 - Train_loss : 0.0000 - Train_Acc: 1.0000 - Val_loss : 0.3872 - Val_Acc: 0.5667  - Time: 10.756431102752686\n",
      "\n"
     ]
    },
    {
     "name": "stderr",
     "output_type": "stream",
     "text": [
      "100%|█████████████████████████████████████████████| 9/9 [00:06<00:00,  1.47it/s]\n",
      "100%|█████████████████████████████████████████████| 4/4 [00:02<00:00,  1.50it/s]\n"
     ]
    },
    {
     "name": "stdout",
     "output_type": "stream",
     "text": [
      "Epoch : 865 - Train_loss : 0.0000 - Train_Acc: 1.0000 - Val_loss : 0.3876 - Val_Acc: 0.5750  - Time: 8.808610677719116\n",
      "\n"
     ]
    },
    {
     "name": "stderr",
     "output_type": "stream",
     "text": [
      "100%|█████████████████████████████████████████████| 9/9 [00:06<00:00,  1.41it/s]\n",
      "100%|█████████████████████████████████████████████| 4/4 [00:02<00:00,  1.40it/s]\n"
     ]
    },
    {
     "name": "stdout",
     "output_type": "stream",
     "text": [
      "Epoch : 866 - Train_loss : 0.0000 - Train_Acc: 1.0000 - Val_loss : 0.3895 - Val_Acc: 0.5667  - Time: 9.257304191589355\n",
      "\n"
     ]
    },
    {
     "name": "stderr",
     "output_type": "stream",
     "text": [
      "100%|█████████████████████████████████████████████| 9/9 [00:06<00:00,  1.32it/s]\n",
      "100%|█████████████████████████████████████████████| 4/4 [00:02<00:00,  1.37it/s]\n"
     ]
    },
    {
     "name": "stdout",
     "output_type": "stream",
     "text": [
      "Epoch : 867 - Train_loss : 0.0000 - Train_Acc: 1.0000 - Val_loss : 0.3909 - Val_Acc: 0.5667  - Time: 9.720397710800171\n",
      "\n"
     ]
    },
    {
     "name": "stderr",
     "output_type": "stream",
     "text": [
      "100%|█████████████████████████████████████████████| 9/9 [00:06<00:00,  1.47it/s]\n",
      "100%|█████████████████████████████████████████████| 4/4 [00:02<00:00,  1.45it/s]\n"
     ]
    },
    {
     "name": "stdout",
     "output_type": "stream",
     "text": [
      "Epoch : 868 - Train_loss : 0.0000 - Train_Acc: 1.0000 - Val_loss : 0.3862 - Val_Acc: 0.5667  - Time: 8.877121448516846\n",
      "\n"
     ]
    },
    {
     "name": "stderr",
     "output_type": "stream",
     "text": [
      "100%|█████████████████████████████████████████████| 9/9 [00:06<00:00,  1.33it/s]\n",
      "100%|█████████████████████████████████████████████| 4/4 [00:02<00:00,  1.48it/s]\n"
     ]
    },
    {
     "name": "stdout",
     "output_type": "stream",
     "text": [
      "Epoch : 869 - Train_loss : 0.0000 - Train_Acc: 1.0000 - Val_loss : 0.3811 - Val_Acc: 0.5750  - Time: 9.475555419921875\n",
      "\n"
     ]
    },
    {
     "name": "stderr",
     "output_type": "stream",
     "text": [
      "100%|█████████████████████████████████████████████| 9/9 [00:05<00:00,  1.52it/s]\n",
      "100%|█████████████████████████████████████████████| 4/4 [00:02<00:00,  1.55it/s]\n"
     ]
    },
    {
     "name": "stdout",
     "output_type": "stream",
     "text": [
      "Epoch : 870 - Train_loss : 0.0000 - Train_Acc: 1.0000 - Val_loss : 0.3790 - Val_Acc: 0.5750  - Time: 8.520256280899048\n",
      "\n"
     ]
    },
    {
     "name": "stderr",
     "output_type": "stream",
     "text": [
      "100%|█████████████████████████████████████████████| 9/9 [00:05<00:00,  1.50it/s]\n",
      "100%|█████████████████████████████████████████████| 4/4 [00:02<00:00,  1.53it/s]\n"
     ]
    },
    {
     "name": "stdout",
     "output_type": "stream",
     "text": [
      "Epoch : 871 - Train_loss : 0.0000 - Train_Acc: 1.0000 - Val_loss : 0.3782 - Val_Acc: 0.5667  - Time: 8.608545064926147\n",
      "\n"
     ]
    },
    {
     "name": "stderr",
     "output_type": "stream",
     "text": [
      "100%|█████████████████████████████████████████████| 9/9 [00:06<00:00,  1.49it/s]\n",
      "100%|█████████████████████████████████████████████| 4/4 [00:02<00:00,  1.53it/s]\n"
     ]
    },
    {
     "name": "stdout",
     "output_type": "stream",
     "text": [
      "Epoch : 872 - Train_loss : 0.0000 - Train_Acc: 1.0000 - Val_loss : 0.3785 - Val_Acc: 0.5667  - Time: 8.658215999603271\n",
      "\n"
     ]
    },
    {
     "name": "stderr",
     "output_type": "stream",
     "text": [
      "100%|█████████████████████████████████████████████| 9/9 [00:06<00:00,  1.48it/s]\n",
      "100%|█████████████████████████████████████████████| 4/4 [00:02<00:00,  1.54it/s]\n"
     ]
    },
    {
     "name": "stdout",
     "output_type": "stream",
     "text": [
      "Epoch : 873 - Train_loss : 0.0000 - Train_Acc: 1.0000 - Val_loss : 0.3793 - Val_Acc: 0.5667  - Time: 8.705290794372559\n",
      "\n"
     ]
    },
    {
     "name": "stderr",
     "output_type": "stream",
     "text": [
      "100%|█████████████████████████████████████████████| 9/9 [00:06<00:00,  1.46it/s]\n",
      "100%|█████████████████████████████████████████████| 4/4 [00:02<00:00,  1.54it/s]\n"
     ]
    },
    {
     "name": "stdout",
     "output_type": "stream",
     "text": [
      "Epoch : 874 - Train_loss : 0.0000 - Train_Acc: 1.0000 - Val_loss : 0.3871 - Val_Acc: 0.5750  - Time: 8.770283699035645\n",
      "\n"
     ]
    },
    {
     "name": "stderr",
     "output_type": "stream",
     "text": [
      "100%|█████████████████████████████████████████████| 9/9 [00:05<00:00,  1.52it/s]\n",
      "100%|█████████████████████████████████████████████| 4/4 [00:02<00:00,  1.54it/s]\n"
     ]
    },
    {
     "name": "stdout",
     "output_type": "stream",
     "text": [
      "Epoch : 875 - Train_loss : 0.0000 - Train_Acc: 1.0000 - Val_loss : 0.3900 - Val_Acc: 0.5750  - Time: 8.513314247131348\n",
      "\n"
     ]
    },
    {
     "name": "stderr",
     "output_type": "stream",
     "text": [
      "100%|█████████████████████████████████████████████| 9/9 [00:06<00:00,  1.48it/s]\n",
      "100%|█████████████████████████████████████████████| 4/4 [00:02<00:00,  1.51it/s]\n"
     ]
    },
    {
     "name": "stdout",
     "output_type": "stream",
     "text": [
      "Epoch : 876 - Train_loss : 0.0000 - Train_Acc: 1.0000 - Val_loss : 0.3909 - Val_Acc: 0.5750  - Time: 8.72512412071228\n",
      "\n"
     ]
    },
    {
     "name": "stderr",
     "output_type": "stream",
     "text": [
      "100%|█████████████████████████████████████████████| 9/9 [00:06<00:00,  1.37it/s]\n",
      "100%|█████████████████████████████████████████████| 4/4 [00:02<00:00,  1.41it/s]\n"
     ]
    },
    {
     "name": "stdout",
     "output_type": "stream",
     "text": [
      "Epoch : 877 - Train_loss : 0.0000 - Train_Acc: 1.0000 - Val_loss : 0.3910 - Val_Acc: 0.5750  - Time: 9.43231201171875\n",
      "\n"
     ]
    },
    {
     "name": "stderr",
     "output_type": "stream",
     "text": [
      "100%|█████████████████████████████████████████████| 9/9 [00:06<00:00,  1.48it/s]\n",
      "100%|█████████████████████████████████████████████| 4/4 [00:02<00:00,  1.49it/s]\n"
     ]
    },
    {
     "name": "stdout",
     "output_type": "stream",
     "text": [
      "Epoch : 878 - Train_loss : 0.0000 - Train_Acc: 1.0000 - Val_loss : 0.3912 - Val_Acc: 0.5750  - Time: 8.77331805229187\n",
      "\n"
     ]
    },
    {
     "name": "stderr",
     "output_type": "stream",
     "text": [
      "100%|█████████████████████████████████████████████| 9/9 [00:06<00:00,  1.50it/s]\n",
      "100%|█████████████████████████████████████████████| 4/4 [00:02<00:00,  1.50it/s]\n"
     ]
    },
    {
     "name": "stdout",
     "output_type": "stream",
     "text": [
      "Epoch : 879 - Train_loss : 0.0000 - Train_Acc: 1.0000 - Val_loss : 0.3914 - Val_Acc: 0.5750  - Time: 8.678089141845703\n",
      "\n"
     ]
    },
    {
     "name": "stderr",
     "output_type": "stream",
     "text": [
      "100%|█████████████████████████████████████████████| 9/9 [00:06<00:00,  1.41it/s]\n",
      "100%|█████████████████████████████████████████████| 4/4 [00:02<00:00,  1.35it/s]\n"
     ]
    },
    {
     "name": "stdout",
     "output_type": "stream",
     "text": [
      "Epoch : 880 - Train_loss : 0.0000 - Train_Acc: 1.0000 - Val_loss : 0.3910 - Val_Acc: 0.5750  - Time: 9.350734233856201\n",
      "\n"
     ]
    },
    {
     "name": "stderr",
     "output_type": "stream",
     "text": [
      "100%|█████████████████████████████████████████████| 9/9 [00:06<00:00,  1.36it/s]\n",
      "100%|█████████████████████████████████████████████| 4/4 [00:02<00:00,  1.51it/s]\n"
     ]
    },
    {
     "name": "stdout",
     "output_type": "stream",
     "text": [
      "Epoch : 881 - Train_loss : 0.0000 - Train_Acc: 1.0000 - Val_loss : 0.4066 - Val_Acc: 0.5667  - Time: 9.259297847747803\n",
      "\n"
     ]
    },
    {
     "name": "stderr",
     "output_type": "stream",
     "text": [
      "100%|█████████████████████████████████████████████| 9/9 [00:06<00:00,  1.47it/s]\n",
      "100%|█████████████████████████████████████████████| 4/4 [00:02<00:00,  1.49it/s]\n"
     ]
    },
    {
     "name": "stdout",
     "output_type": "stream",
     "text": [
      "Epoch : 882 - Train_loss : 0.0000 - Train_Acc: 1.0000 - Val_loss : 0.3954 - Val_Acc: 0.5583  - Time: 8.815945625305176\n",
      "\n"
     ]
    },
    {
     "name": "stderr",
     "output_type": "stream",
     "text": [
      "100%|█████████████████████████████████████████████| 9/9 [00:06<00:00,  1.47it/s]\n",
      "100%|█████████████████████████████████████████████| 4/4 [00:02<00:00,  1.49it/s]\n"
     ]
    },
    {
     "name": "stdout",
     "output_type": "stream",
     "text": [
      "Epoch : 883 - Train_loss : 0.0000 - Train_Acc: 1.0000 - Val_loss : 0.3100 - Val_Acc: 0.5167  - Time: 8.80220341682434\n",
      "\n"
     ]
    },
    {
     "name": "stderr",
     "output_type": "stream",
     "text": [
      "100%|█████████████████████████████████████████████| 9/9 [00:06<00:00,  1.47it/s]\n",
      "100%|█████████████████████████████████████████████| 4/4 [00:02<00:00,  1.50it/s]\n"
     ]
    },
    {
     "name": "stdout",
     "output_type": "stream",
     "text": [
      "Epoch : 884 - Train_loss : 0.0940 - Train_Acc: 0.9643 - Val_loss : 0.3196 - Val_Acc: 0.4833  - Time: 8.802370071411133\n",
      "\n"
     ]
    },
    {
     "name": "stderr",
     "output_type": "stream",
     "text": [
      "100%|█████████████████████████████████████████████| 9/9 [00:06<00:00,  1.46it/s]\n",
      "100%|█████████████████████████████████████████████| 4/4 [00:03<00:00,  1.33it/s]\n"
     ]
    },
    {
     "name": "stdout",
     "output_type": "stream",
     "text": [
      "Epoch : 885 - Train_loss : 1.2940 - Train_Acc: 0.6286 - Val_loss : 0.2992 - Val_Acc: 0.4333  - Time: 9.189322233200073\n",
      "\n"
     ]
    },
    {
     "name": "stderr",
     "output_type": "stream",
     "text": [
      "100%|█████████████████████████████████████████████| 9/9 [00:06<00:00,  1.46it/s]\n",
      "100%|█████████████████████████████████████████████| 4/4 [00:02<00:00,  1.51it/s]\n"
     ]
    },
    {
     "name": "stdout",
     "output_type": "stream",
     "text": [
      "Epoch : 886 - Train_loss : 0.8731 - Train_Acc: 0.6679 - Val_loss : 0.2770 - Val_Acc: 0.4583  - Time: 8.810375213623047\n",
      "\n"
     ]
    },
    {
     "name": "stderr",
     "output_type": "stream",
     "text": [
      "100%|█████████████████████████████████████████████| 9/9 [00:05<00:00,  1.52it/s]\n",
      "100%|█████████████████████████████████████████████| 4/4 [00:02<00:00,  1.51it/s]\n"
     ]
    },
    {
     "name": "stdout",
     "output_type": "stream",
     "text": [
      "Epoch : 887 - Train_loss : 0.5067 - Train_Acc: 0.7893 - Val_loss : 0.2769 - Val_Acc: 0.4250  - Time: 8.578890800476074\n",
      "\n"
     ]
    },
    {
     "name": "stderr",
     "output_type": "stream",
     "text": [
      "100%|█████████████████████████████████████████████| 9/9 [00:06<00:00,  1.43it/s]\n",
      "100%|█████████████████████████████████████████████| 4/4 [00:03<00:00,  1.29it/s]\n"
     ]
    },
    {
     "name": "stdout",
     "output_type": "stream",
     "text": [
      "Epoch : 888 - Train_loss : 0.2252 - Train_Acc: 0.9286 - Val_loss : 0.2306 - Val_Acc: 0.4333  - Time: 9.406323194503784\n",
      "\n"
     ]
    },
    {
     "name": "stderr",
     "output_type": "stream",
     "text": [
      "100%|█████████████████████████████████████████████| 9/9 [00:06<00:00,  1.42it/s]\n",
      "100%|█████████████████████████████████████████████| 4/4 [00:03<00:00,  1.26it/s]\n"
     ]
    },
    {
     "name": "stdout",
     "output_type": "stream",
     "text": [
      "Epoch : 889 - Train_loss : 0.0729 - Train_Acc: 0.9857 - Val_loss : 0.2089 - Val_Acc: 0.5083  - Time: 9.527950048446655\n",
      "\n"
     ]
    },
    {
     "name": "stderr",
     "output_type": "stream",
     "text": [
      "100%|█████████████████████████████████████████████| 9/9 [00:06<00:00,  1.35it/s]\n",
      "100%|█████████████████████████████████████████████| 4/4 [00:02<00:00,  1.41it/s]\n"
     ]
    },
    {
     "name": "stdout",
     "output_type": "stream",
     "text": [
      "Epoch : 890 - Train_loss : 0.0599 - Train_Acc: 0.9857 - Val_loss : 0.2477 - Val_Acc: 0.5250  - Time: 9.512128353118896\n",
      "\n"
     ]
    },
    {
     "name": "stderr",
     "output_type": "stream",
     "text": [
      "100%|█████████████████████████████████████████████| 9/9 [00:06<00:00,  1.45it/s]\n",
      "100%|█████████████████████████████████████████████| 4/4 [00:02<00:00,  1.45it/s]\n"
     ]
    },
    {
     "name": "stdout",
     "output_type": "stream",
     "text": [
      "Epoch : 891 - Train_loss : 0.0406 - Train_Acc: 0.9929 - Val_loss : 0.2556 - Val_Acc: 0.5000  - Time: 8.994466781616211\n",
      "\n"
     ]
    },
    {
     "name": "stderr",
     "output_type": "stream",
     "text": [
      "100%|█████████████████████████████████████████████| 9/9 [00:06<00:00,  1.45it/s]\n",
      "100%|█████████████████████████████████████████████| 4/4 [00:02<00:00,  1.47it/s]\n"
     ]
    },
    {
     "name": "stdout",
     "output_type": "stream",
     "text": [
      "Epoch : 892 - Train_loss : 0.0136 - Train_Acc: 1.0000 - Val_loss : 0.2520 - Val_Acc: 0.4833  - Time: 8.936546802520752\n",
      "\n"
     ]
    },
    {
     "name": "stderr",
     "output_type": "stream",
     "text": [
      "100%|█████████████████████████████████████████████| 9/9 [00:06<00:00,  1.50it/s]\n",
      "100%|█████████████████████████████████████████████| 4/4 [00:03<00:00,  1.31it/s]\n"
     ]
    },
    {
     "name": "stdout",
     "output_type": "stream",
     "text": [
      "Epoch : 893 - Train_loss : 0.0113 - Train_Acc: 1.0000 - Val_loss : 0.2463 - Val_Acc: 0.4750  - Time: 9.085953950881958\n",
      "\n"
     ]
    },
    {
     "name": "stderr",
     "output_type": "stream",
     "text": [
      "100%|█████████████████████████████████████████████| 9/9 [00:06<00:00,  1.38it/s]\n",
      "100%|█████████████████████████████████████████████| 4/4 [00:02<00:00,  1.49it/s]\n"
     ]
    },
    {
     "name": "stdout",
     "output_type": "stream",
     "text": [
      "Epoch : 894 - Train_loss : 0.0059 - Train_Acc: 1.0000 - Val_loss : 0.2437 - Val_Acc: 0.4667  - Time: 9.221117734909058\n",
      "\n"
     ]
    },
    {
     "name": "stderr",
     "output_type": "stream",
     "text": [
      "100%|█████████████████████████████████████████████| 9/9 [00:06<00:00,  1.34it/s]\n",
      "100%|█████████████████████████████████████████████| 4/4 [00:02<00:00,  1.41it/s]\n"
     ]
    },
    {
     "name": "stdout",
     "output_type": "stream",
     "text": [
      "Epoch : 895 - Train_loss : 0.0035 - Train_Acc: 1.0000 - Val_loss : 0.2427 - Val_Acc: 0.4750  - Time: 9.553901433944702\n",
      "\n"
     ]
    },
    {
     "name": "stderr",
     "output_type": "stream",
     "text": [
      "100%|█████████████████████████████████████████████| 9/9 [00:06<00:00,  1.43it/s]\n",
      "100%|█████████████████████████████████████████████| 4/4 [00:02<00:00,  1.39it/s]\n"
     ]
    },
    {
     "name": "stdout",
     "output_type": "stream",
     "text": [
      "Epoch : 896 - Train_loss : 0.0017 - Train_Acc: 1.0000 - Val_loss : 0.2412 - Val_Acc: 0.4917  - Time: 9.171979665756226\n",
      "\n"
     ]
    },
    {
     "name": "stderr",
     "output_type": "stream",
     "text": [
      "100%|█████████████████████████████████████████████| 9/9 [00:06<00:00,  1.33it/s]\n",
      "100%|█████████████████████████████████████████████| 4/4 [00:02<00:00,  1.38it/s]\n"
     ]
    },
    {
     "name": "stdout",
     "output_type": "stream",
     "text": [
      "Epoch : 897 - Train_loss : 0.0020 - Train_Acc: 1.0000 - Val_loss : 0.2401 - Val_Acc: 0.5000  - Time: 9.658169269561768\n",
      "\n"
     ]
    },
    {
     "name": "stderr",
     "output_type": "stream",
     "text": [
      "100%|█████████████████████████████████████████████| 9/9 [00:06<00:00,  1.33it/s]\n",
      "100%|█████████████████████████████████████████████| 4/4 [00:02<00:00,  1.40it/s]\n"
     ]
    },
    {
     "name": "stdout",
     "output_type": "stream",
     "text": [
      "Epoch : 898 - Train_loss : 0.0016 - Train_Acc: 1.0000 - Val_loss : 0.2382 - Val_Acc: 0.5000  - Time: 9.61911129951477\n",
      "\n"
     ]
    },
    {
     "name": "stderr",
     "output_type": "stream",
     "text": [
      "100%|█████████████████████████████████████████████| 9/9 [00:06<00:00,  1.34it/s]\n",
      "100%|█████████████████████████████████████████████| 4/4 [00:02<00:00,  1.41it/s]\n"
     ]
    },
    {
     "name": "stdout",
     "output_type": "stream",
     "text": [
      "Epoch : 899 - Train_loss : 0.0022 - Train_Acc: 1.0000 - Val_loss : 0.2373 - Val_Acc: 0.5000  - Time: 9.556408643722534\n",
      "\n"
     ]
    },
    {
     "name": "stderr",
     "output_type": "stream",
     "text": [
      "100%|█████████████████████████████████████████████| 9/9 [00:06<00:00,  1.45it/s]\n",
      "100%|█████████████████████████████████████████████| 4/4 [00:02<00:00,  1.45it/s]\n"
     ]
    },
    {
     "name": "stdout",
     "output_type": "stream",
     "text": [
      "Epoch : 900 - Train_loss : 0.0020 - Train_Acc: 1.0000 - Val_loss : 0.2360 - Val_Acc: 0.5000  - Time: 8.967593431472778\n",
      "\n"
     ]
    },
    {
     "name": "stderr",
     "output_type": "stream",
     "text": [
      "100%|█████████████████████████████████████████████| 9/9 [00:06<00:00,  1.41it/s]\n",
      "100%|█████████████████████████████████████████████| 4/4 [00:03<00:00,  1.29it/s]\n"
     ]
    },
    {
     "name": "stdout",
     "output_type": "stream",
     "text": [
      "Epoch : 901 - Train_loss : 0.0012 - Train_Acc: 1.0000 - Val_loss : 0.2370 - Val_Acc: 0.5083  - Time: 9.501842260360718\n",
      "\n"
     ]
    },
    {
     "name": "stderr",
     "output_type": "stream",
     "text": [
      "100%|█████████████████████████████████████████████| 9/9 [00:06<00:00,  1.37it/s]\n",
      "100%|█████████████████████████████████████████████| 4/4 [00:02<00:00,  1.43it/s]\n"
     ]
    },
    {
     "name": "stdout",
     "output_type": "stream",
     "text": [
      "Epoch : 902 - Train_loss : 0.0010 - Train_Acc: 1.0000 - Val_loss : 0.2379 - Val_Acc: 0.5083  - Time: 9.375532150268555\n",
      "\n"
     ]
    },
    {
     "name": "stderr",
     "output_type": "stream",
     "text": [
      "100%|█████████████████████████████████████████████| 9/9 [00:06<00:00,  1.46it/s]\n",
      "100%|█████████████████████████████████████████████| 4/4 [00:02<00:00,  1.47it/s]\n"
     ]
    },
    {
     "name": "stdout",
     "output_type": "stream",
     "text": [
      "Epoch : 903 - Train_loss : 0.0008 - Train_Acc: 1.0000 - Val_loss : 0.2384 - Val_Acc: 0.5083  - Time: 8.900390863418579\n",
      "\n"
     ]
    },
    {
     "name": "stderr",
     "output_type": "stream",
     "text": [
      "100%|█████████████████████████████████████████████| 9/9 [00:06<00:00,  1.47it/s]\n",
      "100%|█████████████████████████████████████████████| 4/4 [00:02<00:00,  1.34it/s]\n"
     ]
    },
    {
     "name": "stdout",
     "output_type": "stream",
     "text": [
      "Epoch : 904 - Train_loss : 0.0011 - Train_Acc: 1.0000 - Val_loss : 0.2376 - Val_Acc: 0.5250  - Time: 9.104788541793823\n",
      "\n"
     ]
    },
    {
     "name": "stderr",
     "output_type": "stream",
     "text": [
      "100%|█████████████████████████████████████████████| 9/9 [00:06<00:00,  1.42it/s]\n",
      "100%|█████████████████████████████████████████████| 4/4 [00:02<00:00,  1.45it/s]\n"
     ]
    },
    {
     "name": "stdout",
     "output_type": "stream",
     "text": [
      "Epoch : 905 - Train_loss : 0.0008 - Train_Acc: 1.0000 - Val_loss : 0.2370 - Val_Acc: 0.5333  - Time: 9.094032049179077\n",
      "\n"
     ]
    },
    {
     "name": "stderr",
     "output_type": "stream",
     "text": [
      "100%|█████████████████████████████████████████████| 9/9 [00:06<00:00,  1.45it/s]\n",
      "100%|█████████████████████████████████████████████| 4/4 [00:02<00:00,  1.42it/s]\n"
     ]
    },
    {
     "name": "stdout",
     "output_type": "stream",
     "text": [
      "Epoch : 906 - Train_loss : 0.0010 - Train_Acc: 1.0000 - Val_loss : 0.2335 - Val_Acc: 0.5333  - Time: 9.020318269729614\n",
      "\n"
     ]
    },
    {
     "name": "stderr",
     "output_type": "stream",
     "text": [
      "100%|█████████████████████████████████████████████| 9/9 [00:06<00:00,  1.42it/s]\n",
      "100%|█████████████████████████████████████████████| 4/4 [00:02<00:00,  1.37it/s]\n"
     ]
    },
    {
     "name": "stdout",
     "output_type": "stream",
     "text": [
      "Epoch : 907 - Train_loss : 0.0007 - Train_Acc: 1.0000 - Val_loss : 0.2319 - Val_Acc: 0.5333  - Time: 9.25050401687622\n",
      "\n"
     ]
    },
    {
     "name": "stderr",
     "output_type": "stream",
     "text": [
      "100%|█████████████████████████████████████████████| 9/9 [00:06<00:00,  1.41it/s]\n",
      "100%|█████████████████████████████████████████████| 4/4 [00:02<00:00,  1.40it/s]\n"
     ]
    },
    {
     "name": "stdout",
     "output_type": "stream",
     "text": [
      "Epoch : 908 - Train_loss : 0.0012 - Train_Acc: 1.0000 - Val_loss : 0.2312 - Val_Acc: 0.5333  - Time: 9.277036905288696\n",
      "\n"
     ]
    },
    {
     "name": "stderr",
     "output_type": "stream",
     "text": [
      "100%|█████████████████████████████████████████████| 9/9 [00:06<00:00,  1.46it/s]\n",
      "100%|█████████████████████████████████████████████| 4/4 [00:02<00:00,  1.38it/s]\n"
     ]
    },
    {
     "name": "stdout",
     "output_type": "stream",
     "text": [
      "Epoch : 909 - Train_loss : 0.0007 - Train_Acc: 1.0000 - Val_loss : 0.2321 - Val_Acc: 0.5333  - Time: 9.065910577774048\n",
      "\n"
     ]
    },
    {
     "name": "stderr",
     "output_type": "stream",
     "text": [
      "100%|█████████████████████████████████████████████| 9/9 [00:06<00:00,  1.38it/s]\n",
      "100%|█████████████████████████████████████████████| 4/4 [00:02<00:00,  1.45it/s]\n"
     ]
    },
    {
     "name": "stdout",
     "output_type": "stream",
     "text": [
      "Epoch : 910 - Train_loss : 0.0008 - Train_Acc: 1.0000 - Val_loss : 0.2330 - Val_Acc: 0.5333  - Time: 9.265637874603271\n",
      "\n"
     ]
    },
    {
     "name": "stderr",
     "output_type": "stream",
     "text": [
      "100%|█████████████████████████████████████████████| 9/9 [00:06<00:00,  1.50it/s]\n",
      "100%|█████████████████████████████████████████████| 4/4 [00:02<00:00,  1.47it/s]\n"
     ]
    },
    {
     "name": "stdout",
     "output_type": "stream",
     "text": [
      "Epoch : 911 - Train_loss : 0.0005 - Train_Acc: 1.0000 - Val_loss : 0.2343 - Val_Acc: 0.5333  - Time: 8.72822880744934\n",
      "\n"
     ]
    },
    {
     "name": "stderr",
     "output_type": "stream",
     "text": [
      "100%|█████████████████████████████████████████████| 9/9 [00:06<00:00,  1.49it/s]\n",
      "100%|█████████████████████████████████████████████| 4/4 [00:02<00:00,  1.50it/s]\n"
     ]
    },
    {
     "name": "stdout",
     "output_type": "stream",
     "text": [
      "Epoch : 912 - Train_loss : 0.0005 - Train_Acc: 1.0000 - Val_loss : 0.2348 - Val_Acc: 0.5333  - Time: 8.721573114395142\n",
      "\n"
     ]
    },
    {
     "name": "stderr",
     "output_type": "stream",
     "text": [
      "100%|█████████████████████████████████████████████| 9/9 [00:06<00:00,  1.45it/s]\n",
      "100%|█████████████████████████████████████████████| 4/4 [00:02<00:00,  1.50it/s]\n"
     ]
    },
    {
     "name": "stdout",
     "output_type": "stream",
     "text": [
      "Epoch : 913 - Train_loss : 0.0008 - Train_Acc: 1.0000 - Val_loss : 0.2347 - Val_Acc: 0.5333  - Time: 8.86066484451294\n",
      "\n"
     ]
    },
    {
     "name": "stderr",
     "output_type": "stream",
     "text": [
      "100%|█████████████████████████████████████████████| 9/9 [00:06<00:00,  1.48it/s]\n",
      "100%|█████████████████████████████████████████████| 4/4 [00:02<00:00,  1.50it/s]\n"
     ]
    },
    {
     "name": "stdout",
     "output_type": "stream",
     "text": [
      "Epoch : 914 - Train_loss : 0.0006 - Train_Acc: 1.0000 - Val_loss : 0.2348 - Val_Acc: 0.5333  - Time: 8.750635147094727\n",
      "\n"
     ]
    },
    {
     "name": "stderr",
     "output_type": "stream",
     "text": [
      "100%|█████████████████████████████████████████████| 9/9 [00:06<00:00,  1.50it/s]\n",
      "100%|█████████████████████████████████████████████| 4/4 [00:02<00:00,  1.45it/s]\n"
     ]
    },
    {
     "name": "stdout",
     "output_type": "stream",
     "text": [
      "Epoch : 915 - Train_loss : 0.0014 - Train_Acc: 1.0000 - Val_loss : 0.2339 - Val_Acc: 0.5333  - Time: 8.766529083251953\n",
      "\n"
     ]
    },
    {
     "name": "stderr",
     "output_type": "stream",
     "text": [
      "100%|█████████████████████████████████████████████| 9/9 [00:06<00:00,  1.49it/s]\n",
      "100%|█████████████████████████████████████████████| 4/4 [00:02<00:00,  1.47it/s]\n"
     ]
    },
    {
     "name": "stdout",
     "output_type": "stream",
     "text": [
      "Epoch : 916 - Train_loss : 0.0005 - Train_Acc: 1.0000 - Val_loss : 0.2333 - Val_Acc: 0.5500  - Time: 8.784722805023193\n",
      "\n"
     ]
    },
    {
     "name": "stderr",
     "output_type": "stream",
     "text": [
      "100%|█████████████████████████████████████████████| 9/9 [00:06<00:00,  1.48it/s]\n",
      "100%|█████████████████████████████████████████████| 4/4 [00:02<00:00,  1.45it/s]\n"
     ]
    },
    {
     "name": "stdout",
     "output_type": "stream",
     "text": [
      "Epoch : 917 - Train_loss : 0.0014 - Train_Acc: 1.0000 - Val_loss : 0.2322 - Val_Acc: 0.5500  - Time: 8.830960273742676\n",
      "\n"
     ]
    },
    {
     "name": "stderr",
     "output_type": "stream",
     "text": [
      "100%|█████████████████████████████████████████████| 9/9 [00:06<00:00,  1.37it/s]\n",
      "100%|█████████████████████████████████████████████| 4/4 [00:02<00:00,  1.41it/s]\n"
     ]
    },
    {
     "name": "stdout",
     "output_type": "stream",
     "text": [
      "Epoch : 918 - Train_loss : 0.0006 - Train_Acc: 1.0000 - Val_loss : 0.2290 - Val_Acc: 0.5500  - Time: 9.406577825546265\n",
      "\n"
     ]
    },
    {
     "name": "stderr",
     "output_type": "stream",
     "text": [
      "100%|█████████████████████████████████████████████| 9/9 [00:06<00:00,  1.44it/s]\n",
      "100%|█████████████████████████████████████████████| 4/4 [00:02<00:00,  1.47it/s]\n"
     ]
    },
    {
     "name": "stdout",
     "output_type": "stream",
     "text": [
      "Epoch : 919 - Train_loss : 0.0007 - Train_Acc: 1.0000 - Val_loss : 0.2268 - Val_Acc: 0.5583  - Time: 8.990074396133423\n",
      "\n"
     ]
    },
    {
     "name": "stderr",
     "output_type": "stream",
     "text": [
      "100%|█████████████████████████████████████████████| 9/9 [00:06<00:00,  1.47it/s]\n",
      "100%|█████████████████████████████████████████████| 4/4 [00:02<00:00,  1.38it/s]\n"
     ]
    },
    {
     "name": "stdout",
     "output_type": "stream",
     "text": [
      "Epoch : 920 - Train_loss : 0.0006 - Train_Acc: 1.0000 - Val_loss : 0.2268 - Val_Acc: 0.5583  - Time: 9.05314588546753\n",
      "\n"
     ]
    },
    {
     "name": "stderr",
     "output_type": "stream",
     "text": [
      "100%|█████████████████████████████████████████████| 9/9 [00:06<00:00,  1.32it/s]\n",
      "100%|█████████████████████████████████████████████| 4/4 [00:02<00:00,  1.34it/s]\n"
     ]
    },
    {
     "name": "stdout",
     "output_type": "stream",
     "text": [
      "Epoch : 921 - Train_loss : 0.0004 - Train_Acc: 1.0000 - Val_loss : 0.2268 - Val_Acc: 0.5583  - Time: 9.797072649002075\n",
      "\n"
     ]
    },
    {
     "name": "stderr",
     "output_type": "stream",
     "text": [
      "100%|█████████████████████████████████████████████| 9/9 [00:06<00:00,  1.36it/s]\n",
      "100%|█████████████████████████████████████████████| 4/4 [00:02<00:00,  1.37it/s]\n"
     ]
    },
    {
     "name": "stdout",
     "output_type": "stream",
     "text": [
      "Epoch : 922 - Train_loss : 0.0005 - Train_Acc: 1.0000 - Val_loss : 0.2269 - Val_Acc: 0.5583  - Time: 9.569197177886963\n",
      "\n"
     ]
    },
    {
     "name": "stderr",
     "output_type": "stream",
     "text": [
      "100%|█████████████████████████████████████████████| 9/9 [00:06<00:00,  1.39it/s]\n",
      "100%|█████████████████████████████████████████████| 4/4 [00:02<00:00,  1.47it/s]\n"
     ]
    },
    {
     "name": "stdout",
     "output_type": "stream",
     "text": [
      "Epoch : 923 - Train_loss : 0.0004 - Train_Acc: 1.0000 - Val_loss : 0.2273 - Val_Acc: 0.5583  - Time: 9.203522443771362\n",
      "\n"
     ]
    },
    {
     "name": "stderr",
     "output_type": "stream",
     "text": [
      "100%|█████████████████████████████████████████████| 9/9 [00:06<00:00,  1.49it/s]\n",
      "100%|█████████████████████████████████████████████| 4/4 [00:02<00:00,  1.49it/s]\n"
     ]
    },
    {
     "name": "stdout",
     "output_type": "stream",
     "text": [
      "Epoch : 924 - Train_loss : 0.0012 - Train_Acc: 1.0000 - Val_loss : 0.2292 - Val_Acc: 0.5583  - Time: 8.725658416748047\n",
      "\n"
     ]
    },
    {
     "name": "stderr",
     "output_type": "stream",
     "text": [
      "100%|█████████████████████████████████████████████| 9/9 [00:06<00:00,  1.48it/s]\n",
      "100%|█████████████████████████████████████████████| 4/4 [00:02<00:00,  1.48it/s]\n"
     ]
    },
    {
     "name": "stdout",
     "output_type": "stream",
     "text": [
      "Epoch : 925 - Train_loss : 0.0005 - Train_Acc: 1.0000 - Val_loss : 0.2357 - Val_Acc: 0.5500  - Time: 8.788178205490112\n",
      "\n"
     ]
    },
    {
     "name": "stderr",
     "output_type": "stream",
     "text": [
      "100%|█████████████████████████████████████████████| 9/9 [00:06<00:00,  1.47it/s]\n",
      "100%|█████████████████████████████████████████████| 4/4 [00:02<00:00,  1.36it/s]\n"
     ]
    },
    {
     "name": "stdout",
     "output_type": "stream",
     "text": [
      "Epoch : 926 - Train_loss : 0.0004 - Train_Acc: 1.0000 - Val_loss : 0.2387 - Val_Acc: 0.5500  - Time: 9.06678032875061\n",
      "\n"
     ]
    },
    {
     "name": "stderr",
     "output_type": "stream",
     "text": [
      "100%|█████████████████████████████████████████████| 9/9 [00:05<00:00,  1.50it/s]\n",
      "100%|█████████████████████████████████████████████| 4/4 [00:02<00:00,  1.49it/s]\n"
     ]
    },
    {
     "name": "stdout",
     "output_type": "stream",
     "text": [
      "Epoch : 927 - Train_loss : 0.0003 - Train_Acc: 1.0000 - Val_loss : 0.2403 - Val_Acc: 0.5500  - Time: 8.676223278045654\n",
      "\n"
     ]
    },
    {
     "name": "stderr",
     "output_type": "stream",
     "text": [
      "100%|█████████████████████████████████████████████| 9/9 [00:06<00:00,  1.50it/s]\n",
      "100%|█████████████████████████████████████████████| 4/4 [00:02<00:00,  1.51it/s]\n"
     ]
    },
    {
     "name": "stdout",
     "output_type": "stream",
     "text": [
      "Epoch : 928 - Train_loss : 0.0003 - Train_Acc: 1.0000 - Val_loss : 0.2412 - Val_Acc: 0.5417  - Time: 8.668984413146973\n",
      "\n"
     ]
    },
    {
     "name": "stderr",
     "output_type": "stream",
     "text": [
      "100%|█████████████████████████████████████████████| 9/9 [00:06<00:00,  1.49it/s]\n",
      "100%|█████████████████████████████████████████████| 4/4 [00:02<00:00,  1.45it/s]\n"
     ]
    },
    {
     "name": "stdout",
     "output_type": "stream",
     "text": [
      "Epoch : 929 - Train_loss : 0.0004 - Train_Acc: 1.0000 - Val_loss : 0.2418 - Val_Acc: 0.5417  - Time: 8.815595626831055\n",
      "\n"
     ]
    },
    {
     "name": "stderr",
     "output_type": "stream",
     "text": [
      "100%|█████████████████████████████████████████████| 9/9 [00:05<00:00,  1.51it/s]\n",
      "100%|█████████████████████████████████████████████| 4/4 [00:02<00:00,  1.50it/s]\n"
     ]
    },
    {
     "name": "stdout",
     "output_type": "stream",
     "text": [
      "Epoch : 930 - Train_loss : 0.0004 - Train_Acc: 1.0000 - Val_loss : 0.2422 - Val_Acc: 0.5417  - Time: 8.6354238986969\n",
      "\n"
     ]
    },
    {
     "name": "stderr",
     "output_type": "stream",
     "text": [
      "100%|█████████████████████████████████████████████| 9/9 [00:05<00:00,  1.53it/s]\n",
      "100%|█████████████████████████████████████████████| 4/4 [00:02<00:00,  1.50it/s]\n"
     ]
    },
    {
     "name": "stdout",
     "output_type": "stream",
     "text": [
      "Epoch : 931 - Train_loss : 0.0004 - Train_Acc: 1.0000 - Val_loss : 0.2427 - Val_Acc: 0.5417  - Time: 8.566773891448975\n",
      "\n"
     ]
    },
    {
     "name": "stderr",
     "output_type": "stream",
     "text": [
      "100%|█████████████████████████████████████████████| 9/9 [00:05<00:00,  1.51it/s]\n",
      "100%|█████████████████████████████████████████████| 4/4 [00:02<00:00,  1.50it/s]\n"
     ]
    },
    {
     "name": "stdout",
     "output_type": "stream",
     "text": [
      "Epoch : 932 - Train_loss : 0.0003 - Train_Acc: 1.0000 - Val_loss : 0.2437 - Val_Acc: 0.5417  - Time: 8.644290208816528\n",
      "\n"
     ]
    },
    {
     "name": "stderr",
     "output_type": "stream",
     "text": [
      "100%|█████████████████████████████████████████████| 9/9 [00:06<00:00,  1.48it/s]\n",
      "100%|█████████████████████████████████████████████| 4/4 [00:02<00:00,  1.51it/s]\n"
     ]
    },
    {
     "name": "stdout",
     "output_type": "stream",
     "text": [
      "Epoch : 933 - Train_loss : 0.0007 - Train_Acc: 1.0000 - Val_loss : 0.2441 - Val_Acc: 0.5500  - Time: 8.751170635223389\n",
      "\n"
     ]
    },
    {
     "name": "stderr",
     "output_type": "stream",
     "text": [
      "100%|█████████████████████████████████████████████| 9/9 [00:05<00:00,  1.51it/s]\n",
      "100%|█████████████████████████████████████████████| 4/4 [00:02<00:00,  1.47it/s]\n"
     ]
    },
    {
     "name": "stdout",
     "output_type": "stream",
     "text": [
      "Epoch : 934 - Train_loss : 0.0003 - Train_Acc: 1.0000 - Val_loss : 0.2445 - Val_Acc: 0.5500  - Time: 8.689565420150757\n",
      "\n"
     ]
    },
    {
     "name": "stderr",
     "output_type": "stream",
     "text": [
      "100%|█████████████████████████████████████████████| 9/9 [00:06<00:00,  1.43it/s]\n",
      "100%|█████████████████████████████████████████████| 4/4 [00:02<00:00,  1.52it/s]\n"
     ]
    },
    {
     "name": "stdout",
     "output_type": "stream",
     "text": [
      "Epoch : 935 - Train_loss : 0.0009 - Train_Acc: 1.0000 - Val_loss : 0.2435 - Val_Acc: 0.5583  - Time: 8.919290781021118\n",
      "\n"
     ]
    },
    {
     "name": "stderr",
     "output_type": "stream",
     "text": [
      "100%|█████████████████████████████████████████████| 9/9 [00:05<00:00,  1.56it/s]\n",
      "100%|█████████████████████████████████████████████| 4/4 [00:02<00:00,  1.55it/s]\n"
     ]
    },
    {
     "name": "stdout",
     "output_type": "stream",
     "text": [
      "Epoch : 936 - Train_loss : 0.0003 - Train_Acc: 1.0000 - Val_loss : 0.2419 - Val_Acc: 0.5583  - Time: 8.366235971450806\n",
      "\n"
     ]
    },
    {
     "name": "stderr",
     "output_type": "stream",
     "text": [
      "100%|█████████████████████████████████████████████| 9/9 [00:05<00:00,  1.52it/s]\n",
      "100%|█████████████████████████████████████████████| 4/4 [00:02<00:00,  1.53it/s]\n"
     ]
    },
    {
     "name": "stdout",
     "output_type": "stream",
     "text": [
      "Epoch : 937 - Train_loss : 0.0002 - Train_Acc: 1.0000 - Val_loss : 0.2417 - Val_Acc: 0.5667  - Time: 8.529398202896118\n",
      "\n"
     ]
    },
    {
     "name": "stderr",
     "output_type": "stream",
     "text": [
      "100%|█████████████████████████████████████████████| 9/9 [00:06<00:00,  1.46it/s]\n",
      "100%|█████████████████████████████████████████████| 4/4 [00:02<00:00,  1.53it/s]\n"
     ]
    },
    {
     "name": "stdout",
     "output_type": "stream",
     "text": [
      "Epoch : 938 - Train_loss : 0.0003 - Train_Acc: 1.0000 - Val_loss : 0.2415 - Val_Acc: 0.5583  - Time: 8.769604682922363\n",
      "\n"
     ]
    },
    {
     "name": "stderr",
     "output_type": "stream",
     "text": [
      "100%|█████████████████████████████████████████████| 9/9 [00:05<00:00,  1.53it/s]\n",
      "100%|█████████████████████████████████████████████| 4/4 [00:02<00:00,  1.52it/s]\n"
     ]
    },
    {
     "name": "stdout",
     "output_type": "stream",
     "text": [
      "Epoch : 939 - Train_loss : 0.0003 - Train_Acc: 1.0000 - Val_loss : 0.2416 - Val_Acc: 0.5583  - Time: 8.541137933731079\n",
      "\n"
     ]
    },
    {
     "name": "stderr",
     "output_type": "stream",
     "text": [
      "100%|█████████████████████████████████████████████| 9/9 [00:05<00:00,  1.53it/s]\n",
      "100%|█████████████████████████████████████████████| 4/4 [00:02<00:00,  1.52it/s]\n"
     ]
    },
    {
     "name": "stdout",
     "output_type": "stream",
     "text": [
      "Epoch : 940 - Train_loss : 0.0004 - Train_Acc: 1.0000 - Val_loss : 0.2429 - Val_Acc: 0.5667  - Time: 8.500151872634888\n",
      "\n"
     ]
    },
    {
     "name": "stderr",
     "output_type": "stream",
     "text": [
      "100%|█████████████████████████████████████████████| 9/9 [00:05<00:00,  1.52it/s]\n",
      "100%|█████████████████████████████████████████████| 4/4 [00:02<00:00,  1.51it/s]\n"
     ]
    },
    {
     "name": "stdout",
     "output_type": "stream",
     "text": [
      "Epoch : 941 - Train_loss : 0.0004 - Train_Acc: 1.0000 - Val_loss : 0.2441 - Val_Acc: 0.5667  - Time: 8.571962356567383\n",
      "\n"
     ]
    },
    {
     "name": "stderr",
     "output_type": "stream",
     "text": [
      "100%|█████████████████████████████████████████████| 9/9 [00:05<00:00,  1.50it/s]\n",
      "100%|█████████████████████████████████████████████| 4/4 [00:02<00:00,  1.52it/s]\n"
     ]
    },
    {
     "name": "stdout",
     "output_type": "stream",
     "text": [
      "Epoch : 942 - Train_loss : 0.0003 - Train_Acc: 1.0000 - Val_loss : 0.2449 - Val_Acc: 0.5583  - Time: 8.620539426803589\n",
      "\n"
     ]
    },
    {
     "name": "stderr",
     "output_type": "stream",
     "text": [
      "100%|█████████████████████████████████████████████| 9/9 [00:05<00:00,  1.51it/s]\n",
      "100%|█████████████████████████████████████████████| 4/4 [00:02<00:00,  1.35it/s]\n"
     ]
    },
    {
     "name": "stdout",
     "output_type": "stream",
     "text": [
      "Epoch : 943 - Train_loss : 0.0002 - Train_Acc: 1.0000 - Val_loss : 0.2452 - Val_Acc: 0.5583  - Time: 8.946007251739502\n",
      "\n"
     ]
    },
    {
     "name": "stderr",
     "output_type": "stream",
     "text": [
      "100%|█████████████████████████████████████████████| 9/9 [00:06<00:00,  1.42it/s]\n",
      "100%|█████████████████████████████████████████████| 4/4 [00:02<00:00,  1.45it/s]\n"
     ]
    },
    {
     "name": "stdout",
     "output_type": "stream",
     "text": [
      "Epoch : 944 - Train_loss : 0.0003 - Train_Acc: 1.0000 - Val_loss : 0.2455 - Val_Acc: 0.5583  - Time: 9.090413808822632\n",
      "\n"
     ]
    },
    {
     "name": "stderr",
     "output_type": "stream",
     "text": [
      "100%|█████████████████████████████████████████████| 9/9 [00:06<00:00,  1.47it/s]\n",
      "100%|█████████████████████████████████████████████| 4/4 [00:02<00:00,  1.46it/s]\n"
     ]
    },
    {
     "name": "stdout",
     "output_type": "stream",
     "text": [
      "Epoch : 945 - Train_loss : 0.0006 - Train_Acc: 1.0000 - Val_loss : 0.2448 - Val_Acc: 0.5583  - Time: 8.87747597694397\n",
      "\n"
     ]
    },
    {
     "name": "stderr",
     "output_type": "stream",
     "text": [
      "100%|█████████████████████████████████████████████| 9/9 [00:06<00:00,  1.44it/s]\n",
      "100%|█████████████████████████████████████████████| 4/4 [00:02<00:00,  1.46it/s]\n"
     ]
    },
    {
     "name": "stdout",
     "output_type": "stream",
     "text": [
      "Epoch : 946 - Train_loss : 0.0005 - Train_Acc: 1.0000 - Val_loss : 0.2444 - Val_Acc: 0.5583  - Time: 8.983234882354736\n",
      "\n"
     ]
    },
    {
     "name": "stderr",
     "output_type": "stream",
     "text": [
      "100%|█████████████████████████████████████████████| 9/9 [00:06<00:00,  1.48it/s]\n",
      "100%|█████████████████████████████████████████████| 4/4 [00:02<00:00,  1.50it/s]\n"
     ]
    },
    {
     "name": "stdout",
     "output_type": "stream",
     "text": [
      "Epoch : 947 - Train_loss : 0.0007 - Train_Acc: 1.0000 - Val_loss : 0.2454 - Val_Acc: 0.5500  - Time: 8.751383781433105\n",
      "\n"
     ]
    },
    {
     "name": "stderr",
     "output_type": "stream",
     "text": [
      "100%|█████████████████████████████████████████████| 9/9 [00:06<00:00,  1.48it/s]\n",
      "100%|█████████████████████████████████████████████| 4/4 [00:02<00:00,  1.51it/s]\n"
     ]
    },
    {
     "name": "stdout",
     "output_type": "stream",
     "text": [
      "Epoch : 948 - Train_loss : 0.0003 - Train_Acc: 1.0000 - Val_loss : 0.2466 - Val_Acc: 0.5500  - Time: 8.748896360397339\n",
      "\n"
     ]
    },
    {
     "name": "stderr",
     "output_type": "stream",
     "text": [
      "100%|█████████████████████████████████████████████| 9/9 [00:05<00:00,  1.50it/s]\n",
      "100%|█████████████████████████████████████████████| 4/4 [00:02<00:00,  1.48it/s]\n"
     ]
    },
    {
     "name": "stdout",
     "output_type": "stream",
     "text": [
      "Epoch : 949 - Train_loss : 0.0003 - Train_Acc: 1.0000 - Val_loss : 0.2469 - Val_Acc: 0.5500  - Time: 8.701181650161743\n",
      "\n"
     ]
    },
    {
     "name": "stderr",
     "output_type": "stream",
     "text": [
      "100%|█████████████████████████████████████████████| 9/9 [00:06<00:00,  1.50it/s]\n",
      "100%|█████████████████████████████████████████████| 4/4 [00:02<00:00,  1.50it/s]\n"
     ]
    },
    {
     "name": "stdout",
     "output_type": "stream",
     "text": [
      "Epoch : 950 - Train_loss : 0.0001 - Train_Acc: 1.0000 - Val_loss : 0.2468 - Val_Acc: 0.5500  - Time: 8.680041074752808\n",
      "\n"
     ]
    },
    {
     "name": "stderr",
     "output_type": "stream",
     "text": [
      "100%|█████████████████████████████████████████████| 9/9 [00:06<00:00,  1.49it/s]\n",
      "100%|█████████████████████████████████████████████| 4/4 [00:02<00:00,  1.37it/s]\n"
     ]
    },
    {
     "name": "stdout",
     "output_type": "stream",
     "text": [
      "Epoch : 951 - Train_loss : 0.0002 - Train_Acc: 1.0000 - Val_loss : 0.2468 - Val_Acc: 0.5583  - Time: 8.963871717453003\n",
      "\n"
     ]
    },
    {
     "name": "stderr",
     "output_type": "stream",
     "text": [
      "100%|█████████████████████████████████████████████| 9/9 [00:06<00:00,  1.45it/s]\n",
      "100%|█████████████████████████████████████████████| 4/4 [00:02<00:00,  1.50it/s]\n"
     ]
    },
    {
     "name": "stdout",
     "output_type": "stream",
     "text": [
      "Epoch : 952 - Train_loss : 0.0004 - Train_Acc: 1.0000 - Val_loss : 0.2462 - Val_Acc: 0.5500  - Time: 8.889052391052246\n",
      "\n"
     ]
    },
    {
     "name": "stderr",
     "output_type": "stream",
     "text": [
      "100%|█████████████████████████████████████████████| 9/9 [00:05<00:00,  1.51it/s]\n",
      "100%|█████████████████████████████████████████████| 4/4 [00:02<00:00,  1.50it/s]\n"
     ]
    },
    {
     "name": "stdout",
     "output_type": "stream",
     "text": [
      "Epoch : 953 - Train_loss : 0.0002 - Train_Acc: 1.0000 - Val_loss : 0.2458 - Val_Acc: 0.5583  - Time: 8.62065052986145\n",
      "\n"
     ]
    },
    {
     "name": "stderr",
     "output_type": "stream",
     "text": [
      "100%|█████████████████████████████████████████████| 9/9 [00:06<00:00,  1.49it/s]\n",
      "100%|█████████████████████████████████████████████| 4/4 [00:02<00:00,  1.44it/s]\n"
     ]
    },
    {
     "name": "stdout",
     "output_type": "stream",
     "text": [
      "Epoch : 954 - Train_loss : 0.0003 - Train_Acc: 1.0000 - Val_loss : 0.2458 - Val_Acc: 0.5583  - Time: 8.813127279281616\n",
      "\n"
     ]
    },
    {
     "name": "stderr",
     "output_type": "stream",
     "text": [
      "100%|█████████████████████████████████████████████| 9/9 [00:05<00:00,  1.51it/s]\n",
      "100%|█████████████████████████████████████████████| 4/4 [00:02<00:00,  1.48it/s]\n"
     ]
    },
    {
     "name": "stdout",
     "output_type": "stream",
     "text": [
      "Epoch : 955 - Train_loss : 0.0003 - Train_Acc: 1.0000 - Val_loss : 0.2458 - Val_Acc: 0.5667  - Time: 8.648401975631714\n",
      "\n"
     ]
    },
    {
     "name": "stderr",
     "output_type": "stream",
     "text": [
      "100%|█████████████████████████████████████████████| 9/9 [00:06<00:00,  1.46it/s]\n",
      "100%|█████████████████████████████████████████████| 4/4 [00:02<00:00,  1.52it/s]\n"
     ]
    },
    {
     "name": "stdout",
     "output_type": "stream",
     "text": [
      "Epoch : 956 - Train_loss : 0.0003 - Train_Acc: 1.0000 - Val_loss : 0.2471 - Val_Acc: 0.5667  - Time: 8.809088468551636\n",
      "\n"
     ]
    },
    {
     "name": "stderr",
     "output_type": "stream",
     "text": [
      "100%|█████████████████████████████████████████████| 9/9 [00:06<00:00,  1.47it/s]\n",
      "100%|█████████████████████████████████████████████| 4/4 [00:02<00:00,  1.49it/s]\n"
     ]
    },
    {
     "name": "stdout",
     "output_type": "stream",
     "text": [
      "Epoch : 957 - Train_loss : 0.0002 - Train_Acc: 1.0000 - Val_loss : 0.2482 - Val_Acc: 0.5583  - Time: 8.811644315719604\n",
      "\n"
     ]
    },
    {
     "name": "stderr",
     "output_type": "stream",
     "text": [
      "100%|█████████████████████████████████████████████| 9/9 [00:06<00:00,  1.49it/s]\n",
      "100%|█████████████████████████████████████████████| 4/4 [00:02<00:00,  1.51it/s]\n"
     ]
    },
    {
     "name": "stdout",
     "output_type": "stream",
     "text": [
      "Epoch : 958 - Train_loss : 0.0002 - Train_Acc: 1.0000 - Val_loss : 0.2486 - Val_Acc: 0.5583  - Time: 8.696094751358032\n",
      "\n"
     ]
    },
    {
     "name": "stderr",
     "output_type": "stream",
     "text": [
      "100%|█████████████████████████████████████████████| 9/9 [00:06<00:00,  1.48it/s]\n",
      "100%|█████████████████████████████████████████████| 4/4 [00:02<00:00,  1.38it/s]\n"
     ]
    },
    {
     "name": "stdout",
     "output_type": "stream",
     "text": [
      "Epoch : 959 - Train_loss : 0.0010 - Train_Acc: 1.0000 - Val_loss : 0.2481 - Val_Acc: 0.5667  - Time: 8.989063501358032\n",
      "\n"
     ]
    },
    {
     "name": "stderr",
     "output_type": "stream",
     "text": [
      "100%|█████████████████████████████████████████████| 9/9 [00:06<00:00,  1.38it/s]\n",
      "100%|█████████████████████████████████████████████| 4/4 [00:02<00:00,  1.47it/s]\n"
     ]
    },
    {
     "name": "stdout",
     "output_type": "stream",
     "text": [
      "Epoch : 960 - Train_loss : 0.0002 - Train_Acc: 1.0000 - Val_loss : 0.2543 - Val_Acc: 0.5333  - Time: 9.256826877593994\n",
      "\n"
     ]
    },
    {
     "name": "stderr",
     "output_type": "stream",
     "text": [
      "100%|█████████████████████████████████████████████| 9/9 [00:06<00:00,  1.46it/s]\n",
      "100%|█████████████████████████████████████████████| 4/4 [00:02<00:00,  1.47it/s]\n"
     ]
    },
    {
     "name": "stdout",
     "output_type": "stream",
     "text": [
      "Epoch : 961 - Train_loss : 0.0004 - Train_Acc: 1.0000 - Val_loss : 0.2616 - Val_Acc: 0.5083  - Time: 8.89763617515564\n",
      "\n"
     ]
    },
    {
     "name": "stderr",
     "output_type": "stream",
     "text": [
      "100%|█████████████████████████████████████████████| 9/9 [00:06<00:00,  1.49it/s]\n",
      "100%|█████████████████████████████████████████████| 4/4 [00:02<00:00,  1.44it/s]\n"
     ]
    },
    {
     "name": "stdout",
     "output_type": "stream",
     "text": [
      "Epoch : 962 - Train_loss : 0.0006 - Train_Acc: 1.0000 - Val_loss : 0.2571 - Val_Acc: 0.5417  - Time: 8.828437805175781\n",
      "\n"
     ]
    },
    {
     "name": "stderr",
     "output_type": "stream",
     "text": [
      "100%|█████████████████████████████████████████████| 9/9 [00:06<00:00,  1.44it/s]\n",
      "100%|█████████████████████████████████████████████| 4/4 [00:02<00:00,  1.49it/s]\n"
     ]
    },
    {
     "name": "stdout",
     "output_type": "stream",
     "text": [
      "Epoch : 963 - Train_loss : 0.0004 - Train_Acc: 1.0000 - Val_loss : 0.2580 - Val_Acc: 0.5583  - Time: 8.957225799560547\n",
      "\n"
     ]
    },
    {
     "name": "stderr",
     "output_type": "stream",
     "text": [
      "100%|█████████████████████████████████████████████| 9/9 [00:06<00:00,  1.48it/s]\n",
      "100%|█████████████████████████████████████████████| 4/4 [00:02<00:00,  1.51it/s]\n"
     ]
    },
    {
     "name": "stdout",
     "output_type": "stream",
     "text": [
      "Epoch : 964 - Train_loss : 0.0002 - Train_Acc: 1.0000 - Val_loss : 0.2586 - Val_Acc: 0.5500  - Time: 8.742128610610962\n",
      "\n"
     ]
    },
    {
     "name": "stderr",
     "output_type": "stream",
     "text": [
      "100%|█████████████████████████████████████████████| 9/9 [00:05<00:00,  1.52it/s]\n",
      "100%|█████████████████████████████████████████████| 4/4 [00:02<00:00,  1.53it/s]\n"
     ]
    },
    {
     "name": "stdout",
     "output_type": "stream",
     "text": [
      "Epoch : 965 - Train_loss : 0.0002 - Train_Acc: 1.0000 - Val_loss : 0.2590 - Val_Acc: 0.5583  - Time: 8.54804253578186\n",
      "\n"
     ]
    },
    {
     "name": "stderr",
     "output_type": "stream",
     "text": [
      "100%|█████████████████████████████████████████████| 9/9 [00:05<00:00,  1.50it/s]\n",
      "100%|█████████████████████████████████████████████| 4/4 [00:02<00:00,  1.50it/s]\n"
     ]
    },
    {
     "name": "stdout",
     "output_type": "stream",
     "text": [
      "Epoch : 966 - Train_loss : 0.0003 - Train_Acc: 1.0000 - Val_loss : 0.2591 - Val_Acc: 0.5583  - Time: 8.659888505935669\n",
      "\n"
     ]
    },
    {
     "name": "stderr",
     "output_type": "stream",
     "text": [
      "100%|█████████████████████████████████████████████| 9/9 [00:05<00:00,  1.52it/s]\n",
      "100%|█████████████████████████████████████████████| 4/4 [00:02<00:00,  1.51it/s]\n"
     ]
    },
    {
     "name": "stdout",
     "output_type": "stream",
     "text": [
      "Epoch : 967 - Train_loss : 0.0006 - Train_Acc: 1.0000 - Val_loss : 0.2590 - Val_Acc: 0.5667  - Time: 8.55874752998352\n",
      "\n"
     ]
    },
    {
     "name": "stderr",
     "output_type": "stream",
     "text": [
      "100%|█████████████████████████████████████████████| 9/9 [00:06<00:00,  1.46it/s]\n",
      "100%|█████████████████████████████████████████████| 4/4 [00:02<00:00,  1.42it/s]\n"
     ]
    },
    {
     "name": "stdout",
     "output_type": "stream",
     "text": [
      "Epoch : 968 - Train_loss : 0.0003 - Train_Acc: 1.0000 - Val_loss : 0.2588 - Val_Acc: 0.5667  - Time: 8.977871894836426\n",
      "\n"
     ]
    },
    {
     "name": "stderr",
     "output_type": "stream",
     "text": [
      "100%|█████████████████████████████████████████████| 9/9 [00:06<00:00,  1.50it/s]\n",
      "100%|█████████████████████████████████████████████| 4/4 [00:02<00:00,  1.50it/s]\n"
     ]
    },
    {
     "name": "stdout",
     "output_type": "stream",
     "text": [
      "Epoch : 969 - Train_loss : 0.0003 - Train_Acc: 1.0000 - Val_loss : 0.2594 - Val_Acc: 0.5667  - Time: 8.679177522659302\n",
      "\n"
     ]
    },
    {
     "name": "stderr",
     "output_type": "stream",
     "text": [
      "100%|█████████████████████████████████████████████| 9/9 [00:05<00:00,  1.53it/s]\n",
      "100%|█████████████████████████████████████████████| 4/4 [00:02<00:00,  1.48it/s]\n"
     ]
    },
    {
     "name": "stdout",
     "output_type": "stream",
     "text": [
      "Epoch : 970 - Train_loss : 0.0002 - Train_Acc: 1.0000 - Val_loss : 0.2594 - Val_Acc: 0.5750  - Time: 8.613988399505615\n",
      "\n"
     ]
    },
    {
     "name": "stderr",
     "output_type": "stream",
     "text": [
      "100%|█████████████████████████████████████████████| 9/9 [00:06<00:00,  1.50it/s]\n",
      "100%|█████████████████████████████████████████████| 4/4 [00:02<00:00,  1.49it/s]\n"
     ]
    },
    {
     "name": "stdout",
     "output_type": "stream",
     "text": [
      "Epoch : 971 - Train_loss : 0.0002 - Train_Acc: 1.0000 - Val_loss : 0.2597 - Val_Acc: 0.5750  - Time: 8.696964025497437\n",
      "\n"
     ]
    },
    {
     "name": "stderr",
     "output_type": "stream",
     "text": [
      "100%|█████████████████████████████████████████████| 9/9 [00:06<00:00,  1.50it/s]\n",
      "100%|█████████████████████████████████████████████| 4/4 [00:02<00:00,  1.52it/s]\n"
     ]
    },
    {
     "name": "stdout",
     "output_type": "stream",
     "text": [
      "Epoch : 972 - Train_loss : 0.0001 - Train_Acc: 1.0000 - Val_loss : 0.2601 - Val_Acc: 0.5750  - Time: 8.650716066360474\n",
      "\n"
     ]
    },
    {
     "name": "stderr",
     "output_type": "stream",
     "text": [
      "100%|█████████████████████████████████████████████| 9/9 [00:05<00:00,  1.50it/s]\n",
      "100%|█████████████████████████████████████████████| 4/4 [00:02<00:00,  1.47it/s]\n"
     ]
    },
    {
     "name": "stdout",
     "output_type": "stream",
     "text": [
      "Epoch : 973 - Train_loss : 0.0001 - Train_Acc: 1.0000 - Val_loss : 0.2603 - Val_Acc: 0.5750  - Time: 8.724014520645142\n",
      "\n"
     ]
    },
    {
     "name": "stderr",
     "output_type": "stream",
     "text": [
      "100%|█████████████████████████████████████████████| 9/9 [00:06<00:00,  1.49it/s]\n",
      "100%|█████████████████████████████████████████████| 4/4 [00:02<00:00,  1.51it/s]\n"
     ]
    },
    {
     "name": "stdout",
     "output_type": "stream",
     "text": [
      "Epoch : 974 - Train_loss : 0.0003 - Train_Acc: 1.0000 - Val_loss : 0.2607 - Val_Acc: 0.5750  - Time: 8.702708959579468\n",
      "\n"
     ]
    },
    {
     "name": "stderr",
     "output_type": "stream",
     "text": [
      "100%|█████████████████████████████████████████████| 9/9 [00:05<00:00,  1.53it/s]\n",
      "100%|█████████████████████████████████████████████| 4/4 [00:02<00:00,  1.54it/s]\n"
     ]
    },
    {
     "name": "stdout",
     "output_type": "stream",
     "text": [
      "Epoch : 975 - Train_loss : 0.0002 - Train_Acc: 1.0000 - Val_loss : 0.2606 - Val_Acc: 0.5750  - Time: 8.48391056060791\n",
      "\n"
     ]
    },
    {
     "name": "stderr",
     "output_type": "stream",
     "text": [
      "100%|█████████████████████████████████████████████| 9/9 [00:06<00:00,  1.47it/s]\n",
      "100%|█████████████████████████████████████████████| 4/4 [00:02<00:00,  1.39it/s]\n"
     ]
    },
    {
     "name": "stdout",
     "output_type": "stream",
     "text": [
      "Epoch : 976 - Train_loss : 0.0002 - Train_Acc: 1.0000 - Val_loss : 0.2612 - Val_Acc: 0.5750  - Time: 9.012470960617065\n",
      "\n"
     ]
    },
    {
     "name": "stderr",
     "output_type": "stream",
     "text": [
      "100%|█████████████████████████████████████████████| 9/9 [00:06<00:00,  1.43it/s]\n",
      "100%|█████████████████████████████████████████████| 4/4 [00:02<00:00,  1.46it/s]\n"
     ]
    },
    {
     "name": "stdout",
     "output_type": "stream",
     "text": [
      "Epoch : 977 - Train_loss : 0.0003 - Train_Acc: 1.0000 - Val_loss : 0.2617 - Val_Acc: 0.5750  - Time: 9.036694765090942\n",
      "\n"
     ]
    },
    {
     "name": "stderr",
     "output_type": "stream",
     "text": [
      "100%|█████████████████████████████████████████████| 9/9 [00:06<00:00,  1.43it/s]\n",
      "100%|█████████████████████████████████████████████| 4/4 [00:02<00:00,  1.47it/s]\n"
     ]
    },
    {
     "name": "stdout",
     "output_type": "stream",
     "text": [
      "Epoch : 978 - Train_loss : 0.0006 - Train_Acc: 1.0000 - Val_loss : 0.2622 - Val_Acc: 0.5750  - Time: 9.01911449432373\n",
      "\n"
     ]
    },
    {
     "name": "stderr",
     "output_type": "stream",
     "text": [
      "100%|█████████████████████████████████████████████| 9/9 [00:06<00:00,  1.46it/s]\n",
      "100%|█████████████████████████████████████████████| 4/4 [00:02<00:00,  1.43it/s]\n"
     ]
    },
    {
     "name": "stdout",
     "output_type": "stream",
     "text": [
      "Epoch : 979 - Train_loss : 0.0001 - Train_Acc: 1.0000 - Val_loss : 0.2612 - Val_Acc: 0.5583  - Time: 8.958274364471436\n",
      "\n"
     ]
    },
    {
     "name": "stderr",
     "output_type": "stream",
     "text": [
      "100%|█████████████████████████████████████████████| 9/9 [00:06<00:00,  1.45it/s]\n",
      "100%|█████████████████████████████████████████████| 4/4 [00:02<00:00,  1.49it/s]\n"
     ]
    },
    {
     "name": "stdout",
     "output_type": "stream",
     "text": [
      "Epoch : 980 - Train_loss : 0.0001 - Train_Acc: 1.0000 - Val_loss : 0.2612 - Val_Acc: 0.5583  - Time: 8.902899503707886\n",
      "\n"
     ]
    },
    {
     "name": "stderr",
     "output_type": "stream",
     "text": [
      "100%|█████████████████████████████████████████████| 9/9 [00:05<00:00,  1.52it/s]\n",
      "100%|█████████████████████████████████████████████| 4/4 [00:02<00:00,  1.48it/s]\n"
     ]
    },
    {
     "name": "stdout",
     "output_type": "stream",
     "text": [
      "Epoch : 981 - Train_loss : 0.0001 - Train_Acc: 1.0000 - Val_loss : 0.2610 - Val_Acc: 0.5583  - Time: 8.60706353187561\n",
      "\n"
     ]
    },
    {
     "name": "stderr",
     "output_type": "stream",
     "text": [
      "100%|█████████████████████████████████████████████| 9/9 [00:05<00:00,  1.54it/s]\n",
      "100%|█████████████████████████████████████████████| 4/4 [00:02<00:00,  1.51it/s]\n"
     ]
    },
    {
     "name": "stdout",
     "output_type": "stream",
     "text": [
      "Epoch : 982 - Train_loss : 0.0002 - Train_Acc: 1.0000 - Val_loss : 0.2605 - Val_Acc: 0.5583  - Time: 8.509652137756348\n",
      "\n"
     ]
    },
    {
     "name": "stderr",
     "output_type": "stream",
     "text": [
      "100%|█████████████████████████████████████████████| 9/9 [00:05<00:00,  1.55it/s]\n",
      "100%|█████████████████████████████████████████████| 4/4 [00:02<00:00,  1.54it/s]\n"
     ]
    },
    {
     "name": "stdout",
     "output_type": "stream",
     "text": [
      "Epoch : 983 - Train_loss : 0.0004 - Train_Acc: 1.0000 - Val_loss : 0.2592 - Val_Acc: 0.5583  - Time: 8.420508623123169\n",
      "\n"
     ]
    },
    {
     "name": "stderr",
     "output_type": "stream",
     "text": [
      "100%|█████████████████████████████████████████████| 9/9 [00:05<00:00,  1.55it/s]\n",
      "100%|█████████████████████████████████████████████| 4/4 [00:02<00:00,  1.54it/s]\n"
     ]
    },
    {
     "name": "stdout",
     "output_type": "stream",
     "text": [
      "Epoch : 984 - Train_loss : 0.0002 - Train_Acc: 1.0000 - Val_loss : 0.2623 - Val_Acc: 0.5583  - Time: 8.392078638076782\n",
      "\n"
     ]
    },
    {
     "name": "stderr",
     "output_type": "stream",
     "text": [
      "100%|█████████████████████████████████████████████| 9/9 [00:06<00:00,  1.46it/s]\n",
      "100%|█████████████████████████████████████████████| 4/4 [00:02<00:00,  1.42it/s]\n"
     ]
    },
    {
     "name": "stdout",
     "output_type": "stream",
     "text": [
      "Epoch : 985 - Train_loss : 0.0002 - Train_Acc: 1.0000 - Val_loss : 0.2628 - Val_Acc: 0.5583  - Time: 8.987885475158691\n",
      "\n"
     ]
    },
    {
     "name": "stderr",
     "output_type": "stream",
     "text": [
      "100%|█████████████████████████████████████████████| 9/9 [00:05<00:00,  1.51it/s]\n",
      "100%|█████████████████████████████████████████████| 4/4 [00:02<00:00,  1.52it/s]\n"
     ]
    },
    {
     "name": "stdout",
     "output_type": "stream",
     "text": [
      "Epoch : 986 - Train_loss : 0.0002 - Train_Acc: 1.0000 - Val_loss : 0.2628 - Val_Acc: 0.5583  - Time: 8.611411571502686\n",
      "\n"
     ]
    },
    {
     "name": "stderr",
     "output_type": "stream",
     "text": [
      "100%|█████████████████████████████████████████████| 9/9 [00:05<00:00,  1.56it/s]\n",
      "100%|█████████████████████████████████████████████| 4/4 [00:02<00:00,  1.53it/s]\n"
     ]
    },
    {
     "name": "stdout",
     "output_type": "stream",
     "text": [
      "Epoch : 987 - Train_loss : 0.0001 - Train_Acc: 1.0000 - Val_loss : 0.2636 - Val_Acc: 0.5583  - Time: 8.381531238555908\n",
      "\n"
     ]
    },
    {
     "name": "stderr",
     "output_type": "stream",
     "text": [
      "100%|█████████████████████████████████████████████| 9/9 [00:06<00:00,  1.49it/s]\n",
      "100%|█████████████████████████████████████████████| 4/4 [00:02<00:00,  1.48it/s]\n"
     ]
    },
    {
     "name": "stdout",
     "output_type": "stream",
     "text": [
      "Epoch : 988 - Train_loss : 0.0002 - Train_Acc: 1.0000 - Val_loss : 0.2636 - Val_Acc: 0.5583  - Time: 8.732665777206421\n",
      "\n"
     ]
    },
    {
     "name": "stderr",
     "output_type": "stream",
     "text": [
      "100%|█████████████████████████████████████████████| 9/9 [00:05<00:00,  1.53it/s]\n",
      "100%|█████████████████████████████████████████████| 4/4 [00:02<00:00,  1.55it/s]\n"
     ]
    },
    {
     "name": "stdout",
     "output_type": "stream",
     "text": [
      "Epoch : 989 - Train_loss : 0.0003 - Train_Acc: 1.0000 - Val_loss : 0.2640 - Val_Acc: 0.5583  - Time: 8.475789070129395\n",
      "\n"
     ]
    },
    {
     "name": "stderr",
     "output_type": "stream",
     "text": [
      "100%|█████████████████████████████████████████████| 9/9 [00:05<00:00,  1.53it/s]\n",
      "100%|█████████████████████████████████████████████| 4/4 [00:02<00:00,  1.50it/s]\n"
     ]
    },
    {
     "name": "stdout",
     "output_type": "stream",
     "text": [
      "Epoch : 990 - Train_loss : 0.0001 - Train_Acc: 1.0000 - Val_loss : 0.2636 - Val_Acc: 0.5583  - Time: 8.557480812072754\n",
      "\n"
     ]
    },
    {
     "name": "stderr",
     "output_type": "stream",
     "text": [
      "100%|█████████████████████████████████████████████| 9/9 [00:05<00:00,  1.52it/s]\n",
      "100%|█████████████████████████████████████████████| 4/4 [00:02<00:00,  1.53it/s]\n"
     ]
    },
    {
     "name": "stdout",
     "output_type": "stream",
     "text": [
      "Epoch : 991 - Train_loss : 0.0002 - Train_Acc: 1.0000 - Val_loss : 0.2637 - Val_Acc: 0.5583  - Time: 8.539425373077393\n",
      "\n"
     ]
    },
    {
     "name": "stderr",
     "output_type": "stream",
     "text": [
      "100%|█████████████████████████████████████████████| 9/9 [00:06<00:00,  1.49it/s]\n",
      "100%|█████████████████████████████████████████████| 4/4 [00:02<00:00,  1.53it/s]\n"
     ]
    },
    {
     "name": "stdout",
     "output_type": "stream",
     "text": [
      "Epoch : 992 - Train_loss : 0.0001 - Train_Acc: 1.0000 - Val_loss : 0.2636 - Val_Acc: 0.5583  - Time: 8.652145385742188\n",
      "\n"
     ]
    },
    {
     "name": "stderr",
     "output_type": "stream",
     "text": [
      "100%|█████████████████████████████████████████████| 9/9 [00:05<00:00,  1.51it/s]\n",
      "100%|█████████████████████████████████████████████| 4/4 [00:02<00:00,  1.40it/s]\n"
     ]
    },
    {
     "name": "stdout",
     "output_type": "stream",
     "text": [
      "Epoch : 993 - Train_loss : 0.0001 - Train_Acc: 1.0000 - Val_loss : 0.2636 - Val_Acc: 0.5583  - Time: 8.838052988052368\n",
      "\n"
     ]
    },
    {
     "name": "stderr",
     "output_type": "stream",
     "text": [
      "100%|█████████████████████████████████████████████| 9/9 [00:06<00:00,  1.42it/s]\n",
      "100%|█████████████████████████████████████████████| 4/4 [00:02<00:00,  1.46it/s]\n"
     ]
    },
    {
     "name": "stdout",
     "output_type": "stream",
     "text": [
      "Epoch : 994 - Train_loss : 0.0003 - Train_Acc: 1.0000 - Val_loss : 0.2639 - Val_Acc: 0.5583  - Time: 9.056480407714844\n",
      "\n"
     ]
    },
    {
     "name": "stderr",
     "output_type": "stream",
     "text": [
      "100%|█████████████████████████████████████████████| 9/9 [00:06<00:00,  1.48it/s]\n",
      "100%|█████████████████████████████████████████████| 4/4 [00:02<00:00,  1.50it/s]\n"
     ]
    },
    {
     "name": "stdout",
     "output_type": "stream",
     "text": [
      "Epoch : 995 - Train_loss : 0.0001 - Train_Acc: 1.0000 - Val_loss : 0.2652 - Val_Acc: 0.5583  - Time: 8.765521049499512\n",
      "\n"
     ]
    },
    {
     "name": "stderr",
     "output_type": "stream",
     "text": [
      "100%|█████████████████████████████████████████████| 9/9 [00:06<00:00,  1.49it/s]\n",
      "100%|█████████████████████████████████████████████| 4/4 [00:02<00:00,  1.43it/s]\n"
     ]
    },
    {
     "name": "stdout",
     "output_type": "stream",
     "text": [
      "Epoch : 996 - Train_loss : 0.0002 - Train_Acc: 1.0000 - Val_loss : 0.2659 - Val_Acc: 0.5583  - Time: 8.848079919815063\n",
      "\n"
     ]
    },
    {
     "name": "stderr",
     "output_type": "stream",
     "text": [
      "100%|█████████████████████████████████████████████| 9/9 [00:06<00:00,  1.42it/s]\n",
      "100%|█████████████████████████████████████████████| 4/4 [00:02<00:00,  1.49it/s]\n"
     ]
    },
    {
     "name": "stdout",
     "output_type": "stream",
     "text": [
      "Epoch : 997 - Train_loss : 0.0001 - Train_Acc: 1.0000 - Val_loss : 0.2663 - Val_Acc: 0.5583  - Time: 9.01176142692566\n",
      "\n"
     ]
    },
    {
     "name": "stderr",
     "output_type": "stream",
     "text": [
      "100%|█████████████████████████████████████████████| 9/9 [00:06<00:00,  1.49it/s]\n",
      "100%|█████████████████████████████████████████████| 4/4 [00:02<00:00,  1.50it/s]\n"
     ]
    },
    {
     "name": "stdout",
     "output_type": "stream",
     "text": [
      "Epoch : 998 - Train_loss : 0.0001 - Train_Acc: 1.0000 - Val_loss : 0.2666 - Val_Acc: 0.5583  - Time: 8.707337379455566\n",
      "\n"
     ]
    },
    {
     "name": "stderr",
     "output_type": "stream",
     "text": [
      "100%|█████████████████████████████████████████████| 9/9 [00:06<00:00,  1.48it/s]\n",
      "100%|█████████████████████████████████████████████| 4/4 [00:02<00:00,  1.51it/s]\n"
     ]
    },
    {
     "name": "stdout",
     "output_type": "stream",
     "text": [
      "Epoch : 999 - Train_loss : 0.0002 - Train_Acc: 1.0000 - Val_loss : 0.2677 - Val_Acc: 0.5583  - Time: 8.752086877822876\n",
      "\n"
     ]
    },
    {
     "name": "stderr",
     "output_type": "stream",
     "text": [
      "100%|█████████████████████████████████████████████| 9/9 [00:06<00:00,  1.50it/s]\n",
      "100%|█████████████████████████████████████████████| 4/4 [00:02<00:00,  1.50it/s]"
     ]
    },
    {
     "name": "stdout",
     "output_type": "stream",
     "text": [
      "Epoch : 1000 - Train_loss : 0.0002 - Train_Acc: 1.0000 - Val_loss : 0.2676 - Val_Acc: 0.5583  - Time: 8.681777715682983\n",
      "\n",
      "Finished Training\n"
     ]
    },
    {
     "name": "stderr",
     "output_type": "stream",
     "text": [
      "\n"
     ]
    }
   ],
   "source": [
    "best_acc = 0.0\n",
    "train_accuracy=[]\n",
    "train_loss=[]\n",
    "val_accuracy=[]\n",
    "val_loss=[]\n",
    "for epoch in range(1000):  # loop over the dataset multiple times\n",
    "    t0 = time.time()\n",
    "    \n",
    "    running_corrects = 0\n",
    "    running_loss = 0.0\n",
    "\n",
    "    for data in tqdm(trainloader, 0):\n",
    "        inputs, labels = data[0].to(device), data[1].to(device)\n",
    "        optimizer.zero_grad()\n",
    "        outputs = resnet18_new(inputs)\n",
    "        #print(f' out :{outputs.shape} and label :{labels.shape} and img :{inputs.shape}')\n",
    "        s_out= F.softmax(outputs)\n",
    "        _, preds = torch.max(outputs, 1)\n",
    "        with torch.cuda.amp.autocast():\n",
    "            loss = criterion(outputs, labels)\n",
    "        scaler.scale(loss).backward()\n",
    "        scaler.step(optimizer)\n",
    "        scaler.update()\n",
    "        running_loss += loss.item() * inputs.size(0)\n",
    "        running_corrects += torch.sum(preds == labels.data).cpu()    \n",
    "    epoch_loss = running_loss / len(train_dataset)\n",
    "    epoch_acc = running_corrects / len(train_dataset)\n",
    "    train_accuracy.append(epoch_acc)\n",
    "    train_loss.append(epoch_loss)\n",
    "    writer.add_scalar(\"Loss/train\", epoch_loss, epoch+1)\n",
    "    writer.add_scalar(\"Acc/train\", epoch_acc, epoch+1)    \n",
    "    running_test_loss=0\n",
    "    running_test_correct=0\n",
    "\n",
    "\n",
    "    for data in tqdm(testloader):\n",
    "        images, labels = data[0].to(device), data[1].to(device)\n",
    "        with torch.no_grad():\n",
    "            outputs = resnet18_new(images)\n",
    "            s_out= F.softmax(outputs)\n",
    "        _, predicted = torch.max(outputs.data, 1)\n",
    "        test_loss= criterion(outputs,labels)\n",
    "        running_test_loss=test_loss.item()*images.size(0)\n",
    "        running_test_correct+= torch.sum(predicted == labels.data).cpu()\n",
    "       \n",
    "    epoch_val_loss = running_test_loss / len(val_dataset)\n",
    "    epoch_val_acc = running_test_correct.double() / len(val_dataset) \n",
    "    val_accuracy.append(epoch_val_acc)\n",
    "    val_loss.append(epoch_val_loss)\n",
    "    writer.add_scalar(\"Loss/Val\", epoch_val_loss, epoch+1)\n",
    "    writer.add_scalar(\"Acc/Val\", epoch_val_acc, epoch+1)\n",
    "    print(f\"Epoch : {epoch+1} - Train_loss : {epoch_loss:.4f} - Train_Acc: {epoch_acc:.4f} - Val_loss : {epoch_val_loss:.4f} - Val_Acc: {epoch_val_acc:.4f}  - Time: {time.time() - t0}\\n\")\n",
    "    if epoch_val_acc > best_acc:\n",
    "        best_acc = epoch_val_acc\n",
    "        best_model_wts = copy.deepcopy(resnet18_new.state_dict())\n",
    "        \n",
    "#torch.save(best_model_wts, PATH)\n",
    "print('Finished Training')"
   ]
  },
  {
   "cell_type": "code",
   "execution_count": null,
   "id": "8ab6442e",
   "metadata": {},
   "outputs": [],
   "source": [
    "from matplotlib import pyplot as plt\n",
    "import numpy as np\n",
    "epochs_range = range(1000) # the x-axis of both the plots wil have the epoch ranges mentioned during each training specification.\n",
    "# To plot validation accuracy versus each training epoch\n",
    "plt.figure(figsize=(15, 8))\n",
    "plt.subplot(1, 2, 1)\n",
    "plt.plot(epochs_range, train_accuracy, label='Training Accuracy')\n",
    "plt.plot(epochs_range, np.array(val_accuracy), label='Validation Accuracy')\n",
    "plt.ylabel('Accuracy')\n",
    "plt.xlabel('No of Epochs')\n",
    "plt.legend(loc='lower right')\n",
    "plt.title('Training Accuracy')\n",
    "\n",
    "plt.subplot(1, 2, 2)\n",
    "plt.plot(epochs_range, np.array(train_loss), label='Training Loss')\n",
    "plt.plot(epochs_range, np.array(val_loss), label='Validation Loss')\n",
    "plt.ylabel('Loss')\n",
    "plt.xlabel('No of Epochs')\n",
    "plt.legend(loc='lower right')\n",
    "plt.title('Validation Loss')"
   ]
  },
  {
   "cell_type": "code",
   "execution_count": null,
   "id": "d40a4a1b",
   "metadata": {},
   "outputs": [],
   "source": []
  },
  {
   "cell_type": "code",
   "execution_count": null,
   "id": "1a10d695",
   "metadata": {},
   "outputs": [],
   "source": []
  }
 ],
 "metadata": {
  "kernelspec": {
   "display_name": "Python 3 (ipykernel)",
   "language": "python",
   "name": "python3"
  },
  "language_info": {
   "codemirror_mode": {
    "name": "ipython",
    "version": 3
   },
   "file_extension": ".py",
   "mimetype": "text/x-python",
   "name": "python",
   "nbconvert_exporter": "python",
   "pygments_lexer": "ipython3",
   "version": "3.8.10"
  }
 },
 "nbformat": 4,
 "nbformat_minor": 5
}
